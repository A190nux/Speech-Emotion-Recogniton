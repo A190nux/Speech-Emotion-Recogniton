{
  "nbformat": 4,
  "nbformat_minor": 0,
  "metadata": {
    "colab": {
      "provenance": [],
      "gpuType": "T4",
      "include_colab_link": true
    },
    "kernelspec": {
      "name": "python3",
      "display_name": "Python 3"
    },
    "language_info": {
      "name": "python"
    },
    "accelerator": "GPU",
    "gpuClass": "standard"
  },
  "cells": [
    {
      "cell_type": "markdown",
      "metadata": {
        "id": "view-in-github",
        "colab_type": "text"
      },
      "source": [
        "<a href=\"https://colab.research.google.com/github/A190nux/Speech-Emotion-Recogniton/blob/main/speech1_opt2.ipynb\" target=\"_parent\"><img src=\"https://colab.research.google.com/assets/colab-badge.svg\" alt=\"Open In Colab\"/></a>"
      ]
    },
    {
      "cell_type": "code",
      "source": [
        "import numpy as np\n",
        "import pandas as pd\n",
        "import matplotlib.pyplot as plt\n",
        "from pathlib import Path\n",
        "from scipy.io import wavfile\n",
        "import os.path\n",
        "import IPython.display\n",
        "import seaborn as sns\n",
        "import librosa\n",
        "import librosa.display\n",
        "import soundfile\n",
        "\n",
        "from sklearn.model_selection import train_test_split\n",
        "from sklearn.preprocessing import StandardScaler, LabelEncoder\n",
        "from sklearn.metrics import confusion_matrix\n",
        "\n",
        "import tensorflow as tf\n",
        "from tensorflow.keras import utils\n",
        "from keras.models import Sequential\n",
        "from keras.layers import Dense, Dropout, Activation, Conv1D, MaxPool1D, Flatten, BatchNormalization, ReLU\n",
        "from keras import optimizers\n",
        "from sklearn.preprocessing import StandardScaler\n",
        "\n",
        "import warnings"
      ],
      "metadata": {
        "id": "ia-kxB92fN7m"
      },
      "execution_count": null,
      "outputs": []
    },
    {
      "cell_type": "code",
      "source": [
        "!pip install pydub"
      ],
      "metadata": {
        "colab": {
          "base_uri": "https://localhost:8080/"
        },
        "id": "qYqfTVd-ACo1",
        "outputId": "a678391f-cae0-422e-f012-65aaf416d1bd"
      },
      "execution_count": null,
      "outputs": [
        {
          "output_type": "stream",
          "name": "stdout",
          "text": [
            "Looking in indexes: https://pypi.org/simple, https://us-python.pkg.dev/colab-wheels/public/simple/\n",
            "Requirement already satisfied: pydub in /usr/local/lib/python3.10/dist-packages (0.25.1)\n"
          ]
        }
      ]
    },
    {
      "cell_type": "code",
      "source": [
        "import re\n",
        "import os\n",
        "import wave\n",
        "import glob\n",
        "import numpy as np\n",
        "import pandas as pd\n",
        "import matplotlib.pyplot as plt\n",
        "from pydub import AudioSegment\n",
        "from IPython.display import Audio, display\n",
        "import librosa as lib\n",
        "import librosa.display\n",
        "\n",
        "from google.colab import drive\n",
        "drive.mount('/content/drive')"
      ],
      "metadata": {
        "colab": {
          "base_uri": "https://localhost:8080/"
        },
        "id": "41Ep1fpfSEWa",
        "outputId": "c5033905-d598-4ddc-d25b-c8a8244f13ae"
      },
      "execution_count": null,
      "outputs": [
        {
          "output_type": "stream",
          "name": "stdout",
          "text": [
            "Drive already mounted at /content/drive; to attempt to forcibly remount, call drive.mount(\"/content/drive\", force_remount=True).\n"
          ]
        }
      ]
    },
    {
      "cell_type": "code",
      "source": [
        "import tensorflow as tf\n",
        "print(\"TensorFlow version:\", tf.__version__)\n",
        "\n",
        "from tensorflow.keras.layers import Dense, Flatten, Conv2D, MaxPool2D\n",
        "from tensorflow.keras import Model\n",
        "\n",
        "from sklearn.model_selection import train_test_split"
      ],
      "metadata": {
        "id": "23ihbA4UQk6k",
        "colab": {
          "base_uri": "https://localhost:8080/"
        },
        "outputId": "ab3f1207-d84a-466a-a454-e9e55bc486d1"
      },
      "execution_count": null,
      "outputs": [
        {
          "output_type": "stream",
          "name": "stdout",
          "text": [
            "TensorFlow version: 2.12.0\n"
          ]
        }
      ]
    },
    {
      "cell_type": "code",
      "source": [
        "from tensorflow.python.keras.callbacks import ModelCheckpoint\n",
        "from tensorflow.keras.callbacks import ModelCheckpoint, EarlyStopping\n",
        "from sklearn.decomposition import PCA"
      ],
      "metadata": {
        "id": "l4PcAo6oIbbv"
      },
      "execution_count": null,
      "outputs": []
    },
    {
      "cell_type": "code",
      "source": [
        "\n",
        "PATH = \"/content/drive/MyDrive/Colab-Notebooks/Crema\"\n",
        "AUDIO_PATH = \"/content/drive/MyDrive/Colab-Notebooks/Crema/1001_DFA_ANG_XX.wav\""
      ],
      "metadata": {
        "id": "bG0Iuy17RwCX"
      },
      "execution_count": null,
      "outputs": []
    },
    {
      "cell_type": "code",
      "source": [
        "def zeroCrossingRate(audio):\n",
        "  return lib.feature.zero_crossing_rate(audio)"
      ],
      "metadata": {
        "id": "hZRUzrRHI3x4"
      },
      "execution_count": null,
      "outputs": []
    },
    {
      "cell_type": "code",
      "source": [
        "def energy(audio):\n",
        "  # using a spectrogram will give a more accurate representation\n",
        "  # of energy over time because its frames can be windowed\n",
        "  S, phase = lib.magphase(lib.stft(audio))\n",
        "  return lib.feature.rms(S=S).mean()"
      ],
      "metadata": {
        "id": "YUj1b0stI8Jp"
      },
      "execution_count": null,
      "outputs": []
    },
    {
      "cell_type": "code",
      "source": [
        "def melSpectrogram(audio, sr):\n",
        "  mel_spectrogram = lib.feature.melspectrogram(y=audio, sr=sr, n_fft=200)\n",
        "  log_mel_spectrogram = librosa.power_to_db(mel_spectrogram)\n",
        "  return log_mel_spectrogram.mean()"
      ],
      "metadata": {
        "id": "t03kfNaMJEUx"
      },
      "execution_count": null,
      "outputs": []
    },
    {
      "cell_type": "code",
      "source": [
        "def chromaStft(audio, sr):\n",
        "  stft = np.abs(librosa.stft(audio))\n",
        "  return librosa.feature.chroma_stft(S=stft, sr=sr, n_fft=200).mean()"
      ],
      "metadata": {
        "id": "RFqdKI4dj-sx"
      },
      "execution_count": null,
      "outputs": []
    },
    {
      "cell_type": "code",
      "source": [
        "def mfcc(data, sr):\n",
        "  return librosa.feature.mfcc(y=data, sr=sr, n_fft=200).mean()"
      ],
      "metadata": {
        "id": "bwJma-zak5ai"
      },
      "execution_count": null,
      "outputs": []
    },
    {
      "cell_type": "code",
      "source": [
        "def tonnetz(data, sr):\n",
        "  return librosa.feature.tonnetz(y=data, sr=sr).mean();"
      ],
      "metadata": {
        "id": "fHiHGyRoqeAa"
      },
      "execution_count": null,
      "outputs": []
    },
    {
      "cell_type": "code",
      "source": [
        "def playAudio(audio_file):\n",
        "  audio = AudioSegment.from_wav(audio_file)\n",
        "  # Play the audio\n",
        "  audio.export('temp_audio.wav', format='wav')\n",
        "  audio_data = open('temp_audio.wav', 'rb').read()\n",
        "  display(Audio(audio_data))\n",
        "  # Delete the temporary audio file\n",
        "  os.remove('temp_audio.wav')"
      ],
      "metadata": {
        "id": "GZLRcaVEinfV"
      },
      "execution_count": null,
      "outputs": []
    },
    {
      "cell_type": "code",
      "source": [
        "def visualize_waveform(audio, sr):\n",
        "    plt.figure(figsize=(12, 4))\n",
        "    plt.plot(audio)\n",
        "    plt.xlabel('Time')\n",
        "    plt.ylabel('Amplitude')\n",
        "    plt.title('Waveform')\n",
        "    plt.show()"
      ],
      "metadata": {
        "id": "VErUAYc_mIzR"
      },
      "execution_count": null,
      "outputs": []
    },
    {
      "cell_type": "code",
      "source": [
        "def loadAndListenToAudiolib(dataset_path, class_name):\n",
        "  D, Y = [], []\n",
        "  # defining the regular expression\n",
        "  audio_files = glob.glob(os.path.join(dataset_path, f\"*{class_name}*.wav\"))\n",
        "  print(class_name)\n",
        "  # play the audio\n",
        "  '''playAudio(audio_files[0])'''\n",
        "  # plot the spectrum\n",
        "  '''audio, sr = lib.load(audio_files[0])'''\n",
        "  '''visualize_waveform(audio, sr)'''\n",
        "  # plotWaveform(audio_files[0], class_name)\n",
        "  for audio_file in audio_files: \n",
        "    # load the audio file\n",
        "    audio, sr = lib.load(audio_file)\n",
        "    # extract zero crossing rate\n",
        "    zcr = zeroCrossingRate(audio)\n",
        "    # extract energy\n",
        "    rms = energy(audio)\n",
        "    # extract mel spectrogram\n",
        "    mel_spec = melSpectrogram(audio, sr)\n",
        "    # chroma stft\n",
        "    cs = chromaStft(audio, sr)\n",
        "    mfc = mfcc(audio, sr)\n",
        "    '''ton = tonnetz(audio, sr)'''\n",
        "    combined_features = np.concatenate(([rms, mel_spec, cs, mfc], (np.pad(zcr[0], (0, 300 - len(zcr[0]))))))\n",
        "    \"\"\"print(len(combined_features))\"\"\"\n",
        "    '''combined_features = [zcr, rms, mel_spec, cs, mfc, ton]'''\n",
        "    # print(combined_features)\n",
        "    '''D.append(combined_features)'''\n",
        "    D.append(combined_features)\n",
        "    Y.append(class_name)\n",
        "  return D, Y"
      ],
      "metadata": {
        "id": "IsHsSI2rrbMa"
      },
      "execution_count": null,
      "outputs": []
    },
    {
      "cell_type": "code",
      "source": [
        "def loadDatalib(PATH):\n",
        "  D, Y = [], []\n",
        "  classes = [\"SAD\", \"ANG\", \"DIS\", \"FEA\", \"HAP\", \"NEU\"]\n",
        "  for cls in classes: \n",
        "    d, y = loadAndListenToAudiolib(PATH, cls)\n",
        "    # D = np.concatenate((D, d))\n",
        "    D.extend(d)\n",
        "    Y = np.concatenate((Y, y))\n",
        "  return D, Y"
      ],
      "metadata": {
        "id": "sHubX5-dsmWa"
      },
      "execution_count": null,
      "outputs": []
    },
    {
      "cell_type": "code",
      "source": [
        "'''\n",
        "D, Y = loadDatalib(PATH)\n",
        "'''"
      ],
      "metadata": {
        "id": "OcBJBL3tLS2O",
        "colab": {
          "base_uri": "https://localhost:8080/",
          "height": 35
        },
        "outputId": "958902b3-7fdc-4d0d-b5d5-4c7c12ece285"
      },
      "execution_count": null,
      "outputs": [
        {
          "output_type": "execute_result",
          "data": {
            "text/plain": [
              "'\\nD, Y = loadDatalib(PATH)\\n'"
            ],
            "application/vnd.google.colaboratory.intrinsic+json": {
              "type": "string"
            }
          },
          "metadata": {},
          "execution_count": 16
        }
      ]
    },
    {
      "cell_type": "code",
      "source": [
        "import pickle"
      ],
      "metadata": {
        "id": "NN5OcAvrvavT"
      },
      "execution_count": null,
      "outputs": []
    },
    {
      "cell_type": "code",
      "source": [
        "'''\n",
        "# Open a file to write the variable to\n",
        "with open(\"D.pkl\", \"wb\") as f:\n",
        "\n",
        "    # Pickle the variable to the file\n",
        "    pickle.dump(D, f)\n",
        "\n",
        "# Close the file\n",
        "f.close()\n",
        "'''"
      ],
      "metadata": {
        "colab": {
          "base_uri": "https://localhost:8080/",
          "height": 35
        },
        "id": "O_9LLMfSvfCB",
        "outputId": "a1c0e5d1-d13a-46ff-8121-c8f91142e1df"
      },
      "execution_count": null,
      "outputs": [
        {
          "output_type": "execute_result",
          "data": {
            "text/plain": [
              "'\\n# Open a file to write the variable to\\nwith open(\"D.pkl\", \"wb\") as f:\\n\\n    # Pickle the variable to the file\\n    pickle.dump(D, f)\\n\\n# Close the file\\nf.close()\\n'"
            ],
            "application/vnd.google.colaboratory.intrinsic+json": {
              "type": "string"
            }
          },
          "metadata": {},
          "execution_count": 18
        }
      ]
    },
    {
      "cell_type": "code",
      "source": [
        "'''\n",
        "# Open a file to write the variable to\n",
        "with open(\"Y.pkl\", \"wb\") as f:\n",
        "\n",
        "    # Pickle the variable to the file\n",
        "    pickle.dump(Y, f)\n",
        "\n",
        "# Close the file\n",
        "f.close()\n",
        "'''"
      ],
      "metadata": {
        "colab": {
          "base_uri": "https://localhost:8080/",
          "height": 35
        },
        "id": "5tYb9gK-vagp",
        "outputId": "1e0868a6-e072-4fb3-df64-0a92ef31c526"
      },
      "execution_count": null,
      "outputs": [
        {
          "output_type": "execute_result",
          "data": {
            "text/plain": [
              "'\\n# Open a file to write the variable to\\nwith open(\"Y.pkl\", \"wb\") as f:\\n\\n    # Pickle the variable to the file\\n    pickle.dump(Y, f)\\n\\n# Close the file\\nf.close()\\n'"
            ],
            "application/vnd.google.colaboratory.intrinsic+json": {
              "type": "string"
            }
          },
          "metadata": {},
          "execution_count": 19
        }
      ]
    },
    {
      "cell_type": "code",
      "source": [
        "# Open the file to read the variable from\n",
        "with open(\"D.pkl\", \"rb\") as f:\n",
        "\n",
        "    # Load the variable from the file\n",
        "    D = pickle.load(f)\n",
        "\n",
        "# Close the file\n",
        "f.close()"
      ],
      "metadata": {
        "id": "L8vkjy7rvaev"
      },
      "execution_count": null,
      "outputs": []
    },
    {
      "cell_type": "code",
      "source": [
        "# Open the file to read the variable from\n",
        "with open(\"Y.pkl\", \"rb\") as f:\n",
        "\n",
        "    # Load the variable from the file\n",
        "    Y = pickle.load(f)\n",
        "\n",
        "# Close the file\n",
        "f.close()"
      ],
      "metadata": {
        "id": "yyI66ecnvZ7d"
      },
      "execution_count": null,
      "outputs": []
    },
    {
      "cell_type": "code",
      "source": [
        "pca = PCA(n_components=100)\n",
        "D = pca.fit_transform(D)"
      ],
      "metadata": {
        "id": "o56JdCTDIizG"
      },
      "execution_count": null,
      "outputs": []
    },
    {
      "cell_type": "code",
      "source": [
        "scaler = StandardScaler()\n",
        "D = scaler.fit_transform(D)"
      ],
      "metadata": {
        "id": "l8YDKWJ3zg1I"
      },
      "execution_count": null,
      "outputs": []
    },
    {
      "cell_type": "code",
      "source": [
        "D = np.array(D)\n",
        "D.shape"
      ],
      "metadata": {
        "id": "srtVtP5lIdrm",
        "colab": {
          "base_uri": "https://localhost:8080/"
        },
        "outputId": "4051100d-021e-45eb-9f94-02d7ce4f2bc1"
      },
      "execution_count": null,
      "outputs": [
        {
          "output_type": "execute_result",
          "data": {
            "text/plain": [
              "(7442, 304)"
            ]
          },
          "metadata": {},
          "execution_count": 23
        }
      ]
    },
    {
      "cell_type": "code",
      "source": [
        "D"
      ],
      "metadata": {
        "colab": {
          "base_uri": "https://localhost:8080/"
        },
        "id": "QzQXhb1w13e-",
        "outputId": "24658063-2ab7-43c8-d7d1-9513750401cf"
      },
      "execution_count": null,
      "outputs": [
        {
          "output_type": "execute_result",
          "data": {
            "text/plain": [
              "array([[-0.69282938, -1.36252996,  0.69473674, ...,  0.        ,\n",
              "         0.        ,  0.        ],\n",
              "       [-0.72519803, -1.31962175,  1.29348184, ...,  0.        ,\n",
              "         0.        ,  0.        ],\n",
              "       [-0.56897265, -0.64803653, -0.41303372, ...,  0.        ,\n",
              "         0.        ,  0.        ],\n",
              "       ...,\n",
              "       [-0.53791409, -0.16556313,  0.76860439, ...,  0.        ,\n",
              "         0.        ,  0.        ],\n",
              "       [-0.29328666,  0.04421738, -1.5261853 , ...,  0.        ,\n",
              "         0.        ,  0.        ],\n",
              "       [-0.46041624, -0.39200239, -0.65966204, ...,  0.        ,\n",
              "         0.        ,  0.        ]])"
            ]
          },
          "metadata": {},
          "execution_count": 24
        }
      ]
    },
    {
      "cell_type": "code",
      "source": [
        "Y.shape"
      ],
      "metadata": {
        "id": "X6FCElq7I01d",
        "colab": {
          "base_uri": "https://localhost:8080/"
        },
        "outputId": "bf5193dc-78a8-4788-e186-31ff5d307069"
      },
      "execution_count": null,
      "outputs": [
        {
          "output_type": "execute_result",
          "data": {
            "text/plain": [
              "(7442,)"
            ]
          },
          "metadata": {},
          "execution_count": 25
        }
      ]
    },
    {
      "cell_type": "code",
      "source": [
        "df = pd.DataFrame(Y)"
      ],
      "metadata": {
        "id": "pKCQdLtHJU3g"
      },
      "execution_count": null,
      "outputs": []
    },
    {
      "cell_type": "code",
      "source": [
        "df.head()"
      ],
      "metadata": {
        "id": "APTvq_yvW_6P",
        "colab": {
          "base_uri": "https://localhost:8080/",
          "height": 206
        },
        "outputId": "e3ce0d3f-fce0-40fd-ac76-eec168b2d183"
      },
      "execution_count": null,
      "outputs": [
        {
          "output_type": "execute_result",
          "data": {
            "text/plain": [
              "     0\n",
              "0  SAD\n",
              "1  SAD\n",
              "2  SAD\n",
              "3  SAD\n",
              "4  SAD"
            ],
            "text/html": [
              "\n",
              "  <div id=\"df-75299996-2919-4d90-88a8-326dae5fe213\">\n",
              "    <div class=\"colab-df-container\">\n",
              "      <div>\n",
              "<style scoped>\n",
              "    .dataframe tbody tr th:only-of-type {\n",
              "        vertical-align: middle;\n",
              "    }\n",
              "\n",
              "    .dataframe tbody tr th {\n",
              "        vertical-align: top;\n",
              "    }\n",
              "\n",
              "    .dataframe thead th {\n",
              "        text-align: right;\n",
              "    }\n",
              "</style>\n",
              "<table border=\"1\" class=\"dataframe\">\n",
              "  <thead>\n",
              "    <tr style=\"text-align: right;\">\n",
              "      <th></th>\n",
              "      <th>0</th>\n",
              "    </tr>\n",
              "  </thead>\n",
              "  <tbody>\n",
              "    <tr>\n",
              "      <th>0</th>\n",
              "      <td>SAD</td>\n",
              "    </tr>\n",
              "    <tr>\n",
              "      <th>1</th>\n",
              "      <td>SAD</td>\n",
              "    </tr>\n",
              "    <tr>\n",
              "      <th>2</th>\n",
              "      <td>SAD</td>\n",
              "    </tr>\n",
              "    <tr>\n",
              "      <th>3</th>\n",
              "      <td>SAD</td>\n",
              "    </tr>\n",
              "    <tr>\n",
              "      <th>4</th>\n",
              "      <td>SAD</td>\n",
              "    </tr>\n",
              "  </tbody>\n",
              "</table>\n",
              "</div>\n",
              "      <button class=\"colab-df-convert\" onclick=\"convertToInteractive('df-75299996-2919-4d90-88a8-326dae5fe213')\"\n",
              "              title=\"Convert this dataframe to an interactive table.\"\n",
              "              style=\"display:none;\">\n",
              "        \n",
              "  <svg xmlns=\"http://www.w3.org/2000/svg\" height=\"24px\"viewBox=\"0 0 24 24\"\n",
              "       width=\"24px\">\n",
              "    <path d=\"M0 0h24v24H0V0z\" fill=\"none\"/>\n",
              "    <path d=\"M18.56 5.44l.94 2.06.94-2.06 2.06-.94-2.06-.94-.94-2.06-.94 2.06-2.06.94zm-11 1L8.5 8.5l.94-2.06 2.06-.94-2.06-.94L8.5 2.5l-.94 2.06-2.06.94zm10 10l.94 2.06.94-2.06 2.06-.94-2.06-.94-.94-2.06-.94 2.06-2.06.94z\"/><path d=\"M17.41 7.96l-1.37-1.37c-.4-.4-.92-.59-1.43-.59-.52 0-1.04.2-1.43.59L10.3 9.45l-7.72 7.72c-.78.78-.78 2.05 0 2.83L4 21.41c.39.39.9.59 1.41.59.51 0 1.02-.2 1.41-.59l7.78-7.78 2.81-2.81c.8-.78.8-2.07 0-2.86zM5.41 20L4 18.59l7.72-7.72 1.47 1.35L5.41 20z\"/>\n",
              "  </svg>\n",
              "      </button>\n",
              "      \n",
              "  <style>\n",
              "    .colab-df-container {\n",
              "      display:flex;\n",
              "      flex-wrap:wrap;\n",
              "      gap: 12px;\n",
              "    }\n",
              "\n",
              "    .colab-df-convert {\n",
              "      background-color: #E8F0FE;\n",
              "      border: none;\n",
              "      border-radius: 50%;\n",
              "      cursor: pointer;\n",
              "      display: none;\n",
              "      fill: #1967D2;\n",
              "      height: 32px;\n",
              "      padding: 0 0 0 0;\n",
              "      width: 32px;\n",
              "    }\n",
              "\n",
              "    .colab-df-convert:hover {\n",
              "      background-color: #E2EBFA;\n",
              "      box-shadow: 0px 1px 2px rgba(60, 64, 67, 0.3), 0px 1px 3px 1px rgba(60, 64, 67, 0.15);\n",
              "      fill: #174EA6;\n",
              "    }\n",
              "\n",
              "    [theme=dark] .colab-df-convert {\n",
              "      background-color: #3B4455;\n",
              "      fill: #D2E3FC;\n",
              "    }\n",
              "\n",
              "    [theme=dark] .colab-df-convert:hover {\n",
              "      background-color: #434B5C;\n",
              "      box-shadow: 0px 1px 3px 1px rgba(0, 0, 0, 0.15);\n",
              "      filter: drop-shadow(0px 1px 2px rgba(0, 0, 0, 0.3));\n",
              "      fill: #FFFFFF;\n",
              "    }\n",
              "  </style>\n",
              "\n",
              "      <script>\n",
              "        const buttonEl =\n",
              "          document.querySelector('#df-75299996-2919-4d90-88a8-326dae5fe213 button.colab-df-convert');\n",
              "        buttonEl.style.display =\n",
              "          google.colab.kernel.accessAllowed ? 'block' : 'none';\n",
              "\n",
              "        async function convertToInteractive(key) {\n",
              "          const element = document.querySelector('#df-75299996-2919-4d90-88a8-326dae5fe213');\n",
              "          const dataTable =\n",
              "            await google.colab.kernel.invokeFunction('convertToInteractive',\n",
              "                                                     [key], {});\n",
              "          if (!dataTable) return;\n",
              "\n",
              "          const docLinkHtml = 'Like what you see? Visit the ' +\n",
              "            '<a target=\"_blank\" href=https://colab.research.google.com/notebooks/data_table.ipynb>data table notebook</a>'\n",
              "            + ' to learn more about interactive tables.';\n",
              "          element.innerHTML = '';\n",
              "          dataTable['output_type'] = 'display_data';\n",
              "          await google.colab.output.renderOutput(dataTable, element);\n",
              "          const docLink = document.createElement('div');\n",
              "          docLink.innerHTML = docLinkHtml;\n",
              "          element.appendChild(docLink);\n",
              "        }\n",
              "      </script>\n",
              "    </div>\n",
              "  </div>\n",
              "  "
            ]
          },
          "metadata": {},
          "execution_count": 27
        }
      ]
    },
    {
      "cell_type": "code",
      "source": [
        "# Use the get_dummies() method to one-hot encode the labels\n",
        "one_hot_labels = pd.get_dummies(df)\n",
        "\n",
        "# Convert the DataFrame to a NumPy array\n",
        "one_hot_labels = one_hot_labels.to_numpy()\n",
        "\n",
        "print(one_hot_labels.shape)"
      ],
      "metadata": {
        "id": "hSuuqU8YW-pj",
        "colab": {
          "base_uri": "https://localhost:8080/"
        },
        "outputId": "495c4c7f-7878-4863-edd1-4354adc105ce"
      },
      "execution_count": null,
      "outputs": [
        {
          "output_type": "stream",
          "name": "stdout",
          "text": [
            "(7442, 6)\n"
          ]
        }
      ]
    },
    {
      "cell_type": "code",
      "source": [
        "Y = one_hot_labels"
      ],
      "metadata": {
        "id": "A5oOIKMWXEyr"
      },
      "execution_count": null,
      "outputs": []
    },
    {
      "cell_type": "code",
      "source": [
        "Y.shape"
      ],
      "metadata": {
        "id": "UfZhBxf5XQbf",
        "colab": {
          "base_uri": "https://localhost:8080/"
        },
        "outputId": "19d98cfc-a5da-4c8c-c66e-2edad8ecb521"
      },
      "execution_count": null,
      "outputs": [
        {
          "output_type": "execute_result",
          "data": {
            "text/plain": [
              "(7442, 6)"
            ]
          },
          "metadata": {},
          "execution_count": 30
        }
      ]
    },
    {
      "cell_type": "code",
      "source": [
        "X_train, X_test, y_train, y_test = train_test_split(D, Y, test_size=0.05, random_state=69, shuffle=True, stratify=Y)"
      ],
      "metadata": {
        "id": "_8p_f52KRIHo"
      },
      "execution_count": null,
      "outputs": []
    },
    {
      "cell_type": "code",
      "source": [
        "print(X_train.shape)\n",
        "print(X_test.shape)\n",
        "print(y_train.shape)\n",
        "print(y_test.shape)"
      ],
      "metadata": {
        "id": "YpxgNsNNYY6L",
        "colab": {
          "base_uri": "https://localhost:8080/"
        },
        "outputId": "a3a057c3-113e-4aea-c9e2-dec986bb9cec"
      },
      "execution_count": null,
      "outputs": [
        {
          "output_type": "stream",
          "name": "stdout",
          "text": [
            "(7069, 304)\n",
            "(373, 304)\n",
            "(7069, 6)\n",
            "(373, 6)\n"
          ]
        }
      ]
    },
    {
      "cell_type": "code",
      "source": [
        "X_train = X_train.reshape((X_train.shape[0], X_train.shape[1], 1))\n",
        "X_test = X_test.reshape((X_test.shape[0], X_test.shape[1], 1))"
      ],
      "metadata": {
        "id": "Y1sK4j5Ubnhu"
      },
      "execution_count": null,
      "outputs": []
    },
    {
      "cell_type": "code",
      "source": [
        "print(X_train.shape, X_test.shape)"
      ],
      "metadata": {
        "id": "9w6_MobXNagQ",
        "outputId": "d3739472-02c1-437e-f265-ddec7cde350c",
        "colab": {
          "base_uri": "https://localhost:8080/"
        }
      },
      "execution_count": null,
      "outputs": [
        {
          "output_type": "stream",
          "name": "stdout",
          "text": [
            "(7069, 304, 1) (373, 304, 1)\n"
          ]
        }
      ]
    },
    {
      "cell_type": "code",
      "source": [
        "unicheck = np.unique(y_test, axis=0)"
      ],
      "metadata": {
        "id": "MNkEcVh8Yh9X"
      },
      "execution_count": null,
      "outputs": []
    },
    {
      "cell_type": "code",
      "source": [
        "unicheck"
      ],
      "metadata": {
        "id": "AVdqdhg6ZMmg",
        "colab": {
          "base_uri": "https://localhost:8080/"
        },
        "outputId": "27246962-2bbe-4aeb-ffaa-e4e1472bf391"
      },
      "execution_count": null,
      "outputs": [
        {
          "output_type": "execute_result",
          "data": {
            "text/plain": [
              "array([[0, 0, 0, 0, 0, 1],\n",
              "       [0, 0, 0, 0, 1, 0],\n",
              "       [0, 0, 0, 1, 0, 0],\n",
              "       [0, 0, 1, 0, 0, 0],\n",
              "       [0, 1, 0, 0, 0, 0],\n",
              "       [1, 0, 0, 0, 0, 0]], dtype=uint8)"
            ]
          },
          "metadata": {},
          "execution_count": 36
        }
      ]
    },
    {
      "cell_type": "code",
      "source": [
        "X_train.shape"
      ],
      "metadata": {
        "colab": {
          "base_uri": "https://localhost:8080/"
        },
        "id": "ALUFxmAQbXES",
        "outputId": "24949ce7-d5dc-417c-a99e-1451c4fd6db0"
      },
      "execution_count": null,
      "outputs": [
        {
          "output_type": "execute_result",
          "data": {
            "text/plain": [
              "(7069, 304, 1)"
            ]
          },
          "metadata": {},
          "execution_count": 37
        }
      ]
    },
    {
      "cell_type": "code",
      "source": [
        "model = Sequential()\n",
        "model.add(Conv1D(32, 3, input_shape=(X_train.shape[1], 1), kernel_regularizer='l2'))\n",
        "model.add(BatchNormalization(axis=1))\n",
        "model.add(ReLU())\n",
        "model.add(MaxPool1D(pool_size=3))\n",
        "\n",
        "model.add(Conv1D(64, 3, kernel_regularizer='l2'))\n",
        "model.add(BatchNormalization(axis=1))\n",
        "model.add(ReLU())\n",
        "model.add(MaxPool1D(pool_size=3))\n",
        "\n",
        "model.add(Conv1D(128, 3, kernel_regularizer='l2'))\n",
        "model.add(BatchNormalization(axis=1))\n",
        "model.add(ReLU())\n",
        "model.add(MaxPool1D(pool_size=3))\n",
        "\n",
        "model.add(Conv1D(256, 3, kernel_regularizer='l2'))\n",
        "model.add(BatchNormalization(axis=1))\n",
        "model.add(ReLU())\n",
        "model.add(MaxPool1D(pool_size=3))\n",
        "\n",
        "model.add(Flatten())\n",
        "model.add(Dense(128, kernel_regularizer='l2'))\n",
        "model.add(BatchNormalization(axis=1))\n",
        "model.add(ReLU())\n",
        "model.add(Dropout(0.3))\n",
        "\n",
        "model.add(Dense(64, kernel_regularizer='l2'))\n",
        "model.add(BatchNormalization(axis=1))\n",
        "model.add(ReLU())\n",
        "model.add(Dropout(0.3))\n",
        "\n",
        "model.add(Dense(32, kernel_regularizer='l2'))\n",
        "model.add(BatchNormalization(axis=1))\n",
        "model.add(ReLU())\n",
        "model.add(Dropout(0.3))\n",
        "\n",
        "model.add(Dense(6, activation='softmax'))\n",
        "\n",
        "model.compile(loss='categorical_crossentropy',\n",
        "             optimizer=optimizers.Adam(learning_rate=0.00005),\n",
        "             metrics=['accuracy'])\n",
        "\n",
        "model.summary()\n",
        "\n",
        "callbacks = [EarlyStopping(monitor='val_loss', patience=5)]"
      ],
      "metadata": {
        "id": "1hbH-j7P6ZZ1",
        "outputId": "9218ddf7-aeb0-435b-ecb3-1e5fa9d99402",
        "colab": {
          "base_uri": "https://localhost:8080/"
        }
      },
      "execution_count": null,
      "outputs": [
        {
          "output_type": "stream",
          "name": "stdout",
          "text": [
            "Model: \"sequential_8\"\n",
            "_________________________________________________________________\n",
            " Layer (type)                Output Shape              Param #   \n",
            "=================================================================\n",
            " conv1d_32 (Conv1D)          (None, 302, 16)           64        \n",
            "                                                                 \n",
            " batch_normalization_53 (Bat  (None, 302, 16)          1208      \n",
            " chNormalization)                                                \n",
            "                                                                 \n",
            " re_lu_53 (ReLU)             (None, 302, 16)           0         \n",
            "                                                                 \n",
            " max_pooling1d_31 (MaxPoolin  (None, 100, 16)          0         \n",
            " g1D)                                                            \n",
            "                                                                 \n",
            " conv1d_33 (Conv1D)          (None, 98, 32)            1568      \n",
            "                                                                 \n",
            " batch_normalization_54 (Bat  (None, 98, 32)           392       \n",
            " chNormalization)                                                \n",
            "                                                                 \n",
            " re_lu_54 (ReLU)             (None, 98, 32)            0         \n",
            "                                                                 \n",
            " max_pooling1d_32 (MaxPoolin  (None, 32, 32)           0         \n",
            " g1D)                                                            \n",
            "                                                                 \n",
            " conv1d_34 (Conv1D)          (None, 30, 64)            6208      \n",
            "                                                                 \n",
            " batch_normalization_55 (Bat  (None, 30, 64)           120       \n",
            " chNormalization)                                                \n",
            "                                                                 \n",
            " re_lu_55 (ReLU)             (None, 30, 64)            0         \n",
            "                                                                 \n",
            " max_pooling1d_33 (MaxPoolin  (None, 10, 64)           0         \n",
            " g1D)                                                            \n",
            "                                                                 \n",
            " conv1d_35 (Conv1D)          (None, 8, 128)            24704     \n",
            "                                                                 \n",
            " batch_normalization_56 (Bat  (None, 8, 128)           32        \n",
            " chNormalization)                                                \n",
            "                                                                 \n",
            " re_lu_56 (ReLU)             (None, 8, 128)            0         \n",
            "                                                                 \n",
            " max_pooling1d_34 (MaxPoolin  (None, 2, 128)           0         \n",
            " g1D)                                                            \n",
            "                                                                 \n",
            " flatten_7 (Flatten)         (None, 256)               0         \n",
            "                                                                 \n",
            " dense_29 (Dense)            (None, 64)                16448     \n",
            "                                                                 \n",
            " batch_normalization_57 (Bat  (None, 64)               256       \n",
            " chNormalization)                                                \n",
            "                                                                 \n",
            " re_lu_57 (ReLU)             (None, 64)                0         \n",
            "                                                                 \n",
            " dropout_22 (Dropout)        (None, 64)                0         \n",
            "                                                                 \n",
            " dense_30 (Dense)            (None, 32)                2080      \n",
            "                                                                 \n",
            " batch_normalization_58 (Bat  (None, 32)               128       \n",
            " chNormalization)                                                \n",
            "                                                                 \n",
            " re_lu_58 (ReLU)             (None, 32)                0         \n",
            "                                                                 \n",
            " dropout_23 (Dropout)        (None, 32)                0         \n",
            "                                                                 \n",
            " dense_31 (Dense)            (None, 16)                528       \n",
            "                                                                 \n",
            " batch_normalization_59 (Bat  (None, 16)               64        \n",
            " chNormalization)                                                \n",
            "                                                                 \n",
            " re_lu_59 (ReLU)             (None, 16)                0         \n",
            "                                                                 \n",
            " dropout_24 (Dropout)        (None, 16)                0         \n",
            "                                                                 \n",
            " dense_32 (Dense)            (None, 6)                 102       \n",
            "                                                                 \n",
            "=================================================================\n",
            "Total params: 53,902\n",
            "Trainable params: 52,802\n",
            "Non-trainable params: 1,100\n",
            "_________________________________________________________________\n"
          ]
        }
      ]
    },
    {
      "cell_type": "code",
      "source": [
        "history = model.fit(X_train, y_train,\n",
        "                    epochs=50,\n",
        "                    batch_size=128,\n",
        "                    validation_data=(X_test, y_test), callbacks=callbacks)"
      ],
      "metadata": {
        "id": "FBFwnhHPNlCj",
        "outputId": "165792f8-b744-4f41-d403-346837f2d3c6",
        "colab": {
          "base_uri": "https://localhost:8080/"
        }
      },
      "execution_count": null,
      "outputs": [
        {
          "output_type": "stream",
          "name": "stdout",
          "text": [
            "Epoch 1/300\n",
            "56/56 [==============================] - 5s 32ms/step - loss: 5.2975 - accuracy: 0.1613 - val_loss: 4.9393 - val_accuracy: 0.1689\n",
            "Epoch 2/300\n",
            "56/56 [==============================] - 1s 17ms/step - loss: 5.2036 - accuracy: 0.1669 - val_loss: 4.9107 - val_accuracy: 0.1743\n",
            "Epoch 3/300\n",
            "56/56 [==============================] - 1s 17ms/step - loss: 5.1068 - accuracy: 0.1707 - val_loss: 4.8851 - val_accuracy: 0.1689\n",
            "Epoch 4/300\n",
            "56/56 [==============================] - 1s 15ms/step - loss: 5.0258 - accuracy: 0.1724 - val_loss: 4.8659 - val_accuracy: 0.1662\n",
            "Epoch 5/300\n",
            "56/56 [==============================] - 1s 12ms/step - loss: 4.9616 - accuracy: 0.1642 - val_loss: 4.8401 - val_accuracy: 0.1662\n",
            "Epoch 6/300\n",
            "56/56 [==============================] - 1s 11ms/step - loss: 4.8867 - accuracy: 0.1729 - val_loss: 4.7914 - val_accuracy: 0.1662\n",
            "Epoch 7/300\n",
            "56/56 [==============================] - 1s 11ms/step - loss: 4.8261 - accuracy: 0.1750 - val_loss: 4.7277 - val_accuracy: 0.1662\n",
            "Epoch 8/300\n",
            "56/56 [==============================] - 1s 12ms/step - loss: 4.7463 - accuracy: 0.1894 - val_loss: 4.6722 - val_accuracy: 0.1635\n",
            "Epoch 9/300\n",
            "56/56 [==============================] - 1s 12ms/step - loss: 4.7079 - accuracy: 0.1825 - val_loss: 4.6261 - val_accuracy: 0.1716\n",
            "Epoch 10/300\n",
            "56/56 [==============================] - 1s 12ms/step - loss: 4.6302 - accuracy: 0.1903 - val_loss: 4.5670 - val_accuracy: 0.1769\n",
            "Epoch 11/300\n",
            "56/56 [==============================] - 1s 12ms/step - loss: 4.5795 - accuracy: 0.1917 - val_loss: 4.5163 - val_accuracy: 0.1662\n",
            "Epoch 12/300\n",
            "56/56 [==============================] - 1s 12ms/step - loss: 4.5310 - accuracy: 0.1840 - val_loss: 4.4534 - val_accuracy: 0.1716\n",
            "Epoch 13/300\n",
            "56/56 [==============================] - 1s 12ms/step - loss: 4.4720 - accuracy: 0.1900 - val_loss: 4.4037 - val_accuracy: 0.1743\n",
            "Epoch 14/300\n",
            "56/56 [==============================] - 1s 12ms/step - loss: 4.4340 - accuracy: 0.1870 - val_loss: 4.3538 - val_accuracy: 0.1743\n",
            "Epoch 15/300\n",
            "56/56 [==============================] - 1s 12ms/step - loss: 4.3684 - accuracy: 0.1890 - val_loss: 4.2917 - val_accuracy: 0.1850\n",
            "Epoch 16/300\n",
            "56/56 [==============================] - 1s 12ms/step - loss: 4.3402 - accuracy: 0.1982 - val_loss: 4.2448 - val_accuracy: 0.1796\n",
            "Epoch 17/300\n",
            "56/56 [==============================] - 1s 11ms/step - loss: 4.2802 - accuracy: 0.1918 - val_loss: 4.2030 - val_accuracy: 0.1823\n",
            "Epoch 18/300\n",
            "56/56 [==============================] - 1s 12ms/step - loss: 4.2397 - accuracy: 0.1979 - val_loss: 4.1665 - val_accuracy: 0.1796\n",
            "Epoch 19/300\n",
            "56/56 [==============================] - 1s 15ms/step - loss: 4.1927 - accuracy: 0.1992 - val_loss: 4.1321 - val_accuracy: 0.1903\n",
            "Epoch 20/300\n",
            "56/56 [==============================] - 1s 16ms/step - loss: 4.1520 - accuracy: 0.2024 - val_loss: 4.0864 - val_accuracy: 0.1984\n",
            "Epoch 21/300\n",
            "56/56 [==============================] - 1s 18ms/step - loss: 4.1052 - accuracy: 0.2058 - val_loss: 4.0463 - val_accuracy: 0.1957\n",
            "Epoch 22/300\n",
            "56/56 [==============================] - 1s 16ms/step - loss: 4.0869 - accuracy: 0.2017 - val_loss: 4.0104 - val_accuracy: 0.2118\n",
            "Epoch 23/300\n",
            "56/56 [==============================] - 1s 16ms/step - loss: 4.0322 - accuracy: 0.1979 - val_loss: 3.9791 - val_accuracy: 0.2064\n",
            "Epoch 24/300\n",
            "56/56 [==============================] - 1s 17ms/step - loss: 3.9939 - accuracy: 0.2122 - val_loss: 3.9343 - val_accuracy: 0.2011\n",
            "Epoch 25/300\n",
            "56/56 [==============================] - 1s 13ms/step - loss: 3.9684 - accuracy: 0.2051 - val_loss: 3.8963 - val_accuracy: 0.1984\n",
            "Epoch 26/300\n",
            "56/56 [==============================] - 1s 12ms/step - loss: 3.9167 - accuracy: 0.2096 - val_loss: 3.8614 - val_accuracy: 0.2091\n",
            "Epoch 27/300\n",
            "56/56 [==============================] - 1s 12ms/step - loss: 3.8814 - accuracy: 0.2132 - val_loss: 3.8225 - val_accuracy: 0.2145\n",
            "Epoch 28/300\n",
            "56/56 [==============================] - 1s 12ms/step - loss: 3.8418 - accuracy: 0.2211 - val_loss: 3.7852 - val_accuracy: 0.2172\n",
            "Epoch 29/300\n",
            "56/56 [==============================] - 1s 12ms/step - loss: 3.8155 - accuracy: 0.2126 - val_loss: 3.7529 - val_accuracy: 0.2198\n",
            "Epoch 30/300\n",
            "56/56 [==============================] - 1s 12ms/step - loss: 3.7735 - accuracy: 0.2218 - val_loss: 3.7125 - val_accuracy: 0.2145\n",
            "Epoch 31/300\n",
            "56/56 [==============================] - 1s 12ms/step - loss: 3.7480 - accuracy: 0.2186 - val_loss: 3.6746 - val_accuracy: 0.2225\n",
            "Epoch 32/300\n",
            "56/56 [==============================] - 1s 11ms/step - loss: 3.7023 - accuracy: 0.2228 - val_loss: 3.6388 - val_accuracy: 0.2145\n",
            "Epoch 33/300\n",
            "56/56 [==============================] - 1s 12ms/step - loss: 3.6843 - accuracy: 0.2220 - val_loss: 3.6112 - val_accuracy: 0.2306\n",
            "Epoch 34/300\n",
            "56/56 [==============================] - 1s 12ms/step - loss: 3.6332 - accuracy: 0.2292 - val_loss: 3.5800 - val_accuracy: 0.2279\n",
            "Epoch 35/300\n",
            "56/56 [==============================] - 1s 12ms/step - loss: 3.6069 - accuracy: 0.2214 - val_loss: 3.5453 - val_accuracy: 0.2386\n",
            "Epoch 36/300\n",
            "56/56 [==============================] - 1s 12ms/step - loss: 3.5852 - accuracy: 0.2241 - val_loss: 3.5227 - val_accuracy: 0.2466\n",
            "Epoch 37/300\n",
            "56/56 [==============================] - 1s 12ms/step - loss: 3.5525 - accuracy: 0.2290 - val_loss: 3.4914 - val_accuracy: 0.2601\n",
            "Epoch 38/300\n",
            "56/56 [==============================] - 1s 13ms/step - loss: 3.5304 - accuracy: 0.2224 - val_loss: 3.4594 - val_accuracy: 0.2601\n",
            "Epoch 39/300\n",
            "56/56 [==============================] - 1s 18ms/step - loss: 3.4931 - accuracy: 0.2344 - val_loss: 3.4277 - val_accuracy: 0.2681\n",
            "Epoch 40/300\n",
            "56/56 [==============================] - 1s 19ms/step - loss: 3.4656 - accuracy: 0.2350 - val_loss: 3.3956 - val_accuracy: 0.2842\n",
            "Epoch 41/300\n",
            "56/56 [==============================] - 1s 19ms/step - loss: 3.4364 - accuracy: 0.2389 - val_loss: 3.3711 - val_accuracy: 0.2708\n",
            "Epoch 42/300\n",
            "56/56 [==============================] - 1s 17ms/step - loss: 3.4077 - accuracy: 0.2423 - val_loss: 3.3486 - val_accuracy: 0.2735\n",
            "Epoch 43/300\n",
            "56/56 [==============================] - 1s 18ms/step - loss: 3.3811 - accuracy: 0.2419 - val_loss: 3.3174 - val_accuracy: 0.2895\n",
            "Epoch 44/300\n",
            "56/56 [==============================] - 1s 13ms/step - loss: 3.3561 - accuracy: 0.2435 - val_loss: 3.2865 - val_accuracy: 0.3003\n",
            "Epoch 45/300\n",
            "56/56 [==============================] - 1s 12ms/step - loss: 3.3151 - accuracy: 0.2483 - val_loss: 3.2557 - val_accuracy: 0.3003\n",
            "Epoch 46/300\n",
            "56/56 [==============================] - 1s 12ms/step - loss: 3.2946 - accuracy: 0.2631 - val_loss: 3.2230 - val_accuracy: 0.3110\n",
            "Epoch 47/300\n",
            "56/56 [==============================] - 1s 11ms/step - loss: 3.2720 - accuracy: 0.2592 - val_loss: 3.2002 - val_accuracy: 0.3056\n",
            "Epoch 48/300\n",
            "56/56 [==============================] - 1s 13ms/step - loss: 3.2403 - accuracy: 0.2600 - val_loss: 3.1689 - val_accuracy: 0.3190\n",
            "Epoch 49/300\n",
            "56/56 [==============================] - 1s 12ms/step - loss: 3.2145 - accuracy: 0.2611 - val_loss: 3.1415 - val_accuracy: 0.3217\n",
            "Epoch 50/300\n",
            "56/56 [==============================] - 1s 12ms/step - loss: 3.1868 - accuracy: 0.2652 - val_loss: 3.1183 - val_accuracy: 0.3324\n",
            "Epoch 51/300\n",
            "56/56 [==============================] - 1s 12ms/step - loss: 3.1693 - accuracy: 0.2661 - val_loss: 3.0884 - val_accuracy: 0.3351\n",
            "Epoch 52/300\n",
            "56/56 [==============================] - 1s 12ms/step - loss: 3.1417 - accuracy: 0.2737 - val_loss: 3.0659 - val_accuracy: 0.3298\n",
            "Epoch 53/300\n",
            "56/56 [==============================] - 1s 12ms/step - loss: 3.1154 - accuracy: 0.2739 - val_loss: 3.0398 - val_accuracy: 0.3405\n",
            "Epoch 54/300\n",
            "56/56 [==============================] - 1s 13ms/step - loss: 3.0942 - accuracy: 0.2764 - val_loss: 3.0105 - val_accuracy: 0.3298\n",
            "Epoch 55/300\n",
            "56/56 [==============================] - 1s 13ms/step - loss: 3.0668 - accuracy: 0.2942 - val_loss: 2.9888 - val_accuracy: 0.3324\n",
            "Epoch 56/300\n",
            "56/56 [==============================] - 1s 12ms/step - loss: 3.0404 - accuracy: 0.2836 - val_loss: 2.9627 - val_accuracy: 0.3244\n",
            "Epoch 57/300\n",
            "56/56 [==============================] - 1s 12ms/step - loss: 3.0312 - accuracy: 0.2811 - val_loss: 2.9378 - val_accuracy: 0.3405\n",
            "Epoch 58/300\n",
            "56/56 [==============================] - 1s 14ms/step - loss: 3.0105 - accuracy: 0.2862 - val_loss: 2.9085 - val_accuracy: 0.3485\n",
            "Epoch 59/300\n",
            "56/56 [==============================] - 1s 17ms/step - loss: 2.9778 - accuracy: 0.2976 - val_loss: 2.8988 - val_accuracy: 0.3458\n",
            "Epoch 60/300\n",
            "56/56 [==============================] - 1s 17ms/step - loss: 2.9580 - accuracy: 0.2983 - val_loss: 2.8732 - val_accuracy: 0.3432\n",
            "Epoch 61/300\n",
            "56/56 [==============================] - 1s 17ms/step - loss: 2.9377 - accuracy: 0.2957 - val_loss: 2.8528 - val_accuracy: 0.3566\n",
            "Epoch 62/300\n",
            "56/56 [==============================] - 1s 17ms/step - loss: 2.9250 - accuracy: 0.2951 - val_loss: 2.8314 - val_accuracy: 0.3592\n",
            "Epoch 63/300\n",
            "56/56 [==============================] - 1s 17ms/step - loss: 2.9069 - accuracy: 0.2952 - val_loss: 2.8108 - val_accuracy: 0.3592\n",
            "Epoch 64/300\n",
            "56/56 [==============================] - 1s 12ms/step - loss: 2.8789 - accuracy: 0.3033 - val_loss: 2.7966 - val_accuracy: 0.3673\n",
            "Epoch 65/300\n",
            "56/56 [==============================] - 1s 13ms/step - loss: 2.8630 - accuracy: 0.3016 - val_loss: 2.7747 - val_accuracy: 0.3432\n",
            "Epoch 66/300\n",
            "56/56 [==============================] - 1s 12ms/step - loss: 2.8373 - accuracy: 0.3098 - val_loss: 2.7543 - val_accuracy: 0.3673\n",
            "Epoch 67/300\n",
            "56/56 [==============================] - 1s 12ms/step - loss: 2.8172 - accuracy: 0.3170 - val_loss: 2.7364 - val_accuracy: 0.3807\n",
            "Epoch 68/300\n",
            "56/56 [==============================] - 1s 12ms/step - loss: 2.8148 - accuracy: 0.3108 - val_loss: 2.7144 - val_accuracy: 0.3834\n",
            "Epoch 69/300\n",
            "56/56 [==============================] - 1s 11ms/step - loss: 2.7853 - accuracy: 0.3140 - val_loss: 2.6944 - val_accuracy: 0.3780\n",
            "Epoch 70/300\n",
            "56/56 [==============================] - 1s 12ms/step - loss: 2.7679 - accuracy: 0.3071 - val_loss: 2.6790 - val_accuracy: 0.3539\n",
            "Epoch 71/300\n",
            "56/56 [==============================] - 1s 12ms/step - loss: 2.7503 - accuracy: 0.3265 - val_loss: 2.6643 - val_accuracy: 0.3753\n",
            "Epoch 72/300\n",
            "56/56 [==============================] - 1s 12ms/step - loss: 2.7290 - accuracy: 0.3238 - val_loss: 2.6440 - val_accuracy: 0.3458\n",
            "Epoch 73/300\n",
            "56/56 [==============================] - 1s 13ms/step - loss: 2.7247 - accuracy: 0.3098 - val_loss: 2.6408 - val_accuracy: 0.3780\n",
            "Epoch 74/300\n",
            "56/56 [==============================] - 1s 12ms/step - loss: 2.7052 - accuracy: 0.3189 - val_loss: 2.6174 - val_accuracy: 0.3539\n",
            "Epoch 75/300\n",
            "56/56 [==============================] - 1s 12ms/step - loss: 2.6864 - accuracy: 0.3220 - val_loss: 2.6021 - val_accuracy: 0.3592\n",
            "Epoch 76/300\n",
            "56/56 [==============================] - 1s 12ms/step - loss: 2.6606 - accuracy: 0.3275 - val_loss: 2.5828 - val_accuracy: 0.3566\n",
            "Epoch 77/300\n",
            "56/56 [==============================] - 1s 12ms/step - loss: 2.6443 - accuracy: 0.3334 - val_loss: 2.5734 - val_accuracy: 0.3727\n",
            "Epoch 78/300\n",
            "56/56 [==============================] - 1s 14ms/step - loss: 2.6396 - accuracy: 0.3264 - val_loss: 2.5500 - val_accuracy: 0.3753\n",
            "Epoch 79/300\n",
            "56/56 [==============================] - 1s 17ms/step - loss: 2.6191 - accuracy: 0.3310 - val_loss: 2.5301 - val_accuracy: 0.3968\n",
            "Epoch 80/300\n",
            "56/56 [==============================] - 1s 16ms/step - loss: 2.5977 - accuracy: 0.3380 - val_loss: 2.5166 - val_accuracy: 0.3780\n",
            "Epoch 81/300\n",
            "56/56 [==============================] - 1s 18ms/step - loss: 2.5849 - accuracy: 0.3347 - val_loss: 2.5029 - val_accuracy: 0.3914\n",
            "Epoch 82/300\n",
            "56/56 [==============================] - 1s 18ms/step - loss: 2.5686 - accuracy: 0.3490 - val_loss: 2.4993 - val_accuracy: 0.3887\n",
            "Epoch 83/300\n",
            "56/56 [==============================] - 1s 18ms/step - loss: 2.5588 - accuracy: 0.3460 - val_loss: 2.4767 - val_accuracy: 0.3861\n",
            "Epoch 84/300\n",
            "56/56 [==============================] - 1s 12ms/step - loss: 2.5544 - accuracy: 0.3377 - val_loss: 2.4681 - val_accuracy: 0.3914\n",
            "Epoch 85/300\n",
            "56/56 [==============================] - 1s 12ms/step - loss: 2.5280 - accuracy: 0.3425 - val_loss: 2.4497 - val_accuracy: 0.3914\n",
            "Epoch 86/300\n",
            "56/56 [==============================] - 1s 12ms/step - loss: 2.5175 - accuracy: 0.3397 - val_loss: 2.4524 - val_accuracy: 0.3995\n",
            "Epoch 87/300\n",
            "56/56 [==============================] - 1s 12ms/step - loss: 2.4985 - accuracy: 0.3500 - val_loss: 2.4372 - val_accuracy: 0.3834\n",
            "Epoch 88/300\n",
            "56/56 [==============================] - 1s 12ms/step - loss: 2.4962 - accuracy: 0.3432 - val_loss: 2.4198 - val_accuracy: 0.3941\n",
            "Epoch 89/300\n",
            "56/56 [==============================] - 1s 12ms/step - loss: 2.4753 - accuracy: 0.3477 - val_loss: 2.4075 - val_accuracy: 0.3941\n",
            "Epoch 90/300\n",
            "56/56 [==============================] - 1s 12ms/step - loss: 2.4615 - accuracy: 0.3548 - val_loss: 2.3958 - val_accuracy: 0.4021\n",
            "Epoch 91/300\n",
            "56/56 [==============================] - 1s 11ms/step - loss: 2.4503 - accuracy: 0.3500 - val_loss: 2.3823 - val_accuracy: 0.3995\n",
            "Epoch 92/300\n",
            "56/56 [==============================] - 1s 12ms/step - loss: 2.4453 - accuracy: 0.3460 - val_loss: 2.3617 - val_accuracy: 0.4048\n",
            "Epoch 93/300\n",
            "56/56 [==============================] - 1s 12ms/step - loss: 2.4237 - accuracy: 0.3532 - val_loss: 2.3549 - val_accuracy: 0.3834\n",
            "Epoch 94/300\n",
            "56/56 [==============================] - 1s 12ms/step - loss: 2.4185 - accuracy: 0.3566 - val_loss: 2.3429 - val_accuracy: 0.4048\n",
            "Epoch 95/300\n",
            "56/56 [==============================] - 1s 12ms/step - loss: 2.4022 - accuracy: 0.3645 - val_loss: 2.3298 - val_accuracy: 0.3914\n",
            "Epoch 96/300\n",
            "56/56 [==============================] - 1s 22ms/step - loss: 2.3862 - accuracy: 0.3630 - val_loss: 2.3181 - val_accuracy: 0.3941\n",
            "Epoch 97/300\n",
            "56/56 [==============================] - 2s 30ms/step - loss: 2.3831 - accuracy: 0.3561 - val_loss: 2.3169 - val_accuracy: 0.4021\n",
            "Epoch 98/300\n",
            "56/56 [==============================] - 1s 17ms/step - loss: 2.3609 - accuracy: 0.3619 - val_loss: 2.3018 - val_accuracy: 0.4075\n",
            "Epoch 99/300\n",
            "56/56 [==============================] - 1s 17ms/step - loss: 2.3665 - accuracy: 0.3638 - val_loss: 2.2943 - val_accuracy: 0.3861\n",
            "Epoch 100/300\n",
            "56/56 [==============================] - 1s 18ms/step - loss: 2.3569 - accuracy: 0.3602 - val_loss: 2.2844 - val_accuracy: 0.3780\n",
            "Epoch 101/300\n",
            "56/56 [==============================] - 1s 18ms/step - loss: 2.3384 - accuracy: 0.3610 - val_loss: 2.2687 - val_accuracy: 0.4021\n",
            "Epoch 102/300\n",
            "56/56 [==============================] - 1s 13ms/step - loss: 2.3283 - accuracy: 0.3733 - val_loss: 2.2590 - val_accuracy: 0.4129\n",
            "Epoch 103/300\n",
            "56/56 [==============================] - 1s 12ms/step - loss: 2.3137 - accuracy: 0.3730 - val_loss: 2.2513 - val_accuracy: 0.4075\n",
            "Epoch 104/300\n",
            "56/56 [==============================] - 1s 12ms/step - loss: 2.3054 - accuracy: 0.3712 - val_loss: 2.2380 - val_accuracy: 0.3887\n",
            "Epoch 105/300\n",
            "56/56 [==============================] - 1s 12ms/step - loss: 2.2956 - accuracy: 0.3694 - val_loss: 2.2335 - val_accuracy: 0.4048\n",
            "Epoch 106/300\n",
            "56/56 [==============================] - 1s 12ms/step - loss: 2.2833 - accuracy: 0.3715 - val_loss: 2.2231 - val_accuracy: 0.4290\n",
            "Epoch 107/300\n",
            "56/56 [==============================] - 1s 13ms/step - loss: 2.2733 - accuracy: 0.3798 - val_loss: 2.2121 - val_accuracy: 0.4129\n",
            "Epoch 108/300\n",
            "56/56 [==============================] - 1s 12ms/step - loss: 2.2582 - accuracy: 0.3822 - val_loss: 2.2014 - val_accuracy: 0.3995\n",
            "Epoch 109/300\n",
            "56/56 [==============================] - 1s 13ms/step - loss: 2.2546 - accuracy: 0.3735 - val_loss: 2.1922 - val_accuracy: 0.4102\n",
            "Epoch 110/300\n",
            "56/56 [==============================] - 1s 13ms/step - loss: 2.2515 - accuracy: 0.3770 - val_loss: 2.1911 - val_accuracy: 0.3995\n",
            "Epoch 111/300\n",
            "56/56 [==============================] - 1s 12ms/step - loss: 2.2384 - accuracy: 0.3764 - val_loss: 2.1767 - val_accuracy: 0.4182\n",
            "Epoch 112/300\n",
            "56/56 [==============================] - 1s 12ms/step - loss: 2.2264 - accuracy: 0.3786 - val_loss: 2.1726 - val_accuracy: 0.4048\n",
            "Epoch 113/300\n",
            "56/56 [==============================] - 1s 12ms/step - loss: 2.2212 - accuracy: 0.3801 - val_loss: 2.1591 - val_accuracy: 0.4075\n",
            "Epoch 114/300\n",
            "56/56 [==============================] - 1s 11ms/step - loss: 2.2057 - accuracy: 0.3863 - val_loss: 2.1562 - val_accuracy: 0.4075\n",
            "Epoch 115/300\n",
            "56/56 [==============================] - 1s 12ms/step - loss: 2.2057 - accuracy: 0.3805 - val_loss: 2.1465 - val_accuracy: 0.4155\n",
            "Epoch 116/300\n",
            "56/56 [==============================] - 1s 16ms/step - loss: 2.1924 - accuracy: 0.3811 - val_loss: 2.1376 - val_accuracy: 0.4075\n",
            "Epoch 117/300\n",
            "56/56 [==============================] - 1s 18ms/step - loss: 2.1877 - accuracy: 0.3855 - val_loss: 2.1257 - val_accuracy: 0.4102\n",
            "Epoch 118/300\n",
            "56/56 [==============================] - 1s 17ms/step - loss: 2.1802 - accuracy: 0.3835 - val_loss: 2.1219 - val_accuracy: 0.4048\n",
            "Epoch 119/300\n",
            "56/56 [==============================] - 1s 18ms/step - loss: 2.1730 - accuracy: 0.3907 - val_loss: 2.1142 - val_accuracy: 0.4209\n",
            "Epoch 120/300\n",
            "56/56 [==============================] - 1s 18ms/step - loss: 2.1512 - accuracy: 0.3937 - val_loss: 2.1096 - val_accuracy: 0.4075\n",
            "Epoch 121/300\n",
            "56/56 [==============================] - 1s 16ms/step - loss: 2.1537 - accuracy: 0.3977 - val_loss: 2.1050 - val_accuracy: 0.4182\n",
            "Epoch 122/300\n",
            "56/56 [==============================] - 1s 13ms/step - loss: 2.1426 - accuracy: 0.3923 - val_loss: 2.0957 - val_accuracy: 0.4316\n",
            "Epoch 123/300\n",
            "56/56 [==============================] - 1s 12ms/step - loss: 2.1330 - accuracy: 0.3916 - val_loss: 2.0916 - val_accuracy: 0.4290\n",
            "Epoch 124/300\n",
            "56/56 [==============================] - 1s 13ms/step - loss: 2.1269 - accuracy: 0.3940 - val_loss: 2.0748 - val_accuracy: 0.4182\n",
            "Epoch 125/300\n",
            "56/56 [==============================] - 1s 13ms/step - loss: 2.1168 - accuracy: 0.3923 - val_loss: 2.0725 - val_accuracy: 0.4316\n",
            "Epoch 126/300\n",
            "56/56 [==============================] - 1s 13ms/step - loss: 2.1058 - accuracy: 0.3969 - val_loss: 2.0677 - val_accuracy: 0.4075\n",
            "Epoch 127/300\n",
            "56/56 [==============================] - 1s 13ms/step - loss: 2.1028 - accuracy: 0.3984 - val_loss: 2.0605 - val_accuracy: 0.4236\n",
            "Epoch 128/300\n",
            "56/56 [==============================] - 1s 13ms/step - loss: 2.0915 - accuracy: 0.4059 - val_loss: 2.0584 - val_accuracy: 0.4236\n",
            "Epoch 129/300\n",
            "56/56 [==============================] - 1s 12ms/step - loss: 2.0959 - accuracy: 0.3993 - val_loss: 2.0481 - val_accuracy: 0.3941\n",
            "Epoch 130/300\n",
            "56/56 [==============================] - 1s 12ms/step - loss: 2.0697 - accuracy: 0.4064 - val_loss: 2.0364 - val_accuracy: 0.4290\n",
            "Epoch 131/300\n",
            "56/56 [==============================] - 1s 12ms/step - loss: 2.0735 - accuracy: 0.4091 - val_loss: 2.0463 - val_accuracy: 0.4102\n",
            "Epoch 132/300\n",
            "56/56 [==============================] - 1s 11ms/step - loss: 2.0718 - accuracy: 0.3989 - val_loss: 2.0344 - val_accuracy: 0.4209\n",
            "Epoch 133/300\n",
            "56/56 [==============================] - 1s 12ms/step - loss: 2.0631 - accuracy: 0.4018 - val_loss: 2.0270 - val_accuracy: 0.4155\n",
            "Epoch 134/300\n",
            "56/56 [==============================] - 1s 12ms/step - loss: 2.0626 - accuracy: 0.3965 - val_loss: 2.0155 - val_accuracy: 0.4263\n",
            "Epoch 135/300\n",
            "56/56 [==============================] - 1s 12ms/step - loss: 2.0510 - accuracy: 0.4023 - val_loss: 2.0177 - val_accuracy: 0.4290\n",
            "Epoch 136/300\n",
            "56/56 [==============================] - 1s 18ms/step - loss: 2.0380 - accuracy: 0.3995 - val_loss: 2.0071 - val_accuracy: 0.4182\n",
            "Epoch 137/300\n",
            "56/56 [==============================] - 1s 17ms/step - loss: 2.0402 - accuracy: 0.4083 - val_loss: 2.0046 - val_accuracy: 0.4182\n",
            "Epoch 138/300\n",
            "56/56 [==============================] - 1s 17ms/step - loss: 2.0304 - accuracy: 0.4008 - val_loss: 1.9949 - val_accuracy: 0.4263\n",
            "Epoch 139/300\n",
            "56/56 [==============================] - 1s 17ms/step - loss: 2.0217 - accuracy: 0.4095 - val_loss: 1.9895 - val_accuracy: 0.4236\n",
            "Epoch 140/300\n",
            "56/56 [==============================] - 1s 17ms/step - loss: 2.0131 - accuracy: 0.4199 - val_loss: 1.9880 - val_accuracy: 0.4155\n",
            "Epoch 141/300\n",
            "56/56 [==============================] - 1s 14ms/step - loss: 2.0122 - accuracy: 0.4088 - val_loss: 1.9874 - val_accuracy: 0.4155\n",
            "Epoch 142/300\n",
            "56/56 [==============================] - 1s 12ms/step - loss: 2.0007 - accuracy: 0.4136 - val_loss: 1.9816 - val_accuracy: 0.4236\n",
            "Epoch 143/300\n",
            "56/56 [==============================] - 1s 12ms/step - loss: 2.0006 - accuracy: 0.4076 - val_loss: 1.9924 - val_accuracy: 0.4263\n",
            "Epoch 144/300\n",
            "56/56 [==============================] - 1s 12ms/step - loss: 1.9890 - accuracy: 0.4173 - val_loss: 1.9652 - val_accuracy: 0.4290\n",
            "Epoch 145/300\n",
            "56/56 [==============================] - 1s 12ms/step - loss: 1.9932 - accuracy: 0.4148 - val_loss: 1.9659 - val_accuracy: 0.4290\n",
            "Epoch 146/300\n",
            "56/56 [==============================] - 1s 13ms/step - loss: 1.9824 - accuracy: 0.4146 - val_loss: 1.9617 - val_accuracy: 0.4129\n",
            "Epoch 147/300\n",
            "56/56 [==============================] - 1s 12ms/step - loss: 1.9760 - accuracy: 0.4213 - val_loss: 1.9494 - val_accuracy: 0.4182\n",
            "Epoch 148/300\n",
            "56/56 [==============================] - 1s 13ms/step - loss: 1.9747 - accuracy: 0.4209 - val_loss: 1.9506 - val_accuracy: 0.4236\n",
            "Epoch 149/300\n",
            "56/56 [==============================] - 1s 12ms/step - loss: 1.9610 - accuracy: 0.4242 - val_loss: 1.9518 - val_accuracy: 0.4316\n",
            "Epoch 150/300\n",
            "56/56 [==============================] - 1s 12ms/step - loss: 1.9585 - accuracy: 0.4184 - val_loss: 1.9407 - val_accuracy: 0.4316\n",
            "Epoch 151/300\n",
            "56/56 [==============================] - 1s 12ms/step - loss: 1.9518 - accuracy: 0.4252 - val_loss: 1.9418 - val_accuracy: 0.4236\n",
            "Epoch 152/300\n",
            "56/56 [==============================] - 1s 12ms/step - loss: 1.9431 - accuracy: 0.4227 - val_loss: 1.9351 - val_accuracy: 0.4316\n",
            "Epoch 153/300\n",
            "56/56 [==============================] - 1s 12ms/step - loss: 1.9362 - accuracy: 0.4272 - val_loss: 1.9301 - val_accuracy: 0.4263\n",
            "Epoch 154/300\n",
            "56/56 [==============================] - 1s 12ms/step - loss: 1.9260 - accuracy: 0.4344 - val_loss: 1.9189 - val_accuracy: 0.4424\n",
            "Epoch 155/300\n",
            "56/56 [==============================] - 1s 13ms/step - loss: 1.9201 - accuracy: 0.4316 - val_loss: 1.9269 - val_accuracy: 0.4477\n",
            "Epoch 156/300\n",
            "56/56 [==============================] - 1s 18ms/step - loss: 1.9255 - accuracy: 0.4333 - val_loss: 1.9153 - val_accuracy: 0.4343\n",
            "Epoch 157/300\n",
            "56/56 [==============================] - 1s 17ms/step - loss: 1.9283 - accuracy: 0.4211 - val_loss: 1.9134 - val_accuracy: 0.4316\n",
            "Epoch 158/300\n",
            "56/56 [==============================] - 1s 18ms/step - loss: 1.9218 - accuracy: 0.4276 - val_loss: 1.9159 - val_accuracy: 0.4155\n",
            "Epoch 159/300\n",
            "56/56 [==============================] - 1s 17ms/step - loss: 1.9197 - accuracy: 0.4235 - val_loss: 1.9098 - val_accuracy: 0.4182\n",
            "Epoch 160/300\n",
            "56/56 [==============================] - 1s 18ms/step - loss: 1.9010 - accuracy: 0.4370 - val_loss: 1.9035 - val_accuracy: 0.4316\n",
            "Epoch 161/300\n",
            "56/56 [==============================] - 1s 13ms/step - loss: 1.8936 - accuracy: 0.4329 - val_loss: 1.9097 - val_accuracy: 0.4209\n",
            "Epoch 162/300\n",
            "56/56 [==============================] - 1s 12ms/step - loss: 1.8943 - accuracy: 0.4357 - val_loss: 1.9042 - val_accuracy: 0.4263\n",
            "Epoch 163/300\n",
            "56/56 [==============================] - 1s 12ms/step - loss: 1.8973 - accuracy: 0.4323 - val_loss: 1.8934 - val_accuracy: 0.4290\n",
            "Epoch 164/300\n",
            "56/56 [==============================] - 1s 12ms/step - loss: 1.8839 - accuracy: 0.4334 - val_loss: 1.8890 - val_accuracy: 0.4397\n",
            "Epoch 165/300\n",
            "56/56 [==============================] - 1s 12ms/step - loss: 1.8817 - accuracy: 0.4312 - val_loss: 1.8946 - val_accuracy: 0.4370\n",
            "Epoch 166/300\n",
            "56/56 [==============================] - 1s 13ms/step - loss: 1.8744 - accuracy: 0.4408 - val_loss: 1.8928 - val_accuracy: 0.4316\n",
            "Epoch 167/300\n",
            "56/56 [==============================] - 1s 12ms/step - loss: 1.8688 - accuracy: 0.4380 - val_loss: 1.8847 - val_accuracy: 0.4370\n",
            "Epoch 168/300\n",
            "56/56 [==============================] - 1s 12ms/step - loss: 1.8637 - accuracy: 0.4432 - val_loss: 1.8856 - val_accuracy: 0.4343\n",
            "Epoch 169/300\n",
            "56/56 [==============================] - 1s 12ms/step - loss: 1.8569 - accuracy: 0.4449 - val_loss: 1.8877 - val_accuracy: 0.4424\n",
            "Epoch 170/300\n",
            "56/56 [==============================] - 1s 13ms/step - loss: 1.8582 - accuracy: 0.4358 - val_loss: 1.8980 - val_accuracy: 0.4182\n",
            "Epoch 171/300\n",
            "56/56 [==============================] - 1s 13ms/step - loss: 1.8545 - accuracy: 0.4474 - val_loss: 1.8794 - val_accuracy: 0.4102\n",
            "Epoch 172/300\n",
            "56/56 [==============================] - 1s 12ms/step - loss: 1.8455 - accuracy: 0.4429 - val_loss: 1.8943 - val_accuracy: 0.4236\n",
            "Epoch 173/300\n",
            "56/56 [==============================] - 1s 12ms/step - loss: 1.8495 - accuracy: 0.4448 - val_loss: 1.8808 - val_accuracy: 0.4129\n",
            "Epoch 174/300\n",
            "56/56 [==============================] - 1s 12ms/step - loss: 1.8307 - accuracy: 0.4489 - val_loss: 1.8605 - val_accuracy: 0.4397\n",
            "Epoch 175/300\n",
            "56/56 [==============================] - 1s 16ms/step - loss: 1.8234 - accuracy: 0.4465 - val_loss: 1.8609 - val_accuracy: 0.4343\n",
            "Epoch 176/300\n",
            "56/56 [==============================] - 1s 19ms/step - loss: 1.8292 - accuracy: 0.4387 - val_loss: 1.8715 - val_accuracy: 0.4316\n",
            "Epoch 177/300\n",
            "56/56 [==============================] - 1s 17ms/step - loss: 1.8259 - accuracy: 0.4465 - val_loss: 1.8661 - val_accuracy: 0.4316\n",
            "Epoch 178/300\n",
            "56/56 [==============================] - 1s 19ms/step - loss: 1.8124 - accuracy: 0.4532 - val_loss: 1.8514 - val_accuracy: 0.4316\n",
            "Epoch 179/300\n",
            "56/56 [==============================] - 1s 19ms/step - loss: 1.8151 - accuracy: 0.4510 - val_loss: 1.8572 - val_accuracy: 0.4155\n",
            "Epoch 180/300\n",
            "56/56 [==============================] - 1s 16ms/step - loss: 1.8112 - accuracy: 0.4452 - val_loss: 1.8543 - val_accuracy: 0.4290\n",
            "Epoch 181/300\n",
            "56/56 [==============================] - 1s 13ms/step - loss: 1.8112 - accuracy: 0.4490 - val_loss: 1.8486 - val_accuracy: 0.4182\n",
            "Epoch 182/300\n",
            "56/56 [==============================] - 1s 13ms/step - loss: 1.8056 - accuracy: 0.4547 - val_loss: 1.8525 - val_accuracy: 0.4343\n",
            "Epoch 183/300\n",
            "56/56 [==============================] - 1s 13ms/step - loss: 1.8037 - accuracy: 0.4612 - val_loss: 1.8439 - val_accuracy: 0.4263\n",
            "Epoch 184/300\n",
            "56/56 [==============================] - 1s 13ms/step - loss: 1.7889 - accuracy: 0.4573 - val_loss: 1.8464 - val_accuracy: 0.4155\n",
            "Epoch 185/300\n",
            "56/56 [==============================] - 1s 13ms/step - loss: 1.7883 - accuracy: 0.4581 - val_loss: 1.8430 - val_accuracy: 0.4343\n",
            "Epoch 186/300\n",
            "56/56 [==============================] - 1s 13ms/step - loss: 1.7757 - accuracy: 0.4609 - val_loss: 1.8519 - val_accuracy: 0.4075\n",
            "Epoch 187/300\n",
            "56/56 [==============================] - 1s 13ms/step - loss: 1.7802 - accuracy: 0.4620 - val_loss: 1.8423 - val_accuracy: 0.4397\n",
            "Epoch 188/300\n",
            "56/56 [==============================] - 1s 12ms/step - loss: 1.7739 - accuracy: 0.4723 - val_loss: 1.8443 - val_accuracy: 0.4182\n",
            "Epoch 189/300\n",
            "56/56 [==============================] - 1s 12ms/step - loss: 1.7734 - accuracy: 0.4552 - val_loss: 1.8262 - val_accuracy: 0.4316\n",
            "Epoch 190/300\n",
            "56/56 [==============================] - 1s 12ms/step - loss: 1.7750 - accuracy: 0.4603 - val_loss: 1.8333 - val_accuracy: 0.4263\n",
            "Epoch 191/300\n",
            "56/56 [==============================] - 1s 12ms/step - loss: 1.7651 - accuracy: 0.4641 - val_loss: 1.8338 - val_accuracy: 0.4182\n",
            "Epoch 192/300\n",
            "56/56 [==============================] - 1s 12ms/step - loss: 1.7626 - accuracy: 0.4681 - val_loss: 1.8192 - val_accuracy: 0.4343\n",
            "Epoch 193/300\n",
            "56/56 [==============================] - 1s 13ms/step - loss: 1.7545 - accuracy: 0.4598 - val_loss: 1.8329 - val_accuracy: 0.4343\n",
            "Epoch 194/300\n",
            "56/56 [==============================] - 1s 15ms/step - loss: 1.7436 - accuracy: 0.4622 - val_loss: 1.8245 - val_accuracy: 0.4263\n",
            "Epoch 195/300\n",
            "56/56 [==============================] - 1s 18ms/step - loss: 1.7401 - accuracy: 0.4740 - val_loss: 1.8134 - val_accuracy: 0.4316\n",
            "Epoch 196/300\n",
            "56/56 [==============================] - 1s 17ms/step - loss: 1.7418 - accuracy: 0.4702 - val_loss: 1.8141 - val_accuracy: 0.4316\n",
            "Epoch 197/300\n",
            "56/56 [==============================] - 1s 18ms/step - loss: 1.7366 - accuracy: 0.4764 - val_loss: 1.8175 - val_accuracy: 0.4102\n",
            "Epoch 198/300\n",
            "56/56 [==============================] - 1s 18ms/step - loss: 1.7363 - accuracy: 0.4639 - val_loss: 1.8109 - val_accuracy: 0.4236\n",
            "Epoch 199/300\n",
            "56/56 [==============================] - 1s 18ms/step - loss: 1.7352 - accuracy: 0.4644 - val_loss: 1.8160 - val_accuracy: 0.4343\n",
            "Epoch 200/300\n",
            "56/56 [==============================] - 1s 13ms/step - loss: 1.7240 - accuracy: 0.4805 - val_loss: 1.8138 - val_accuracy: 0.4343\n",
            "Epoch 201/300\n",
            "56/56 [==============================] - 1s 13ms/step - loss: 1.7296 - accuracy: 0.4736 - val_loss: 1.8107 - val_accuracy: 0.4316\n",
            "Epoch 202/300\n",
            "56/56 [==============================] - 1s 12ms/step - loss: 1.7189 - accuracy: 0.4759 - val_loss: 1.8135 - val_accuracy: 0.4263\n",
            "Epoch 203/300\n",
            "56/56 [==============================] - 1s 12ms/step - loss: 1.7085 - accuracy: 0.4831 - val_loss: 1.7949 - val_accuracy: 0.4397\n",
            "Epoch 204/300\n",
            "56/56 [==============================] - 1s 12ms/step - loss: 1.7095 - accuracy: 0.4832 - val_loss: 1.8063 - val_accuracy: 0.4370\n",
            "Epoch 205/300\n",
            "56/56 [==============================] - 1s 13ms/step - loss: 1.7073 - accuracy: 0.4861 - val_loss: 1.8007 - val_accuracy: 0.4370\n",
            "Epoch 206/300\n",
            "56/56 [==============================] - 1s 13ms/step - loss: 1.7016 - accuracy: 0.4821 - val_loss: 1.7985 - val_accuracy: 0.4343\n",
            "Epoch 207/300\n",
            "56/56 [==============================] - 1s 13ms/step - loss: 1.6910 - accuracy: 0.4889 - val_loss: 1.8040 - val_accuracy: 0.4370\n",
            "Epoch 208/300\n",
            "56/56 [==============================] - 1s 13ms/step - loss: 1.7050 - accuracy: 0.4776 - val_loss: 1.8155 - val_accuracy: 0.4075\n",
            "Epoch 209/300\n",
            "56/56 [==============================] - 1s 12ms/step - loss: 1.6934 - accuracy: 0.4781 - val_loss: 1.8164 - val_accuracy: 0.4209\n",
            "Epoch 210/300\n",
            "56/56 [==============================] - 1s 13ms/step - loss: 1.6964 - accuracy: 0.4839 - val_loss: 1.8026 - val_accuracy: 0.4129\n",
            "Epoch 211/300\n",
            "56/56 [==============================] - 1s 13ms/step - loss: 1.6830 - accuracy: 0.4880 - val_loss: 1.8039 - val_accuracy: 0.4424\n",
            "Epoch 212/300\n",
            "56/56 [==============================] - 1s 13ms/step - loss: 1.6742 - accuracy: 0.4916 - val_loss: 1.7965 - val_accuracy: 0.4316\n",
            "Epoch 213/300\n",
            "56/56 [==============================] - 1s 14ms/step - loss: 1.6755 - accuracy: 0.4854 - val_loss: 1.8081 - val_accuracy: 0.4129\n",
            "Epoch 214/300\n",
            "56/56 [==============================] - 1s 17ms/step - loss: 1.6669 - accuracy: 0.4895 - val_loss: 1.8018 - val_accuracy: 0.4129\n",
            "Epoch 215/300\n",
            "56/56 [==============================] - 1s 18ms/step - loss: 1.6742 - accuracy: 0.4872 - val_loss: 1.7958 - val_accuracy: 0.4316\n",
            "Epoch 216/300\n",
            "56/56 [==============================] - 1s 18ms/step - loss: 1.6655 - accuracy: 0.4926 - val_loss: 1.8014 - val_accuracy: 0.4182\n",
            "Epoch 217/300\n",
            "56/56 [==============================] - 1s 18ms/step - loss: 1.6684 - accuracy: 0.4909 - val_loss: 1.8061 - val_accuracy: 0.4263\n",
            "Epoch 218/300\n",
            "56/56 [==============================] - 1s 17ms/step - loss: 1.6696 - accuracy: 0.4924 - val_loss: 1.7789 - val_accuracy: 0.4343\n",
            "Epoch 219/300\n",
            "56/56 [==============================] - 1s 13ms/step - loss: 1.6479 - accuracy: 0.5008 - val_loss: 1.8014 - val_accuracy: 0.4316\n",
            "Epoch 220/300\n",
            "56/56 [==============================] - 1s 12ms/step - loss: 1.6602 - accuracy: 0.4943 - val_loss: 1.7954 - val_accuracy: 0.4182\n",
            "Epoch 221/300\n",
            "56/56 [==============================] - 1s 12ms/step - loss: 1.6560 - accuracy: 0.4938 - val_loss: 1.7788 - val_accuracy: 0.4397\n",
            "Epoch 222/300\n",
            "56/56 [==============================] - 1s 12ms/step - loss: 1.6483 - accuracy: 0.5019 - val_loss: 1.7870 - val_accuracy: 0.4263\n",
            "Epoch 223/300\n",
            "56/56 [==============================] - 1s 12ms/step - loss: 1.6373 - accuracy: 0.4955 - val_loss: 1.7856 - val_accuracy: 0.4129\n",
            "Epoch 224/300\n",
            "56/56 [==============================] - 1s 12ms/step - loss: 1.6440 - accuracy: 0.4992 - val_loss: 1.7888 - val_accuracy: 0.4531\n",
            "Epoch 225/300\n",
            "56/56 [==============================] - 1s 12ms/step - loss: 1.6492 - accuracy: 0.4995 - val_loss: 1.8162 - val_accuracy: 0.3995\n",
            "Epoch 226/300\n",
            "56/56 [==============================] - 1s 12ms/step - loss: 1.6397 - accuracy: 0.4979 - val_loss: 1.7895 - val_accuracy: 0.4424\n",
            "Epoch 227/300\n",
            "56/56 [==============================] - 1s 12ms/step - loss: 1.6247 - accuracy: 0.5076 - val_loss: 1.7932 - val_accuracy: 0.4182\n",
            "Epoch 228/300\n",
            "56/56 [==============================] - 1s 12ms/step - loss: 1.6403 - accuracy: 0.4991 - val_loss: 1.8126 - val_accuracy: 0.4102\n",
            "Epoch 229/300\n",
            "56/56 [==============================] - 1s 12ms/step - loss: 1.6224 - accuracy: 0.5054 - val_loss: 1.7890 - val_accuracy: 0.4450\n",
            "Epoch 230/300\n",
            "56/56 [==============================] - 1s 12ms/step - loss: 1.6180 - accuracy: 0.5060 - val_loss: 1.7915 - val_accuracy: 0.4182\n",
            "Epoch 231/300\n",
            "56/56 [==============================] - 1s 12ms/step - loss: 1.6072 - accuracy: 0.5176 - val_loss: 1.7955 - val_accuracy: 0.4263\n",
            "Epoch 232/300\n",
            "56/56 [==============================] - 1s 12ms/step - loss: 1.6069 - accuracy: 0.5124 - val_loss: 1.7889 - val_accuracy: 0.4397\n",
            "Epoch 233/300\n",
            "56/56 [==============================] - 1s 15ms/step - loss: 1.6120 - accuracy: 0.5166 - val_loss: 1.7985 - val_accuracy: 0.4370\n",
            "Epoch 234/300\n",
            "56/56 [==============================] - 1s 18ms/step - loss: 1.6060 - accuracy: 0.5114 - val_loss: 1.7994 - val_accuracy: 0.4102\n",
            "Epoch 235/300\n",
            "56/56 [==============================] - 1s 19ms/step - loss: 1.5942 - accuracy: 0.5176 - val_loss: 1.8182 - val_accuracy: 0.4263\n",
            "Epoch 236/300\n",
            "56/56 [==============================] - 1s 18ms/step - loss: 1.6099 - accuracy: 0.5115 - val_loss: 1.7911 - val_accuracy: 0.4209\n",
            "Epoch 237/300\n",
            "56/56 [==============================] - 1s 17ms/step - loss: 1.5923 - accuracy: 0.5183 - val_loss: 1.7942 - val_accuracy: 0.4397\n",
            "Epoch 238/300\n",
            "56/56 [==============================] - 1s 18ms/step - loss: 1.5914 - accuracy: 0.5172 - val_loss: 1.8080 - val_accuracy: 0.4075\n",
            "Epoch 239/300\n",
            "56/56 [==============================] - 1s 13ms/step - loss: 1.5934 - accuracy: 0.5153 - val_loss: 1.8000 - val_accuracy: 0.4397\n",
            "Epoch 240/300\n",
            "56/56 [==============================] - 1s 12ms/step - loss: 1.5910 - accuracy: 0.5230 - val_loss: 1.8288 - val_accuracy: 0.3914\n",
            "Epoch 241/300\n",
            "56/56 [==============================] - 1s 12ms/step - loss: 1.5688 - accuracy: 0.5265 - val_loss: 1.7889 - val_accuracy: 0.4236\n",
            "Epoch 242/300\n",
            "56/56 [==============================] - 1s 12ms/step - loss: 1.5878 - accuracy: 0.5151 - val_loss: 1.7855 - val_accuracy: 0.4477\n",
            "Epoch 243/300\n",
            "56/56 [==============================] - 1s 13ms/step - loss: 1.5722 - accuracy: 0.5169 - val_loss: 1.8679 - val_accuracy: 0.3968\n",
            "Epoch 244/300\n",
            "56/56 [==============================] - 1s 13ms/step - loss: 1.5729 - accuracy: 0.5253 - val_loss: 1.7850 - val_accuracy: 0.4263\n",
            "Epoch 245/300\n",
            "56/56 [==============================] - 1s 12ms/step - loss: 1.5628 - accuracy: 0.5240 - val_loss: 1.7829 - val_accuracy: 0.4209\n",
            "Epoch 246/300\n",
            "56/56 [==============================] - 1s 12ms/step - loss: 1.5582 - accuracy: 0.5265 - val_loss: 1.7991 - val_accuracy: 0.4155\n",
            "Epoch 247/300\n",
            "56/56 [==============================] - 1s 13ms/step - loss: 1.5629 - accuracy: 0.5265 - val_loss: 1.8200 - val_accuracy: 0.4048\n",
            "Epoch 248/300\n",
            "56/56 [==============================] - 1s 12ms/step - loss: 1.5734 - accuracy: 0.5206 - val_loss: 1.8012 - val_accuracy: 0.4450\n",
            "Epoch 249/300\n",
            "56/56 [==============================] - 1s 13ms/step - loss: 1.5633 - accuracy: 0.5258 - val_loss: 1.7859 - val_accuracy: 0.4316\n",
            "Epoch 250/300\n",
            "56/56 [==============================] - 1s 13ms/step - loss: 1.5641 - accuracy: 0.5223 - val_loss: 1.7902 - val_accuracy: 0.4263\n",
            "Epoch 251/300\n",
            "56/56 [==============================] - 1s 12ms/step - loss: 1.5462 - accuracy: 0.5289 - val_loss: 1.7904 - val_accuracy: 0.4209\n",
            "Epoch 252/300\n",
            "56/56 [==============================] - 1s 13ms/step - loss: 1.5465 - accuracy: 0.5343 - val_loss: 1.7807 - val_accuracy: 0.4129\n",
            "Epoch 253/300\n",
            "56/56 [==============================] - 1s 18ms/step - loss: 1.5439 - accuracy: 0.5378 - val_loss: 1.8148 - val_accuracy: 0.4236\n",
            "Epoch 254/300\n",
            "56/56 [==============================] - 1s 18ms/step - loss: 1.5374 - accuracy: 0.5335 - val_loss: 1.8066 - val_accuracy: 0.4155\n",
            "Epoch 255/300\n",
            "56/56 [==============================] - 1s 19ms/step - loss: 1.5428 - accuracy: 0.5380 - val_loss: 1.8111 - val_accuracy: 0.4316\n",
            "Epoch 256/300\n",
            "56/56 [==============================] - 1s 18ms/step - loss: 1.5337 - accuracy: 0.5337 - val_loss: 1.8084 - val_accuracy: 0.4048\n",
            "Epoch 257/300\n",
            "56/56 [==============================] - 1s 18ms/step - loss: 1.5205 - accuracy: 0.5436 - val_loss: 1.8083 - val_accuracy: 0.3968\n",
            "Epoch 258/300\n",
            "56/56 [==============================] - 1s 14ms/step - loss: 1.5188 - accuracy: 0.5402 - val_loss: 1.7929 - val_accuracy: 0.4290\n",
            "Epoch 259/300\n",
            "56/56 [==============================] - 1s 13ms/step - loss: 1.5252 - accuracy: 0.5384 - val_loss: 1.8264 - val_accuracy: 0.4048\n",
            "Epoch 260/300\n",
            "56/56 [==============================] - 1s 13ms/step - loss: 1.5151 - accuracy: 0.5439 - val_loss: 1.8434 - val_accuracy: 0.4155\n",
            "Epoch 261/300\n",
            "56/56 [==============================] - 1s 13ms/step - loss: 1.5203 - accuracy: 0.5407 - val_loss: 1.7856 - val_accuracy: 0.4263\n",
            "Epoch 262/300\n",
            "56/56 [==============================] - 1s 13ms/step - loss: 1.5219 - accuracy: 0.5347 - val_loss: 1.7950 - val_accuracy: 0.4155\n",
            "Epoch 263/300\n",
            "56/56 [==============================] - 1s 13ms/step - loss: 1.5204 - accuracy: 0.5395 - val_loss: 1.7939 - val_accuracy: 0.4102\n",
            "Epoch 264/300\n",
            "56/56 [==============================] - 1s 13ms/step - loss: 1.5165 - accuracy: 0.5439 - val_loss: 1.8488 - val_accuracy: 0.3914\n",
            "Epoch 265/300\n",
            "56/56 [==============================] - 1s 13ms/step - loss: 1.5012 - accuracy: 0.5458 - val_loss: 1.8074 - val_accuracy: 0.4155\n",
            "Epoch 266/300\n",
            "56/56 [==============================] - 1s 13ms/step - loss: 1.5098 - accuracy: 0.5528 - val_loss: 1.8028 - val_accuracy: 0.4182\n",
            "Epoch 267/300\n",
            "56/56 [==============================] - 1s 13ms/step - loss: 1.5030 - accuracy: 0.5432 - val_loss: 1.7980 - val_accuracy: 0.4021\n",
            "Epoch 268/300\n",
            "56/56 [==============================] - 1s 13ms/step - loss: 1.4947 - accuracy: 0.5541 - val_loss: 1.8202 - val_accuracy: 0.4182\n",
            "Epoch 269/300\n",
            "56/56 [==============================] - 1s 13ms/step - loss: 1.4999 - accuracy: 0.5466 - val_loss: 1.8106 - val_accuracy: 0.3914\n",
            "Epoch 270/300\n",
            "56/56 [==============================] - 1s 13ms/step - loss: 1.4916 - accuracy: 0.5446 - val_loss: 1.8065 - val_accuracy: 0.4290\n",
            "Epoch 271/300\n",
            "56/56 [==============================] - 1s 15ms/step - loss: 1.4907 - accuracy: 0.5518 - val_loss: 1.7792 - val_accuracy: 0.4316\n",
            "Epoch 272/300\n",
            "56/56 [==============================] - 1s 20ms/step - loss: 1.4938 - accuracy: 0.5494 - val_loss: 1.8082 - val_accuracy: 0.4102\n",
            "Epoch 273/300\n",
            "56/56 [==============================] - 1s 18ms/step - loss: 1.4829 - accuracy: 0.5531 - val_loss: 1.7835 - val_accuracy: 0.4236\n",
            "Epoch 274/300\n",
            "56/56 [==============================] - 1s 19ms/step - loss: 1.4628 - accuracy: 0.5608 - val_loss: 1.8081 - val_accuracy: 0.4102\n",
            "Epoch 275/300\n",
            "56/56 [==============================] - 1s 17ms/step - loss: 1.4764 - accuracy: 0.5608 - val_loss: 1.7991 - val_accuracy: 0.4182\n",
            "Epoch 276/300\n",
            "56/56 [==============================] - 1s 19ms/step - loss: 1.4701 - accuracy: 0.5588 - val_loss: 1.8145 - val_accuracy: 0.4155\n",
            "Epoch 277/300\n",
            "56/56 [==============================] - 1s 14ms/step - loss: 1.4725 - accuracy: 0.5615 - val_loss: 1.8267 - val_accuracy: 0.4075\n",
            "Epoch 278/300\n",
            "56/56 [==============================] - 1s 13ms/step - loss: 1.4661 - accuracy: 0.5506 - val_loss: 1.8339 - val_accuracy: 0.4290\n",
            "Epoch 279/300\n",
            "56/56 [==============================] - 1s 13ms/step - loss: 1.4600 - accuracy: 0.5646 - val_loss: 1.8349 - val_accuracy: 0.4209\n",
            "Epoch 280/300\n",
            "56/56 [==============================] - 1s 13ms/step - loss: 1.4590 - accuracy: 0.5588 - val_loss: 1.8157 - val_accuracy: 0.4129\n",
            "Epoch 281/300\n",
            "56/56 [==============================] - 1s 13ms/step - loss: 1.4737 - accuracy: 0.5593 - val_loss: 1.8363 - val_accuracy: 0.4021\n",
            "Epoch 282/300\n",
            "56/56 [==============================] - 1s 13ms/step - loss: 1.4532 - accuracy: 0.5623 - val_loss: 1.8266 - val_accuracy: 0.3941\n",
            "Epoch 283/300\n",
            "56/56 [==============================] - 1s 12ms/step - loss: 1.4504 - accuracy: 0.5661 - val_loss: 1.8472 - val_accuracy: 0.4209\n",
            "Epoch 284/300\n",
            "56/56 [==============================] - 1s 13ms/step - loss: 1.4437 - accuracy: 0.5683 - val_loss: 1.8593 - val_accuracy: 0.4129\n",
            "Epoch 285/300\n",
            "56/56 [==============================] - 1s 13ms/step - loss: 1.4499 - accuracy: 0.5637 - val_loss: 1.8289 - val_accuracy: 0.4155\n",
            "Epoch 286/300\n",
            "56/56 [==============================] - 1s 13ms/step - loss: 1.4480 - accuracy: 0.5654 - val_loss: 1.8068 - val_accuracy: 0.4343\n",
            "Epoch 287/300\n",
            "56/56 [==============================] - 1s 13ms/step - loss: 1.4464 - accuracy: 0.5650 - val_loss: 1.8162 - val_accuracy: 0.4102\n",
            "Epoch 288/300\n",
            "56/56 [==============================] - 1s 13ms/step - loss: 1.4410 - accuracy: 0.5675 - val_loss: 1.8777 - val_accuracy: 0.4209\n",
            "Epoch 289/300\n",
            "56/56 [==============================] - 1s 13ms/step - loss: 1.4377 - accuracy: 0.5657 - val_loss: 1.8617 - val_accuracy: 0.4182\n",
            "Epoch 290/300\n",
            "56/56 [==============================] - 1s 15ms/step - loss: 1.4348 - accuracy: 0.5697 - val_loss: 1.8709 - val_accuracy: 0.4129\n",
            "Epoch 291/300\n",
            "56/56 [==============================] - 1s 18ms/step - loss: 1.4260 - accuracy: 0.5709 - val_loss: 1.8655 - val_accuracy: 0.4021\n",
            "Epoch 292/300\n",
            "56/56 [==============================] - 1s 17ms/step - loss: 1.4206 - accuracy: 0.5735 - val_loss: 1.8905 - val_accuracy: 0.4048\n",
            "Epoch 293/300\n",
            "56/56 [==============================] - 1s 17ms/step - loss: 1.4282 - accuracy: 0.5806 - val_loss: 1.8280 - val_accuracy: 0.4129\n",
            "Epoch 294/300\n",
            "56/56 [==============================] - 1s 17ms/step - loss: 1.4157 - accuracy: 0.5735 - val_loss: 1.8530 - val_accuracy: 0.3887\n",
            "Epoch 295/300\n",
            "56/56 [==============================] - 1s 18ms/step - loss: 1.4158 - accuracy: 0.5825 - val_loss: 1.8843 - val_accuracy: 0.4209\n",
            "Epoch 296/300\n",
            "56/56 [==============================] - 1s 14ms/step - loss: 1.4173 - accuracy: 0.5741 - val_loss: 1.8273 - val_accuracy: 0.4102\n",
            "Epoch 297/300\n",
            "56/56 [==============================] - 1s 12ms/step - loss: 1.4135 - accuracy: 0.5803 - val_loss: 1.8368 - val_accuracy: 0.4075\n",
            "Epoch 298/300\n",
            "56/56 [==============================] - 1s 12ms/step - loss: 1.4146 - accuracy: 0.5731 - val_loss: 1.8575 - val_accuracy: 0.4209\n",
            "Epoch 299/300\n",
            "56/56 [==============================] - 1s 13ms/step - loss: 1.4109 - accuracy: 0.5849 - val_loss: 1.8359 - val_accuracy: 0.4209\n",
            "Epoch 300/300\n",
            "56/56 [==============================] - 1s 12ms/step - loss: 1.4084 - accuracy: 0.5726 - val_loss: 1.8328 - val_accuracy: 0.4102\n"
          ]
        }
      ]
    },
    {
      "cell_type": "code",
      "source": [],
      "metadata": {
        "id": "8S6b6gH4NsDC"
      },
      "execution_count": null,
      "outputs": []
    }
  ]
}