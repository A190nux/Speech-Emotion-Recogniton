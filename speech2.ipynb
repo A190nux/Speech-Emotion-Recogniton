{
  "cells": [
    {
      "cell_type": "code",
      "execution_count": 1,
      "metadata": {
        "id": "z1LtRnT4W4mY"
      },
      "outputs": [],
      "source": [
        "import numpy as np\n",
        "import pandas as pd\n",
        "import matplotlib.pyplot as plt\n",
        "from pathlib import Path\n",
        "from scipy.io import wavfile\n",
        "import os.path\n",
        "import IPython.display\n",
        "import seaborn as sns\n",
        "import librosa\n",
        "import librosa.display\n",
        "import soundfile\n",
        "\n",
        "from sklearn.model_selection import train_test_split\n",
        "from sklearn.preprocessing import StandardScaler, LabelEncoder\n",
        "from sklearn.metrics import confusion_matrix\n",
        "\n",
        "import tensorflow as tf\n",
        "from tensorflow.keras import utils\n",
        "from keras.models import Sequential\n",
        "from keras.layers import Dense, Dropout, Activation, Conv1D, MaxPooling1D, Flatten, BatchNormalization\n",
        "from keras import optimizers\n",
        "\n",
        "import warnings"
      ]
    },
    {
      "cell_type": "code",
      "execution_count": 2,
      "metadata": {
        "colab": {
          "base_uri": "https://localhost:8080/"
        },
        "id": "5GTtnPFfW87P",
        "outputId": "1ae7e9f2-30a6-4201-a9d7-bd3a3a864ced"
      },
      "outputs": [
        {
          "output_type": "stream",
          "name": "stdout",
          "text": [
            "Looking in indexes: https://pypi.org/simple, https://us-python.pkg.dev/colab-wheels/public/simple/\n",
            "Collecting pydub\n",
            "  Downloading pydub-0.25.1-py2.py3-none-any.whl (32 kB)\n",
            "Installing collected packages: pydub\n",
            "Successfully installed pydub-0.25.1\n"
          ]
        }
      ],
      "source": [
        "!pip install pydub"
      ]
    },
    {
      "cell_type": "code",
      "execution_count": 3,
      "metadata": {
        "colab": {
          "base_uri": "https://localhost:8080/"
        },
        "id": "1nQjexIlW-Su",
        "outputId": "5fe5b355-09ae-46ac-c9a0-4822810bfd75"
      },
      "outputs": [
        {
          "output_type": "stream",
          "name": "stdout",
          "text": [
            "Mounted at /content/drive\n"
          ]
        }
      ],
      "source": [
        "import re\n",
        "import os\n",
        "import wave\n",
        "import glob\n",
        "import numpy as np\n",
        "import pandas as pd\n",
        "import matplotlib.pyplot as plt\n",
        "from pydub import AudioSegment\n",
        "from IPython.display import Audio, display\n",
        "import librosa as lib\n",
        "import librosa.display\n",
        "\n",
        "from google.colab import drive\n",
        "drive.mount('/content/drive')"
      ]
    },
    {
      "cell_type": "code",
      "execution_count": 4,
      "metadata": {
        "colab": {
          "base_uri": "https://localhost:8080/"
        },
        "id": "O30Gln5SW_x6",
        "outputId": "62c8d67e-351f-4910-8946-b113052c0974"
      },
      "outputs": [
        {
          "output_type": "stream",
          "name": "stdout",
          "text": [
            "TensorFlow version: 2.12.0\n"
          ]
        }
      ],
      "source": [
        "import tensorflow as tf\n",
        "print(\"TensorFlow version:\", tf.__version__)\n",
        "\n",
        "from tensorflow.keras.layers import Dense, Flatten, Conv2D, MaxPool2D\n",
        "from tensorflow.keras import Model\n",
        "\n",
        "from sklearn.model_selection import train_test_split"
      ]
    },
    {
      "cell_type": "code",
      "execution_count": 5,
      "metadata": {
        "id": "Y2JiRL40XJSK"
      },
      "outputs": [],
      "source": [
        "PATH = \"/content/drive/MyDrive/Colab Notebooks/Speech_Emotion/Crema\"\n",
        "AUDIO_PATH = \"/content/drive/MyDrive/Colab Notebooks/Speech_Emotion/Crema/1001_DFA_ANG_XX.wav\""
      ]
    },
    {
      "cell_type": "code",
      "execution_count": 6,
      "metadata": {
        "id": "hZRUzrRHI3x4"
      },
      "outputs": [],
      "source": [
        "def zeroCrossingRate(audio):\n",
        "  return lib.feature.zero_crossing_rate(audio).mean()"
      ]
    },
    {
      "cell_type": "code",
      "execution_count": 7,
      "metadata": {
        "id": "YUj1b0stI8Jp"
      },
      "outputs": [],
      "source": [
        "def energy(audio):\n",
        "  # using a spectrogram will give a more accurate representation\n",
        "  # of energy over time because its frames can be windowed\n",
        "  S, phase = lib.magphase(lib.stft(audio))\n",
        "  return lib.feature.rms(S=S).mean()"
      ]
    },
    {
      "cell_type": "code",
      "execution_count": 8,
      "metadata": {
        "id": "t03kfNaMJEUx"
      },
      "outputs": [],
      "source": [
        "def melSpectrogram(audio, sr):\n",
        "  mel_spectrogram = lib.feature.melspectrogram(y=audio, sr=sr, n_fft=200, n_mels=64)\n",
        "  log_mel_spectrogram = librosa.power_to_db(mel_spectrogram)\n",
        "  return log_mel_spectrogram"
      ]
    },
    {
      "cell_type": "code",
      "execution_count": 9,
      "metadata": {
        "id": "RFqdKI4dj-sx"
      },
      "outputs": [],
      "source": [
        "def chromaStft(audio, sr):\n",
        "  stft = np.abs(librosa.stft(audio))\n",
        "  return librosa.feature.chroma_stft(S=stft, sr=sr, n_fft=200).mean()"
      ]
    },
    {
      "cell_type": "code",
      "execution_count": 10,
      "metadata": {
        "id": "bwJma-zak5ai"
      },
      "outputs": [],
      "source": [
        "def mfcc(data, sr):\n",
        "  return librosa.feature.mfcc(y=data, sr=sr, n_fft=200).mean()"
      ]
    },
    {
      "cell_type": "code",
      "execution_count": 11,
      "metadata": {
        "id": "fHiHGyRoqeAa"
      },
      "outputs": [],
      "source": [
        "def tonnetz(data, sr):\n",
        "  return librosa.feature.tonnetz(y=data, sr=sr).mean();"
      ]
    },
    {
      "cell_type": "code",
      "execution_count": 12,
      "metadata": {
        "id": "GZLRcaVEinfV"
      },
      "outputs": [],
      "source": [
        "def playAudio(audio_file):\n",
        "  audio = AudioSegment.from_wav(audio_file)\n",
        "  # Play the audio\n",
        "  audio.export('temp_audio.wav', format='wav')\n",
        "  audio_data = open('temp_audio.wav', 'rb').read()\n",
        "  display(Audio(audio_data))\n",
        "  # Delete the temporary audio file\n",
        "  os.remove('temp_audio.wav')"
      ]
    },
    {
      "cell_type": "code",
      "execution_count": 13,
      "metadata": {
        "id": "VErUAYc_mIzR"
      },
      "outputs": [],
      "source": [
        "def visualize_waveform(audio, sr):\n",
        "    plt.figure(figsize=(12, 4))\n",
        "    plt.plot(audio)\n",
        "    plt.xlabel('Time')\n",
        "    plt.ylabel('Amplitude')\n",
        "    plt.title('Waveform')\n",
        "    plt.show()"
      ]
    },
    {
      "cell_type": "code",
      "execution_count": 14,
      "metadata": {
        "id": "xrXZclbPVgB4"
      },
      "outputs": [],
      "source": [
        "def splitData(dataset_path):\n",
        "  audio_files = glob.glob(os.path.join(dataset_path, \"*.wav\"))\n",
        "  audio_train, audio_test = train_test_split(audio_files, test_size=0.3, random_state=69, shuffle=True)\n",
        "  return audio_train, audio_test"
      ]
    },
    {
      "cell_type": "code",
      "execution_count": 15,
      "metadata": {
        "id": "7EIOYeWGWM-f"
      },
      "outputs": [],
      "source": [
        "D_train, D_test = splitData(PATH)"
      ]
    },
    {
      "cell_type": "code",
      "execution_count": 16,
      "metadata": {
        "colab": {
          "base_uri": "https://localhost:8080/"
        },
        "id": "YpC8Jy1nWg0t",
        "outputId": "a2ebf785-987f-4173-9246-c737ad13fbcf"
      },
      "outputs": [
        {
          "output_type": "stream",
          "name": "stdout",
          "text": [
            "5209 2233\n"
          ]
        }
      ],
      "source": [
        "print(len(D_train), len(D_test))"
      ]
    },
    {
      "cell_type": "code",
      "execution_count": 17,
      "metadata": {
        "colab": {
          "base_uri": "https://localhost:8080/",
          "height": 35
        },
        "id": "9RqTKlDHXq-f",
        "outputId": "54fcfba7-d637-4243-d4cb-cb4d149e3ba6"
      },
      "outputs": [
        {
          "output_type": "execute_result",
          "data": {
            "text/plain": [
              "'/content/drive/MyDrive/Colab Notebooks/Speech_Emotion/Crema/1066_DFA_HAP_XX.wav'"
            ],
            "application/vnd.google.colaboratory.intrinsic+json": {
              "type": "string"
            }
          },
          "metadata": {},
          "execution_count": 17
        }
      ],
      "source": [
        "D_test[0]"
      ]
    },
    {
      "cell_type": "code",
      "execution_count": 18,
      "metadata": {
        "id": "EgU38C-idTBu"
      },
      "outputs": [],
      "source": [
        "def getMaxLen(audio_files):\n",
        "  max_length = 0\n",
        "  for audio_file in audio_files:\n",
        "    audio, _ = librosa.load(audio_file)\n",
        "    length = len(audio)\n",
        "    max_length = max(max_length, length)\n",
        "  return max_length"
      ]
    },
    {
      "cell_type": "code",
      "execution_count": 19,
      "metadata": {
        "id": "yMgXIyyNYSFb"
      },
      "outputs": [],
      "source": [
        "def loadAudio(audio_files):\n",
        "  classes = [\"SAD\", \"ANG\", \"DIS\", \"FEA\", \"HAP\", \"NEU\"]\n",
        "  # max_length = getMaxLen(audio_files)\n",
        "  max_length = 200\n",
        "  D, Y = [], []\n",
        "  for audio_file in audio_files: \n",
        "    # load the audio file\n",
        "    audio, sr = lib.load(audio_file, sr=4444)\n",
        "    # # extract zero crossing rate\n",
        "    # zcr = zeroCrossingRate(audio)\n",
        "    # # extract energy\n",
        "    # rms = energy(audio)\n",
        "    # extract mel spectrogram\n",
        "    mel_spec = melSpectrogram(audio, sr)\n",
        "    # # chroma stft\n",
        "    # cs = chromaStft(audio, sr)\n",
        "    # mfc = mfcc(audio, sr)\n",
        "    # ton = tonnetz(audio, sr)\n",
        "    # combined_features = np.concatenate((np.pad(audio, (0, max_length - len(audio))), [zcr, rms, mel_spec, cs, mfc]))\n",
        "    # combined_features = [zcr, rms, mel_spec, cs, mfc]\n",
        "    # print(len(combined_features))\n",
        "    D.append(mel_spec)\n",
        "    for cls in classes:\n",
        "      if re.search(cls, audio_file): Y.append(cls)\n",
        "  return D, Y"
      ]
    },
    {
      "cell_type": "code",
      "execution_count": 60,
      "metadata": {
        "id": "xtwZaAPLZ7xt"
      },
      "outputs": [],
      "source": [
        "D, Y = loadAudio(D_train)"
      ]
    },
    {
      "cell_type": "code",
      "source": [
        "unicheck = np.unique(Y, axis=0)\n",
        "unicheck"
      ],
      "metadata": {
        "colab": {
          "base_uri": "https://localhost:8080/"
        },
        "id": "OrMPj3gPjhQd",
        "outputId": "5094644d-dfd5-496b-d34a-f4f4f97cf4a5"
      },
      "execution_count": 61,
      "outputs": [
        {
          "output_type": "execute_result",
          "data": {
            "text/plain": [
              "array(['ANG', 'DIS', 'FEA', 'HAP', 'NEU', 'SAD'], dtype='<U3')"
            ]
          },
          "metadata": {},
          "execution_count": 61
        }
      ]
    },
    {
      "cell_type": "code",
      "execution_count": 62,
      "metadata": {
        "colab": {
          "base_uri": "https://localhost:8080/",
          "height": 206
        },
        "id": "GUgk6mioee_h",
        "outputId": "7202d2bd-97e1-449d-bd34-a873c6af212d"
      },
      "outputs": [
        {
          "output_type": "execute_result",
          "data": {
            "text/plain": [
              "     0\n",
              "0  FEA\n",
              "1  FEA\n",
              "2  FEA\n",
              "3  SAD\n",
              "4  HAP"
            ],
            "text/html": [
              "\n",
              "  <div id=\"df-98b0fdda-16e0-400e-9dcd-a5c2247ad8f2\">\n",
              "    <div class=\"colab-df-container\">\n",
              "      <div>\n",
              "<style scoped>\n",
              "    .dataframe tbody tr th:only-of-type {\n",
              "        vertical-align: middle;\n",
              "    }\n",
              "\n",
              "    .dataframe tbody tr th {\n",
              "        vertical-align: top;\n",
              "    }\n",
              "\n",
              "    .dataframe thead th {\n",
              "        text-align: right;\n",
              "    }\n",
              "</style>\n",
              "<table border=\"1\" class=\"dataframe\">\n",
              "  <thead>\n",
              "    <tr style=\"text-align: right;\">\n",
              "      <th></th>\n",
              "      <th>0</th>\n",
              "    </tr>\n",
              "  </thead>\n",
              "  <tbody>\n",
              "    <tr>\n",
              "      <th>0</th>\n",
              "      <td>FEA</td>\n",
              "    </tr>\n",
              "    <tr>\n",
              "      <th>1</th>\n",
              "      <td>FEA</td>\n",
              "    </tr>\n",
              "    <tr>\n",
              "      <th>2</th>\n",
              "      <td>FEA</td>\n",
              "    </tr>\n",
              "    <tr>\n",
              "      <th>3</th>\n",
              "      <td>SAD</td>\n",
              "    </tr>\n",
              "    <tr>\n",
              "      <th>4</th>\n",
              "      <td>HAP</td>\n",
              "    </tr>\n",
              "  </tbody>\n",
              "</table>\n",
              "</div>\n",
              "      <button class=\"colab-df-convert\" onclick=\"convertToInteractive('df-98b0fdda-16e0-400e-9dcd-a5c2247ad8f2')\"\n",
              "              title=\"Convert this dataframe to an interactive table.\"\n",
              "              style=\"display:none;\">\n",
              "        \n",
              "  <svg xmlns=\"http://www.w3.org/2000/svg\" height=\"24px\"viewBox=\"0 0 24 24\"\n",
              "       width=\"24px\">\n",
              "    <path d=\"M0 0h24v24H0V0z\" fill=\"none\"/>\n",
              "    <path d=\"M18.56 5.44l.94 2.06.94-2.06 2.06-.94-2.06-.94-.94-2.06-.94 2.06-2.06.94zm-11 1L8.5 8.5l.94-2.06 2.06-.94-2.06-.94L8.5 2.5l-.94 2.06-2.06.94zm10 10l.94 2.06.94-2.06 2.06-.94-2.06-.94-.94-2.06-.94 2.06-2.06.94z\"/><path d=\"M17.41 7.96l-1.37-1.37c-.4-.4-.92-.59-1.43-.59-.52 0-1.04.2-1.43.59L10.3 9.45l-7.72 7.72c-.78.78-.78 2.05 0 2.83L4 21.41c.39.39.9.59 1.41.59.51 0 1.02-.2 1.41-.59l7.78-7.78 2.81-2.81c.8-.78.8-2.07 0-2.86zM5.41 20L4 18.59l7.72-7.72 1.47 1.35L5.41 20z\"/>\n",
              "  </svg>\n",
              "      </button>\n",
              "      \n",
              "  <style>\n",
              "    .colab-df-container {\n",
              "      display:flex;\n",
              "      flex-wrap:wrap;\n",
              "      gap: 12px;\n",
              "    }\n",
              "\n",
              "    .colab-df-convert {\n",
              "      background-color: #E8F0FE;\n",
              "      border: none;\n",
              "      border-radius: 50%;\n",
              "      cursor: pointer;\n",
              "      display: none;\n",
              "      fill: #1967D2;\n",
              "      height: 32px;\n",
              "      padding: 0 0 0 0;\n",
              "      width: 32px;\n",
              "    }\n",
              "\n",
              "    .colab-df-convert:hover {\n",
              "      background-color: #E2EBFA;\n",
              "      box-shadow: 0px 1px 2px rgba(60, 64, 67, 0.3), 0px 1px 3px 1px rgba(60, 64, 67, 0.15);\n",
              "      fill: #174EA6;\n",
              "    }\n",
              "\n",
              "    [theme=dark] .colab-df-convert {\n",
              "      background-color: #3B4455;\n",
              "      fill: #D2E3FC;\n",
              "    }\n",
              "\n",
              "    [theme=dark] .colab-df-convert:hover {\n",
              "      background-color: #434B5C;\n",
              "      box-shadow: 0px 1px 3px 1px rgba(0, 0, 0, 0.15);\n",
              "      filter: drop-shadow(0px 1px 2px rgba(0, 0, 0, 0.3));\n",
              "      fill: #FFFFFF;\n",
              "    }\n",
              "  </style>\n",
              "\n",
              "      <script>\n",
              "        const buttonEl =\n",
              "          document.querySelector('#df-98b0fdda-16e0-400e-9dcd-a5c2247ad8f2 button.colab-df-convert');\n",
              "        buttonEl.style.display =\n",
              "          google.colab.kernel.accessAllowed ? 'block' : 'none';\n",
              "\n",
              "        async function convertToInteractive(key) {\n",
              "          const element = document.querySelector('#df-98b0fdda-16e0-400e-9dcd-a5c2247ad8f2');\n",
              "          const dataTable =\n",
              "            await google.colab.kernel.invokeFunction('convertToInteractive',\n",
              "                                                     [key], {});\n",
              "          if (!dataTable) return;\n",
              "\n",
              "          const docLinkHtml = 'Like what you see? Visit the ' +\n",
              "            '<a target=\"_blank\" href=https://colab.research.google.com/notebooks/data_table.ipynb>data table notebook</a>'\n",
              "            + ' to learn more about interactive tables.';\n",
              "          element.innerHTML = '';\n",
              "          dataTable['output_type'] = 'display_data';\n",
              "          await google.colab.output.renderOutput(dataTable, element);\n",
              "          const docLink = document.createElement('div');\n",
              "          docLink.innerHTML = docLinkHtml;\n",
              "          element.appendChild(docLink);\n",
              "        }\n",
              "      </script>\n",
              "    </div>\n",
              "  </div>\n",
              "  "
            ]
          },
          "metadata": {},
          "execution_count": 62
        }
      ],
      "source": [
        "df = pd.DataFrame(Y)\n",
        "df.head()"
      ]
    },
    {
      "cell_type": "code",
      "execution_count": 63,
      "metadata": {
        "colab": {
          "base_uri": "https://localhost:8080/"
        },
        "id": "zsGHDz33gla3",
        "outputId": "5ba0b04b-b319-455b-a0d4-ce0e16cd5163"
      },
      "outputs": [
        {
          "output_type": "stream",
          "name": "stdout",
          "text": [
            "(5209, 6)\n"
          ]
        }
      ],
      "source": [
        "# Use the get_dummies() method to one-hot encode the labels\n",
        "one_hot_labels = pd.get_dummies(df)\n",
        "\n",
        "# Convert the DataFrame to a NumPy array\n",
        "one_hot_labels = one_hot_labels.to_numpy()\n",
        "\n",
        "print(one_hot_labels.shape)"
      ]
    },
    {
      "cell_type": "code",
      "execution_count": 64,
      "metadata": {
        "colab": {
          "base_uri": "https://localhost:8080/"
        },
        "id": "tC97UHgRgopX",
        "outputId": "6a6eaa46-d8a0-4c23-c080-336a2014d2d2"
      },
      "outputs": [
        {
          "output_type": "execute_result",
          "data": {
            "text/plain": [
              "(5209, 6)"
            ]
          },
          "metadata": {},
          "execution_count": 64
        }
      ],
      "source": [
        "Y = one_hot_labels\n",
        "Y.shape"
      ]
    },
    {
      "cell_type": "code",
      "source": [
        "for i, array in enumerate(D):\n",
        "    D[i] = np.pad(array, ((0, 0), (0, 256 - array.shape[1])))\n",
        "D = np.array(D)"
      ],
      "metadata": {
        "id": "9rGP0HoHwFn2"
      },
      "execution_count": 65,
      "outputs": []
    },
    {
      "cell_type": "code",
      "source": [
        "D.shape"
      ],
      "metadata": {
        "colab": {
          "base_uri": "https://localhost:8080/"
        },
        "id": "0WQI9jQzwHtK",
        "outputId": "6a0a0e99-0e55-482c-a936-6626413598af"
      },
      "execution_count": 66,
      "outputs": [
        {
          "output_type": "execute_result",
          "data": {
            "text/plain": [
              "(5209, 64, 256)"
            ]
          },
          "metadata": {},
          "execution_count": 66
        }
      ]
    },
    {
      "cell_type": "code",
      "execution_count": 67,
      "metadata": {
        "colab": {
          "base_uri": "https://localhost:8080/"
        },
        "id": "iy502zPqgrjs",
        "outputId": "402bcda2-9f46-4423-9396-b27884b59f5a"
      },
      "outputs": [
        {
          "output_type": "stream",
          "name": "stdout",
          "text": [
            "((4688, 64, 256), (4688, 6), (521, 64, 256), (521, 6))\n"
          ]
        }
      ],
      "source": [
        "x_train, x_test, y_train, y_test = train_test_split(np.array(D), np.array(Y), test_size=0.1)\n",
        "print((x_train.shape, y_train.shape, x_test.shape, y_test.shape))"
      ]
    },
    {
      "cell_type": "code",
      "execution_count": 68,
      "metadata": {
        "id": "85miHU54hlCc"
      },
      "outputs": [],
      "source": [
        "x_train = x_train.reshape((x_train.shape[0], x_train.shape[1], x_train.shape[2], 1))\n",
        "x_test = x_test.reshape((x_test.shape[0], x_test.shape[1], x_test.shape[2], 1))"
      ]
    },
    {
      "cell_type": "code",
      "source": [
        "print(x_train.shape, x_test.shape)"
      ],
      "metadata": {
        "colab": {
          "base_uri": "https://localhost:8080/"
        },
        "id": "89DrNRKRxEWg",
        "outputId": "5714198b-d986-4564-9b01-618a4184cbb7"
      },
      "execution_count": 69,
      "outputs": [
        {
          "output_type": "stream",
          "name": "stdout",
          "text": [
            "(4688, 64, 256, 1) (521, 64, 256, 1)\n"
          ]
        }
      ]
    },
    {
      "cell_type": "code",
      "source": [
        "from tensorflow.keras.models import Sequential\n",
        "from tensorflow.keras.layers import Conv2D, MaxPooling2D, Flatten, Dense, Dropout\n",
        "\n",
        "input_shape = (64, 256, 1)\n",
        "\n",
        "model = Sequential()\n",
        "\n",
        "# Layer 1: Convolutional Layer\n",
        "model.add(Conv2D(32, (3, 3), activation='relu', input_shape=(x_train.shape[1], x_train.shape[2], 1)))\n",
        "model.add(MaxPooling2D(pool_size=(2, 2)))\n",
        "\n",
        "# Layer 2: Convolutional Layer\n",
        "model.add(Conv2D(64, (3, 3), activation='relu'))\n",
        "model.add(MaxPooling2D(pool_size=(2, 2)))\n",
        "\n",
        "# Layer 3: Convolutional Layer\n",
        "model.add(Conv2D(128, (3, 3), activation='relu'))\n",
        "model.add(MaxPooling2D(pool_size=(2, 2)))\n",
        "\n",
        "# Layer 4: Flatten Layer\n",
        "model.add(Flatten())\n",
        "\n",
        "# Layer 5: Fully Connected Layer\n",
        "model.add(Dense(256, activation='relu'))\n",
        "model.add(Dropout(0.5))\n",
        "\n",
        "# Layer 6: Fully Connected Layer\n",
        "model.add(Dense(128, activation='relu'))\n",
        "model.add(Dropout(0.5))\n",
        "\n",
        "# Layer 7: Output Layer\n",
        "model.add(Dense(6, activation='sigmoid'))\n",
        "\n",
        "model.compile(loss='categorical_crossentropy',\n",
        "             optimizer=optimizers.Adam(lr=0.0005),\n",
        "             metrics=['accuracy'])\n",
        "\n",
        "model.summary()"
      ],
      "metadata": {
        "colab": {
          "base_uri": "https://localhost:8080/"
        },
        "id": "_Qb69EaZ4cZj",
        "outputId": "669d82fc-414e-4f65-ee9c-f39788663da5"
      },
      "execution_count": 92,
      "outputs": [
        {
          "output_type": "stream",
          "name": "stdout",
          "text": [
            "Model: \"sequential_24\"\n",
            "_________________________________________________________________\n",
            " Layer (type)                Output Shape              Param #   \n",
            "=================================================================\n",
            " conv2d_100 (Conv2D)         (None, 62, 254, 32)       320       \n",
            "                                                                 \n",
            " max_pooling2d_81 (MaxPoolin  (None, 31, 127, 32)      0         \n",
            " g2D)                                                            \n",
            "                                                                 \n",
            " conv2d_101 (Conv2D)         (None, 29, 125, 64)       18496     \n",
            "                                                                 \n",
            " max_pooling2d_82 (MaxPoolin  (None, 14, 62, 64)       0         \n",
            " g2D)                                                            \n",
            "                                                                 \n",
            " conv2d_102 (Conv2D)         (None, 12, 60, 128)       73856     \n",
            "                                                                 \n",
            " max_pooling2d_83 (MaxPoolin  (None, 6, 30, 128)       0         \n",
            " g2D)                                                            \n",
            "                                                                 \n",
            " flatten_20 (Flatten)        (None, 23040)             0         \n",
            "                                                                 \n",
            " dense_47 (Dense)            (None, 256)               5898496   \n",
            "                                                                 \n",
            " dropout_37 (Dropout)        (None, 256)               0         \n",
            "                                                                 \n",
            " dense_48 (Dense)            (None, 128)               32896     \n",
            "                                                                 \n",
            " dropout_38 (Dropout)        (None, 128)               0         \n",
            "                                                                 \n",
            " dense_49 (Dense)            (None, 6)                 774       \n",
            "                                                                 \n",
            "=================================================================\n",
            "Total params: 6,024,838\n",
            "Trainable params: 6,024,838\n",
            "Non-trainable params: 0\n",
            "_________________________________________________________________\n"
          ]
        }
      ]
    },
    {
      "cell_type": "code",
      "execution_count": 93,
      "metadata": {
        "id": "gl590_cHhr3p",
        "colab": {
          "base_uri": "https://localhost:8080/"
        },
        "outputId": "bc042733-e4c6-43aa-9a6a-29ca5e6d27af"
      },
      "outputs": [
        {
          "output_type": "stream",
          "name": "stdout",
          "text": [
            "Epoch 1/50\n",
            "37/37 [==============================] - 3s 61ms/step - loss: 2.0012 - accuracy: 0.1924 - val_loss: 1.7093 - val_accuracy: 0.2745\n",
            "Epoch 2/50\n",
            "37/37 [==============================] - 2s 52ms/step - loss: 1.6667 - accuracy: 0.2901 - val_loss: 1.5358 - val_accuracy: 0.3877\n",
            "Epoch 3/50\n",
            "37/37 [==============================] - 2s 54ms/step - loss: 1.5959 - accuracy: 0.3300 - val_loss: 1.5354 - val_accuracy: 0.3954\n",
            "Epoch 4/50\n",
            "37/37 [==============================] - 2s 54ms/step - loss: 1.5505 - accuracy: 0.3558 - val_loss: 1.4692 - val_accuracy: 0.4050\n",
            "Epoch 5/50\n",
            "37/37 [==============================] - 2s 52ms/step - loss: 1.5110 - accuracy: 0.3744 - val_loss: 1.4576 - val_accuracy: 0.4069\n",
            "Epoch 6/50\n",
            "37/37 [==============================] - 2s 56ms/step - loss: 1.4889 - accuracy: 0.3763 - val_loss: 1.4346 - val_accuracy: 0.4203\n",
            "Epoch 7/50\n",
            "37/37 [==============================] - 2s 56ms/step - loss: 1.4740 - accuracy: 0.3925 - val_loss: 1.4123 - val_accuracy: 0.4472\n",
            "Epoch 8/50\n",
            "37/37 [==============================] - 2s 53ms/step - loss: 1.4795 - accuracy: 0.3919 - val_loss: 1.4143 - val_accuracy: 0.4338\n",
            "Epoch 9/50\n",
            "37/37 [==============================] - 2s 54ms/step - loss: 1.4384 - accuracy: 0.4136 - val_loss: 1.4034 - val_accuracy: 0.4319\n",
            "Epoch 10/50\n",
            "37/37 [==============================] - 2s 55ms/step - loss: 1.4205 - accuracy: 0.4249 - val_loss: 1.3750 - val_accuracy: 0.4530\n",
            "Epoch 11/50\n",
            "37/37 [==============================] - 2s 53ms/step - loss: 1.4171 - accuracy: 0.4294 - val_loss: 1.5033 - val_accuracy: 0.3781\n",
            "Epoch 12/50\n",
            "37/37 [==============================] - 2s 53ms/step - loss: 1.4016 - accuracy: 0.4366 - val_loss: 1.3533 - val_accuracy: 0.4530\n",
            "Epoch 13/50\n",
            "37/37 [==============================] - 2s 58ms/step - loss: 1.3728 - accuracy: 0.4571 - val_loss: 1.3553 - val_accuracy: 0.4568\n",
            "Epoch 14/50\n",
            "37/37 [==============================] - 2s 59ms/step - loss: 1.3630 - accuracy: 0.4608 - val_loss: 1.3442 - val_accuracy: 0.4549\n",
            "Epoch 15/50\n",
            "37/37 [==============================] - 2s 54ms/step - loss: 1.3078 - accuracy: 0.4778 - val_loss: 1.3362 - val_accuracy: 0.4779\n",
            "Epoch 16/50\n",
            "37/37 [==============================] - 2s 53ms/step - loss: 1.3005 - accuracy: 0.4838 - val_loss: 1.3620 - val_accuracy: 0.4607\n",
            "Epoch 17/50\n",
            "37/37 [==============================] - 2s 56ms/step - loss: 1.2731 - accuracy: 0.5075 - val_loss: 1.3151 - val_accuracy: 0.4837\n",
            "Epoch 18/50\n",
            "37/37 [==============================] - 2s 54ms/step - loss: 1.2358 - accuracy: 0.5115 - val_loss: 1.3159 - val_accuracy: 0.5048\n",
            "Epoch 19/50\n",
            "37/37 [==============================] - 2s 54ms/step - loss: 1.2230 - accuracy: 0.5245 - val_loss: 1.3416 - val_accuracy: 0.4702\n",
            "Epoch 20/50\n",
            "37/37 [==============================] - 2s 59ms/step - loss: 1.1798 - accuracy: 0.5373 - val_loss: 1.3491 - val_accuracy: 0.4818\n",
            "Epoch 21/50\n",
            "37/37 [==============================] - 2s 56ms/step - loss: 1.1683 - accuracy: 0.5450 - val_loss: 1.3664 - val_accuracy: 0.4626\n",
            "Epoch 22/50\n",
            "37/37 [==============================] - 2s 54ms/step - loss: 1.1150 - accuracy: 0.5678 - val_loss: 1.3265 - val_accuracy: 0.4856\n",
            "Epoch 23/50\n",
            "37/37 [==============================] - 2s 53ms/step - loss: 1.0793 - accuracy: 0.5828 - val_loss: 1.3662 - val_accuracy: 0.4875\n",
            "Epoch 24/50\n",
            "37/37 [==============================] - 2s 55ms/step - loss: 1.0305 - accuracy: 0.6062 - val_loss: 1.4883 - val_accuracy: 0.4530\n",
            "Epoch 25/50\n",
            "37/37 [==============================] - 2s 55ms/step - loss: 1.0203 - accuracy: 0.6133 - val_loss: 1.4032 - val_accuracy: 0.4952\n",
            "Epoch 26/50\n",
            "37/37 [==============================] - 2s 56ms/step - loss: 0.9506 - accuracy: 0.6367 - val_loss: 1.4501 - val_accuracy: 0.4549\n",
            "Epoch 27/50\n",
            "37/37 [==============================] - 2s 57ms/step - loss: 0.9572 - accuracy: 0.6372 - val_loss: 1.4573 - val_accuracy: 0.4837\n",
            "Epoch 28/50\n",
            "37/37 [==============================] - 2s 55ms/step - loss: 0.8731 - accuracy: 0.6653 - val_loss: 1.5472 - val_accuracy: 0.4683\n",
            "Epoch 29/50\n",
            "37/37 [==============================] - 2s 53ms/step - loss: 0.8382 - accuracy: 0.6824 - val_loss: 1.6433 - val_accuracy: 0.4722\n",
            "Epoch 30/50\n",
            "37/37 [==============================] - 2s 53ms/step - loss: 0.7879 - accuracy: 0.6988 - val_loss: 1.5930 - val_accuracy: 0.4702\n",
            "Epoch 31/50\n",
            "37/37 [==============================] - 2s 52ms/step - loss: 0.7483 - accuracy: 0.7184 - val_loss: 1.7616 - val_accuracy: 0.4856\n",
            "Epoch 32/50\n",
            "37/37 [==============================] - 2s 53ms/step - loss: 0.7133 - accuracy: 0.7342 - val_loss: 1.7170 - val_accuracy: 0.4568\n",
            "Epoch 33/50\n",
            "37/37 [==============================] - 2s 54ms/step - loss: 0.6671 - accuracy: 0.7513 - val_loss: 1.8463 - val_accuracy: 0.4626\n",
            "Epoch 34/50\n",
            "37/37 [==============================] - 2s 56ms/step - loss: 0.6478 - accuracy: 0.7590 - val_loss: 1.8792 - val_accuracy: 0.4741\n",
            "Epoch 35/50\n",
            "37/37 [==============================] - 2s 55ms/step - loss: 0.6096 - accuracy: 0.7814 - val_loss: 1.8025 - val_accuracy: 0.4683\n",
            "Epoch 36/50\n",
            "37/37 [==============================] - 2s 52ms/step - loss: 0.5880 - accuracy: 0.7807 - val_loss: 1.9983 - val_accuracy: 0.4683\n",
            "Epoch 37/50\n",
            "37/37 [==============================] - 2s 53ms/step - loss: 0.5288 - accuracy: 0.7974 - val_loss: 2.0662 - val_accuracy: 0.4626\n",
            "Epoch 38/50\n",
            "37/37 [==============================] - 2s 52ms/step - loss: 0.5053 - accuracy: 0.8114 - val_loss: 2.0833 - val_accuracy: 0.4568\n",
            "Epoch 39/50\n",
            "37/37 [==============================] - 2s 52ms/step - loss: 0.4575 - accuracy: 0.8296 - val_loss: 2.1112 - val_accuracy: 0.4568\n",
            "Epoch 40/50\n",
            "37/37 [==============================] - 2s 57ms/step - loss: 0.4546 - accuracy: 0.8319 - val_loss: 2.0792 - val_accuracy: 0.4568\n",
            "Epoch 41/50\n",
            "37/37 [==============================] - 2s 57ms/step - loss: 0.4175 - accuracy: 0.8453 - val_loss: 2.1406 - val_accuracy: 0.4530\n",
            "Epoch 42/50\n",
            "37/37 [==============================] - 2s 55ms/step - loss: 0.3968 - accuracy: 0.8575 - val_loss: 2.4143 - val_accuracy: 0.4280\n",
            "Epoch 43/50\n",
            "37/37 [==============================] - 2s 55ms/step - loss: 0.3568 - accuracy: 0.8701 - val_loss: 2.5748 - val_accuracy: 0.4453\n",
            "Epoch 44/50\n",
            "37/37 [==============================] - 2s 55ms/step - loss: 0.3400 - accuracy: 0.8803 - val_loss: 2.7971 - val_accuracy: 0.4722\n",
            "Epoch 45/50\n",
            "37/37 [==============================] - 2s 57ms/step - loss: 0.3249 - accuracy: 0.8837 - val_loss: 2.6810 - val_accuracy: 0.4607\n",
            "Epoch 46/50\n",
            "37/37 [==============================] - 2s 56ms/step - loss: 0.2999 - accuracy: 0.8942 - val_loss: 2.7315 - val_accuracy: 0.4587\n",
            "Epoch 47/50\n",
            "37/37 [==============================] - 2s 58ms/step - loss: 0.2935 - accuracy: 0.8948 - val_loss: 2.9268 - val_accuracy: 0.4434\n",
            "Epoch 48/50\n",
            "37/37 [==============================] - 2s 56ms/step - loss: 0.2736 - accuracy: 0.8976 - val_loss: 2.7992 - val_accuracy: 0.4511\n",
            "Epoch 49/50\n",
            "37/37 [==============================] - 2s 53ms/step - loss: 0.2622 - accuracy: 0.9002 - val_loss: 2.8122 - val_accuracy: 0.4434\n",
            "Epoch 50/50\n",
            "37/37 [==============================] - 2s 55ms/step - loss: 0.2374 - accuracy: 0.9157 - val_loss: 2.8578 - val_accuracy: 0.4530\n"
          ]
        }
      ],
      "source": [
        "history = model.fit(x_train, y_train,\n",
        "                    epochs=50,\n",
        "                    batch_size=128,\n",
        "                    validation_data=(x_test, y_test))"
      ]
    },
    {
      "cell_type": "code",
      "source": [],
      "metadata": {
        "id": "iaGFCAqQm826"
      },
      "execution_count": null,
      "outputs": []
    }
  ],
  "metadata": {
    "accelerator": "GPU",
    "colab": {
      "provenance": []
    },
    "gpuClass": "standard",
    "kernelspec": {
      "display_name": "Python 3",
      "name": "python3"
    },
    "language_info": {
      "name": "python"
    }
  },
  "nbformat": 4,
  "nbformat_minor": 0
}