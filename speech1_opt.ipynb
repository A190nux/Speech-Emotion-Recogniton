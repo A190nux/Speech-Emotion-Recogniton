{
  "nbformat": 4,
  "nbformat_minor": 0,
  "metadata": {
    "colab": {
      "provenance": [],
      "gpuType": "T4"
    },
    "kernelspec": {
      "name": "python3",
      "display_name": "Python 3"
    },
    "language_info": {
      "name": "python"
    },
    "accelerator": "GPU",
    "gpuClass": "standard"
  },
  "cells": [
    {
      "cell_type": "code",
      "source": [
        "import numpy as np\n",
        "import pandas as pd\n",
        "import matplotlib.pyplot as plt\n",
        "from pathlib import Path\n",
        "from scipy.io import wavfile\n",
        "import os.path\n",
        "import IPython.display\n",
        "import seaborn as sns\n",
        "import librosa\n",
        "import librosa.display\n",
        "import soundfile\n",
        "\n",
        "from sklearn.model_selection import train_test_split\n",
        "from sklearn.preprocessing import StandardScaler, LabelEncoder\n",
        "from sklearn.metrics import confusion_matrix\n",
        "\n",
        "import tensorflow as tf\n",
        "from tensorflow.keras import utils\n",
        "from keras.models import Sequential\n",
        "from keras.layers import Dense, Dropout, Activation, Conv1D, MaxPool1D, Flatten, BatchNormalization, ReLU\n",
        "from keras import optimizers\n",
        "from sklearn.preprocessing import StandardScaler\n",
        "\n",
        "import warnings"
      ],
      "metadata": {
        "id": "ia-kxB92fN7m"
      },
      "execution_count": 1,
      "outputs": []
    },
    {
      "cell_type": "code",
      "source": [
        "!pip install pydub"
      ],
      "metadata": {
        "colab": {
          "base_uri": "https://localhost:8080/"
        },
        "id": "qYqfTVd-ACo1",
        "outputId": "a678391f-cae0-422e-f012-65aaf416d1bd"
      },
      "execution_count": 2,
      "outputs": [
        {
          "output_type": "stream",
          "name": "stdout",
          "text": [
            "Looking in indexes: https://pypi.org/simple, https://us-python.pkg.dev/colab-wheels/public/simple/\n",
            "Requirement already satisfied: pydub in /usr/local/lib/python3.10/dist-packages (0.25.1)\n"
          ]
        }
      ]
    },
    {
      "cell_type": "code",
      "source": [
        "import re\n",
        "import os\n",
        "import wave\n",
        "import glob\n",
        "import numpy as np\n",
        "import pandas as pd\n",
        "import matplotlib.pyplot as plt\n",
        "from pydub import AudioSegment\n",
        "from IPython.display import Audio, display\n",
        "import librosa as lib\n",
        "import librosa.display\n",
        "\n",
        "from google.colab import drive\n",
        "drive.mount('/content/drive')"
      ],
      "metadata": {
        "colab": {
          "base_uri": "https://localhost:8080/"
        },
        "id": "41Ep1fpfSEWa",
        "outputId": "c5033905-d598-4ddc-d25b-c8a8244f13ae"
      },
      "execution_count": 3,
      "outputs": [
        {
          "output_type": "stream",
          "name": "stdout",
          "text": [
            "Drive already mounted at /content/drive; to attempt to forcibly remount, call drive.mount(\"/content/drive\", force_remount=True).\n"
          ]
        }
      ]
    },
    {
      "cell_type": "code",
      "source": [
        "import tensorflow as tf\n",
        "print(\"TensorFlow version:\", tf.__version__)\n",
        "\n",
        "from tensorflow.keras.layers import Dense, Flatten, Conv2D, MaxPool2D\n",
        "from tensorflow.keras import Model\n",
        "\n",
        "from sklearn.model_selection import train_test_split"
      ],
      "metadata": {
        "id": "23ihbA4UQk6k",
        "colab": {
          "base_uri": "https://localhost:8080/"
        },
        "outputId": "ab3f1207-d84a-466a-a454-e9e55bc486d1"
      },
      "execution_count": 4,
      "outputs": [
        {
          "output_type": "stream",
          "name": "stdout",
          "text": [
            "TensorFlow version: 2.12.0\n"
          ]
        }
      ]
    },
    {
      "cell_type": "code",
      "source": [
        "\n",
        "PATH = \"/content/drive/MyDrive/Colab-Notebooks/Crema\"\n",
        "AUDIO_PATH = \"/content/drive/MyDrive/Colab-Notebooks/Crema/1001_DFA_ANG_XX.wav\""
      ],
      "metadata": {
        "id": "bG0Iuy17RwCX"
      },
      "execution_count": 5,
      "outputs": []
    },
    {
      "cell_type": "code",
      "source": [
        "def zeroCrossingRate(audio):\n",
        "  return lib.feature.zero_crossing_rate(audio)"
      ],
      "metadata": {
        "id": "hZRUzrRHI3x4"
      },
      "execution_count": 6,
      "outputs": []
    },
    {
      "cell_type": "code",
      "source": [
        "def energy(audio):\n",
        "  # using a spectrogram will give a more accurate representation\n",
        "  # of energy over time because its frames can be windowed\n",
        "  S, phase = lib.magphase(lib.stft(audio))\n",
        "  return lib.feature.rms(S=S).mean()"
      ],
      "metadata": {
        "id": "YUj1b0stI8Jp"
      },
      "execution_count": 7,
      "outputs": []
    },
    {
      "cell_type": "code",
      "source": [
        "def melSpectrogram(audio, sr):\n",
        "  mel_spectrogram = lib.feature.melspectrogram(y=audio, sr=sr, n_fft=200)\n",
        "  log_mel_spectrogram = librosa.power_to_db(mel_spectrogram)\n",
        "  return log_mel_spectrogram.mean()"
      ],
      "metadata": {
        "id": "t03kfNaMJEUx"
      },
      "execution_count": 8,
      "outputs": []
    },
    {
      "cell_type": "code",
      "source": [
        "def chromaStft(audio, sr):\n",
        "  stft = np.abs(librosa.stft(audio))\n",
        "  return librosa.feature.chroma_stft(S=stft, sr=sr, n_fft=200).mean()"
      ],
      "metadata": {
        "id": "RFqdKI4dj-sx"
      },
      "execution_count": 9,
      "outputs": []
    },
    {
      "cell_type": "code",
      "source": [
        "def mfcc(data, sr):\n",
        "  return librosa.feature.mfcc(y=data, sr=sr, n_fft=200).mean()"
      ],
      "metadata": {
        "id": "bwJma-zak5ai"
      },
      "execution_count": 10,
      "outputs": []
    },
    {
      "cell_type": "code",
      "source": [
        "def tonnetz(data, sr):\n",
        "  return librosa.feature.tonnetz(y=data, sr=sr).mean();"
      ],
      "metadata": {
        "id": "fHiHGyRoqeAa"
      },
      "execution_count": 11,
      "outputs": []
    },
    {
      "cell_type": "code",
      "source": [
        "def playAudio(audio_file):\n",
        "  audio = AudioSegment.from_wav(audio_file)\n",
        "  # Play the audio\n",
        "  audio.export('temp_audio.wav', format='wav')\n",
        "  audio_data = open('temp_audio.wav', 'rb').read()\n",
        "  display(Audio(audio_data))\n",
        "  # Delete the temporary audio file\n",
        "  os.remove('temp_audio.wav')"
      ],
      "metadata": {
        "id": "GZLRcaVEinfV"
      },
      "execution_count": 12,
      "outputs": []
    },
    {
      "cell_type": "code",
      "source": [
        "def visualize_waveform(audio, sr):\n",
        "    plt.figure(figsize=(12, 4))\n",
        "    plt.plot(audio)\n",
        "    plt.xlabel('Time')\n",
        "    plt.ylabel('Amplitude')\n",
        "    plt.title('Waveform')\n",
        "    plt.show()"
      ],
      "metadata": {
        "id": "VErUAYc_mIzR"
      },
      "execution_count": 13,
      "outputs": []
    },
    {
      "cell_type": "code",
      "source": [
        "def loadAndListenToAudiolib(dataset_path, class_name):\n",
        "  D, Y = [], []\n",
        "  # defining the regular expression\n",
        "  audio_files = glob.glob(os.path.join(dataset_path, f\"*{class_name}*.wav\"))\n",
        "  print(class_name)\n",
        "  # play the audio\n",
        "  '''playAudio(audio_files[0])'''\n",
        "  # plot the spectrum\n",
        "  '''audio, sr = lib.load(audio_files[0])'''\n",
        "  '''visualize_waveform(audio, sr)'''\n",
        "  # plotWaveform(audio_files[0], class_name)\n",
        "  for audio_file in audio_files: \n",
        "    # load the audio file\n",
        "    audio, sr = lib.load(audio_file)\n",
        "    # extract zero crossing rate\n",
        "    zcr = zeroCrossingRate(audio)\n",
        "    # extract energy\n",
        "    rms = energy(audio)\n",
        "    # extract mel spectrogram\n",
        "    mel_spec = melSpectrogram(audio, sr)\n",
        "    # chroma stft\n",
        "    cs = chromaStft(audio, sr)\n",
        "    mfc = mfcc(audio, sr)\n",
        "    '''ton = tonnetz(audio, sr)'''\n",
        "    combined_features = np.concatenate(([rms, mel_spec, cs, mfc], (np.pad(zcr[0], (0, 300 - len(zcr[0]))))))\n",
        "    \"\"\"print(len(combined_features))\"\"\"\n",
        "    '''combined_features = [zcr, rms, mel_spec, cs, mfc, ton]'''\n",
        "    # print(combined_features)\n",
        "    '''D.append(combined_features)'''\n",
        "    D.append(combined_features)\n",
        "    Y.append(class_name)\n",
        "  return D, Y"
      ],
      "metadata": {
        "id": "IsHsSI2rrbMa"
      },
      "execution_count": 14,
      "outputs": []
    },
    {
      "cell_type": "code",
      "source": [
        "def loadDatalib(PATH):\n",
        "  D, Y = [], []\n",
        "  classes = [\"SAD\", \"ANG\", \"DIS\", \"FEA\", \"HAP\", \"NEU\"]\n",
        "  for cls in classes: \n",
        "    d, y = loadAndListenToAudiolib(PATH, cls)\n",
        "    # D = np.concatenate((D, d))\n",
        "    D.extend(d)\n",
        "    Y = np.concatenate((Y, y))\n",
        "  return D, Y"
      ],
      "metadata": {
        "id": "sHubX5-dsmWa"
      },
      "execution_count": 15,
      "outputs": []
    },
    {
      "cell_type": "code",
      "source": [
        "'''\n",
        "D, Y = loadDatalib(PATH)\n",
        "'''"
      ],
      "metadata": {
        "id": "OcBJBL3tLS2O",
        "colab": {
          "base_uri": "https://localhost:8080/",
          "height": 35
        },
        "outputId": "958902b3-7fdc-4d0d-b5d5-4c7c12ece285"
      },
      "execution_count": 16,
      "outputs": [
        {
          "output_type": "execute_result",
          "data": {
            "text/plain": [
              "'\\nD, Y = loadDatalib(PATH)\\n'"
            ],
            "application/vnd.google.colaboratory.intrinsic+json": {
              "type": "string"
            }
          },
          "metadata": {},
          "execution_count": 16
        }
      ]
    },
    {
      "cell_type": "code",
      "source": [
        "import pickle"
      ],
      "metadata": {
        "id": "NN5OcAvrvavT"
      },
      "execution_count": 17,
      "outputs": []
    },
    {
      "cell_type": "code",
      "source": [
        "'''\n",
        "# Open a file to write the variable to\n",
        "with open(\"D.pkl\", \"wb\") as f:\n",
        "\n",
        "    # Pickle the variable to the file\n",
        "    pickle.dump(D, f)\n",
        "\n",
        "# Close the file\n",
        "f.close()\n",
        "'''"
      ],
      "metadata": {
        "colab": {
          "base_uri": "https://localhost:8080/",
          "height": 35
        },
        "id": "O_9LLMfSvfCB",
        "outputId": "a1c0e5d1-d13a-46ff-8121-c8f91142e1df"
      },
      "execution_count": 18,
      "outputs": [
        {
          "output_type": "execute_result",
          "data": {
            "text/plain": [
              "'\\n# Open a file to write the variable to\\nwith open(\"D.pkl\", \"wb\") as f:\\n\\n    # Pickle the variable to the file\\n    pickle.dump(D, f)\\n\\n# Close the file\\nf.close()\\n'"
            ],
            "application/vnd.google.colaboratory.intrinsic+json": {
              "type": "string"
            }
          },
          "metadata": {},
          "execution_count": 18
        }
      ]
    },
    {
      "cell_type": "code",
      "source": [
        "'''\n",
        "# Open a file to write the variable to\n",
        "with open(\"Y.pkl\", \"wb\") as f:\n",
        "\n",
        "    # Pickle the variable to the file\n",
        "    pickle.dump(Y, f)\n",
        "\n",
        "# Close the file\n",
        "f.close()\n",
        "'''"
      ],
      "metadata": {
        "colab": {
          "base_uri": "https://localhost:8080/",
          "height": 35
        },
        "id": "5tYb9gK-vagp",
        "outputId": "1e0868a6-e072-4fb3-df64-0a92ef31c526"
      },
      "execution_count": 19,
      "outputs": [
        {
          "output_type": "execute_result",
          "data": {
            "text/plain": [
              "'\\n# Open a file to write the variable to\\nwith open(\"Y.pkl\", \"wb\") as f:\\n\\n    # Pickle the variable to the file\\n    pickle.dump(Y, f)\\n\\n# Close the file\\nf.close()\\n'"
            ],
            "application/vnd.google.colaboratory.intrinsic+json": {
              "type": "string"
            }
          },
          "metadata": {},
          "execution_count": 19
        }
      ]
    },
    {
      "cell_type": "code",
      "source": [
        "# Open the file to read the variable from\n",
        "with open(\"D.pkl\", \"rb\") as f:\n",
        "\n",
        "    # Load the variable from the file\n",
        "    D = pickle.load(f)\n",
        "\n",
        "# Close the file\n",
        "f.close()"
      ],
      "metadata": {
        "id": "L8vkjy7rvaev"
      },
      "execution_count": 20,
      "outputs": []
    },
    {
      "cell_type": "code",
      "source": [
        "# Open the file to read the variable from\n",
        "with open(\"Y.pkl\", \"rb\") as f:\n",
        "\n",
        "    # Load the variable from the file\n",
        "    Y = pickle.load(f)\n",
        "\n",
        "# Close the file\n",
        "f.close()"
      ],
      "metadata": {
        "id": "yyI66ecnvZ7d"
      },
      "execution_count": 21,
      "outputs": []
    },
    {
      "cell_type": "code",
      "source": [
        "scaler = StandardScaler()\n",
        "D = scaler.fit_transform(D)"
      ],
      "metadata": {
        "id": "l8YDKWJ3zg1I"
      },
      "execution_count": 22,
      "outputs": []
    },
    {
      "cell_type": "code",
      "source": [
        "D = np.array(D)\n",
        "D.shape"
      ],
      "metadata": {
        "id": "srtVtP5lIdrm",
        "colab": {
          "base_uri": "https://localhost:8080/"
        },
        "outputId": "4051100d-021e-45eb-9f94-02d7ce4f2bc1"
      },
      "execution_count": 23,
      "outputs": [
        {
          "output_type": "execute_result",
          "data": {
            "text/plain": [
              "(7442, 304)"
            ]
          },
          "metadata": {},
          "execution_count": 23
        }
      ]
    },
    {
      "cell_type": "code",
      "source": [
        "D"
      ],
      "metadata": {
        "colab": {
          "base_uri": "https://localhost:8080/"
        },
        "id": "QzQXhb1w13e-",
        "outputId": "24658063-2ab7-43c8-d7d1-9513750401cf"
      },
      "execution_count": 24,
      "outputs": [
        {
          "output_type": "execute_result",
          "data": {
            "text/plain": [
              "array([[-0.69282938, -1.36252996,  0.69473674, ...,  0.        ,\n",
              "         0.        ,  0.        ],\n",
              "       [-0.72519803, -1.31962175,  1.29348184, ...,  0.        ,\n",
              "         0.        ,  0.        ],\n",
              "       [-0.56897265, -0.64803653, -0.41303372, ...,  0.        ,\n",
              "         0.        ,  0.        ],\n",
              "       ...,\n",
              "       [-0.53791409, -0.16556313,  0.76860439, ...,  0.        ,\n",
              "         0.        ,  0.        ],\n",
              "       [-0.29328666,  0.04421738, -1.5261853 , ...,  0.        ,\n",
              "         0.        ,  0.        ],\n",
              "       [-0.46041624, -0.39200239, -0.65966204, ...,  0.        ,\n",
              "         0.        ,  0.        ]])"
            ]
          },
          "metadata": {},
          "execution_count": 24
        }
      ]
    },
    {
      "cell_type": "code",
      "source": [
        "Y.shape"
      ],
      "metadata": {
        "id": "X6FCElq7I01d",
        "colab": {
          "base_uri": "https://localhost:8080/"
        },
        "outputId": "bf5193dc-78a8-4788-e186-31ff5d307069"
      },
      "execution_count": 25,
      "outputs": [
        {
          "output_type": "execute_result",
          "data": {
            "text/plain": [
              "(7442,)"
            ]
          },
          "metadata": {},
          "execution_count": 25
        }
      ]
    },
    {
      "cell_type": "code",
      "source": [
        "df = pd.DataFrame(Y)"
      ],
      "metadata": {
        "id": "pKCQdLtHJU3g"
      },
      "execution_count": 26,
      "outputs": []
    },
    {
      "cell_type": "code",
      "source": [
        "df.head()"
      ],
      "metadata": {
        "id": "APTvq_yvW_6P",
        "colab": {
          "base_uri": "https://localhost:8080/",
          "height": 206
        },
        "outputId": "e3ce0d3f-fce0-40fd-ac76-eec168b2d183"
      },
      "execution_count": 27,
      "outputs": [
        {
          "output_type": "execute_result",
          "data": {
            "text/plain": [
              "     0\n",
              "0  SAD\n",
              "1  SAD\n",
              "2  SAD\n",
              "3  SAD\n",
              "4  SAD"
            ],
            "text/html": [
              "\n",
              "  <div id=\"df-75299996-2919-4d90-88a8-326dae5fe213\">\n",
              "    <div class=\"colab-df-container\">\n",
              "      <div>\n",
              "<style scoped>\n",
              "    .dataframe tbody tr th:only-of-type {\n",
              "        vertical-align: middle;\n",
              "    }\n",
              "\n",
              "    .dataframe tbody tr th {\n",
              "        vertical-align: top;\n",
              "    }\n",
              "\n",
              "    .dataframe thead th {\n",
              "        text-align: right;\n",
              "    }\n",
              "</style>\n",
              "<table border=\"1\" class=\"dataframe\">\n",
              "  <thead>\n",
              "    <tr style=\"text-align: right;\">\n",
              "      <th></th>\n",
              "      <th>0</th>\n",
              "    </tr>\n",
              "  </thead>\n",
              "  <tbody>\n",
              "    <tr>\n",
              "      <th>0</th>\n",
              "      <td>SAD</td>\n",
              "    </tr>\n",
              "    <tr>\n",
              "      <th>1</th>\n",
              "      <td>SAD</td>\n",
              "    </tr>\n",
              "    <tr>\n",
              "      <th>2</th>\n",
              "      <td>SAD</td>\n",
              "    </tr>\n",
              "    <tr>\n",
              "      <th>3</th>\n",
              "      <td>SAD</td>\n",
              "    </tr>\n",
              "    <tr>\n",
              "      <th>4</th>\n",
              "      <td>SAD</td>\n",
              "    </tr>\n",
              "  </tbody>\n",
              "</table>\n",
              "</div>\n",
              "      <button class=\"colab-df-convert\" onclick=\"convertToInteractive('df-75299996-2919-4d90-88a8-326dae5fe213')\"\n",
              "              title=\"Convert this dataframe to an interactive table.\"\n",
              "              style=\"display:none;\">\n",
              "        \n",
              "  <svg xmlns=\"http://www.w3.org/2000/svg\" height=\"24px\"viewBox=\"0 0 24 24\"\n",
              "       width=\"24px\">\n",
              "    <path d=\"M0 0h24v24H0V0z\" fill=\"none\"/>\n",
              "    <path d=\"M18.56 5.44l.94 2.06.94-2.06 2.06-.94-2.06-.94-.94-2.06-.94 2.06-2.06.94zm-11 1L8.5 8.5l.94-2.06 2.06-.94-2.06-.94L8.5 2.5l-.94 2.06-2.06.94zm10 10l.94 2.06.94-2.06 2.06-.94-2.06-.94-.94-2.06-.94 2.06-2.06.94z\"/><path d=\"M17.41 7.96l-1.37-1.37c-.4-.4-.92-.59-1.43-.59-.52 0-1.04.2-1.43.59L10.3 9.45l-7.72 7.72c-.78.78-.78 2.05 0 2.83L4 21.41c.39.39.9.59 1.41.59.51 0 1.02-.2 1.41-.59l7.78-7.78 2.81-2.81c.8-.78.8-2.07 0-2.86zM5.41 20L4 18.59l7.72-7.72 1.47 1.35L5.41 20z\"/>\n",
              "  </svg>\n",
              "      </button>\n",
              "      \n",
              "  <style>\n",
              "    .colab-df-container {\n",
              "      display:flex;\n",
              "      flex-wrap:wrap;\n",
              "      gap: 12px;\n",
              "    }\n",
              "\n",
              "    .colab-df-convert {\n",
              "      background-color: #E8F0FE;\n",
              "      border: none;\n",
              "      border-radius: 50%;\n",
              "      cursor: pointer;\n",
              "      display: none;\n",
              "      fill: #1967D2;\n",
              "      height: 32px;\n",
              "      padding: 0 0 0 0;\n",
              "      width: 32px;\n",
              "    }\n",
              "\n",
              "    .colab-df-convert:hover {\n",
              "      background-color: #E2EBFA;\n",
              "      box-shadow: 0px 1px 2px rgba(60, 64, 67, 0.3), 0px 1px 3px 1px rgba(60, 64, 67, 0.15);\n",
              "      fill: #174EA6;\n",
              "    }\n",
              "\n",
              "    [theme=dark] .colab-df-convert {\n",
              "      background-color: #3B4455;\n",
              "      fill: #D2E3FC;\n",
              "    }\n",
              "\n",
              "    [theme=dark] .colab-df-convert:hover {\n",
              "      background-color: #434B5C;\n",
              "      box-shadow: 0px 1px 3px 1px rgba(0, 0, 0, 0.15);\n",
              "      filter: drop-shadow(0px 1px 2px rgba(0, 0, 0, 0.3));\n",
              "      fill: #FFFFFF;\n",
              "    }\n",
              "  </style>\n",
              "\n",
              "      <script>\n",
              "        const buttonEl =\n",
              "          document.querySelector('#df-75299996-2919-4d90-88a8-326dae5fe213 button.colab-df-convert');\n",
              "        buttonEl.style.display =\n",
              "          google.colab.kernel.accessAllowed ? 'block' : 'none';\n",
              "\n",
              "        async function convertToInteractive(key) {\n",
              "          const element = document.querySelector('#df-75299996-2919-4d90-88a8-326dae5fe213');\n",
              "          const dataTable =\n",
              "            await google.colab.kernel.invokeFunction('convertToInteractive',\n",
              "                                                     [key], {});\n",
              "          if (!dataTable) return;\n",
              "\n",
              "          const docLinkHtml = 'Like what you see? Visit the ' +\n",
              "            '<a target=\"_blank\" href=https://colab.research.google.com/notebooks/data_table.ipynb>data table notebook</a>'\n",
              "            + ' to learn more about interactive tables.';\n",
              "          element.innerHTML = '';\n",
              "          dataTable['output_type'] = 'display_data';\n",
              "          await google.colab.output.renderOutput(dataTable, element);\n",
              "          const docLink = document.createElement('div');\n",
              "          docLink.innerHTML = docLinkHtml;\n",
              "          element.appendChild(docLink);\n",
              "        }\n",
              "      </script>\n",
              "    </div>\n",
              "  </div>\n",
              "  "
            ]
          },
          "metadata": {},
          "execution_count": 27
        }
      ]
    },
    {
      "cell_type": "code",
      "source": [
        "# Use the get_dummies() method to one-hot encode the labels\n",
        "one_hot_labels = pd.get_dummies(df)\n",
        "\n",
        "# Convert the DataFrame to a NumPy array\n",
        "one_hot_labels = one_hot_labels.to_numpy()\n",
        "\n",
        "print(one_hot_labels.shape)"
      ],
      "metadata": {
        "id": "hSuuqU8YW-pj",
        "colab": {
          "base_uri": "https://localhost:8080/"
        },
        "outputId": "495c4c7f-7878-4863-edd1-4354adc105ce"
      },
      "execution_count": 28,
      "outputs": [
        {
          "output_type": "stream",
          "name": "stdout",
          "text": [
            "(7442, 6)\n"
          ]
        }
      ]
    },
    {
      "cell_type": "code",
      "source": [
        "Y = one_hot_labels"
      ],
      "metadata": {
        "id": "A5oOIKMWXEyr"
      },
      "execution_count": 29,
      "outputs": []
    },
    {
      "cell_type": "code",
      "source": [
        "Y.shape"
      ],
      "metadata": {
        "id": "UfZhBxf5XQbf",
        "colab": {
          "base_uri": "https://localhost:8080/"
        },
        "outputId": "19d98cfc-a5da-4c8c-c66e-2edad8ecb521"
      },
      "execution_count": 30,
      "outputs": [
        {
          "output_type": "execute_result",
          "data": {
            "text/plain": [
              "(7442, 6)"
            ]
          },
          "metadata": {},
          "execution_count": 30
        }
      ]
    },
    {
      "cell_type": "code",
      "source": [
        "X_train, X_test, y_train, y_test = train_test_split(D, Y, test_size=0.05, random_state=69, shuffle=True, stratify=Y)"
      ],
      "metadata": {
        "id": "_8p_f52KRIHo"
      },
      "execution_count": 31,
      "outputs": []
    },
    {
      "cell_type": "code",
      "source": [
        "print(X_train.shape)\n",
        "print(X_test.shape)\n",
        "print(y_train.shape)\n",
        "print(y_test.shape)"
      ],
      "metadata": {
        "id": "YpxgNsNNYY6L",
        "colab": {
          "base_uri": "https://localhost:8080/"
        },
        "outputId": "a3a057c3-113e-4aea-c9e2-dec986bb9cec"
      },
      "execution_count": 32,
      "outputs": [
        {
          "output_type": "stream",
          "name": "stdout",
          "text": [
            "(7069, 304)\n",
            "(373, 304)\n",
            "(7069, 6)\n",
            "(373, 6)\n"
          ]
        }
      ]
    },
    {
      "cell_type": "code",
      "source": [
        "X_train = X_train.reshape((X_train.shape[0], X_train.shape[1], 1))\n",
        "X_test = X_test.reshape((X_test.shape[0], X_test.shape[1], 1))"
      ],
      "metadata": {
        "id": "Y1sK4j5Ubnhu"
      },
      "execution_count": 33,
      "outputs": []
    },
    {
      "cell_type": "code",
      "source": [
        "print(X_train.shape, X_test.shape)"
      ],
      "metadata": {
        "id": "9w6_MobXNagQ",
        "outputId": "d3739472-02c1-437e-f265-ddec7cde350c",
        "colab": {
          "base_uri": "https://localhost:8080/"
        }
      },
      "execution_count": 34,
      "outputs": [
        {
          "output_type": "stream",
          "name": "stdout",
          "text": [
            "(7069, 304, 1) (373, 304, 1)\n"
          ]
        }
      ]
    },
    {
      "cell_type": "code",
      "source": [
        "unicheck = np.unique(y_test, axis=0)"
      ],
      "metadata": {
        "id": "MNkEcVh8Yh9X"
      },
      "execution_count": 35,
      "outputs": []
    },
    {
      "cell_type": "code",
      "source": [
        "unicheck"
      ],
      "metadata": {
        "id": "AVdqdhg6ZMmg",
        "colab": {
          "base_uri": "https://localhost:8080/"
        },
        "outputId": "27246962-2bbe-4aeb-ffaa-e4e1472bf391"
      },
      "execution_count": 36,
      "outputs": [
        {
          "output_type": "execute_result",
          "data": {
            "text/plain": [
              "array([[0, 0, 0, 0, 0, 1],\n",
              "       [0, 0, 0, 0, 1, 0],\n",
              "       [0, 0, 0, 1, 0, 0],\n",
              "       [0, 0, 1, 0, 0, 0],\n",
              "       [0, 1, 0, 0, 0, 0],\n",
              "       [1, 0, 0, 0, 0, 0]], dtype=uint8)"
            ]
          },
          "metadata": {},
          "execution_count": 36
        }
      ]
    },
    {
      "cell_type": "code",
      "source": [
        "X_train.shape"
      ],
      "metadata": {
        "colab": {
          "base_uri": "https://localhost:8080/"
        },
        "id": "ALUFxmAQbXES",
        "outputId": "24949ce7-d5dc-417c-a99e-1451c4fd6db0"
      },
      "execution_count": 37,
      "outputs": [
        {
          "output_type": "execute_result",
          "data": {
            "text/plain": [
              "(7069, 304, 1)"
            ]
          },
          "metadata": {},
          "execution_count": 37
        }
      ]
    },
    {
      "cell_type": "code",
      "source": [
        "model = Sequential()\n",
        "model.add(Conv1D(64, 3, input_shape=(X_train.shape[1], 1), kernel_regularizer='l2'))\n",
        "model.add(BatchNormalization(axis=1))\n",
        "model.add(ReLU())\n",
        "model.add(MaxPool1D(pool_size=3))\n",
        "\n",
        "model.add(Conv1D(128, 3, kernel_regularizer='l2'))\n",
        "model.add(BatchNormalization(axis=1))\n",
        "model.add(ReLU())\n",
        "model.add(MaxPool1D(pool_size=3))\n",
        "\n",
        "model.add(Conv1D(256, 3, kernel_regularizer='l2'))\n",
        "model.add(BatchNormalization(axis=1))\n",
        "model.add(ReLU())\n",
        "model.add(MaxPool1D(pool_size=3))\n",
        "\n",
        "model.add(Conv1D(512, 3, kernel_regularizer='l2'))\n",
        "model.add(BatchNormalization(axis=1))\n",
        "model.add(ReLU())\n",
        "model.add(MaxPool1D(pool_size=3))\n",
        "\n",
        "model.add(Flatten())\n",
        "model.add(Dense(256, kernel_regularizer='l2'))\n",
        "model.add(BatchNormalization(axis=1))\n",
        "model.add(ReLU())\n",
        "model.add(Dropout(0.3))\n",
        "\n",
        "model.add(Dense(128, kernel_regularizer='l2'))\n",
        "model.add(BatchNormalization(axis=1))\n",
        "model.add(ReLU())\n",
        "model.add(Dropout(0.3))\n",
        "\n",
        "model.add(Dense(64, kernel_regularizer='l2'))\n",
        "model.add(BatchNormalization(axis=1))\n",
        "model.add(ReLU())\n",
        "model.add(Dropout(0.3))\n",
        "\n",
        "model.add(Dense(6, activation='softmax'))\n",
        "\n",
        "model.compile(loss='categorical_crossentropy',\n",
        "             optimizer=optimizers.Adam(learning_rate=0.00005),\n",
        "             metrics=['accuracy'])\n",
        "\n",
        "model.summary()"
      ],
      "metadata": {
        "id": "1hbH-j7P6ZZ1",
        "outputId": "95ab72d1-03f1-49b2-fe75-375b959b4e06",
        "colab": {
          "base_uri": "https://localhost:8080/"
        }
      },
      "execution_count": 49,
      "outputs": [
        {
          "output_type": "stream",
          "name": "stdout",
          "text": [
            "Model: \"sequential_6\"\n",
            "_________________________________________________________________\n",
            " Layer (type)                Output Shape              Param #   \n",
            "=================================================================\n",
            " conv1d_24 (Conv1D)          (None, 302, 64)           256       \n",
            "                                                                 \n",
            " batch_normalization_39 (Bat  (None, 302, 64)          1208      \n",
            " chNormalization)                                                \n",
            "                                                                 \n",
            " re_lu_39 (ReLU)             (None, 302, 64)           0         \n",
            "                                                                 \n",
            " max_pooling1d_23 (MaxPoolin  (None, 100, 64)          0         \n",
            " g1D)                                                            \n",
            "                                                                 \n",
            " conv1d_25 (Conv1D)          (None, 98, 128)           24704     \n",
            "                                                                 \n",
            " batch_normalization_40 (Bat  (None, 98, 128)          392       \n",
            " chNormalization)                                                \n",
            "                                                                 \n",
            " re_lu_40 (ReLU)             (None, 98, 128)           0         \n",
            "                                                                 \n",
            " max_pooling1d_24 (MaxPoolin  (None, 32, 128)          0         \n",
            " g1D)                                                            \n",
            "                                                                 \n",
            " conv1d_26 (Conv1D)          (None, 30, 256)           98560     \n",
            "                                                                 \n",
            " batch_normalization_41 (Bat  (None, 30, 256)          120       \n",
            " chNormalization)                                                \n",
            "                                                                 \n",
            " re_lu_41 (ReLU)             (None, 30, 256)           0         \n",
            "                                                                 \n",
            " max_pooling1d_25 (MaxPoolin  (None, 10, 256)          0         \n",
            " g1D)                                                            \n",
            "                                                                 \n",
            " conv1d_27 (Conv1D)          (None, 8, 512)            393728    \n",
            "                                                                 \n",
            " batch_normalization_42 (Bat  (None, 8, 512)           32        \n",
            " chNormalization)                                                \n",
            "                                                                 \n",
            " re_lu_42 (ReLU)             (None, 8, 512)            0         \n",
            "                                                                 \n",
            " max_pooling1d_26 (MaxPoolin  (None, 2, 512)           0         \n",
            " g1D)                                                            \n",
            "                                                                 \n",
            " flatten_5 (Flatten)         (None, 1024)              0         \n",
            "                                                                 \n",
            " dense_21 (Dense)            (None, 256)               262400    \n",
            "                                                                 \n",
            " batch_normalization_43 (Bat  (None, 256)              1024      \n",
            " chNormalization)                                                \n",
            "                                                                 \n",
            " re_lu_43 (ReLU)             (None, 256)               0         \n",
            "                                                                 \n",
            " dropout_16 (Dropout)        (None, 256)               0         \n",
            "                                                                 \n",
            " dense_22 (Dense)            (None, 128)               32896     \n",
            "                                                                 \n",
            " batch_normalization_44 (Bat  (None, 128)              512       \n",
            " chNormalization)                                                \n",
            "                                                                 \n",
            " re_lu_44 (ReLU)             (None, 128)               0         \n",
            "                                                                 \n",
            " dropout_17 (Dropout)        (None, 128)               0         \n",
            "                                                                 \n",
            " dense_23 (Dense)            (None, 64)                8256      \n",
            "                                                                 \n",
            " batch_normalization_45 (Bat  (None, 64)               256       \n",
            " chNormalization)                                                \n",
            "                                                                 \n",
            " re_lu_45 (ReLU)             (None, 64)                0         \n",
            "                                                                 \n",
            " dropout_18 (Dropout)        (None, 64)                0         \n",
            "                                                                 \n",
            " dense_24 (Dense)            (None, 6)                 390       \n",
            "                                                                 \n",
            "=================================================================\n",
            "Total params: 824,734\n",
            "Trainable params: 822,962\n",
            "Non-trainable params: 1,772\n",
            "_________________________________________________________________\n"
          ]
        }
      ]
    },
    {
      "cell_type": "code",
      "source": [
        "history = model.fit(X_train, y_train,\n",
        "                    epochs=100,\n",
        "                    batch_size=128,\n",
        "                    validation_data=(X_test, y_test))"
      ],
      "metadata": {
        "id": "FBFwnhHPNlCj",
        "outputId": "8c2e564f-935b-4b82-d11a-6eb748a62924",
        "colab": {
          "base_uri": "https://localhost:8080/"
        }
      },
      "execution_count": 53,
      "outputs": [
        {
          "output_type": "stream",
          "name": "stdout",
          "text": [
            "Epoch 1/10\n",
            "56/56 [==============================] - 1s 21ms/step - loss: 2.0773 - accuracy: 0.8929 - val_loss: 4.0903 - val_accuracy: 0.3566\n",
            "Epoch 2/10\n",
            "56/56 [==============================] - 1s 20ms/step - loss: 2.0594 - accuracy: 0.8899 - val_loss: 3.8359 - val_accuracy: 0.4182\n",
            "Epoch 3/10\n",
            "56/56 [==============================] - 1s 19ms/step - loss: 2.0169 - accuracy: 0.9032 - val_loss: 3.6879 - val_accuracy: 0.4370\n",
            "Epoch 4/10\n",
            "56/56 [==============================] - 1s 19ms/step - loss: 2.0221 - accuracy: 0.8915 - val_loss: 3.8456 - val_accuracy: 0.4048\n",
            "Epoch 5/10\n",
            "56/56 [==============================] - 1s 18ms/step - loss: 1.9744 - accuracy: 0.9058 - val_loss: 3.9291 - val_accuracy: 0.3673\n",
            "Epoch 6/10\n",
            "56/56 [==============================] - 1s 15ms/step - loss: 1.9519 - accuracy: 0.9113 - val_loss: 3.9324 - val_accuracy: 0.4236\n",
            "Epoch 7/10\n",
            "56/56 [==============================] - 1s 15ms/step - loss: 1.9410 - accuracy: 0.9054 - val_loss: 3.7555 - val_accuracy: 0.4075\n",
            "Epoch 8/10\n",
            "56/56 [==============================] - 1s 15ms/step - loss: 1.9081 - accuracy: 0.9158 - val_loss: 3.8206 - val_accuracy: 0.4424\n",
            "Epoch 9/10\n",
            "56/56 [==============================] - 1s 15ms/step - loss: 1.8985 - accuracy: 0.9116 - val_loss: 3.7665 - val_accuracy: 0.3995\n",
            "Epoch 10/10\n",
            "56/56 [==============================] - 1s 15ms/step - loss: 1.8804 - accuracy: 0.9117 - val_loss: 3.8000 - val_accuracy: 0.3619\n"
          ]
        }
      ]
    },
    {
      "cell_type": "code",
      "source": [],
      "metadata": {
        "id": "8S6b6gH4NsDC"
      },
      "execution_count": null,
      "outputs": []
    }
  ]
}