{
  "cells": [
    {
      "cell_type": "code",
      "source": [
        "!pip install audiomentations"
      ],
      "metadata": {
        "id": "ioEPduLUVoRG",
        "outputId": "04f6f144-f13b-4425-c63d-4790153e6c7c",
        "colab": {
          "base_uri": "https://localhost:8080/"
        }
      },
      "execution_count": 1,
      "outputs": [
        {
          "output_type": "stream",
          "name": "stdout",
          "text": [
            "Looking in indexes: https://pypi.org/simple, https://us-python.pkg.dev/colab-wheels/public/simple/\n",
            "Collecting audiomentations\n",
            "  Downloading audiomentations-0.30.0-py3-none-any.whl (68 kB)\n",
            "\u001b[2K     \u001b[90m━━━━━━━━━━━━━━━━━━━━━━━━━━━━━━━━━━━━━━━━\u001b[0m \u001b[32m68.8/68.8 kB\u001b[0m \u001b[31m1.9 MB/s\u001b[0m eta \u001b[36m0:00:00\u001b[0m\n",
            "\u001b[?25hRequirement already satisfied: numpy>=1.13.0 in /usr/local/lib/python3.10/dist-packages (from audiomentations) (1.22.4)\n",
            "Collecting librosa<0.10.0,>0.7.2 (from audiomentations)\n",
            "  Downloading librosa-0.9.2-py3-none-any.whl (214 kB)\n",
            "\u001b[2K     \u001b[90m━━━━━━━━━━━━━━━━━━━━━━━━━━━━━━━━━━━━━━━\u001b[0m \u001b[32m214.3/214.3 kB\u001b[0m \u001b[31m3.9 MB/s\u001b[0m eta \u001b[36m0:00:00\u001b[0m\n",
            "\u001b[?25hRequirement already satisfied: scipy<2,>=1.0.0 in /usr/local/lib/python3.10/dist-packages (from audiomentations) (1.10.1)\n",
            "Requirement already satisfied: audioread>=2.1.9 in /usr/local/lib/python3.10/dist-packages (from librosa<0.10.0,>0.7.2->audiomentations) (3.0.0)\n",
            "Requirement already satisfied: scikit-learn>=0.19.1 in /usr/local/lib/python3.10/dist-packages (from librosa<0.10.0,>0.7.2->audiomentations) (1.2.2)\n",
            "Requirement already satisfied: joblib>=0.14 in /usr/local/lib/python3.10/dist-packages (from librosa<0.10.0,>0.7.2->audiomentations) (1.2.0)\n",
            "Requirement already satisfied: decorator>=4.0.10 in /usr/local/lib/python3.10/dist-packages (from librosa<0.10.0,>0.7.2->audiomentations) (4.4.2)\n",
            "Collecting resampy>=0.2.2 (from librosa<0.10.0,>0.7.2->audiomentations)\n",
            "  Downloading resampy-0.4.2-py3-none-any.whl (3.1 MB)\n",
            "\u001b[2K     \u001b[90m━━━━━━━━━━━━━━━━━━━━━━━━━━━━━━━━━━━━━━━━\u001b[0m \u001b[32m3.1/3.1 MB\u001b[0m \u001b[31m26.3 MB/s\u001b[0m eta \u001b[36m0:00:00\u001b[0m\n",
            "\u001b[?25hRequirement already satisfied: numba>=0.45.1 in /usr/local/lib/python3.10/dist-packages (from librosa<0.10.0,>0.7.2->audiomentations) (0.56.4)\n",
            "Requirement already satisfied: soundfile>=0.10.2 in /usr/local/lib/python3.10/dist-packages (from librosa<0.10.0,>0.7.2->audiomentations) (0.12.1)\n",
            "Requirement already satisfied: pooch>=1.0 in /usr/local/lib/python3.10/dist-packages (from librosa<0.10.0,>0.7.2->audiomentations) (1.6.0)\n",
            "Requirement already satisfied: packaging>=20.0 in /usr/local/lib/python3.10/dist-packages (from librosa<0.10.0,>0.7.2->audiomentations) (23.1)\n",
            "Requirement already satisfied: llvmlite<0.40,>=0.39.0dev0 in /usr/local/lib/python3.10/dist-packages (from numba>=0.45.1->librosa<0.10.0,>0.7.2->audiomentations) (0.39.1)\n",
            "Requirement already satisfied: setuptools in /usr/local/lib/python3.10/dist-packages (from numba>=0.45.1->librosa<0.10.0,>0.7.2->audiomentations) (67.7.2)\n",
            "Requirement already satisfied: appdirs>=1.3.0 in /usr/local/lib/python3.10/dist-packages (from pooch>=1.0->librosa<0.10.0,>0.7.2->audiomentations) (1.4.4)\n",
            "Requirement already satisfied: requests>=2.19.0 in /usr/local/lib/python3.10/dist-packages (from pooch>=1.0->librosa<0.10.0,>0.7.2->audiomentations) (2.27.1)\n",
            "Requirement already satisfied: threadpoolctl>=2.0.0 in /usr/local/lib/python3.10/dist-packages (from scikit-learn>=0.19.1->librosa<0.10.0,>0.7.2->audiomentations) (3.1.0)\n",
            "Requirement already satisfied: cffi>=1.0 in /usr/local/lib/python3.10/dist-packages (from soundfile>=0.10.2->librosa<0.10.0,>0.7.2->audiomentations) (1.15.1)\n",
            "Requirement already satisfied: pycparser in /usr/local/lib/python3.10/dist-packages (from cffi>=1.0->soundfile>=0.10.2->librosa<0.10.0,>0.7.2->audiomentations) (2.21)\n",
            "Requirement already satisfied: urllib3<1.27,>=1.21.1 in /usr/local/lib/python3.10/dist-packages (from requests>=2.19.0->pooch>=1.0->librosa<0.10.0,>0.7.2->audiomentations) (1.26.15)\n",
            "Requirement already satisfied: certifi>=2017.4.17 in /usr/local/lib/python3.10/dist-packages (from requests>=2.19.0->pooch>=1.0->librosa<0.10.0,>0.7.2->audiomentations) (2022.12.7)\n",
            "Requirement already satisfied: charset-normalizer~=2.0.0 in /usr/local/lib/python3.10/dist-packages (from requests>=2.19.0->pooch>=1.0->librosa<0.10.0,>0.7.2->audiomentations) (2.0.12)\n",
            "Requirement already satisfied: idna<4,>=2.5 in /usr/local/lib/python3.10/dist-packages (from requests>=2.19.0->pooch>=1.0->librosa<0.10.0,>0.7.2->audiomentations) (3.4)\n",
            "Installing collected packages: resampy, librosa, audiomentations\n",
            "  Attempting uninstall: librosa\n",
            "    Found existing installation: librosa 0.10.0.post2\n",
            "    Uninstalling librosa-0.10.0.post2:\n",
            "      Successfully uninstalled librosa-0.10.0.post2\n",
            "Successfully installed audiomentations-0.30.0 librosa-0.9.2 resampy-0.4.2\n"
          ]
        }
      ]
    },
    {
      "cell_type": "code",
      "execution_count": null,
      "metadata": {
        "id": "z1LtRnT4W4mY"
      },
      "outputs": [],
      "source": [
        "import numpy as np\n",
        "import pandas as pd\n",
        "import matplotlib.pyplot as plt\n",
        "from pathlib import Path\n",
        "from scipy.io import wavfile\n",
        "import os.path\n",
        "import IPython.display\n",
        "import seaborn as sns\n",
        "import librosa\n",
        "import librosa.display\n",
        "import soundfile\n",
        "from audiomentations import Compose, AddGaussianNoise, TimeStretch, PitchShift\n",
        "\n",
        "from sklearn.model_selection import train_test_split\n",
        "from sklearn.preprocessing import StandardScaler, LabelEncoder\n",
        "from sklearn.metrics import confusion_matrix\n",
        "\n",
        "import tensorflow as tf\n",
        "from tensorflow.keras import utils\n",
        "from keras.models import Sequential\n",
        "from keras.layers import Dense, Dropout, Activation, Conv1D, MaxPooling1D, Flatten, BatchNormalization\n",
        "from tensorflow.keras.models import Sequential\n",
        "from tensorflow.keras.layers import Conv2D, MaxPooling2D, Flatten, Dense, Dropout\n",
        "from keras import optimizers\n",
        "\n",
        "from keras import optimizers,regularizers\n",
        "from tensorflow.python.keras.callbacks import ModelCheckpoint\n",
        "from tensorflow.keras.callbacks import ModelCheckpoint, EarlyStopping\n",
        "from sklearn.decomposition import PCA\n",
        "import warnings"
      ]
    },
    {
      "cell_type": "code",
      "execution_count": 2,
      "metadata": {
        "colab": {
          "base_uri": "https://localhost:8080/"
        },
        "id": "5GTtnPFfW87P",
        "outputId": "84ae7be7-4b1b-4018-bdd4-1c681f5d1c34"
      },
      "outputs": [
        {
          "output_type": "stream",
          "name": "stdout",
          "text": [
            "Looking in indexes: https://pypi.org/simple, https://us-python.pkg.dev/colab-wheels/public/simple/\n",
            "Collecting pydub\n",
            "  Downloading pydub-0.25.1-py2.py3-none-any.whl (32 kB)\n",
            "Installing collected packages: pydub\n",
            "Successfully installed pydub-0.25.1\n",
            "Looking in indexes: https://pypi.org/simple, https://us-python.pkg.dev/colab-wheels/public/simple/\n",
            "Requirement already satisfied: audiomentations in /usr/local/lib/python3.10/dist-packages (0.30.0)\n",
            "Requirement already satisfied: numpy>=1.13.0 in /usr/local/lib/python3.10/dist-packages (from audiomentations) (1.22.4)\n",
            "Requirement already satisfied: librosa<0.10.0,>0.7.2 in /usr/local/lib/python3.10/dist-packages (from audiomentations) (0.9.2)\n",
            "Requirement already satisfied: scipy<2,>=1.0.0 in /usr/local/lib/python3.10/dist-packages (from audiomentations) (1.10.1)\n",
            "Requirement already satisfied: audioread>=2.1.9 in /usr/local/lib/python3.10/dist-packages (from librosa<0.10.0,>0.7.2->audiomentations) (3.0.0)\n",
            "Requirement already satisfied: scikit-learn>=0.19.1 in /usr/local/lib/python3.10/dist-packages (from librosa<0.10.0,>0.7.2->audiomentations) (1.2.2)\n",
            "Requirement already satisfied: joblib>=0.14 in /usr/local/lib/python3.10/dist-packages (from librosa<0.10.0,>0.7.2->audiomentations) (1.2.0)\n",
            "Requirement already satisfied: decorator>=4.0.10 in /usr/local/lib/python3.10/dist-packages (from librosa<0.10.0,>0.7.2->audiomentations) (4.4.2)\n",
            "Requirement already satisfied: resampy>=0.2.2 in /usr/local/lib/python3.10/dist-packages (from librosa<0.10.0,>0.7.2->audiomentations) (0.4.2)\n",
            "Requirement already satisfied: numba>=0.45.1 in /usr/local/lib/python3.10/dist-packages (from librosa<0.10.0,>0.7.2->audiomentations) (0.56.4)\n",
            "Requirement already satisfied: soundfile>=0.10.2 in /usr/local/lib/python3.10/dist-packages (from librosa<0.10.0,>0.7.2->audiomentations) (0.12.1)\n",
            "Requirement already satisfied: pooch>=1.0 in /usr/local/lib/python3.10/dist-packages (from librosa<0.10.0,>0.7.2->audiomentations) (1.6.0)\n",
            "Requirement already satisfied: packaging>=20.0 in /usr/local/lib/python3.10/dist-packages (from librosa<0.10.0,>0.7.2->audiomentations) (23.1)\n",
            "Requirement already satisfied: llvmlite<0.40,>=0.39.0dev0 in /usr/local/lib/python3.10/dist-packages (from numba>=0.45.1->librosa<0.10.0,>0.7.2->audiomentations) (0.39.1)\n",
            "Requirement already satisfied: setuptools in /usr/local/lib/python3.10/dist-packages (from numba>=0.45.1->librosa<0.10.0,>0.7.2->audiomentations) (67.7.2)\n",
            "Requirement already satisfied: appdirs>=1.3.0 in /usr/local/lib/python3.10/dist-packages (from pooch>=1.0->librosa<0.10.0,>0.7.2->audiomentations) (1.4.4)\n",
            "Requirement already satisfied: requests>=2.19.0 in /usr/local/lib/python3.10/dist-packages (from pooch>=1.0->librosa<0.10.0,>0.7.2->audiomentations) (2.27.1)\n",
            "Requirement already satisfied: threadpoolctl>=2.0.0 in /usr/local/lib/python3.10/dist-packages (from scikit-learn>=0.19.1->librosa<0.10.0,>0.7.2->audiomentations) (3.1.0)\n",
            "Requirement already satisfied: cffi>=1.0 in /usr/local/lib/python3.10/dist-packages (from soundfile>=0.10.2->librosa<0.10.0,>0.7.2->audiomentations) (1.15.1)\n",
            "Requirement already satisfied: pycparser in /usr/local/lib/python3.10/dist-packages (from cffi>=1.0->soundfile>=0.10.2->librosa<0.10.0,>0.7.2->audiomentations) (2.21)\n",
            "Requirement already satisfied: urllib3<1.27,>=1.21.1 in /usr/local/lib/python3.10/dist-packages (from requests>=2.19.0->pooch>=1.0->librosa<0.10.0,>0.7.2->audiomentations) (1.26.15)\n",
            "Requirement already satisfied: certifi>=2017.4.17 in /usr/local/lib/python3.10/dist-packages (from requests>=2.19.0->pooch>=1.0->librosa<0.10.0,>0.7.2->audiomentations) (2022.12.7)\n",
            "Requirement already satisfied: charset-normalizer~=2.0.0 in /usr/local/lib/python3.10/dist-packages (from requests>=2.19.0->pooch>=1.0->librosa<0.10.0,>0.7.2->audiomentations) (2.0.12)\n",
            "Requirement already satisfied: idna<4,>=2.5 in /usr/local/lib/python3.10/dist-packages (from requests>=2.19.0->pooch>=1.0->librosa<0.10.0,>0.7.2->audiomentations) (3.4)\n"
          ]
        }
      ],
      "source": [
        "!pip install pydub\n",
        "!pip install audiomentations"
      ]
    },
    {
      "cell_type": "code",
      "execution_count": null,
      "metadata": {
        "id": "1nQjexIlW-Su"
      },
      "outputs": [],
      "source": [
        "import re\n",
        "import os\n",
        "import wave\n",
        "import glob\n",
        "import numpy as np\n",
        "import pandas as pd\n",
        "import matplotlib.pyplot as plt\n",
        "from pydub import AudioSegment\n",
        "from IPython.display import Audio, display\n",
        "import librosa as lib\n",
        "import librosa.display\n",
        "\n",
        "from google.colab import drive\n",
        "drive.mount('/content/drive')"
      ]
    },
    {
      "cell_type": "code",
      "execution_count": null,
      "metadata": {
        "id": "Y2JiRL40XJSK"
      },
      "outputs": [],
      "source": [
        "PATH = \"/content/drive/MyDrive/Colab Notebooks/Crema\"\n",
        "AUDIO_PATH = \"/content/drive/MyDrive/Colab Notebooks/Crema/1001_DFA_ANG_XX.wav\""
      ]
    },
    {
      "cell_type": "code",
      "source": [
        "def zeroCrossingRate(audio):\n",
        "  return lib.feature.zero_crossing_rate(audio)"
      ],
      "metadata": {
        "id": "hZRUzrRHI3x4"
      },
      "execution_count": null,
      "outputs": []
    },
    {
      "cell_type": "code",
      "source": [
        "def energy(audio):\n",
        "  # using a spectrogram will give a more accurate representation\n",
        "  # of energy over time because its frames can be windowed\n",
        "  S, phase = lib.magphase(lib.stft(audio))\n",
        "  return lib.feature.rms(S=S).mean()"
      ],
      "metadata": {
        "id": "YUj1b0stI8Jp"
      },
      "execution_count": null,
      "outputs": []
    },
    {
      "cell_type": "code",
      "source": [
        "def chromaStft(audio, sr):\n",
        "  stft = np.abs(librosa.stft(audio))\n",
        "  return librosa.feature.chroma_stft(S=stft, sr=sr, n_fft=200).mean()"
      ],
      "metadata": {
        "id": "RFqdKI4dj-sx"
      },
      "execution_count": null,
      "outputs": []
    },
    {
      "cell_type": "code",
      "source": [
        "def mfcc(data, sr):\n",
        "  return librosa.feature.mfcc(y=data, sr=sr, n_fft=200).mean()"
      ],
      "metadata": {
        "id": "bwJma-zak5ai"
      },
      "execution_count": null,
      "outputs": []
    },
    {
      "cell_type": "code",
      "execution_count": null,
      "metadata": {
        "id": "t03kfNaMJEUx"
      },
      "outputs": [],
      "source": [
        "def melSpectrogram(audio, sr):\n",
        "  mel_spectrogram = lib.feature.melspectrogram(y=audio, sr=sr, n_fft=200, n_mels=64)\n",
        "  log_mel_spectrogram = librosa.power_to_db(mel_spectrogram)\n",
        "  return log_mel_spectrogram"
      ]
    },
    {
      "cell_type": "code",
      "execution_count": null,
      "metadata": {
        "id": "GZLRcaVEinfV"
      },
      "outputs": [],
      "source": [
        "def playAudio(audio_file):\n",
        "  audio = AudioSegment.from_wav(audio_file)\n",
        "  # Play the audio\n",
        "  audio.export('temp_audio.wav', format='wav')\n",
        "  audio_data = open('temp_audio.wav', 'rb').read()\n",
        "  display(Audio(audio_data))\n",
        "  # Delete the temporary audio file\n",
        "  os.remove('temp_audio.wav')"
      ]
    },
    {
      "cell_type": "code",
      "execution_count": null,
      "metadata": {
        "id": "VErUAYc_mIzR"
      },
      "outputs": [],
      "source": [
        "def visualize_waveform(audio, sr):\n",
        "    plt.figure(figsize=(12, 4))\n",
        "    plt.plot(audio)\n",
        "    plt.xlabel('Time')\n",
        "    plt.ylabel('Amplitude')\n",
        "    plt.title('Waveform')\n",
        "    plt.show()"
      ]
    },
    {
      "cell_type": "code",
      "execution_count": null,
      "metadata": {
        "id": "xrXZclbPVgB4"
      },
      "outputs": [],
      "source": [
        "def splitData(dataset_path):\n",
        "  audio_files = glob.glob(os.path.join(dataset_path, \"*.wav\"))\n",
        "  audio_train, audio_test = train_test_split(audio_files, test_size=0.3, random_state=42, shuffle=True)\n",
        "  return audio_train, audio_test"
      ]
    },
    {
      "cell_type": "code",
      "execution_count": null,
      "metadata": {
        "id": "7EIOYeWGWM-f"
      },
      "outputs": [],
      "source": [
        "D_train, D_test = splitData(PATH)"
      ]
    },
    {
      "cell_type": "code",
      "execution_count": null,
      "metadata": {
        "id": "YpC8Jy1nWg0t"
      },
      "outputs": [],
      "source": [
        "print(len(D_train), len(D_test))"
      ]
    },
    {
      "cell_type": "code",
      "execution_count": null,
      "metadata": {
        "id": "9RqTKlDHXq-f"
      },
      "outputs": [],
      "source": [
        "D_test[0]"
      ]
    },
    {
      "cell_type": "code",
      "execution_count": 171,
      "metadata": {
        "id": "EgU38C-idTBu"
      },
      "outputs": [],
      "source": [
        "def getMaxLen(audio_files):\n",
        "  max_length = 0\n",
        "  for audio_file in audio_files:\n",
        "    audio, _ = librosa.load(audio_file)\n",
        "    length = len(audio)\n",
        "    max_length = max(max_length, length)\n",
        "  return max_length"
      ]
    },
    {
      "cell_type": "code",
      "source": [
        "def loadAudioTime(audio_files):\n",
        "  classes = [\"SAD\", \"ANG\", \"DIS\", \"FEA\", \"HAP\", \"NEU\"]\n",
        "  \n",
        "  # max_length = getMaxLen(audio_files)\n",
        "  max_length = 200\n",
        "  D, Y = [], []\n",
        "  for audio_file in audio_files: \n",
        "    # load the audio file\n",
        "    audio, sr = lib.load(audio_file, sr=4444)\n",
        "    # extract zero crossing rate\n",
        "    zcr = zeroCrossingRate(audio)\n",
        "    # extract energy\n",
        "    rms = energy(audio)\n",
        "    # chroma stft\n",
        "    cs = chromaStft(audio, sr)\n",
        "    # mfcc\n",
        "    mfc = mfcc(audio, sr)\n",
        "    # extract mel spectrogram\n",
        "    #mel_spec = melSpectrogram(audio, sr).mean()\n",
        "    combined_features = np.concatenate(([rms, cs, mfc], (np.pad(zcr[0], (0, 300 - len(zcr[0]))))))\n",
        "    D.append(combined_features)\n",
        "    for cls in classes:\n",
        "      if re.search(cls, audio_file): Y.append(cls)\n",
        "  \n",
        "  return D, Y"
      ],
      "metadata": {
        "id": "cbqGt6YB-xbJ"
      },
      "execution_count": 218,
      "outputs": []
    },
    {
      "cell_type": "code",
      "execution_count": 65,
      "metadata": {
        "id": "yMgXIyyNYSFb"
      },
      "outputs": [],
      "source": [
        "def loadAudioFreq(audio_files):\n",
        "  classes = [\"SAD\", \"ANG\", \"DIS\", \"FEA\", \"HAP\", \"NEU\"]\n",
        " \n",
        "  # max_length = getMaxLen(audio_files)\n",
        "  max_length = 200\n",
        "  D, Y = [], []\n",
        "  for audio_file in audio_files: \n",
        "    # load the audio file\n",
        "    audio, sr = lib.load(audio_file, sr=4444)\n",
        "    # extract mel spectrogram\n",
        "    mel_spec = melSpectrogram(audio, sr)\n",
        "    D.append(mel_spec)\n",
        "    for cls in classes:\n",
        "      if re.search(cls, audio_file): Y.append(cls)\n",
        "    \n",
        "  return D, Y"
      ]
    },
    {
      "cell_type": "markdown",
      "source": [
        "## Time Domain Model Without Augmentation"
      ],
      "metadata": {
        "id": "XwjLK8nELd6H"
      }
    },
    {
      "cell_type": "code",
      "source": [
        "D_time, Y_time = loadAudioTime(D_train)"
      ],
      "metadata": {
        "colab": {
          "base_uri": "https://localhost:8080/"
        },
        "id": "R1mGR_wWGc75",
        "outputId": "a8704033-caa0-417e-b151-fa3babab4f10"
      },
      "execution_count": 219,
      "outputs": [
        {
          "output_type": "stream",
          "name": "stderr",
          "text": [
            "/usr/local/lib/python3.10/dist-packages/librosa/util/decorators.py:88: UserWarning: Trying to estimate tuning from empty frequency set.\n",
            "  return f(*args, **kwargs)\n"
          ]
        }
      ]
    },
    {
      "cell_type": "code",
      "source": [
        "D_time = np.array(D_time)\n",
        "D_time.shape"
      ],
      "metadata": {
        "colab": {
          "base_uri": "https://localhost:8080/"
        },
        "id": "J7hz6ckbH3wL",
        "outputId": "4e5e993b-8bef-47a9-ed22-c39d11db06e2"
      },
      "execution_count": 220,
      "outputs": [
        {
          "output_type": "execute_result",
          "data": {
            "text/plain": [
              "(5216, 303)"
            ]
          },
          "metadata": {},
          "execution_count": 220
        }
      ]
    },
    {
      "cell_type": "code",
      "source": [
        "unicheck = np.unique(Y_time, axis=0)\n",
        "print(f\"Check on time domain:\\n{unicheck}\")"
      ],
      "metadata": {
        "colab": {
          "base_uri": "https://localhost:8080/"
        },
        "id": "GQ5AZ5vMGi4d",
        "outputId": "f8459660-302b-48da-bef3-41cd6fd22b76"
      },
      "execution_count": 221,
      "outputs": [
        {
          "output_type": "stream",
          "name": "stdout",
          "text": [
            "Check on time domain:\n",
            "['ANG' 'DIS' 'FEA' 'HAP' 'NEU' 'SAD']\n"
          ]
        }
      ]
    },
    {
      "cell_type": "code",
      "source": [
        "df_time = pd.DataFrame(Y_time)\n",
        "df_time.head()"
      ],
      "metadata": {
        "colab": {
          "base_uri": "https://localhost:8080/",
          "height": 206
        },
        "id": "2a8Cneh6GpQb",
        "outputId": "597df259-78fa-4038-b1fe-4e44b6f31ab8"
      },
      "execution_count": 222,
      "outputs": [
        {
          "output_type": "execute_result",
          "data": {
            "text/plain": [
              "     0\n",
              "0  DIS\n",
              "1  FEA\n",
              "2  DIS\n",
              "3  SAD\n",
              "4  ANG"
            ],
            "text/html": [
              "\n",
              "  <div id=\"df-0d36cd9d-bc88-44ae-83b8-c6c7ea0ef28e\">\n",
              "    <div class=\"colab-df-container\">\n",
              "      <div>\n",
              "<style scoped>\n",
              "    .dataframe tbody tr th:only-of-type {\n",
              "        vertical-align: middle;\n",
              "    }\n",
              "\n",
              "    .dataframe tbody tr th {\n",
              "        vertical-align: top;\n",
              "    }\n",
              "\n",
              "    .dataframe thead th {\n",
              "        text-align: right;\n",
              "    }\n",
              "</style>\n",
              "<table border=\"1\" class=\"dataframe\">\n",
              "  <thead>\n",
              "    <tr style=\"text-align: right;\">\n",
              "      <th></th>\n",
              "      <th>0</th>\n",
              "    </tr>\n",
              "  </thead>\n",
              "  <tbody>\n",
              "    <tr>\n",
              "      <th>0</th>\n",
              "      <td>DIS</td>\n",
              "    </tr>\n",
              "    <tr>\n",
              "      <th>1</th>\n",
              "      <td>FEA</td>\n",
              "    </tr>\n",
              "    <tr>\n",
              "      <th>2</th>\n",
              "      <td>DIS</td>\n",
              "    </tr>\n",
              "    <tr>\n",
              "      <th>3</th>\n",
              "      <td>SAD</td>\n",
              "    </tr>\n",
              "    <tr>\n",
              "      <th>4</th>\n",
              "      <td>ANG</td>\n",
              "    </tr>\n",
              "  </tbody>\n",
              "</table>\n",
              "</div>\n",
              "      <button class=\"colab-df-convert\" onclick=\"convertToInteractive('df-0d36cd9d-bc88-44ae-83b8-c6c7ea0ef28e')\"\n",
              "              title=\"Convert this dataframe to an interactive table.\"\n",
              "              style=\"display:none;\">\n",
              "        \n",
              "  <svg xmlns=\"http://www.w3.org/2000/svg\" height=\"24px\"viewBox=\"0 0 24 24\"\n",
              "       width=\"24px\">\n",
              "    <path d=\"M0 0h24v24H0V0z\" fill=\"none\"/>\n",
              "    <path d=\"M18.56 5.44l.94 2.06.94-2.06 2.06-.94-2.06-.94-.94-2.06-.94 2.06-2.06.94zm-11 1L8.5 8.5l.94-2.06 2.06-.94-2.06-.94L8.5 2.5l-.94 2.06-2.06.94zm10 10l.94 2.06.94-2.06 2.06-.94-2.06-.94-.94-2.06-.94 2.06-2.06.94z\"/><path d=\"M17.41 7.96l-1.37-1.37c-.4-.4-.92-.59-1.43-.59-.52 0-1.04.2-1.43.59L10.3 9.45l-7.72 7.72c-.78.78-.78 2.05 0 2.83L4 21.41c.39.39.9.59 1.41.59.51 0 1.02-.2 1.41-.59l7.78-7.78 2.81-2.81c.8-.78.8-2.07 0-2.86zM5.41 20L4 18.59l7.72-7.72 1.47 1.35L5.41 20z\"/>\n",
              "  </svg>\n",
              "      </button>\n",
              "      \n",
              "  <style>\n",
              "    .colab-df-container {\n",
              "      display:flex;\n",
              "      flex-wrap:wrap;\n",
              "      gap: 12px;\n",
              "    }\n",
              "\n",
              "    .colab-df-convert {\n",
              "      background-color: #E8F0FE;\n",
              "      border: none;\n",
              "      border-radius: 50%;\n",
              "      cursor: pointer;\n",
              "      display: none;\n",
              "      fill: #1967D2;\n",
              "      height: 32px;\n",
              "      padding: 0 0 0 0;\n",
              "      width: 32px;\n",
              "    }\n",
              "\n",
              "    .colab-df-convert:hover {\n",
              "      background-color: #E2EBFA;\n",
              "      box-shadow: 0px 1px 2px rgba(60, 64, 67, 0.3), 0px 1px 3px 1px rgba(60, 64, 67, 0.15);\n",
              "      fill: #174EA6;\n",
              "    }\n",
              "\n",
              "    [theme=dark] .colab-df-convert {\n",
              "      background-color: #3B4455;\n",
              "      fill: #D2E3FC;\n",
              "    }\n",
              "\n",
              "    [theme=dark] .colab-df-convert:hover {\n",
              "      background-color: #434B5C;\n",
              "      box-shadow: 0px 1px 3px 1px rgba(0, 0, 0, 0.15);\n",
              "      filter: drop-shadow(0px 1px 2px rgba(0, 0, 0, 0.3));\n",
              "      fill: #FFFFFF;\n",
              "    }\n",
              "  </style>\n",
              "\n",
              "      <script>\n",
              "        const buttonEl =\n",
              "          document.querySelector('#df-0d36cd9d-bc88-44ae-83b8-c6c7ea0ef28e button.colab-df-convert');\n",
              "        buttonEl.style.display =\n",
              "          google.colab.kernel.accessAllowed ? 'block' : 'none';\n",
              "\n",
              "        async function convertToInteractive(key) {\n",
              "          const element = document.querySelector('#df-0d36cd9d-bc88-44ae-83b8-c6c7ea0ef28e');\n",
              "          const dataTable =\n",
              "            await google.colab.kernel.invokeFunction('convertToInteractive',\n",
              "                                                     [key], {});\n",
              "          if (!dataTable) return;\n",
              "\n",
              "          const docLinkHtml = 'Like what you see? Visit the ' +\n",
              "            '<a target=\"_blank\" href=https://colab.research.google.com/notebooks/data_table.ipynb>data table notebook</a>'\n",
              "            + ' to learn more about interactive tables.';\n",
              "          element.innerHTML = '';\n",
              "          dataTable['output_type'] = 'display_data';\n",
              "          await google.colab.output.renderOutput(dataTable, element);\n",
              "          const docLink = document.createElement('div');\n",
              "          docLink.innerHTML = docLinkHtml;\n",
              "          element.appendChild(docLink);\n",
              "        }\n",
              "      </script>\n",
              "    </div>\n",
              "  </div>\n",
              "  "
            ]
          },
          "metadata": {},
          "execution_count": 222
        }
      ]
    },
    {
      "cell_type": "code",
      "source": [
        "# Use the get_dummies() method to one-hot encode the labels\n",
        "one_hot_labels = pd.get_dummies(df_time)\n",
        "\n",
        "# Convert the DataFrame to a NumPy array\n",
        "one_hot_labels = one_hot_labels.to_numpy()\n",
        "\n",
        "print(one_hot_labels.shape)"
      ],
      "metadata": {
        "colab": {
          "base_uri": "https://localhost:8080/"
        },
        "id": "P1HVgqTsGwmK",
        "outputId": "55dbced5-011e-4d94-8716-89698b050dee"
      },
      "execution_count": 223,
      "outputs": [
        {
          "output_type": "stream",
          "name": "stdout",
          "text": [
            "(5216, 6)\n"
          ]
        }
      ]
    },
    {
      "cell_type": "code",
      "source": [
        "Y_time = one_hot_labels\n",
        "Y_time.shape"
      ],
      "metadata": {
        "colab": {
          "base_uri": "https://localhost:8080/"
        },
        "id": "scQpn-TuG-JM",
        "outputId": "f02816bd-ad75-42a0-a300-66e5718f0e7e"
      },
      "execution_count": 224,
      "outputs": [
        {
          "output_type": "execute_result",
          "data": {
            "text/plain": [
              "(5216, 6)"
            ]
          },
          "metadata": {},
          "execution_count": 224
        }
      ]
    },
    {
      "cell_type": "code",
      "source": [
        "# Apply PCA to the data\n",
        "pca = PCA(n_components=100)\n",
        "D_pca = pca.fit_transform(D_time)"
      ],
      "metadata": {
        "id": "0ttXRBH6JztP"
      },
      "execution_count": 225,
      "outputs": []
    },
    {
      "cell_type": "code",
      "source": [
        "# Split the data into train and test sets\n",
        "x_train, x_test, y_train, y_test = train_test_split(np.array(D_pca), np.array(Y_time), test_size=0.05, random_state=69, shuffle=True, stratify=Y_time)\n",
        "print((x_train.shape, y_train.shape, x_test.shape, y_test.shape))\n",
        "\n",
        "x_train = x_train.reshape((x_train.shape[0], x_train.shape[1], 1))\n",
        "x_test = x_test.reshape((x_test.shape[0], x_test.shape[1], 1))\n",
        "\n",
        "model = Sequential()\n",
        "model.add(Conv1D(128, 3, input_shape=(x_train.shape[1], 1), kernel_regularizer=regularizers.l2(0.001)))\n",
        "model.add(BatchNormalization())\n",
        "model.add(Activation('relu'))\n",
        "model.add(MaxPooling1D(pool_size=2))\n",
        "\n",
        "model.add(Conv1D(256, 3, kernel_regularizer=regularizers.l2(0.001)))\n",
        "model.add(BatchNormalization())\n",
        "model.add(Activation('relu'))\n",
        "model.add(MaxPooling1D(pool_size=2))\n",
        "\n",
        "model.add(Conv1D(512, 3, kernel_regularizer=regularizers.l2(0.001)))\n",
        "model.add(BatchNormalization())\n",
        "model.add(Activation('relu'))\n",
        "model.add(MaxPooling1D(pool_size=2))\n",
        "\n",
        "model.add(Conv1D(1024, 3,  kernel_regularizer=regularizers.l2(0.001)))\n",
        "model.add(BatchNormalization())\n",
        "model.add(Activation('relu'))\n",
        "model.add(MaxPooling1D(pool_size=2))\n",
        "\n",
        "model.add(Flatten())\n",
        "model.add(Dense(512, kernel_regularizer=regularizers.l2(0.001)))\n",
        "model.add(BatchNormalization())\n",
        "model.add(Activation('relu'))\n",
        "model.add(Dropout(0.3))\n",
        "\n",
        "model.add(Dense(256, kernel_regularizer=regularizers.l2(0.001)))\n",
        "model.add(BatchNormalization())\n",
        "model.add(Activation('relu'))\n",
        "model.add(Dropout(0.2))\n",
        "\n",
        "model.add(Dense(128, kernel_regularizer=regularizers.l2(0.001)))\n",
        "model.add(BatchNormalization())\n",
        "model.add(Activation('relu'))\n",
        "model.add(Dropout(0.2))\n",
        "\n",
        "model.add(Dense(6, activation='softmax'))\n",
        "\n",
        "model.compile(loss='categorical_crossentropy',\n",
        "             optimizer=optimizers.Adam(lr=0.0005),\n",
        "             metrics=['accuracy'])\n",
        "\n",
        "# Specify thecallbacks for the model\n",
        "callbacks = [EarlyStopping(monitor='val_loss', patience=10)]\n",
        "\n",
        "model.summary()\n",
        "\n",
        "# Train the model with early stopping\n",
        "history = model.fit(x_train, y_train,\n",
        "                    validation_data=(x_train, y_train),\n",
        "                    epochs=50,\n",
        "                    batch_size=32,\n",
        "                    callbacks=callbacks)"
      ],
      "metadata": {
        "colab": {
          "base_uri": "https://localhost:8080/"
        },
        "id": "l_VY7sLdJTAj",
        "outputId": "e6e3424a-f355-44e7-ade0-e954779e6340"
      },
      "execution_count": 226,
      "outputs": [
        {
          "output_type": "stream",
          "name": "stdout",
          "text": [
            "((4955, 100), (4955, 6), (261, 100), (261, 6))\n",
            "Model: \"sequential_9\"\n",
            "_________________________________________________________________\n",
            " Layer (type)                Output Shape              Param #   \n",
            "=================================================================\n",
            " conv1d_16 (Conv1D)          (None, 98, 128)           512       \n",
            "                                                                 \n",
            " batch_normalization_28 (Bat  (None, 98, 128)          512       \n",
            " chNormalization)                                                \n",
            "                                                                 \n",
            " activation_28 (Activation)  (None, 98, 128)           0         \n",
            "                                                                 \n",
            " max_pooling1d_16 (MaxPoolin  (None, 49, 128)          0         \n",
            " g1D)                                                            \n",
            "                                                                 \n",
            " conv1d_17 (Conv1D)          (None, 47, 256)           98560     \n",
            "                                                                 \n",
            " batch_normalization_29 (Bat  (None, 47, 256)          1024      \n",
            " chNormalization)                                                \n",
            "                                                                 \n",
            " activation_29 (Activation)  (None, 47, 256)           0         \n",
            "                                                                 \n",
            " max_pooling1d_17 (MaxPoolin  (None, 23, 256)          0         \n",
            " g1D)                                                            \n",
            "                                                                 \n",
            " conv1d_18 (Conv1D)          (None, 21, 512)           393728    \n",
            "                                                                 \n",
            " batch_normalization_30 (Bat  (None, 21, 512)          2048      \n",
            " chNormalization)                                                \n",
            "                                                                 \n",
            " activation_30 (Activation)  (None, 21, 512)           0         \n",
            "                                                                 \n",
            " max_pooling1d_18 (MaxPoolin  (None, 10, 512)          0         \n",
            " g1D)                                                            \n",
            "                                                                 \n",
            " conv1d_19 (Conv1D)          (None, 8, 1024)           1573888   \n",
            "                                                                 \n",
            " batch_normalization_31 (Bat  (None, 8, 1024)          4096      \n",
            " chNormalization)                                                \n",
            "                                                                 \n",
            " activation_31 (Activation)  (None, 8, 1024)           0         \n",
            "                                                                 \n",
            " max_pooling1d_19 (MaxPoolin  (None, 4, 1024)          0         \n",
            " g1D)                                                            \n",
            "                                                                 \n",
            " flatten_9 (Flatten)         (None, 4096)              0         \n",
            "                                                                 \n",
            " dense_31 (Dense)            (None, 512)               2097664   \n",
            "                                                                 \n",
            " batch_normalization_32 (Bat  (None, 512)              2048      \n",
            " chNormalization)                                                \n",
            "                                                                 \n",
            " activation_32 (Activation)  (None, 512)               0         \n",
            "                                                                 \n",
            " dropout_22 (Dropout)        (None, 512)               0         \n",
            "                                                                 \n",
            " dense_32 (Dense)            (None, 256)               131328    \n",
            "                                                                 \n",
            " batch_normalization_33 (Bat  (None, 256)              1024      \n",
            " chNormalization)                                                \n",
            "                                                                 \n",
            " activation_33 (Activation)  (None, 256)               0         \n",
            "                                                                 \n",
            " dropout_23 (Dropout)        (None, 256)               0         \n",
            "                                                                 \n",
            " dense_33 (Dense)            (None, 128)               32896     \n",
            "                                                                 \n",
            " batch_normalization_34 (Bat  (None, 128)              512       \n",
            " chNormalization)                                                \n",
            "                                                                 \n",
            " activation_34 (Activation)  (None, 128)               0         \n",
            "                                                                 \n",
            " dropout_24 (Dropout)        (None, 128)               0         \n",
            "                                                                 \n",
            " dense_34 (Dense)            (None, 6)                 774       \n",
            "                                                                 \n",
            "=================================================================\n",
            "Total params: 4,340,614\n",
            "Trainable params: 4,334,982\n",
            "Non-trainable params: 5,632\n",
            "_________________________________________________________________\n"
          ]
        },
        {
          "output_type": "stream",
          "name": "stderr",
          "text": [
            "/usr/local/lib/python3.10/dist-packages/keras/optimizers/legacy/adam.py:117: UserWarning: The `lr` argument is deprecated, use `learning_rate` instead.\n",
            "  super().__init__(name, **kwargs)\n"
          ]
        },
        {
          "output_type": "stream",
          "name": "stdout",
          "text": [
            "Epoch 1/50\n",
            "155/155 [==============================] - 6s 18ms/step - loss: 3.7618 - accuracy: 0.3039 - val_loss: 4.0873 - val_accuracy: 0.1493\n",
            "Epoch 2/50\n",
            "155/155 [==============================] - 2s 14ms/step - loss: 3.1366 - accuracy: 0.3479 - val_loss: 3.9501 - val_accuracy: 0.1491\n",
            "Epoch 3/50\n",
            "155/155 [==============================] - 2s 14ms/step - loss: 2.8334 - accuracy: 0.3639 - val_loss: 3.2142 - val_accuracy: 0.1655\n",
            "Epoch 4/50\n",
            "155/155 [==============================] - 2s 14ms/step - loss: 2.6468 - accuracy: 0.3689 - val_loss: 2.7124 - val_accuracy: 0.2844\n",
            "Epoch 5/50\n",
            "155/155 [==============================] - 3s 20ms/step - loss: 2.5027 - accuracy: 0.3841 - val_loss: 2.4044 - val_accuracy: 0.4010\n",
            "Epoch 6/50\n",
            "155/155 [==============================] - 3s 17ms/step - loss: 2.3914 - accuracy: 0.3952 - val_loss: 2.3440 - val_accuracy: 0.4002\n",
            "Epoch 7/50\n",
            "155/155 [==============================] - 2s 14ms/step - loss: 2.3111 - accuracy: 0.4000 - val_loss: 2.2625 - val_accuracy: 0.4139\n",
            "Epoch 8/50\n",
            "155/155 [==============================] - 2s 13ms/step - loss: 2.2061 - accuracy: 0.4121 - val_loss: 2.2215 - val_accuracy: 0.3812\n",
            "Epoch 9/50\n",
            "155/155 [==============================] - 2s 14ms/step - loss: 2.1502 - accuracy: 0.4224 - val_loss: 2.0994 - val_accuracy: 0.4252\n",
            "Epoch 10/50\n",
            "155/155 [==============================] - 2s 14ms/step - loss: 2.0922 - accuracy: 0.4228 - val_loss: 2.0383 - val_accuracy: 0.4180\n",
            "Epoch 11/50\n",
            "155/155 [==============================] - 3s 18ms/step - loss: 2.0212 - accuracy: 0.4347 - val_loss: 2.0018 - val_accuracy: 0.4448\n",
            "Epoch 12/50\n",
            "155/155 [==============================] - 3s 16ms/step - loss: 1.9714 - accuracy: 0.4361 - val_loss: 2.0171 - val_accuracy: 0.4129\n",
            "Epoch 13/50\n",
            "155/155 [==============================] - 2s 14ms/step - loss: 1.9283 - accuracy: 0.4339 - val_loss: 1.9961 - val_accuracy: 0.3927\n",
            "Epoch 14/50\n",
            "155/155 [==============================] - 2s 14ms/step - loss: 1.8886 - accuracy: 0.4440 - val_loss: 2.2867 - val_accuracy: 0.3427\n",
            "Epoch 15/50\n",
            "155/155 [==============================] - 2s 14ms/step - loss: 1.8495 - accuracy: 0.4416 - val_loss: 1.8539 - val_accuracy: 0.4260\n",
            "Epoch 16/50\n",
            "155/155 [==============================] - 2s 14ms/step - loss: 1.8025 - accuracy: 0.4587 - val_loss: 1.9580 - val_accuracy: 0.3921\n",
            "Epoch 17/50\n",
            "155/155 [==============================] - 3s 18ms/step - loss: 1.7778 - accuracy: 0.4591 - val_loss: 1.7940 - val_accuracy: 0.4517\n",
            "Epoch 18/50\n",
            "155/155 [==============================] - 2s 16ms/step - loss: 1.7502 - accuracy: 0.4747 - val_loss: 1.8455 - val_accuracy: 0.3929\n",
            "Epoch 19/50\n",
            "155/155 [==============================] - 2s 14ms/step - loss: 1.7092 - accuracy: 0.4856 - val_loss: 1.7464 - val_accuracy: 0.4555\n",
            "Epoch 20/50\n",
            "155/155 [==============================] - 2s 14ms/step - loss: 1.6834 - accuracy: 0.4823 - val_loss: 1.6682 - val_accuracy: 0.4819\n",
            "Epoch 21/50\n",
            "155/155 [==============================] - 2s 14ms/step - loss: 1.6639 - accuracy: 0.4908 - val_loss: 1.6895 - val_accuracy: 0.4729\n",
            "Epoch 22/50\n",
            "155/155 [==============================] - 2s 14ms/step - loss: 1.6379 - accuracy: 0.4842 - val_loss: 1.8858 - val_accuracy: 0.3623\n",
            "Epoch 23/50\n",
            "155/155 [==============================] - 3s 22ms/step - loss: 1.6071 - accuracy: 0.4983 - val_loss: 1.5726 - val_accuracy: 0.5104\n",
            "Epoch 24/50\n",
            "155/155 [==============================] - 2s 15ms/step - loss: 1.5745 - accuracy: 0.5086 - val_loss: 1.8725 - val_accuracy: 0.3784\n",
            "Epoch 25/50\n",
            "155/155 [==============================] - 2s 15ms/step - loss: 1.5534 - accuracy: 0.5231 - val_loss: 1.7995 - val_accuracy: 0.3615\n",
            "Epoch 26/50\n",
            "155/155 [==============================] - 2s 14ms/step - loss: 1.5345 - accuracy: 0.5284 - val_loss: 1.5640 - val_accuracy: 0.5090\n",
            "Epoch 27/50\n",
            "155/155 [==============================] - 2s 14ms/step - loss: 1.5276 - accuracy: 0.5286 - val_loss: 2.0187 - val_accuracy: 0.3195\n",
            "Epoch 28/50\n",
            "155/155 [==============================] - 3s 20ms/step - loss: 1.4914 - accuracy: 0.5403 - val_loss: 1.7254 - val_accuracy: 0.4038\n",
            "Epoch 29/50\n",
            "155/155 [==============================] - 3s 17ms/step - loss: 1.4465 - accuracy: 0.5615 - val_loss: 1.7779 - val_accuracy: 0.4014\n",
            "Epoch 30/50\n",
            "155/155 [==============================] - 2s 14ms/step - loss: 1.4465 - accuracy: 0.5502 - val_loss: 1.7459 - val_accuracy: 0.4603\n",
            "Epoch 31/50\n",
            "155/155 [==============================] - 2s 14ms/step - loss: 1.4048 - accuracy: 0.5800 - val_loss: 2.0433 - val_accuracy: 0.4186\n",
            "Epoch 32/50\n",
            "155/155 [==============================] - 2s 14ms/step - loss: 1.3680 - accuracy: 0.5962 - val_loss: 2.4019 - val_accuracy: 0.4071\n",
            "Epoch 33/50\n",
            "155/155 [==============================] - 2s 14ms/step - loss: 1.3438 - accuracy: 0.6081 - val_loss: 2.0149 - val_accuracy: 0.2759\n",
            "Epoch 34/50\n",
            "155/155 [==============================] - 3s 22ms/step - loss: 1.3242 - accuracy: 0.6155 - val_loss: 2.1533 - val_accuracy: 0.3481\n",
            "Epoch 35/50\n",
            "155/155 [==============================] - 2s 15ms/step - loss: 1.2920 - accuracy: 0.6325 - val_loss: 2.1352 - val_accuracy: 0.3296\n",
            "Epoch 36/50\n",
            "155/155 [==============================] - 2s 14ms/step - loss: 1.2492 - accuracy: 0.6543 - val_loss: 1.8640 - val_accuracy: 0.3950\n"
          ]
        }
      ]
    },
    {
      "cell_type": "code",
      "source": [
        "X_test_time,Y_test_time = loadAudioTime(D_test)\n",
        "D_test_pca = pca.transform(X_test_time)"
      ],
      "metadata": {
        "id": "ECFPw2UTmdyZ"
      },
      "execution_count": 227,
      "outputs": []
    },
    {
      "cell_type": "code",
      "source": [
        "unicheck = np.unique(Y_test_time, axis=0)\n",
        "print(f\"Check on freq domain:\\n{unicheck}\")"
      ],
      "metadata": {
        "colab": {
          "base_uri": "https://localhost:8080/"
        },
        "id": "ieyieo-fwA1L",
        "outputId": "f11ffb5d-290d-4215-9cd7-585edd941204"
      },
      "execution_count": 228,
      "outputs": [
        {
          "output_type": "stream",
          "name": "stdout",
          "text": [
            "Check on freq domain:\n",
            "['ANG' 'DIS' 'FEA' 'HAP' 'NEU' 'SAD']\n"
          ]
        }
      ]
    },
    {
      "cell_type": "code",
      "execution_count": 229,
      "metadata": {
        "colab": {
          "base_uri": "https://localhost:8080/",
          "height": 206
        },
        "id": "Dp-P_An_wA1X",
        "outputId": "f418feea-06cc-4f5c-8a76-ea92fbc4c4d2"
      },
      "outputs": [
        {
          "output_type": "execute_result",
          "data": {
            "text/plain": [
              "     0\n",
              "0  NEU\n",
              "1  DIS\n",
              "2  HAP\n",
              "3  NEU\n",
              "4  DIS"
            ],
            "text/html": [
              "\n",
              "  <div id=\"df-558d01a2-aa29-4ad5-b4a4-bd95113cc91d\">\n",
              "    <div class=\"colab-df-container\">\n",
              "      <div>\n",
              "<style scoped>\n",
              "    .dataframe tbody tr th:only-of-type {\n",
              "        vertical-align: middle;\n",
              "    }\n",
              "\n",
              "    .dataframe tbody tr th {\n",
              "        vertical-align: top;\n",
              "    }\n",
              "\n",
              "    .dataframe thead th {\n",
              "        text-align: right;\n",
              "    }\n",
              "</style>\n",
              "<table border=\"1\" class=\"dataframe\">\n",
              "  <thead>\n",
              "    <tr style=\"text-align: right;\">\n",
              "      <th></th>\n",
              "      <th>0</th>\n",
              "    </tr>\n",
              "  </thead>\n",
              "  <tbody>\n",
              "    <tr>\n",
              "      <th>0</th>\n",
              "      <td>NEU</td>\n",
              "    </tr>\n",
              "    <tr>\n",
              "      <th>1</th>\n",
              "      <td>DIS</td>\n",
              "    </tr>\n",
              "    <tr>\n",
              "      <th>2</th>\n",
              "      <td>HAP</td>\n",
              "    </tr>\n",
              "    <tr>\n",
              "      <th>3</th>\n",
              "      <td>NEU</td>\n",
              "    </tr>\n",
              "    <tr>\n",
              "      <th>4</th>\n",
              "      <td>DIS</td>\n",
              "    </tr>\n",
              "  </tbody>\n",
              "</table>\n",
              "</div>\n",
              "      <button class=\"colab-df-convert\" onclick=\"convertToInteractive('df-558d01a2-aa29-4ad5-b4a4-bd95113cc91d')\"\n",
              "              title=\"Convert this dataframe to an interactive table.\"\n",
              "              style=\"display:none;\">\n",
              "        \n",
              "  <svg xmlns=\"http://www.w3.org/2000/svg\" height=\"24px\"viewBox=\"0 0 24 24\"\n",
              "       width=\"24px\">\n",
              "    <path d=\"M0 0h24v24H0V0z\" fill=\"none\"/>\n",
              "    <path d=\"M18.56 5.44l.94 2.06.94-2.06 2.06-.94-2.06-.94-.94-2.06-.94 2.06-2.06.94zm-11 1L8.5 8.5l.94-2.06 2.06-.94-2.06-.94L8.5 2.5l-.94 2.06-2.06.94zm10 10l.94 2.06.94-2.06 2.06-.94-2.06-.94-.94-2.06-.94 2.06-2.06.94z\"/><path d=\"M17.41 7.96l-1.37-1.37c-.4-.4-.92-.59-1.43-.59-.52 0-1.04.2-1.43.59L10.3 9.45l-7.72 7.72c-.78.78-.78 2.05 0 2.83L4 21.41c.39.39.9.59 1.41.59.51 0 1.02-.2 1.41-.59l7.78-7.78 2.81-2.81c.8-.78.8-2.07 0-2.86zM5.41 20L4 18.59l7.72-7.72 1.47 1.35L5.41 20z\"/>\n",
              "  </svg>\n",
              "      </button>\n",
              "      \n",
              "  <style>\n",
              "    .colab-df-container {\n",
              "      display:flex;\n",
              "      flex-wrap:wrap;\n",
              "      gap: 12px;\n",
              "    }\n",
              "\n",
              "    .colab-df-convert {\n",
              "      background-color: #E8F0FE;\n",
              "      border: none;\n",
              "      border-radius: 50%;\n",
              "      cursor: pointer;\n",
              "      display: none;\n",
              "      fill: #1967D2;\n",
              "      height: 32px;\n",
              "      padding: 0 0 0 0;\n",
              "      width: 32px;\n",
              "    }\n",
              "\n",
              "    .colab-df-convert:hover {\n",
              "      background-color: #E2EBFA;\n",
              "      box-shadow: 0px 1px 2px rgba(60, 64, 67, 0.3), 0px 1px 3px 1px rgba(60, 64, 67, 0.15);\n",
              "      fill: #174EA6;\n",
              "    }\n",
              "\n",
              "    [theme=dark] .colab-df-convert {\n",
              "      background-color: #3B4455;\n",
              "      fill: #D2E3FC;\n",
              "    }\n",
              "\n",
              "    [theme=dark] .colab-df-convert:hover {\n",
              "      background-color: #434B5C;\n",
              "      box-shadow: 0px 1px 3px 1px rgba(0, 0, 0, 0.15);\n",
              "      filter: drop-shadow(0px 1px 2px rgba(0, 0, 0, 0.3));\n",
              "      fill: #FFFFFF;\n",
              "    }\n",
              "  </style>\n",
              "\n",
              "      <script>\n",
              "        const buttonEl =\n",
              "          document.querySelector('#df-558d01a2-aa29-4ad5-b4a4-bd95113cc91d button.colab-df-convert');\n",
              "        buttonEl.style.display =\n",
              "          google.colab.kernel.accessAllowed ? 'block' : 'none';\n",
              "\n",
              "        async function convertToInteractive(key) {\n",
              "          const element = document.querySelector('#df-558d01a2-aa29-4ad5-b4a4-bd95113cc91d');\n",
              "          const dataTable =\n",
              "            await google.colab.kernel.invokeFunction('convertToInteractive',\n",
              "                                                     [key], {});\n",
              "          if (!dataTable) return;\n",
              "\n",
              "          const docLinkHtml = 'Like what you see? Visit the ' +\n",
              "            '<a target=\"_blank\" href=https://colab.research.google.com/notebooks/data_table.ipynb>data table notebook</a>'\n",
              "            + ' to learn more about interactive tables.';\n",
              "          element.innerHTML = '';\n",
              "          dataTable['output_type'] = 'display_data';\n",
              "          await google.colab.output.renderOutput(dataTable, element);\n",
              "          const docLink = document.createElement('div');\n",
              "          docLink.innerHTML = docLinkHtml;\n",
              "          element.appendChild(docLink);\n",
              "        }\n",
              "      </script>\n",
              "    </div>\n",
              "  </div>\n",
              "  "
            ]
          },
          "metadata": {},
          "execution_count": 229
        }
      ],
      "source": [
        "df_freq = pd.DataFrame(Y_test_time)\n",
        "df_freq.head()"
      ]
    },
    {
      "cell_type": "code",
      "execution_count": 230,
      "metadata": {
        "colab": {
          "base_uri": "https://localhost:8080/"
        },
        "id": "2ZNa9_s-wA1Y",
        "outputId": "f250c742-db20-41d4-b0d0-c6f5fa2ec685"
      },
      "outputs": [
        {
          "output_type": "stream",
          "name": "stdout",
          "text": [
            "(2236, 6)\n"
          ]
        }
      ],
      "source": [
        "# Use the get_dummies() method to one-hot encode the labels\n",
        "one_hot_labels = pd.get_dummies(df_freq)\n",
        "\n",
        "# Convert the DataFrame to a NumPy array\n",
        "one_hot_labels = one_hot_labels.to_numpy()\n",
        "\n",
        "print(one_hot_labels.shape)"
      ]
    },
    {
      "cell_type": "code",
      "execution_count": 231,
      "metadata": {
        "colab": {
          "base_uri": "https://localhost:8080/"
        },
        "id": "5zKm7AaTwaBv",
        "outputId": "69c6f863-b5d6-4f54-e67e-6aa17883ef2a"
      },
      "outputs": [
        {
          "output_type": "execute_result",
          "data": {
            "text/plain": [
              "(2236, 6)"
            ]
          },
          "metadata": {},
          "execution_count": 231
        }
      ],
      "source": [
        "Y_time = one_hot_labels\n",
        "Y_time.shape"
      ]
    },
    {
      "cell_type": "code",
      "source": [
        "from sklearn.metrics import accuracy_score, f1_score, confusion_matrix\n",
        "# Evaluate the model on the test set\n",
        "y_pred = model.predict(D_test_pca)\n",
        "y_pred_classes = np.argmax(y_pred, axis=1)\n",
        "y_test_classes = np.argmax(Y_time, axis=1)\n",
        "accuracy = accuracy_score(y_test_classes, y_pred_classes)\n",
        "f_score = f1_score(y_test_classes, y_pred_classes, average='weighted')\n",
        "print('Accuracy:', accuracy)\n",
        "print('F-score:', f_score)\n",
        "\n",
        "# Plot the confusion matrix\n",
        "cm = confusion_matrix(y_test_classes, y_pred_classes)\n",
        "plt.imshow(cm, cmap=plt.cm.Blues)\n",
        "plt.title('Confusion matrix')\n",
        "plt.colorbar()\n",
        "tick_marks = np.arange(6)\n",
        "plt.xticks(tick_marks, range(6))\n",
        "plt.yticks(tick_marks, range(6))\n",
        "plt.xlabel('Predicted label')\n",
        "plt.ylabel('True label')\n",
        "plt.show()\n",
        "\n",
        "# Find the most confusinglabels\n",
        "np.fill_diagonal(cm, 0)\n",
        "most_confused_classes = np.unravel_index(np.argmax(cm), cm.shape)\n",
        "print('Most confusing classes:', most_confused_classes)"
      ],
      "metadata": {
        "colab": {
          "base_uri": "https://localhost:8080/",
          "height": 541
        },
        "id": "S8lCpHN_md8z",
        "outputId": "9265aee4-4c04-4c97-9a90-8f2948c6b288"
      },
      "execution_count": 232,
      "outputs": [
        {
          "output_type": "stream",
          "name": "stdout",
          "text": [
            "70/70 [==============================] - 1s 5ms/step\n",
            "Accuracy: 0.31932021466905186\n",
            "F-score: 0.2650554931782003\n"
          ]
        },
        {
          "output_type": "display_data",
          "data": {
            "text/plain": [
              "<Figure size 640x480 with 2 Axes>"
            ],
            "image/png": "[encoded data removed]"
          },
          "metadata": {}
        },
        {
          "output_type": "stream",
          "name": "stdout",
          "text": [
            "Most confusing classes: (3, 0)\n"
          ]
        }
      ]
    },
    {
      "cell_type": "markdown",
      "source": [
        "## Frequency Domain Model Without Augmentation"
      ],
      "metadata": {
        "id": "8SCoKeoWL2eM"
      }
    },
    {
      "cell_type": "code",
      "execution_count": 138,
      "metadata": {
        "id": "xtwZaAPLZ7xt"
      },
      "outputs": [],
      "source": [
        "D_freq, Y_freq = loadAudioFreq(D_train)"
      ]
    },
    {
      "cell_type": "code",
      "source": [
        "unicheck = np.unique(Y_freq, axis=0)\n",
        "print(f\"Check on freq domain:\\n{unicheck}\")"
      ],
      "metadata": {
        "id": "OrMPj3gPjhQd",
        "colab": {
          "base_uri": "https://localhost:8080/"
        },
        "outputId": "aff2d98d-3289-401e-f6bf-99f6e0de0cfb"
      },
      "execution_count": 140,
      "outputs": [
        {
          "output_type": "stream",
          "name": "stdout",
          "text": [
            "Check on freq domain:\n",
            "['ANG' 'DIS' 'FEA' 'HAP' 'NEU' 'SAD']\n"
          ]
        }
      ]
    },
    {
      "cell_type": "code",
      "execution_count": 141,
      "metadata": {
        "id": "GUgk6mioee_h",
        "colab": {
          "base_uri": "https://localhost:8080/",
          "height": 206
        },
        "outputId": "a6bd4b38-3942-4682-c462-1a40a886e8da"
      },
      "outputs": [
        {
          "output_type": "execute_result",
          "data": {
            "text/plain": [
              "     0\n",
              "0  DIS\n",
              "1  FEA\n",
              "2  DIS\n",
              "3  SAD\n",
              "4  ANG"
            ],
            "text/html": [
              "\n",
              "  <div id=\"df-6538e72c-56dd-4c6d-a956-9340afd0b0b0\">\n",
              "    <div class=\"colab-df-container\">\n",
              "      <div>\n",
              "<style scoped>\n",
              "    .dataframe tbody tr th:only-of-type {\n",
              "        vertical-align: middle;\n",
              "    }\n",
              "\n",
              "    .dataframe tbody tr th {\n",
              "        vertical-align: top;\n",
              "    }\n",
              "\n",
              "    .dataframe thead th {\n",
              "        text-align: right;\n",
              "    }\n",
              "</style>\n",
              "<table border=\"1\" class=\"dataframe\">\n",
              "  <thead>\n",
              "    <tr style=\"text-align: right;\">\n",
              "      <th></th>\n",
              "      <th>0</th>\n",
              "    </tr>\n",
              "  </thead>\n",
              "  <tbody>\n",
              "    <tr>\n",
              "      <th>0</th>\n",
              "      <td>DIS</td>\n",
              "    </tr>\n",
              "    <tr>\n",
              "      <th>1</th>\n",
              "      <td>FEA</td>\n",
              "    </tr>\n",
              "    <tr>\n",
              "      <th>2</th>\n",
              "      <td>DIS</td>\n",
              "    </tr>\n",
              "    <tr>\n",
              "      <th>3</th>\n",
              "      <td>SAD</td>\n",
              "    </tr>\n",
              "    <tr>\n",
              "      <th>4</th>\n",
              "      <td>ANG</td>\n",
              "    </tr>\n",
              "  </tbody>\n",
              "</table>\n",
              "</div>\n",
              "      <button class=\"colab-df-convert\" onclick=\"convertToInteractive('df-6538e72c-56dd-4c6d-a956-9340afd0b0b0')\"\n",
              "              title=\"Convert this dataframe to an interactive table.\"\n",
              "              style=\"display:none;\">\n",
              "        \n",
              "  <svg xmlns=\"http://www.w3.org/2000/svg\" height=\"24px\"viewBox=\"0 0 24 24\"\n",
              "       width=\"24px\">\n",
              "    <path d=\"M0 0h24v24H0V0z\" fill=\"none\"/>\n",
              "    <path d=\"M18.56 5.44l.94 2.06.94-2.06 2.06-.94-2.06-.94-.94-2.06-.94 2.06-2.06.94zm-11 1L8.5 8.5l.94-2.06 2.06-.94-2.06-.94L8.5 2.5l-.94 2.06-2.06.94zm10 10l.94 2.06.94-2.06 2.06-.94-2.06-.94-.94-2.06-.94 2.06-2.06.94z\"/><path d=\"M17.41 7.96l-1.37-1.37c-.4-.4-.92-.59-1.43-.59-.52 0-1.04.2-1.43.59L10.3 9.45l-7.72 7.72c-.78.78-.78 2.05 0 2.83L4 21.41c.39.39.9.59 1.41.59.51 0 1.02-.2 1.41-.59l7.78-7.78 2.81-2.81c.8-.78.8-2.07 0-2.86zM5.41 20L4 18.59l7.72-7.72 1.47 1.35L5.41 20z\"/>\n",
              "  </svg>\n",
              "      </button>\n",
              "      \n",
              "  <style>\n",
              "    .colab-df-container {\n",
              "      display:flex;\n",
              "      flex-wrap:wrap;\n",
              "      gap: 12px;\n",
              "    }\n",
              "\n",
              "    .colab-df-convert {\n",
              "      background-color: #E8F0FE;\n",
              "      border: none;\n",
              "      border-radius: 50%;\n",
              "      cursor: pointer;\n",
              "      display: none;\n",
              "      fill: #1967D2;\n",
              "      height: 32px;\n",
              "      padding: 0 0 0 0;\n",
              "      width: 32px;\n",
              "    }\n",
              "\n",
              "    .colab-df-convert:hover {\n",
              "      background-color: #E2EBFA;\n",
              "      box-shadow: 0px 1px 2px rgba(60, 64, 67, 0.3), 0px 1px 3px 1px rgba(60, 64, 67, 0.15);\n",
              "      fill: #174EA6;\n",
              "    }\n",
              "\n",
              "    [theme=dark] .colab-df-convert {\n",
              "      background-color: #3B4455;\n",
              "      fill: #D2E3FC;\n",
              "    }\n",
              "\n",
              "    [theme=dark] .colab-df-convert:hover {\n",
              "      background-color: #434B5C;\n",
              "      box-shadow: 0px 1px 3px 1px rgba(0, 0, 0, 0.15);\n",
              "      filter: drop-shadow(0px 1px 2px rgba(0, 0, 0, 0.3));\n",
              "      fill: #FFFFFF;\n",
              "    }\n",
              "  </style>\n",
              "\n",
              "      <script>\n",
              "        const buttonEl =\n",
              "          document.querySelector('#df-6538e72c-56dd-4c6d-a956-9340afd0b0b0 button.colab-df-convert');\n",
              "        buttonEl.style.display =\n",
              "          google.colab.kernel.accessAllowed ? 'block' : 'none';\n",
              "\n",
              "        async function convertToInteractive(key) {\n",
              "          const element = document.querySelector('#df-6538e72c-56dd-4c6d-a956-9340afd0b0b0');\n",
              "          const dataTable =\n",
              "            await google.colab.kernel.invokeFunction('convertToInteractive',\n",
              "                                                     [key], {});\n",
              "          if (!dataTable) return;\n",
              "\n",
              "          const docLinkHtml = 'Like what you see? Visit the ' +\n",
              "            '<a target=\"_blank\" href=https://colab.research.google.com/notebooks/data_table.ipynb>data table notebook</a>'\n",
              "            + ' to learn more about interactive tables.';\n",
              "          element.innerHTML = '';\n",
              "          dataTable['output_type'] = 'display_data';\n",
              "          await google.colab.output.renderOutput(dataTable, element);\n",
              "          const docLink = document.createElement('div');\n",
              "          docLink.innerHTML = docLinkHtml;\n",
              "          element.appendChild(docLink);\n",
              "        }\n",
              "      </script>\n",
              "    </div>\n",
              "  </div>\n",
              "  "
            ]
          },
          "metadata": {},
          "execution_count": 141
        }
      ],
      "source": [
        "df_freq = pd.DataFrame(Y_freq)\n",
        "df_freq.head()"
      ]
    },
    {
      "cell_type": "code",
      "execution_count": 142,
      "metadata": {
        "id": "zsGHDz33gla3",
        "colab": {
          "base_uri": "https://localhost:8080/"
        },
        "outputId": "85a5a1e9-4fb2-4350-b83a-7ad7a3a2fd41"
      },
      "outputs": [
        {
          "output_type": "stream",
          "name": "stdout",
          "text": [
            "(5216, 6)\n"
          ]
        }
      ],
      "source": [
        "# Use the get_dummies() method to one-hot encode the labels\n",
        "one_hot_labels = pd.get_dummies(df_freq)\n",
        "\n",
        "# Convert the DataFrame to a NumPy array\n",
        "one_hot_labels = one_hot_labels.to_numpy()\n",
        "\n",
        "print(one_hot_labels.shape)"
      ]
    },
    {
      "cell_type": "code",
      "execution_count": 143,
      "metadata": {
        "id": "tC97UHgRgopX",
        "colab": {
          "base_uri": "https://localhost:8080/"
        },
        "outputId": "fc6354a7-6fbe-465a-bd74-2bc57fcffc84"
      },
      "outputs": [
        {
          "output_type": "execute_result",
          "data": {
            "text/plain": [
              "(5216, 6)"
            ]
          },
          "metadata": {},
          "execution_count": 143
        }
      ],
      "source": [
        "Y_freq = one_hot_labels\n",
        "Y_freq.shape"
      ]
    },
    {
      "cell_type": "code",
      "source": [
        "for i, array in enumerate(D_freq):\n",
        "    D_freq[i] = np.pad(array, ((0, 0), (0, 256 - array.shape[1])))\n",
        "D_freq = np.array(D_freq)"
      ],
      "metadata": {
        "id": "9rGP0HoHwFn2"
      },
      "execution_count": 144,
      "outputs": []
    },
    {
      "cell_type": "code",
      "source": [
        "D_freq.shape"
      ],
      "metadata": {
        "id": "0WQI9jQzwHtK",
        "colab": {
          "base_uri": "https://localhost:8080/"
        },
        "outputId": "9e7071ad-0db9-48c6-b978-f597ac37e143"
      },
      "execution_count": 145,
      "outputs": [
        {
          "output_type": "execute_result",
          "data": {
            "text/plain": [
              "(5216, 64, 256)"
            ]
          },
          "metadata": {},
          "execution_count": 145
        }
      ]
    },
    {
      "cell_type": "code",
      "execution_count": 146,
      "metadata": {
        "id": "iy502zPqgrjs",
        "colab": {
          "base_uri": "https://localhost:8080/"
        },
        "outputId": "3def7e36-0e41-4171-dd0b-32251f478c30"
      },
      "outputs": [
        {
          "output_type": "stream",
          "name": "stdout",
          "text": [
            "((4955, 64, 256), (4955, 6), (261, 64, 256), (261, 6))\n"
          ]
        }
      ],
      "source": [
        "x_train, x_test, y_train, y_test = train_test_split(np.array(D_freq), np.array(Y_freq), test_size=0.05)\n",
        "print((x_train.shape, y_train.shape, x_test.shape, y_test.shape))"
      ]
    },
    {
      "cell_type": "code",
      "execution_count": 147,
      "metadata": {
        "id": "85miHU54hlCc",
        "colab": {
          "base_uri": "https://localhost:8080/"
        },
        "outputId": "813e0e42-6a84-4ece-8b69-3b184ee42ce7"
      },
      "outputs": [
        {
          "output_type": "stream",
          "name": "stdout",
          "text": [
            "(4955, 64, 256, 1) (261, 64, 256, 1)\n"
          ]
        }
      ],
      "source": [
        "x_train = x_train.reshape((x_train.shape[0], x_train.shape[1], x_train.shape[2], 1))\n",
        "x_test = x_test.reshape((x_test.shape[0], x_test.shape[1], x_test.shape[2], 1))\n",
        "print(x_train.shape, x_test.shape)"
      ]
    },
    {
      "cell_type": "code",
      "source": [
        "model = Sequential()\n",
        "\n",
        "# Layer 1: Convolutional Layer\n",
        "model.add(Conv2D(32, (3, 3), activation='relu', input_shape=(x_train.shape[1], x_train.shape[2], 1)))\n",
        "model.add(MaxPooling2D(pool_size=(2, 2)))\n",
        "\n",
        "# Layer 2: Convolutional Layer\n",
        "model.add(Conv2D(64, (3, 3), activation='relu'))\n",
        "model.add(MaxPooling2D(pool_size=(2, 2)))\n",
        "\n",
        "# Layer 3: Convolutional Layer\n",
        "model.add(Conv2D(128, (3, 3), activation='relu'))\n",
        "model.add(MaxPooling2D(pool_size=(2, 2)))\n",
        "\n",
        "# Layer 4: Flatten Layer\n",
        "model.add(Flatten())\n",
        "\n",
        "# Layer 5: Fully Connected Layer\n",
        "model.add(Dense(256, activation='relu'))\n",
        "model.add(Dropout(0.5))\n",
        "\n",
        "# Layer 6: Fully Connected Layer\n",
        "model.add(Dense(128, activation='relu'))\n",
        "model.add(Dropout(0.5))\n",
        "\n",
        "# Layer 7: Output Layer\n",
        "model.add(Dense(6, activation='sigmoid'))\n",
        "\n",
        "model.compile(loss='categorical_crossentropy',\n",
        "             optimizer=optimizers.Adam(lr=0.0005),\n",
        "             metrics=['accuracy'])\n",
        "\n",
        "model.summary()"
      ],
      "metadata": {
        "id": "_Qb69EaZ4cZj",
        "colab": {
          "base_uri": "https://localhost:8080/"
        },
        "outputId": "951dd8f6-c467-4878-bd55-2c9be7e3445e"
      },
      "execution_count": 148,
      "outputs": [
        {
          "output_type": "stream",
          "name": "stdout",
          "text": [
            "Model: \"sequential_5\"\n",
            "_________________________________________________________________\n",
            " Layer (type)                Output Shape              Param #   \n",
            "=================================================================\n",
            " conv2d_9 (Conv2D)           (None, 62, 254, 32)       320       \n",
            "                                                                 \n",
            " max_pooling2d_9 (MaxPooling  (None, 31, 127, 32)      0         \n",
            " 2D)                                                             \n",
            "                                                                 \n",
            " conv2d_10 (Conv2D)          (None, 29, 125, 64)       18496     \n",
            "                                                                 \n",
            " max_pooling2d_10 (MaxPoolin  (None, 14, 62, 64)       0         \n",
            " g2D)                                                            \n",
            "                                                                 \n",
            " conv2d_11 (Conv2D)          (None, 12, 60, 128)       73856     \n",
            "                                                                 \n",
            " max_pooling2d_11 (MaxPoolin  (None, 6, 30, 128)       0         \n",
            " g2D)                                                            \n",
            "                                                                 \n",
            " flatten_5 (Flatten)         (None, 23040)             0         \n",
            "                                                                 \n",
            " dense_17 (Dense)            (None, 256)               5898496   \n",
            "                                                                 \n",
            " dropout_12 (Dropout)        (None, 256)               0         \n",
            "                                                                 \n",
            " dense_18 (Dense)            (None, 128)               32896     \n",
            "                                                                 \n",
            " dropout_13 (Dropout)        (None, 128)               0         \n",
            "                                                                 \n",
            " dense_19 (Dense)            (None, 6)                 774       \n",
            "                                                                 \n",
            "=================================================================\n",
            "Total params: 6,024,838\n",
            "Trainable params: 6,024,838\n",
            "Non-trainable params: 0\n",
            "_________________________________________________________________\n"
          ]
        },
        {
          "output_type": "stream",
          "name": "stderr",
          "text": [
            "/usr/local/lib/python3.10/dist-packages/keras/optimizers/legacy/adam.py:117: UserWarning: The `lr` argument is deprecated, use `learning_rate` instead.\n",
            "  super().__init__(name, **kwargs)\n"
          ]
        }
      ]
    },
    {
      "cell_type": "code",
      "execution_count": 149,
      "metadata": {
        "id": "gl590_cHhr3p",
        "colab": {
          "base_uri": "https://localhost:8080/"
        },
        "outputId": "2f2174d0-48cf-4258-f55a-b82da7ce02ab"
      },
      "outputs": [
        {
          "output_type": "stream",
          "name": "stdout",
          "text": [
            "Epoch 1/50\n",
            "39/39 [==============================] - 3s 62ms/step - loss: 1.9793 - accuracy: 0.1909 - val_loss: 1.7187 - val_accuracy: 0.3103\n",
            "Epoch 2/50\n",
            "39/39 [==============================] - 2s 50ms/step - loss: 1.6680 - accuracy: 0.2969 - val_loss: 1.5399 - val_accuracy: 0.3563\n",
            "Epoch 3/50\n",
            "39/39 [==============================] - 2s 49ms/step - loss: 1.5953 - accuracy: 0.3364 - val_loss: 1.4766 - val_accuracy: 0.3831\n",
            "Epoch 4/50\n",
            "39/39 [==============================] - 2s 50ms/step - loss: 1.5426 - accuracy: 0.3536 - val_loss: 1.5095 - val_accuracy: 0.3678\n",
            "Epoch 5/50\n",
            "39/39 [==============================] - 2s 49ms/step - loss: 1.5347 - accuracy: 0.3649 - val_loss: 1.4345 - val_accuracy: 0.4444\n",
            "Epoch 6/50\n",
            "39/39 [==============================] - 2s 49ms/step - loss: 1.4948 - accuracy: 0.3768 - val_loss: 1.4028 - val_accuracy: 0.4176\n",
            "Epoch 7/50\n",
            "39/39 [==============================] - 2s 51ms/step - loss: 1.4933 - accuracy: 0.3927 - val_loss: 1.4124 - val_accuracy: 0.4444\n",
            "Epoch 8/50\n",
            "39/39 [==============================] - 2s 53ms/step - loss: 1.4700 - accuracy: 0.3946 - val_loss: 1.3680 - val_accuracy: 0.4789\n",
            "Epoch 9/50\n",
            "39/39 [==============================] - 2s 51ms/step - loss: 1.4572 - accuracy: 0.4038 - val_loss: 1.3575 - val_accuracy: 0.4713\n",
            "Epoch 10/50\n",
            "39/39 [==============================] - 2s 50ms/step - loss: 1.4403 - accuracy: 0.4141 - val_loss: 1.3552 - val_accuracy: 0.4904\n",
            "Epoch 11/50\n",
            "39/39 [==============================] - 2s 50ms/step - loss: 1.4306 - accuracy: 0.4172 - val_loss: 1.3738 - val_accuracy: 0.4713\n",
            "Epoch 12/50\n",
            "39/39 [==============================] - 2s 50ms/step - loss: 1.4234 - accuracy: 0.4238 - val_loss: 1.3303 - val_accuracy: 0.4828\n",
            "Epoch 13/50\n",
            "39/39 [==============================] - 2s 51ms/step - loss: 1.4012 - accuracy: 0.4400 - val_loss: 1.3212 - val_accuracy: 0.4789\n",
            "Epoch 14/50\n",
            "39/39 [==============================] - 2s 52ms/step - loss: 1.3955 - accuracy: 0.4379 - val_loss: 1.3010 - val_accuracy: 0.4943\n",
            "Epoch 15/50\n",
            "39/39 [==============================] - 2s 54ms/step - loss: 1.3926 - accuracy: 0.4379 - val_loss: 1.3122 - val_accuracy: 0.5134\n",
            "Epoch 16/50\n",
            "39/39 [==============================] - 2s 50ms/step - loss: 1.3679 - accuracy: 0.4498 - val_loss: 1.2972 - val_accuracy: 0.4866\n",
            "Epoch 17/50\n",
            "39/39 [==============================] - 2s 50ms/step - loss: 1.3331 - accuracy: 0.4729 - val_loss: 1.2780 - val_accuracy: 0.4828\n",
            "Epoch 18/50\n",
            "39/39 [==============================] - 2s 50ms/step - loss: 1.3182 - accuracy: 0.4848 - val_loss: 1.2792 - val_accuracy: 0.4943\n",
            "Epoch 19/50\n",
            "39/39 [==============================] - 2s 51ms/step - loss: 1.2887 - accuracy: 0.4844 - val_loss: 1.2485 - val_accuracy: 0.4636\n",
            "Epoch 20/50\n",
            "39/39 [==============================] - 2s 51ms/step - loss: 1.2882 - accuracy: 0.4963 - val_loss: 1.2717 - val_accuracy: 0.5019\n",
            "Epoch 21/50\n",
            "39/39 [==============================] - 2s 54ms/step - loss: 1.2680 - accuracy: 0.5023 - val_loss: 1.2600 - val_accuracy: 0.5249\n",
            "Epoch 22/50\n",
            "39/39 [==============================] - 2s 54ms/step - loss: 1.2386 - accuracy: 0.5082 - val_loss: 1.2524 - val_accuracy: 0.5134\n",
            "Epoch 23/50\n",
            "39/39 [==============================] - 2s 51ms/step - loss: 1.2262 - accuracy: 0.5154 - val_loss: 1.2500 - val_accuracy: 0.5057\n",
            "Epoch 24/50\n",
            "39/39 [==============================] - 2s 52ms/step - loss: 1.1849 - accuracy: 0.5366 - val_loss: 1.2386 - val_accuracy: 0.5326\n",
            "Epoch 25/50\n",
            "39/39 [==============================] - 2s 51ms/step - loss: 1.1568 - accuracy: 0.5532 - val_loss: 1.3337 - val_accuracy: 0.4904\n",
            "Epoch 26/50\n",
            "39/39 [==============================] - 2s 53ms/step - loss: 1.1315 - accuracy: 0.5586 - val_loss: 1.3136 - val_accuracy: 0.5096\n",
            "Epoch 27/50\n",
            "39/39 [==============================] - 2s 62ms/step - loss: 1.1123 - accuracy: 0.5750 - val_loss: 1.2366 - val_accuracy: 0.5364\n",
            "Epoch 28/50\n",
            "39/39 [==============================] - 2s 63ms/step - loss: 1.0709 - accuracy: 0.5835 - val_loss: 1.2413 - val_accuracy: 0.5211\n",
            "Epoch 29/50\n",
            "39/39 [==============================] - 2s 61ms/step - loss: 1.0414 - accuracy: 0.5994 - val_loss: 1.2324 - val_accuracy: 0.5326\n",
            "Epoch 30/50\n",
            "39/39 [==============================] - 2s 59ms/step - loss: 1.0187 - accuracy: 0.6012 - val_loss: 1.2932 - val_accuracy: 0.4943\n",
            "Epoch 31/50\n",
            "39/39 [==============================] - 2s 56ms/step - loss: 0.9891 - accuracy: 0.6174 - val_loss: 1.3163 - val_accuracy: 0.5326\n",
            "Epoch 32/50\n",
            "39/39 [==============================] - 2s 57ms/step - loss: 0.9465 - accuracy: 0.6369 - val_loss: 1.3206 - val_accuracy: 0.5172\n",
            "Epoch 33/50\n",
            "39/39 [==============================] - 2s 52ms/step - loss: 0.9204 - accuracy: 0.6507 - val_loss: 1.4130 - val_accuracy: 0.5019\n",
            "Epoch 34/50\n",
            "39/39 [==============================] - 2s 54ms/step - loss: 0.9039 - accuracy: 0.6438 - val_loss: 1.3390 - val_accuracy: 0.5287\n",
            "Epoch 35/50\n",
            "39/39 [==============================] - 2s 53ms/step - loss: 0.8373 - accuracy: 0.6741 - val_loss: 1.3837 - val_accuracy: 0.5326\n",
            "Epoch 36/50\n",
            "39/39 [==============================] - 2s 50ms/step - loss: 0.8308 - accuracy: 0.6831 - val_loss: 1.4237 - val_accuracy: 0.4981\n",
            "Epoch 37/50\n",
            "39/39 [==============================] - 2s 51ms/step - loss: 0.7922 - accuracy: 0.6936 - val_loss: 1.4615 - val_accuracy: 0.5364\n",
            "Epoch 38/50\n",
            "39/39 [==============================] - 2s 50ms/step - loss: 0.7519 - accuracy: 0.7100 - val_loss: 1.5299 - val_accuracy: 0.4943\n",
            "Epoch 39/50\n",
            "39/39 [==============================] - 2s 51ms/step - loss: 0.7281 - accuracy: 0.7273 - val_loss: 1.4989 - val_accuracy: 0.4866\n"
          ]
        }
      ],
      "source": [
        "# Specify thecallbacks for the model\n",
        "callbacks = [EarlyStopping(monitor='val_loss', patience=10)]\n",
        "\n",
        "history = model.fit(x_train, y_train,\n",
        "                    epochs=50,\n",
        "                    batch_size=128,\n",
        "                    validation_data=(x_test, y_test),\n",
        "                    callbacks=callbacks)"
      ]
    },
    {
      "cell_type": "code",
      "source": [
        "X_test_freq,Y_test_freq = loadAudioFreq(D_test)\n"
      ],
      "metadata": {
        "id": "iaGFCAqQm826"
      },
      "execution_count": 150,
      "outputs": []
    },
    {
      "cell_type": "code",
      "source": [
        "unicheck = np.unique(Y_test_freq, axis=0)\n",
        "print(f\"Check on freq domain:\\n{unicheck}\")"
      ],
      "metadata": {
        "colab": {
          "base_uri": "https://localhost:8080/"
        },
        "outputId": "d4834ca2-aefe-4670-a6d6-daa43df9e73b",
        "id": "-z0QrmUk8ThQ"
      },
      "execution_count": 151,
      "outputs": [
        {
          "output_type": "stream",
          "name": "stdout",
          "text": [
            "Check on freq domain:\n",
            "['ANG' 'DIS' 'FEA' 'HAP' 'NEU' 'SAD']\n"
          ]
        }
      ]
    },
    {
      "cell_type": "code",
      "execution_count": 152,
      "metadata": {
        "colab": {
          "base_uri": "https://localhost:8080/",
          "height": 206
        },
        "outputId": "69343963-e02f-468e-c71d-8a8ae55541fe",
        "id": "NH51fyVT8ThR"
      },
      "outputs": [
        {
          "output_type": "execute_result",
          "data": {
            "text/plain": [
              "     0\n",
              "0  NEU\n",
              "1  DIS\n",
              "2  HAP\n",
              "3  NEU\n",
              "4  DIS"
            ],
            "text/html": [
              "\n",
              "  <div id=\"df-c16bc329-59aa-4a69-bfd9-19253f7e1cd8\">\n",
              "    <div class=\"colab-df-container\">\n",
              "      <div>\n",
              "<style scoped>\n",
              "    .dataframe tbody tr th:only-of-type {\n",
              "        vertical-align: middle;\n",
              "    }\n",
              "\n",
              "    .dataframe tbody tr th {\n",
              "        vertical-align: top;\n",
              "    }\n",
              "\n",
              "    .dataframe thead th {\n",
              "        text-align: right;\n",
              "    }\n",
              "</style>\n",
              "<table border=\"1\" class=\"dataframe\">\n",
              "  <thead>\n",
              "    <tr style=\"text-align: right;\">\n",
              "      <th></th>\n",
              "      <th>0</th>\n",
              "    </tr>\n",
              "  </thead>\n",
              "  <tbody>\n",
              "    <tr>\n",
              "      <th>0</th>\n",
              "      <td>NEU</td>\n",
              "    </tr>\n",
              "    <tr>\n",
              "      <th>1</th>\n",
              "      <td>DIS</td>\n",
              "    </tr>\n",
              "    <tr>\n",
              "      <th>2</th>\n",
              "      <td>HAP</td>\n",
              "    </tr>\n",
              "    <tr>\n",
              "      <th>3</th>\n",
              "      <td>NEU</td>\n",
              "    </tr>\n",
              "    <tr>\n",
              "      <th>4</th>\n",
              "      <td>DIS</td>\n",
              "    </tr>\n",
              "  </tbody>\n",
              "</table>\n",
              "</div>\n",
              "      <button class=\"colab-df-convert\" onclick=\"convertToInteractive('df-c16bc329-59aa-4a69-bfd9-19253f7e1cd8')\"\n",
              "              title=\"Convert this dataframe to an interactive table.\"\n",
              "              style=\"display:none;\">\n",
              "        \n",
              "  <svg xmlns=\"http://www.w3.org/2000/svg\" height=\"24px\"viewBox=\"0 0 24 24\"\n",
              "       width=\"24px\">\n",
              "    <path d=\"M0 0h24v24H0V0z\" fill=\"none\"/>\n",
              "    <path d=\"M18.56 5.44l.94 2.06.94-2.06 2.06-.94-2.06-.94-.94-2.06-.94 2.06-2.06.94zm-11 1L8.5 8.5l.94-2.06 2.06-.94-2.06-.94L8.5 2.5l-.94 2.06-2.06.94zm10 10l.94 2.06.94-2.06 2.06-.94-2.06-.94-.94-2.06-.94 2.06-2.06.94z\"/><path d=\"M17.41 7.96l-1.37-1.37c-.4-.4-.92-.59-1.43-.59-.52 0-1.04.2-1.43.59L10.3 9.45l-7.72 7.72c-.78.78-.78 2.05 0 2.83L4 21.41c.39.39.9.59 1.41.59.51 0 1.02-.2 1.41-.59l7.78-7.78 2.81-2.81c.8-.78.8-2.07 0-2.86zM5.41 20L4 18.59l7.72-7.72 1.47 1.35L5.41 20z\"/>\n",
              "  </svg>\n",
              "      </button>\n",
              "      \n",
              "  <style>\n",
              "    .colab-df-container {\n",
              "      display:flex;\n",
              "      flex-wrap:wrap;\n",
              "      gap: 12px;\n",
              "    }\n",
              "\n",
              "    .colab-df-convert {\n",
              "      background-color: #E8F0FE;\n",
              "      border: none;\n",
              "      border-radius: 50%;\n",
              "      cursor: pointer;\n",
              "      display: none;\n",
              "      fill: #1967D2;\n",
              "      height: 32px;\n",
              "      padding: 0 0 0 0;\n",
              "      width: 32px;\n",
              "    }\n",
              "\n",
              "    .colab-df-convert:hover {\n",
              "      background-color: #E2EBFA;\n",
              "      box-shadow: 0px 1px 2px rgba(60, 64, 67, 0.3), 0px 1px 3px 1px rgba(60, 64, 67, 0.15);\n",
              "      fill: #174EA6;\n",
              "    }\n",
              "\n",
              "    [theme=dark] .colab-df-convert {\n",
              "      background-color: #3B4455;\n",
              "      fill: #D2E3FC;\n",
              "    }\n",
              "\n",
              "    [theme=dark] .colab-df-convert:hover {\n",
              "      background-color: #434B5C;\n",
              "      box-shadow: 0px 1px 3px 1px rgba(0, 0, 0, 0.15);\n",
              "      filter: drop-shadow(0px 1px 2px rgba(0, 0, 0, 0.3));\n",
              "      fill: #FFFFFF;\n",
              "    }\n",
              "  </style>\n",
              "\n",
              "      <script>\n",
              "        const buttonEl =\n",
              "          document.querySelector('#df-c16bc329-59aa-4a69-bfd9-19253f7e1cd8 button.colab-df-convert');\n",
              "        buttonEl.style.display =\n",
              "          google.colab.kernel.accessAllowed ? 'block' : 'none';\n",
              "\n",
              "        async function convertToInteractive(key) {\n",
              "          const element = document.querySelector('#df-c16bc329-59aa-4a69-bfd9-19253f7e1cd8');\n",
              "          const dataTable =\n",
              "            await google.colab.kernel.invokeFunction('convertToInteractive',\n",
              "                                                     [key], {});\n",
              "          if (!dataTable) return;\n",
              "\n",
              "          const docLinkHtml = 'Like what you see? Visit the ' +\n",
              "            '<a target=\"_blank\" href=https://colab.research.google.com/notebooks/data_table.ipynb>data table notebook</a>'\n",
              "            + ' to learn more about interactive tables.';\n",
              "          element.innerHTML = '';\n",
              "          dataTable['output_type'] = 'display_data';\n",
              "          await google.colab.output.renderOutput(dataTable, element);\n",
              "          const docLink = document.createElement('div');\n",
              "          docLink.innerHTML = docLinkHtml;\n",
              "          element.appendChild(docLink);\n",
              "        }\n",
              "      </script>\n",
              "    </div>\n",
              "  </div>\n",
              "  "
            ]
          },
          "metadata": {},
          "execution_count": 152
        }
      ],
      "source": [
        "df_freq = pd.DataFrame(Y_test_freq)\n",
        "df_freq.head()"
      ]
    },
    {
      "cell_type": "code",
      "execution_count": 153,
      "metadata": {
        "colab": {
          "base_uri": "https://localhost:8080/"
        },
        "outputId": "5ba6a1ae-5b94-4814-ca2d-d293ab653122",
        "id": "TMwkeUAO8ThR"
      },
      "outputs": [
        {
          "output_type": "stream",
          "name": "stdout",
          "text": [
            "(2236, 6)\n"
          ]
        }
      ],
      "source": [
        "# Use the get_dummies() method to one-hot encode the labels\n",
        "one_hot_labels = pd.get_dummies(df_freq)\n",
        "\n",
        "# Convert the DataFrame to a NumPy array\n",
        "one_hot_labels = one_hot_labels.to_numpy()\n",
        "\n",
        "print(one_hot_labels.shape)"
      ]
    },
    {
      "cell_type": "code",
      "execution_count": 154,
      "metadata": {
        "colab": {
          "base_uri": "https://localhost:8080/"
        },
        "outputId": "60771dad-fc64-4673-b4c5-8f9cc2fcdc59",
        "id": "3ibccV1A8ThR"
      },
      "outputs": [
        {
          "output_type": "execute_result",
          "data": {
            "text/plain": [
              "(2236, 6)"
            ]
          },
          "metadata": {},
          "execution_count": 154
        }
      ],
      "source": [
        "Y_freq = one_hot_labels\n",
        "Y_freq.shape"
      ]
    },
    {
      "cell_type": "code",
      "source": [
        "for i, array in enumerate(X_test_freq):\n",
        "    X_test_freq[i] = np.pad(array, ((0, 0), (0, 256 - array.shape[1])))\n",
        "X_test_freq = np.array(X_test_freq)\n",
        "print( X_test_freq.shape)\n",
        "#x_test = x_test.reshape((x_test.shape[0], x_test.shape[1], x_test.shape[2], 1))\n",
        "#X_test_freq = x_test.reshape(( X_test_freq.shape[0],  X_test_freq.shape[1], X_test_freq.shape[2], 1))\n",
        "print( X_test_freq.shape)"
      ],
      "metadata": {
        "colab": {
          "base_uri": "https://localhost:8080/"
        },
        "id": "-T_0WMYY_Rqd",
        "outputId": "311d63be-56c5-4085-af92-a6625437a25c"
      },
      "execution_count": 155,
      "outputs": [
        {
          "output_type": "stream",
          "name": "stdout",
          "text": [
            "(2236, 64, 256)\n",
            "(2236, 64, 256)\n"
          ]
        }
      ]
    },
    {
      "cell_type": "code",
      "source": [
        "from sklearn.metrics import accuracy_score, f1_score, confusion_matrix\n",
        "# Evaluate the model on the test set\n",
        "y_pred = model.predict(X_test_freq)\n",
        "y_pred_classes = np.argmax(y_pred, axis=1)\n",
        "y_test_classes = np.argmax(Y_freq, axis=1)\n",
        "accuracy = accuracy_score(y_test_classes, y_pred_classes)\n",
        "f_score = f1_score(y_test_classes, y_pred_classes, average='weighted')\n",
        "print('Accuracy:', accuracy)\n",
        "print('F-score:', f_score)\n",
        "\n",
        "# Plot the confusion matrix\n",
        "cm = confusion_matrix(y_test_classes, y_pred_classes)\n",
        "plt.imshow(cm, cmap=plt.cm.Blues)\n",
        "plt.title('Confusion matrix')\n",
        "plt.colorbar()\n",
        "tick_marks = np.arange(6)\n",
        "plt.xticks(tick_marks, range(6))\n",
        "plt.yticks(tick_marks, range(6))\n",
        "plt.xlabel('Predicted label')\n",
        "plt.ylabel('True label')\n",
        "plt.show()\n",
        "\n",
        "# Find the most confusinglabels\n",
        "np.fill_diagonal(cm, 0)\n",
        "most_confused_classes = np.unravel_index(np.argmax(cm), cm.shape)\n",
        "print('Most confusing classes:', most_confused_classes)"
      ],
      "metadata": {
        "outputId": "5b75f246-da5d-4c47-c0e5-f254c84a57d1",
        "colab": {
          "base_uri": "https://localhost:8080/",
          "height": 541
        },
        "id": "sAlGiVpm8ThR"
      },
      "execution_count": 156,
      "outputs": [
        {
          "output_type": "stream",
          "name": "stdout",
          "text": [
            "70/70 [==============================] - 1s 7ms/step\n",
            "Accuracy: 0.47674418604651164\n",
            "F-score: 0.4694484608993636\n"
          ]
        },
        {
          "output_type": "display_data",
          "data": {
            "text/plain": [
              "<Figure size 640x480 with 2 Axes>"
            ],
            "image/png": "[encoded data removed]"
          },
          "metadata": {}
        },
        {
          "output_type": "stream",
          "name": "stdout",
          "text": [
            "Most confusing classes: (1, 5)\n"
          ]
        }
      ]
    },
    {
      "cell_type": "code",
      "source": [],
      "metadata": {
        "id": "FgRUFoW6nPfW"
      },
      "execution_count": null,
      "outputs": []
    },
    {
      "cell_type": "code",
      "source": [],
      "metadata": {
        "id": "N4MwzLbNnPhg"
      },
      "execution_count": null,
      "outputs": []
    },
    {
      "cell_type": "code",
      "source": [],
      "metadata": {
        "id": "Z9QoXIUKnPjv"
      },
      "execution_count": null,
      "outputs": []
    },
    {
      "cell_type": "code",
      "source": [
        "def loadAudioFreqA(audio_files):\n",
        "  classes = [\"SAD\", \"ANG\", \"DIS\", \"FEA\", \"HAP\", \"NEU\"]\n",
        "  # for data augmentation\n",
        "  augmentations = Compose([\n",
        "    AddGaussianNoise(min_amplitude=0.001, max_amplitude=0.01, p=0.5),\n",
        "    TimeStretch(min_rate=0.8, max_rate=1.2, p=0.5),\n",
        "    PitchShift(min_semitones=-4, max_semitones=4, p=0.5)\n",
        "])\n",
        "  # max_length = getMaxLen(audio_files)\n",
        "  max_length = 200\n",
        "  D, Y = [], []\n",
        "  for audio_file in audio_files: \n",
        "    # load the audio file\n",
        "    audio, sr = lib.load(audio_file, sr=4444)\n",
        "    # extract mel spectrogram\n",
        "    mel_spec = melSpectrogram(audio, sr)\n",
        "    D.append(mel_spec)\n",
        "    for cls in classes:\n",
        "      if re.search(cls, audio_file): Y.append(cls)\n",
        "    # don't augment every example\n",
        "    if np.random.rand() >= 0.5:\n",
        "      augmented_audio = augmentations(samples=audio, sample_rate=sr)\n",
        "      mel_spec_aug = melSpectrogram(augmented_audio, sr)\n",
        "      D.append(mel_spec_aug)\n",
        "      for cls in classes:\n",
        "        if re.search(cls, audio_file): Y.append(cls)\n",
        "  return D, Y"
      ],
      "metadata": {
        "id": "1dxqL0gwMlFF"
      },
      "execution_count": null,
      "outputs": []
    },
    {
      "cell_type": "markdown",
      "source": [
        "## Time Domain Model Without Augmentation"
      ],
      "metadata": {
        "id": "vlGm_gztMlFV"
      }
    },
    {
      "cell_type": "code",
      "source": [
        "def loadAudioTimeA(audio_files):\n",
        "  classes = [\"SAD\", \"ANG\", \"DIS\", \"FEA\", \"HAP\", \"NEU\"]\n",
        "  # for data augmentation\n",
        "  augmentations = Compose([\n",
        "    AddGaussianNoise(min_amplitude=0.001, max_amplitude=0.01, p=0.5),\n",
        "    TimeStretch(min_rate=0.8, max_rate=1.2, p=0.5),\n",
        "    PitchShift(min_semitones=-4, max_semitones=4, p=0.5)\n",
        "])\n",
        "  # max_length = getMaxLen(audio_files)\n",
        "  max_length = 200\n",
        "  D, Y = [], []\n",
        "  for audio_file in audio_files: \n",
        "    # load the audio file\n",
        "    audio, sr = lib.load(audio_file, sr=4444)\n",
        "    # extract zero crossing rate\n",
        "    zcr = zeroCrossingRate(audio)\n",
        "    # extract energy\n",
        "    rms = energy(audio)\n",
        "    # chroma stft\n",
        "    cs = chromaStft(audio, sr)\n",
        "    # mfcc\n",
        "    mfc = mfcc(audio, sr)\n",
        "    # extract mel spectrogram\n",
        "    mel_spec = melSpectrogram(audio, sr).mean()\n",
        "    combined_features = np.concatenate(([rms, cs, mfc, mel_spec], (np.pad(zcr[0], (0, 300 - len(zcr[0]))))))\n",
        "    D.append(combined_features)\n",
        "    for cls in classes:\n",
        "      if re.search(cls, audio_file): Y.append(cls)\n",
        "    # don't augment every example\n",
        "    if np.random.rand() >= 0.5:\n",
        "      augmented_audio = augmentations(samples=audio, sample_rate=sr)\n",
        "      # extract zero crossing rate\n",
        "      zcr = zeroCrossingRate(augmented_audio)\n",
        "      # extract energy\n",
        "      rms = energy(augmented_audio)\n",
        "      # chroma stft\n",
        "      cs = chromaStft(augmented_audio, sr)\n",
        "      # mfcc\n",
        "      mfc = mfcc(augmented_audio, sr)\n",
        "      # extract mel spectrogram\n",
        "      mel_spec = melSpectrogram(augmented_audio, sr).mean()\n",
        "      combined_features = np.concatenate(([rms, cs, mfc, mel_spec], (np.pad(zcr[0], (0, 300 - len(zcr[0]))))))\n",
        "      D.append(combined_features)\n",
        "      for cls in classes:\n",
        "        if re.search(cls, audio_file): Y.append(cls)\n",
        "  return D, Y"
      ],
      "metadata": {
        "id": "0dsuZz1OSnOD"
      },
      "execution_count": 194,
      "outputs": []
    },
    {
      "cell_type": "code",
      "source": [
        "D_time, Y_time = loadAudioTimeA(D_train)"
      ],
      "metadata": {
        "colab": {
          "base_uri": "https://localhost:8080/"
        },
        "outputId": "1586bf01-2c1e-4f59-8e17-8afd9cc8d725",
        "id": "GJ0TnLzyMlFV"
      },
      "execution_count": 195,
      "outputs": [
        {
          "output_type": "stream",
          "name": "stderr",
          "text": [
            "/usr/local/lib/python3.10/dist-packages/librosa/util/decorators.py:88: UserWarning: Trying to estimate tuning from empty frequency set.\n",
            "  return f(*args, **kwargs)\n"
          ]
        }
      ]
    },
    {
      "cell_type": "code",
      "source": [
        "D_time = np.array(D_time)\n",
        "D_time.shape"
      ],
      "metadata": {
        "colab": {
          "base_uri": "https://localhost:8080/"
        },
        "outputId": "b1faef00-f7d0-4623-8f7f-f33ad310fd88",
        "id": "x1BskWX5MlFV"
      },
      "execution_count": 196,
      "outputs": [
        {
          "output_type": "execute_result",
          "data": {
            "text/plain": [
              "(7804, 304)"
            ]
          },
          "metadata": {},
          "execution_count": 196
        }
      ]
    },
    {
      "cell_type": "code",
      "source": [
        "unicheck = np.unique(Y_time, axis=0)\n",
        "print(f\"Check on time domain:\\n{unicheck}\")"
      ],
      "metadata": {
        "colab": {
          "base_uri": "https://localhost:8080/"
        },
        "outputId": "5bd1e31e-a0d1-4688-f6af-071bec42c802",
        "id": "79W4Q8J2MlFW"
      },
      "execution_count": 197,
      "outputs": [
        {
          "output_type": "stream",
          "name": "stdout",
          "text": [
            "Check on time domain:\n",
            "['ANG' 'DIS' 'FEA' 'HAP' 'NEU' 'SAD']\n"
          ]
        }
      ]
    },
    {
      "cell_type": "code",
      "source": [
        "df_time = pd.DataFrame(Y_time)\n",
        "df_time.head()"
      ],
      "metadata": {
        "colab": {
          "base_uri": "https://localhost:8080/",
          "height": 206
        },
        "outputId": "e26e117d-8e43-4dde-c461-9fc42c02e6c5",
        "id": "v5JYzdTpMlFW"
      },
      "execution_count": 198,
      "outputs": [
        {
          "output_type": "execute_result",
          "data": {
            "text/plain": [
              "     0\n",
              "0  DIS\n",
              "1  DIS\n",
              "2  FEA\n",
              "3  FEA\n",
              "4  DIS"
            ],
            "text/html": [
              "\n",
              "  <div id=\"df-5d257489-82a0-4171-872d-fe239a644125\">\n",
              "    <div class=\"colab-df-container\">\n",
              "      <div>\n",
              "<style scoped>\n",
              "    .dataframe tbody tr th:only-of-type {\n",
              "        vertical-align: middle;\n",
              "    }\n",
              "\n",
              "    .dataframe tbody tr th {\n",
              "        vertical-align: top;\n",
              "    }\n",
              "\n",
              "    .dataframe thead th {\n",
              "        text-align: right;\n",
              "    }\n",
              "</style>\n",
              "<table border=\"1\" class=\"dataframe\">\n",
              "  <thead>\n",
              "    <tr style=\"text-align: right;\">\n",
              "      <th></th>\n",
              "      <th>0</th>\n",
              "    </tr>\n",
              "  </thead>\n",
              "  <tbody>\n",
              "    <tr>\n",
              "      <th>0</th>\n",
              "      <td>DIS</td>\n",
              "    </tr>\n",
              "    <tr>\n",
              "      <th>1</th>\n",
              "      <td>DIS</td>\n",
              "    </tr>\n",
              "    <tr>\n",
              "      <th>2</th>\n",
              "      <td>FEA</td>\n",
              "    </tr>\n",
              "    <tr>\n",
              "      <th>3</th>\n",
              "      <td>FEA</td>\n",
              "    </tr>\n",
              "    <tr>\n",
              "      <th>4</th>\n",
              "      <td>DIS</td>\n",
              "    </tr>\n",
              "  </tbody>\n",
              "</table>\n",
              "</div>\n",
              "      <button class=\"colab-df-convert\" onclick=\"convertToInteractive('df-5d257489-82a0-4171-872d-fe239a644125')\"\n",
              "              title=\"Convert this dataframe to an interactive table.\"\n",
              "              style=\"display:none;\">\n",
              "        \n",
              "  <svg xmlns=\"http://www.w3.org/2000/svg\" height=\"24px\"viewBox=\"0 0 24 24\"\n",
              "       width=\"24px\">\n",
              "    <path d=\"M0 0h24v24H0V0z\" fill=\"none\"/>\n",
              "    <path d=\"M18.56 5.44l.94 2.06.94-2.06 2.06-.94-2.06-.94-.94-2.06-.94 2.06-2.06.94zm-11 1L8.5 8.5l.94-2.06 2.06-.94-2.06-.94L8.5 2.5l-.94 2.06-2.06.94zm10 10l.94 2.06.94-2.06 2.06-.94-2.06-.94-.94-2.06-.94 2.06-2.06.94z\"/><path d=\"M17.41 7.96l-1.37-1.37c-.4-.4-.92-.59-1.43-.59-.52 0-1.04.2-1.43.59L10.3 9.45l-7.72 7.72c-.78.78-.78 2.05 0 2.83L4 21.41c.39.39.9.59 1.41.59.51 0 1.02-.2 1.41-.59l7.78-7.78 2.81-2.81c.8-.78.8-2.07 0-2.86zM5.41 20L4 18.59l7.72-7.72 1.47 1.35L5.41 20z\"/>\n",
              "  </svg>\n",
              "      </button>\n",
              "      \n",
              "  <style>\n",
              "    .colab-df-container {\n",
              "      display:flex;\n",
              "      flex-wrap:wrap;\n",
              "      gap: 12px;\n",
              "    }\n",
              "\n",
              "    .colab-df-convert {\n",
              "      background-color: #E8F0FE;\n",
              "      border: none;\n",
              "      border-radius: 50%;\n",
              "      cursor: pointer;\n",
              "      display: none;\n",
              "      fill: #1967D2;\n",
              "      height: 32px;\n",
              "      padding: 0 0 0 0;\n",
              "      width: 32px;\n",
              "    }\n",
              "\n",
              "    .colab-df-convert:hover {\n",
              "      background-color: #E2EBFA;\n",
              "      box-shadow: 0px 1px 2px rgba(60, 64, 67, 0.3), 0px 1px 3px 1px rgba(60, 64, 67, 0.15);\n",
              "      fill: #174EA6;\n",
              "    }\n",
              "\n",
              "    [theme=dark] .colab-df-convert {\n",
              "      background-color: #3B4455;\n",
              "      fill: #D2E3FC;\n",
              "    }\n",
              "\n",
              "    [theme=dark] .colab-df-convert:hover {\n",
              "      background-color: #434B5C;\n",
              "      box-shadow: 0px 1px 3px 1px rgba(0, 0, 0, 0.15);\n",
              "      filter: drop-shadow(0px 1px 2px rgba(0, 0, 0, 0.3));\n",
              "      fill: #FFFFFF;\n",
              "    }\n",
              "  </style>\n",
              "\n",
              "      <script>\n",
              "        const buttonEl =\n",
              "          document.querySelector('#df-5d257489-82a0-4171-872d-fe239a644125 button.colab-df-convert');\n",
              "        buttonEl.style.display =\n",
              "          google.colab.kernel.accessAllowed ? 'block' : 'none';\n",
              "\n",
              "        async function convertToInteractive(key) {\n",
              "          const element = document.querySelector('#df-5d257489-82a0-4171-872d-fe239a644125');\n",
              "          const dataTable =\n",
              "            await google.colab.kernel.invokeFunction('convertToInteractive',\n",
              "                                                     [key], {});\n",
              "          if (!dataTable) return;\n",
              "\n",
              "          const docLinkHtml = 'Like what you see? Visit the ' +\n",
              "            '<a target=\"_blank\" href=https://colab.research.google.com/notebooks/data_table.ipynb>data table notebook</a>'\n",
              "            + ' to learn more about interactive tables.';\n",
              "          element.innerHTML = '';\n",
              "          dataTable['output_type'] = 'display_data';\n",
              "          await google.colab.output.renderOutput(dataTable, element);\n",
              "          const docLink = document.createElement('div');\n",
              "          docLink.innerHTML = docLinkHtml;\n",
              "          element.appendChild(docLink);\n",
              "        }\n",
              "      </script>\n",
              "    </div>\n",
              "  </div>\n",
              "  "
            ]
          },
          "metadata": {},
          "execution_count": 198
        }
      ]
    },
    {
      "cell_type": "code",
      "source": [
        "# Use the get_dummies() method to one-hot encode the labels\n",
        "one_hot_labels = pd.get_dummies(df_time)\n",
        "\n",
        "# Convert the DataFrame to a NumPy array\n",
        "one_hot_labels = one_hot_labels.to_numpy()\n",
        "\n",
        "print(one_hot_labels.shape)"
      ],
      "metadata": {
        "colab": {
          "base_uri": "https://localhost:8080/"
        },
        "outputId": "1c555370-d33e-468f-edf1-361a8910aff7",
        "id": "lLNa2wGeMlFW"
      },
      "execution_count": 199,
      "outputs": [
        {
          "output_type": "stream",
          "name": "stdout",
          "text": [
            "(7804, 6)\n"
          ]
        }
      ]
    },
    {
      "cell_type": "code",
      "source": [
        "Y_time = one_hot_labels\n",
        "Y_time.shape"
      ],
      "metadata": {
        "colab": {
          "base_uri": "https://localhost:8080/"
        },
        "outputId": "15f4e3d5-c339-41ad-d627-78d45a9f51c6",
        "id": "RGZhc4cdMlFW"
      },
      "execution_count": 200,
      "outputs": [
        {
          "output_type": "execute_result",
          "data": {
            "text/plain": [
              "(7804, 6)"
            ]
          },
          "metadata": {},
          "execution_count": 200
        }
      ]
    },
    {
      "cell_type": "code",
      "source": [
        "# Apply PCA to the data\n",
        "pca = PCA(n_components=200)\n",
        "D_pca = pca.fit_transform(D_time)"
      ],
      "metadata": {
        "id": "Z7k03R6cMlFX"
      },
      "execution_count": 201,
      "outputs": []
    },
    {
      "cell_type": "code",
      "source": [
        "# Split the data into train and test sets\n",
        "x_train, x_test, y_train, y_test = train_test_split(np.array(D_pca), np.array(Y_time), test_size=0.05, random_state=69, shuffle=True, stratify=Y_time)\n",
        "print((x_train.shape, y_train.shape, x_test.shape, y_test.shape))\n",
        "\n",
        "x_train = x_train.reshape((x_train.shape[0], x_train.shape[1], 1))\n",
        "x_test = x_test.reshape((x_test.shape[0], x_test.shape[1], 1))\n",
        "\n",
        "model = Sequential()\n",
        "model.add(Conv1D(128, 3, input_shape=(x_train.shape[1], 1), kernel_regularizer=regularizers.l2(0.001)))\n",
        "model.add(BatchNormalization())\n",
        "model.add(Activation('relu'))\n",
        "model.add(MaxPooling1D(pool_size=2))\n",
        "\n",
        "model.add(Conv1D(256, 3, kernel_regularizer=regularizers.l2(0.001)))\n",
        "model.add(BatchNormalization())\n",
        "model.add(Activation('relu'))\n",
        "model.add(MaxPooling1D(pool_size=2))\n",
        "\n",
        "model.add(Conv1D(512, 3, kernel_regularizer=regularizers.l2(0.001)))\n",
        "model.add(BatchNormalization())\n",
        "model.add(Activation('relu'))\n",
        "model.add(MaxPooling1D(pool_size=2))\n",
        "\n",
        "model.add(Conv1D(1024, 3,  kernel_regularizer=regularizers.l2(0.001)))\n",
        "model.add(BatchNormalization())\n",
        "model.add(Activation('relu'))\n",
        "model.add(MaxPooling1D(pool_size=2))\n",
        "\n",
        "model.add(Flatten())\n",
        "model.add(Dense(512, kernel_regularizer=regularizers.l2(0.001)))\n",
        "model.add(BatchNormalization())\n",
        "model.add(Activation('relu'))\n",
        "model.add(Dropout(0.3))\n",
        "\n",
        "model.add(Dense(256, kernel_regularizer=regularizers.l2(0.001)))\n",
        "model.add(BatchNormalization())\n",
        "model.add(Activation('relu'))\n",
        "model.add(Dropout(0.2))\n",
        "\n",
        "model.add(Dense(128, kernel_regularizer=regularizers.l2(0.001)))\n",
        "model.add(BatchNormalization())\n",
        "model.add(Activation('relu'))\n",
        "model.add(Dropout(0.2))\n",
        "\n",
        "model.add(Dense(6, activation='softmax'))\n",
        "\n",
        "model.compile(loss='categorical_crossentropy',\n",
        "             optimizer=optimizers.Adam(lr=0.0005),\n",
        "             metrics=['accuracy'])\n",
        "\n",
        "# Specify thecallbacks for the model\n",
        "callbacks = [EarlyStopping(monitor='val_loss', patience=10)]\n",
        "\n",
        "model.summary()\n",
        "\n",
        "# Train the model with early stopping\n",
        "history = model.fit(x_train, y_train,\n",
        "                    validation_data=(x_train, y_train),\n",
        "                    epochs=50,\n",
        "                    batch_size=32,\n",
        "                    callbacks=callbacks)"
      ],
      "metadata": {
        "colab": {
          "base_uri": "https://localhost:8080/"
        },
        "outputId": "b61606c4-f0a0-4309-950d-6916fcfcf4e2",
        "id": "HGZllihGMlFX"
      },
      "execution_count": 202,
      "outputs": [
        {
          "output_type": "stream",
          "name": "stdout",
          "text": [
            "((7413, 200), (7413, 6), (391, 200), (391, 6))\n",
            "Model: \"sequential_7\"\n",
            "_________________________________________________________________\n",
            " Layer (type)                Output Shape              Param #   \n",
            "=================================================================\n",
            " conv1d_8 (Conv1D)           (None, 198, 128)          512       \n",
            "                                                                 \n",
            " batch_normalization_14 (Bat  (None, 198, 128)         512       \n",
            " chNormalization)                                                \n",
            "                                                                 \n",
            " activation_14 (Activation)  (None, 198, 128)          0         \n",
            "                                                                 \n",
            " max_pooling1d_8 (MaxPooling  (None, 99, 128)          0         \n",
            " 1D)                                                             \n",
            "                                                                 \n",
            " conv1d_9 (Conv1D)           (None, 97, 256)           98560     \n",
            "                                                                 \n",
            " batch_normalization_15 (Bat  (None, 97, 256)          1024      \n",
            " chNormalization)                                                \n",
            "                                                                 \n",
            " activation_15 (Activation)  (None, 97, 256)           0         \n",
            "                                                                 \n",
            " max_pooling1d_9 (MaxPooling  (None, 48, 256)          0         \n",
            " 1D)                                                             \n",
            "                                                                 \n",
            " conv1d_10 (Conv1D)          (None, 46, 512)           393728    \n",
            "                                                                 \n",
            " batch_normalization_16 (Bat  (None, 46, 512)          2048      \n",
            " chNormalization)                                                \n",
            "                                                                 \n",
            " activation_16 (Activation)  (None, 46, 512)           0         \n",
            "                                                                 \n",
            " max_pooling1d_10 (MaxPoolin  (None, 23, 512)          0         \n",
            " g1D)                                                            \n",
            "                                                                 \n",
            " conv1d_11 (Conv1D)          (None, 21, 1024)          1573888   \n",
            "                                                                 \n",
            " batch_normalization_17 (Bat  (None, 21, 1024)         4096      \n",
            " chNormalization)                                                \n",
            "                                                                 \n",
            " activation_17 (Activation)  (None, 21, 1024)          0         \n",
            "                                                                 \n",
            " max_pooling1d_11 (MaxPoolin  (None, 10, 1024)         0         \n",
            " g1D)                                                            \n",
            "                                                                 \n",
            " flatten_7 (Flatten)         (None, 10240)             0         \n",
            "                                                                 \n",
            " dense_23 (Dense)            (None, 512)               5243392   \n",
            "                                                                 \n",
            " batch_normalization_18 (Bat  (None, 512)              2048      \n",
            " chNormalization)                                                \n",
            "                                                                 \n",
            " activation_18 (Activation)  (None, 512)               0         \n",
            "                                                                 \n",
            " dropout_16 (Dropout)        (None, 512)               0         \n",
            "                                                                 \n",
            " dense_24 (Dense)            (None, 256)               131328    \n",
            "                                                                 \n",
            " batch_normalization_19 (Bat  (None, 256)              1024      \n",
            " chNormalization)                                                \n",
            "                                                                 \n",
            " activation_19 (Activation)  (None, 256)               0         \n",
            "                                                                 \n",
            " dropout_17 (Dropout)        (None, 256)               0         \n",
            "                                                                 \n",
            " dense_25 (Dense)            (None, 128)               32896     \n",
            "                                                                 \n",
            " batch_normalization_20 (Bat  (None, 128)              512       \n",
            " chNormalization)                                                \n",
            "                                                                 \n",
            " activation_20 (Activation)  (None, 128)               0         \n",
            "                                                                 \n",
            " dropout_18 (Dropout)        (None, 128)               0         \n",
            "                                                                 \n",
            " dense_26 (Dense)            (None, 6)                 774       \n",
            "                                                                 \n",
            "=================================================================\n",
            "Total params: 7,486,342\n",
            "Trainable params: 7,480,710\n",
            "Non-trainable params: 5,632\n",
            "_________________________________________________________________\n"
          ]
        },
        {
          "output_type": "stream",
          "name": "stderr",
          "text": [
            "/usr/local/lib/python3.10/dist-packages/keras/optimizers/legacy/adam.py:117: UserWarning: The `lr` argument is deprecated, use `learning_rate` instead.\n",
            "  super().__init__(name, **kwargs)\n"
          ]
        },
        {
          "output_type": "stream",
          "name": "stdout",
          "text": [
            "Epoch 1/50\n",
            "232/232 [==============================] - 9s 25ms/step - loss: 3.2822 - accuracy: 0.2871 - val_loss: 3.2272 - val_accuracy: 0.1566\n",
            "Epoch 2/50\n",
            "232/232 [==============================] - 5s 20ms/step - loss: 2.6687 - accuracy: 0.3221 - val_loss: 2.7287 - val_accuracy: 0.1804\n",
            "Epoch 3/50\n",
            "232/232 [==============================] - 5s 22ms/step - loss: 2.4346 - accuracy: 0.3456 - val_loss: 2.4404 - val_accuracy: 0.3010\n",
            "Epoch 4/50\n",
            "232/232 [==============================] - 4s 18ms/step - loss: 2.3140 - accuracy: 0.3480 - val_loss: 2.2519 - val_accuracy: 0.3733\n",
            "Epoch 5/50\n",
            "232/232 [==============================] - 4s 19ms/step - loss: 2.2140 - accuracy: 0.3617 - val_loss: 2.1308 - val_accuracy: 0.3650\n",
            "Epoch 6/50\n",
            "232/232 [==============================] - 5s 20ms/step - loss: 2.1195 - accuracy: 0.3745 - val_loss: 2.0929 - val_accuracy: 0.3687\n",
            "Epoch 7/50\n",
            "232/232 [==============================] - 5s 20ms/step - loss: 2.0501 - accuracy: 0.3646 - val_loss: 2.0403 - val_accuracy: 0.3403\n",
            "Epoch 8/50\n",
            "232/232 [==============================] - 4s 19ms/step - loss: 1.9863 - accuracy: 0.3689 - val_loss: 2.0023 - val_accuracy: 0.3692\n",
            "Epoch 9/50\n",
            "232/232 [==============================] - 5s 21ms/step - loss: 1.9302 - accuracy: 0.3714 - val_loss: 2.0220 - val_accuracy: 0.3132\n",
            "Epoch 10/50\n",
            "232/232 [==============================] - 5s 20ms/step - loss: 1.8857 - accuracy: 0.3819 - val_loss: 2.0518 - val_accuracy: 0.3024\n",
            "Epoch 11/50\n",
            "232/232 [==============================] - 5s 20ms/step - loss: 1.8359 - accuracy: 0.3897 - val_loss: 1.8546 - val_accuracy: 0.3715\n",
            "Epoch 12/50\n",
            "232/232 [==============================] - 5s 22ms/step - loss: 1.8012 - accuracy: 0.3850 - val_loss: 1.7972 - val_accuracy: 0.3762\n",
            "Epoch 13/50\n",
            "232/232 [==============================] - 5s 20ms/step - loss: 1.7701 - accuracy: 0.3935 - val_loss: 1.9111 - val_accuracy: 0.3615\n",
            "Epoch 14/50\n",
            "232/232 [==============================] - 5s 20ms/step - loss: 1.7482 - accuracy: 0.3934 - val_loss: 1.8109 - val_accuracy: 0.3093\n",
            "Epoch 15/50\n",
            "232/232 [==============================] - 5s 20ms/step - loss: 1.7136 - accuracy: 0.4079 - val_loss: 1.7547 - val_accuracy: 0.3734\n",
            "Epoch 16/50\n",
            "232/232 [==============================] - 4s 18ms/step - loss: 1.6979 - accuracy: 0.4027 - val_loss: 1.7586 - val_accuracy: 0.3783\n",
            "Epoch 17/50\n",
            "232/232 [==============================] - 4s 19ms/step - loss: 1.6823 - accuracy: 0.4035 - val_loss: 1.7394 - val_accuracy: 0.3691\n",
            "Epoch 18/50\n",
            "232/232 [==============================] - 5s 20ms/step - loss: 1.6785 - accuracy: 0.3996 - val_loss: 1.7201 - val_accuracy: 0.4011\n",
            "Epoch 19/50\n",
            "232/232 [==============================] - 4s 18ms/step - loss: 1.6627 - accuracy: 0.4050 - val_loss: 1.7265 - val_accuracy: 0.3452\n",
            "Epoch 20/50\n",
            "232/232 [==============================] - 4s 19ms/step - loss: 1.6539 - accuracy: 0.4159 - val_loss: 1.7395 - val_accuracy: 0.3594\n",
            "Epoch 21/50\n",
            "232/232 [==============================] - 5s 21ms/step - loss: 1.6369 - accuracy: 0.4158 - val_loss: 1.8389 - val_accuracy: 0.3555\n",
            "Epoch 22/50\n",
            "232/232 [==============================] - 5s 20ms/step - loss: 1.6319 - accuracy: 0.4110 - val_loss: 1.8339 - val_accuracy: 0.3003\n",
            "Epoch 23/50\n",
            "232/232 [==============================] - 5s 20ms/step - loss: 1.6108 - accuracy: 0.4186 - val_loss: 1.9482 - val_accuracy: 0.2560\n",
            "Epoch 24/50\n",
            "232/232 [==============================] - 5s 20ms/step - loss: 1.6103 - accuracy: 0.4218 - val_loss: 2.0052 - val_accuracy: 0.2883\n",
            "Epoch 25/50\n",
            "232/232 [==============================] - 5s 20ms/step - loss: 1.6007 - accuracy: 0.4256 - val_loss: 1.6125 - val_accuracy: 0.3967\n",
            "Epoch 26/50\n",
            "232/232 [==============================] - 4s 19ms/step - loss: 1.5930 - accuracy: 0.4261 - val_loss: 1.8180 - val_accuracy: 0.3216\n",
            "Epoch 27/50\n",
            "232/232 [==============================] - 5s 20ms/step - loss: 1.5897 - accuracy: 0.4314 - val_loss: 1.7369 - val_accuracy: 0.3727\n",
            "Epoch 28/50\n",
            "232/232 [==============================] - 5s 20ms/step - loss: 1.5667 - accuracy: 0.4286 - val_loss: 1.6822 - val_accuracy: 0.3730\n",
            "Epoch 29/50\n",
            "232/232 [==============================] - 4s 19ms/step - loss: 1.5677 - accuracy: 0.4326 - val_loss: 1.6703 - val_accuracy: 0.3845\n",
            "Epoch 30/50\n",
            "232/232 [==============================] - 5s 22ms/step - loss: 1.5465 - accuracy: 0.4414 - val_loss: 1.6082 - val_accuracy: 0.4038\n",
            "Epoch 31/50\n",
            "232/232 [==============================] - 5s 20ms/step - loss: 1.5666 - accuracy: 0.4387 - val_loss: 1.9111 - val_accuracy: 0.3069\n",
            "Epoch 32/50\n",
            "232/232 [==============================] - 5s 21ms/step - loss: 1.5507 - accuracy: 0.4448 - val_loss: 1.8422 - val_accuracy: 0.3197\n",
            "Epoch 33/50\n",
            "232/232 [==============================] - 5s 21ms/step - loss: 1.5380 - accuracy: 0.4421 - val_loss: 1.5845 - val_accuracy: 0.4029\n",
            "Epoch 34/50\n",
            "232/232 [==============================] - 5s 20ms/step - loss: 1.5429 - accuracy: 0.4356 - val_loss: 1.5671 - val_accuracy: 0.4381\n",
            "Epoch 35/50\n",
            "232/232 [==============================] - 5s 21ms/step - loss: 1.5116 - accuracy: 0.4506 - val_loss: 1.8773 - val_accuracy: 0.3066\n",
            "Epoch 36/50\n",
            "232/232 [==============================] - 4s 19ms/step - loss: 1.5156 - accuracy: 0.4530 - val_loss: 1.8817 - val_accuracy: 0.3176\n",
            "Epoch 37/50\n",
            "232/232 [==============================] - 4s 18ms/step - loss: 1.5094 - accuracy: 0.4608 - val_loss: 1.5411 - val_accuracy: 0.4284\n",
            "Epoch 38/50\n",
            "232/232 [==============================] - 5s 21ms/step - loss: 1.5056 - accuracy: 0.4589 - val_loss: 1.5197 - val_accuracy: 0.4437\n",
            "Epoch 39/50\n",
            "232/232 [==============================] - 5s 20ms/step - loss: 1.4893 - accuracy: 0.4645 - val_loss: 1.5872 - val_accuracy: 0.4006\n",
            "Epoch 40/50\n",
            "232/232 [==============================] - 4s 18ms/step - loss: 1.4825 - accuracy: 0.4628 - val_loss: 1.4992 - val_accuracy: 0.4383\n",
            "Epoch 41/50\n",
            "232/232 [==============================] - 5s 21ms/step - loss: 1.4713 - accuracy: 0.4786 - val_loss: 1.5349 - val_accuracy: 0.4318\n",
            "Epoch 42/50\n",
            "232/232 [==============================] - 5s 21ms/step - loss: 1.4606 - accuracy: 0.4728 - val_loss: 1.5616 - val_accuracy: 0.4328\n",
            "Epoch 43/50\n",
            "232/232 [==============================] - 5s 20ms/step - loss: 1.4615 - accuracy: 0.4738 - val_loss: 1.6188 - val_accuracy: 0.4043\n",
            "Epoch 44/50\n",
            "232/232 [==============================] - 5s 22ms/step - loss: 1.4365 - accuracy: 0.4895 - val_loss: 1.6786 - val_accuracy: 0.3905\n",
            "Epoch 45/50\n",
            "232/232 [==============================] - 4s 18ms/step - loss: 1.4381 - accuracy: 0.4895 - val_loss: 1.5514 - val_accuracy: 0.4280\n",
            "Epoch 46/50\n",
            "232/232 [==============================] - 4s 18ms/step - loss: 1.4342 - accuracy: 0.4878 - val_loss: 2.2167 - val_accuracy: 0.2133\n",
            "Epoch 47/50\n",
            "232/232 [==============================] - 5s 21ms/step - loss: 1.4224 - accuracy: 0.4990 - val_loss: 1.9264 - val_accuracy: 0.3483\n",
            "Epoch 48/50\n",
            "232/232 [==============================] - 5s 20ms/step - loss: 1.4133 - accuracy: 0.5059 - val_loss: 1.5066 - val_accuracy: 0.4529\n",
            "Epoch 49/50\n",
            "232/232 [==============================] - 5s 20ms/step - loss: 1.3970 - accuracy: 0.5088 - val_loss: 1.4828 - val_accuracy: 0.4527\n",
            "Epoch 50/50\n",
            "232/232 [==============================] - 5s 22ms/step - loss: 1.3920 - accuracy: 0.5129 - val_loss: 1.5375 - val_accuracy: 0.4313\n"
          ]
        }
      ]
    },
    {
      "cell_type": "code",
      "source": [
        "X_test_time,Y_test_time = loadAudioTimeA(D_test)\n",
        "D_test_pca = pca.transform(X_test_time)"
      ],
      "metadata": {
        "id": "jRz9xtsiMlFX"
      },
      "execution_count": 203,
      "outputs": []
    },
    {
      "cell_type": "code",
      "source": [
        "unicheck = np.unique(Y_test_time, axis=0)\n",
        "print(f\"Check on freq domain:\\n{unicheck}\")"
      ],
      "metadata": {
        "colab": {
          "base_uri": "https://localhost:8080/"
        },
        "outputId": "9fec646e-3465-483c-8b26-606637d8e5f3",
        "id": "4crle4mWMlFX"
      },
      "execution_count": 204,
      "outputs": [
        {
          "output_type": "stream",
          "name": "stdout",
          "text": [
            "Check on freq domain:\n",
            "['ANG' 'DIS' 'FEA' 'HAP' 'NEU' 'SAD']\n"
          ]
        }
      ]
    },
    {
      "cell_type": "code",
      "execution_count": 205,
      "metadata": {
        "colab": {
          "base_uri": "https://localhost:8080/",
          "height": 206
        },
        "outputId": "680d4030-b911-4c83-9534-5f164975797d",
        "id": "DPuAashCMlFX"
      },
      "outputs": [
        {
          "output_type": "execute_result",
          "data": {
            "text/plain": [
              "     0\n",
              "0  NEU\n",
              "1  DIS\n",
              "2  DIS\n",
              "3  HAP\n",
              "4  HAP"
            ],
            "text/html": [
              "\n",
              "  <div id=\"df-53d6cfea-4409-4d5f-836b-15ad35f1e4f9\">\n",
              "    <div class=\"colab-df-container\">\n",
              "      <div>\n",
              "<style scoped>\n",
              "    .dataframe tbody tr th:only-of-type {\n",
              "        vertical-align: middle;\n",
              "    }\n",
              "\n",
              "    .dataframe tbody tr th {\n",
              "        vertical-align: top;\n",
              "    }\n",
              "\n",
              "    .dataframe thead th {\n",
              "        text-align: right;\n",
              "    }\n",
              "</style>\n",
              "<table border=\"1\" class=\"dataframe\">\n",
              "  <thead>\n",
              "    <tr style=\"text-align: right;\">\n",
              "      <th></th>\n",
              "      <th>0</th>\n",
              "    </tr>\n",
              "  </thead>\n",
              "  <tbody>\n",
              "    <tr>\n",
              "      <th>0</th>\n",
              "      <td>NEU</td>\n",
              "    </tr>\n",
              "    <tr>\n",
              "      <th>1</th>\n",
              "      <td>DIS</td>\n",
              "    </tr>\n",
              "    <tr>\n",
              "      <th>2</th>\n",
              "      <td>DIS</td>\n",
              "    </tr>\n",
              "    <tr>\n",
              "      <th>3</th>\n",
              "      <td>HAP</td>\n",
              "    </tr>\n",
              "    <tr>\n",
              "      <th>4</th>\n",
              "      <td>HAP</td>\n",
              "    </tr>\n",
              "  </tbody>\n",
              "</table>\n",
              "</div>\n",
              "      <button class=\"colab-df-convert\" onclick=\"convertToInteractive('df-53d6cfea-4409-4d5f-836b-15ad35f1e4f9')\"\n",
              "              title=\"Convert this dataframe to an interactive table.\"\n",
              "              style=\"display:none;\">\n",
              "        \n",
              "  <svg xmlns=\"http://www.w3.org/2000/svg\" height=\"24px\"viewBox=\"0 0 24 24\"\n",
              "       width=\"24px\">\n",
              "    <path d=\"M0 0h24v24H0V0z\" fill=\"none\"/>\n",
              "    <path d=\"M18.56 5.44l.94 2.06.94-2.06 2.06-.94-2.06-.94-.94-2.06-.94 2.06-2.06.94zm-11 1L8.5 8.5l.94-2.06 2.06-.94-2.06-.94L8.5 2.5l-.94 2.06-2.06.94zm10 10l.94 2.06.94-2.06 2.06-.94-2.06-.94-.94-2.06-.94 2.06-2.06.94z\"/><path d=\"M17.41 7.96l-1.37-1.37c-.4-.4-.92-.59-1.43-.59-.52 0-1.04.2-1.43.59L10.3 9.45l-7.72 7.72c-.78.78-.78 2.05 0 2.83L4 21.41c.39.39.9.59 1.41.59.51 0 1.02-.2 1.41-.59l7.78-7.78 2.81-2.81c.8-.78.8-2.07 0-2.86zM5.41 20L4 18.59l7.72-7.72 1.47 1.35L5.41 20z\"/>\n",
              "  </svg>\n",
              "      </button>\n",
              "      \n",
              "  <style>\n",
              "    .colab-df-container {\n",
              "      display:flex;\n",
              "      flex-wrap:wrap;\n",
              "      gap: 12px;\n",
              "    }\n",
              "\n",
              "    .colab-df-convert {\n",
              "      background-color: #E8F0FE;\n",
              "      border: none;\n",
              "      border-radius: 50%;\n",
              "      cursor: pointer;\n",
              "      display: none;\n",
              "      fill: #1967D2;\n",
              "      height: 32px;\n",
              "      padding: 0 0 0 0;\n",
              "      width: 32px;\n",
              "    }\n",
              "\n",
              "    .colab-df-convert:hover {\n",
              "      background-color: #E2EBFA;\n",
              "      box-shadow: 0px 1px 2px rgba(60, 64, 67, 0.3), 0px 1px 3px 1px rgba(60, 64, 67, 0.15);\n",
              "      fill: #174EA6;\n",
              "    }\n",
              "\n",
              "    [theme=dark] .colab-df-convert {\n",
              "      background-color: #3B4455;\n",
              "      fill: #D2E3FC;\n",
              "    }\n",
              "\n",
              "    [theme=dark] .colab-df-convert:hover {\n",
              "      background-color: #434B5C;\n",
              "      box-shadow: 0px 1px 3px 1px rgba(0, 0, 0, 0.15);\n",
              "      filter: drop-shadow(0px 1px 2px rgba(0, 0, 0, 0.3));\n",
              "      fill: #FFFFFF;\n",
              "    }\n",
              "  </style>\n",
              "\n",
              "      <script>\n",
              "        const buttonEl =\n",
              "          document.querySelector('#df-53d6cfea-4409-4d5f-836b-15ad35f1e4f9 button.colab-df-convert');\n",
              "        buttonEl.style.display =\n",
              "          google.colab.kernel.accessAllowed ? 'block' : 'none';\n",
              "\n",
              "        async function convertToInteractive(key) {\n",
              "          const element = document.querySelector('#df-53d6cfea-4409-4d5f-836b-15ad35f1e4f9');\n",
              "          const dataTable =\n",
              "            await google.colab.kernel.invokeFunction('convertToInteractive',\n",
              "                                                     [key], {});\n",
              "          if (!dataTable) return;\n",
              "\n",
              "          const docLinkHtml = 'Like what you see? Visit the ' +\n",
              "            '<a target=\"_blank\" href=https://colab.research.google.com/notebooks/data_table.ipynb>data table notebook</a>'\n",
              "            + ' to learn more about interactive tables.';\n",
              "          element.innerHTML = '';\n",
              "          dataTable['output_type'] = 'display_data';\n",
              "          await google.colab.output.renderOutput(dataTable, element);\n",
              "          const docLink = document.createElement('div');\n",
              "          docLink.innerHTML = docLinkHtml;\n",
              "          element.appendChild(docLink);\n",
              "        }\n",
              "      </script>\n",
              "    </div>\n",
              "  </div>\n",
              "  "
            ]
          },
          "metadata": {},
          "execution_count": 205
        }
      ],
      "source": [
        "df_freq = pd.DataFrame(Y_test_time)\n",
        "df_freq.head()"
      ]
    },
    {
      "cell_type": "code",
      "execution_count": 206,
      "metadata": {
        "colab": {
          "base_uri": "https://localhost:8080/"
        },
        "outputId": "1d7c1fae-e41a-462e-fe5a-083dfe5a0d0e",
        "id": "9c-0idyyMlFY"
      },
      "outputs": [
        {
          "output_type": "stream",
          "name": "stdout",
          "text": [
            "(3406, 6)\n"
          ]
        }
      ],
      "source": [
        "# Use the get_dummies() method to one-hot encode the labels\n",
        "one_hot_labels = pd.get_dummies(df_freq)\n",
        "\n",
        "# Convert the DataFrame to a NumPy array\n",
        "one_hot_labels = one_hot_labels.to_numpy()\n",
        "\n",
        "print(one_hot_labels.shape)"
      ]
    },
    {
      "cell_type": "code",
      "execution_count": 207,
      "metadata": {
        "colab": {
          "base_uri": "https://localhost:8080/"
        },
        "outputId": "01529204-bc3a-408d-8640-43d254cfcaf7",
        "id": "0BJRJqJlMlFY"
      },
      "outputs": [
        {
          "output_type": "execute_result",
          "data": {
            "text/plain": [
              "(3406, 6)"
            ]
          },
          "metadata": {},
          "execution_count": 207
        }
      ],
      "source": [
        "Y_time = one_hot_labels\n",
        "Y_time.shape"
      ]
    },
    {
      "cell_type": "code",
      "source": [
        "from sklearn.metrics import accuracy_score, f1_score, confusion_matrix\n",
        "# Evaluate the model on the test set\n",
        "y_pred = model.predict(D_test_pca)\n",
        "y_pred_classes = np.argmax(y_pred, axis=1)\n",
        "y_test_classes = np.argmax(Y_time, axis=1)\n",
        "accuracy = accuracy_score(y_test_classes, y_pred_classes)\n",
        "f_score = f1_score(y_test_classes, y_pred_classes, average='weighted')\n",
        "print('Accuracy:', accuracy)\n",
        "print('F-score:', f_score)\n",
        "\n",
        "# Plot the confusion matrix\n",
        "cm = confusion_matrix(y_test_classes, y_pred_classes)\n",
        "plt.imshow(cm, cmap=plt.cm.Blues)\n",
        "plt.title('Confusion matrix')\n",
        "plt.colorbar()\n",
        "tick_marks = np.arange(6)\n",
        "plt.xticks(tick_marks, range(6))\n",
        "plt.yticks(tick_marks, range(6))\n",
        "plt.xlabel('Predicted label')\n",
        "plt.ylabel('True label')\n",
        "plt.show()\n",
        "\n",
        "# Find the most confusinglabels\n",
        "np.fill_diagonal(cm, 0)\n",
        "most_confused_classes = np.unravel_index(np.argmax(cm), cm.shape)\n",
        "print('Most confusing classes:', most_confused_classes)"
      ],
      "metadata": {
        "colab": {
          "base_uri": "https://localhost:8080/",
          "height": 541
        },
        "outputId": "65545fbe-b1be-49f0-b4ef-724ef2513a31",
        "id": "TC6hayOEMlFY"
      },
      "execution_count": 208,
      "outputs": [
        {
          "output_type": "stream",
          "name": "stdout",
          "text": [
            "107/107 [==============================] - 1s 5ms/step\n",
            "Accuracy: 0.3452730475631239\n",
            "F-score: 0.31583205002393167\n"
          ]
        },
        {
          "output_type": "display_data",
          "data": {
            "text/plain": [
              "<Figure size 640x480 with 2 Axes>"
            ],
            "image/png": "[encoded data removed]"
          },
          "metadata": {}
        },
        {
          "output_type": "stream",
          "name": "stdout",
          "text": [
            "Most confusing classes: (5, 4)\n"
          ]
        }
      ]
    },
    {
      "cell_type": "code",
      "source": [],
      "metadata": {
        "id": "Zct2TdXQNpR9"
      },
      "execution_count": null,
      "outputs": []
    },
    {
      "cell_type": "markdown",
      "source": [
        "## Frequency Domain Model With Augmentation"
      ],
      "metadata": {
        "id": "1P1mYVDSNpj2"
      }
    },
    {
      "cell_type": "code",
      "source": [
        "def loadAudioFreqA(audio_files):\n",
        "  classes = [\"SAD\", \"ANG\", \"DIS\", \"FEA\", \"HAP\", \"NEU\"]\n",
        "  # for data augmentation\n",
        "  augmentations = Compose([\n",
        "    AddGaussianNoise(min_amplitude=0.001, max_amplitude=0.01, p=0.5),\n",
        "    TimeStretch(min_rate=0.8, max_rate=1.2, p=0.5),\n",
        "    PitchShift(min_semitones=-4, max_semitones=4, p=0.5)\n",
        "])\n",
        "  # max_length = getMaxLen(audio_files)\n",
        "  max_length = 200\n",
        "  D, Y = [], []\n",
        "  for audio_file in audio_files: \n",
        "    # load the audio file\n",
        "    audio, sr = lib.load(audio_file, sr=4444)\n",
        "    # extract mel spectrogram\n",
        "    mel_spec = melSpectrogram(audio, sr)\n",
        "    D.append(mel_spec)\n",
        "    for cls in classes:\n",
        "      if re.search(cls, audio_file): Y.append(cls)\n",
        "    # don't augment every example\n",
        "    if np.random.rand() >= 0.5:\n",
        "      augmented_audio = augmentations(samples=audio, sample_rate=sr)\n",
        "      mel_spec_aug = melSpectrogram(augmented_audio, sr)\n",
        "      D.append(mel_spec_aug)\n",
        "      for cls in classes:\n",
        "        if re.search(cls, audio_file): Y.append(cls)\n",
        "  return D, Y"
      ],
      "metadata": {
        "id": "jZPerHgCN6o6"
      },
      "execution_count": 173,
      "outputs": []
    },
    {
      "cell_type": "code",
      "execution_count": 174,
      "metadata": {
        "id": "X2fYgkP7MlFY"
      },
      "outputs": [],
      "source": [
        "D_freq, Y_freq = loadAudioFreqA(D_train)"
      ]
    },
    {
      "cell_type": "code",
      "source": [
        "unicheck = np.unique(Y_freq, axis=0)\n",
        "print(f\"Check on freq domain:\\n{unicheck}\")"
      ],
      "metadata": {
        "colab": {
          "base_uri": "https://localhost:8080/"
        },
        "outputId": "4f8915f7-939f-421f-950f-97b2b7ae1426",
        "id": "4PRFvwKrMlFY"
      },
      "execution_count": 175,
      "outputs": [
        {
          "output_type": "stream",
          "name": "stdout",
          "text": [
            "Check on freq domain:\n",
            "['ANG' 'DIS' 'FEA' 'HAP' 'NEU' 'SAD']\n"
          ]
        }
      ]
    },
    {
      "cell_type": "code",
      "execution_count": 176,
      "metadata": {
        "colab": {
          "base_uri": "https://localhost:8080/",
          "height": 206
        },
        "outputId": "f3e55e86-eb0e-415d-e7eb-8357b045d5eb",
        "id": "yarx1QNfMlFZ"
      },
      "outputs": [
        {
          "output_type": "execute_result",
          "data": {
            "text/plain": [
              "     0\n",
              "0  DIS\n",
              "1  FEA\n",
              "2  FEA\n",
              "3  DIS\n",
              "4  DIS"
            ],
            "text/html": [
              "\n",
              "  <div id=\"df-50ed9b78-e8e2-4ec7-929d-1dca3f4feff3\">\n",
              "    <div class=\"colab-df-container\">\n",
              "      <div>\n",
              "<style scoped>\n",
              "    .dataframe tbody tr th:only-of-type {\n",
              "        vertical-align: middle;\n",
              "    }\n",
              "\n",
              "    .dataframe tbody tr th {\n",
              "        vertical-align: top;\n",
              "    }\n",
              "\n",
              "    .dataframe thead th {\n",
              "        text-align: right;\n",
              "    }\n",
              "</style>\n",
              "<table border=\"1\" class=\"dataframe\">\n",
              "  <thead>\n",
              "    <tr style=\"text-align: right;\">\n",
              "      <th></th>\n",
              "      <th>0</th>\n",
              "    </tr>\n",
              "  </thead>\n",
              "  <tbody>\n",
              "    <tr>\n",
              "      <th>0</th>\n",
              "      <td>DIS</td>\n",
              "    </tr>\n",
              "    <tr>\n",
              "      <th>1</th>\n",
              "      <td>FEA</td>\n",
              "    </tr>\n",
              "    <tr>\n",
              "      <th>2</th>\n",
              "      <td>FEA</td>\n",
              "    </tr>\n",
              "    <tr>\n",
              "      <th>3</th>\n",
              "      <td>DIS</td>\n",
              "    </tr>\n",
              "    <tr>\n",
              "      <th>4</th>\n",
              "      <td>DIS</td>\n",
              "    </tr>\n",
              "  </tbody>\n",
              "</table>\n",
              "</div>\n",
              "      <button class=\"colab-df-convert\" onclick=\"convertToInteractive('df-50ed9b78-e8e2-4ec7-929d-1dca3f4feff3')\"\n",
              "              title=\"Convert this dataframe to an interactive table.\"\n",
              "              style=\"display:none;\">\n",
              "        \n",
              "  <svg xmlns=\"http://www.w3.org/2000/svg\" height=\"24px\"viewBox=\"0 0 24 24\"\n",
              "       width=\"24px\">\n",
              "    <path d=\"M0 0h24v24H0V0z\" fill=\"none\"/>\n",
              "    <path d=\"M18.56 5.44l.94 2.06.94-2.06 2.06-.94-2.06-.94-.94-2.06-.94 2.06-2.06.94zm-11 1L8.5 8.5l.94-2.06 2.06-.94-2.06-.94L8.5 2.5l-.94 2.06-2.06.94zm10 10l.94 2.06.94-2.06 2.06-.94-2.06-.94-.94-2.06-.94 2.06-2.06.94z\"/><path d=\"M17.41 7.96l-1.37-1.37c-.4-.4-.92-.59-1.43-.59-.52 0-1.04.2-1.43.59L10.3 9.45l-7.72 7.72c-.78.78-.78 2.05 0 2.83L4 21.41c.39.39.9.59 1.41.59.51 0 1.02-.2 1.41-.59l7.78-7.78 2.81-2.81c.8-.78.8-2.07 0-2.86zM5.41 20L4 18.59l7.72-7.72 1.47 1.35L5.41 20z\"/>\n",
              "  </svg>\n",
              "      </button>\n",
              "      \n",
              "  <style>\n",
              "    .colab-df-container {\n",
              "      display:flex;\n",
              "      flex-wrap:wrap;\n",
              "      gap: 12px;\n",
              "    }\n",
              "\n",
              "    .colab-df-convert {\n",
              "      background-color: #E8F0FE;\n",
              "      border: none;\n",
              "      border-radius: 50%;\n",
              "      cursor: pointer;\n",
              "      display: none;\n",
              "      fill: #1967D2;\n",
              "      height: 32px;\n",
              "      padding: 0 0 0 0;\n",
              "      width: 32px;\n",
              "    }\n",
              "\n",
              "    .colab-df-convert:hover {\n",
              "      background-color: #E2EBFA;\n",
              "      box-shadow: 0px 1px 2px rgba(60, 64, 67, 0.3), 0px 1px 3px 1px rgba(60, 64, 67, 0.15);\n",
              "      fill: #174EA6;\n",
              "    }\n",
              "\n",
              "    [theme=dark] .colab-df-convert {\n",
              "      background-color: #3B4455;\n",
              "      fill: #D2E3FC;\n",
              "    }\n",
              "\n",
              "    [theme=dark] .colab-df-convert:hover {\n",
              "      background-color: #434B5C;\n",
              "      box-shadow: 0px 1px 3px 1px rgba(0, 0, 0, 0.15);\n",
              "      filter: drop-shadow(0px 1px 2px rgba(0, 0, 0, 0.3));\n",
              "      fill: #FFFFFF;\n",
              "    }\n",
              "  </style>\n",
              "\n",
              "      <script>\n",
              "        const buttonEl =\n",
              "          document.querySelector('#df-50ed9b78-e8e2-4ec7-929d-1dca3f4feff3 button.colab-df-convert');\n",
              "        buttonEl.style.display =\n",
              "          google.colab.kernel.accessAllowed ? 'block' : 'none';\n",
              "\n",
              "        async function convertToInteractive(key) {\n",
              "          const element = document.querySelector('#df-50ed9b78-e8e2-4ec7-929d-1dca3f4feff3');\n",
              "          const dataTable =\n",
              "            await google.colab.kernel.invokeFunction('convertToInteractive',\n",
              "                                                     [key], {});\n",
              "          if (!dataTable) return;\n",
              "\n",
              "          const docLinkHtml = 'Like what you see? Visit the ' +\n",
              "            '<a target=\"_blank\" href=https://colab.research.google.com/notebooks/data_table.ipynb>data table notebook</a>'\n",
              "            + ' to learn more about interactive tables.';\n",
              "          element.innerHTML = '';\n",
              "          dataTable['output_type'] = 'display_data';\n",
              "          await google.colab.output.renderOutput(dataTable, element);\n",
              "          const docLink = document.createElement('div');\n",
              "          docLink.innerHTML = docLinkHtml;\n",
              "          element.appendChild(docLink);\n",
              "        }\n",
              "      </script>\n",
              "    </div>\n",
              "  </div>\n",
              "  "
            ]
          },
          "metadata": {},
          "execution_count": 176
        }
      ],
      "source": [
        "df_freq = pd.DataFrame(Y_freq)\n",
        "df_freq.head()"
      ]
    },
    {
      "cell_type": "code",
      "execution_count": 177,
      "metadata": {
        "colab": {
          "base_uri": "https://localhost:8080/"
        },
        "outputId": "93d7132d-57b7-4c30-b76b-06ebea8ab090",
        "id": "MPqOapZlMlFZ"
      },
      "outputs": [
        {
          "output_type": "stream",
          "name": "stdout",
          "text": [
            "(7832, 6)\n"
          ]
        }
      ],
      "source": [
        "# Use the get_dummies() method to one-hot encode the labels\n",
        "one_hot_labels = pd.get_dummies(df_freq)\n",
        "\n",
        "# Convert the DataFrame to a NumPy array\n",
        "one_hot_labels = one_hot_labels.to_numpy()\n",
        "\n",
        "print(one_hot_labels.shape)"
      ]
    },
    {
      "cell_type": "code",
      "execution_count": 178,
      "metadata": {
        "colab": {
          "base_uri": "https://localhost:8080/"
        },
        "outputId": "eb047965-c540-4b0c-8b8b-b9828d8817b3",
        "id": "0UGKc4-fMlFZ"
      },
      "outputs": [
        {
          "output_type": "execute_result",
          "data": {
            "text/plain": [
              "(7832, 6)"
            ]
          },
          "metadata": {},
          "execution_count": 178
        }
      ],
      "source": [
        "Y_freq = one_hot_labels\n",
        "Y_freq.shape"
      ]
    },
    {
      "cell_type": "code",
      "source": [
        "for i, array in enumerate(D_freq):\n",
        "    D_freq[i] = np.pad(array, ((0, 0), (0, 256 - array.shape[1])))\n",
        "D_freq = np.array(D_freq)"
      ],
      "metadata": {
        "id": "5Yx-bTKaMlFZ"
      },
      "execution_count": 179,
      "outputs": []
    },
    {
      "cell_type": "code",
      "source": [
        "D_freq.shape"
      ],
      "metadata": {
        "colab": {
          "base_uri": "https://localhost:8080/"
        },
        "outputId": "f843e217-431f-43df-80af-bef4a5ecaa31",
        "id": "k-NzLzHKMlFZ"
      },
      "execution_count": 180,
      "outputs": [
        {
          "output_type": "execute_result",
          "data": {
            "text/plain": [
              "(7832, 64, 256)"
            ]
          },
          "metadata": {},
          "execution_count": 180
        }
      ]
    },
    {
      "cell_type": "code",
      "execution_count": 181,
      "metadata": {
        "colab": {
          "base_uri": "https://localhost:8080/"
        },
        "outputId": "9ba0c816-8af2-448c-f980-bc1569672b44",
        "id": "lN4AshckMlFa"
      },
      "outputs": [
        {
          "output_type": "stream",
          "name": "stdout",
          "text": [
            "((7440, 64, 256), (7440, 6), (392, 64, 256), (392, 6))\n"
          ]
        }
      ],
      "source": [
        "x_train, x_test, y_train, y_test = train_test_split(np.array(D_freq), np.array(Y_freq), test_size=0.05)\n",
        "print((x_train.shape, y_train.shape, x_test.shape, y_test.shape))"
      ]
    },
    {
      "cell_type": "code",
      "execution_count": 182,
      "metadata": {
        "colab": {
          "base_uri": "https://localhost:8080/"
        },
        "outputId": "fe1436c1-61f5-40bb-d91f-76af29db1f23",
        "id": "bi64cRXgMlFa"
      },
      "outputs": [
        {
          "output_type": "stream",
          "name": "stdout",
          "text": [
            "(7440, 64, 256, 1) (392, 64, 256, 1)\n"
          ]
        }
      ],
      "source": [
        "x_train = x_train.reshape((x_train.shape[0], x_train.shape[1], x_train.shape[2], 1))\n",
        "x_test = x_test.reshape((x_test.shape[0], x_test.shape[1], x_test.shape[2], 1))\n",
        "print(x_train.shape, x_test.shape)"
      ]
    },
    {
      "cell_type": "code",
      "source": [
        "model = Sequential()\n",
        "\n",
        "# Layer 1: Convolutional Layer\n",
        "model.add(Conv2D(32, (3, 3), activation='relu', input_shape=(x_train.shape[1], x_train.shape[2], 1)))\n",
        "model.add(MaxPooling2D(pool_size=(2, 2)))\n",
        "\n",
        "# Layer 2: Convolutional Layer\n",
        "model.add(Conv2D(64, (3, 3), activation='relu'))\n",
        "model.add(MaxPooling2D(pool_size=(2, 2)))\n",
        "\n",
        "# Layer 3: Convolutional Layer\n",
        "model.add(Conv2D(128, (3, 3), activation='relu'))\n",
        "model.add(MaxPooling2D(pool_size=(2, 2)))\n",
        "\n",
        "# Layer 4: Flatten Layer\n",
        "model.add(Flatten())\n",
        "\n",
        "# Layer 5: Fully Connected Layer\n",
        "model.add(Dense(256, activation='relu'))\n",
        "model.add(Dropout(0.5))\n",
        "\n",
        "# Layer 6: Fully Connected Layer\n",
        "model.add(Dense(128, activation='relu'))\n",
        "model.add(Dropout(0.5))\n",
        "\n",
        "# Layer 7: Output Layer\n",
        "model.add(Dense(6, activation='sigmoid'))\n",
        "\n",
        "model.compile(loss='categorical_crossentropy',\n",
        "             optimizer=optimizers.Adam(lr=0.0005),\n",
        "             metrics=['accuracy'])\n",
        "\n",
        "model.summary()"
      ],
      "metadata": {
        "colab": {
          "base_uri": "https://localhost:8080/"
        },
        "outputId": "92cd67ec-5e31-4803-f6da-5fbb86f3943c",
        "id": "5KThasm-MlFa"
      },
      "execution_count": 183,
      "outputs": [
        {
          "output_type": "stream",
          "name": "stdout",
          "text": [
            "Model: \"sequential_6\"\n",
            "_________________________________________________________________\n",
            " Layer (type)                Output Shape              Param #   \n",
            "=================================================================\n",
            " conv2d_12 (Conv2D)          (None, 62, 254, 32)       320       \n",
            "                                                                 \n",
            " max_pooling2d_12 (MaxPoolin  (None, 31, 127, 32)      0         \n",
            " g2D)                                                            \n",
            "                                                                 \n",
            " conv2d_13 (Conv2D)          (None, 29, 125, 64)       18496     \n",
            "                                                                 \n",
            " max_pooling2d_13 (MaxPoolin  (None, 14, 62, 64)       0         \n",
            " g2D)                                                            \n",
            "                                                                 \n",
            " conv2d_14 (Conv2D)          (None, 12, 60, 128)       73856     \n",
            "                                                                 \n",
            " max_pooling2d_14 (MaxPoolin  (None, 6, 30, 128)       0         \n",
            " g2D)                                                            \n",
            "                                                                 \n",
            " flatten_6 (Flatten)         (None, 23040)             0         \n",
            "                                                                 \n",
            " dense_20 (Dense)            (None, 256)               5898496   \n",
            "                                                                 \n",
            " dropout_14 (Dropout)        (None, 256)               0         \n",
            "                                                                 \n",
            " dense_21 (Dense)            (None, 128)               32896     \n",
            "                                                                 \n",
            " dropout_15 (Dropout)        (None, 128)               0         \n",
            "                                                                 \n",
            " dense_22 (Dense)            (None, 6)                 774       \n",
            "                                                                 \n",
            "=================================================================\n",
            "Total params: 6,024,838\n",
            "Trainable params: 6,024,838\n",
            "Non-trainable params: 0\n",
            "_________________________________________________________________\n"
          ]
        },
        {
          "output_type": "stream",
          "name": "stderr",
          "text": [
            "/usr/local/lib/python3.10/dist-packages/keras/optimizers/legacy/adam.py:117: UserWarning: The `lr` argument is deprecated, use `learning_rate` instead.\n",
            "  super().__init__(name, **kwargs)\n"
          ]
        }
      ]
    },
    {
      "cell_type": "code",
      "execution_count": 184,
      "metadata": {
        "colab": {
          "base_uri": "https://localhost:8080/"
        },
        "outputId": "b98c63bb-1189-4c33-adb2-16f5571fb917",
        "id": "HgjKHc0TMlFa"
      },
      "outputs": [
        {
          "output_type": "stream",
          "name": "stdout",
          "text": [
            "Epoch 1/50\n",
            "59/59 [==============================] - 4s 63ms/step - loss: 1.8745 - accuracy: 0.2203 - val_loss: 1.6953 - val_accuracy: 0.2730\n",
            "Epoch 2/50\n",
            "59/59 [==============================] - 3s 51ms/step - loss: 1.6646 - accuracy: 0.2965 - val_loss: 1.5544 - val_accuracy: 0.3597\n",
            "Epoch 3/50\n",
            "59/59 [==============================] - 3s 51ms/step - loss: 1.6079 - accuracy: 0.3237 - val_loss: 1.5682 - val_accuracy: 0.3699\n",
            "Epoch 4/50\n",
            "59/59 [==============================] - 3s 49ms/step - loss: 1.5802 - accuracy: 0.3380 - val_loss: 1.5261 - val_accuracy: 0.3980\n",
            "Epoch 5/50\n",
            "59/59 [==============================] - 3s 49ms/step - loss: 1.5435 - accuracy: 0.3663 - val_loss: 1.5230 - val_accuracy: 0.3827\n",
            "Epoch 6/50\n",
            "59/59 [==============================] - 3s 49ms/step - loss: 1.5089 - accuracy: 0.3734 - val_loss: 1.4478 - val_accuracy: 0.4031\n",
            "Epoch 7/50\n",
            "59/59 [==============================] - 3s 52ms/step - loss: 1.5036 - accuracy: 0.3841 - val_loss: 1.4435 - val_accuracy: 0.4107\n",
            "Epoch 8/50\n",
            "59/59 [==============================] - 3s 51ms/step - loss: 1.4787 - accuracy: 0.3929 - val_loss: 1.4370 - val_accuracy: 0.4005\n",
            "Epoch 9/50\n",
            "59/59 [==============================] - 3s 49ms/step - loss: 1.4558 - accuracy: 0.4081 - val_loss: 1.4118 - val_accuracy: 0.4337\n",
            "Epoch 10/50\n",
            "59/59 [==============================] - 3s 50ms/step - loss: 1.4123 - accuracy: 0.4312 - val_loss: 1.3738 - val_accuracy: 0.4668\n",
            "Epoch 11/50\n",
            "59/59 [==============================] - 3s 51ms/step - loss: 1.3870 - accuracy: 0.4425 - val_loss: 1.3713 - val_accuracy: 0.4490\n",
            "Epoch 12/50\n",
            "59/59 [==============================] - 3s 53ms/step - loss: 1.3569 - accuracy: 0.4610 - val_loss: 1.3994 - val_accuracy: 0.4235\n",
            "Epoch 13/50\n",
            "59/59 [==============================] - 3s 51ms/step - loss: 1.3197 - accuracy: 0.4778 - val_loss: 1.3266 - val_accuracy: 0.4515\n",
            "Epoch 14/50\n",
            "59/59 [==============================] - 3s 50ms/step - loss: 1.3119 - accuracy: 0.4769 - val_loss: 1.3948 - val_accuracy: 0.4184\n",
            "Epoch 15/50\n",
            "59/59 [==============================] - 3s 50ms/step - loss: 1.2712 - accuracy: 0.4956 - val_loss: 1.3406 - val_accuracy: 0.4770\n",
            "Epoch 16/50\n",
            "59/59 [==============================] - 3s 52ms/step - loss: 1.2378 - accuracy: 0.5124 - val_loss: 1.4055 - val_accuracy: 0.4413\n",
            "Epoch 17/50\n",
            "59/59 [==============================] - 3s 52ms/step - loss: 1.2046 - accuracy: 0.5304 - val_loss: 1.2960 - val_accuracy: 0.4872\n",
            "Epoch 18/50\n",
            "59/59 [==============================] - 3s 50ms/step - loss: 1.1829 - accuracy: 0.5378 - val_loss: 1.2996 - val_accuracy: 0.5026\n",
            "Epoch 19/50\n",
            "59/59 [==============================] - 3s 50ms/step - loss: 1.1370 - accuracy: 0.5547 - val_loss: 1.3482 - val_accuracy: 0.4872\n",
            "Epoch 20/50\n",
            "59/59 [==============================] - 3s 51ms/step - loss: 1.0929 - accuracy: 0.5763 - val_loss: 1.2748 - val_accuracy: 0.5000\n",
            "Epoch 21/50\n",
            "59/59 [==============================] - 3s 53ms/step - loss: 1.0713 - accuracy: 0.5902 - val_loss: 1.2899 - val_accuracy: 0.5357\n",
            "Epoch 22/50\n",
            "59/59 [==============================] - 3s 52ms/step - loss: 1.0325 - accuracy: 0.6086 - val_loss: 1.3002 - val_accuracy: 0.5230\n",
            "Epoch 23/50\n",
            "59/59 [==============================] - 3s 51ms/step - loss: 1.0007 - accuracy: 0.6148 - val_loss: 1.4194 - val_accuracy: 0.5000\n",
            "Epoch 24/50\n",
            "59/59 [==============================] - 3s 51ms/step - loss: 0.9703 - accuracy: 0.6374 - val_loss: 1.3941 - val_accuracy: 0.5230\n",
            "Epoch 25/50\n",
            "59/59 [==============================] - 3s 52ms/step - loss: 0.9195 - accuracy: 0.6532 - val_loss: 1.3239 - val_accuracy: 0.5510\n",
            "Epoch 26/50\n",
            "59/59 [==============================] - 3s 53ms/step - loss: 0.8728 - accuracy: 0.6661 - val_loss: 1.3350 - val_accuracy: 0.5459\n",
            "Epoch 27/50\n",
            "59/59 [==============================] - 3s 51ms/step - loss: 0.8406 - accuracy: 0.6905 - val_loss: 1.4041 - val_accuracy: 0.5459\n",
            "Epoch 28/50\n",
            "59/59 [==============================] - 3s 50ms/step - loss: 0.8184 - accuracy: 0.6862 - val_loss: 1.6208 - val_accuracy: 0.5077\n",
            "Epoch 29/50\n",
            "59/59 [==============================] - 3s 51ms/step - loss: 0.7764 - accuracy: 0.7069 - val_loss: 1.4772 - val_accuracy: 0.5612\n",
            "Epoch 30/50\n",
            "59/59 [==============================] - 3s 54ms/step - loss: 0.7414 - accuracy: 0.7207 - val_loss: 1.5151 - val_accuracy: 0.5306\n"
          ]
        }
      ],
      "source": [
        "# Specify thecallbacks for the model\n",
        "callbacks = [EarlyStopping(monitor='val_loss', patience=10)]\n",
        "\n",
        "history = model.fit(x_train, y_train,\n",
        "                    epochs=50,\n",
        "                    batch_size=128,\n",
        "                    validation_data=(x_test, y_test),\n",
        "                    callbacks=callbacks)"
      ]
    },
    {
      "cell_type": "code",
      "source": [
        "X_test_freq,Y_test_freq = loadAudioFreqA(D_test)\n"
      ],
      "metadata": {
        "id": "S51-ByqFMlFa"
      },
      "execution_count": 185,
      "outputs": []
    },
    {
      "cell_type": "code",
      "source": [
        "unicheck = np.unique(Y_test_freq, axis=0)\n",
        "print(f\"Check on freq domain:\\n{unicheck}\")"
      ],
      "metadata": {
        "colab": {
          "base_uri": "https://localhost:8080/"
        },
        "outputId": "12873e31-0ca0-4b7a-f1b0-1e38eecc366e",
        "id": "AInR9J14MlFb"
      },
      "execution_count": 186,
      "outputs": [
        {
          "output_type": "stream",
          "name": "stdout",
          "text": [
            "Check on freq domain:\n",
            "['ANG' 'DIS' 'FEA' 'HAP' 'NEU' 'SAD']\n"
          ]
        }
      ]
    },
    {
      "cell_type": "code",
      "execution_count": 187,
      "metadata": {
        "colab": {
          "base_uri": "https://localhost:8080/",
          "height": 206
        },
        "outputId": "bd339a8c-ae56-48d5-97f6-0172e47b5467",
        "id": "XWv2PiJLMlFb"
      },
      "outputs": [
        {
          "output_type": "execute_result",
          "data": {
            "text/plain": [
              "     0\n",
              "0  NEU\n",
              "1  NEU\n",
              "2  DIS\n",
              "3  DIS\n",
              "4  HAP"
            ],
            "text/html": [
              "\n",
              "  <div id=\"df-ca2f9fd7-d95c-4f33-ad97-f2082aa32ab8\">\n",
              "    <div class=\"colab-df-container\">\n",
              "      <div>\n",
              "<style scoped>\n",
              "    .dataframe tbody tr th:only-of-type {\n",
              "        vertical-align: middle;\n",
              "    }\n",
              "\n",
              "    .dataframe tbody tr th {\n",
              "        vertical-align: top;\n",
              "    }\n",
              "\n",
              "    .dataframe thead th {\n",
              "        text-align: right;\n",
              "    }\n",
              "</style>\n",
              "<table border=\"1\" class=\"dataframe\">\n",
              "  <thead>\n",
              "    <tr style=\"text-align: right;\">\n",
              "      <th></th>\n",
              "      <th>0</th>\n",
              "    </tr>\n",
              "  </thead>\n",
              "  <tbody>\n",
              "    <tr>\n",
              "      <th>0</th>\n",
              "      <td>NEU</td>\n",
              "    </tr>\n",
              "    <tr>\n",
              "      <th>1</th>\n",
              "      <td>NEU</td>\n",
              "    </tr>\n",
              "    <tr>\n",
              "      <th>2</th>\n",
              "      <td>DIS</td>\n",
              "    </tr>\n",
              "    <tr>\n",
              "      <th>3</th>\n",
              "      <td>DIS</td>\n",
              "    </tr>\n",
              "    <tr>\n",
              "      <th>4</th>\n",
              "      <td>HAP</td>\n",
              "    </tr>\n",
              "  </tbody>\n",
              "</table>\n",
              "</div>\n",
              "      <button class=\"colab-df-convert\" onclick=\"convertToInteractive('df-ca2f9fd7-d95c-4f33-ad97-f2082aa32ab8')\"\n",
              "              title=\"Convert this dataframe to an interactive table.\"\n",
              "              style=\"display:none;\">\n",
              "        \n",
              "  <svg xmlns=\"http://www.w3.org/2000/svg\" height=\"24px\"viewBox=\"0 0 24 24\"\n",
              "       width=\"24px\">\n",
              "    <path d=\"M0 0h24v24H0V0z\" fill=\"none\"/>\n",
              "    <path d=\"M18.56 5.44l.94 2.06.94-2.06 2.06-.94-2.06-.94-.94-2.06-.94 2.06-2.06.94zm-11 1L8.5 8.5l.94-2.06 2.06-.94-2.06-.94L8.5 2.5l-.94 2.06-2.06.94zm10 10l.94 2.06.94-2.06 2.06-.94-2.06-.94-.94-2.06-.94 2.06-2.06.94z\"/><path d=\"M17.41 7.96l-1.37-1.37c-.4-.4-.92-.59-1.43-.59-.52 0-1.04.2-1.43.59L10.3 9.45l-7.72 7.72c-.78.78-.78 2.05 0 2.83L4 21.41c.39.39.9.59 1.41.59.51 0 1.02-.2 1.41-.59l7.78-7.78 2.81-2.81c.8-.78.8-2.07 0-2.86zM5.41 20L4 18.59l7.72-7.72 1.47 1.35L5.41 20z\"/>\n",
              "  </svg>\n",
              "      </button>\n",
              "      \n",
              "  <style>\n",
              "    .colab-df-container {\n",
              "      display:flex;\n",
              "      flex-wrap:wrap;\n",
              "      gap: 12px;\n",
              "    }\n",
              "\n",
              "    .colab-df-convert {\n",
              "      background-color: #E8F0FE;\n",
              "      border: none;\n",
              "      border-radius: 50%;\n",
              "      cursor: pointer;\n",
              "      display: none;\n",
              "      fill: #1967D2;\n",
              "      height: 32px;\n",
              "      padding: 0 0 0 0;\n",
              "      width: 32px;\n",
              "    }\n",
              "\n",
              "    .colab-df-convert:hover {\n",
              "      background-color: #E2EBFA;\n",
              "      box-shadow: 0px 1px 2px rgba(60, 64, 67, 0.3), 0px 1px 3px 1px rgba(60, 64, 67, 0.15);\n",
              "      fill: #174EA6;\n",
              "    }\n",
              "\n",
              "    [theme=dark] .colab-df-convert {\n",
              "      background-color: #3B4455;\n",
              "      fill: #D2E3FC;\n",
              "    }\n",
              "\n",
              "    [theme=dark] .colab-df-convert:hover {\n",
              "      background-color: #434B5C;\n",
              "      box-shadow: 0px 1px 3px 1px rgba(0, 0, 0, 0.15);\n",
              "      filter: drop-shadow(0px 1px 2px rgba(0, 0, 0, 0.3));\n",
              "      fill: #FFFFFF;\n",
              "    }\n",
              "  </style>\n",
              "\n",
              "      <script>\n",
              "        const buttonEl =\n",
              "          document.querySelector('#df-ca2f9fd7-d95c-4f33-ad97-f2082aa32ab8 button.colab-df-convert');\n",
              "        buttonEl.style.display =\n",
              "          google.colab.kernel.accessAllowed ? 'block' : 'none';\n",
              "\n",
              "        async function convertToInteractive(key) {\n",
              "          const element = document.querySelector('#df-ca2f9fd7-d95c-4f33-ad97-f2082aa32ab8');\n",
              "          const dataTable =\n",
              "            await google.colab.kernel.invokeFunction('convertToInteractive',\n",
              "                                                     [key], {});\n",
              "          if (!dataTable) return;\n",
              "\n",
              "          const docLinkHtml = 'Like what you see? Visit the ' +\n",
              "            '<a target=\"_blank\" href=https://colab.research.google.com/notebooks/data_table.ipynb>data table notebook</a>'\n",
              "            + ' to learn more about interactive tables.';\n",
              "          element.innerHTML = '';\n",
              "          dataTable['output_type'] = 'display_data';\n",
              "          await google.colab.output.renderOutput(dataTable, element);\n",
              "          const docLink = document.createElement('div');\n",
              "          docLink.innerHTML = docLinkHtml;\n",
              "          element.appendChild(docLink);\n",
              "        }\n",
              "      </script>\n",
              "    </div>\n",
              "  </div>\n",
              "  "
            ]
          },
          "metadata": {},
          "execution_count": 187
        }
      ],
      "source": [
        "df_freq = pd.DataFrame(Y_test_freq)\n",
        "df_freq.head()"
      ]
    },
    {
      "cell_type": "code",
      "execution_count": 188,
      "metadata": {
        "colab": {
          "base_uri": "https://localhost:8080/"
        },
        "outputId": "7b49c91e-a90d-4cb8-a496-47da76d58cd2",
        "id": "ks6tQy3UMlFb"
      },
      "outputs": [
        {
          "output_type": "stream",
          "name": "stdout",
          "text": [
            "(3342, 6)\n"
          ]
        }
      ],
      "source": [
        "# Use the get_dummies() method to one-hot encode the labels\n",
        "one_hot_labels = pd.get_dummies(df_freq)\n",
        "\n",
        "# Convert the DataFrame to a NumPy array\n",
        "one_hot_labels = one_hot_labels.to_numpy()\n",
        "\n",
        "print(one_hot_labels.shape)"
      ]
    },
    {
      "cell_type": "code",
      "execution_count": 189,
      "metadata": {
        "colab": {
          "base_uri": "https://localhost:8080/"
        },
        "outputId": "6af340cc-1a15-4da5-ee39-e3b1e7b90685",
        "id": "JsZRJErpMlFb"
      },
      "outputs": [
        {
          "output_type": "execute_result",
          "data": {
            "text/plain": [
              "(3342, 6)"
            ]
          },
          "metadata": {},
          "execution_count": 189
        }
      ],
      "source": [
        "Y_freq = one_hot_labels\n",
        "Y_freq.shape"
      ]
    },
    {
      "cell_type": "code",
      "source": [
        "for i, array in enumerate(X_test_freq):\n",
        "    X_test_freq[i] = np.pad(array, ((0, 0), (0, 256 - array.shape[1])))\n",
        "X_test_freq = np.array(X_test_freq)\n",
        "print( X_test_freq.shape)\n",
        "#x_test = x_test.reshape((x_test.shape[0], x_test.shape[1], x_test.shape[2], 1))\n",
        "#X_test_freq = x_test.reshape(( X_test_freq.shape[0],  X_test_freq.shape[1], X_test_freq.shape[2], 1))\n",
        "print( X_test_freq.shape)"
      ],
      "metadata": {
        "colab": {
          "base_uri": "https://localhost:8080/"
        },
        "outputId": "70c054c2-6902-43be-b49a-58616997bc17",
        "id": "9efHFwrCMlFb"
      },
      "execution_count": 190,
      "outputs": [
        {
          "output_type": "stream",
          "name": "stdout",
          "text": [
            "(3342, 64, 256)\n",
            "(3342, 64, 256)\n"
          ]
        }
      ]
    },
    {
      "cell_type": "code",
      "source": [
        "from sklearn.metrics import accuracy_score, f1_score, confusion_matrix\n",
        "# Evaluate the model on the test set\n",
        "y_pred = model.predict(X_test_freq)\n",
        "y_pred_classes = np.argmax(y_pred, axis=1)\n",
        "y_test_classes = np.argmax(Y_freq, axis=1)\n",
        "accuracy = accuracy_score(y_test_classes, y_pred_classes)\n",
        "f_score = f1_score(y_test_classes, y_pred_classes, average='weighted')\n",
        "print('Accuracy:', accuracy)\n",
        "print('F-score:', f_score)\n",
        "\n",
        "# Plot the confusion matrix\n",
        "cm = confusion_matrix(y_test_classes, y_pred_classes)\n",
        "plt.imshow(cm, cmap=plt.cm.Blues)\n",
        "plt.title('Confusion matrix')\n",
        "plt.colorbar()\n",
        "tick_marks = np.arange(6)\n",
        "plt.xticks(tick_marks, range(6))\n",
        "plt.yticks(tick_marks, range(6))\n",
        "plt.xlabel('Predicted label')\n",
        "plt.ylabel('True label')\n",
        "plt.show()\n",
        "\n",
        "# Find the most confusinglabels\n",
        "np.fill_diagonal(cm, 0)\n",
        "most_confused_classes = np.unravel_index(np.argmax(cm), cm.shape)\n",
        "print('Most confusing classes:', most_confused_classes)"
      ],
      "metadata": {
        "outputId": "7b15ab21-675c-4a68-df3b-ed28fbd08024",
        "colab": {
          "base_uri": "https://localhost:8080/",
          "height": 541
        },
        "id": "hoq5R9I4MlFc"
      },
      "execution_count": 191,
      "outputs": [
        {
          "output_type": "stream",
          "name": "stdout",
          "text": [
            "105/105 [==============================] - 1s 6ms/step\n",
            "Accuracy: 0.4850388988629563\n",
            "F-score: 0.4824389326161153\n"
          ]
        },
        {
          "output_type": "display_data",
          "data": {
            "text/plain": [
              "<Figure size 640x480 with 2 Axes>"
            ],
            "image/png": "[encoded data removed]"
          },
          "metadata": {}
        },
        {
          "output_type": "stream",
          "name": "stdout",
          "text": [
            "Most confusing classes: (2, 5)\n"
          ]
        }
      ]
    },
    {
      "cell_type": "code",
      "source": [],
      "metadata": {
        "id": "AATsoIbYnPmU"
      },
      "execution_count": null,
      "outputs": []
    },
    {
      "cell_type": "markdown",
      "source": [
        "## Time Domain Model With Augmentation"
      ],
      "metadata": {
        "id": "pbUf3bF4Rg8T"
      }
    },
    {
      "cell_type": "code",
      "source": [],
      "metadata": {
        "id": "KIQftZ8LRlVW"
      },
      "execution_count": null,
      "outputs": []
    },
    {
      "cell_type": "code",
      "source": [
        "D_time, Y_time = loadAudioTimeA(D_train)"
      ],
      "metadata": {
        "id": "8EQxxDQ1Rg8n"
      },
      "execution_count": null,
      "outputs": []
    },
    {
      "cell_type": "code",
      "source": [
        "D_time = np.array(D_time)\n",
        "D_time.shape"
      ],
      "metadata": {
        "id": "zHNPDO1KRg8o"
      },
      "execution_count": null,
      "outputs": []
    },
    {
      "cell_type": "code",
      "source": [
        "unicheck = np.unique(Y_time, axis=0)\n",
        "print(f\"Check on time domain:\\n{unicheck}\")"
      ],
      "metadata": {
        "id": "lMh-BkIpRg8o"
      },
      "execution_count": null,
      "outputs": []
    },
    {
      "cell_type": "code",
      "source": [
        "df_time = pd.DataFrame(Y_time)\n",
        "df_time.head()"
      ],
      "metadata": {
        "id": "NjMhUwp6Rg8p"
      },
      "execution_count": null,
      "outputs": []
    },
    {
      "cell_type": "code",
      "source": [
        "# Use the get_dummies() method to one-hot encode the labels\n",
        "one_hot_labels = pd.get_dummies(df_time)\n",
        "\n",
        "# Convert the DataFrame to a NumPy array\n",
        "one_hot_labels = one_hot_labels.to_numpy()\n",
        "\n",
        "print(one_hot_labels.shape)"
      ],
      "metadata": {
        "id": "z9PZ5H8GRg8p"
      },
      "execution_count": null,
      "outputs": []
    },
    {
      "cell_type": "code",
      "source": [
        "Y_time = one_hot_labels\n",
        "Y_time.shape"
      ],
      "metadata": {
        "id": "BUz2SkfBRg8p"
      },
      "execution_count": null,
      "outputs": []
    },
    {
      "cell_type": "code",
      "source": [
        "# Apply PCA to the data\n",
        "pca = PCA(n_components=200)\n",
        "D_pca = pca.fit_transform(D_time)"
      ],
      "metadata": {
        "id": "Y2QDVRyRRg8q"
      },
      "execution_count": null,
      "outputs": []
    },
    {
      "cell_type": "code",
      "source": [
        "# Split the data into train and test sets\n",
        "x_train, x_test, y_train, y_test = train_test_split(np.array(D_pca), np.array(Y_time), test_size=0.05, random_state=69, shuffle=True, stratify=Y_time)\n",
        "print((x_train.shape, y_train.shape, x_test.shape, y_test.shape))\n",
        "\n",
        "x_train = x_train.reshape((x_train.shape[0], x_train.shape[1], 1))\n",
        "x_test = x_test.reshape((x_test.shape[0], x_test.shape[1], 1))\n",
        "\n",
        "model = Sequential()\n",
        "model.add(Conv1D(128, 3, input_shape=(x_train.shape[1], 1), kernel_regularizer=regularizers.l2(0.001)))\n",
        "model.add(BatchNormalization())\n",
        "model.add(Activation('relu'))\n",
        "model.add(MaxPooling1D(pool_size=2))\n",
        "\n",
        "model.add(Conv1D(256, 3, kernel_regularizer=regularizers.l2(0.001)))\n",
        "model.add(BatchNormalization())\n",
        "model.add(Activation('relu'))\n",
        "model.add(MaxPooling1D(pool_size=2))\n",
        "\n",
        "model.add(Conv1D(512, 3, kernel_regularizer=regularizers.l2(0.001)))\n",
        "model.add(BatchNormalization())\n",
        "model.add(Activation('relu'))\n",
        "model.add(MaxPooling1D(pool_size=2))\n",
        "\n",
        "model.add(Conv1D(1024, 3,  kernel_regularizer=regularizers.l2(0.001)))\n",
        "model.add(BatchNormalization())\n",
        "model.add(Activation('relu'))\n",
        "model.add(MaxPooling1D(pool_size=2))\n",
        "\n",
        "model.add(Flatten())\n",
        "model.add(Dense(512, kernel_regularizer=regularizers.l2(0.001)))\n",
        "model.add(BatchNormalization())\n",
        "model.add(Activation('relu'))\n",
        "model.add(Dropout(0.3))\n",
        "\n",
        "model.add(Dense(256, kernel_regularizer=regularizers.l2(0.001)))\n",
        "model.add(BatchNormalization())\n",
        "model.add(Activation('relu'))\n",
        "model.add(Dropout(0.2))\n",
        "\n",
        "model.add(Dense(128, kernel_regularizer=regularizers.l2(0.001)))\n",
        "model.add(BatchNormalization())\n",
        "model.add(Activation('relu'))\n",
        "model.add(Dropout(0.2))\n",
        "\n",
        "model.add(Dense(6, activation='softmax'))\n",
        "\n",
        "model.compile(loss='categorical_crossentropy',\n",
        "             optimizer=optimizers.Adam(lr=0.0005),\n",
        "             metrics=['accuracy'])\n",
        "\n",
        "# Specify thecallbacks for the model\n",
        "callbacks = [EarlyStopping(monitor='val_loss', patience=10)]\n",
        "\n",
        "model.summary()\n",
        "\n",
        "# Train the model with early stopping\n",
        "history = model.fit(x_train, y_train,\n",
        "                    validation_data=(x_train, y_train),\n",
        "                    epochs=50,\n",
        "                    batch_size=32,\n",
        "                    callbacks=callbacks)"
      ],
      "metadata": {
        "id": "peS0znjdRg8q"
      },
      "execution_count": null,
      "outputs": []
    },
    {
      "cell_type": "code",
      "source": [
        "X_test_time,Y_test_time = loadAudioTime(D_test)\n",
        "D_test_pca = pca.transform(X_test_time)"
      ],
      "metadata": {
        "id": "44lj996aRg8q"
      },
      "execution_count": null,
      "outputs": []
    },
    {
      "cell_type": "code",
      "source": [
        "unicheck = np.unique(Y_test_time, axis=0)\n",
        "print(f\"Check on freq domain:\\n{unicheck}\")"
      ],
      "metadata": {
        "id": "Q3u511uhRg8q"
      },
      "execution_count": null,
      "outputs": []
    },
    {
      "cell_type": "code",
      "execution_count": null,
      "metadata": {
        "id": "t1tp-c-tRg8r"
      },
      "outputs": [],
      "source": [
        "df_freq = pd.DataFrame(Y_test_time)\n",
        "df_freq.head()"
      ]
    },
    {
      "cell_type": "code",
      "execution_count": null,
      "metadata": {
        "id": "MsV1F4jaRg8r"
      },
      "outputs": [],
      "source": [
        "# Use the get_dummies() method to one-hot encode the labels\n",
        "one_hot_labels = pd.get_dummies(df_freq)\n",
        "\n",
        "# Convert the DataFrame to a NumPy array\n",
        "one_hot_labels = one_hot_labels.to_numpy()\n",
        "\n",
        "print(one_hot_labels.shape)"
      ]
    },
    {
      "cell_type": "code",
      "execution_count": null,
      "metadata": {
        "id": "aoA5Tb8tRg8r"
      },
      "outputs": [],
      "source": [
        "Y_time = one_hot_labels\n",
        "Y_time.shape"
      ]
    },
    {
      "cell_type": "code",
      "source": [
        "from sklearn.metrics import accuracy_score, f1_score, confusion_matrix\n",
        "# Evaluate the model on the test set\n",
        "y_pred = model.predict(D_test_pca)\n",
        "y_pred_classes = np.argmax(y_pred, axis=1)\n",
        "y_test_classes = np.argmax(Y_time, axis=1)\n",
        "accuracy = accuracy_score(y_test_classes, y_pred_classes)\n",
        "f_score = f1_score(y_test_classes, y_pred_classes, average='weighted')\n",
        "print('Accuracy:', accuracy)\n",
        "print('F-score:', f_score)\n",
        "\n",
        "# Plot the confusion matrix\n",
        "cm = confusion_matrix(y_test_classes, y_pred_classes)\n",
        "plt.imshow(cm, cmap=plt.cm.Blues)\n",
        "plt.title('Confusion matrix')\n",
        "plt.colorbar()\n",
        "tick_marks = np.arange(6)\n",
        "plt.xticks(tick_marks, range(6))\n",
        "plt.yticks(tick_marks, range(6))\n",
        "plt.xlabel('Predicted label')\n",
        "plt.ylabel('True label')\n",
        "plt.show()\n",
        "\n",
        "# Find the most confusinglabels\n",
        "np.fill_diagonal(cm, 0)\n",
        "most_confused_classes = np.unravel_index(np.argmax(cm), cm.shape)\n",
        "print('Most confusing classes:', most_confused_classes)"
      ],
      "metadata": {
        "id": "7Y9GSgmuRg8s"
      },
      "execution_count": null,
      "outputs": []
    },
    {
      "cell_type": "code",
      "source": [],
      "metadata": {
        "id": "p-_sbdpznPov"
      },
      "execution_count": null,
      "outputs": []
    },
    {
      "cell_type": "code",
      "source": [],
      "metadata": {
        "id": "WfiEUFUknPsE"
      },
      "execution_count": null,
      "outputs": []
    },
    {
      "cell_type": "code",
      "source": [
        "def loadAudioTime(audio_files):\n",
        "  classes = [\"SAD\", \"ANG\", \"DIS\", \"FEA\", \"HAP\", \"NEU\"]\n",
        "  # for data augmentation\n",
        "  augmentations = Compose([\n",
        "    AddGaussianNoise(min_amplitude=0.001, max_amplitude=0.01, p=0.5),\n",
        "    TimeStretch(min_rate=0.8, max_rate=1.2, p=0.5),\n",
        "    PitchShift(min_semitones=-4, max_semitones=4, p=0.5)\n",
        "])\n",
        "  # max_length = getMaxLen(audio_files)\n",
        "  max_length = 200\n",
        "  D, Y = [], []\n",
        "  for audio_file in audio_files: \n",
        "    # load the audio file\n",
        "    audio, sr = lib.load(audio_file, sr=4444)\n",
        "    # extract zero crossing rate\n",
        "    zcr = zeroCrossingRate(audio)\n",
        "    # extract energy\n",
        "    rms = energy(audio)\n",
        "    # chroma stft\n",
        "    cs = chromaStft(audio, sr)\n",
        "    # mfcc\n",
        "    mfc = mfcc(audio, sr)\n",
        "    # extract mel spectrogram\n",
        "    #mel_spec = melSpectrogram(audio, sr).mean()\n",
        "    combined_features = np.concatenate(([rms, cs, mfc], (np.pad(zcr[0], (0, 300 - len(zcr[0]))))))\n",
        "    D.append(combined_features)\n",
        "    for cls in classes:\n",
        "      if re.search(cls, audio_file): Y.append(cls)\n",
        "    # don't augment every example\n",
        "    if np.random.rand() >= 0.5:\n",
        "      augmented_audio = augmentations(samples=audio, sample_rate=sr)\n",
        "      # extract zero crossing rate\n",
        "      zcr = zeroCrossingRate(augmented_audio)\n",
        "      # extract energy\n",
        "      rms = energy(augmented_audio)\n",
        "      # chroma stft\n",
        "      cs = chromaStft(augmented_audio, sr)\n",
        "      # mfcc\n",
        "      mfc = mfcc(augmented_audio, sr)\n",
        "      # extract mel spectrogram\n",
        "      #mel_spec = melSpectrogram(augmented_audio, sr).mean()\n",
        "      combined_features = np.concatenate(([rms, cs, mfc], (np.pad(zcr[0], (0, 300 - len(zcr[0]))))))\n",
        "      D.append(combined_features)\n",
        "      for cls in classes:\n",
        "        if re.search(cls, audio_file): Y.append(cls)\n",
        "  return D, Y"
      ],
      "metadata": {
        "id": "Xw1nOp5k2ByS"
      },
      "execution_count": null,
      "outputs": []
    },
    {
      "cell_type": "code",
      "source": [
        "D_time, Y_time = loadAudioTime(D_train)"
      ],
      "metadata": {
        "colab": {
          "base_uri": "https://localhost:8080/"
        },
        "id": "cIAVoPb92dzF",
        "outputId": "5418d29a-2d0e-4bd7-b0c8-81c223c8adea"
      },
      "execution_count": null,
      "outputs": [
        {
          "output_type": "stream",
          "name": "stderr",
          "text": [
            "/usr/local/lib/python3.10/dist-packages/librosa/util/decorators.py:88: UserWarning: Trying to estimate tuning from empty frequency set.\n",
            "  return f(*args, **kwargs)\n"
          ]
        }
      ]
    },
    {
      "cell_type": "code",
      "source": [
        "D_time = np.array(D_time)\n",
        "D_time.shape"
      ],
      "metadata": {
        "colab": {
          "base_uri": "https://localhost:8080/"
        },
        "outputId": "418b13d5-320a-4dde-f2c4-add2d006babb",
        "id": "8la9AYEN2096"
      },
      "execution_count": null,
      "outputs": [
        {
          "output_type": "execute_result",
          "data": {
            "text/plain": [
              "(7835, 303)"
            ]
          },
          "metadata": {},
          "execution_count": 41
        }
      ]
    },
    {
      "cell_type": "code",
      "source": [
        "unicheck = np.unique(Y_time, axis=0)\n",
        "print(f\"Check on time domain:\\n{unicheck}\")"
      ],
      "metadata": {
        "colab": {
          "base_uri": "https://localhost:8080/"
        },
        "outputId": "70e4c146-809b-409d-af14-7f743370ca04",
        "id": "9YKmTur_20-Y"
      },
      "execution_count": null,
      "outputs": [
        {
          "output_type": "stream",
          "name": "stdout",
          "text": [
            "Check on time domain:\n",
            "['ANG' 'DIS' 'FEA' 'HAP' 'NEU' 'SAD']\n"
          ]
        }
      ]
    },
    {
      "cell_type": "code",
      "source": [
        "df_time = pd.DataFrame(Y_time)\n",
        "df_time.head()"
      ],
      "metadata": {
        "colab": {
          "base_uri": "https://localhost:8080/",
          "height": 206
        },
        "outputId": "ed3f0d28-d76f-4db2-feed-f521a2c74e2e",
        "id": "Y9P505Fz20-Y"
      },
      "execution_count": null,
      "outputs": [
        {
          "output_type": "execute_result",
          "data": {
            "text/plain": [
              "     0\n",
              "0  SAD\n",
              "1  FEA\n",
              "2  SAD\n",
              "3  SAD\n",
              "4  ANG"
            ],
            "text/html": [
              "\n",
              "  <div id=\"df-31e7b3da-c128-4585-adf4-1d9e7333b3d1\">\n",
              "    <div class=\"colab-df-container\">\n",
              "      <div>\n",
              "<style scoped>\n",
              "    .dataframe tbody tr th:only-of-type {\n",
              "        vertical-align: middle;\n",
              "    }\n",
              "\n",
              "    .dataframe tbody tr th {\n",
              "        vertical-align: top;\n",
              "    }\n",
              "\n",
              "    .dataframe thead th {\n",
              "        text-align: right;\n",
              "    }\n",
              "</style>\n",
              "<table border=\"1\" class=\"dataframe\">\n",
              "  <thead>\n",
              "    <tr style=\"text-align: right;\">\n",
              "      <th></th>\n",
              "      <th>0</th>\n",
              "    </tr>\n",
              "  </thead>\n",
              "  <tbody>\n",
              "    <tr>\n",
              "      <th>0</th>\n",
              "      <td>SAD</td>\n",
              "    </tr>\n",
              "    <tr>\n",
              "      <th>1</th>\n",
              "      <td>FEA</td>\n",
              "    </tr>\n",
              "    <tr>\n",
              "      <th>2</th>\n",
              "      <td>SAD</td>\n",
              "    </tr>\n",
              "    <tr>\n",
              "      <th>3</th>\n",
              "      <td>SAD</td>\n",
              "    </tr>\n",
              "    <tr>\n",
              "      <th>4</th>\n",
              "      <td>ANG</td>\n",
              "    </tr>\n",
              "  </tbody>\n",
              "</table>\n",
              "</div>\n",
              "      <button class=\"colab-df-convert\" onclick=\"convertToInteractive('df-31e7b3da-c128-4585-adf4-1d9e7333b3d1')\"\n",
              "              title=\"Convert this dataframe to an interactive table.\"\n",
              "              style=\"display:none;\">\n",
              "        \n",
              "  <svg xmlns=\"http://www.w3.org/2000/svg\" height=\"24px\"viewBox=\"0 0 24 24\"\n",
              "       width=\"24px\">\n",
              "    <path d=\"M0 0h24v24H0V0z\" fill=\"none\"/>\n",
              "    <path d=\"M18.56 5.44l.94 2.06.94-2.06 2.06-.94-2.06-.94-.94-2.06-.94 2.06-2.06.94zm-11 1L8.5 8.5l.94-2.06 2.06-.94-2.06-.94L8.5 2.5l-.94 2.06-2.06.94zm10 10l.94 2.06.94-2.06 2.06-.94-2.06-.94-.94-2.06-.94 2.06-2.06.94z\"/><path d=\"M17.41 7.96l-1.37-1.37c-.4-.4-.92-.59-1.43-.59-.52 0-1.04.2-1.43.59L10.3 9.45l-7.72 7.72c-.78.78-.78 2.05 0 2.83L4 21.41c.39.39.9.59 1.41.59.51 0 1.02-.2 1.41-.59l7.78-7.78 2.81-2.81c.8-.78.8-2.07 0-2.86zM5.41 20L4 18.59l7.72-7.72 1.47 1.35L5.41 20z\"/>\n",
              "  </svg>\n",
              "      </button>\n",
              "      \n",
              "  <style>\n",
              "    .colab-df-container {\n",
              "      display:flex;\n",
              "      flex-wrap:wrap;\n",
              "      gap: 12px;\n",
              "    }\n",
              "\n",
              "    .colab-df-convert {\n",
              "      background-color: #E8F0FE;\n",
              "      border: none;\n",
              "      border-radius: 50%;\n",
              "      cursor: pointer;\n",
              "      display: none;\n",
              "      fill: #1967D2;\n",
              "      height: 32px;\n",
              "      padding: 0 0 0 0;\n",
              "      width: 32px;\n",
              "    }\n",
              "\n",
              "    .colab-df-convert:hover {\n",
              "      background-color: #E2EBFA;\n",
              "      box-shadow: 0px 1px 2px rgba(60, 64, 67, 0.3), 0px 1px 3px 1px rgba(60, 64, 67, 0.15);\n",
              "      fill: #174EA6;\n",
              "    }\n",
              "\n",
              "    [theme=dark] .colab-df-convert {\n",
              "      background-color: #3B4455;\n",
              "      fill: #D2E3FC;\n",
              "    }\n",
              "\n",
              "    [theme=dark] .colab-df-convert:hover {\n",
              "      background-color: #434B5C;\n",
              "      box-shadow: 0px 1px 3px 1px rgba(0, 0, 0, 0.15);\n",
              "      filter: drop-shadow(0px 1px 2px rgba(0, 0, 0, 0.3));\n",
              "      fill: #FFFFFF;\n",
              "    }\n",
              "  </style>\n",
              "\n",
              "      <script>\n",
              "        const buttonEl =\n",
              "          document.querySelector('#df-31e7b3da-c128-4585-adf4-1d9e7333b3d1 button.colab-df-convert');\n",
              "        buttonEl.style.display =\n",
              "          google.colab.kernel.accessAllowed ? 'block' : 'none';\n",
              "\n",
              "        async function convertToInteractive(key) {\n",
              "          const element = document.querySelector('#df-31e7b3da-c128-4585-adf4-1d9e7333b3d1');\n",
              "          const dataTable =\n",
              "            await google.colab.kernel.invokeFunction('convertToInteractive',\n",
              "                                                     [key], {});\n",
              "          if (!dataTable) return;\n",
              "\n",
              "          const docLinkHtml = 'Like what you see? Visit the ' +\n",
              "            '<a target=\"_blank\" href=https://colab.research.google.com/notebooks/data_table.ipynb>data table notebook</a>'\n",
              "            + ' to learn more about interactive tables.';\n",
              "          element.innerHTML = '';\n",
              "          dataTable['output_type'] = 'display_data';\n",
              "          await google.colab.output.renderOutput(dataTable, element);\n",
              "          const docLink = document.createElement('div');\n",
              "          docLink.innerHTML = docLinkHtml;\n",
              "          element.appendChild(docLink);\n",
              "        }\n",
              "      </script>\n",
              "    </div>\n",
              "  </div>\n",
              "  "
            ]
          },
          "metadata": {},
          "execution_count": 43
        }
      ]
    },
    {
      "cell_type": "code",
      "source": [
        "# Use the get_dummies() method to one-hot encode the labels\n",
        "one_hot_labels = pd.get_dummies(df_time)\n",
        "\n",
        "# Convert the DataFrame to a NumPy array\n",
        "one_hot_labels = one_hot_labels.to_numpy()\n",
        "\n",
        "print(one_hot_labels.shape)"
      ],
      "metadata": {
        "colab": {
          "base_uri": "https://localhost:8080/"
        },
        "outputId": "6b28961c-951d-4ecc-ea1f-8093270410be",
        "id": "_sU4euKF20-Z"
      },
      "execution_count": null,
      "outputs": [
        {
          "output_type": "stream",
          "name": "stdout",
          "text": [
            "(7835, 6)\n"
          ]
        }
      ]
    },
    {
      "cell_type": "code",
      "source": [
        "Y_time = one_hot_labels\n",
        "Y_time.shape"
      ],
      "metadata": {
        "colab": {
          "base_uri": "https://localhost:8080/"
        },
        "outputId": "68a9c793-096a-415d-abd5-75d7aa24b2b0",
        "id": "5tdQ79ZM20-Z"
      },
      "execution_count": null,
      "outputs": [
        {
          "output_type": "execute_result",
          "data": {
            "text/plain": [
              "(7835, 6)"
            ]
          },
          "metadata": {},
          "execution_count": 45
        }
      ]
    },
    {
      "cell_type": "code",
      "source": [
        "# Apply PCA to the data\n",
        "pca = PCA(n_components=200)\n",
        "D_pca = pca.fit_transform(D_time)"
      ],
      "metadata": {
        "id": "gK4Y8Y_A20-Z"
      },
      "execution_count": null,
      "outputs": []
    },
    {
      "cell_type": "code",
      "source": [
        "# Split the data into train and test sets\n",
        "x_train, x_test, y_train, y_test = train_test_split(np.array(D_pca), np.array(Y_time), test_size=0.05, random_state=69, shuffle=True, stratify=Y_time)\n",
        "print((x_train.shape, y_train.shape, x_test.shape, y_test.shape))\n",
        "\n",
        "x_train = x_train.reshape((x_train.shape[0], x_train.shape[1], 1))\n",
        "x_test = x_test.reshape((x_test.shape[0], x_test.shape[1], 1))\n",
        "\n",
        "model = Sequential()\n",
        "model.add(Conv1D(128, 3, input_shape=(x_train.shape[1], 1), kernel_regularizer=regularizers.l2(0.001)))\n",
        "model.add(BatchNormalization())\n",
        "model.add(Activation('relu'))\n",
        "model.add(MaxPooling1D(pool_size=2))\n",
        "\n",
        "model.add(Conv1D(256, 3, kernel_regularizer=regularizers.l2(0.001)))\n",
        "model.add(BatchNormalization())\n",
        "model.add(Activation('relu'))\n",
        "model.add(MaxPooling1D(pool_size=2))\n",
        "\n",
        "model.add(Conv1D(512, 3, kernel_regularizer=regularizers.l2(0.001)))\n",
        "model.add(BatchNormalization())\n",
        "model.add(Activation('relu'))\n",
        "model.add(MaxPooling1D(pool_size=2))\n",
        "\n",
        "model.add(Conv1D(1024, 3,  kernel_regularizer=regularizers.l2(0.001)))\n",
        "model.add(BatchNormalization())\n",
        "model.add(Activation('relu'))\n",
        "model.add(MaxPooling1D(pool_size=2))\n",
        "\n",
        "model.add(Flatten())\n",
        "model.add(Dense(512, kernel_regularizer=regularizers.l2(0.001)))\n",
        "model.add(BatchNormalization())\n",
        "model.add(Activation('relu'))\n",
        "model.add(Dropout(0.3))\n",
        "\n",
        "model.add(Dense(256, kernel_regularizer=regularizers.l2(0.001)))\n",
        "model.add(BatchNormalization())\n",
        "model.add(Activation('relu'))\n",
        "model.add(Dropout(0.2))\n",
        "\n",
        "model.add(Dense(128, kernel_regularizer=regularizers.l2(0.001)))\n",
        "model.add(BatchNormalization())\n",
        "model.add(Activation('relu'))\n",
        "model.add(Dropout(0.2))\n",
        "\n",
        "model.add(Dense(6, activation='softmax'))\n",
        "\n",
        "model.compile(loss='categorical_crossentropy',\n",
        "             optimizer=optimizers.Adam(lr=0.0005),\n",
        "             metrics=['accuracy'])\n",
        "\n",
        "# Specify thecallbacks for the model\n",
        "callbacks = [EarlyStopping(monitor='val_loss', patience=10)]\n",
        "\n",
        "model.summary()\n",
        "\n",
        "# Train the model with early stopping\n",
        "history = model.fit(x_train, y_train,\n",
        "                    validation_data=(x_train, y_train),\n",
        "                    epochs=50,\n",
        "                    batch_size=32,\n",
        "                    callbacks=callbacks)"
      ],
      "metadata": {
        "colab": {
          "base_uri": "https://localhost:8080/"
        },
        "outputId": "114ec0a5-84f1-4f8d-994d-fa9d447bcd83",
        "id": "R7iI8VgA20-a"
      },
      "execution_count": null,
      "outputs": [
        {
          "output_type": "stream",
          "name": "stdout",
          "text": [
            "((7443, 200), (7443, 6), (392, 200), (392, 6))\n",
            "Model: \"sequential_2\"\n",
            "_________________________________________________________________\n",
            " Layer (type)                Output Shape              Param #   \n",
            "=================================================================\n",
            " conv1d_4 (Conv1D)           (None, 198, 128)          512       \n",
            "                                                                 \n",
            " batch_normalization_7 (Batc  (None, 198, 128)         512       \n",
            " hNormalization)                                                 \n",
            "                                                                 \n",
            " activation_7 (Activation)   (None, 198, 128)          0         \n",
            "                                                                 \n",
            " max_pooling1d_4 (MaxPooling  (None, 99, 128)          0         \n",
            " 1D)                                                             \n",
            "                                                                 \n",
            " conv1d_5 (Conv1D)           (None, 97, 256)           98560     \n",
            "                                                                 \n",
            " batch_normalization_8 (Batc  (None, 97, 256)          1024      \n",
            " hNormalization)                                                 \n",
            "                                                                 \n",
            " activation_8 (Activation)   (None, 97, 256)           0         \n",
            "                                                                 \n",
            " max_pooling1d_5 (MaxPooling  (None, 48, 256)          0         \n",
            " 1D)                                                             \n",
            "                                                                 \n",
            " conv1d_6 (Conv1D)           (None, 46, 512)           393728    \n",
            "                                                                 \n",
            " batch_normalization_9 (Batc  (None, 46, 512)          2048      \n",
            " hNormalization)                                                 \n",
            "                                                                 \n",
            " activation_9 (Activation)   (None, 46, 512)           0         \n",
            "                                                                 \n",
            " max_pooling1d_6 (MaxPooling  (None, 23, 512)          0         \n",
            " 1D)                                                             \n",
            "                                                                 \n",
            " conv1d_7 (Conv1D)           (None, 21, 1024)          1573888   \n",
            "                                                                 \n",
            " batch_normalization_10 (Bat  (None, 21, 1024)         4096      \n",
            " chNormalization)                                                \n",
            "                                                                 \n",
            " activation_10 (Activation)  (None, 21, 1024)          0         \n",
            "                                                                 \n",
            " max_pooling1d_7 (MaxPooling  (None, 10, 1024)         0         \n",
            " 1D)                                                             \n",
            "                                                                 \n",
            " flatten_2 (Flatten)         (None, 10240)             0         \n",
            "                                                                 \n",
            " dense_7 (Dense)             (None, 512)               5243392   \n",
            "                                                                 \n",
            " batch_normalization_11 (Bat  (None, 512)              2048      \n",
            " chNormalization)                                                \n",
            "                                                                 \n",
            " activation_11 (Activation)  (None, 512)               0         \n",
            "                                                                 \n",
            " dropout_5 (Dropout)         (None, 512)               0         \n",
            "                                                                 \n",
            " dense_8 (Dense)             (None, 256)               131328    \n",
            "                                                                 \n",
            " batch_normalization_12 (Bat  (None, 256)              1024      \n",
            " chNormalization)                                                \n",
            "                                                                 \n",
            " activation_12 (Activation)  (None, 256)               0         \n",
            "                                                                 \n",
            " dropout_6 (Dropout)         (None, 256)               0         \n",
            "                                                                 \n",
            " dense_9 (Dense)             (None, 128)               32896     \n",
            "                                                                 \n",
            " batch_normalization_13 (Bat  (None, 128)              512       \n",
            " chNormalization)                                                \n",
            "                                                                 \n",
            " activation_13 (Activation)  (None, 128)               0         \n",
            "                                                                 \n",
            " dropout_7 (Dropout)         (None, 128)               0         \n",
            "                                                                 \n",
            " dense_10 (Dense)            (None, 6)                 774       \n",
            "                                                                 \n",
            "=================================================================\n",
            "Total params: 7,486,342\n",
            "Trainable params: 7,480,710\n",
            "Non-trainable params: 5,632\n",
            "_________________________________________________________________\n"
          ]
        },
        {
          "output_type": "stream",
          "name": "stderr",
          "text": [
            "/usr/local/lib/python3.10/dist-packages/keras/optimizers/legacy/adam.py:117: UserWarning: The `lr` argument is deprecated, use `learning_rate` instead.\n",
            "  super().__init__(name, **kwargs)\n"
          ]
        },
        {
          "output_type": "stream",
          "name": "stdout",
          "text": [
            "Epoch 1/50\n",
            "233/233 [==============================] - 8s 23ms/step - loss: 3.4641 - accuracy: 0.2769 - val_loss: 3.5970 - val_accuracy: 0.1464\n",
            "Epoch 2/50\n",
            "233/233 [==============================] - 4s 18ms/step - loss: 2.8334 - accuracy: 0.3184 - val_loss: 3.0989 - val_accuracy: 0.1493\n",
            "Epoch 3/50\n",
            "233/233 [==============================] - 5s 22ms/step - loss: 2.5740 - accuracy: 0.3364 - val_loss: 2.4826 - val_accuracy: 0.3419\n",
            "Epoch 4/50\n",
            "233/233 [==============================] - 5s 19ms/step - loss: 2.4003 - accuracy: 0.3614 - val_loss: 2.3931 - val_accuracy: 0.3345\n",
            "Epoch 5/50\n",
            "233/233 [==============================] - 4s 18ms/step - loss: 2.2647 - accuracy: 0.3800 - val_loss: 2.5308 - val_accuracy: 0.2851\n",
            "Epoch 6/50\n",
            "233/233 [==============================] - 5s 21ms/step - loss: 2.1824 - accuracy: 0.3740 - val_loss: 2.3478 - val_accuracy: 0.2699\n",
            "Epoch 7/50\n",
            "233/233 [==============================] - 4s 18ms/step - loss: 2.0951 - accuracy: 0.3910 - val_loss: 2.1000 - val_accuracy: 0.3787\n",
            "Epoch 8/50\n",
            "233/233 [==============================] - 5s 20ms/step - loss: 2.0204 - accuracy: 0.3943 - val_loss: 2.0476 - val_accuracy: 0.3628\n",
            "Epoch 9/50\n",
            "233/233 [==============================] - 5s 21ms/step - loss: 1.9465 - accuracy: 0.4051 - val_loss: 2.0422 - val_accuracy: 0.3368\n",
            "Epoch 10/50\n",
            "233/233 [==============================] - 4s 18ms/step - loss: 1.9005 - accuracy: 0.4126 - val_loss: 2.2241 - val_accuracy: 0.2753\n",
            "Epoch 11/50\n",
            "233/233 [==============================] - 4s 18ms/step - loss: 1.8436 - accuracy: 0.4182 - val_loss: 1.9487 - val_accuracy: 0.3618\n",
            "Epoch 12/50\n",
            "233/233 [==============================] - 5s 22ms/step - loss: 1.8102 - accuracy: 0.4197 - val_loss: 1.9930 - val_accuracy: 0.3190\n",
            "Epoch 13/50\n",
            "233/233 [==============================] - 4s 18ms/step - loss: 1.7787 - accuracy: 0.4191 - val_loss: 1.8466 - val_accuracy: 0.3444\n",
            "Epoch 14/50\n",
            "233/233 [==============================] - 4s 18ms/step - loss: 1.7303 - accuracy: 0.4334 - val_loss: 2.2103 - val_accuracy: 0.2782\n",
            "Epoch 15/50\n",
            "233/233 [==============================] - 5s 21ms/step - loss: 1.7160 - accuracy: 0.4270 - val_loss: 1.9278 - val_accuracy: 0.3281\n",
            "Epoch 16/50\n",
            "233/233 [==============================] - 5s 20ms/step - loss: 1.6783 - accuracy: 0.4350 - val_loss: 1.9742 - val_accuracy: 0.2670\n",
            "Epoch 17/50\n",
            "233/233 [==============================] - 5s 19ms/step - loss: 1.6570 - accuracy: 0.4396 - val_loss: 2.1436 - val_accuracy: 0.2766\n",
            "Epoch 18/50\n",
            "233/233 [==============================] - 5s 22ms/step - loss: 1.6420 - accuracy: 0.4400 - val_loss: 1.7529 - val_accuracy: 0.3890\n",
            "Epoch 19/50\n",
            "233/233 [==============================] - 4s 18ms/step - loss: 1.6174 - accuracy: 0.4454 - val_loss: 1.9588 - val_accuracy: 0.3112\n",
            "Epoch 20/50\n",
            "233/233 [==============================] - 4s 18ms/step - loss: 1.6072 - accuracy: 0.4573 - val_loss: 2.1183 - val_accuracy: 0.3132\n",
            "Epoch 21/50\n",
            "233/233 [==============================] - 5s 21ms/step - loss: 1.5939 - accuracy: 0.4529 - val_loss: 1.7213 - val_accuracy: 0.3462\n",
            "Epoch 22/50\n",
            "233/233 [==============================] - 4s 19ms/step - loss: 1.5816 - accuracy: 0.4615 - val_loss: 1.9106 - val_accuracy: 0.2855\n",
            "Epoch 23/50\n",
            "233/233 [==============================] - 4s 18ms/step - loss: 1.5734 - accuracy: 0.4619 - val_loss: 1.9954 - val_accuracy: 0.2949\n",
            "Epoch 24/50\n",
            "233/233 [==============================] - 5s 21ms/step - loss: 1.5573 - accuracy: 0.4709 - val_loss: 1.8151 - val_accuracy: 0.3284\n",
            "Epoch 25/50\n",
            "233/233 [==============================] - 5s 20ms/step - loss: 1.5470 - accuracy: 0.4728 - val_loss: 1.7557 - val_accuracy: 0.3779\n",
            "Epoch 26/50\n",
            "233/233 [==============================] - 5s 20ms/step - loss: 1.5193 - accuracy: 0.4784 - val_loss: 1.6352 - val_accuracy: 0.4211\n",
            "Epoch 27/50\n",
            "233/233 [==============================] - 5s 21ms/step - loss: 1.4958 - accuracy: 0.4951 - val_loss: 1.5533 - val_accuracy: 0.4696\n",
            "Epoch 28/50\n",
            "233/233 [==============================] - 5s 20ms/step - loss: 1.4797 - accuracy: 0.4976 - val_loss: 1.9216 - val_accuracy: 0.3950\n",
            "Epoch 29/50\n",
            "233/233 [==============================] - 4s 18ms/step - loss: 1.4771 - accuracy: 0.5024 - val_loss: 1.9456 - val_accuracy: 0.3482\n",
            "Epoch 30/50\n",
            "233/233 [==============================] - 5s 21ms/step - loss: 1.4564 - accuracy: 0.5143 - val_loss: 2.0177 - val_accuracy: 0.3482\n",
            "Epoch 31/50\n",
            "233/233 [==============================] - 5s 20ms/step - loss: 1.4309 - accuracy: 0.5198 - val_loss: 2.2193 - val_accuracy: 0.2640\n",
            "Epoch 32/50\n",
            "233/233 [==============================] - 5s 19ms/step - loss: 1.4158 - accuracy: 0.5304 - val_loss: 1.9371 - val_accuracy: 0.3448\n",
            "Epoch 33/50\n",
            "233/233 [==============================] - 5s 22ms/step - loss: 1.4193 - accuracy: 0.5288 - val_loss: 1.9266 - val_accuracy: 0.3251\n",
            "Epoch 34/50\n",
            "233/233 [==============================] - 4s 19ms/step - loss: 1.3926 - accuracy: 0.5435 - val_loss: 1.5623 - val_accuracy: 0.4686\n",
            "Epoch 35/50\n",
            "233/233 [==============================] - 4s 19ms/step - loss: 1.3675 - accuracy: 0.5541 - val_loss: 1.6481 - val_accuracy: 0.4138\n",
            "Epoch 36/50\n",
            "233/233 [==============================] - 5s 22ms/step - loss: 1.3472 - accuracy: 0.5604 - val_loss: 1.4375 - val_accuracy: 0.5327\n",
            "Epoch 37/50\n",
            "233/233 [==============================] - 5s 20ms/step - loss: 1.3337 - accuracy: 0.5691 - val_loss: 1.6482 - val_accuracy: 0.4489\n",
            "Epoch 38/50\n",
            "233/233 [==============================] - 5s 20ms/step - loss: 1.3125 - accuracy: 0.5854 - val_loss: 1.8844 - val_accuracy: 0.3864\n",
            "Epoch 39/50\n",
            "233/233 [==============================] - 5s 22ms/step - loss: 1.2871 - accuracy: 0.5941 - val_loss: 2.1835 - val_accuracy: 0.3372\n",
            "Epoch 40/50\n",
            "233/233 [==============================] - 4s 18ms/step - loss: 1.2508 - accuracy: 0.6089 - val_loss: 1.6908 - val_accuracy: 0.4633\n",
            "Epoch 41/50\n",
            "233/233 [==============================] - 4s 18ms/step - loss: 1.2442 - accuracy: 0.6155 - val_loss: 1.4940 - val_accuracy: 0.4775\n",
            "Epoch 42/50\n",
            "233/233 [==============================] - 5s 22ms/step - loss: 1.2179 - accuracy: 0.6284 - val_loss: 1.3883 - val_accuracy: 0.5474\n",
            "Epoch 43/50\n",
            "233/233 [==============================] - 5s 19ms/step - loss: 1.1839 - accuracy: 0.6461 - val_loss: 2.1688 - val_accuracy: 0.3431\n",
            "Epoch 44/50\n",
            "233/233 [==============================] - 4s 18ms/step - loss: 1.1752 - accuracy: 0.6458 - val_loss: 3.8242 - val_accuracy: 0.2174\n",
            "Epoch 45/50\n",
            "233/233 [==============================] - 5s 22ms/step - loss: 1.1443 - accuracy: 0.6598 - val_loss: 1.4314 - val_accuracy: 0.5338\n",
            "Epoch 46/50\n",
            "233/233 [==============================] - 4s 18ms/step - loss: 1.1274 - accuracy: 0.6675 - val_loss: 1.5479 - val_accuracy: 0.4533\n",
            "Epoch 47/50\n",
            "233/233 [==============================] - 4s 18ms/step - loss: 1.1149 - accuracy: 0.6786 - val_loss: 3.9568 - val_accuracy: 0.2707\n",
            "Epoch 48/50\n",
            "233/233 [==============================] - 5s 22ms/step - loss: 1.0672 - accuracy: 0.6937 - val_loss: 1.2827 - val_accuracy: 0.5834\n",
            "Epoch 49/50\n",
            "233/233 [==============================] - 5s 20ms/step - loss: 1.0531 - accuracy: 0.7056 - val_loss: 1.2539 - val_accuracy: 0.6171\n",
            "Epoch 50/50\n",
            "233/233 [==============================] - 5s 20ms/step - loss: 1.0257 - accuracy: 0.7060 - val_loss: 1.8974 - val_accuracy: 0.4200\n"
          ]
        }
      ]
    },
    {
      "cell_type": "markdown",
      "source": [
        "**Without Augmentation**"
      ],
      "metadata": {
        "id": "td_eFRqo9Rzx"
      }
    },
    {
      "cell_type": "code",
      "execution_count": null,
      "metadata": {
        "id": "KZf_P4CF6IoY"
      },
      "outputs": [],
      "source": [
        "def getMaxLen(audio_files):\n",
        "  max_length = 0\n",
        "  for audio_file in audio_files:\n",
        "    audio, _ = librosa.load(audio_file)\n",
        "    length = len(audio)\n",
        "    max_length = max(max_length, length)\n",
        "  return max_length"
      ]
    },
    {
      "cell_type": "code",
      "source": [
        "def loadAudioTime(audio_files):\n",
        "  classes = [\"SAD\", \"ANG\", \"DIS\", \"FEA\", \"HAP\", \"NEU\"]\n",
        "  #1D WITHOUT MEL\n",
        "  # max_length = getMaxLen(audio_files)\n",
        "  max_length = 200\n",
        "  D, Y = [], []\n",
        "  for audio_file in audio_files: \n",
        "    # load the audio file\n",
        "    audio, sr = lib.load(audio_file, sr=4444)\n",
        "    # extract zero crossing rate\n",
        "    zcr = zeroCrossingRate(audio)\n",
        "    # extract energy\n",
        "    rms = energy(audio)\n",
        "    # chroma stft\n",
        "    cs = chromaStft(audio, sr)\n",
        "    # mfcc\n",
        "    mfc = mfcc(audio, sr)\n",
        "    # extract mel spectrogram\n",
        "    #mel_spec = melSpectrogram(audio, sr).mean()\n",
        "    combined_features = np.concatenate(([rms, cs, mfc], (np.pad(zcr[0], (0, 300 - len(zcr[0]))))))\n",
        "    D.append(combined_features)\n",
        "    for cls in classes:\n",
        "      if re.search(cls, audio_file): Y.append(cls)\n",
        "  return D,Y\n",
        "  "
      ],
      "metadata": {
        "id": "1zNbQDDB6Ion"
      },
      "execution_count": null,
      "outputs": []
    },
    {
      "cell_type": "code",
      "execution_count": null,
      "metadata": {
        "id": "YET6vVv16Ion"
      },
      "outputs": [],
      "source": [
        "def loadAudioFreq(audio_files):\n",
        "  classes = [\"SAD\", \"ANG\", \"DIS\", \"FEA\", \"HAP\", \"NEU\"]\n",
        "  \n",
        "  # max_length = getMaxLen(audio_files)\n",
        "  max_length = 200\n",
        "  D, Y = [], []\n",
        "  for audio_file in audio_files: \n",
        "    # load the audio file\n",
        "    audio, sr = lib.load(audio_file, sr=4444)\n",
        "    # extract mel spectrogram\n",
        "    mel_spec = melSpectrogram(audio, sr)\n",
        "    D.append(mel_spec)\n",
        "    for cls in classes:\n",
        "      if re.search(cls, audio_file): Y.append(cls)\n",
        "    \n",
        "  return D, Y"
      ]
    },
    {
      "cell_type": "code",
      "source": [
        "D_time, Y_time = loadAudioTime(D_train)"
      ],
      "metadata": {
        "colab": {
          "base_uri": "https://localhost:8080/"
        },
        "outputId": "3650e8d4-7187-4999-c9d7-ab1dd9f850c1",
        "id": "8s3l7aas6Ioo"
      },
      "execution_count": null,
      "outputs": [
        {
          "output_type": "stream",
          "name": "stderr",
          "text": [
            "/usr/local/lib/python3.10/dist-packages/librosa/util/decorators.py:88: UserWarning: Trying to estimate tuning from empty frequency set.\n",
            "  return f(*args, **kwargs)\n"
          ]
        }
      ]
    },
    {
      "cell_type": "code",
      "source": [
        "D_time = np.array(D_time)\n",
        "D_time.shape"
      ],
      "metadata": {
        "colab": {
          "base_uri": "https://localhost:8080/"
        },
        "outputId": "14fbe60a-373c-446b-9187-e99baec92528",
        "id": "DztAzXHb6Ioo"
      },
      "execution_count": null,
      "outputs": [
        {
          "output_type": "execute_result",
          "data": {
            "text/plain": [
              "(5216, 303)"
            ]
          },
          "metadata": {},
          "execution_count": 57
        }
      ]
    },
    {
      "cell_type": "code",
      "source": [
        "unicheck = np.unique(Y_time, axis=0)\n",
        "print(f\"Check on time domain:\\n{unicheck}\")"
      ],
      "metadata": {
        "colab": {
          "base_uri": "https://localhost:8080/"
        },
        "outputId": "da73239d-d298-4e9e-b5a9-b0880c561f8b",
        "id": "3Y110ce56Ioo"
      },
      "execution_count": null,
      "outputs": [
        {
          "output_type": "stream",
          "name": "stdout",
          "text": [
            "Check on time domain:\n",
            "['ANG' 'DIS' 'FEA' 'HAP' 'NEU' 'SAD']\n"
          ]
        }
      ]
    },
    {
      "cell_type": "code",
      "source": [
        "df_time = pd.DataFrame(Y_time)\n",
        "df_time.head()"
      ],
      "metadata": {
        "colab": {
          "base_uri": "https://localhost:8080/",
          "height": 206
        },
        "outputId": "98c0fb1d-f923-430f-dab8-01610adf2cac",
        "id": "HCxTTbIk6Iop"
      },
      "execution_count": null,
      "outputs": [
        {
          "output_type": "execute_result",
          "data": {
            "text/plain": [
              "     0\n",
              "0  SAD\n",
              "1  FEA\n",
              "2  SAD\n",
              "3  ANG\n",
              "4  SAD"
            ],
            "text/html": [
              "\n",
              "  <div id=\"df-f94fa2ee-6a28-495e-9a3c-20869037ec41\">\n",
              "    <div class=\"colab-df-container\">\n",
              "      <div>\n",
              "<style scoped>\n",
              "    .dataframe tbody tr th:only-of-type {\n",
              "        vertical-align: middle;\n",
              "    }\n",
              "\n",
              "    .dataframe tbody tr th {\n",
              "        vertical-align: top;\n",
              "    }\n",
              "\n",
              "    .dataframe thead th {\n",
              "        text-align: right;\n",
              "    }\n",
              "</style>\n",
              "<table border=\"1\" class=\"dataframe\">\n",
              "  <thead>\n",
              "    <tr style=\"text-align: right;\">\n",
              "      <th></th>\n",
              "      <th>0</th>\n",
              "    </tr>\n",
              "  </thead>\n",
              "  <tbody>\n",
              "    <tr>\n",
              "      <th>0</th>\n",
              "      <td>SAD</td>\n",
              "    </tr>\n",
              "    <tr>\n",
              "      <th>1</th>\n",
              "      <td>FEA</td>\n",
              "    </tr>\n",
              "    <tr>\n",
              "      <th>2</th>\n",
              "      <td>SAD</td>\n",
              "    </tr>\n",
              "    <tr>\n",
              "      <th>3</th>\n",
              "      <td>ANG</td>\n",
              "    </tr>\n",
              "    <tr>\n",
              "      <th>4</th>\n",
              "      <td>SAD</td>\n",
              "    </tr>\n",
              "  </tbody>\n",
              "</table>\n",
              "</div>\n",
              "      <button class=\"colab-df-convert\" onclick=\"convertToInteractive('df-f94fa2ee-6a28-495e-9a3c-20869037ec41')\"\n",
              "              title=\"Convert this dataframe to an interactive table.\"\n",
              "              style=\"display:none;\">\n",
              "        \n",
              "  <svg xmlns=\"http://www.w3.org/2000/svg\" height=\"24px\"viewBox=\"0 0 24 24\"\n",
              "       width=\"24px\">\n",
              "    <path d=\"M0 0h24v24H0V0z\" fill=\"none\"/>\n",
              "    <path d=\"M18.56 5.44l.94 2.06.94-2.06 2.06-.94-2.06-.94-.94-2.06-.94 2.06-2.06.94zm-11 1L8.5 8.5l.94-2.06 2.06-.94-2.06-.94L8.5 2.5l-.94 2.06-2.06.94zm10 10l.94 2.06.94-2.06 2.06-.94-2.06-.94-.94-2.06-.94 2.06-2.06.94z\"/><path d=\"M17.41 7.96l-1.37-1.37c-.4-.4-.92-.59-1.43-.59-.52 0-1.04.2-1.43.59L10.3 9.45l-7.72 7.72c-.78.78-.78 2.05 0 2.83L4 21.41c.39.39.9.59 1.41.59.51 0 1.02-.2 1.41-.59l7.78-7.78 2.81-2.81c.8-.78.8-2.07 0-2.86zM5.41 20L4 18.59l7.72-7.72 1.47 1.35L5.41 20z\"/>\n",
              "  </svg>\n",
              "      </button>\n",
              "      \n",
              "  <style>\n",
              "    .colab-df-container {\n",
              "      display:flex;\n",
              "      flex-wrap:wrap;\n",
              "      gap: 12px;\n",
              "    }\n",
              "\n",
              "    .colab-df-convert {\n",
              "      background-color: #E8F0FE;\n",
              "      border: none;\n",
              "      border-radius: 50%;\n",
              "      cursor: pointer;\n",
              "      display: none;\n",
              "      fill: #1967D2;\n",
              "      height: 32px;\n",
              "      padding: 0 0 0 0;\n",
              "      width: 32px;\n",
              "    }\n",
              "\n",
              "    .colab-df-convert:hover {\n",
              "      background-color: #E2EBFA;\n",
              "      box-shadow: 0px 1px 2px rgba(60, 64, 67, 0.3), 0px 1px 3px 1px rgba(60, 64, 67, 0.15);\n",
              "      fill: #174EA6;\n",
              "    }\n",
              "\n",
              "    [theme=dark] .colab-df-convert {\n",
              "      background-color: #3B4455;\n",
              "      fill: #D2E3FC;\n",
              "    }\n",
              "\n",
              "    [theme=dark] .colab-df-convert:hover {\n",
              "      background-color: #434B5C;\n",
              "      box-shadow: 0px 1px 3px 1px rgba(0, 0, 0, 0.15);\n",
              "      filter: drop-shadow(0px 1px 2px rgba(0, 0, 0, 0.3));\n",
              "      fill: #FFFFFF;\n",
              "    }\n",
              "  </style>\n",
              "\n",
              "      <script>\n",
              "        const buttonEl =\n",
              "          document.querySelector('#df-f94fa2ee-6a28-495e-9a3c-20869037ec41 button.colab-df-convert');\n",
              "        buttonEl.style.display =\n",
              "          google.colab.kernel.accessAllowed ? 'block' : 'none';\n",
              "\n",
              "        async function convertToInteractive(key) {\n",
              "          const element = document.querySelector('#df-f94fa2ee-6a28-495e-9a3c-20869037ec41');\n",
              "          const dataTable =\n",
              "            await google.colab.kernel.invokeFunction('convertToInteractive',\n",
              "                                                     [key], {});\n",
              "          if (!dataTable) return;\n",
              "\n",
              "          const docLinkHtml = 'Like what you see? Visit the ' +\n",
              "            '<a target=\"_blank\" href=https://colab.research.google.com/notebooks/data_table.ipynb>data table notebook</a>'\n",
              "            + ' to learn more about interactive tables.';\n",
              "          element.innerHTML = '';\n",
              "          dataTable['output_type'] = 'display_data';\n",
              "          await google.colab.output.renderOutput(dataTable, element);\n",
              "          const docLink = document.createElement('div');\n",
              "          docLink.innerHTML = docLinkHtml;\n",
              "          element.appendChild(docLink);\n",
              "        }\n",
              "      </script>\n",
              "    </div>\n",
              "  </div>\n",
              "  "
            ]
          },
          "metadata": {},
          "execution_count": 59
        }
      ]
    },
    {
      "cell_type": "code",
      "source": [
        "# Use the get_dummies() method to one-hot encode the labels\n",
        "one_hot_labels = pd.get_dummies(df_time)\n",
        "\n",
        "# Convert the DataFrame to a NumPy array\n",
        "one_hot_labels = one_hot_labels.to_numpy()\n",
        "\n",
        "print(one_hot_labels.shape)"
      ],
      "metadata": {
        "colab": {
          "base_uri": "https://localhost:8080/"
        },
        "outputId": "f05cde55-e796-4f92-d386-4411d8140c22",
        "id": "BdLj2OyB6Iop"
      },
      "execution_count": null,
      "outputs": [
        {
          "output_type": "stream",
          "name": "stdout",
          "text": [
            "(5216, 6)\n"
          ]
        }
      ]
    },
    {
      "cell_type": "code",
      "source": [
        "Y_time = one_hot_labels\n",
        "Y_time.shape"
      ],
      "metadata": {
        "colab": {
          "base_uri": "https://localhost:8080/"
        },
        "outputId": "8f42d8c7-425e-4204-ce93-3b42510431fa",
        "id": "hf20_Bqn6Iop"
      },
      "execution_count": null,
      "outputs": [
        {
          "output_type": "execute_result",
          "data": {
            "text/plain": [
              "(5216, 6)"
            ]
          },
          "metadata": {},
          "execution_count": 61
        }
      ]
    },
    {
      "cell_type": "code",
      "source": [
        "# Apply PCA to the data\n",
        "pca = PCA(n_components=200)\n",
        "D_pca = pca.fit_transform(D_time)"
      ],
      "metadata": {
        "id": "CHNqhN5M6Iop"
      },
      "execution_count": null,
      "outputs": []
    },
    {
      "cell_type": "code",
      "source": [
        "# Split the data into train and test sets\n",
        "x_train, x_test, y_train, y_test = train_test_split(np.array(D_pca), np.array(Y_time), test_size=0.05, random_state=69, shuffle=True, stratify=Y_time)\n",
        "print((x_train.shape, y_train.shape, x_test.shape, y_test.shape))\n",
        "\n",
        "x_train = x_train.reshape((x_train.shape[0], x_train.shape[1], 1))\n",
        "x_test = x_test.reshape((x_test.shape[0], x_test.shape[1], 1))\n",
        "\n",
        "model = Sequential()\n",
        "model.add(Conv1D(128, 3, input_shape=(x_train.shape[1], 1), kernel_regularizer=regularizers.l2(0.001)))\n",
        "model.add(BatchNormalization())\n",
        "model.add(Activation('relu'))\n",
        "model.add(MaxPooling1D(pool_size=2))\n",
        "\n",
        "model.add(Conv1D(256, 3, kernel_regularizer=regularizers.l2(0.001)))\n",
        "model.add(BatchNormalization())\n",
        "model.add(Activation('relu'))\n",
        "model.add(MaxPooling1D(pool_size=2))\n",
        "\n",
        "model.add(Conv1D(512, 3, kernel_regularizer=regularizers.l2(0.001)))\n",
        "model.add(BatchNormalization())\n",
        "model.add(Activation('relu'))\n",
        "model.add(MaxPooling1D(pool_size=2))\n",
        "\n",
        "model.add(Conv1D(1024, 3,  kernel_regularizer=regularizers.l2(0.001)))\n",
        "model.add(BatchNormalization())\n",
        "model.add(Activation('relu'))\n",
        "model.add(MaxPooling1D(pool_size=2))\n",
        "\n",
        "model.add(Flatten())\n",
        "model.add(Dense(512, kernel_regularizer=regularizers.l2(0.001)))\n",
        "model.add(BatchNormalization())\n",
        "model.add(Activation('relu'))\n",
        "model.add(Dropout(0.3))\n",
        "\n",
        "model.add(Dense(256, kernel_regularizer=regularizers.l2(0.001)))\n",
        "model.add(BatchNormalization())\n",
        "model.add(Activation('relu'))\n",
        "model.add(Dropout(0.2))\n",
        "\n",
        "model.add(Dense(128, kernel_regularizer=regularizers.l2(0.001)))\n",
        "model.add(BatchNormalization())\n",
        "model.add(Activation('relu'))\n",
        "model.add(Dropout(0.2))\n",
        "\n",
        "model.add(Dense(6, activation='softmax'))\n",
        "\n",
        "model.compile(loss='categorical_crossentropy',\n",
        "             optimizer=optimizers.Adam(lr=0.0005),\n",
        "             metrics=['accuracy'])\n",
        "\n",
        "# Specify thecallbacks for the model\n",
        "callbacks = [EarlyStopping(monitor='val_loss', patience=10)]\n",
        "\n",
        "model.summary()\n",
        "\n",
        "# Train the model with early stopping\n",
        "history = model.fit(x_train, y_train,\n",
        "                    validation_data=(x_train, y_train),\n",
        "                    epochs=50,\n",
        "                    batch_size=32,\n",
        "                    callbacks=callbacks)"
      ],
      "metadata": {
        "colab": {
          "base_uri": "https://localhost:8080/"
        },
        "outputId": "36e8fb24-56ea-4b2d-feff-25c16251d5c9",
        "id": "O4bJ2wOo6Ioq"
      },
      "execution_count": null,
      "outputs": [
        {
          "output_type": "stream",
          "name": "stdout",
          "text": [
            "((4955, 200), (4955, 6), (261, 200), (261, 6))\n",
            "Model: \"sequential_3\"\n",
            "_________________________________________________________________\n",
            " Layer (type)                Output Shape              Param #   \n",
            "=================================================================\n",
            " conv1d_8 (Conv1D)           (None, 198, 128)          512       \n",
            "                                                                 \n",
            " batch_normalization_14 (Bat  (None, 198, 128)         512       \n",
            " chNormalization)                                                \n",
            "                                                                 \n",
            " activation_14 (Activation)  (None, 198, 128)          0         \n",
            "                                                                 \n",
            " max_pooling1d_8 (MaxPooling  (None, 99, 128)          0         \n",
            " 1D)                                                             \n",
            "                                                                 \n",
            " conv1d_9 (Conv1D)           (None, 97, 256)           98560     \n",
            "                                                                 \n",
            " batch_normalization_15 (Bat  (None, 97, 256)          1024      \n",
            " chNormalization)                                                \n",
            "                                                                 \n",
            " activation_15 (Activation)  (None, 97, 256)           0         \n",
            "                                                                 \n",
            " max_pooling1d_9 (MaxPooling  (None, 48, 256)          0         \n",
            " 1D)                                                             \n",
            "                                                                 \n",
            " conv1d_10 (Conv1D)          (None, 46, 512)           393728    \n",
            "                                                                 \n",
            " batch_normalization_16 (Bat  (None, 46, 512)          2048      \n",
            " chNormalization)                                                \n",
            "                                                                 \n",
            " activation_16 (Activation)  (None, 46, 512)           0         \n",
            "                                                                 \n",
            " max_pooling1d_10 (MaxPoolin  (None, 23, 512)          0         \n",
            " g1D)                                                            \n",
            "                                                                 \n",
            " conv1d_11 (Conv1D)          (None, 21, 1024)          1573888   \n",
            "                                                                 \n",
            " batch_normalization_17 (Bat  (None, 21, 1024)         4096      \n",
            " chNormalization)                                                \n",
            "                                                                 \n",
            " activation_17 (Activation)  (None, 21, 1024)          0         \n",
            "                                                                 \n",
            " max_pooling1d_11 (MaxPoolin  (None, 10, 1024)         0         \n",
            " g1D)                                                            \n",
            "                                                                 \n",
            " flatten_3 (Flatten)         (None, 10240)             0         \n",
            "                                                                 \n",
            " dense_11 (Dense)            (None, 512)               5243392   \n",
            "                                                                 \n",
            " batch_normalization_18 (Bat  (None, 512)              2048      \n",
            " chNormalization)                                                \n",
            "                                                                 \n",
            " activation_18 (Activation)  (None, 512)               0         \n",
            "                                                                 \n",
            " dropout_8 (Dropout)         (None, 512)               0         \n",
            "                                                                 \n",
            " dense_12 (Dense)            (None, 256)               131328    \n",
            "                                                                 \n",
            " batch_normalization_19 (Bat  (None, 256)              1024      \n",
            " chNormalization)                                                \n",
            "                                                                 \n",
            " activation_19 (Activation)  (None, 256)               0         \n",
            "                                                                 \n",
            " dropout_9 (Dropout)         (None, 256)               0         \n",
            "                                                                 \n",
            " dense_13 (Dense)            (None, 128)               32896     \n",
            "                                                                 \n",
            " batch_normalization_20 (Bat  (None, 128)              512       \n",
            " chNormalization)                                                \n",
            "                                                                 \n",
            " activation_20 (Activation)  (None, 128)               0         \n",
            "                                                                 \n",
            " dropout_10 (Dropout)        (None, 128)               0         \n",
            "                                                                 \n",
            " dense_14 (Dense)            (None, 6)                 774       \n",
            "                                                                 \n",
            "=================================================================\n",
            "Total params: 7,486,342\n",
            "Trainable params: 7,480,710\n",
            "Non-trainable params: 5,632\n",
            "_________________________________________________________________\n"
          ]
        },
        {
          "output_type": "stream",
          "name": "stderr",
          "text": [
            "/usr/local/lib/python3.10/dist-packages/keras/optimizers/legacy/adam.py:117: UserWarning: The `lr` argument is deprecated, use `learning_rate` instead.\n",
            "  super().__init__(name, **kwargs)\n"
          ]
        },
        {
          "output_type": "stream",
          "name": "stdout",
          "text": [
            "Epoch 1/50\n",
            "155/155 [==============================] - 8s 32ms/step - loss: 3.5517 - accuracy: 0.3017 - val_loss: 3.8160 - val_accuracy: 0.1487\n",
            "Epoch 2/50\n",
            "155/155 [==============================] - 4s 27ms/step - loss: 2.9751 - accuracy: 0.3453 - val_loss: 3.9389 - val_accuracy: 0.1485\n",
            "Epoch 3/50\n",
            "155/155 [==============================] - 4s 23ms/step - loss: 2.7073 - accuracy: 0.3556 - val_loss: 3.1230 - val_accuracy: 0.1713\n",
            "Epoch 4/50\n",
            "155/155 [==============================] - 4s 24ms/step - loss: 2.5311 - accuracy: 0.3713 - val_loss: 2.7442 - val_accuracy: 0.2367\n",
            "Epoch 5/50\n",
            "155/155 [==============================] - 4s 26ms/step - loss: 2.4056 - accuracy: 0.3816 - val_loss: 2.6156 - val_accuracy: 0.2767\n",
            "Epoch 6/50\n",
            "155/155 [==============================] - 3s 22ms/step - loss: 2.3046 - accuracy: 0.4014 - val_loss: 2.2470 - val_accuracy: 0.4113\n",
            "Epoch 7/50\n",
            "155/155 [==============================] - 3s 22ms/step - loss: 2.2187 - accuracy: 0.4061 - val_loss: 2.4193 - val_accuracy: 0.3407\n",
            "Epoch 8/50\n",
            "155/155 [==============================] - 3s 18ms/step - loss: 2.1580 - accuracy: 0.4048 - val_loss: 2.1403 - val_accuracy: 0.4200\n",
            "Epoch 9/50\n",
            "155/155 [==============================] - 3s 18ms/step - loss: 2.1049 - accuracy: 0.4095 - val_loss: 2.1573 - val_accuracy: 0.3728\n",
            "Epoch 10/50\n",
            "155/155 [==============================] - 3s 22ms/step - loss: 2.0282 - accuracy: 0.4297 - val_loss: 2.1677 - val_accuracy: 0.3372\n",
            "Epoch 11/50\n",
            "155/155 [==============================] - 4s 26ms/step - loss: 1.9860 - accuracy: 0.4289 - val_loss: 1.9323 - val_accuracy: 0.4287\n",
            "Epoch 12/50\n",
            "155/155 [==============================] - 3s 22ms/step - loss: 1.9401 - accuracy: 0.4361 - val_loss: 2.0980 - val_accuracy: 0.3639\n",
            "Epoch 13/50\n",
            "155/155 [==============================] - 3s 18ms/step - loss: 1.8905 - accuracy: 0.4377 - val_loss: 2.0268 - val_accuracy: 0.3594\n",
            "Epoch 14/50\n",
            "155/155 [==============================] - 3s 18ms/step - loss: 1.8366 - accuracy: 0.4607 - val_loss: 1.9609 - val_accuracy: 0.3790\n",
            "Epoch 15/50\n",
            "155/155 [==============================] - 4s 26ms/step - loss: 1.8079 - accuracy: 0.4488 - val_loss: 1.7813 - val_accuracy: 0.4678\n",
            "Epoch 16/50\n",
            "155/155 [==============================] - 3s 22ms/step - loss: 1.7733 - accuracy: 0.4664 - val_loss: 2.1132 - val_accuracy: 0.3316\n",
            "Epoch 17/50\n",
            "155/155 [==============================] - 3s 18ms/step - loss: 1.7518 - accuracy: 0.4767 - val_loss: 1.8964 - val_accuracy: 0.4176\n",
            "Epoch 18/50\n",
            "155/155 [==============================] - 3s 18ms/step - loss: 1.7072 - accuracy: 0.4817 - val_loss: 1.8346 - val_accuracy: 0.4192\n",
            "Epoch 19/50\n",
            "155/155 [==============================] - 4s 25ms/step - loss: 1.6868 - accuracy: 0.4759 - val_loss: 1.8562 - val_accuracy: 0.3841\n",
            "Epoch 20/50\n",
            "155/155 [==============================] - 3s 19ms/step - loss: 1.6673 - accuracy: 0.4864 - val_loss: 1.7497 - val_accuracy: 0.4466\n",
            "Epoch 21/50\n",
            "155/155 [==============================] - 3s 18ms/step - loss: 1.6361 - accuracy: 0.4967 - val_loss: 1.6869 - val_accuracy: 0.4684\n",
            "Epoch 22/50\n",
            "155/155 [==============================] - 3s 22ms/step - loss: 1.6164 - accuracy: 0.5005 - val_loss: 1.7639 - val_accuracy: 0.4442\n",
            "Epoch 23/50\n",
            "155/155 [==============================] - 4s 24ms/step - loss: 1.5793 - accuracy: 0.5082 - val_loss: 1.6181 - val_accuracy: 0.4735\n",
            "Epoch 24/50\n",
            "155/155 [==============================] - 3s 19ms/step - loss: 1.5528 - accuracy: 0.5203 - val_loss: 2.0322 - val_accuracy: 0.3879\n",
            "Epoch 25/50\n",
            "155/155 [==============================] - 3s 18ms/step - loss: 1.5302 - accuracy: 0.5326 - val_loss: 1.8066 - val_accuracy: 0.4200\n",
            "Epoch 26/50\n",
            "155/155 [==============================] - 3s 18ms/step - loss: 1.4969 - accuracy: 0.5463 - val_loss: 1.7651 - val_accuracy: 0.4236\n",
            "Epoch 27/50\n",
            "155/155 [==============================] - 3s 22ms/step - loss: 1.4805 - accuracy: 0.5479 - val_loss: 1.5723 - val_accuracy: 0.5017\n",
            "Epoch 28/50\n",
            "155/155 [==============================] - 3s 22ms/step - loss: 1.4578 - accuracy: 0.5633 - val_loss: 1.9534 - val_accuracy: 0.3352\n",
            "Epoch 29/50\n",
            "155/155 [==============================] - 3s 18ms/step - loss: 1.4131 - accuracy: 0.5790 - val_loss: 1.6537 - val_accuracy: 0.4936\n",
            "Epoch 30/50\n",
            "155/155 [==============================] - 3s 22ms/step - loss: 1.3842 - accuracy: 0.5895 - val_loss: 1.6590 - val_accuracy: 0.4706\n",
            "Epoch 31/50\n",
            "155/155 [==============================] - 3s 22ms/step - loss: 1.3558 - accuracy: 0.6010 - val_loss: 1.4272 - val_accuracy: 0.5909\n",
            "Epoch 32/50\n",
            "155/155 [==============================] - 3s 22ms/step - loss: 1.3422 - accuracy: 0.6135 - val_loss: 1.5458 - val_accuracy: 0.5277\n",
            "Epoch 33/50\n",
            "155/155 [==============================] - 3s 18ms/step - loss: 1.3067 - accuracy: 0.6321 - val_loss: 1.7798 - val_accuracy: 0.4174\n",
            "Epoch 34/50\n",
            "155/155 [==============================] - 3s 18ms/step - loss: 1.2795 - accuracy: 0.6448 - val_loss: 1.7253 - val_accuracy: 0.4321\n",
            "Epoch 35/50\n",
            "155/155 [==============================] - 3s 22ms/step - loss: 1.2385 - accuracy: 0.6632 - val_loss: 2.3907 - val_accuracy: 0.3181\n",
            "Epoch 36/50\n",
            "155/155 [==============================] - 4s 23ms/step - loss: 1.2339 - accuracy: 0.6591 - val_loss: 1.6418 - val_accuracy: 0.4896\n",
            "Epoch 37/50\n",
            "155/155 [==============================] - 3s 19ms/step - loss: 1.1529 - accuracy: 0.6906 - val_loss: 1.5776 - val_accuracy: 0.5175\n",
            "Epoch 38/50\n",
            "155/155 [==============================] - 3s 18ms/step - loss: 1.1380 - accuracy: 0.6965 - val_loss: 1.7614 - val_accuracy: 0.4163\n",
            "Epoch 39/50\n",
            "155/155 [==============================] - 3s 18ms/step - loss: 1.1113 - accuracy: 0.7122 - val_loss: 1.3098 - val_accuracy: 0.6444\n",
            "Epoch 40/50\n",
            "155/155 [==============================] - 3s 23ms/step - loss: 1.1136 - accuracy: 0.7122 - val_loss: 1.4117 - val_accuracy: 0.6125\n",
            "Epoch 41/50\n",
            "155/155 [==============================] - 3s 21ms/step - loss: 1.0797 - accuracy: 0.7275 - val_loss: 2.2630 - val_accuracy: 0.3316\n",
            "Epoch 42/50\n",
            "155/155 [==============================] - 3s 18ms/step - loss: 1.0119 - accuracy: 0.7582 - val_loss: 2.0906 - val_accuracy: 0.4404\n",
            "Epoch 43/50\n",
            "155/155 [==============================] - 3s 22ms/step - loss: 0.9999 - accuracy: 0.7608 - val_loss: 2.1273 - val_accuracy: 0.3637\n",
            "Epoch 44/50\n",
            "155/155 [==============================] - 3s 19ms/step - loss: 0.9605 - accuracy: 0.7701 - val_loss: 1.4480 - val_accuracy: 0.6016\n",
            "Epoch 45/50\n",
            "155/155 [==============================] - 4s 23ms/step - loss: 0.9490 - accuracy: 0.7859 - val_loss: 1.4396 - val_accuracy: 0.5946\n",
            "Epoch 46/50\n",
            "155/155 [==============================] - 3s 18ms/step - loss: 0.9288 - accuracy: 0.7895 - val_loss: 1.5184 - val_accuracy: 0.5768\n",
            "Epoch 47/50\n",
            "155/155 [==============================] - 3s 18ms/step - loss: 0.9123 - accuracy: 0.7998 - val_loss: 2.1998 - val_accuracy: 0.4307\n",
            "Epoch 48/50\n",
            "155/155 [==============================] - 3s 18ms/step - loss: 0.8902 - accuracy: 0.8093 - val_loss: 1.5888 - val_accuracy: 0.5421\n",
            "Epoch 49/50\n",
            "155/155 [==============================] - 3s 21ms/step - loss: 0.8684 - accuracy: 0.8210 - val_loss: 1.6504 - val_accuracy: 0.5602\n"
          ]
        }
      ]
    },
    {
      "cell_type": "code",
      "execution_count": null,
      "metadata": {
        "id": "CIu3nLHO8p4K"
      },
      "outputs": [],
      "source": [
        "D_freq, Y_freq = loadAudioFreq(D_train)"
      ]
    },
    {
      "cell_type": "code",
      "source": [
        "unicheck = np.unique(Y_freq, axis=0)\n",
        "print(f\"Check on freq domain:\\n{unicheck}\")"
      ],
      "metadata": {
        "colab": {
          "base_uri": "https://localhost:8080/"
        },
        "outputId": "eb89615d-47e1-4719-cb68-2f4531b14f1c",
        "id": "Ypr0iN938p4U"
      },
      "execution_count": null,
      "outputs": [
        {
          "output_type": "stream",
          "name": "stdout",
          "text": [
            "Check on freq domain:\n",
            "['ANG' 'DIS' 'FEA' 'HAP' 'NEU' 'SAD']\n"
          ]
        }
      ]
    },
    {
      "cell_type": "code",
      "execution_count": null,
      "metadata": {
        "colab": {
          "base_uri": "https://localhost:8080/",
          "height": 206
        },
        "outputId": "8b825da5-8d6b-4f80-df8f-138d93f6af59",
        "id": "jmGiBzMH8p4U"
      },
      "outputs": [
        {
          "output_type": "execute_result",
          "data": {
            "text/plain": [
              "     0\n",
              "0  SAD\n",
              "1  FEA\n",
              "2  SAD\n",
              "3  ANG\n",
              "4  SAD"
            ],
            "text/html": [
              "\n",
              "  <div id=\"df-a32d3b1f-7d67-43a3-8230-a7c8f0e89d94\">\n",
              "    <div class=\"colab-df-container\">\n",
              "      <div>\n",
              "<style scoped>\n",
              "    .dataframe tbody tr th:only-of-type {\n",
              "        vertical-align: middle;\n",
              "    }\n",
              "\n",
              "    .dataframe tbody tr th {\n",
              "        vertical-align: top;\n",
              "    }\n",
              "\n",
              "    .dataframe thead th {\n",
              "        text-align: right;\n",
              "    }\n",
              "</style>\n",
              "<table border=\"1\" class=\"dataframe\">\n",
              "  <thead>\n",
              "    <tr style=\"text-align: right;\">\n",
              "      <th></th>\n",
              "      <th>0</th>\n",
              "    </tr>\n",
              "  </thead>\n",
              "  <tbody>\n",
              "    <tr>\n",
              "      <th>0</th>\n",
              "      <td>SAD</td>\n",
              "    </tr>\n",
              "    <tr>\n",
              "      <th>1</th>\n",
              "      <td>FEA</td>\n",
              "    </tr>\n",
              "    <tr>\n",
              "      <th>2</th>\n",
              "      <td>SAD</td>\n",
              "    </tr>\n",
              "    <tr>\n",
              "      <th>3</th>\n",
              "      <td>ANG</td>\n",
              "    </tr>\n",
              "    <tr>\n",
              "      <th>4</th>\n",
              "      <td>SAD</td>\n",
              "    </tr>\n",
              "  </tbody>\n",
              "</table>\n",
              "</div>\n",
              "      <button class=\"colab-df-convert\" onclick=\"convertToInteractive('df-a32d3b1f-7d67-43a3-8230-a7c8f0e89d94')\"\n",
              "              title=\"Convert this dataframe to an interactive table.\"\n",
              "              style=\"display:none;\">\n",
              "        \n",
              "  <svg xmlns=\"http://www.w3.org/2000/svg\" height=\"24px\"viewBox=\"0 0 24 24\"\n",
              "       width=\"24px\">\n",
              "    <path d=\"M0 0h24v24H0V0z\" fill=\"none\"/>\n",
              "    <path d=\"M18.56 5.44l.94 2.06.94-2.06 2.06-.94-2.06-.94-.94-2.06-.94 2.06-2.06.94zm-11 1L8.5 8.5l.94-2.06 2.06-.94-2.06-.94L8.5 2.5l-.94 2.06-2.06.94zm10 10l.94 2.06.94-2.06 2.06-.94-2.06-.94-.94-2.06-.94 2.06-2.06.94z\"/><path d=\"M17.41 7.96l-1.37-1.37c-.4-.4-.92-.59-1.43-.59-.52 0-1.04.2-1.43.59L10.3 9.45l-7.72 7.72c-.78.78-.78 2.05 0 2.83L4 21.41c.39.39.9.59 1.41.59.51 0 1.02-.2 1.41-.59l7.78-7.78 2.81-2.81c.8-.78.8-2.07 0-2.86zM5.41 20L4 18.59l7.72-7.72 1.47 1.35L5.41 20z\"/>\n",
              "  </svg>\n",
              "      </button>\n",
              "      \n",
              "  <style>\n",
              "    .colab-df-container {\n",
              "      display:flex;\n",
              "      flex-wrap:wrap;\n",
              "      gap: 12px;\n",
              "    }\n",
              "\n",
              "    .colab-df-convert {\n",
              "      background-color: #E8F0FE;\n",
              "      border: none;\n",
              "      border-radius: 50%;\n",
              "      cursor: pointer;\n",
              "      display: none;\n",
              "      fill: #1967D2;\n",
              "      height: 32px;\n",
              "      padding: 0 0 0 0;\n",
              "      width: 32px;\n",
              "    }\n",
              "\n",
              "    .colab-df-convert:hover {\n",
              "      background-color: #E2EBFA;\n",
              "      box-shadow: 0px 1px 2px rgba(60, 64, 67, 0.3), 0px 1px 3px 1px rgba(60, 64, 67, 0.15);\n",
              "      fill: #174EA6;\n",
              "    }\n",
              "\n",
              "    [theme=dark] .colab-df-convert {\n",
              "      background-color: #3B4455;\n",
              "      fill: #D2E3FC;\n",
              "    }\n",
              "\n",
              "    [theme=dark] .colab-df-convert:hover {\n",
              "      background-color: #434B5C;\n",
              "      box-shadow: 0px 1px 3px 1px rgba(0, 0, 0, 0.15);\n",
              "      filter: drop-shadow(0px 1px 2px rgba(0, 0, 0, 0.3));\n",
              "      fill: #FFFFFF;\n",
              "    }\n",
              "  </style>\n",
              "\n",
              "      <script>\n",
              "        const buttonEl =\n",
              "          document.querySelector('#df-a32d3b1f-7d67-43a3-8230-a7c8f0e89d94 button.colab-df-convert');\n",
              "        buttonEl.style.display =\n",
              "          google.colab.kernel.accessAllowed ? 'block' : 'none';\n",
              "\n",
              "        async function convertToInteractive(key) {\n",
              "          const element = document.querySelector('#df-a32d3b1f-7d67-43a3-8230-a7c8f0e89d94');\n",
              "          const dataTable =\n",
              "            await google.colab.kernel.invokeFunction('convertToInteractive',\n",
              "                                                     [key], {});\n",
              "          if (!dataTable) return;\n",
              "\n",
              "          const docLinkHtml = 'Like what you see? Visit the ' +\n",
              "            '<a target=\"_blank\" href=https://colab.research.google.com/notebooks/data_table.ipynb>data table notebook</a>'\n",
              "            + ' to learn more about interactive tables.';\n",
              "          element.innerHTML = '';\n",
              "          dataTable['output_type'] = 'display_data';\n",
              "          await google.colab.output.renderOutput(dataTable, element);\n",
              "          const docLink = document.createElement('div');\n",
              "          docLink.innerHTML = docLinkHtml;\n",
              "          element.appendChild(docLink);\n",
              "        }\n",
              "      </script>\n",
              "    </div>\n",
              "  </div>\n",
              "  "
            ]
          },
          "metadata": {},
          "execution_count": 66
        }
      ],
      "source": [
        "df_freq = pd.DataFrame(Y_freq)\n",
        "df_freq.head()"
      ]
    },
    {
      "cell_type": "code",
      "execution_count": null,
      "metadata": {
        "colab": {
          "base_uri": "https://localhost:8080/"
        },
        "outputId": "46c90dca-de84-4002-9841-459420e1762c",
        "id": "T1KWaTGn8p4V"
      },
      "outputs": [
        {
          "output_type": "stream",
          "name": "stdout",
          "text": [
            "(5216, 6)\n"
          ]
        }
      ],
      "source": [
        "# Use the get_dummies() method to one-hot encode the labels\n",
        "one_hot_labels = pd.get_dummies(df_freq)\n",
        "\n",
        "# Convert the DataFrame to a NumPy array\n",
        "one_hot_labels = one_hot_labels.to_numpy()\n",
        "\n",
        "print(one_hot_labels.shape)"
      ]
    },
    {
      "cell_type": "code",
      "execution_count": null,
      "metadata": {
        "colab": {
          "base_uri": "https://localhost:8080/"
        },
        "outputId": "9f90d436-809f-47f3-a785-3b38fab5e91f",
        "id": "LewtePj-8p4V"
      },
      "outputs": [
        {
          "output_type": "execute_result",
          "data": {
            "text/plain": [
              "(5216, 6)"
            ]
          },
          "metadata": {},
          "execution_count": 68
        }
      ],
      "source": [
        "Y_freq = one_hot_labels\n",
        "Y_freq.shape"
      ]
    },
    {
      "cell_type": "code",
      "source": [
        "for i, array in enumerate(D_freq):\n",
        "    D_freq[i] = np.pad(array, ((0, 0), (0, 256 - array.shape[1])))\n",
        "D_freq = np.array(D_freq)"
      ],
      "metadata": {
        "id": "6JgyykNi8p4V"
      },
      "execution_count": null,
      "outputs": []
    },
    {
      "cell_type": "code",
      "source": [
        "D_freq.shape"
      ],
      "metadata": {
        "colab": {
          "base_uri": "https://localhost:8080/"
        },
        "outputId": "4eae750f-fba8-4425-fddf-4c574d0b5975",
        "id": "i2XIxaET8p4V"
      },
      "execution_count": null,
      "outputs": [
        {
          "output_type": "execute_result",
          "data": {
            "text/plain": [
              "(5216, 64, 256)"
            ]
          },
          "metadata": {},
          "execution_count": 70
        }
      ]
    },
    {
      "cell_type": "code",
      "execution_count": null,
      "metadata": {
        "colab": {
          "base_uri": "https://localhost:8080/"
        },
        "outputId": "b7e646af-8480-4559-8d39-d6169a6f2276",
        "id": "0jXwVKS18p4V"
      },
      "outputs": [
        {
          "output_type": "stream",
          "name": "stdout",
          "text": [
            "((4955, 64, 256), (4955, 6), (261, 64, 256), (261, 6))\n"
          ]
        }
      ],
      "source": [
        "x_train, x_test, y_train, y_test = train_test_split(np.array(D_freq), np.array(Y_freq), test_size=0.05)\n",
        "print((x_train.shape, y_train.shape, x_test.shape, y_test.shape))"
      ]
    },
    {
      "cell_type": "code",
      "execution_count": null,
      "metadata": {
        "colab": {
          "base_uri": "https://localhost:8080/"
        },
        "outputId": "c657b93a-3f93-4665-f5ed-099ef0c06a8c",
        "id": "OMh7Uzrp8p4V"
      },
      "outputs": [
        {
          "output_type": "stream",
          "name": "stdout",
          "text": [
            "(4955, 64, 256, 1) (261, 64, 256, 1)\n"
          ]
        }
      ],
      "source": [
        "x_train = x_train.reshape((x_train.shape[0], x_train.shape[1], x_train.shape[2], 1))\n",
        "x_test = x_test.reshape((x_test.shape[0], x_test.shape[1], x_test.shape[2], 1))\n",
        "print(x_train.shape, x_test.shape)"
      ]
    },
    {
      "cell_type": "code",
      "source": [
        "model = Sequential()\n",
        "\n",
        "# Layer 1: Convolutional Layer\n",
        "model.add(Conv2D(32, (3, 3), activation='relu', input_shape=(x_train.shape[1], x_train.shape[2], 1)))\n",
        "model.add(MaxPooling2D(pool_size=(2, 2)))\n",
        "\n",
        "# Layer 2: Convolutional Layer\n",
        "model.add(Conv2D(64, (3, 3), activation='relu'))\n",
        "model.add(MaxPooling2D(pool_size=(2, 2)))\n",
        "\n",
        "# Layer 3: Convolutional Layer\n",
        "model.add(Conv2D(128, (3, 3), activation='relu'))\n",
        "model.add(MaxPooling2D(pool_size=(2, 2)))\n",
        "\n",
        "# Layer 4: Flatten Layer\n",
        "model.add(Flatten())\n",
        "\n",
        "# Layer 5: Fully Connected Layer\n",
        "model.add(Dense(256, activation='relu'))\n",
        "model.add(Dropout(0.5))\n",
        "\n",
        "# Layer 6: Fully Connected Layer\n",
        "model.add(Dense(128, activation='relu'))\n",
        "model.add(Dropout(0.5))\n",
        "\n",
        "# Layer 7: Output Layer\n",
        "model.add(Dense(6, activation='sigmoid'))\n",
        "\n",
        "model.compile(loss='categorical_crossentropy',\n",
        "             optimizer=optimizers.Adam(lr=0.0005),\n",
        "             metrics=['accuracy'])\n",
        "\n",
        "model.summary()"
      ],
      "metadata": {
        "colab": {
          "base_uri": "https://localhost:8080/"
        },
        "outputId": "f5211273-985c-42ae-8f9c-0402d0269196",
        "id": "wOshA-Nh8p4W"
      },
      "execution_count": null,
      "outputs": [
        {
          "output_type": "stream",
          "name": "stdout",
          "text": [
            "Model: \"sequential_4\"\n",
            "_________________________________________________________________\n",
            " Layer (type)                Output Shape              Param #   \n",
            "=================================================================\n",
            " conv2d_3 (Conv2D)           (None, 62, 254, 32)       320       \n",
            "                                                                 \n",
            " max_pooling2d_3 (MaxPooling  (None, 31, 127, 32)      0         \n",
            " 2D)                                                             \n",
            "                                                                 \n",
            " conv2d_4 (Conv2D)           (None, 29, 125, 64)       18496     \n",
            "                                                                 \n",
            " max_pooling2d_4 (MaxPooling  (None, 14, 62, 64)       0         \n",
            " 2D)                                                             \n",
            "                                                                 \n",
            " conv2d_5 (Conv2D)           (None, 12, 60, 128)       73856     \n",
            "                                                                 \n",
            " max_pooling2d_5 (MaxPooling  (None, 6, 30, 128)       0         \n",
            " 2D)                                                             \n",
            "                                                                 \n",
            " flatten_4 (Flatten)         (None, 23040)             0         \n",
            "                                                                 \n",
            " dense_15 (Dense)            (None, 256)               5898496   \n",
            "                                                                 \n",
            " dropout_11 (Dropout)        (None, 256)               0         \n",
            "                                                                 \n",
            " dense_16 (Dense)            (None, 128)               32896     \n",
            "                                                                 \n",
            " dropout_12 (Dropout)        (None, 128)               0         \n",
            "                                                                 \n",
            " dense_17 (Dense)            (None, 6)                 774       \n",
            "                                                                 \n",
            "=================================================================\n",
            "Total params: 6,024,838\n",
            "Trainable params: 6,024,838\n",
            "Non-trainable params: 0\n",
            "_________________________________________________________________\n"
          ]
        },
        {
          "output_type": "stream",
          "name": "stderr",
          "text": [
            "/usr/local/lib/python3.10/dist-packages/keras/optimizers/legacy/adam.py:117: UserWarning: The `lr` argument is deprecated, use `learning_rate` instead.\n",
            "  super().__init__(name, **kwargs)\n"
          ]
        }
      ]
    },
    {
      "cell_type": "code",
      "execution_count": null,
      "metadata": {
        "colab": {
          "base_uri": "https://localhost:8080/"
        },
        "outputId": "1cbb89fe-b6f3-4c02-9fa9-e6118aded705",
        "id": "OlBJLFDb8p4W"
      },
      "outputs": [
        {
          "output_type": "stream",
          "name": "stdout",
          "text": [
            "Epoch 1/50\n",
            "39/39 [==============================] - 4s 90ms/step - loss: 1.9025 - accuracy: 0.2194 - val_loss: 1.5908 - val_accuracy: 0.4061\n",
            "Epoch 2/50\n",
            "39/39 [==============================] - 2s 50ms/step - loss: 1.6561 - accuracy: 0.3021 - val_loss: 1.5124 - val_accuracy: 0.4253\n",
            "Epoch 3/50\n",
            "39/39 [==============================] - 2s 53ms/step - loss: 1.5916 - accuracy: 0.3330 - val_loss: 1.4681 - val_accuracy: 0.3946\n",
            "Epoch 4/50\n",
            "39/39 [==============================] - 2s 53ms/step - loss: 1.5523 - accuracy: 0.3514 - val_loss: 1.4942 - val_accuracy: 0.3640\n",
            "Epoch 5/50\n",
            "39/39 [==============================] - 2s 51ms/step - loss: 1.5189 - accuracy: 0.3756 - val_loss: 1.4540 - val_accuracy: 0.4061\n",
            "Epoch 6/50\n",
            "39/39 [==============================] - 2s 51ms/step - loss: 1.4986 - accuracy: 0.3796 - val_loss: 1.4173 - val_accuracy: 0.4406\n",
            "Epoch 7/50\n",
            "39/39 [==============================] - 2s 51ms/step - loss: 1.4694 - accuracy: 0.3964 - val_loss: 1.4275 - val_accuracy: 0.4330\n",
            "Epoch 8/50\n",
            "39/39 [==============================] - 2s 51ms/step - loss: 1.4605 - accuracy: 0.4004 - val_loss: 1.4155 - val_accuracy: 0.4406\n",
            "Epoch 9/50\n",
            "39/39 [==============================] - 2s 52ms/step - loss: 1.4387 - accuracy: 0.4165 - val_loss: 1.3848 - val_accuracy: 0.4406\n",
            "Epoch 10/50\n",
            "39/39 [==============================] - 2s 54ms/step - loss: 1.3983 - accuracy: 0.4323 - val_loss: 1.4057 - val_accuracy: 0.4598\n",
            "Epoch 11/50\n",
            "39/39 [==============================] - 2s 53ms/step - loss: 1.3896 - accuracy: 0.4456 - val_loss: 1.3683 - val_accuracy: 0.4521\n",
            "Epoch 12/50\n",
            "39/39 [==============================] - 2s 50ms/step - loss: 1.3432 - accuracy: 0.4579 - val_loss: 1.3896 - val_accuracy: 0.4866\n",
            "Epoch 13/50\n",
            "39/39 [==============================] - 2s 50ms/step - loss: 1.3299 - accuracy: 0.4718 - val_loss: 1.3720 - val_accuracy: 0.4789\n",
            "Epoch 14/50\n",
            "39/39 [==============================] - 2s 52ms/step - loss: 1.2869 - accuracy: 0.4916 - val_loss: 1.3871 - val_accuracy: 0.4866\n",
            "Epoch 15/50\n",
            "39/39 [==============================] - 2s 50ms/step - loss: 1.2579 - accuracy: 0.5136 - val_loss: 1.3203 - val_accuracy: 0.5172\n",
            "Epoch 16/50\n",
            "39/39 [==============================] - 2s 50ms/step - loss: 1.2543 - accuracy: 0.5058 - val_loss: 1.3610 - val_accuracy: 0.5172\n",
            "Epoch 17/50\n",
            "39/39 [==============================] - 2s 54ms/step - loss: 1.1824 - accuracy: 0.5366 - val_loss: 1.3749 - val_accuracy: 0.5019\n",
            "Epoch 18/50\n",
            "39/39 [==============================] - 2s 55ms/step - loss: 1.1631 - accuracy: 0.5475 - val_loss: 1.3627 - val_accuracy: 0.4943\n",
            "Epoch 19/50\n",
            "39/39 [==============================] - 2s 50ms/step - loss: 1.1256 - accuracy: 0.5641 - val_loss: 1.3683 - val_accuracy: 0.4981\n",
            "Epoch 20/50\n",
            "39/39 [==============================] - 2s 51ms/step - loss: 1.0740 - accuracy: 0.5837 - val_loss: 1.3338 - val_accuracy: 0.5211\n",
            "Epoch 21/50\n",
            "39/39 [==============================] - 2s 50ms/step - loss: 1.0317 - accuracy: 0.6099 - val_loss: 1.4135 - val_accuracy: 0.5211\n",
            "Epoch 22/50\n",
            "39/39 [==============================] - 2s 50ms/step - loss: 0.9905 - accuracy: 0.6289 - val_loss: 1.4480 - val_accuracy: 0.5172\n",
            "Epoch 23/50\n",
            "39/39 [==============================] - 2s 50ms/step - loss: 0.9392 - accuracy: 0.6450 - val_loss: 1.4363 - val_accuracy: 0.5057\n",
            "Epoch 24/50\n",
            "39/39 [==============================] - 2s 55ms/step - loss: 0.8852 - accuracy: 0.6634 - val_loss: 1.5174 - val_accuracy: 0.4981\n",
            "Epoch 25/50\n",
            "39/39 [==============================] - 2s 52ms/step - loss: 0.8337 - accuracy: 0.6900 - val_loss: 1.6166 - val_accuracy: 0.4943\n"
          ]
        }
      ],
      "source": [
        "# Specify thecallbacks for the model\n",
        "callbacks = [EarlyStopping(monitor='val_loss', patience=10)]\n",
        "\n",
        "history = model.fit(x_train, y_train,\n",
        "                    epochs=50,\n",
        "                    batch_size=128,\n",
        "                    validation_data=(x_test, y_test),\n",
        "                    callbacks=callbacks)"
      ]
    }
  ],
  "metadata": {
    "accelerator": "GPU",
    "colab": {
      "provenance": [],
      "gpuType": "T4"
    },
    "gpuClass": "standard",
    "kernelspec": {
      "display_name": "Python 3",
      "name": "python3"
    },
    "language_info": {
      "name": "python"
    }
  },
  "nbformat": 4,
  "nbformat_minor": 0
}