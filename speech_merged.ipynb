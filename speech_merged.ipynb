{
  "cells": [
    {
      "cell_type": "code",
      "execution_count": 82,
      "metadata": {
        "id": "z1LtRnT4W4mY"
      },
      "outputs": [],
      "source": [
        "import numpy as np\n",
        "import pandas as pd\n",
        "import matplotlib.pyplot as plt\n",
        "from pathlib import Path\n",
        "from scipy.io import wavfile\n",
        "import os.path\n",
        "import IPython.display\n",
        "import seaborn as sns\n",
        "import librosa\n",
        "import librosa.display\n",
        "import soundfile\n",
        "from audiomentations import Compose, AddGaussianNoise, TimeStretch, PitchShift\n",
        "\n",
        "from sklearn.model_selection import train_test_split\n",
        "from sklearn.preprocessing import StandardScaler, LabelEncoder\n",
        "from sklearn.metrics import confusion_matrix\n",
        "\n",
        "import tensorflow as tf\n",
        "from tensorflow.keras import utils\n",
        "from keras.models import Sequential\n",
        "from keras.layers import Dense, Dropout, Activation, Conv1D, MaxPooling1D, Flatten, BatchNormalization\n",
        "from tensorflow.keras.models import Sequential\n",
        "from tensorflow.keras.layers import Conv2D, MaxPooling2D, Flatten, Dense, Dropout\n",
        "from keras import optimizers\n",
        "\n",
        "from keras import optimizers,regularizers\n",
        "from tensorflow.python.keras.callbacks import ModelCheckpoint\n",
        "from tensorflow.keras.callbacks import ModelCheckpoint, EarlyStopping\n",
        "from sklearn.decomposition import PCA\n",
        "import warnings"
      ]
    },
    {
      "cell_type": "code",
      "execution_count": 2,
      "metadata": {
        "colab": {
          "base_uri": "https://localhost:8080/"
        },
        "id": "5GTtnPFfW87P",
        "outputId": "b285b911-c3a2-4ba0-d257-42ace7da85a6"
      },
      "outputs": [
        {
          "output_type": "stream",
          "name": "stdout",
          "text": [
            "Looking in indexes: https://pypi.org/simple, https://us-python.pkg.dev/colab-wheels/public/simple/\n",
            "Requirement already satisfied: pydub in /usr/local/lib/python3.10/dist-packages (0.25.1)\n",
            "Looking in indexes: https://pypi.org/simple, https://us-python.pkg.dev/colab-wheels/public/simple/\n",
            "Requirement already satisfied: audiomentations in /usr/local/lib/python3.10/dist-packages (0.30.0)\n",
            "Requirement already satisfied: numpy>=1.13.0 in /usr/local/lib/python3.10/dist-packages (from audiomentations) (1.22.4)\n",
            "Requirement already satisfied: librosa<0.10.0,>0.7.2 in /usr/local/lib/python3.10/dist-packages (from audiomentations) (0.9.2)\n",
            "Requirement already satisfied: scipy<2,>=1.0.0 in /usr/local/lib/python3.10/dist-packages (from audiomentations) (1.10.1)\n",
            "Requirement already satisfied: audioread>=2.1.9 in /usr/local/lib/python3.10/dist-packages (from librosa<0.10.0,>0.7.2->audiomentations) (3.0.0)\n",
            "Requirement already satisfied: scikit-learn>=0.19.1 in /usr/local/lib/python3.10/dist-packages (from librosa<0.10.0,>0.7.2->audiomentations) (1.2.2)\n",
            "Requirement already satisfied: joblib>=0.14 in /usr/local/lib/python3.10/dist-packages (from librosa<0.10.0,>0.7.2->audiomentations) (1.2.0)\n",
            "Requirement already satisfied: decorator>=4.0.10 in /usr/local/lib/python3.10/dist-packages (from librosa<0.10.0,>0.7.2->audiomentations) (4.4.2)\n",
            "Requirement already satisfied: resampy>=0.2.2 in /usr/local/lib/python3.10/dist-packages (from librosa<0.10.0,>0.7.2->audiomentations) (0.4.2)\n",
            "Requirement already satisfied: numba>=0.45.1 in /usr/local/lib/python3.10/dist-packages (from librosa<0.10.0,>0.7.2->audiomentations) (0.56.4)\n",
            "Requirement already satisfied: soundfile>=0.10.2 in /usr/local/lib/python3.10/dist-packages (from librosa<0.10.0,>0.7.2->audiomentations) (0.12.1)\n",
            "Requirement already satisfied: pooch>=1.0 in /usr/local/lib/python3.10/dist-packages (from librosa<0.10.0,>0.7.2->audiomentations) (1.6.0)\n",
            "Requirement already satisfied: packaging>=20.0 in /usr/local/lib/python3.10/dist-packages (from librosa<0.10.0,>0.7.2->audiomentations) (23.1)\n",
            "Requirement already satisfied: llvmlite<0.40,>=0.39.0dev0 in /usr/local/lib/python3.10/dist-packages (from numba>=0.45.1->librosa<0.10.0,>0.7.2->audiomentations) (0.39.1)\n",
            "Requirement already satisfied: setuptools in /usr/local/lib/python3.10/dist-packages (from numba>=0.45.1->librosa<0.10.0,>0.7.2->audiomentations) (67.7.2)\n",
            "Requirement already satisfied: appdirs>=1.3.0 in /usr/local/lib/python3.10/dist-packages (from pooch>=1.0->librosa<0.10.0,>0.7.2->audiomentations) (1.4.4)\n",
            "Requirement already satisfied: requests>=2.19.0 in /usr/local/lib/python3.10/dist-packages (from pooch>=1.0->librosa<0.10.0,>0.7.2->audiomentations) (2.27.1)\n",
            "Requirement already satisfied: threadpoolctl>=2.0.0 in /usr/local/lib/python3.10/dist-packages (from scikit-learn>=0.19.1->librosa<0.10.0,>0.7.2->audiomentations) (3.1.0)\n",
            "Requirement already satisfied: cffi>=1.0 in /usr/local/lib/python3.10/dist-packages (from soundfile>=0.10.2->librosa<0.10.0,>0.7.2->audiomentations) (1.15.1)\n",
            "Requirement already satisfied: pycparser in /usr/local/lib/python3.10/dist-packages (from cffi>=1.0->soundfile>=0.10.2->librosa<0.10.0,>0.7.2->audiomentations) (2.21)\n",
            "Requirement already satisfied: urllib3<1.27,>=1.21.1 in /usr/local/lib/python3.10/dist-packages (from requests>=2.19.0->pooch>=1.0->librosa<0.10.0,>0.7.2->audiomentations) (1.26.15)\n",
            "Requirement already satisfied: certifi>=2017.4.17 in /usr/local/lib/python3.10/dist-packages (from requests>=2.19.0->pooch>=1.0->librosa<0.10.0,>0.7.2->audiomentations) (2022.12.7)\n",
            "Requirement already satisfied: charset-normalizer~=2.0.0 in /usr/local/lib/python3.10/dist-packages (from requests>=2.19.0->pooch>=1.0->librosa<0.10.0,>0.7.2->audiomentations) (2.0.12)\n",
            "Requirement already satisfied: idna<4,>=2.5 in /usr/local/lib/python3.10/dist-packages (from requests>=2.19.0->pooch>=1.0->librosa<0.10.0,>0.7.2->audiomentations) (3.4)\n"
          ]
        }
      ],
      "source": [
        "!pip install pydub\n",
        "!pip install audiomentations"
      ]
    },
    {
      "cell_type": "code",
      "execution_count": 16,
      "metadata": {
        "colab": {
          "base_uri": "https://localhost:8080/"
        },
        "id": "1nQjexIlW-Su",
        "outputId": "505a451d-4f10-4f0d-ef64-7cdd4affd47e"
      },
      "outputs": [
        {
          "output_type": "stream",
          "name": "stdout",
          "text": [
            "Drive already mounted at /content/drive; to attempt to forcibly remount, call drive.mount(\"/content/drive\", force_remount=True).\n"
          ]
        }
      ],
      "source": [
        "import re\n",
        "import os\n",
        "import wave\n",
        "import glob\n",
        "import numpy as np\n",
        "import pandas as pd\n",
        "import matplotlib.pyplot as plt\n",
        "from pydub import AudioSegment\n",
        "from IPython.display import Audio, display\n",
        "import librosa as lib\n",
        "import librosa.display\n",
        "\n",
        "from google.colab import drive\n",
        "drive.mount('/content/drive')"
      ]
    },
    {
      "cell_type": "code",
      "execution_count": 17,
      "metadata": {
        "id": "Y2JiRL40XJSK"
      },
      "outputs": [],
      "source": [
        "PATH = \"/content/drive/MyDrive/Colab Notebooks/Speech_Emotion/Crema\"\n",
        "AUDIO_PATH = \"/content/drive/MyDrive/Colab Notebooks/Speech_Emotion/Crema/1001_DFA_ANG_XX.wav\""
      ]
    },
    {
      "cell_type": "code",
      "source": [
        "def zeroCrossingRate(audio):\n",
        "  return lib.feature.zero_crossing_rate(audio)"
      ],
      "metadata": {
        "id": "hZRUzrRHI3x4"
      },
      "execution_count": 18,
      "outputs": []
    },
    {
      "cell_type": "code",
      "source": [
        "def energy(audio):\n",
        "  # using a spectrogram will give a more accurate representation\n",
        "  # of energy over time because its frames can be windowed\n",
        "  S, phase = lib.magphase(lib.stft(audio))\n",
        "  return lib.feature.rms(S=S).mean()"
      ],
      "metadata": {
        "id": "YUj1b0stI8Jp"
      },
      "execution_count": 19,
      "outputs": []
    },
    {
      "cell_type": "code",
      "source": [
        "def chromaStft(audio, sr):\n",
        "  stft = np.abs(librosa.stft(audio))\n",
        "  return librosa.feature.chroma_stft(S=stft, sr=sr, n_fft=200).mean()"
      ],
      "metadata": {
        "id": "RFqdKI4dj-sx"
      },
      "execution_count": 20,
      "outputs": []
    },
    {
      "cell_type": "code",
      "source": [
        "def mfcc(data, sr):\n",
        "  return librosa.feature.mfcc(y=data, sr=sr, n_fft=200).mean()"
      ],
      "metadata": {
        "id": "bwJma-zak5ai"
      },
      "execution_count": 21,
      "outputs": []
    },
    {
      "cell_type": "code",
      "execution_count": 22,
      "metadata": {
        "id": "t03kfNaMJEUx"
      },
      "outputs": [],
      "source": [
        "def melSpectrogram(audio, sr):\n",
        "  mel_spectrogram = lib.feature.melspectrogram(y=audio, sr=sr, n_fft=200, n_mels=64)\n",
        "  log_mel_spectrogram = librosa.power_to_db(mel_spectrogram)\n",
        "  return log_mel_spectrogram"
      ]
    },
    {
      "cell_type": "code",
      "execution_count": 23,
      "metadata": {
        "id": "GZLRcaVEinfV"
      },
      "outputs": [],
      "source": [
        "def playAudio(audio_file):\n",
        "  audio = AudioSegment.from_wav(audio_file)\n",
        "  # Play the audio\n",
        "  audio.export('temp_audio.wav', format='wav')\n",
        "  audio_data = open('temp_audio.wav', 'rb').read()\n",
        "  display(Audio(audio_data))\n",
        "  # Delete the temporary audio file\n",
        "  os.remove('temp_audio.wav')"
      ]
    },
    {
      "cell_type": "code",
      "execution_count": 24,
      "metadata": {
        "id": "VErUAYc_mIzR"
      },
      "outputs": [],
      "source": [
        "def visualize_waveform(audio, sr):\n",
        "    plt.figure(figsize=(12, 4))\n",
        "    plt.plot(audio)\n",
        "    plt.xlabel('Time')\n",
        "    plt.ylabel('Amplitude')\n",
        "    plt.title('Waveform')\n",
        "    plt.show()"
      ]
    },
    {
      "cell_type": "code",
      "execution_count": 26,
      "metadata": {
        "id": "xrXZclbPVgB4"
      },
      "outputs": [],
      "source": [
        "def splitData(dataset_path):\n",
        "  audio_files = glob.glob(os.path.join(dataset_path, \"*.wav\"))\n",
        "  audio_train, audio_test = train_test_split(audio_files, test_size=0.1, random_state=42, shuffle=True)\n",
        "  return audio_train, audio_test"
      ]
    },
    {
      "cell_type": "code",
      "execution_count": 27,
      "metadata": {
        "id": "7EIOYeWGWM-f"
      },
      "outputs": [],
      "source": [
        "D_train, D_test = splitData(PATH)"
      ]
    },
    {
      "cell_type": "code",
      "execution_count": 28,
      "metadata": {
        "colab": {
          "base_uri": "https://localhost:8080/"
        },
        "id": "YpC8Jy1nWg0t",
        "outputId": "cb76ba36-bccc-4749-e2fe-eb383a0aa8f8"
      },
      "outputs": [
        {
          "output_type": "stream",
          "name": "stdout",
          "text": [
            "6697 745\n"
          ]
        }
      ],
      "source": [
        "print(len(D_train), len(D_test))"
      ]
    },
    {
      "cell_type": "code",
      "execution_count": 29,
      "metadata": {
        "colab": {
          "base_uri": "https://localhost:8080/",
          "height": 36
        },
        "id": "9RqTKlDHXq-f",
        "outputId": "5378fb96-d57d-4e59-8101-1cdb3a007d9e"
      },
      "outputs": [
        {
          "output_type": "execute_result",
          "data": {
            "text/plain": [
              "'/content/drive/MyDrive/Colab Notebooks/Speech_Emotion/Crema/1026_TIE_HAP_XX.wav'"
            ],
            "application/vnd.google.colaboratory.intrinsic+json": {
              "type": "string"
            }
          },
          "metadata": {},
          "execution_count": 29
        }
      ],
      "source": [
        "D_test[0]"
      ]
    },
    {
      "cell_type": "code",
      "execution_count": 30,
      "metadata": {
        "id": "EgU38C-idTBu"
      },
      "outputs": [],
      "source": [
        "def getMaxLen(audio_files):\n",
        "  max_length = 0\n",
        "  for audio_file in audio_files:\n",
        "    audio, _ = librosa.load(audio_file)\n",
        "    length = len(audio)\n",
        "    max_length = max(max_length, length)\n",
        "  return max_length"
      ]
    },
    {
      "cell_type": "code",
      "source": [
        "def loadAudioTime(audio_files):\n",
        "  classes = [\"SAD\", \"ANG\", \"DIS\", \"FEA\", \"HAP\", \"NEU\"]\n",
        "  # for data augmentation\n",
        "  augmentations = Compose([\n",
        "    AddGaussianNoise(min_amplitude=0.001, max_amplitude=0.01, p=0.5),\n",
        "    TimeStretch(min_rate=0.8, max_rate=1.2, p=0.5),\n",
        "    PitchShift(min_semitones=-4, max_semitones=4, p=0.5)\n",
        "])\n",
        "  # max_length = getMaxLen(audio_files)\n",
        "  max_length = 200\n",
        "  D, Y = [], []\n",
        "  for audio_file in audio_files: \n",
        "    # load the audio file\n",
        "    audio, sr = lib.load(audio_file, sr=4444)\n",
        "    # extract zero crossing rate\n",
        "    zcr = zeroCrossingRate(audio)\n",
        "    # extract energy\n",
        "    rms = energy(audio)\n",
        "    # chroma stft\n",
        "    cs = chromaStft(audio, sr)\n",
        "    # mfcc\n",
        "    mfc = mfcc(audio, sr)\n",
        "    # extract mel spectrogram\n",
        "    mel_spec = melSpectrogram(audio, sr).mean()\n",
        "    combined_features = np.concatenate(([rms, cs, mfc, mel_spec], (np.pad(zcr[0], (0, 300 - len(zcr[0]))))))\n",
        "    D.append(combined_features)\n",
        "    for cls in classes:\n",
        "      if re.search(cls, audio_file): Y.append(cls)\n",
        "    # don't augment every example\n",
        "    if np.random.rand() >= 0.5:\n",
        "      augmented_audio = augmentations(samples=audio, sample_rate=sr)\n",
        "      # extract zero crossing rate\n",
        "      zcr = zeroCrossingRate(augmented_audio)\n",
        "      # extract energy\n",
        "      rms = energy(augmented_audio)\n",
        "      # chroma stft\n",
        "      cs = chromaStft(augmented_audio, sr)\n",
        "      # mfcc\n",
        "      mfc = mfcc(augmented_audio, sr)\n",
        "      # extract mel spectrogram\n",
        "      mel_spec = melSpectrogram(augmented_audio, sr).mean()\n",
        "      combined_features = np.concatenate(([rms, cs, mfc, mel_spec], (np.pad(zcr[0], (0, 300 - len(zcr[0]))))))\n",
        "      D.append(combined_features)\n",
        "      for cls in classes:\n",
        "        if re.search(cls, audio_file): Y.append(cls)\n",
        "  return D, Y"
      ],
      "metadata": {
        "id": "cbqGt6YB-xbJ"
      },
      "execution_count": 154,
      "outputs": []
    },
    {
      "cell_type": "code",
      "execution_count": 137,
      "metadata": {
        "id": "yMgXIyyNYSFb"
      },
      "outputs": [],
      "source": [
        "def loadAudioFreq(audio_files):\n",
        "  classes = [\"SAD\", \"ANG\", \"DIS\", \"FEA\", \"HAP\", \"NEU\"]\n",
        "  # for data augmentation\n",
        "  augmentations = Compose([\n",
        "    AddGaussianNoise(min_amplitude=0.001, max_amplitude=0.01, p=0.5),\n",
        "    TimeStretch(min_rate=0.8, max_rate=1.2, p=0.5),\n",
        "    PitchShift(min_semitones=-4, max_semitones=4, p=0.5)\n",
        "])\n",
        "  # max_length = getMaxLen(audio_files)\n",
        "  max_length = 200\n",
        "  D, Y = [], []\n",
        "  for audio_file in audio_files: \n",
        "    # load the audio file\n",
        "    audio, sr = lib.load(audio_file, sr=4444)\n",
        "    # extract mel spectrogram\n",
        "    mel_spec = melSpectrogram(audio, sr)\n",
        "    D.append(mel_spec)\n",
        "    for cls in classes:\n",
        "      if re.search(cls, audio_file): Y.append(cls)\n",
        "    # don't augment every example\n",
        "    if np.random.rand() >= 0.5:\n",
        "      augmented_audio = augmentations(samples=audio, sample_rate=sr)\n",
        "      mel_spec_aug = melSpectrogram(augmented_audio, sr)\n",
        "      D.append(mel_spec_aug)\n",
        "      for cls in classes:\n",
        "        if re.search(cls, audio_file): Y.append(cls)\n",
        "  return D, Y"
      ]
    },
    {
      "cell_type": "markdown",
      "source": [
        "## Time Domain Model"
      ],
      "metadata": {
        "id": "XwjLK8nELd6H"
      }
    },
    {
      "cell_type": "code",
      "source": [
        "D_time, Y_time = loadAudioTime(D_train)"
      ],
      "metadata": {
        "colab": {
          "base_uri": "https://localhost:8080/",
          "height": 287
        },
        "id": "R1mGR_wWGc75",
        "outputId": "97c3308a-94b7-4cf7-e24f-c4714f585bfd"
      },
      "execution_count": 189,
      "outputs": [
        {
          "output_type": "error",
          "ename": "KeyboardInterrupt",
          "evalue": "ignored",
          "traceback": [
            "\u001b[0;31m---------------------------------------------------------------------------\u001b[0m",
            "\u001b[0;31mKeyboardInterrupt\u001b[0m                         Traceback (most recent call last)",
            "\u001b[0;32m<ipython-input-189-4eb092fa0619>\u001b[0m in \u001b[0;36m<cell line: 1>\u001b[0;34m()\u001b[0m\n\u001b[0;32m----> 1\u001b[0;31m \u001b[0mD_time\u001b[0m\u001b[0;34m,\u001b[0m \u001b[0mY_time\u001b[0m \u001b[0;34m=\u001b[0m \u001b[0mloadAudioTime\u001b[0m\u001b[0;34m(\u001b[0m\u001b[0mD_train\u001b[0m\u001b[0;34m)\u001b[0m\u001b[0;34m\u001b[0m\u001b[0;34m\u001b[0m\u001b[0m\n\u001b[0m",
            "\u001b[0;32m<ipython-input-154-c862c2f1cd56>\u001b[0m in \u001b[0;36mloadAudioTime\u001b[0;34m(audio_files)\u001b[0m\n\u001b[1;32m     12\u001b[0m   \u001b[0;32mfor\u001b[0m \u001b[0maudio_file\u001b[0m \u001b[0;32min\u001b[0m \u001b[0maudio_files\u001b[0m\u001b[0;34m:\u001b[0m\u001b[0;34m\u001b[0m\u001b[0;34m\u001b[0m\u001b[0m\n\u001b[1;32m     13\u001b[0m     \u001b[0;31m# load the audio file\u001b[0m\u001b[0;34m\u001b[0m\u001b[0;34m\u001b[0m\u001b[0m\n\u001b[0;32m---> 14\u001b[0;31m     \u001b[0maudio\u001b[0m\u001b[0;34m,\u001b[0m \u001b[0msr\u001b[0m \u001b[0;34m=\u001b[0m \u001b[0mlib\u001b[0m\u001b[0;34m.\u001b[0m\u001b[0mload\u001b[0m\u001b[0;34m(\u001b[0m\u001b[0maudio_file\u001b[0m\u001b[0;34m,\u001b[0m \u001b[0msr\u001b[0m\u001b[0;34m=\u001b[0m\u001b[0;36m4444\u001b[0m\u001b[0;34m)\u001b[0m\u001b[0;34m\u001b[0m\u001b[0;34m\u001b[0m\u001b[0m\n\u001b[0m\u001b[1;32m     15\u001b[0m     \u001b[0;31m# extract zero crossing rate\u001b[0m\u001b[0;34m\u001b[0m\u001b[0;34m\u001b[0m\u001b[0m\n\u001b[1;32m     16\u001b[0m     \u001b[0mzcr\u001b[0m \u001b[0;34m=\u001b[0m \u001b[0mzeroCrossingRate\u001b[0m\u001b[0;34m(\u001b[0m\u001b[0maudio\u001b[0m\u001b[0;34m)\u001b[0m\u001b[0;34m\u001b[0m\u001b[0;34m\u001b[0m\u001b[0m\n",
            "\u001b[0;32m/usr/local/lib/python3.10/dist-packages/librosa/util/decorators.py\u001b[0m in \u001b[0;36minner_f\u001b[0;34m(*args, **kwargs)\u001b[0m\n\u001b[1;32m     86\u001b[0m             \u001b[0mextra_args\u001b[0m \u001b[0;34m=\u001b[0m \u001b[0mlen\u001b[0m\u001b[0;34m(\u001b[0m\u001b[0margs\u001b[0m\u001b[0;34m)\u001b[0m \u001b[0;34m-\u001b[0m \u001b[0mlen\u001b[0m\u001b[0;34m(\u001b[0m\u001b[0mall_args\u001b[0m\u001b[0;34m)\u001b[0m\u001b[0;34m\u001b[0m\u001b[0;34m\u001b[0m\u001b[0m\n\u001b[1;32m     87\u001b[0m             \u001b[0;32mif\u001b[0m \u001b[0mextra_args\u001b[0m \u001b[0;34m<=\u001b[0m \u001b[0;36m0\u001b[0m\u001b[0;34m:\u001b[0m\u001b[0;34m\u001b[0m\u001b[0;34m\u001b[0m\u001b[0m\n\u001b[0;32m---> 88\u001b[0;31m                 \u001b[0;32mreturn\u001b[0m \u001b[0mf\u001b[0m\u001b[0;34m(\u001b[0m\u001b[0;34m*\u001b[0m\u001b[0margs\u001b[0m\u001b[0;34m,\u001b[0m \u001b[0;34m**\u001b[0m\u001b[0mkwargs\u001b[0m\u001b[0;34m)\u001b[0m\u001b[0;34m\u001b[0m\u001b[0;34m\u001b[0m\u001b[0m\n\u001b[0m\u001b[1;32m     89\u001b[0m \u001b[0;34m\u001b[0m\u001b[0m\n\u001b[1;32m     90\u001b[0m             \u001b[0;31m# extra_args > 0\u001b[0m\u001b[0;34m\u001b[0m\u001b[0;34m\u001b[0m\u001b[0m\n",
            "\u001b[0;32m/usr/local/lib/python3.10/dist-packages/librosa/core/audio.py\u001b[0m in \u001b[0;36mload\u001b[0;34m(path, sr, mono, offset, duration, dtype, res_type)\u001b[0m\n\u001b[1;32m    177\u001b[0m \u001b[0;34m\u001b[0m\u001b[0m\n\u001b[1;32m    178\u001b[0m     \u001b[0;32mif\u001b[0m \u001b[0msr\u001b[0m \u001b[0;32mis\u001b[0m \u001b[0;32mnot\u001b[0m \u001b[0;32mNone\u001b[0m\u001b[0;34m:\u001b[0m\u001b[0;34m\u001b[0m\u001b[0;34m\u001b[0m\u001b[0m\n\u001b[0;32m--> 179\u001b[0;31m         \u001b[0my\u001b[0m \u001b[0;34m=\u001b[0m \u001b[0mresample\u001b[0m\u001b[0;34m(\u001b[0m\u001b[0my\u001b[0m\u001b[0;34m,\u001b[0m \u001b[0morig_sr\u001b[0m\u001b[0;34m=\u001b[0m\u001b[0msr_native\u001b[0m\u001b[0;34m,\u001b[0m \u001b[0mtarget_sr\u001b[0m\u001b[0;34m=\u001b[0m\u001b[0msr\u001b[0m\u001b[0;34m,\u001b[0m \u001b[0mres_type\u001b[0m\u001b[0;34m=\u001b[0m\u001b[0mres_type\u001b[0m\u001b[0;34m)\u001b[0m\u001b[0;34m\u001b[0m\u001b[0;34m\u001b[0m\u001b[0m\n\u001b[0m\u001b[1;32m    180\u001b[0m \u001b[0;34m\u001b[0m\u001b[0m\n\u001b[1;32m    181\u001b[0m     \u001b[0;32melse\u001b[0m\u001b[0;34m:\u001b[0m\u001b[0;34m\u001b[0m\u001b[0;34m\u001b[0m\u001b[0m\n",
            "\u001b[0;32m/usr/local/lib/python3.10/dist-packages/librosa/util/decorators.py\u001b[0m in \u001b[0;36minner_f\u001b[0;34m(*args, **kwargs)\u001b[0m\n\u001b[1;32m     86\u001b[0m             \u001b[0mextra_args\u001b[0m \u001b[0;34m=\u001b[0m \u001b[0mlen\u001b[0m\u001b[0;34m(\u001b[0m\u001b[0margs\u001b[0m\u001b[0;34m)\u001b[0m \u001b[0;34m-\u001b[0m \u001b[0mlen\u001b[0m\u001b[0;34m(\u001b[0m\u001b[0mall_args\u001b[0m\u001b[0;34m)\u001b[0m\u001b[0;34m\u001b[0m\u001b[0;34m\u001b[0m\u001b[0m\n\u001b[1;32m     87\u001b[0m             \u001b[0;32mif\u001b[0m \u001b[0mextra_args\u001b[0m \u001b[0;34m<=\u001b[0m \u001b[0;36m0\u001b[0m\u001b[0;34m:\u001b[0m\u001b[0;34m\u001b[0m\u001b[0;34m\u001b[0m\u001b[0m\n\u001b[0;32m---> 88\u001b[0;31m                 \u001b[0;32mreturn\u001b[0m \u001b[0mf\u001b[0m\u001b[0;34m(\u001b[0m\u001b[0;34m*\u001b[0m\u001b[0margs\u001b[0m\u001b[0;34m,\u001b[0m \u001b[0;34m**\u001b[0m\u001b[0mkwargs\u001b[0m\u001b[0;34m)\u001b[0m\u001b[0;34m\u001b[0m\u001b[0;34m\u001b[0m\u001b[0m\n\u001b[0m\u001b[1;32m     89\u001b[0m \u001b[0;34m\u001b[0m\u001b[0m\n\u001b[1;32m     90\u001b[0m             \u001b[0;31m# extra_args > 0\u001b[0m\u001b[0;34m\u001b[0m\u001b[0;34m\u001b[0m\u001b[0m\n",
            "\u001b[0;32m/usr/local/lib/python3.10/dist-packages/librosa/core/audio.py\u001b[0m in \u001b[0;36mresample\u001b[0;34m(y, orig_sr, target_sr, res_type, fix, scale, **kwargs)\u001b[0m\n\u001b[1;32m    645\u001b[0m         \u001b[0my_hat\u001b[0m \u001b[0;34m=\u001b[0m \u001b[0msoxr\u001b[0m\u001b[0;34m.\u001b[0m\u001b[0mresample\u001b[0m\u001b[0;34m(\u001b[0m\u001b[0my\u001b[0m\u001b[0;34m.\u001b[0m\u001b[0mT\u001b[0m\u001b[0;34m,\u001b[0m \u001b[0morig_sr\u001b[0m\u001b[0;34m,\u001b[0m \u001b[0mtarget_sr\u001b[0m\u001b[0;34m,\u001b[0m \u001b[0mquality\u001b[0m\u001b[0;34m=\u001b[0m\u001b[0mres_type\u001b[0m\u001b[0;34m)\u001b[0m\u001b[0;34m.\u001b[0m\u001b[0mT\u001b[0m\u001b[0;34m\u001b[0m\u001b[0;34m\u001b[0m\u001b[0m\n\u001b[1;32m    646\u001b[0m     \u001b[0;32melse\u001b[0m\u001b[0;34m:\u001b[0m\u001b[0;34m\u001b[0m\u001b[0;34m\u001b[0m\u001b[0m\n\u001b[0;32m--> 647\u001b[0;31m         \u001b[0my_hat\u001b[0m \u001b[0;34m=\u001b[0m \u001b[0mresampy\u001b[0m\u001b[0;34m.\u001b[0m\u001b[0mresample\u001b[0m\u001b[0;34m(\u001b[0m\u001b[0my\u001b[0m\u001b[0;34m,\u001b[0m \u001b[0morig_sr\u001b[0m\u001b[0;34m,\u001b[0m \u001b[0mtarget_sr\u001b[0m\u001b[0;34m,\u001b[0m \u001b[0mfilter\u001b[0m\u001b[0;34m=\u001b[0m\u001b[0mres_type\u001b[0m\u001b[0;34m,\u001b[0m \u001b[0maxis\u001b[0m\u001b[0;34m=\u001b[0m\u001b[0;34m-\u001b[0m\u001b[0;36m1\u001b[0m\u001b[0;34m)\u001b[0m\u001b[0;34m\u001b[0m\u001b[0;34m\u001b[0m\u001b[0m\n\u001b[0m\u001b[1;32m    648\u001b[0m \u001b[0;34m\u001b[0m\u001b[0m\n\u001b[1;32m    649\u001b[0m     \u001b[0;32mif\u001b[0m \u001b[0mfix\u001b[0m\u001b[0;34m:\u001b[0m\u001b[0;34m\u001b[0m\u001b[0;34m\u001b[0m\u001b[0m\n",
            "\u001b[0;32m/usr/local/lib/python3.10/dist-packages/resampy/core.py\u001b[0m in \u001b[0;36mresample\u001b[0;34m(x, sr_orig, sr_new, axis, filter, parallel, **kwargs)\u001b[0m\n\u001b[1;32m    166\u001b[0m             )\n\u001b[1;32m    167\u001b[0m     \u001b[0;32melse\u001b[0m\u001b[0;34m:\u001b[0m\u001b[0;34m\u001b[0m\u001b[0;34m\u001b[0m\u001b[0m\n\u001b[0;32m--> 168\u001b[0;31m         resample_f_s(\n\u001b[0m\u001b[1;32m    169\u001b[0m             \u001b[0mx\u001b[0m\u001b[0;34m.\u001b[0m\u001b[0mswapaxes\u001b[0m\u001b[0;34m(\u001b[0m\u001b[0;34m-\u001b[0m\u001b[0;36m1\u001b[0m\u001b[0;34m,\u001b[0m \u001b[0maxis\u001b[0m\u001b[0;34m)\u001b[0m\u001b[0;34m,\u001b[0m\u001b[0;34m\u001b[0m\u001b[0;34m\u001b[0m\u001b[0m\n\u001b[1;32m    170\u001b[0m             \u001b[0mt_out\u001b[0m\u001b[0;34m,\u001b[0m\u001b[0;34m\u001b[0m\u001b[0;34m\u001b[0m\u001b[0m\n",
            "\u001b[0;32m/usr/local/lib/python3.10/dist-packages/numba/np/ufunc/gufunc.py\u001b[0m in \u001b[0;36m__call__\u001b[0;34m(self, *args, **kwargs)\u001b[0m\n\u001b[1;32m    190\u001b[0m             \u001b[0mself\u001b[0m\u001b[0;34m.\u001b[0m\u001b[0madd\u001b[0m\u001b[0;34m(\u001b[0m\u001b[0msig\u001b[0m\u001b[0;34m)\u001b[0m\u001b[0;34m\u001b[0m\u001b[0;34m\u001b[0m\u001b[0m\n\u001b[1;32m    191\u001b[0m             \u001b[0mself\u001b[0m\u001b[0;34m.\u001b[0m\u001b[0mbuild_ufunc\u001b[0m\u001b[0;34m(\u001b[0m\u001b[0;34m)\u001b[0m\u001b[0;34m\u001b[0m\u001b[0;34m\u001b[0m\u001b[0m\n\u001b[0;32m--> 192\u001b[0;31m         \u001b[0;32mreturn\u001b[0m \u001b[0mself\u001b[0m\u001b[0;34m.\u001b[0m\u001b[0mufunc\u001b[0m\u001b[0;34m(\u001b[0m\u001b[0;34m*\u001b[0m\u001b[0margs\u001b[0m\u001b[0;34m,\u001b[0m \u001b[0;34m**\u001b[0m\u001b[0mkwargs\u001b[0m\u001b[0;34m)\u001b[0m\u001b[0;34m\u001b[0m\u001b[0;34m\u001b[0m\u001b[0m\n\u001b[0m",
            "\u001b[0;31mKeyboardInterrupt\u001b[0m: "
          ]
        }
      ]
    },
    {
      "cell_type": "code",
      "source": [
        "D_time = np.array(D_time)\n",
        "D_time.shape"
      ],
      "metadata": {
        "colab": {
          "base_uri": "https://localhost:8080/"
        },
        "id": "J7hz6ckbH3wL",
        "outputId": "a04a58f1-00ad-4a73-daeb-047a31fcd763"
      },
      "execution_count": 156,
      "outputs": [
        {
          "output_type": "execute_result",
          "data": {
            "text/plain": [
              "(1114, 304)"
            ]
          },
          "metadata": {},
          "execution_count": 156
        }
      ]
    },
    {
      "cell_type": "code",
      "source": [
        "unicheck = np.unique(Y_time, axis=0)\n",
        "print(f\"Check on time domain:\\n{unicheck}\")"
      ],
      "metadata": {
        "colab": {
          "base_uri": "https://localhost:8080/"
        },
        "id": "GQ5AZ5vMGi4d",
        "outputId": "15354931-927c-42bc-920f-a1eddbf9d340"
      },
      "execution_count": 157,
      "outputs": [
        {
          "output_type": "stream",
          "name": "stdout",
          "text": [
            "Check on time domain:\n",
            "['ANG' 'DIS' 'FEA' 'HAP' 'NEU' 'SAD']\n"
          ]
        }
      ]
    },
    {
      "cell_type": "code",
      "source": [
        "df_time = pd.DataFrame(Y_time)\n",
        "df_time.head()"
      ],
      "metadata": {
        "colab": {
          "base_uri": "https://localhost:8080/",
          "height": 206
        },
        "id": "2a8Cneh6GpQb",
        "outputId": "693eeaa8-fe3c-413a-cf27-efc4f669aa63"
      },
      "execution_count": 158,
      "outputs": [
        {
          "output_type": "execute_result",
          "data": {
            "text/plain": [
              "     0\n",
              "0  HAP\n",
              "1  SAD\n",
              "2  HAP\n",
              "3  SAD\n",
              "4  NEU"
            ],
            "text/html": [
              "\n",
              "  <div id=\"df-6db4a4ff-e330-4a23-87f8-dc3df85377c6\">\n",
              "    <div class=\"colab-df-container\">\n",
              "      <div>\n",
              "<style scoped>\n",
              "    .dataframe tbody tr th:only-of-type {\n",
              "        vertical-align: middle;\n",
              "    }\n",
              "\n",
              "    .dataframe tbody tr th {\n",
              "        vertical-align: top;\n",
              "    }\n",
              "\n",
              "    .dataframe thead th {\n",
              "        text-align: right;\n",
              "    }\n",
              "</style>\n",
              "<table border=\"1\" class=\"dataframe\">\n",
              "  <thead>\n",
              "    <tr style=\"text-align: right;\">\n",
              "      <th></th>\n",
              "      <th>0</th>\n",
              "    </tr>\n",
              "  </thead>\n",
              "  <tbody>\n",
              "    <tr>\n",
              "      <th>0</th>\n",
              "      <td>HAP</td>\n",
              "    </tr>\n",
              "    <tr>\n",
              "      <th>1</th>\n",
              "      <td>SAD</td>\n",
              "    </tr>\n",
              "    <tr>\n",
              "      <th>2</th>\n",
              "      <td>HAP</td>\n",
              "    </tr>\n",
              "    <tr>\n",
              "      <th>3</th>\n",
              "      <td>SAD</td>\n",
              "    </tr>\n",
              "    <tr>\n",
              "      <th>4</th>\n",
              "      <td>NEU</td>\n",
              "    </tr>\n",
              "  </tbody>\n",
              "</table>\n",
              "</div>\n",
              "      <button class=\"colab-df-convert\" onclick=\"convertToInteractive('df-6db4a4ff-e330-4a23-87f8-dc3df85377c6')\"\n",
              "              title=\"Convert this dataframe to an interactive table.\"\n",
              "              style=\"display:none;\">\n",
              "        \n",
              "  <svg xmlns=\"http://www.w3.org/2000/svg\" height=\"24px\"viewBox=\"0 0 24 24\"\n",
              "       width=\"24px\">\n",
              "    <path d=\"M0 0h24v24H0V0z\" fill=\"none\"/>\n",
              "    <path d=\"M18.56 5.44l.94 2.06.94-2.06 2.06-.94-2.06-.94-.94-2.06-.94 2.06-2.06.94zm-11 1L8.5 8.5l.94-2.06 2.06-.94-2.06-.94L8.5 2.5l-.94 2.06-2.06.94zm10 10l.94 2.06.94-2.06 2.06-.94-2.06-.94-.94-2.06-.94 2.06-2.06.94z\"/><path d=\"M17.41 7.96l-1.37-1.37c-.4-.4-.92-.59-1.43-.59-.52 0-1.04.2-1.43.59L10.3 9.45l-7.72 7.72c-.78.78-.78 2.05 0 2.83L4 21.41c.39.39.9.59 1.41.59.51 0 1.02-.2 1.41-.59l7.78-7.78 2.81-2.81c.8-.78.8-2.07 0-2.86zM5.41 20L4 18.59l7.72-7.72 1.47 1.35L5.41 20z\"/>\n",
              "  </svg>\n",
              "      </button>\n",
              "      \n",
              "  <style>\n",
              "    .colab-df-container {\n",
              "      display:flex;\n",
              "      flex-wrap:wrap;\n",
              "      gap: 12px;\n",
              "    }\n",
              "\n",
              "    .colab-df-convert {\n",
              "      background-color: #E8F0FE;\n",
              "      border: none;\n",
              "      border-radius: 50%;\n",
              "      cursor: pointer;\n",
              "      display: none;\n",
              "      fill: #1967D2;\n",
              "      height: 32px;\n",
              "      padding: 0 0 0 0;\n",
              "      width: 32px;\n",
              "    }\n",
              "\n",
              "    .colab-df-convert:hover {\n",
              "      background-color: #E2EBFA;\n",
              "      box-shadow: 0px 1px 2px rgba(60, 64, 67, 0.3), 0px 1px 3px 1px rgba(60, 64, 67, 0.15);\n",
              "      fill: #174EA6;\n",
              "    }\n",
              "\n",
              "    [theme=dark] .colab-df-convert {\n",
              "      background-color: #3B4455;\n",
              "      fill: #D2E3FC;\n",
              "    }\n",
              "\n",
              "    [theme=dark] .colab-df-convert:hover {\n",
              "      background-color: #434B5C;\n",
              "      box-shadow: 0px 1px 3px 1px rgba(0, 0, 0, 0.15);\n",
              "      filter: drop-shadow(0px 1px 2px rgba(0, 0, 0, 0.3));\n",
              "      fill: #FFFFFF;\n",
              "    }\n",
              "  </style>\n",
              "\n",
              "      <script>\n",
              "        const buttonEl =\n",
              "          document.querySelector('#df-6db4a4ff-e330-4a23-87f8-dc3df85377c6 button.colab-df-convert');\n",
              "        buttonEl.style.display =\n",
              "          google.colab.kernel.accessAllowed ? 'block' : 'none';\n",
              "\n",
              "        async function convertToInteractive(key) {\n",
              "          const element = document.querySelector('#df-6db4a4ff-e330-4a23-87f8-dc3df85377c6');\n",
              "          const dataTable =\n",
              "            await google.colab.kernel.invokeFunction('convertToInteractive',\n",
              "                                                     [key], {});\n",
              "          if (!dataTable) return;\n",
              "\n",
              "          const docLinkHtml = 'Like what you see? Visit the ' +\n",
              "            '<a target=\"_blank\" href=https://colab.research.google.com/notebooks/data_table.ipynb>data table notebook</a>'\n",
              "            + ' to learn more about interactive tables.';\n",
              "          element.innerHTML = '';\n",
              "          dataTable['output_type'] = 'display_data';\n",
              "          await google.colab.output.renderOutput(dataTable, element);\n",
              "          const docLink = document.createElement('div');\n",
              "          docLink.innerHTML = docLinkHtml;\n",
              "          element.appendChild(docLink);\n",
              "        }\n",
              "      </script>\n",
              "    </div>\n",
              "  </div>\n",
              "  "
            ]
          },
          "metadata": {},
          "execution_count": 158
        }
      ]
    },
    {
      "cell_type": "code",
      "source": [
        "# Use the get_dummies() method to one-hot encode the labels\n",
        "one_hot_labels = pd.get_dummies(df_time)\n",
        "\n",
        "# Convert the DataFrame to a NumPy array\n",
        "one_hot_labels = one_hot_labels.to_numpy()\n",
        "\n",
        "print(one_hot_labels.shape)"
      ],
      "metadata": {
        "colab": {
          "base_uri": "https://localhost:8080/"
        },
        "id": "P1HVgqTsGwmK",
        "outputId": "b0c94f1f-2b82-4b77-c846-90dd9ac1b1ee"
      },
      "execution_count": 159,
      "outputs": [
        {
          "output_type": "stream",
          "name": "stdout",
          "text": [
            "(1114, 6)\n"
          ]
        }
      ]
    },
    {
      "cell_type": "code",
      "source": [
        "Y_time = one_hot_labels\n",
        "Y_time.shape"
      ],
      "metadata": {
        "colab": {
          "base_uri": "https://localhost:8080/"
        },
        "id": "scQpn-TuG-JM",
        "outputId": "1d9354e9-3ffe-45e1-c360-7b36b4eebf13"
      },
      "execution_count": 160,
      "outputs": [
        {
          "output_type": "execute_result",
          "data": {
            "text/plain": [
              "(1114, 6)"
            ]
          },
          "metadata": {},
          "execution_count": 160
        }
      ]
    },
    {
      "cell_type": "code",
      "source": [
        "# Apply PCA to the data\n",
        "pca = PCA(n_components=200)\n",
        "D_pca = pca.fit_transform(D_time)"
      ],
      "metadata": {
        "id": "0ttXRBH6JztP"
      },
      "execution_count": 169,
      "outputs": []
    },
    {
      "cell_type": "code",
      "source": [
        "# Split the data into train and test sets\n",
        "x_train, x_test, y_train, y_test = train_test_split(np.array(D_pca), np.array(Y_time), test_size=0.05, random_state=69, shuffle=True, stratify=Y_time)\n",
        "print((x_train.shape, y_train.shape, x_test.shape, y_test.shape))\n",
        "\n",
        "x_train = x_train.reshape((x_train.shape[0], x_train.shape[1], 1))\n",
        "x_test = x_test.reshape((x_test.shape[0], x_test.shape[1], 1))\n",
        "\n",
        "model = Sequential()\n",
        "model.add(Conv1D(128, 3, input_shape=(x_train.shape[1], 1), kernel_regularizer=regularizers.l2(0.001)))\n",
        "model.add(BatchNormalization())\n",
        "model.add(Activation('relu'))\n",
        "model.add(MaxPooling1D(pool_size=2))\n",
        "\n",
        "model.add(Conv1D(256, 3, kernel_regularizer=regularizers.l2(0.001)))\n",
        "model.add(BatchNormalization())\n",
        "model.add(Activation('relu'))\n",
        "model.add(MaxPooling1D(pool_size=2))\n",
        "\n",
        "model.add(Conv1D(512, 3, kernel_regularizer=regularizers.l2(0.001)))\n",
        "model.add(BatchNormalization())\n",
        "model.add(Activation('relu'))\n",
        "model.add(MaxPooling1D(pool_size=2))\n",
        "\n",
        "model.add(Conv1D(1024, 3,  kernel_regularizer=regularizers.l2(0.001)))\n",
        "model.add(BatchNormalization())\n",
        "model.add(Activation('relu'))\n",
        "model.add(MaxPooling1D(pool_size=2))\n",
        "\n",
        "model.add(Flatten())\n",
        "model.add(Dense(512, kernel_regularizer=regularizers.l2(0.001)))\n",
        "model.add(BatchNormalization())\n",
        "model.add(Activation('relu'))\n",
        "model.add(Dropout(0.3))\n",
        "\n",
        "model.add(Dense(256, kernel_regularizer=regularizers.l2(0.001)))\n",
        "model.add(BatchNormalization())\n",
        "model.add(Activation('relu'))\n",
        "model.add(Dropout(0.2))\n",
        "\n",
        "model.add(Dense(128, kernel_regularizer=regularizers.l2(0.001)))\n",
        "model.add(BatchNormalization())\n",
        "model.add(Activation('relu'))\n",
        "model.add(Dropout(0.2))\n",
        "\n",
        "model.add(Dense(6, activation='softmax'))\n",
        "\n",
        "model.compile(loss='categorical_crossentropy',\n",
        "             optimizer=optimizers.Adam(lr=0.0005),\n",
        "             metrics=['accuracy'])\n",
        "\n",
        "# Specify thecallbacks for the model\n",
        "callbacks = [EarlyStopping(monitor='val_loss', patience=10)]\n",
        "\n",
        "model.summary()\n",
        "\n",
        "# Train the model with early stopping\n",
        "history = model.fit(x_train, y_train,\n",
        "                    validation_data=(x_train, y_train),\n",
        "                    epochs=50,\n",
        "                    batch_size=32,\n",
        "                    callbacks=callbacks)"
      ],
      "metadata": {
        "colab": {
          "base_uri": "https://localhost:8080/"
        },
        "id": "l_VY7sLdJTAj",
        "outputId": "24ba893c-31f6-447a-b75d-28adc96f39bb"
      },
      "execution_count": 190,
      "outputs": [
        {
          "output_type": "stream",
          "name": "stdout",
          "text": [
            "((1058, 200), (1058, 6), (56, 200), (56, 6))\n",
            "Model: \"sequential_20\"\n",
            "_________________________________________________________________\n",
            " Layer (type)                Output Shape              Param #   \n",
            "=================================================================\n",
            " conv1d_40 (Conv1D)          (None, 198, 128)          512       \n",
            "                                                                 \n",
            " batch_normalization_70 (Bat  (None, 198, 128)         512       \n",
            " chNormalization)                                                \n",
            "                                                                 \n",
            " activation_70 (Activation)  (None, 198, 128)          0         \n",
            "                                                                 \n",
            " max_pooling1d_40 (MaxPoolin  (None, 99, 128)          0         \n",
            " g1D)                                                            \n",
            "                                                                 \n",
            " conv1d_41 (Conv1D)          (None, 97, 256)           98560     \n",
            "                                                                 \n",
            " batch_normalization_71 (Bat  (None, 97, 256)          1024      \n",
            " chNormalization)                                                \n",
            "                                                                 \n",
            " activation_71 (Activation)  (None, 97, 256)           0         \n",
            "                                                                 \n",
            " max_pooling1d_41 (MaxPoolin  (None, 48, 256)          0         \n",
            " g1D)                                                            \n",
            "                                                                 \n",
            " conv1d_42 (Conv1D)          (None, 46, 512)           393728    \n",
            "                                                                 \n",
            " batch_normalization_72 (Bat  (None, 46, 512)          2048      \n",
            " chNormalization)                                                \n",
            "                                                                 \n",
            " activation_72 (Activation)  (None, 46, 512)           0         \n",
            "                                                                 \n",
            " max_pooling1d_42 (MaxPoolin  (None, 23, 512)          0         \n",
            " g1D)                                                            \n",
            "                                                                 \n",
            " conv1d_43 (Conv1D)          (None, 21, 1024)          1573888   \n",
            "                                                                 \n",
            " batch_normalization_73 (Bat  (None, 21, 1024)         4096      \n",
            " chNormalization)                                                \n",
            "                                                                 \n",
            " activation_73 (Activation)  (None, 21, 1024)          0         \n",
            "                                                                 \n",
            " max_pooling1d_43 (MaxPoolin  (None, 10, 1024)         0         \n",
            " g1D)                                                            \n",
            "                                                                 \n",
            " flatten_18 (Flatten)        (None, 10240)             0         \n",
            "                                                                 \n",
            " dense_64 (Dense)            (None, 512)               5243392   \n",
            "                                                                 \n",
            " batch_normalization_74 (Bat  (None, 512)              2048      \n",
            " chNormalization)                                                \n",
            "                                                                 \n",
            " activation_74 (Activation)  (None, 512)               0         \n",
            "                                                                 \n",
            " dropout_46 (Dropout)        (None, 512)               0         \n",
            "                                                                 \n",
            " dense_65 (Dense)            (None, 256)               131328    \n",
            "                                                                 \n",
            " batch_normalization_75 (Bat  (None, 256)              1024      \n",
            " chNormalization)                                                \n",
            "                                                                 \n",
            " activation_75 (Activation)  (None, 256)               0         \n",
            "                                                                 \n",
            " dropout_47 (Dropout)        (None, 256)               0         \n",
            "                                                                 \n",
            " dense_66 (Dense)            (None, 128)               32896     \n",
            "                                                                 \n",
            " batch_normalization_76 (Bat  (None, 128)              512       \n",
            " chNormalization)                                                \n",
            "                                                                 \n",
            " activation_76 (Activation)  (None, 128)               0         \n",
            "                                                                 \n",
            " dropout_48 (Dropout)        (None, 128)               0         \n",
            "                                                                 \n",
            " dense_67 (Dense)            (None, 6)                 774       \n",
            "                                                                 \n",
            "=================================================================\n",
            "Total params: 7,486,342\n",
            "Trainable params: 7,480,710\n",
            "Non-trainable params: 5,632\n",
            "_________________________________________________________________\n"
          ]
        },
        {
          "output_type": "stream",
          "name": "stderr",
          "text": [
            "/usr/local/lib/python3.10/dist-packages/keras/optimizers/legacy/adam.py:117: UserWarning: The `lr` argument is deprecated, use `learning_rate` instead.\n",
            "  super().__init__(name, **kwargs)\n"
          ]
        },
        {
          "output_type": "stream",
          "name": "stdout",
          "text": [
            "Epoch 1/50\n",
            "34/34 [==============================] - 4s 46ms/step - loss: 4.0789 - accuracy: 0.2788 - val_loss: 3.6771 - val_accuracy: 0.1635\n",
            "Epoch 2/50\n",
            "34/34 [==============================] - 1s 23ms/step - loss: 3.5191 - accuracy: 0.3034 - val_loss: 3.5673 - val_accuracy: 0.1531\n",
            "Epoch 3/50\n",
            "34/34 [==============================] - 1s 19ms/step - loss: 3.3398 - accuracy: 0.3242 - val_loss: 3.5893 - val_accuracy: 0.1531\n",
            "Epoch 4/50\n",
            "34/34 [==============================] - 1s 19ms/step - loss: 3.2345 - accuracy: 0.3091 - val_loss: 3.6882 - val_accuracy: 0.1531\n",
            "Epoch 5/50\n",
            "34/34 [==============================] - 1s 18ms/step - loss: 3.1912 - accuracy: 0.3119 - val_loss: 3.7179 - val_accuracy: 0.1531\n",
            "Epoch 6/50\n",
            "34/34 [==============================] - 1s 19ms/step - loss: 3.1693 - accuracy: 0.3223 - val_loss: 3.7276 - val_accuracy: 0.1531\n",
            "Epoch 7/50\n",
            "34/34 [==============================] - 1s 19ms/step - loss: 3.1088 - accuracy: 0.3308 - val_loss: 3.7618 - val_accuracy: 0.1531\n",
            "Epoch 8/50\n",
            "34/34 [==============================] - 1s 19ms/step - loss: 3.1257 - accuracy: 0.3185 - val_loss: 3.7692 - val_accuracy: 0.1550\n",
            "Epoch 9/50\n",
            "34/34 [==============================] - 1s 19ms/step - loss: 3.0707 - accuracy: 0.3346 - val_loss: 3.3877 - val_accuracy: 0.1616\n",
            "Epoch 10/50\n",
            "34/34 [==============================] - 1s 19ms/step - loss: 3.0626 - accuracy: 0.3242 - val_loss: 3.3900 - val_accuracy: 0.1871\n",
            "Epoch 11/50\n",
            "34/34 [==============================] - 1s 18ms/step - loss: 3.0786 - accuracy: 0.3261 - val_loss: 3.4461 - val_accuracy: 0.1739\n",
            "Epoch 12/50\n",
            "34/34 [==============================] - 1s 19ms/step - loss: 3.0644 - accuracy: 0.3223 - val_loss: 3.3097 - val_accuracy: 0.1985\n",
            "Epoch 13/50\n",
            "34/34 [==============================] - 1s 19ms/step - loss: 3.0395 - accuracy: 0.3336 - val_loss: 3.2480 - val_accuracy: 0.2212\n",
            "Epoch 14/50\n",
            "34/34 [==============================] - 1s 19ms/step - loss: 3.0118 - accuracy: 0.3261 - val_loss: 3.1556 - val_accuracy: 0.2117\n",
            "Epoch 15/50\n",
            "34/34 [==============================] - 1s 18ms/step - loss: 3.0349 - accuracy: 0.2958 - val_loss: 3.0623 - val_accuracy: 0.2344\n",
            "Epoch 16/50\n",
            "34/34 [==============================] - 1s 20ms/step - loss: 2.9793 - accuracy: 0.3280 - val_loss: 3.0793 - val_accuracy: 0.2401\n",
            "Epoch 17/50\n",
            "34/34 [==============================] - 1s 19ms/step - loss: 2.9527 - accuracy: 0.3091 - val_loss: 3.0096 - val_accuracy: 0.2826\n",
            "Epoch 18/50\n",
            "34/34 [==============================] - 1s 28ms/step - loss: 2.8974 - accuracy: 0.3535 - val_loss: 2.9871 - val_accuracy: 0.3062\n",
            "Epoch 19/50\n",
            "34/34 [==============================] - 1s 29ms/step - loss: 2.8729 - accuracy: 0.3478 - val_loss: 2.9451 - val_accuracy: 0.2836\n",
            "Epoch 20/50\n",
            "34/34 [==============================] - 1s 29ms/step - loss: 2.8402 - accuracy: 0.3422 - val_loss: 2.8934 - val_accuracy: 0.3223\n",
            "Epoch 21/50\n",
            "34/34 [==============================] - 1s 29ms/step - loss: 2.8639 - accuracy: 0.3299 - val_loss: 2.8920 - val_accuracy: 0.3705\n",
            "Epoch 22/50\n",
            "34/34 [==============================] - 1s 19ms/step - loss: 2.8426 - accuracy: 0.3535 - val_loss: 2.8543 - val_accuracy: 0.3261\n",
            "Epoch 23/50\n",
            "34/34 [==============================] - 1s 20ms/step - loss: 2.8399 - accuracy: 0.3299 - val_loss: 2.9237 - val_accuracy: 0.2996\n",
            "Epoch 24/50\n",
            "34/34 [==============================] - 1s 19ms/step - loss: 2.8174 - accuracy: 0.3686 - val_loss: 2.8152 - val_accuracy: 0.3563\n",
            "Epoch 25/50\n",
            "34/34 [==============================] - 1s 19ms/step - loss: 2.8377 - accuracy: 0.3384 - val_loss: 2.8822 - val_accuracy: 0.2703\n",
            "Epoch 26/50\n",
            "34/34 [==============================] - 1s 19ms/step - loss: 2.7862 - accuracy: 0.3459 - val_loss: 3.1024 - val_accuracy: 0.2221\n",
            "Epoch 27/50\n",
            "34/34 [==============================] - 1s 24ms/step - loss: 2.8036 - accuracy: 0.3308 - val_loss: 2.8648 - val_accuracy: 0.2750\n",
            "Epoch 28/50\n",
            "34/34 [==============================] - 1s 18ms/step - loss: 2.7712 - accuracy: 0.3355 - val_loss: 2.7368 - val_accuracy: 0.3648\n",
            "Epoch 29/50\n",
            "34/34 [==============================] - 1s 19ms/step - loss: 2.7933 - accuracy: 0.3592 - val_loss: 3.1763 - val_accuracy: 0.2637\n",
            "Epoch 30/50\n",
            "34/34 [==============================] - 1s 18ms/step - loss: 2.8106 - accuracy: 0.3592 - val_loss: 3.1000 - val_accuracy: 0.2656\n",
            "Epoch 31/50\n",
            "34/34 [==============================] - 1s 18ms/step - loss: 2.7923 - accuracy: 0.3488 - val_loss: 2.8964 - val_accuracy: 0.2902\n",
            "Epoch 32/50\n",
            "34/34 [==============================] - 1s 19ms/step - loss: 2.7946 - accuracy: 0.3431 - val_loss: 2.8693 - val_accuracy: 0.3308\n",
            "Epoch 33/50\n",
            "34/34 [==============================] - 1s 18ms/step - loss: 2.7816 - accuracy: 0.3261 - val_loss: 2.7442 - val_accuracy: 0.3526\n",
            "Epoch 34/50\n",
            "34/34 [==============================] - 1s 19ms/step - loss: 2.7755 - accuracy: 0.3393 - val_loss: 2.8326 - val_accuracy: 0.3384\n",
            "Epoch 35/50\n",
            "34/34 [==============================] - 1s 19ms/step - loss: 2.7836 - accuracy: 0.3620 - val_loss: 3.1456 - val_accuracy: 0.3053\n",
            "Epoch 36/50\n",
            "34/34 [==============================] - 1s 18ms/step - loss: 2.7773 - accuracy: 0.3629 - val_loss: 3.0950 - val_accuracy: 0.3072\n",
            "Epoch 37/50\n",
            "34/34 [==============================] - 1s 22ms/step - loss: 2.7663 - accuracy: 0.3554 - val_loss: 2.7744 - val_accuracy: 0.3459\n",
            "Epoch 38/50\n",
            "34/34 [==============================] - 1s 28ms/step - loss: 2.7401 - accuracy: 0.3648 - val_loss: 2.7099 - val_accuracy: 0.3809\n",
            "Epoch 39/50\n",
            "34/34 [==============================] - 1s 28ms/step - loss: 2.7336 - accuracy: 0.3639 - val_loss: 2.7011 - val_accuracy: 0.3866\n",
            "Epoch 40/50\n",
            "34/34 [==============================] - 1s 29ms/step - loss: 2.6906 - accuracy: 0.3743 - val_loss: 2.6719 - val_accuracy: 0.3828\n",
            "Epoch 41/50\n",
            "34/34 [==============================] - 1s 21ms/step - loss: 2.7387 - accuracy: 0.3478 - val_loss: 2.7431 - val_accuracy: 0.3516\n",
            "Epoch 42/50\n",
            "34/34 [==============================] - 1s 19ms/step - loss: 2.7177 - accuracy: 0.3507 - val_loss: 2.6486 - val_accuracy: 0.3752\n",
            "Epoch 43/50\n",
            "34/34 [==============================] - 1s 19ms/step - loss: 2.6745 - accuracy: 0.3592 - val_loss: 2.6257 - val_accuracy: 0.3752\n",
            "Epoch 44/50\n",
            "34/34 [==============================] - 1s 20ms/step - loss: 2.6720 - accuracy: 0.3488 - val_loss: 2.6060 - val_accuracy: 0.3781\n",
            "Epoch 45/50\n",
            "34/34 [==============================] - 1s 19ms/step - loss: 2.6317 - accuracy: 0.3837 - val_loss: 2.6121 - val_accuracy: 0.3658\n",
            "Epoch 46/50\n",
            "34/34 [==============================] - 1s 19ms/step - loss: 2.6315 - accuracy: 0.3601 - val_loss: 2.5997 - val_accuracy: 0.3573\n",
            "Epoch 47/50\n",
            "34/34 [==============================] - 1s 19ms/step - loss: 2.6072 - accuracy: 0.3544 - val_loss: 2.6005 - val_accuracy: 0.3526\n",
            "Epoch 48/50\n",
            "34/34 [==============================] - 1s 19ms/step - loss: 2.6236 - accuracy: 0.3733 - val_loss: 2.8785 - val_accuracy: 0.2769\n",
            "Epoch 49/50\n",
            "34/34 [==============================] - 1s 24ms/step - loss: 2.6173 - accuracy: 0.3611 - val_loss: 2.6028 - val_accuracy: 0.3497\n",
            "Epoch 50/50\n",
            "34/34 [==============================] - 1s 19ms/step - loss: 2.6105 - accuracy: 0.3677 - val_loss: 2.5498 - val_accuracy: 0.3866\n"
          ]
        }
      ]
    },
    {
      "cell_type": "markdown",
      "source": [
        "## Frequency Domain Model"
      ],
      "metadata": {
        "id": "8SCoKeoWL2eM"
      }
    },
    {
      "cell_type": "code",
      "execution_count": 188,
      "metadata": {
        "id": "xtwZaAPLZ7xt",
        "colab": {
          "base_uri": "https://localhost:8080/",
          "height": 287
        },
        "outputId": "6d50d2a4-6c9d-4cf8-a0b6-efb02b4a0e1c"
      },
      "outputs": [
        {
          "output_type": "error",
          "ename": "KeyboardInterrupt",
          "evalue": "ignored",
          "traceback": [
            "\u001b[0;31m---------------------------------------------------------------------------\u001b[0m",
            "\u001b[0;31mKeyboardInterrupt\u001b[0m                         Traceback (most recent call last)",
            "\u001b[0;32m<ipython-input-188-2948377aa908>\u001b[0m in \u001b[0;36m<cell line: 1>\u001b[0;34m()\u001b[0m\n\u001b[0;32m----> 1\u001b[0;31m \u001b[0mD_freq\u001b[0m\u001b[0;34m,\u001b[0m \u001b[0mY_freq\u001b[0m \u001b[0;34m=\u001b[0m \u001b[0mloadAudioFreq\u001b[0m\u001b[0;34m(\u001b[0m\u001b[0mD_train\u001b[0m\u001b[0;34m)\u001b[0m\u001b[0;34m\u001b[0m\u001b[0;34m\u001b[0m\u001b[0m\n\u001b[0m",
            "\u001b[0;32m<ipython-input-137-7457368c2cf1>\u001b[0m in \u001b[0;36mloadAudioFreq\u001b[0;34m(audio_files)\u001b[0m\n\u001b[1;32m     12\u001b[0m   \u001b[0;32mfor\u001b[0m \u001b[0maudio_file\u001b[0m \u001b[0;32min\u001b[0m \u001b[0maudio_files\u001b[0m\u001b[0;34m:\u001b[0m\u001b[0;34m\u001b[0m\u001b[0;34m\u001b[0m\u001b[0m\n\u001b[1;32m     13\u001b[0m     \u001b[0;31m# load the audio file\u001b[0m\u001b[0;34m\u001b[0m\u001b[0;34m\u001b[0m\u001b[0m\n\u001b[0;32m---> 14\u001b[0;31m     \u001b[0maudio\u001b[0m\u001b[0;34m,\u001b[0m \u001b[0msr\u001b[0m \u001b[0;34m=\u001b[0m \u001b[0mlib\u001b[0m\u001b[0;34m.\u001b[0m\u001b[0mload\u001b[0m\u001b[0;34m(\u001b[0m\u001b[0maudio_file\u001b[0m\u001b[0;34m,\u001b[0m \u001b[0msr\u001b[0m\u001b[0;34m=\u001b[0m\u001b[0;36m4444\u001b[0m\u001b[0;34m)\u001b[0m\u001b[0;34m\u001b[0m\u001b[0;34m\u001b[0m\u001b[0m\n\u001b[0m\u001b[1;32m     15\u001b[0m     \u001b[0;31m# extract mel spectrogram\u001b[0m\u001b[0;34m\u001b[0m\u001b[0;34m\u001b[0m\u001b[0m\n\u001b[1;32m     16\u001b[0m     \u001b[0mmel_spec\u001b[0m \u001b[0;34m=\u001b[0m \u001b[0mmelSpectrogram\u001b[0m\u001b[0;34m(\u001b[0m\u001b[0maudio\u001b[0m\u001b[0;34m,\u001b[0m \u001b[0msr\u001b[0m\u001b[0;34m)\u001b[0m\u001b[0;34m\u001b[0m\u001b[0;34m\u001b[0m\u001b[0m\n",
            "\u001b[0;32m/usr/local/lib/python3.10/dist-packages/librosa/util/decorators.py\u001b[0m in \u001b[0;36minner_f\u001b[0;34m(*args, **kwargs)\u001b[0m\n\u001b[1;32m     86\u001b[0m             \u001b[0mextra_args\u001b[0m \u001b[0;34m=\u001b[0m \u001b[0mlen\u001b[0m\u001b[0;34m(\u001b[0m\u001b[0margs\u001b[0m\u001b[0;34m)\u001b[0m \u001b[0;34m-\u001b[0m \u001b[0mlen\u001b[0m\u001b[0;34m(\u001b[0m\u001b[0mall_args\u001b[0m\u001b[0;34m)\u001b[0m\u001b[0;34m\u001b[0m\u001b[0;34m\u001b[0m\u001b[0m\n\u001b[1;32m     87\u001b[0m             \u001b[0;32mif\u001b[0m \u001b[0mextra_args\u001b[0m \u001b[0;34m<=\u001b[0m \u001b[0;36m0\u001b[0m\u001b[0;34m:\u001b[0m\u001b[0;34m\u001b[0m\u001b[0;34m\u001b[0m\u001b[0m\n\u001b[0;32m---> 88\u001b[0;31m                 \u001b[0;32mreturn\u001b[0m \u001b[0mf\u001b[0m\u001b[0;34m(\u001b[0m\u001b[0;34m*\u001b[0m\u001b[0margs\u001b[0m\u001b[0;34m,\u001b[0m \u001b[0;34m**\u001b[0m\u001b[0mkwargs\u001b[0m\u001b[0;34m)\u001b[0m\u001b[0;34m\u001b[0m\u001b[0;34m\u001b[0m\u001b[0m\n\u001b[0m\u001b[1;32m     89\u001b[0m \u001b[0;34m\u001b[0m\u001b[0m\n\u001b[1;32m     90\u001b[0m             \u001b[0;31m# extra_args > 0\u001b[0m\u001b[0;34m\u001b[0m\u001b[0;34m\u001b[0m\u001b[0m\n",
            "\u001b[0;32m/usr/local/lib/python3.10/dist-packages/librosa/core/audio.py\u001b[0m in \u001b[0;36mload\u001b[0;34m(path, sr, mono, offset, duration, dtype, res_type)\u001b[0m\n\u001b[1;32m    177\u001b[0m \u001b[0;34m\u001b[0m\u001b[0m\n\u001b[1;32m    178\u001b[0m     \u001b[0;32mif\u001b[0m \u001b[0msr\u001b[0m \u001b[0;32mis\u001b[0m \u001b[0;32mnot\u001b[0m \u001b[0;32mNone\u001b[0m\u001b[0;34m:\u001b[0m\u001b[0;34m\u001b[0m\u001b[0;34m\u001b[0m\u001b[0m\n\u001b[0;32m--> 179\u001b[0;31m         \u001b[0my\u001b[0m \u001b[0;34m=\u001b[0m \u001b[0mresample\u001b[0m\u001b[0;34m(\u001b[0m\u001b[0my\u001b[0m\u001b[0;34m,\u001b[0m \u001b[0morig_sr\u001b[0m\u001b[0;34m=\u001b[0m\u001b[0msr_native\u001b[0m\u001b[0;34m,\u001b[0m \u001b[0mtarget_sr\u001b[0m\u001b[0;34m=\u001b[0m\u001b[0msr\u001b[0m\u001b[0;34m,\u001b[0m \u001b[0mres_type\u001b[0m\u001b[0;34m=\u001b[0m\u001b[0mres_type\u001b[0m\u001b[0;34m)\u001b[0m\u001b[0;34m\u001b[0m\u001b[0;34m\u001b[0m\u001b[0m\n\u001b[0m\u001b[1;32m    180\u001b[0m \u001b[0;34m\u001b[0m\u001b[0m\n\u001b[1;32m    181\u001b[0m     \u001b[0;32melse\u001b[0m\u001b[0;34m:\u001b[0m\u001b[0;34m\u001b[0m\u001b[0;34m\u001b[0m\u001b[0m\n",
            "\u001b[0;32m/usr/local/lib/python3.10/dist-packages/librosa/util/decorators.py\u001b[0m in \u001b[0;36minner_f\u001b[0;34m(*args, **kwargs)\u001b[0m\n\u001b[1;32m     86\u001b[0m             \u001b[0mextra_args\u001b[0m \u001b[0;34m=\u001b[0m \u001b[0mlen\u001b[0m\u001b[0;34m(\u001b[0m\u001b[0margs\u001b[0m\u001b[0;34m)\u001b[0m \u001b[0;34m-\u001b[0m \u001b[0mlen\u001b[0m\u001b[0;34m(\u001b[0m\u001b[0mall_args\u001b[0m\u001b[0;34m)\u001b[0m\u001b[0;34m\u001b[0m\u001b[0;34m\u001b[0m\u001b[0m\n\u001b[1;32m     87\u001b[0m             \u001b[0;32mif\u001b[0m \u001b[0mextra_args\u001b[0m \u001b[0;34m<=\u001b[0m \u001b[0;36m0\u001b[0m\u001b[0;34m:\u001b[0m\u001b[0;34m\u001b[0m\u001b[0;34m\u001b[0m\u001b[0m\n\u001b[0;32m---> 88\u001b[0;31m                 \u001b[0;32mreturn\u001b[0m \u001b[0mf\u001b[0m\u001b[0;34m(\u001b[0m\u001b[0;34m*\u001b[0m\u001b[0margs\u001b[0m\u001b[0;34m,\u001b[0m \u001b[0;34m**\u001b[0m\u001b[0mkwargs\u001b[0m\u001b[0;34m)\u001b[0m\u001b[0;34m\u001b[0m\u001b[0;34m\u001b[0m\u001b[0m\n\u001b[0m\u001b[1;32m     89\u001b[0m \u001b[0;34m\u001b[0m\u001b[0m\n\u001b[1;32m     90\u001b[0m             \u001b[0;31m# extra_args > 0\u001b[0m\u001b[0;34m\u001b[0m\u001b[0;34m\u001b[0m\u001b[0m\n",
            "\u001b[0;32m/usr/local/lib/python3.10/dist-packages/librosa/core/audio.py\u001b[0m in \u001b[0;36mresample\u001b[0;34m(y, orig_sr, target_sr, res_type, fix, scale, **kwargs)\u001b[0m\n\u001b[1;32m    645\u001b[0m         \u001b[0my_hat\u001b[0m \u001b[0;34m=\u001b[0m \u001b[0msoxr\u001b[0m\u001b[0;34m.\u001b[0m\u001b[0mresample\u001b[0m\u001b[0;34m(\u001b[0m\u001b[0my\u001b[0m\u001b[0;34m.\u001b[0m\u001b[0mT\u001b[0m\u001b[0;34m,\u001b[0m \u001b[0morig_sr\u001b[0m\u001b[0;34m,\u001b[0m \u001b[0mtarget_sr\u001b[0m\u001b[0;34m,\u001b[0m \u001b[0mquality\u001b[0m\u001b[0;34m=\u001b[0m\u001b[0mres_type\u001b[0m\u001b[0;34m)\u001b[0m\u001b[0;34m.\u001b[0m\u001b[0mT\u001b[0m\u001b[0;34m\u001b[0m\u001b[0;34m\u001b[0m\u001b[0m\n\u001b[1;32m    646\u001b[0m     \u001b[0;32melse\u001b[0m\u001b[0;34m:\u001b[0m\u001b[0;34m\u001b[0m\u001b[0;34m\u001b[0m\u001b[0m\n\u001b[0;32m--> 647\u001b[0;31m         \u001b[0my_hat\u001b[0m \u001b[0;34m=\u001b[0m \u001b[0mresampy\u001b[0m\u001b[0;34m.\u001b[0m\u001b[0mresample\u001b[0m\u001b[0;34m(\u001b[0m\u001b[0my\u001b[0m\u001b[0;34m,\u001b[0m \u001b[0morig_sr\u001b[0m\u001b[0;34m,\u001b[0m \u001b[0mtarget_sr\u001b[0m\u001b[0;34m,\u001b[0m \u001b[0mfilter\u001b[0m\u001b[0;34m=\u001b[0m\u001b[0mres_type\u001b[0m\u001b[0;34m,\u001b[0m \u001b[0maxis\u001b[0m\u001b[0;34m=\u001b[0m\u001b[0;34m-\u001b[0m\u001b[0;36m1\u001b[0m\u001b[0;34m)\u001b[0m\u001b[0;34m\u001b[0m\u001b[0;34m\u001b[0m\u001b[0m\n\u001b[0m\u001b[1;32m    648\u001b[0m \u001b[0;34m\u001b[0m\u001b[0m\n\u001b[1;32m    649\u001b[0m     \u001b[0;32mif\u001b[0m \u001b[0mfix\u001b[0m\u001b[0;34m:\u001b[0m\u001b[0;34m\u001b[0m\u001b[0;34m\u001b[0m\u001b[0m\n",
            "\u001b[0;32m/usr/local/lib/python3.10/dist-packages/resampy/core.py\u001b[0m in \u001b[0;36mresample\u001b[0;34m(x, sr_orig, sr_new, axis, filter, parallel, **kwargs)\u001b[0m\n\u001b[1;32m    166\u001b[0m             )\n\u001b[1;32m    167\u001b[0m     \u001b[0;32melse\u001b[0m\u001b[0;34m:\u001b[0m\u001b[0;34m\u001b[0m\u001b[0;34m\u001b[0m\u001b[0m\n\u001b[0;32m--> 168\u001b[0;31m         resample_f_s(\n\u001b[0m\u001b[1;32m    169\u001b[0m             \u001b[0mx\u001b[0m\u001b[0;34m.\u001b[0m\u001b[0mswapaxes\u001b[0m\u001b[0;34m(\u001b[0m\u001b[0;34m-\u001b[0m\u001b[0;36m1\u001b[0m\u001b[0;34m,\u001b[0m \u001b[0maxis\u001b[0m\u001b[0;34m)\u001b[0m\u001b[0;34m,\u001b[0m\u001b[0;34m\u001b[0m\u001b[0;34m\u001b[0m\u001b[0m\n\u001b[1;32m    170\u001b[0m             \u001b[0mt_out\u001b[0m\u001b[0;34m,\u001b[0m\u001b[0;34m\u001b[0m\u001b[0;34m\u001b[0m\u001b[0m\n",
            "\u001b[0;32m/usr/local/lib/python3.10/dist-packages/numba/np/ufunc/gufunc.py\u001b[0m in \u001b[0;36m__call__\u001b[0;34m(self, *args, **kwargs)\u001b[0m\n\u001b[1;32m    190\u001b[0m             \u001b[0mself\u001b[0m\u001b[0;34m.\u001b[0m\u001b[0madd\u001b[0m\u001b[0;34m(\u001b[0m\u001b[0msig\u001b[0m\u001b[0;34m)\u001b[0m\u001b[0;34m\u001b[0m\u001b[0;34m\u001b[0m\u001b[0m\n\u001b[1;32m    191\u001b[0m             \u001b[0mself\u001b[0m\u001b[0;34m.\u001b[0m\u001b[0mbuild_ufunc\u001b[0m\u001b[0;34m(\u001b[0m\u001b[0;34m)\u001b[0m\u001b[0;34m\u001b[0m\u001b[0;34m\u001b[0m\u001b[0m\n\u001b[0;32m--> 192\u001b[0;31m         \u001b[0;32mreturn\u001b[0m \u001b[0mself\u001b[0m\u001b[0;34m.\u001b[0m\u001b[0mufunc\u001b[0m\u001b[0;34m(\u001b[0m\u001b[0;34m*\u001b[0m\u001b[0margs\u001b[0m\u001b[0;34m,\u001b[0m \u001b[0;34m**\u001b[0m\u001b[0mkwargs\u001b[0m\u001b[0;34m)\u001b[0m\u001b[0;34m\u001b[0m\u001b[0;34m\u001b[0m\u001b[0m\n\u001b[0m",
            "\u001b[0;31mKeyboardInterrupt\u001b[0m: "
          ]
        }
      ],
      "source": [
        "D_freq, Y_freq = loadAudioFreq(D_train)"
      ]
    },
    {
      "cell_type": "code",
      "source": [
        "unicheck = np.unique(Y_freq, axis=0)\n",
        "print(f\"Check on freq domain:\\n{unicheck}\")"
      ],
      "metadata": {
        "colab": {
          "base_uri": "https://localhost:8080/"
        },
        "id": "OrMPj3gPjhQd",
        "outputId": "d38a9329-24ef-48a9-c7f9-7d2446f9b120"
      },
      "execution_count": 174,
      "outputs": [
        {
          "output_type": "stream",
          "name": "stdout",
          "text": [
            "Check on freq domain:\n",
            "['ANG' 'DIS' 'FEA' 'HAP' 'NEU' 'SAD']\n"
          ]
        }
      ]
    },
    {
      "cell_type": "code",
      "execution_count": 175,
      "metadata": {
        "colab": {
          "base_uri": "https://localhost:8080/",
          "height": 206
        },
        "id": "GUgk6mioee_h",
        "outputId": "471b4269-013e-423e-f424-2c122ee61a81"
      },
      "outputs": [
        {
          "output_type": "execute_result",
          "data": {
            "text/plain": [
              "     0\n",
              "0  HAP\n",
              "1  SAD\n",
              "2  SAD\n",
              "3  HAP\n",
              "4  HAP"
            ],
            "text/html": [
              "\n",
              "  <div id=\"df-38374f61-c793-47cd-959c-e24ae34f0b4c\">\n",
              "    <div class=\"colab-df-container\">\n",
              "      <div>\n",
              "<style scoped>\n",
              "    .dataframe tbody tr th:only-of-type {\n",
              "        vertical-align: middle;\n",
              "    }\n",
              "\n",
              "    .dataframe tbody tr th {\n",
              "        vertical-align: top;\n",
              "    }\n",
              "\n",
              "    .dataframe thead th {\n",
              "        text-align: right;\n",
              "    }\n",
              "</style>\n",
              "<table border=\"1\" class=\"dataframe\">\n",
              "  <thead>\n",
              "    <tr style=\"text-align: right;\">\n",
              "      <th></th>\n",
              "      <th>0</th>\n",
              "    </tr>\n",
              "  </thead>\n",
              "  <tbody>\n",
              "    <tr>\n",
              "      <th>0</th>\n",
              "      <td>HAP</td>\n",
              "    </tr>\n",
              "    <tr>\n",
              "      <th>1</th>\n",
              "      <td>SAD</td>\n",
              "    </tr>\n",
              "    <tr>\n",
              "      <th>2</th>\n",
              "      <td>SAD</td>\n",
              "    </tr>\n",
              "    <tr>\n",
              "      <th>3</th>\n",
              "      <td>HAP</td>\n",
              "    </tr>\n",
              "    <tr>\n",
              "      <th>4</th>\n",
              "      <td>HAP</td>\n",
              "    </tr>\n",
              "  </tbody>\n",
              "</table>\n",
              "</div>\n",
              "      <button class=\"colab-df-convert\" onclick=\"convertToInteractive('df-38374f61-c793-47cd-959c-e24ae34f0b4c')\"\n",
              "              title=\"Convert this dataframe to an interactive table.\"\n",
              "              style=\"display:none;\">\n",
              "        \n",
              "  <svg xmlns=\"http://www.w3.org/2000/svg\" height=\"24px\"viewBox=\"0 0 24 24\"\n",
              "       width=\"24px\">\n",
              "    <path d=\"M0 0h24v24H0V0z\" fill=\"none\"/>\n",
              "    <path d=\"M18.56 5.44l.94 2.06.94-2.06 2.06-.94-2.06-.94-.94-2.06-.94 2.06-2.06.94zm-11 1L8.5 8.5l.94-2.06 2.06-.94-2.06-.94L8.5 2.5l-.94 2.06-2.06.94zm10 10l.94 2.06.94-2.06 2.06-.94-2.06-.94-.94-2.06-.94 2.06-2.06.94z\"/><path d=\"M17.41 7.96l-1.37-1.37c-.4-.4-.92-.59-1.43-.59-.52 0-1.04.2-1.43.59L10.3 9.45l-7.72 7.72c-.78.78-.78 2.05 0 2.83L4 21.41c.39.39.9.59 1.41.59.51 0 1.02-.2 1.41-.59l7.78-7.78 2.81-2.81c.8-.78.8-2.07 0-2.86zM5.41 20L4 18.59l7.72-7.72 1.47 1.35L5.41 20z\"/>\n",
              "  </svg>\n",
              "      </button>\n",
              "      \n",
              "  <style>\n",
              "    .colab-df-container {\n",
              "      display:flex;\n",
              "      flex-wrap:wrap;\n",
              "      gap: 12px;\n",
              "    }\n",
              "\n",
              "    .colab-df-convert {\n",
              "      background-color: #E8F0FE;\n",
              "      border: none;\n",
              "      border-radius: 50%;\n",
              "      cursor: pointer;\n",
              "      display: none;\n",
              "      fill: #1967D2;\n",
              "      height: 32px;\n",
              "      padding: 0 0 0 0;\n",
              "      width: 32px;\n",
              "    }\n",
              "\n",
              "    .colab-df-convert:hover {\n",
              "      background-color: #E2EBFA;\n",
              "      box-shadow: 0px 1px 2px rgba(60, 64, 67, 0.3), 0px 1px 3px 1px rgba(60, 64, 67, 0.15);\n",
              "      fill: #174EA6;\n",
              "    }\n",
              "\n",
              "    [theme=dark] .colab-df-convert {\n",
              "      background-color: #3B4455;\n",
              "      fill: #D2E3FC;\n",
              "    }\n",
              "\n",
              "    [theme=dark] .colab-df-convert:hover {\n",
              "      background-color: #434B5C;\n",
              "      box-shadow: 0px 1px 3px 1px rgba(0, 0, 0, 0.15);\n",
              "      filter: drop-shadow(0px 1px 2px rgba(0, 0, 0, 0.3));\n",
              "      fill: #FFFFFF;\n",
              "    }\n",
              "  </style>\n",
              "\n",
              "      <script>\n",
              "        const buttonEl =\n",
              "          document.querySelector('#df-38374f61-c793-47cd-959c-e24ae34f0b4c button.colab-df-convert');\n",
              "        buttonEl.style.display =\n",
              "          google.colab.kernel.accessAllowed ? 'block' : 'none';\n",
              "\n",
              "        async function convertToInteractive(key) {\n",
              "          const element = document.querySelector('#df-38374f61-c793-47cd-959c-e24ae34f0b4c');\n",
              "          const dataTable =\n",
              "            await google.colab.kernel.invokeFunction('convertToInteractive',\n",
              "                                                     [key], {});\n",
              "          if (!dataTable) return;\n",
              "\n",
              "          const docLinkHtml = 'Like what you see? Visit the ' +\n",
              "            '<a target=\"_blank\" href=https://colab.research.google.com/notebooks/data_table.ipynb>data table notebook</a>'\n",
              "            + ' to learn more about interactive tables.';\n",
              "          element.innerHTML = '';\n",
              "          dataTable['output_type'] = 'display_data';\n",
              "          await google.colab.output.renderOutput(dataTable, element);\n",
              "          const docLink = document.createElement('div');\n",
              "          docLink.innerHTML = docLinkHtml;\n",
              "          element.appendChild(docLink);\n",
              "        }\n",
              "      </script>\n",
              "    </div>\n",
              "  </div>\n",
              "  "
            ]
          },
          "metadata": {},
          "execution_count": 175
        }
      ],
      "source": [
        "df_freq = pd.DataFrame(Y_freq)\n",
        "df_freq.head()"
      ]
    },
    {
      "cell_type": "code",
      "execution_count": 176,
      "metadata": {
        "colab": {
          "base_uri": "https://localhost:8080/"
        },
        "id": "zsGHDz33gla3",
        "outputId": "416ea199-50fe-4dd8-c97f-95f099f9bf2d"
      },
      "outputs": [
        {
          "output_type": "stream",
          "name": "stdout",
          "text": [
            "(1106, 6)\n"
          ]
        }
      ],
      "source": [
        "# Use the get_dummies() method to one-hot encode the labels\n",
        "one_hot_labels = pd.get_dummies(df_freq)\n",
        "\n",
        "# Convert the DataFrame to a NumPy array\n",
        "one_hot_labels = one_hot_labels.to_numpy()\n",
        "\n",
        "print(one_hot_labels.shape)"
      ]
    },
    {
      "cell_type": "code",
      "execution_count": 177,
      "metadata": {
        "colab": {
          "base_uri": "https://localhost:8080/"
        },
        "id": "tC97UHgRgopX",
        "outputId": "c0aec86b-fbf1-4647-c7aa-8010e455bc9d"
      },
      "outputs": [
        {
          "output_type": "execute_result",
          "data": {
            "text/plain": [
              "(1106, 6)"
            ]
          },
          "metadata": {},
          "execution_count": 177
        }
      ],
      "source": [
        "Y_freq = one_hot_labels\n",
        "Y_freq.shape"
      ]
    },
    {
      "cell_type": "code",
      "source": [
        "for i, array in enumerate(D_freq):\n",
        "    D_freq[i] = np.pad(array, ((0, 0), (0, 256 - array.shape[1])))\n",
        "D_freq = np.array(D_freq)"
      ],
      "metadata": {
        "id": "9rGP0HoHwFn2"
      },
      "execution_count": 178,
      "outputs": []
    },
    {
      "cell_type": "code",
      "source": [
        "D_freq.shape"
      ],
      "metadata": {
        "colab": {
          "base_uri": "https://localhost:8080/"
        },
        "id": "0WQI9jQzwHtK",
        "outputId": "ba465947-ab5e-40bc-f01f-9b8fa42054fc"
      },
      "execution_count": 179,
      "outputs": [
        {
          "output_type": "execute_result",
          "data": {
            "text/plain": [
              "(1106, 64, 256)"
            ]
          },
          "metadata": {},
          "execution_count": 179
        }
      ]
    },
    {
      "cell_type": "code",
      "execution_count": 180,
      "metadata": {
        "colab": {
          "base_uri": "https://localhost:8080/"
        },
        "id": "iy502zPqgrjs",
        "outputId": "8b19eac1-1ed1-44bc-8cac-9c75cc9a02b4"
      },
      "outputs": [
        {
          "output_type": "stream",
          "name": "stdout",
          "text": [
            "((1050, 64, 256), (1050, 6), (56, 64, 256), (56, 6))\n"
          ]
        }
      ],
      "source": [
        "x_train, x_test, y_train, y_test = train_test_split(np.array(D_freq), np.array(Y_freq), test_size=0.05)\n",
        "print((x_train.shape, y_train.shape, x_test.shape, y_test.shape))"
      ]
    },
    {
      "cell_type": "code",
      "execution_count": 181,
      "metadata": {
        "id": "85miHU54hlCc",
        "colab": {
          "base_uri": "https://localhost:8080/"
        },
        "outputId": "940c63ca-7609-4d09-d479-2e5d35866763"
      },
      "outputs": [
        {
          "output_type": "stream",
          "name": "stdout",
          "text": [
            "(1050, 64, 256, 1) (56, 64, 256, 1)\n"
          ]
        }
      ],
      "source": [
        "x_train = x_train.reshape((x_train.shape[0], x_train.shape[1], x_train.shape[2], 1))\n",
        "x_test = x_test.reshape((x_test.shape[0], x_test.shape[1], x_test.shape[2], 1))\n",
        "print(x_train.shape, x_test.shape)"
      ]
    },
    {
      "cell_type": "code",
      "source": [
        "model = Sequential()\n",
        "\n",
        "# Layer 1: Convolutional Layer\n",
        "model.add(Conv2D(32, (3, 3), activation='relu', input_shape=(x_train.shape[1], x_train.shape[2], 1)))\n",
        "model.add(MaxPooling2D(pool_size=(2, 2)))\n",
        "\n",
        "# Layer 2: Convolutional Layer\n",
        "model.add(Conv2D(64, (3, 3), activation='relu'))\n",
        "model.add(MaxPooling2D(pool_size=(2, 2)))\n",
        "\n",
        "# Layer 3: Convolutional Layer\n",
        "model.add(Conv2D(128, (3, 3), activation='relu'))\n",
        "model.add(MaxPooling2D(pool_size=(2, 2)))\n",
        "\n",
        "# Layer 4: Flatten Layer\n",
        "model.add(Flatten())\n",
        "\n",
        "# Layer 5: Fully Connected Layer\n",
        "model.add(Dense(256, activation='relu'))\n",
        "model.add(Dropout(0.5))\n",
        "\n",
        "# Layer 6: Fully Connected Layer\n",
        "model.add(Dense(128, activation='relu'))\n",
        "model.add(Dropout(0.5))\n",
        "\n",
        "# Layer 7: Output Layer\n",
        "model.add(Dense(6, activation='sigmoid'))\n",
        "\n",
        "model.compile(loss='categorical_crossentropy',\n",
        "             optimizer=optimizers.Adam(lr=0.0005),\n",
        "             metrics=['accuracy'])\n",
        "\n",
        "model.summary()"
      ],
      "metadata": {
        "colab": {
          "base_uri": "https://localhost:8080/"
        },
        "id": "_Qb69EaZ4cZj",
        "outputId": "2655ae6d-dd77-4312-cba9-21e9f62cd15f"
      },
      "execution_count": 185,
      "outputs": [
        {
          "output_type": "stream",
          "name": "stdout",
          "text": [
            "Model: \"sequential_19\"\n",
            "_________________________________________________________________\n",
            " Layer (type)                Output Shape              Param #   \n",
            "=================================================================\n",
            " conv2d_23 (Conv2D)          (None, 62, 254, 32)       320       \n",
            "                                                                 \n",
            " max_pooling2d_21 (MaxPoolin  (None, 31, 127, 32)      0         \n",
            " g2D)                                                            \n",
            "                                                                 \n",
            " conv2d_24 (Conv2D)          (None, 29, 125, 64)       18496     \n",
            "                                                                 \n",
            " max_pooling2d_22 (MaxPoolin  (None, 14, 62, 64)       0         \n",
            " g2D)                                                            \n",
            "                                                                 \n",
            " conv2d_25 (Conv2D)          (None, 12, 60, 128)       73856     \n",
            "                                                                 \n",
            " max_pooling2d_23 (MaxPoolin  (None, 6, 30, 128)       0         \n",
            " g2D)                                                            \n",
            "                                                                 \n",
            " flatten_17 (Flatten)        (None, 23040)             0         \n",
            "                                                                 \n",
            " dense_61 (Dense)            (None, 256)               5898496   \n",
            "                                                                 \n",
            " dropout_44 (Dropout)        (None, 256)               0         \n",
            "                                                                 \n",
            " dense_62 (Dense)            (None, 128)               32896     \n",
            "                                                                 \n",
            " dropout_45 (Dropout)        (None, 128)               0         \n",
            "                                                                 \n",
            " dense_63 (Dense)            (None, 6)                 774       \n",
            "                                                                 \n",
            "=================================================================\n",
            "Total params: 6,024,838\n",
            "Trainable params: 6,024,838\n",
            "Non-trainable params: 0\n",
            "_________________________________________________________________\n"
          ]
        }
      ]
    },
    {
      "cell_type": "code",
      "execution_count": 187,
      "metadata": {
        "id": "gl590_cHhr3p",
        "colab": {
          "base_uri": "https://localhost:8080/"
        },
        "outputId": "2d826731-30bd-4f9b-e182-17a3234c217b"
      },
      "outputs": [
        {
          "output_type": "stream",
          "name": "stdout",
          "text": [
            "Epoch 1/50\n",
            "9/9 [==============================] - 1s 61ms/step - loss: 1.3034 - accuracy: 0.4886 - val_loss: 1.4309 - val_accuracy: 0.3750\n",
            "Epoch 2/50\n",
            "9/9 [==============================] - 0s 49ms/step - loss: 1.2334 - accuracy: 0.5152 - val_loss: 1.3791 - val_accuracy: 0.3571\n",
            "Epoch 3/50\n",
            "9/9 [==============================] - 0s 48ms/step - loss: 1.1959 - accuracy: 0.5286 - val_loss: 1.4050 - val_accuracy: 0.3750\n",
            "Epoch 4/50\n",
            "9/9 [==============================] - 0s 50ms/step - loss: 1.1619 - accuracy: 0.5457 - val_loss: 1.4022 - val_accuracy: 0.3929\n",
            "Epoch 5/50\n",
            "9/9 [==============================] - 0s 50ms/step - loss: 1.1946 - accuracy: 0.5305 - val_loss: 1.4175 - val_accuracy: 0.3929\n",
            "Epoch 6/50\n",
            "9/9 [==============================] - 0s 52ms/step - loss: 1.1422 - accuracy: 0.5476 - val_loss: 1.4963 - val_accuracy: 0.3214\n",
            "Epoch 7/50\n",
            "9/9 [==============================] - 0s 54ms/step - loss: 1.1028 - accuracy: 0.5571 - val_loss: 1.5764 - val_accuracy: 0.3571\n",
            "Epoch 8/50\n",
            "9/9 [==============================] - 0s 55ms/step - loss: 1.0701 - accuracy: 0.5781 - val_loss: 1.4552 - val_accuracy: 0.4107\n",
            "Epoch 9/50\n",
            "9/9 [==============================] - 0s 54ms/step - loss: 1.0691 - accuracy: 0.5905 - val_loss: 1.3875 - val_accuracy: 0.4286\n",
            "Epoch 10/50\n",
            "9/9 [==============================] - 0s 53ms/step - loss: 1.0244 - accuracy: 0.6362 - val_loss: 1.3963 - val_accuracy: 0.3929\n",
            "Epoch 11/50\n",
            "9/9 [==============================] - 0s 56ms/step - loss: 0.9808 - accuracy: 0.6429 - val_loss: 1.3355 - val_accuracy: 0.3929\n",
            "Epoch 12/50\n",
            "9/9 [==============================] - 1s 60ms/step - loss: 0.9674 - accuracy: 0.6305 - val_loss: 1.3440 - val_accuracy: 0.4286\n",
            "Epoch 13/50\n",
            "9/9 [==============================] - 0s 54ms/step - loss: 0.9102 - accuracy: 0.6562 - val_loss: 1.3896 - val_accuracy: 0.4286\n",
            "Epoch 14/50\n",
            "9/9 [==============================] - 0s 50ms/step - loss: 0.8994 - accuracy: 0.6543 - val_loss: 1.3652 - val_accuracy: 0.4464\n",
            "Epoch 15/50\n",
            "9/9 [==============================] - 0s 49ms/step - loss: 0.8462 - accuracy: 0.6752 - val_loss: 1.3188 - val_accuracy: 0.4464\n",
            "Epoch 16/50\n",
            "9/9 [==============================] - 0s 49ms/step - loss: 0.7938 - accuracy: 0.6933 - val_loss: 1.4162 - val_accuracy: 0.4286\n",
            "Epoch 17/50\n",
            "9/9 [==============================] - 0s 49ms/step - loss: 0.7426 - accuracy: 0.7152 - val_loss: 1.4541 - val_accuracy: 0.4107\n",
            "Epoch 18/50\n",
            "9/9 [==============================] - 0s 49ms/step - loss: 0.7194 - accuracy: 0.7495 - val_loss: 1.5553 - val_accuracy: 0.4464\n",
            "Epoch 19/50\n",
            "9/9 [==============================] - 0s 49ms/step - loss: 0.6986 - accuracy: 0.7448 - val_loss: 1.5108 - val_accuracy: 0.5000\n",
            "Epoch 20/50\n",
            "9/9 [==============================] - 0s 50ms/step - loss: 0.6979 - accuracy: 0.7410 - val_loss: 1.4124 - val_accuracy: 0.4286\n",
            "Epoch 21/50\n",
            "9/9 [==============================] - 0s 49ms/step - loss: 0.6593 - accuracy: 0.7695 - val_loss: 1.2544 - val_accuracy: 0.5000\n",
            "Epoch 22/50\n",
            "9/9 [==============================] - 0s 49ms/step - loss: 0.5774 - accuracy: 0.7914 - val_loss: 1.3738 - val_accuracy: 0.5000\n",
            "Epoch 23/50\n",
            "9/9 [==============================] - 0s 48ms/step - loss: 0.5173 - accuracy: 0.8067 - val_loss: 1.3728 - val_accuracy: 0.5357\n",
            "Epoch 24/50\n",
            "9/9 [==============================] - 0s 51ms/step - loss: 0.5555 - accuracy: 0.7981 - val_loss: 1.3776 - val_accuracy: 0.5714\n",
            "Epoch 25/50\n",
            "9/9 [==============================] - 0s 48ms/step - loss: 0.5394 - accuracy: 0.8171 - val_loss: 1.3741 - val_accuracy: 0.5179\n",
            "Epoch 26/50\n",
            "9/9 [==============================] - 0s 50ms/step - loss: 0.4821 - accuracy: 0.8238 - val_loss: 1.2454 - val_accuracy: 0.5179\n",
            "Epoch 27/50\n",
            "9/9 [==============================] - 0s 48ms/step - loss: 0.4350 - accuracy: 0.8457 - val_loss: 1.2747 - val_accuracy: 0.4821\n",
            "Epoch 28/50\n",
            "9/9 [==============================] - 0s 49ms/step - loss: 0.4396 - accuracy: 0.8514 - val_loss: 1.4970 - val_accuracy: 0.5357\n",
            "Epoch 29/50\n",
            "9/9 [==============================] - 0s 49ms/step - loss: 0.3893 - accuracy: 0.8524 - val_loss: 1.4168 - val_accuracy: 0.5000\n",
            "Epoch 30/50\n",
            "9/9 [==============================] - 0s 49ms/step - loss: 0.3472 - accuracy: 0.8752 - val_loss: 1.6779 - val_accuracy: 0.5536\n",
            "Epoch 31/50\n",
            "9/9 [==============================] - 0s 49ms/step - loss: 0.3362 - accuracy: 0.8781 - val_loss: 1.4828 - val_accuracy: 0.5357\n",
            "Epoch 32/50\n",
            "9/9 [==============================] - 0s 49ms/step - loss: 0.3113 - accuracy: 0.8952 - val_loss: 1.6967 - val_accuracy: 0.5179\n",
            "Epoch 33/50\n",
            "9/9 [==============================] - 0s 49ms/step - loss: 0.2622 - accuracy: 0.9105 - val_loss: 1.3331 - val_accuracy: 0.5000\n",
            "Epoch 34/50\n",
            "9/9 [==============================] - 0s 49ms/step - loss: 0.3040 - accuracy: 0.9057 - val_loss: 1.6323 - val_accuracy: 0.5357\n",
            "Epoch 35/50\n",
            "9/9 [==============================] - 0s 50ms/step - loss: 0.3031 - accuracy: 0.8924 - val_loss: 1.3959 - val_accuracy: 0.5893\n",
            "Epoch 36/50\n",
            "9/9 [==============================] - 0s 53ms/step - loss: 0.2671 - accuracy: 0.9143 - val_loss: 1.5479 - val_accuracy: 0.5179\n"
          ]
        }
      ],
      "source": [
        "# Specify thecallbacks for the model\n",
        "callbacks = [EarlyStopping(monitor='val_loss', patience=10)]\n",
        "\n",
        "history = model.fit(x_train, y_train,\n",
        "                    epochs=50,\n",
        "                    batch_size=128,\n",
        "                    validation_data=(x_test, y_test),\n",
        "                    callbacks=callbacks)"
      ]
    },
    {
      "cell_type": "code",
      "source": [],
      "metadata": {
        "id": "iaGFCAqQm826"
      },
      "execution_count": null,
      "outputs": []
    }
  ],
  "metadata": {
    "accelerator": "GPU",
    "colab": {
      "provenance": []
    },
    "gpuClass": "standard",
    "kernelspec": {
      "display_name": "Python 3",
      "name": "python3"
    },
    "language_info": {
      "name": "python"
    }
  },
  "nbformat": 4,
  "nbformat_minor": 0
}