{
  "cells": [
    {
      "cell_type": "code",
      "source": [
        "!pip install audiomentations"
      ],
      "metadata": {
        "id": "ioEPduLUVoRG",
        "outputId": "34a7d098-83d9-4711-8bd2-8135afe83a8c",
        "colab": {
          "base_uri": "https://localhost:8080/"
        }
      },
      "execution_count": 2,
      "outputs": [
        {
          "output_type": "stream",
          "name": "stdout",
          "text": [
            "Looking in indexes: https://pypi.org/simple, https://us-python.pkg.dev/colab-wheels/public/simple/\n",
            "Collecting audiomentations\n",
            "  Downloading audiomentations-0.30.0-py3-none-any.whl (68 kB)\n",
            "\u001b[2K     \u001b[90m━━━━━━━━━━━━━━━━━━━━━━━━━━━━━━━━━━━━━━━━\u001b[0m \u001b[32m68.8/68.8 kB\u001b[0m \u001b[31m3.1 MB/s\u001b[0m eta \u001b[36m0:00:00\u001b[0m\n",
            "\u001b[?25hRequirement already satisfied: numpy>=1.13.0 in /usr/local/lib/python3.10/dist-packages (from audiomentations) (1.22.4)\n",
            "Collecting librosa<0.10.0,>0.7.2 (from audiomentations)\n",
            "  Downloading librosa-0.9.2-py3-none-any.whl (214 kB)\n",
            "\u001b[2K     \u001b[90m━━━━━━━━━━━━━━━━━━━━━━━━━━━━━━━━━━━━━━\u001b[0m \u001b[32m214.3/214.3 kB\u001b[0m \u001b[31m16.6 MB/s\u001b[0m eta \u001b[36m0:00:00\u001b[0m\n",
            "\u001b[?25hRequirement already satisfied: scipy<2,>=1.0.0 in /usr/local/lib/python3.10/dist-packages (from audiomentations) (1.10.1)\n",
            "Requirement already satisfied: audioread>=2.1.9 in /usr/local/lib/python3.10/dist-packages (from librosa<0.10.0,>0.7.2->audiomentations) (3.0.0)\n",
            "Requirement already satisfied: scikit-learn>=0.19.1 in /usr/local/lib/python3.10/dist-packages (from librosa<0.10.0,>0.7.2->audiomentations) (1.2.2)\n",
            "Requirement already satisfied: joblib>=0.14 in /usr/local/lib/python3.10/dist-packages (from librosa<0.10.0,>0.7.2->audiomentations) (1.2.0)\n",
            "Requirement already satisfied: decorator>=4.0.10 in /usr/local/lib/python3.10/dist-packages (from librosa<0.10.0,>0.7.2->audiomentations) (4.4.2)\n",
            "Collecting resampy>=0.2.2 (from librosa<0.10.0,>0.7.2->audiomentations)\n",
            "  Downloading resampy-0.4.2-py3-none-any.whl (3.1 MB)\n",
            "\u001b[2K     \u001b[90m━━━━━━━━━━━━━━━━━━━━━━━━━━━━━━━━━━━━━━━━\u001b[0m \u001b[32m3.1/3.1 MB\u001b[0m \u001b[31m21.7 MB/s\u001b[0m eta \u001b[36m0:00:00\u001b[0m\n",
            "\u001b[?25hRequirement already satisfied: numba>=0.45.1 in /usr/local/lib/python3.10/dist-packages (from librosa<0.10.0,>0.7.2->audiomentations) (0.56.4)\n",
            "Requirement already satisfied: soundfile>=0.10.2 in /usr/local/lib/python3.10/dist-packages (from librosa<0.10.0,>0.7.2->audiomentations) (0.12.1)\n",
            "Requirement already satisfied: pooch>=1.0 in /usr/local/lib/python3.10/dist-packages (from librosa<0.10.0,>0.7.2->audiomentations) (1.6.0)\n",
            "Requirement already satisfied: packaging>=20.0 in /usr/local/lib/python3.10/dist-packages (from librosa<0.10.0,>0.7.2->audiomentations) (23.1)\n",
            "Requirement already satisfied: llvmlite<0.40,>=0.39.0dev0 in /usr/local/lib/python3.10/dist-packages (from numba>=0.45.1->librosa<0.10.0,>0.7.2->audiomentations) (0.39.1)\n",
            "Requirement already satisfied: setuptools in /usr/local/lib/python3.10/dist-packages (from numba>=0.45.1->librosa<0.10.0,>0.7.2->audiomentations) (67.7.2)\n",
            "Requirement already satisfied: appdirs>=1.3.0 in /usr/local/lib/python3.10/dist-packages (from pooch>=1.0->librosa<0.10.0,>0.7.2->audiomentations) (1.4.4)\n",
            "Requirement already satisfied: requests>=2.19.0 in /usr/local/lib/python3.10/dist-packages (from pooch>=1.0->librosa<0.10.0,>0.7.2->audiomentations) (2.27.1)\n",
            "Requirement already satisfied: threadpoolctl>=2.0.0 in /usr/local/lib/python3.10/dist-packages (from scikit-learn>=0.19.1->librosa<0.10.0,>0.7.2->audiomentations) (3.1.0)\n",
            "Requirement already satisfied: cffi>=1.0 in /usr/local/lib/python3.10/dist-packages (from soundfile>=0.10.2->librosa<0.10.0,>0.7.2->audiomentations) (1.15.1)\n",
            "Requirement already satisfied: pycparser in /usr/local/lib/python3.10/dist-packages (from cffi>=1.0->soundfile>=0.10.2->librosa<0.10.0,>0.7.2->audiomentations) (2.21)\n",
            "Requirement already satisfied: urllib3<1.27,>=1.21.1 in /usr/local/lib/python3.10/dist-packages (from requests>=2.19.0->pooch>=1.0->librosa<0.10.0,>0.7.2->audiomentations) (1.26.15)\n",
            "Requirement already satisfied: certifi>=2017.4.17 in /usr/local/lib/python3.10/dist-packages (from requests>=2.19.0->pooch>=1.0->librosa<0.10.0,>0.7.2->audiomentations) (2022.12.7)\n",
            "Requirement already satisfied: charset-normalizer~=2.0.0 in /usr/local/lib/python3.10/dist-packages (from requests>=2.19.0->pooch>=1.0->librosa<0.10.0,>0.7.2->audiomentations) (2.0.12)\n",
            "Requirement already satisfied: idna<4,>=2.5 in /usr/local/lib/python3.10/dist-packages (from requests>=2.19.0->pooch>=1.0->librosa<0.10.0,>0.7.2->audiomentations) (3.4)\n",
            "Installing collected packages: resampy, librosa, audiomentations\n",
            "  Attempting uninstall: librosa\n",
            "    Found existing installation: librosa 0.10.0.post2\n",
            "    Uninstalling librosa-0.10.0.post2:\n",
            "      Successfully uninstalled librosa-0.10.0.post2\n",
            "Successfully installed audiomentations-0.30.0 librosa-0.9.2 resampy-0.4.2\n"
          ]
        }
      ]
    },
    {
      "cell_type": "code",
      "execution_count": 61,
      "metadata": {
        "id": "z1LtRnT4W4mY"
      },
      "outputs": [],
      "source": [
        "import numpy as np\n",
        "import pandas as pd\n",
        "import matplotlib.pyplot as plt\n",
        "from pathlib import Path\n",
        "from scipy.io import wavfile\n",
        "import os.path\n",
        "import IPython.display\n",
        "import seaborn as sns\n",
        "import librosa\n",
        "import librosa.display\n",
        "import soundfile\n",
        "from audiomentations import Compose, AddGaussianNoise, TimeStretch, PitchShift\n",
        "\n",
        "from sklearn.model_selection import train_test_split\n",
        "from sklearn.preprocessing import StandardScaler, LabelEncoder\n",
        "from sklearn.metrics import confusion_matrix\n",
        "\n",
        "import tensorflow as tf\n",
        "from tensorflow.keras import utils\n",
        "from keras.models import Sequential\n",
        "from keras.layers import Dense, Dropout, Activation, Conv1D, MaxPooling1D, Flatten, BatchNormalization\n",
        "from tensorflow.keras.models import Sequential\n",
        "from tensorflow.keras.layers import Conv2D, MaxPooling2D, Flatten, Dense, Dropout\n",
        "from keras import optimizers\n",
        "\n",
        "from keras import optimizers,regularizers\n",
        "from tensorflow.python.keras.callbacks import ModelCheckpoint\n",
        "from tensorflow.keras.callbacks import ModelCheckpoint, EarlyStopping\n",
        "from sklearn.decomposition import PCA\n",
        "from tensorflow.keras.regularizers import l2\n",
        "import warnings"
      ]
    },
    {
      "cell_type": "code",
      "execution_count": 4,
      "metadata": {
        "colab": {
          "base_uri": "https://localhost:8080/"
        },
        "id": "5GTtnPFfW87P",
        "outputId": "18e964c4-16a3-42f2-eb3a-786929fe0459"
      },
      "outputs": [
        {
          "output_type": "stream",
          "name": "stdout",
          "text": [
            "Looking in indexes: https://pypi.org/simple, https://us-python.pkg.dev/colab-wheels/public/simple/\n",
            "Collecting pydub\n",
            "  Downloading pydub-0.25.1-py2.py3-none-any.whl (32 kB)\n",
            "Installing collected packages: pydub\n",
            "Successfully installed pydub-0.25.1\n",
            "Looking in indexes: https://pypi.org/simple, https://us-python.pkg.dev/colab-wheels/public/simple/\n",
            "Requirement already satisfied: audiomentations in /usr/local/lib/python3.10/dist-packages (0.30.0)\n",
            "Requirement already satisfied: numpy>=1.13.0 in /usr/local/lib/python3.10/dist-packages (from audiomentations) (1.22.4)\n",
            "Requirement already satisfied: librosa<0.10.0,>0.7.2 in /usr/local/lib/python3.10/dist-packages (from audiomentations) (0.9.2)\n",
            "Requirement already satisfied: scipy<2,>=1.0.0 in /usr/local/lib/python3.10/dist-packages (from audiomentations) (1.10.1)\n",
            "Requirement already satisfied: audioread>=2.1.9 in /usr/local/lib/python3.10/dist-packages (from librosa<0.10.0,>0.7.2->audiomentations) (3.0.0)\n",
            "Requirement already satisfied: scikit-learn>=0.19.1 in /usr/local/lib/python3.10/dist-packages (from librosa<0.10.0,>0.7.2->audiomentations) (1.2.2)\n",
            "Requirement already satisfied: joblib>=0.14 in /usr/local/lib/python3.10/dist-packages (from librosa<0.10.0,>0.7.2->audiomentations) (1.2.0)\n",
            "Requirement already satisfied: decorator>=4.0.10 in /usr/local/lib/python3.10/dist-packages (from librosa<0.10.0,>0.7.2->audiomentations) (4.4.2)\n",
            "Requirement already satisfied: resampy>=0.2.2 in /usr/local/lib/python3.10/dist-packages (from librosa<0.10.0,>0.7.2->audiomentations) (0.4.2)\n",
            "Requirement already satisfied: numba>=0.45.1 in /usr/local/lib/python3.10/dist-packages (from librosa<0.10.0,>0.7.2->audiomentations) (0.56.4)\n",
            "Requirement already satisfied: soundfile>=0.10.2 in /usr/local/lib/python3.10/dist-packages (from librosa<0.10.0,>0.7.2->audiomentations) (0.12.1)\n",
            "Requirement already satisfied: pooch>=1.0 in /usr/local/lib/python3.10/dist-packages (from librosa<0.10.0,>0.7.2->audiomentations) (1.6.0)\n",
            "Requirement already satisfied: packaging>=20.0 in /usr/local/lib/python3.10/dist-packages (from librosa<0.10.0,>0.7.2->audiomentations) (23.1)\n",
            "Requirement already satisfied: llvmlite<0.40,>=0.39.0dev0 in /usr/local/lib/python3.10/dist-packages (from numba>=0.45.1->librosa<0.10.0,>0.7.2->audiomentations) (0.39.1)\n",
            "Requirement already satisfied: setuptools in /usr/local/lib/python3.10/dist-packages (from numba>=0.45.1->librosa<0.10.0,>0.7.2->audiomentations) (67.7.2)\n",
            "Requirement already satisfied: appdirs>=1.3.0 in /usr/local/lib/python3.10/dist-packages (from pooch>=1.0->librosa<0.10.0,>0.7.2->audiomentations) (1.4.4)\n",
            "Requirement already satisfied: requests>=2.19.0 in /usr/local/lib/python3.10/dist-packages (from pooch>=1.0->librosa<0.10.0,>0.7.2->audiomentations) (2.27.1)\n",
            "Requirement already satisfied: threadpoolctl>=2.0.0 in /usr/local/lib/python3.10/dist-packages (from scikit-learn>=0.19.1->librosa<0.10.0,>0.7.2->audiomentations) (3.1.0)\n",
            "Requirement already satisfied: cffi>=1.0 in /usr/local/lib/python3.10/dist-packages (from soundfile>=0.10.2->librosa<0.10.0,>0.7.2->audiomentations) (1.15.1)\n",
            "Requirement already satisfied: pycparser in /usr/local/lib/python3.10/dist-packages (from cffi>=1.0->soundfile>=0.10.2->librosa<0.10.0,>0.7.2->audiomentations) (2.21)\n",
            "Requirement already satisfied: urllib3<1.27,>=1.21.1 in /usr/local/lib/python3.10/dist-packages (from requests>=2.19.0->pooch>=1.0->librosa<0.10.0,>0.7.2->audiomentations) (1.26.15)\n",
            "Requirement already satisfied: certifi>=2017.4.17 in /usr/local/lib/python3.10/dist-packages (from requests>=2.19.0->pooch>=1.0->librosa<0.10.0,>0.7.2->audiomentations) (2022.12.7)\n",
            "Requirement already satisfied: charset-normalizer~=2.0.0 in /usr/local/lib/python3.10/dist-packages (from requests>=2.19.0->pooch>=1.0->librosa<0.10.0,>0.7.2->audiomentations) (2.0.12)\n",
            "Requirement already satisfied: idna<4,>=2.5 in /usr/local/lib/python3.10/dist-packages (from requests>=2.19.0->pooch>=1.0->librosa<0.10.0,>0.7.2->audiomentations) (3.4)\n"
          ]
        }
      ],
      "source": [
        "!pip install pydub\n",
        "!pip install audiomentations"
      ]
    },
    {
      "cell_type": "code",
      "execution_count": 5,
      "metadata": {
        "id": "1nQjexIlW-Su",
        "colab": {
          "base_uri": "https://localhost:8080/"
        },
        "outputId": "89f1faf1-7b24-4725-8259-7cddea4fcf8e"
      },
      "outputs": [
        {
          "output_type": "stream",
          "name": "stdout",
          "text": [
            "Mounted at /content/drive\n"
          ]
        }
      ],
      "source": [
        "import re\n",
        "import os\n",
        "import wave\n",
        "import glob\n",
        "import numpy as np\n",
        "import pandas as pd\n",
        "import matplotlib.pyplot as plt\n",
        "from pydub import AudioSegment\n",
        "from IPython.display import Audio, display\n",
        "import librosa as lib\n",
        "import librosa.display\n",
        "\n",
        "from google.colab import drive\n",
        "drive.mount('/content/drive')"
      ]
    },
    {
      "cell_type": "code",
      "execution_count": 6,
      "metadata": {
        "id": "Y2JiRL40XJSK"
      },
      "outputs": [],
      "source": [
        "PATH = \"/content/drive/MyDrive/Colab Notebooks/Speech_Emotion/Crema\"\n",
        "AUDIO_PATH = \"/content/drive/MyDrive/Colab Notebooks/Speech_Emotion/Crema/1001_DFA_ANG_XX.wav\""
      ]
    },
    {
      "cell_type": "code",
      "source": [
        "def zeroCrossingRate(audio):\n",
        "  return lib.feature.zero_crossing_rate(audio)"
      ],
      "metadata": {
        "id": "hZRUzrRHI3x4"
      },
      "execution_count": 7,
      "outputs": []
    },
    {
      "cell_type": "code",
      "source": [
        "def energy(audio):\n",
        "  # using a spectrogram will give a more accurate representation\n",
        "  # of energy over time because its frames can be windowed\n",
        "  S, phase = lib.magphase(lib.stft(audio))\n",
        "  return lib.feature.rms(S=S).mean()"
      ],
      "metadata": {
        "id": "YUj1b0stI8Jp"
      },
      "execution_count": 8,
      "outputs": []
    },
    {
      "cell_type": "code",
      "source": [
        "def chromaStft(audio, sr):\n",
        "  stft = np.abs(librosa.stft(audio))\n",
        "  return librosa.feature.chroma_stft(S=stft, sr=sr, n_fft=200).mean()"
      ],
      "metadata": {
        "id": "RFqdKI4dj-sx"
      },
      "execution_count": 9,
      "outputs": []
    },
    {
      "cell_type": "code",
      "source": [
        "def mfcc(data, sr):\n",
        "  return librosa.feature.mfcc(y=data, sr=sr, n_fft=200).mean()"
      ],
      "metadata": {
        "id": "bwJma-zak5ai"
      },
      "execution_count": 10,
      "outputs": []
    },
    {
      "cell_type": "code",
      "execution_count": 11,
      "metadata": {
        "id": "t03kfNaMJEUx"
      },
      "outputs": [],
      "source": [
        "def melSpectrogram(audio, sr):\n",
        "  mel_spectrogram = lib.feature.melspectrogram(y=audio, sr=sr, n_fft=200, n_mels=64)\n",
        "  log_mel_spectrogram = librosa.power_to_db(mel_spectrogram)\n",
        "  return log_mel_spectrogram"
      ]
    },
    {
      "cell_type": "code",
      "execution_count": 12,
      "metadata": {
        "id": "GZLRcaVEinfV"
      },
      "outputs": [],
      "source": [
        "def playAudio(audio_file):\n",
        "  audio = AudioSegment.from_wav(audio_file)\n",
        "  # Play the audio\n",
        "  audio.export('temp_audio.wav', format='wav')\n",
        "  audio_data = open('temp_audio.wav', 'rb').read()\n",
        "  display(Audio(audio_data))\n",
        "  # Delete the temporary audio file\n",
        "  os.remove('temp_audio.wav')"
      ]
    },
    {
      "cell_type": "code",
      "execution_count": 13,
      "metadata": {
        "id": "VErUAYc_mIzR"
      },
      "outputs": [],
      "source": [
        "def visualize_waveform(audio, sr):\n",
        "    plt.figure(figsize=(12, 4))\n",
        "    plt.plot(audio)\n",
        "    plt.xlabel('Time')\n",
        "    plt.ylabel('Amplitude')\n",
        "    plt.title('Waveform')\n",
        "    plt.show()"
      ]
    },
    {
      "cell_type": "code",
      "execution_count": 14,
      "metadata": {
        "id": "xrXZclbPVgB4"
      },
      "outputs": [],
      "source": [
        "def splitData(dataset_path):\n",
        "  audio_files = glob.glob(os.path.join(dataset_path, \"*.wav\"))\n",
        "  audio_train, audio_test = train_test_split(audio_files, test_size=0.3, random_state=42, shuffle=True)\n",
        "  return audio_train, audio_test"
      ]
    },
    {
      "cell_type": "code",
      "execution_count": 15,
      "metadata": {
        "id": "7EIOYeWGWM-f"
      },
      "outputs": [],
      "source": [
        "D_train, D_test = splitData(PATH)"
      ]
    },
    {
      "cell_type": "code",
      "execution_count": 16,
      "metadata": {
        "id": "YpC8Jy1nWg0t",
        "colab": {
          "base_uri": "https://localhost:8080/"
        },
        "outputId": "e20844e7-3379-474f-959d-d3d8a7fe4b92"
      },
      "outputs": [
        {
          "output_type": "stream",
          "name": "stdout",
          "text": [
            "5209 2233\n"
          ]
        }
      ],
      "source": [
        "print(len(D_train), len(D_test))"
      ]
    },
    {
      "cell_type": "code",
      "execution_count": 17,
      "metadata": {
        "id": "9RqTKlDHXq-f",
        "colab": {
          "base_uri": "https://localhost:8080/",
          "height": 36
        },
        "outputId": "936b5fe0-8882-43c8-a442-88a50494ecd1"
      },
      "outputs": [
        {
          "output_type": "execute_result",
          "data": {
            "text/plain": [
              "'/content/drive/MyDrive/Colab Notebooks/Speech_Emotion/Crema/1026_TIE_HAP_XX.wav'"
            ],
            "application/vnd.google.colaboratory.intrinsic+json": {
              "type": "string"
            }
          },
          "metadata": {},
          "execution_count": 17
        }
      ],
      "source": [
        "D_test[0]"
      ]
    },
    {
      "cell_type": "code",
      "execution_count": 18,
      "metadata": {
        "id": "EgU38C-idTBu"
      },
      "outputs": [],
      "source": [
        "def getMaxLen(audio_files):\n",
        "  max_length = 0\n",
        "  for audio_file in audio_files:\n",
        "    audio, _ = librosa.load(audio_file)\n",
        "    length = len(audio)\n",
        "    max_length = max(max_length, length)\n",
        "  return max_length"
      ]
    },
    {
      "cell_type": "code",
      "source": [
        "def loadAudioTime(audio_files):\n",
        "  classes = [\"SAD\", \"ANG\", \"DIS\", \"FEA\", \"HAP\", \"NEU\"]\n",
        "  \n",
        "  # max_length = getMaxLen(audio_files)\n",
        "  max_length = 200\n",
        "  D, Y = [], []\n",
        "  for audio_file in audio_files: \n",
        "    # load the audio file\n",
        "    audio, sr = lib.load(audio_file, sr=4444)\n",
        "    # extract zero crossing rate\n",
        "    zcr = zeroCrossingRate(audio)\n",
        "    # extract energy\n",
        "    rms = energy(audio)\n",
        "    # chroma stft\n",
        "    cs = chromaStft(audio, sr)\n",
        "    # mfcc\n",
        "    mfc = mfcc(audio, sr)\n",
        "    # extract mel spectrogram\n",
        "    #mel_spec = melSpectrogram(audio, sr).mean()\n",
        "    combined_features = np.concatenate(([rms, cs, mfc], (np.pad(zcr[0], (0, 300 - len(zcr[0]))))))\n",
        "    D.append(combined_features)\n",
        "    for cls in classes:\n",
        "      if re.search(cls, audio_file): Y.append(cls)\n",
        "  \n",
        "  return D, Y"
      ],
      "metadata": {
        "id": "cbqGt6YB-xbJ"
      },
      "execution_count": 19,
      "outputs": []
    },
    {
      "cell_type": "code",
      "execution_count": 20,
      "metadata": {
        "id": "yMgXIyyNYSFb"
      },
      "outputs": [],
      "source": [
        "def loadAudioFreq(audio_files):\n",
        "  classes = [\"SAD\", \"ANG\", \"DIS\", \"FEA\", \"HAP\", \"NEU\"]\n",
        " \n",
        "  # max_length = getMaxLen(audio_files)\n",
        "  max_length = 200\n",
        "  D, Y = [], []\n",
        "  for audio_file in audio_files: \n",
        "    # load the audio file\n",
        "    audio, sr = lib.load(audio_file, sr=4444)\n",
        "    # extract mel spectrogram\n",
        "    mel_spec = melSpectrogram(audio, sr)\n",
        "    D.append(mel_spec)\n",
        "    for cls in classes:\n",
        "      if re.search(cls, audio_file): Y.append(cls)\n",
        "    \n",
        "  return D, Y"
      ]
    },
    {
      "cell_type": "markdown",
      "source": [
        "## Time Domain Model Without Augmentation"
      ],
      "metadata": {
        "id": "XwjLK8nELd6H"
      }
    },
    {
      "cell_type": "code",
      "source": [
        "D_time, Y_time = loadAudioTime(D_train)"
      ],
      "metadata": {
        "colab": {
          "base_uri": "https://localhost:8080/"
        },
        "id": "R1mGR_wWGc75",
        "outputId": "d8376cac-790e-4d0a-8fa3-8a7c150e2d51"
      },
      "execution_count": null,
      "outputs": [
        {
          "output_type": "stream",
          "name": "stderr",
          "text": [
            "/usr/local/lib/python3.10/dist-packages/librosa/util/decorators.py:88: UserWarning: Trying to estimate tuning from empty frequency set.\n",
            "  return f(*args, **kwargs)\n"
          ]
        }
      ]
    },
    {
      "cell_type": "code",
      "source": [
        "D_time = np.array(D_time)\n",
        "D_time.shape"
      ],
      "metadata": {
        "colab": {
          "base_uri": "https://localhost:8080/"
        },
        "id": "J7hz6ckbH3wL",
        "outputId": "102ab8c6-57aa-473d-b749-be5c7348f9a6"
      },
      "execution_count": null,
      "outputs": [
        {
          "output_type": "execute_result",
          "data": {
            "text/plain": [
              "(5216, 303)"
            ]
          },
          "metadata": {},
          "execution_count": 93
        }
      ]
    },
    {
      "cell_type": "code",
      "source": [
        "unicheck = np.unique(Y_time, axis=0)\n",
        "print(f\"Check on time domain:\\n{unicheck}\")"
      ],
      "metadata": {
        "colab": {
          "base_uri": "https://localhost:8080/"
        },
        "id": "GQ5AZ5vMGi4d",
        "outputId": "a833630b-3f91-4f4a-fd6d-a8c980249a5b"
      },
      "execution_count": null,
      "outputs": [
        {
          "output_type": "stream",
          "name": "stdout",
          "text": [
            "Check on time domain:\n",
            "['ANG' 'DIS' 'FEA' 'HAP' 'NEU' 'SAD']\n"
          ]
        }
      ]
    },
    {
      "cell_type": "code",
      "source": [
        "df_time = pd.DataFrame(Y_time)\n",
        "df_time.head()"
      ],
      "metadata": {
        "colab": {
          "base_uri": "https://localhost:8080/",
          "height": 206
        },
        "id": "2a8Cneh6GpQb",
        "outputId": "cda5d6ff-3cc2-4c07-b443-05b43d077b73"
      },
      "execution_count": null,
      "outputs": [
        {
          "output_type": "execute_result",
          "data": {
            "text/plain": [
              "     0\n",
              "0  FEA\n",
              "1  FEA\n",
              "2  HAP\n",
              "3  HAP\n",
              "4  ANG"
            ],
            "text/html": [
              "\n",
              "  <div id=\"df-f4daa964-3187-4de9-bba6-e9c4d8cf9202\">\n",
              "    <div class=\"colab-df-container\">\n",
              "      <div>\n",
              "<style scoped>\n",
              "    .dataframe tbody tr th:only-of-type {\n",
              "        vertical-align: middle;\n",
              "    }\n",
              "\n",
              "    .dataframe tbody tr th {\n",
              "        vertical-align: top;\n",
              "    }\n",
              "\n",
              "    .dataframe thead th {\n",
              "        text-align: right;\n",
              "    }\n",
              "</style>\n",
              "<table border=\"1\" class=\"dataframe\">\n",
              "  <thead>\n",
              "    <tr style=\"text-align: right;\">\n",
              "      <th></th>\n",
              "      <th>0</th>\n",
              "    </tr>\n",
              "  </thead>\n",
              "  <tbody>\n",
              "    <tr>\n",
              "      <th>0</th>\n",
              "      <td>FEA</td>\n",
              "    </tr>\n",
              "    <tr>\n",
              "      <th>1</th>\n",
              "      <td>FEA</td>\n",
              "    </tr>\n",
              "    <tr>\n",
              "      <th>2</th>\n",
              "      <td>HAP</td>\n",
              "    </tr>\n",
              "    <tr>\n",
              "      <th>3</th>\n",
              "      <td>HAP</td>\n",
              "    </tr>\n",
              "    <tr>\n",
              "      <th>4</th>\n",
              "      <td>ANG</td>\n",
              "    </tr>\n",
              "  </tbody>\n",
              "</table>\n",
              "</div>\n",
              "      <button class=\"colab-df-convert\" onclick=\"convertToInteractive('df-f4daa964-3187-4de9-bba6-e9c4d8cf9202')\"\n",
              "              title=\"Convert this dataframe to an interactive table.\"\n",
              "              style=\"display:none;\">\n",
              "        \n",
              "  <svg xmlns=\"http://www.w3.org/2000/svg\" height=\"24px\"viewBox=\"0 0 24 24\"\n",
              "       width=\"24px\">\n",
              "    <path d=\"M0 0h24v24H0V0z\" fill=\"none\"/>\n",
              "    <path d=\"M18.56 5.44l.94 2.06.94-2.06 2.06-.94-2.06-.94-.94-2.06-.94 2.06-2.06.94zm-11 1L8.5 8.5l.94-2.06 2.06-.94-2.06-.94L8.5 2.5l-.94 2.06-2.06.94zm10 10l.94 2.06.94-2.06 2.06-.94-2.06-.94-.94-2.06-.94 2.06-2.06.94z\"/><path d=\"M17.41 7.96l-1.37-1.37c-.4-.4-.92-.59-1.43-.59-.52 0-1.04.2-1.43.59L10.3 9.45l-7.72 7.72c-.78.78-.78 2.05 0 2.83L4 21.41c.39.39.9.59 1.41.59.51 0 1.02-.2 1.41-.59l7.78-7.78 2.81-2.81c.8-.78.8-2.07 0-2.86zM5.41 20L4 18.59l7.72-7.72 1.47 1.35L5.41 20z\"/>\n",
              "  </svg>\n",
              "      </button>\n",
              "      \n",
              "  <style>\n",
              "    .colab-df-container {\n",
              "      display:flex;\n",
              "      flex-wrap:wrap;\n",
              "      gap: 12px;\n",
              "    }\n",
              "\n",
              "    .colab-df-convert {\n",
              "      background-color: #E8F0FE;\n",
              "      border: none;\n",
              "      border-radius: 50%;\n",
              "      cursor: pointer;\n",
              "      display: none;\n",
              "      fill: #1967D2;\n",
              "      height: 32px;\n",
              "      padding: 0 0 0 0;\n",
              "      width: 32px;\n",
              "    }\n",
              "\n",
              "    .colab-df-convert:hover {\n",
              "      background-color: #E2EBFA;\n",
              "      box-shadow: 0px 1px 2px rgba(60, 64, 67, 0.3), 0px 1px 3px 1px rgba(60, 64, 67, 0.15);\n",
              "      fill: #174EA6;\n",
              "    }\n",
              "\n",
              "    [theme=dark] .colab-df-convert {\n",
              "      background-color: #3B4455;\n",
              "      fill: #D2E3FC;\n",
              "    }\n",
              "\n",
              "    [theme=dark] .colab-df-convert:hover {\n",
              "      background-color: #434B5C;\n",
              "      box-shadow: 0px 1px 3px 1px rgba(0, 0, 0, 0.15);\n",
              "      filter: drop-shadow(0px 1px 2px rgba(0, 0, 0, 0.3));\n",
              "      fill: #FFFFFF;\n",
              "    }\n",
              "  </style>\n",
              "\n",
              "      <script>\n",
              "        const buttonEl =\n",
              "          document.querySelector('#df-f4daa964-3187-4de9-bba6-e9c4d8cf9202 button.colab-df-convert');\n",
              "        buttonEl.style.display =\n",
              "          google.colab.kernel.accessAllowed ? 'block' : 'none';\n",
              "\n",
              "        async function convertToInteractive(key) {\n",
              "          const element = document.querySelector('#df-f4daa964-3187-4de9-bba6-e9c4d8cf9202');\n",
              "          const dataTable =\n",
              "            await google.colab.kernel.invokeFunction('convertToInteractive',\n",
              "                                                     [key], {});\n",
              "          if (!dataTable) return;\n",
              "\n",
              "          const docLinkHtml = 'Like what you see? Visit the ' +\n",
              "            '<a target=\"_blank\" href=https://colab.research.google.com/notebooks/data_table.ipynb>data table notebook</a>'\n",
              "            + ' to learn more about interactive tables.';\n",
              "          element.innerHTML = '';\n",
              "          dataTable['output_type'] = 'display_data';\n",
              "          await google.colab.output.renderOutput(dataTable, element);\n",
              "          const docLink = document.createElement('div');\n",
              "          docLink.innerHTML = docLinkHtml;\n",
              "          element.appendChild(docLink);\n",
              "        }\n",
              "      </script>\n",
              "    </div>\n",
              "  </div>\n",
              "  "
            ]
          },
          "metadata": {},
          "execution_count": 95
        }
      ]
    },
    {
      "cell_type": "code",
      "source": [
        "# Use the get_dummies() method to one-hot encode the labels\n",
        "one_hot_labels = pd.get_dummies(df_time)\n",
        "\n",
        "# Convert the DataFrame to a NumPy array\n",
        "one_hot_labels = one_hot_labels.to_numpy()\n",
        "\n",
        "print(one_hot_labels.shape)"
      ],
      "metadata": {
        "colab": {
          "base_uri": "https://localhost:8080/"
        },
        "id": "P1HVgqTsGwmK",
        "outputId": "d8c92ed5-0043-4a38-ec89-18b7fbd687cb"
      },
      "execution_count": null,
      "outputs": [
        {
          "output_type": "stream",
          "name": "stdout",
          "text": [
            "(5216, 6)\n"
          ]
        }
      ]
    },
    {
      "cell_type": "code",
      "source": [
        "Y_time = one_hot_labels\n",
        "Y_time.shape"
      ],
      "metadata": {
        "colab": {
          "base_uri": "https://localhost:8080/"
        },
        "id": "scQpn-TuG-JM",
        "outputId": "8f2eadd6-9ed2-4f54-f7d0-ae068ef4b8d1"
      },
      "execution_count": null,
      "outputs": [
        {
          "output_type": "execute_result",
          "data": {
            "text/plain": [
              "(5216, 6)"
            ]
          },
          "metadata": {},
          "execution_count": 97
        }
      ]
    },
    {
      "cell_type": "code",
      "source": [
        "# Apply PCA to the data\n",
        "pca = PCA(n_components=200)\n",
        "D_pca = pca.fit_transform(D_time)"
      ],
      "metadata": {
        "id": "0ttXRBH6JztP"
      },
      "execution_count": null,
      "outputs": []
    },
    {
      "cell_type": "code",
      "source": [
        "# Split the data into train and test sets\n",
        "x_train, x_test, y_train, y_test = train_test_split(np.array(D_pca), np.array(Y_time), test_size=0.05, random_state=69, shuffle=True, stratify=Y_time)\n",
        "print((x_train.shape, y_train.shape, x_test.shape, y_test.shape))\n",
        "\n",
        "x_train = x_train.reshape((x_train.shape[0], x_train.shape[1], 1))\n",
        "x_test = x_test.reshape((x_test.shape[0], x_test.shape[1], 1))\n",
        "\n",
        "model = Sequential()\n",
        "model.add(Conv1D(128, 3, input_shape=(x_train.shape[1], 1), kernel_regularizer=regularizers.l2(0.001)))\n",
        "model.add(BatchNormalization())\n",
        "model.add(Activation('relu'))\n",
        "model.add(MaxPooling1D(pool_size=2))\n",
        "\n",
        "model.add(Conv1D(256, 3, kernel_regularizer=regularizers.l2(0.001)))\n",
        "model.add(BatchNormalization())\n",
        "model.add(Activation('relu'))\n",
        "model.add(MaxPooling1D(pool_size=2))\n",
        "\n",
        "model.add(Conv1D(512, 3, kernel_regularizer=regularizers.l2(0.001)))\n",
        "model.add(BatchNormalization())\n",
        "model.add(Activation('relu'))\n",
        "model.add(MaxPooling1D(pool_size=2))\n",
        "\n",
        "model.add(Conv1D(1024, 3,  kernel_regularizer=regularizers.l2(0.001)))\n",
        "model.add(BatchNormalization())\n",
        "model.add(Activation('relu'))\n",
        "model.add(MaxPooling1D(pool_size=2))\n",
        "\n",
        "model.add(Flatten())\n",
        "model.add(Dense(512, kernel_regularizer=regularizers.l2(0.001)))\n",
        "model.add(BatchNormalization())\n",
        "model.add(Activation('relu'))\n",
        "model.add(Dropout(0.3))\n",
        "\n",
        "model.add(Dense(256, kernel_regularizer=regularizers.l2(0.001)))\n",
        "model.add(BatchNormalization())\n",
        "model.add(Activation('relu'))\n",
        "model.add(Dropout(0.2))\n",
        "\n",
        "model.add(Dense(128, kernel_regularizer=regularizers.l2(0.001)))\n",
        "model.add(BatchNormalization())\n",
        "model.add(Activation('relu'))\n",
        "model.add(Dropout(0.2))\n",
        "\n",
        "model.add(Dense(6, activation='softmax'))\n",
        "\n",
        "model.compile(loss='categorical_crossentropy',\n",
        "             optimizer=optimizers.Adam(lr=0.0005),\n",
        "             metrics=['accuracy'])\n",
        "\n",
        "# Specify thecallbacks for the model\n",
        "callbacks = [EarlyStopping(monitor='val_loss', patience=10)]\n",
        "\n",
        "model.summary()\n",
        "\n",
        "# Train the model with early stopping\n",
        "history = model.fit(x_train, y_train,\n",
        "                    validation_data=(x_train, y_train),\n",
        "                    epochs=50,\n",
        "                    batch_size=32,\n",
        "                    callbacks=callbacks)"
      ],
      "metadata": {
        "colab": {
          "base_uri": "https://localhost:8080/"
        },
        "id": "l_VY7sLdJTAj",
        "outputId": "f42e518b-2769-4b9c-ab67-ebd802596fd0"
      },
      "execution_count": null,
      "outputs": [
        {
          "output_type": "stream",
          "name": "stdout",
          "text": [
            "((4955, 200), (4955, 6), (261, 200), (261, 6))\n",
            "Model: \"sequential_4\"\n",
            "_________________________________________________________________\n",
            " Layer (type)                Output Shape              Param #   \n",
            "=================================================================\n",
            " conv1d_8 (Conv1D)           (None, 198, 128)          512       \n",
            "                                                                 \n",
            " batch_normalization_14 (Bat  (None, 198, 128)         512       \n",
            " chNormalization)                                                \n",
            "                                                                 \n",
            " activation_14 (Activation)  (None, 198, 128)          0         \n",
            "                                                                 \n",
            " max_pooling1d_8 (MaxPooling  (None, 99, 128)          0         \n",
            " 1D)                                                             \n",
            "                                                                 \n",
            " conv1d_9 (Conv1D)           (None, 97, 256)           98560     \n",
            "                                                                 \n",
            " batch_normalization_15 (Bat  (None, 97, 256)          1024      \n",
            " chNormalization)                                                \n",
            "                                                                 \n",
            " activation_15 (Activation)  (None, 97, 256)           0         \n",
            "                                                                 \n",
            " max_pooling1d_9 (MaxPooling  (None, 48, 256)          0         \n",
            " 1D)                                                             \n",
            "                                                                 \n",
            " conv1d_10 (Conv1D)          (None, 46, 512)           393728    \n",
            "                                                                 \n",
            " batch_normalization_16 (Bat  (None, 46, 512)          2048      \n",
            " chNormalization)                                                \n",
            "                                                                 \n",
            " activation_16 (Activation)  (None, 46, 512)           0         \n",
            "                                                                 \n",
            " max_pooling1d_10 (MaxPoolin  (None, 23, 512)          0         \n",
            " g1D)                                                            \n",
            "                                                                 \n",
            " conv1d_11 (Conv1D)          (None, 21, 1024)          1573888   \n",
            "                                                                 \n",
            " batch_normalization_17 (Bat  (None, 21, 1024)         4096      \n",
            " chNormalization)                                                \n",
            "                                                                 \n",
            " activation_17 (Activation)  (None, 21, 1024)          0         \n",
            "                                                                 \n",
            " max_pooling1d_11 (MaxPoolin  (None, 10, 1024)         0         \n",
            " g1D)                                                            \n",
            "                                                                 \n",
            " flatten_4 (Flatten)         (None, 10240)             0         \n",
            "                                                                 \n",
            " dense_14 (Dense)            (None, 512)               5243392   \n",
            "                                                                 \n",
            " batch_normalization_18 (Bat  (None, 512)              2048      \n",
            " chNormalization)                                                \n",
            "                                                                 \n",
            " activation_18 (Activation)  (None, 512)               0         \n",
            "                                                                 \n",
            " dropout_10 (Dropout)        (None, 512)               0         \n",
            "                                                                 \n",
            " dense_15 (Dense)            (None, 256)               131328    \n",
            "                                                                 \n",
            " batch_normalization_19 (Bat  (None, 256)              1024      \n",
            " chNormalization)                                                \n",
            "                                                                 \n",
            " activation_19 (Activation)  (None, 256)               0         \n",
            "                                                                 \n",
            " dropout_11 (Dropout)        (None, 256)               0         \n",
            "                                                                 \n",
            " dense_16 (Dense)            (None, 128)               32896     \n",
            "                                                                 \n",
            " batch_normalization_20 (Bat  (None, 128)              512       \n",
            " chNormalization)                                                \n",
            "                                                                 \n",
            " activation_20 (Activation)  (None, 128)               0         \n",
            "                                                                 \n",
            " dropout_12 (Dropout)        (None, 128)               0         \n",
            "                                                                 \n",
            " dense_17 (Dense)            (None, 6)                 774       \n",
            "                                                                 \n",
            "=================================================================\n",
            "Total params: 7,486,342\n",
            "Trainable params: 7,480,710\n",
            "Non-trainable params: 5,632\n",
            "_________________________________________________________________\n"
          ]
        },
        {
          "output_type": "stream",
          "name": "stderr",
          "text": [
            "/usr/local/lib/python3.10/dist-packages/keras/optimizers/legacy/adam.py:117: UserWarning: The `lr` argument is deprecated, use `learning_rate` instead.\n",
            "  super().__init__(name, **kwargs)\n"
          ]
        },
        {
          "output_type": "stream",
          "name": "stdout",
          "text": [
            "Epoch 1/50\n",
            "155/155 [==============================] - 9s 26ms/step - loss: 3.5802 - accuracy: 0.3033 - val_loss: 3.8121 - val_accuracy: 0.1736\n",
            "Epoch 2/50\n",
            "155/155 [==============================] - 3s 19ms/step - loss: 2.9867 - accuracy: 0.3401 - val_loss: 3.6998 - val_accuracy: 0.1429\n",
            "Epoch 3/50\n",
            "155/155 [==============================] - 4s 23ms/step - loss: 2.7038 - accuracy: 0.3659 - val_loss: 3.0281 - val_accuracy: 0.2390\n",
            "Epoch 4/50\n",
            "155/155 [==============================] - 3s 22ms/step - loss: 2.5256 - accuracy: 0.3736 - val_loss: 2.7559 - val_accuracy: 0.2559\n",
            "Epoch 5/50\n",
            "155/155 [==============================] - 3s 22ms/step - loss: 2.4104 - accuracy: 0.3839 - val_loss: 2.5245 - val_accuracy: 0.3187\n",
            "Epoch 6/50\n",
            "155/155 [==============================] - 4s 23ms/step - loss: 2.3233 - accuracy: 0.3897 - val_loss: 2.2665 - val_accuracy: 0.3974\n",
            "Epoch 7/50\n",
            "155/155 [==============================] - 3s 18ms/step - loss: 2.2265 - accuracy: 0.4075 - val_loss: 2.2751 - val_accuracy: 0.3941\n",
            "Epoch 8/50\n",
            "155/155 [==============================] - 3s 22ms/step - loss: 2.1620 - accuracy: 0.4057 - val_loss: 2.1973 - val_accuracy: 0.3594\n",
            "Epoch 9/50\n",
            "155/155 [==============================] - 5s 30ms/step - loss: 2.0837 - accuracy: 0.4196 - val_loss: 2.0840 - val_accuracy: 0.4111\n",
            "Epoch 10/50\n",
            "155/155 [==============================] - 3s 18ms/step - loss: 2.0327 - accuracy: 0.4165 - val_loss: 2.0443 - val_accuracy: 0.4139\n",
            "Epoch 11/50\n",
            "155/155 [==============================] - 3s 18ms/step - loss: 1.9915 - accuracy: 0.4291 - val_loss: 1.9404 - val_accuracy: 0.4238\n",
            "Epoch 12/50\n",
            "155/155 [==============================] - 3s 19ms/step - loss: 1.9341 - accuracy: 0.4313 - val_loss: 1.9381 - val_accuracy: 0.4010\n",
            "Epoch 13/50\n",
            "155/155 [==============================] - 4s 25ms/step - loss: 1.8983 - accuracy: 0.4408 - val_loss: 2.1641 - val_accuracy: 0.3086\n",
            "Epoch 14/50\n",
            "155/155 [==============================] - 3s 20ms/step - loss: 1.8657 - accuracy: 0.4448 - val_loss: 1.9114 - val_accuracy: 0.3933\n",
            "Epoch 15/50\n",
            "155/155 [==============================] - 3s 18ms/step - loss: 1.8104 - accuracy: 0.4519 - val_loss: 1.8858 - val_accuracy: 0.3956\n",
            "Epoch 16/50\n",
            "155/155 [==============================] - 3s 22ms/step - loss: 1.7926 - accuracy: 0.4505 - val_loss: 1.8851 - val_accuracy: 0.4089\n",
            "Epoch 17/50\n",
            "155/155 [==============================] - 4s 23ms/step - loss: 1.7666 - accuracy: 0.4575 - val_loss: 2.3075 - val_accuracy: 0.3080\n",
            "Epoch 18/50\n",
            "155/155 [==============================] - 3s 22ms/step - loss: 1.7343 - accuracy: 0.4591 - val_loss: 1.8384 - val_accuracy: 0.4095\n",
            "Epoch 19/50\n",
            "155/155 [==============================] - 3s 18ms/step - loss: 1.7074 - accuracy: 0.4682 - val_loss: 1.8004 - val_accuracy: 0.4075\n",
            "Epoch 20/50\n",
            "155/155 [==============================] - 3s 22ms/step - loss: 1.6819 - accuracy: 0.4620 - val_loss: 2.1044 - val_accuracy: 0.3007\n",
            "Epoch 21/50\n",
            "155/155 [==============================] - 3s 18ms/step - loss: 1.6541 - accuracy: 0.4741 - val_loss: 1.8909 - val_accuracy: 0.3544\n",
            "Epoch 22/50\n",
            "155/155 [==============================] - 4s 26ms/step - loss: 1.6319 - accuracy: 0.4791 - val_loss: 1.6530 - val_accuracy: 0.4896\n",
            "Epoch 23/50\n",
            "155/155 [==============================] - 3s 19ms/step - loss: 1.6208 - accuracy: 0.4846 - val_loss: 2.2619 - val_accuracy: 0.3717\n",
            "Epoch 24/50\n",
            "155/155 [==============================] - 3s 18ms/step - loss: 1.5934 - accuracy: 0.4876 - val_loss: 1.8365 - val_accuracy: 0.3847\n",
            "Epoch 25/50\n",
            "155/155 [==============================] - 3s 22ms/step - loss: 1.5930 - accuracy: 0.4850 - val_loss: 1.8939 - val_accuracy: 0.3798\n",
            "Epoch 26/50\n",
            "155/155 [==============================] - 3s 21ms/step - loss: 1.5651 - accuracy: 0.5104 - val_loss: 2.3906 - val_accuracy: 0.3122\n",
            "Epoch 27/50\n",
            "155/155 [==============================] - 3s 21ms/step - loss: 1.5498 - accuracy: 0.5015 - val_loss: 1.9789 - val_accuracy: 0.3487\n",
            "Epoch 28/50\n",
            "155/155 [==============================] - 3s 18ms/step - loss: 1.5300 - accuracy: 0.5122 - val_loss: 1.8398 - val_accuracy: 0.3794\n",
            "Epoch 29/50\n",
            "155/155 [==============================] - 3s 18ms/step - loss: 1.4974 - accuracy: 0.5211 - val_loss: 1.7037 - val_accuracy: 0.4252\n",
            "Epoch 30/50\n",
            "155/155 [==============================] - 3s 18ms/step - loss: 1.4769 - accuracy: 0.5348 - val_loss: 1.6382 - val_accuracy: 0.4293\n",
            "Epoch 31/50\n",
            "155/155 [==============================] - 4s 25ms/step - loss: 1.4630 - accuracy: 0.5409 - val_loss: 1.8319 - val_accuracy: 0.3853\n",
            "Epoch 32/50\n",
            "155/155 [==============================] - 3s 19ms/step - loss: 1.4260 - accuracy: 0.5560 - val_loss: 1.8128 - val_accuracy: 0.3800\n",
            "Epoch 33/50\n",
            "155/155 [==============================] - 3s 18ms/step - loss: 1.4519 - accuracy: 0.5338 - val_loss: 1.9118 - val_accuracy: 0.3631\n",
            "Epoch 34/50\n",
            "155/155 [==============================] - 3s 18ms/step - loss: 1.4043 - accuracy: 0.5602 - val_loss: 1.6093 - val_accuracy: 0.4244\n",
            "Epoch 35/50\n",
            "155/155 [==============================] - 3s 19ms/step - loss: 1.3747 - accuracy: 0.5782 - val_loss: 1.7017 - val_accuracy: 0.4468\n",
            "Epoch 36/50\n",
            "155/155 [==============================] - 3s 22ms/step - loss: 1.3713 - accuracy: 0.5711 - val_loss: 1.5321 - val_accuracy: 0.5045\n",
            "Epoch 37/50\n",
            "155/155 [==============================] - 3s 18ms/step - loss: 1.3262 - accuracy: 0.5919 - val_loss: 2.3817 - val_accuracy: 0.2731\n",
            "Epoch 38/50\n",
            "155/155 [==============================] - 3s 18ms/step - loss: 1.3098 - accuracy: 0.6063 - val_loss: 3.7155 - val_accuracy: 0.3179\n",
            "Epoch 39/50\n",
            "155/155 [==============================] - 3s 18ms/step - loss: 1.2919 - accuracy: 0.6115 - val_loss: 2.8144 - val_accuracy: 0.2957\n",
            "Epoch 40/50\n",
            "155/155 [==============================] - 3s 20ms/step - loss: 1.2592 - accuracy: 0.6212 - val_loss: 1.9038 - val_accuracy: 0.3675\n",
            "Epoch 41/50\n",
            "155/155 [==============================] - 4s 26ms/step - loss: 1.2624 - accuracy: 0.6218 - val_loss: 1.4908 - val_accuracy: 0.5280\n",
            "Epoch 42/50\n",
            "155/155 [==============================] - 4s 23ms/step - loss: 1.2269 - accuracy: 0.6460 - val_loss: 1.7723 - val_accuracy: 0.4450\n",
            "Epoch 43/50\n",
            "155/155 [==============================] - 3s 22ms/step - loss: 1.1956 - accuracy: 0.6579 - val_loss: 1.8317 - val_accuracy: 0.4182\n",
            "Epoch 44/50\n",
            "155/155 [==============================] - 3s 22ms/step - loss: 1.1863 - accuracy: 0.6678 - val_loss: 1.4482 - val_accuracy: 0.5546\n",
            "Epoch 45/50\n",
            "155/155 [==============================] - 4s 26ms/step - loss: 1.1456 - accuracy: 0.6864 - val_loss: 2.1372 - val_accuracy: 0.4147\n",
            "Epoch 46/50\n",
            "155/155 [==============================] - 3s 18ms/step - loss: 1.1033 - accuracy: 0.6920 - val_loss: 2.6053 - val_accuracy: 0.3181\n",
            "Epoch 47/50\n",
            "155/155 [==============================] - 3s 22ms/step - loss: 1.0752 - accuracy: 0.7027 - val_loss: 2.8850 - val_accuracy: 0.2930\n",
            "Epoch 48/50\n",
            "155/155 [==============================] - 3s 22ms/step - loss: 1.0397 - accuracy: 0.7205 - val_loss: 1.3061 - val_accuracy: 0.5972\n",
            "Epoch 49/50\n",
            "155/155 [==============================] - 4s 26ms/step - loss: 1.0316 - accuracy: 0.7296 - val_loss: 1.7678 - val_accuracy: 0.4355\n",
            "Epoch 50/50\n",
            "155/155 [==============================] - 3s 22ms/step - loss: 1.0095 - accuracy: 0.7360 - val_loss: 1.1905 - val_accuracy: 0.6563\n"
          ]
        }
      ]
    },
    {
      "cell_type": "code",
      "source": [
        "X_test_time,Y_test_time = loadAudioTime(D_test)\n",
        "D_test_pca = pca.transform(X_test_time)"
      ],
      "metadata": {
        "id": "ECFPw2UTmdyZ"
      },
      "execution_count": null,
      "outputs": []
    },
    {
      "cell_type": "code",
      "source": [
        "unicheck = np.unique(Y_test_time, axis=0)\n",
        "print(f\"Check on freq domain:\\n{unicheck}\")"
      ],
      "metadata": {
        "colab": {
          "base_uri": "https://localhost:8080/"
        },
        "id": "ieyieo-fwA1L",
        "outputId": "e27eda82-eca4-4471-8613-4b45eb0d5ba6"
      },
      "execution_count": null,
      "outputs": [
        {
          "output_type": "stream",
          "name": "stdout",
          "text": [
            "Check on freq domain:\n",
            "['ANG' 'DIS' 'FEA' 'HAP' 'NEU' 'SAD']\n"
          ]
        }
      ]
    },
    {
      "cell_type": "code",
      "execution_count": null,
      "metadata": {
        "colab": {
          "base_uri": "https://localhost:8080/",
          "height": 206
        },
        "id": "Dp-P_An_wA1X",
        "outputId": "cc95c883-e224-4713-afa8-915b98b4e6d9"
      },
      "outputs": [
        {
          "output_type": "execute_result",
          "data": {
            "text/plain": [
              "     0\n",
              "0  FEA\n",
              "1  SAD\n",
              "2  HAP\n",
              "3  DIS\n",
              "4  FEA"
            ],
            "text/html": [
              "\n",
              "  <div id=\"df-0ac53ab0-3214-47fc-8919-11dace7a1e1c\">\n",
              "    <div class=\"colab-df-container\">\n",
              "      <div>\n",
              "<style scoped>\n",
              "    .dataframe tbody tr th:only-of-type {\n",
              "        vertical-align: middle;\n",
              "    }\n",
              "\n",
              "    .dataframe tbody tr th {\n",
              "        vertical-align: top;\n",
              "    }\n",
              "\n",
              "    .dataframe thead th {\n",
              "        text-align: right;\n",
              "    }\n",
              "</style>\n",
              "<table border=\"1\" class=\"dataframe\">\n",
              "  <thead>\n",
              "    <tr style=\"text-align: right;\">\n",
              "      <th></th>\n",
              "      <th>0</th>\n",
              "    </tr>\n",
              "  </thead>\n",
              "  <tbody>\n",
              "    <tr>\n",
              "      <th>0</th>\n",
              "      <td>FEA</td>\n",
              "    </tr>\n",
              "    <tr>\n",
              "      <th>1</th>\n",
              "      <td>SAD</td>\n",
              "    </tr>\n",
              "    <tr>\n",
              "      <th>2</th>\n",
              "      <td>HAP</td>\n",
              "    </tr>\n",
              "    <tr>\n",
              "      <th>3</th>\n",
              "      <td>DIS</td>\n",
              "    </tr>\n",
              "    <tr>\n",
              "      <th>4</th>\n",
              "      <td>FEA</td>\n",
              "    </tr>\n",
              "  </tbody>\n",
              "</table>\n",
              "</div>\n",
              "      <button class=\"colab-df-convert\" onclick=\"convertToInteractive('df-0ac53ab0-3214-47fc-8919-11dace7a1e1c')\"\n",
              "              title=\"Convert this dataframe to an interactive table.\"\n",
              "              style=\"display:none;\">\n",
              "        \n",
              "  <svg xmlns=\"http://www.w3.org/2000/svg\" height=\"24px\"viewBox=\"0 0 24 24\"\n",
              "       width=\"24px\">\n",
              "    <path d=\"M0 0h24v24H0V0z\" fill=\"none\"/>\n",
              "    <path d=\"M18.56 5.44l.94 2.06.94-2.06 2.06-.94-2.06-.94-.94-2.06-.94 2.06-2.06.94zm-11 1L8.5 8.5l.94-2.06 2.06-.94-2.06-.94L8.5 2.5l-.94 2.06-2.06.94zm10 10l.94 2.06.94-2.06 2.06-.94-2.06-.94-.94-2.06-.94 2.06-2.06.94z\"/><path d=\"M17.41 7.96l-1.37-1.37c-.4-.4-.92-.59-1.43-.59-.52 0-1.04.2-1.43.59L10.3 9.45l-7.72 7.72c-.78.78-.78 2.05 0 2.83L4 21.41c.39.39.9.59 1.41.59.51 0 1.02-.2 1.41-.59l7.78-7.78 2.81-2.81c.8-.78.8-2.07 0-2.86zM5.41 20L4 18.59l7.72-7.72 1.47 1.35L5.41 20z\"/>\n",
              "  </svg>\n",
              "      </button>\n",
              "      \n",
              "  <style>\n",
              "    .colab-df-container {\n",
              "      display:flex;\n",
              "      flex-wrap:wrap;\n",
              "      gap: 12px;\n",
              "    }\n",
              "\n",
              "    .colab-df-convert {\n",
              "      background-color: #E8F0FE;\n",
              "      border: none;\n",
              "      border-radius: 50%;\n",
              "      cursor: pointer;\n",
              "      display: none;\n",
              "      fill: #1967D2;\n",
              "      height: 32px;\n",
              "      padding: 0 0 0 0;\n",
              "      width: 32px;\n",
              "    }\n",
              "\n",
              "    .colab-df-convert:hover {\n",
              "      background-color: #E2EBFA;\n",
              "      box-shadow: 0px 1px 2px rgba(60, 64, 67, 0.3), 0px 1px 3px 1px rgba(60, 64, 67, 0.15);\n",
              "      fill: #174EA6;\n",
              "    }\n",
              "\n",
              "    [theme=dark] .colab-df-convert {\n",
              "      background-color: #3B4455;\n",
              "      fill: #D2E3FC;\n",
              "    }\n",
              "\n",
              "    [theme=dark] .colab-df-convert:hover {\n",
              "      background-color: #434B5C;\n",
              "      box-shadow: 0px 1px 3px 1px rgba(0, 0, 0, 0.15);\n",
              "      filter: drop-shadow(0px 1px 2px rgba(0, 0, 0, 0.3));\n",
              "      fill: #FFFFFF;\n",
              "    }\n",
              "  </style>\n",
              "\n",
              "      <script>\n",
              "        const buttonEl =\n",
              "          document.querySelector('#df-0ac53ab0-3214-47fc-8919-11dace7a1e1c button.colab-df-convert');\n",
              "        buttonEl.style.display =\n",
              "          google.colab.kernel.accessAllowed ? 'block' : 'none';\n",
              "\n",
              "        async function convertToInteractive(key) {\n",
              "          const element = document.querySelector('#df-0ac53ab0-3214-47fc-8919-11dace7a1e1c');\n",
              "          const dataTable =\n",
              "            await google.colab.kernel.invokeFunction('convertToInteractive',\n",
              "                                                     [key], {});\n",
              "          if (!dataTable) return;\n",
              "\n",
              "          const docLinkHtml = 'Like what you see? Visit the ' +\n",
              "            '<a target=\"_blank\" href=https://colab.research.google.com/notebooks/data_table.ipynb>data table notebook</a>'\n",
              "            + ' to learn more about interactive tables.';\n",
              "          element.innerHTML = '';\n",
              "          dataTable['output_type'] = 'display_data';\n",
              "          await google.colab.output.renderOutput(dataTable, element);\n",
              "          const docLink = document.createElement('div');\n",
              "          docLink.innerHTML = docLinkHtml;\n",
              "          element.appendChild(docLink);\n",
              "        }\n",
              "      </script>\n",
              "    </div>\n",
              "  </div>\n",
              "  "
            ]
          },
          "metadata": {},
          "execution_count": 102
        }
      ],
      "source": [
        "df_freq = pd.DataFrame(Y_test_time)\n",
        "df_freq.head()"
      ]
    },
    {
      "cell_type": "code",
      "execution_count": null,
      "metadata": {
        "colab": {
          "base_uri": "https://localhost:8080/"
        },
        "id": "2ZNa9_s-wA1Y",
        "outputId": "87efe6cd-e510-4697-8c49-2b043fb3107c"
      },
      "outputs": [
        {
          "output_type": "stream",
          "name": "stdout",
          "text": [
            "(2236, 6)\n"
          ]
        }
      ],
      "source": [
        "# Use the get_dummies() method to one-hot encode the labels\n",
        "one_hot_labels = pd.get_dummies(df_freq)\n",
        "\n",
        "# Convert the DataFrame to a NumPy array\n",
        "one_hot_labels = one_hot_labels.to_numpy()\n",
        "\n",
        "print(one_hot_labels.shape)"
      ]
    },
    {
      "cell_type": "code",
      "execution_count": null,
      "metadata": {
        "colab": {
          "base_uri": "https://localhost:8080/"
        },
        "id": "5zKm7AaTwaBv",
        "outputId": "63e58b91-c3d7-4bf9-87cf-b9b017bca5f8"
      },
      "outputs": [
        {
          "output_type": "execute_result",
          "data": {
            "text/plain": [
              "(2236, 6)"
            ]
          },
          "metadata": {},
          "execution_count": 104
        }
      ],
      "source": [
        "Y_time = one_hot_labels\n",
        "Y_time.shape"
      ]
    },
    {
      "cell_type": "code",
      "source": [
        "from sklearn.metrics import accuracy_score, f1_score, confusion_matrix\n",
        "# Evaluate the model on the test set\n",
        "y_pred = model.predict(D_test_pca)\n",
        "y_pred_classes = np.argmax(y_pred, axis=1)\n",
        "y_test_classes = np.argmax(Y_time, axis=1)\n",
        "accuracy = accuracy_score(y_test_classes, y_pred_classes)\n",
        "f_score = f1_score(y_test_classes, y_pred_classes, average='weighted')\n",
        "print('Accuracy:', accuracy)\n",
        "print('F-score:', f_score)\n",
        "\n",
        "# Plot the confusion matrix\n",
        "cm = confusion_matrix(y_test_classes, y_pred_classes)\n",
        "plt.imshow(cm, cmap=plt.cm.Blues)\n",
        "plt.title('Confusion matrix')\n",
        "plt.colorbar()\n",
        "tick_marks = np.arange(6)\n",
        "plt.xticks(tick_marks, range(6))\n",
        "plt.yticks(tick_marks, range(6))\n",
        "plt.xlabel('Predicted label')\n",
        "plt.ylabel('True label')\n",
        "plt.show()\n",
        "\n",
        "# Find the most confusinglabels\n",
        "np.fill_diagonal(cm, 0)\n",
        "most_confused_classes = np.unravel_index(np.argmax(cm), cm.shape)\n",
        "print('Most confusing classes:', most_confused_classes)"
      ],
      "metadata": {
        "colab": {
          "base_uri": "https://localhost:8080/",
          "height": 541
        },
        "id": "S8lCpHN_md8z",
        "outputId": "a29c7c17-7c4c-44c6-a99c-0ff05fe8fc05"
      },
      "execution_count": null,
      "outputs": [
        {
          "output_type": "stream",
          "name": "stdout",
          "text": [
            "70/70 [==============================] - 1s 6ms/step\n",
            "Accuracy: 0.3761180679785331\n",
            "F-score: 0.3734301464695326\n"
          ]
        },
        {
          "output_type": "display_data",
          "data": {
            "text/plain": [
              "<Figure size 640x480 with 2 Axes>"
            ],
            "image/png": "[encoded data removed]"
          },
          "metadata": {}
        },
        {
          "output_type": "stream",
          "name": "stdout",
          "text": [
            "Most confusing classes: (0, 3)\n"
          ]
        }
      ]
    },
    {
      "cell_type": "markdown",
      "source": [],
      "metadata": {
        "id": "RVqTQXglhGDe"
      }
    },
    {
      "cell_type": "markdown",
      "source": [
        "## Frequency Domain Model Without Augmentation"
      ],
      "metadata": {
        "id": "8SCoKeoWL2eM"
      }
    },
    {
      "cell_type": "code",
      "execution_count": 20,
      "metadata": {
        "id": "xtwZaAPLZ7xt"
      },
      "outputs": [],
      "source": [
        "D_freq, Y_freq = loadAudioFreq(D_train)"
      ]
    },
    {
      "cell_type": "code",
      "source": [
        "unicheck = np.unique(Y_freq, axis=0)\n",
        "print(f\"Check on freq domain:\\n{unicheck}\")"
      ],
      "metadata": {
        "id": "OrMPj3gPjhQd",
        "colab": {
          "base_uri": "https://localhost:8080/"
        },
        "outputId": "3ac5da2f-b3cb-4601-8b57-b86dd75a035b"
      },
      "execution_count": null,
      "outputs": [
        {
          "output_type": "stream",
          "name": "stdout",
          "text": [
            "Check on freq domain:\n",
            "['ANG' 'DIS' 'FEA' 'HAP' 'NEU' 'SAD']\n"
          ]
        }
      ]
    },
    {
      "cell_type": "code",
      "execution_count": null,
      "metadata": {
        "id": "GUgk6mioee_h",
        "colab": {
          "base_uri": "https://localhost:8080/",
          "height": 206
        },
        "outputId": "5acddfe2-bb77-49e6-a57e-17ff550c24c8"
      },
      "outputs": [
        {
          "output_type": "execute_result",
          "data": {
            "text/plain": [
              "     0\n",
              "0  FEA\n",
              "1  FEA\n",
              "2  HAP\n",
              "3  HAP\n",
              "4  ANG"
            ],
            "text/html": [
              "\n",
              "  <div id=\"df-c2114606-f496-4a51-b319-2f536b67b8e7\">\n",
              "    <div class=\"colab-df-container\">\n",
              "      <div>\n",
              "<style scoped>\n",
              "    .dataframe tbody tr th:only-of-type {\n",
              "        vertical-align: middle;\n",
              "    }\n",
              "\n",
              "    .dataframe tbody tr th {\n",
              "        vertical-align: top;\n",
              "    }\n",
              "\n",
              "    .dataframe thead th {\n",
              "        text-align: right;\n",
              "    }\n",
              "</style>\n",
              "<table border=\"1\" class=\"dataframe\">\n",
              "  <thead>\n",
              "    <tr style=\"text-align: right;\">\n",
              "      <th></th>\n",
              "      <th>0</th>\n",
              "    </tr>\n",
              "  </thead>\n",
              "  <tbody>\n",
              "    <tr>\n",
              "      <th>0</th>\n",
              "      <td>FEA</td>\n",
              "    </tr>\n",
              "    <tr>\n",
              "      <th>1</th>\n",
              "      <td>FEA</td>\n",
              "    </tr>\n",
              "    <tr>\n",
              "      <th>2</th>\n",
              "      <td>HAP</td>\n",
              "    </tr>\n",
              "    <tr>\n",
              "      <th>3</th>\n",
              "      <td>HAP</td>\n",
              "    </tr>\n",
              "    <tr>\n",
              "      <th>4</th>\n",
              "      <td>ANG</td>\n",
              "    </tr>\n",
              "  </tbody>\n",
              "</table>\n",
              "</div>\n",
              "      <button class=\"colab-df-convert\" onclick=\"convertToInteractive('df-c2114606-f496-4a51-b319-2f536b67b8e7')\"\n",
              "              title=\"Convert this dataframe to an interactive table.\"\n",
              "              style=\"display:none;\">\n",
              "        \n",
              "  <svg xmlns=\"http://www.w3.org/2000/svg\" height=\"24px\"viewBox=\"0 0 24 24\"\n",
              "       width=\"24px\">\n",
              "    <path d=\"M0 0h24v24H0V0z\" fill=\"none\"/>\n",
              "    <path d=\"M18.56 5.44l.94 2.06.94-2.06 2.06-.94-2.06-.94-.94-2.06-.94 2.06-2.06.94zm-11 1L8.5 8.5l.94-2.06 2.06-.94-2.06-.94L8.5 2.5l-.94 2.06-2.06.94zm10 10l.94 2.06.94-2.06 2.06-.94-2.06-.94-.94-2.06-.94 2.06-2.06.94z\"/><path d=\"M17.41 7.96l-1.37-1.37c-.4-.4-.92-.59-1.43-.59-.52 0-1.04.2-1.43.59L10.3 9.45l-7.72 7.72c-.78.78-.78 2.05 0 2.83L4 21.41c.39.39.9.59 1.41.59.51 0 1.02-.2 1.41-.59l7.78-7.78 2.81-2.81c.8-.78.8-2.07 0-2.86zM5.41 20L4 18.59l7.72-7.72 1.47 1.35L5.41 20z\"/>\n",
              "  </svg>\n",
              "      </button>\n",
              "      \n",
              "  <style>\n",
              "    .colab-df-container {\n",
              "      display:flex;\n",
              "      flex-wrap:wrap;\n",
              "      gap: 12px;\n",
              "    }\n",
              "\n",
              "    .colab-df-convert {\n",
              "      background-color: #E8F0FE;\n",
              "      border: none;\n",
              "      border-radius: 50%;\n",
              "      cursor: pointer;\n",
              "      display: none;\n",
              "      fill: #1967D2;\n",
              "      height: 32px;\n",
              "      padding: 0 0 0 0;\n",
              "      width: 32px;\n",
              "    }\n",
              "\n",
              "    .colab-df-convert:hover {\n",
              "      background-color: #E2EBFA;\n",
              "      box-shadow: 0px 1px 2px rgba(60, 64, 67, 0.3), 0px 1px 3px 1px rgba(60, 64, 67, 0.15);\n",
              "      fill: #174EA6;\n",
              "    }\n",
              "\n",
              "    [theme=dark] .colab-df-convert {\n",
              "      background-color: #3B4455;\n",
              "      fill: #D2E3FC;\n",
              "    }\n",
              "\n",
              "    [theme=dark] .colab-df-convert:hover {\n",
              "      background-color: #434B5C;\n",
              "      box-shadow: 0px 1px 3px 1px rgba(0, 0, 0, 0.15);\n",
              "      filter: drop-shadow(0px 1px 2px rgba(0, 0, 0, 0.3));\n",
              "      fill: #FFFFFF;\n",
              "    }\n",
              "  </style>\n",
              "\n",
              "      <script>\n",
              "        const buttonEl =\n",
              "          document.querySelector('#df-c2114606-f496-4a51-b319-2f536b67b8e7 button.colab-df-convert');\n",
              "        buttonEl.style.display =\n",
              "          google.colab.kernel.accessAllowed ? 'block' : 'none';\n",
              "\n",
              "        async function convertToInteractive(key) {\n",
              "          const element = document.querySelector('#df-c2114606-f496-4a51-b319-2f536b67b8e7');\n",
              "          const dataTable =\n",
              "            await google.colab.kernel.invokeFunction('convertToInteractive',\n",
              "                                                     [key], {});\n",
              "          if (!dataTable) return;\n",
              "\n",
              "          const docLinkHtml = 'Like what you see? Visit the ' +\n",
              "            '<a target=\"_blank\" href=https://colab.research.google.com/notebooks/data_table.ipynb>data table notebook</a>'\n",
              "            + ' to learn more about interactive tables.';\n",
              "          element.innerHTML = '';\n",
              "          dataTable['output_type'] = 'display_data';\n",
              "          await google.colab.output.renderOutput(dataTable, element);\n",
              "          const docLink = document.createElement('div');\n",
              "          docLink.innerHTML = docLinkHtml;\n",
              "          element.appendChild(docLink);\n",
              "        }\n",
              "      </script>\n",
              "    </div>\n",
              "  </div>\n",
              "  "
            ]
          },
          "metadata": {},
          "execution_count": 39
        }
      ],
      "source": [
        "df_freq = pd.DataFrame(Y_freq)\n",
        "df_freq.head()"
      ]
    },
    {
      "cell_type": "code",
      "execution_count": null,
      "metadata": {
        "id": "zsGHDz33gla3",
        "colab": {
          "base_uri": "https://localhost:8080/"
        },
        "outputId": "e5b13dea-33f4-4554-cf8c-ca7d8d6dcea0"
      },
      "outputs": [
        {
          "output_type": "stream",
          "name": "stdout",
          "text": [
            "(5216, 6)\n"
          ]
        }
      ],
      "source": [
        "# Use the get_dummies() method to one-hot encode the labels\n",
        "one_hot_labels = pd.get_dummies(df_freq)\n",
        "\n",
        "# Convert the DataFrame to a NumPy array\n",
        "one_hot_labels = one_hot_labels.to_numpy()\n",
        "\n",
        "print(one_hot_labels.shape)"
      ]
    },
    {
      "cell_type": "code",
      "execution_count": null,
      "metadata": {
        "id": "tC97UHgRgopX",
        "colab": {
          "base_uri": "https://localhost:8080/"
        },
        "outputId": "02ef68f5-07e8-4eb6-b54d-88894ad4cd95"
      },
      "outputs": [
        {
          "output_type": "execute_result",
          "data": {
            "text/plain": [
              "(5216, 6)"
            ]
          },
          "metadata": {},
          "execution_count": 41
        }
      ],
      "source": [
        "Y_freq = one_hot_labels\n",
        "Y_freq.shape"
      ]
    },
    {
      "cell_type": "code",
      "source": [
        "for i, array in enumerate(D_freq):\n",
        "    D_freq[i] = np.pad(array, ((0, 0), (0, 256 - array.shape[1])))\n",
        "D_freq = np.array(D_freq)"
      ],
      "metadata": {
        "id": "9rGP0HoHwFn2"
      },
      "execution_count": null,
      "outputs": []
    },
    {
      "cell_type": "code",
      "source": [
        "D_freq.shape"
      ],
      "metadata": {
        "id": "0WQI9jQzwHtK",
        "colab": {
          "base_uri": "https://localhost:8080/"
        },
        "outputId": "d46f1450-32af-4496-aac7-e57ccae78c03"
      },
      "execution_count": null,
      "outputs": [
        {
          "output_type": "execute_result",
          "data": {
            "text/plain": [
              "(5216, 64, 256)"
            ]
          },
          "metadata": {},
          "execution_count": 43
        }
      ]
    },
    {
      "cell_type": "code",
      "execution_count": null,
      "metadata": {
        "id": "iy502zPqgrjs",
        "colab": {
          "base_uri": "https://localhost:8080/"
        },
        "outputId": "2d4dce30-137c-4e00-b5a9-96cd252b5e09"
      },
      "outputs": [
        {
          "output_type": "stream",
          "name": "stdout",
          "text": [
            "((4955, 64, 256), (4955, 6), (261, 64, 256), (261, 6))\n"
          ]
        }
      ],
      "source": [
        "x_train, x_test, y_train, y_test = train_test_split(np.array(D_freq), np.array(Y_freq), test_size=0.05)\n",
        "print((x_train.shape, y_train.shape, x_test.shape, y_test.shape))"
      ]
    },
    {
      "cell_type": "code",
      "execution_count": null,
      "metadata": {
        "id": "85miHU54hlCc",
        "colab": {
          "base_uri": "https://localhost:8080/"
        },
        "outputId": "0912c969-d6c5-431f-a25b-422801fda1b6"
      },
      "outputs": [
        {
          "output_type": "stream",
          "name": "stdout",
          "text": [
            "(4955, 64, 256, 1) (261, 64, 256, 1)\n"
          ]
        }
      ],
      "source": [
        "x_train = x_train.reshape((x_train.shape[0], x_train.shape[1], x_train.shape[2], 1))\n",
        "x_test = x_test.reshape((x_test.shape[0], x_test.shape[1], x_test.shape[2], 1))\n",
        "print(x_train.shape, x_test.shape)"
      ]
    },
    {
      "cell_type": "code",
      "source": [
        "model = Sequential()\n",
        "\n",
        "# Layer 1: Convolutional Layer\n",
        "model.add(Conv2D(32, (3, 3), activation='relu', input_shape=(x_train.shape[1], x_train.shape[2], 1)))\n",
        "model.add(MaxPooling2D(pool_size=(2, 2)))\n",
        "\n",
        "# Layer 2: Convolutional Layer\n",
        "model.add(Conv2D(64, (3, 3), activation='relu'))\n",
        "model.add(MaxPooling2D(pool_size=(2, 2)))\n",
        "\n",
        "# Layer 3: Convolutional Layer\n",
        "model.add(Conv2D(128, (3, 3), activation='relu'))\n",
        "model.add(MaxPooling2D(pool_size=(2, 2)))\n",
        "\n",
        "# Layer 4: Flatten Layer\n",
        "model.add(Flatten())\n",
        "\n",
        "# Layer 5: Fully Connected Layer\n",
        "model.add(Dense(256, activation='relu'))\n",
        "model.add(Dropout(0.5))\n",
        "\n",
        "# Layer 6: Fully Connected Layer\n",
        "model.add(Dense(128, activation='relu'))\n",
        "model.add(Dropout(0.5))\n",
        "\n",
        "# Layer 7: Output Layer\n",
        "model.add(Dense(6, activation='sigmoid'))\n",
        "\n",
        "model.compile(loss='categorical_crossentropy',\n",
        "             optimizer=optimizers.Adam(lr=0.0005),\n",
        "             metrics=['accuracy'])\n",
        "\n",
        "model.summary()"
      ],
      "metadata": {
        "id": "_Qb69EaZ4cZj",
        "colab": {
          "base_uri": "https://localhost:8080/"
        },
        "outputId": "2fcadd7a-a128-48ae-fa6a-d3710f6c551d"
      },
      "execution_count": null,
      "outputs": [
        {
          "output_type": "stream",
          "name": "stdout",
          "text": [
            "Model: \"sequential_1\"\n",
            "_________________________________________________________________\n",
            " Layer (type)                Output Shape              Param #   \n",
            "=================================================================\n",
            " conv2d (Conv2D)             (None, 62, 254, 32)       320       \n",
            "                                                                 \n",
            " max_pooling2d (MaxPooling2D  (None, 31, 127, 32)      0         \n",
            " )                                                               \n",
            "                                                                 \n",
            " conv2d_1 (Conv2D)           (None, 29, 125, 64)       18496     \n",
            "                                                                 \n",
            " max_pooling2d_1 (MaxPooling  (None, 14, 62, 64)       0         \n",
            " 2D)                                                             \n",
            "                                                                 \n",
            " conv2d_2 (Conv2D)           (None, 12, 60, 128)       73856     \n",
            "                                                                 \n",
            " max_pooling2d_2 (MaxPooling  (None, 6, 30, 128)       0         \n",
            " 2D)                                                             \n",
            "                                                                 \n",
            " flatten_1 (Flatten)         (None, 23040)             0         \n",
            "                                                                 \n",
            " dense_4 (Dense)             (None, 256)               5898496   \n",
            "                                                                 \n",
            " dropout_3 (Dropout)         (None, 256)               0         \n",
            "                                                                 \n",
            " dense_5 (Dense)             (None, 128)               32896     \n",
            "                                                                 \n",
            " dropout_4 (Dropout)         (None, 128)               0         \n",
            "                                                                 \n",
            " dense_6 (Dense)             (None, 6)                 774       \n",
            "                                                                 \n",
            "=================================================================\n",
            "Total params: 6,024,838\n",
            "Trainable params: 6,024,838\n",
            "Non-trainable params: 0\n",
            "_________________________________________________________________\n"
          ]
        },
        {
          "output_type": "stream",
          "name": "stderr",
          "text": [
            "/usr/local/lib/python3.10/dist-packages/keras/optimizers/legacy/adam.py:117: UserWarning: The `lr` argument is deprecated, use `learning_rate` instead.\n",
            "  super().__init__(name, **kwargs)\n"
          ]
        }
      ]
    },
    {
      "cell_type": "code",
      "execution_count": null,
      "metadata": {
        "id": "gl590_cHhr3p",
        "colab": {
          "base_uri": "https://localhost:8080/"
        },
        "outputId": "aacb6f46-f6a1-4c71-ad88-b7e2bb48ae0e"
      },
      "outputs": [
        {
          "output_type": "stream",
          "name": "stdout",
          "text": [
            "Epoch 1/50\n",
            "39/39 [==============================] - 6s 98ms/step - loss: 1.9998 - accuracy: 0.1976 - val_loss: 1.7112 - val_accuracy: 0.3487\n",
            "Epoch 2/50\n",
            "39/39 [==============================] - 2s 54ms/step - loss: 1.6651 - accuracy: 0.2991 - val_loss: 1.5374 - val_accuracy: 0.4023\n",
            "Epoch 3/50\n",
            "39/39 [==============================] - 2s 54ms/step - loss: 1.6067 - accuracy: 0.3255 - val_loss: 1.5628 - val_accuracy: 0.3563\n",
            "Epoch 4/50\n",
            "39/39 [==============================] - 2s 53ms/step - loss: 1.5651 - accuracy: 0.3510 - val_loss: 1.5001 - val_accuracy: 0.3678\n",
            "Epoch 5/50\n",
            "39/39 [==============================] - 2s 54ms/step - loss: 1.5321 - accuracy: 0.3677 - val_loss: 1.4601 - val_accuracy: 0.3985\n",
            "Epoch 6/50\n",
            "39/39 [==============================] - 2s 55ms/step - loss: 1.5066 - accuracy: 0.3699 - val_loss: 1.4258 - val_accuracy: 0.4253\n",
            "Epoch 7/50\n",
            "39/39 [==============================] - 2s 55ms/step - loss: 1.4846 - accuracy: 0.3895 - val_loss: 1.4596 - val_accuracy: 0.3946\n",
            "Epoch 8/50\n",
            "39/39 [==============================] - 2s 54ms/step - loss: 1.4798 - accuracy: 0.3923 - val_loss: 1.4142 - val_accuracy: 0.4138\n",
            "Epoch 9/50\n",
            "39/39 [==============================] - 2s 53ms/step - loss: 1.4592 - accuracy: 0.4016 - val_loss: 1.4150 - val_accuracy: 0.4291\n",
            "Epoch 10/50\n",
            "39/39 [==============================] - 2s 52ms/step - loss: 1.4564 - accuracy: 0.3980 - val_loss: 1.4003 - val_accuracy: 0.4444\n",
            "Epoch 11/50\n",
            "39/39 [==============================] - 2s 52ms/step - loss: 1.4244 - accuracy: 0.4204 - val_loss: 1.4154 - val_accuracy: 0.4176\n",
            "Epoch 12/50\n",
            "39/39 [==============================] - 2s 52ms/step - loss: 1.4216 - accuracy: 0.4256 - val_loss: 1.4382 - val_accuracy: 0.4253\n",
            "Epoch 13/50\n",
            "39/39 [==============================] - 2s 54ms/step - loss: 1.4227 - accuracy: 0.4224 - val_loss: 1.3595 - val_accuracy: 0.4291\n",
            "Epoch 14/50\n",
            "39/39 [==============================] - 2s 55ms/step - loss: 1.3807 - accuracy: 0.4444 - val_loss: 1.3873 - val_accuracy: 0.4598\n",
            "Epoch 15/50\n",
            "39/39 [==============================] - 2s 53ms/step - loss: 1.3583 - accuracy: 0.4529 - val_loss: 1.3582 - val_accuracy: 0.4559\n",
            "Epoch 16/50\n",
            "39/39 [==============================] - 2s 52ms/step - loss: 1.3505 - accuracy: 0.4632 - val_loss: 1.3118 - val_accuracy: 0.4598\n",
            "Epoch 17/50\n",
            "39/39 [==============================] - 2s 52ms/step - loss: 1.3235 - accuracy: 0.4710 - val_loss: 1.3222 - val_accuracy: 0.4636\n",
            "Epoch 18/50\n",
            "39/39 [==============================] - 2s 53ms/step - loss: 1.3169 - accuracy: 0.4836 - val_loss: 1.3152 - val_accuracy: 0.4598\n",
            "Epoch 19/50\n",
            "39/39 [==============================] - 2s 51ms/step - loss: 1.2775 - accuracy: 0.4995 - val_loss: 1.3298 - val_accuracy: 0.4904\n",
            "Epoch 20/50\n",
            "39/39 [==============================] - 2s 53ms/step - loss: 1.2577 - accuracy: 0.5058 - val_loss: 1.2983 - val_accuracy: 0.4904\n",
            "Epoch 21/50\n",
            "39/39 [==============================] - 2s 53ms/step - loss: 1.2462 - accuracy: 0.5060 - val_loss: 1.2790 - val_accuracy: 0.4828\n",
            "Epoch 22/50\n",
            "39/39 [==============================] - 2s 53ms/step - loss: 1.2120 - accuracy: 0.5201 - val_loss: 1.2717 - val_accuracy: 0.4751\n",
            "Epoch 23/50\n",
            "39/39 [==============================] - 2s 51ms/step - loss: 1.1939 - accuracy: 0.5316 - val_loss: 1.2871 - val_accuracy: 0.4981\n",
            "Epoch 24/50\n",
            "39/39 [==============================] - 2s 51ms/step - loss: 1.1721 - accuracy: 0.5423 - val_loss: 1.2533 - val_accuracy: 0.5096\n",
            "Epoch 25/50\n",
            "39/39 [==============================] - 2s 51ms/step - loss: 1.1366 - accuracy: 0.5554 - val_loss: 1.2658 - val_accuracy: 0.5057\n",
            "Epoch 26/50\n",
            "39/39 [==============================] - 2s 51ms/step - loss: 1.1104 - accuracy: 0.5615 - val_loss: 1.2920 - val_accuracy: 0.4828\n",
            "Epoch 27/50\n",
            "39/39 [==============================] - 2s 53ms/step - loss: 1.0801 - accuracy: 0.5732 - val_loss: 1.2624 - val_accuracy: 0.5096\n",
            "Epoch 28/50\n",
            "39/39 [==============================] - 2s 54ms/step - loss: 1.0247 - accuracy: 0.6075 - val_loss: 1.2669 - val_accuracy: 0.4789\n",
            "Epoch 29/50\n",
            "39/39 [==============================] - 2s 53ms/step - loss: 1.0391 - accuracy: 0.6057 - val_loss: 1.3244 - val_accuracy: 0.4981\n",
            "Epoch 30/50\n",
            "39/39 [==============================] - 2s 52ms/step - loss: 0.9751 - accuracy: 0.6220 - val_loss: 1.3540 - val_accuracy: 0.5057\n",
            "Epoch 31/50\n",
            "39/39 [==============================] - 2s 51ms/step - loss: 0.9709 - accuracy: 0.6234 - val_loss: 1.3795 - val_accuracy: 0.4828\n",
            "Epoch 32/50\n",
            "39/39 [==============================] - 2s 50ms/step - loss: 0.9178 - accuracy: 0.6462 - val_loss: 1.2984 - val_accuracy: 0.5134\n",
            "Epoch 33/50\n",
            "39/39 [==============================] - 2s 52ms/step - loss: 0.8490 - accuracy: 0.6759 - val_loss: 1.3830 - val_accuracy: 0.5019\n",
            "Epoch 34/50\n",
            "39/39 [==============================] - 2s 53ms/step - loss: 0.8279 - accuracy: 0.6888 - val_loss: 1.3951 - val_accuracy: 0.5249\n"
          ]
        }
      ],
      "source": [
        "# Specify thecallbacks for the model\n",
        "callbacks = [EarlyStopping(monitor='val_loss', patience=10)]\n",
        "\n",
        "history = model.fit(x_train, y_train,\n",
        "                    epochs=50,\n",
        "                    batch_size=128,\n",
        "                    validation_data=(x_test, y_test),\n",
        "                    callbacks=callbacks)"
      ]
    },
    {
      "cell_type": "code",
      "source": [
        "X_test_freq,Y_test_freq = loadAudioFreq(D_test)\n"
      ],
      "metadata": {
        "id": "iaGFCAqQm826"
      },
      "execution_count": null,
      "outputs": []
    },
    {
      "cell_type": "code",
      "source": [
        "unicheck = np.unique(Y_test_freq, axis=0)\n",
        "print(f\"Check on freq domain:\\n{unicheck}\")"
      ],
      "metadata": {
        "colab": {
          "base_uri": "https://localhost:8080/"
        },
        "outputId": "815945a5-8b51-4d5c-a9a1-1da55f71febe",
        "id": "-z0QrmUk8ThQ"
      },
      "execution_count": null,
      "outputs": [
        {
          "output_type": "stream",
          "name": "stdout",
          "text": [
            "Check on freq domain:\n",
            "['ANG' 'DIS' 'FEA' 'HAP' 'NEU' 'SAD']\n"
          ]
        }
      ]
    },
    {
      "cell_type": "code",
      "execution_count": null,
      "metadata": {
        "colab": {
          "base_uri": "https://localhost:8080/",
          "height": 206
        },
        "outputId": "fce141e5-86cb-4cc7-b86e-14cd4fdf0860",
        "id": "NH51fyVT8ThR"
      },
      "outputs": [
        {
          "output_type": "execute_result",
          "data": {
            "text/plain": [
              "     0\n",
              "0  FEA\n",
              "1  SAD\n",
              "2  HAP\n",
              "3  DIS\n",
              "4  FEA"
            ],
            "text/html": [
              "\n",
              "  <div id=\"df-da955855-27e3-4dbd-9700-a93d3ba93553\">\n",
              "    <div class=\"colab-df-container\">\n",
              "      <div>\n",
              "<style scoped>\n",
              "    .dataframe tbody tr th:only-of-type {\n",
              "        vertical-align: middle;\n",
              "    }\n",
              "\n",
              "    .dataframe tbody tr th {\n",
              "        vertical-align: top;\n",
              "    }\n",
              "\n",
              "    .dataframe thead th {\n",
              "        text-align: right;\n",
              "    }\n",
              "</style>\n",
              "<table border=\"1\" class=\"dataframe\">\n",
              "  <thead>\n",
              "    <tr style=\"text-align: right;\">\n",
              "      <th></th>\n",
              "      <th>0</th>\n",
              "    </tr>\n",
              "  </thead>\n",
              "  <tbody>\n",
              "    <tr>\n",
              "      <th>0</th>\n",
              "      <td>FEA</td>\n",
              "    </tr>\n",
              "    <tr>\n",
              "      <th>1</th>\n",
              "      <td>SAD</td>\n",
              "    </tr>\n",
              "    <tr>\n",
              "      <th>2</th>\n",
              "      <td>HAP</td>\n",
              "    </tr>\n",
              "    <tr>\n",
              "      <th>3</th>\n",
              "      <td>DIS</td>\n",
              "    </tr>\n",
              "    <tr>\n",
              "      <th>4</th>\n",
              "      <td>FEA</td>\n",
              "    </tr>\n",
              "  </tbody>\n",
              "</table>\n",
              "</div>\n",
              "      <button class=\"colab-df-convert\" onclick=\"convertToInteractive('df-da955855-27e3-4dbd-9700-a93d3ba93553')\"\n",
              "              title=\"Convert this dataframe to an interactive table.\"\n",
              "              style=\"display:none;\">\n",
              "        \n",
              "  <svg xmlns=\"http://www.w3.org/2000/svg\" height=\"24px\"viewBox=\"0 0 24 24\"\n",
              "       width=\"24px\">\n",
              "    <path d=\"M0 0h24v24H0V0z\" fill=\"none\"/>\n",
              "    <path d=\"M18.56 5.44l.94 2.06.94-2.06 2.06-.94-2.06-.94-.94-2.06-.94 2.06-2.06.94zm-11 1L8.5 8.5l.94-2.06 2.06-.94-2.06-.94L8.5 2.5l-.94 2.06-2.06.94zm10 10l.94 2.06.94-2.06 2.06-.94-2.06-.94-.94-2.06-.94 2.06-2.06.94z\"/><path d=\"M17.41 7.96l-1.37-1.37c-.4-.4-.92-.59-1.43-.59-.52 0-1.04.2-1.43.59L10.3 9.45l-7.72 7.72c-.78.78-.78 2.05 0 2.83L4 21.41c.39.39.9.59 1.41.59.51 0 1.02-.2 1.41-.59l7.78-7.78 2.81-2.81c.8-.78.8-2.07 0-2.86zM5.41 20L4 18.59l7.72-7.72 1.47 1.35L5.41 20z\"/>\n",
              "  </svg>\n",
              "      </button>\n",
              "      \n",
              "  <style>\n",
              "    .colab-df-container {\n",
              "      display:flex;\n",
              "      flex-wrap:wrap;\n",
              "      gap: 12px;\n",
              "    }\n",
              "\n",
              "    .colab-df-convert {\n",
              "      background-color: #E8F0FE;\n",
              "      border: none;\n",
              "      border-radius: 50%;\n",
              "      cursor: pointer;\n",
              "      display: none;\n",
              "      fill: #1967D2;\n",
              "      height: 32px;\n",
              "      padding: 0 0 0 0;\n",
              "      width: 32px;\n",
              "    }\n",
              "\n",
              "    .colab-df-convert:hover {\n",
              "      background-color: #E2EBFA;\n",
              "      box-shadow: 0px 1px 2px rgba(60, 64, 67, 0.3), 0px 1px 3px 1px rgba(60, 64, 67, 0.15);\n",
              "      fill: #174EA6;\n",
              "    }\n",
              "\n",
              "    [theme=dark] .colab-df-convert {\n",
              "      background-color: #3B4455;\n",
              "      fill: #D2E3FC;\n",
              "    }\n",
              "\n",
              "    [theme=dark] .colab-df-convert:hover {\n",
              "      background-color: #434B5C;\n",
              "      box-shadow: 0px 1px 3px 1px rgba(0, 0, 0, 0.15);\n",
              "      filter: drop-shadow(0px 1px 2px rgba(0, 0, 0, 0.3));\n",
              "      fill: #FFFFFF;\n",
              "    }\n",
              "  </style>\n",
              "\n",
              "      <script>\n",
              "        const buttonEl =\n",
              "          document.querySelector('#df-da955855-27e3-4dbd-9700-a93d3ba93553 button.colab-df-convert');\n",
              "        buttonEl.style.display =\n",
              "          google.colab.kernel.accessAllowed ? 'block' : 'none';\n",
              "\n",
              "        async function convertToInteractive(key) {\n",
              "          const element = document.querySelector('#df-da955855-27e3-4dbd-9700-a93d3ba93553');\n",
              "          const dataTable =\n",
              "            await google.colab.kernel.invokeFunction('convertToInteractive',\n",
              "                                                     [key], {});\n",
              "          if (!dataTable) return;\n",
              "\n",
              "          const docLinkHtml = 'Like what you see? Visit the ' +\n",
              "            '<a target=\"_blank\" href=https://colab.research.google.com/notebooks/data_table.ipynb>data table notebook</a>'\n",
              "            + ' to learn more about interactive tables.';\n",
              "          element.innerHTML = '';\n",
              "          dataTable['output_type'] = 'display_data';\n",
              "          await google.colab.output.renderOutput(dataTable, element);\n",
              "          const docLink = document.createElement('div');\n",
              "          docLink.innerHTML = docLinkHtml;\n",
              "          element.appendChild(docLink);\n",
              "        }\n",
              "      </script>\n",
              "    </div>\n",
              "  </div>\n",
              "  "
            ]
          },
          "metadata": {},
          "execution_count": 50
        }
      ],
      "source": [
        "df_freq = pd.DataFrame(Y_test_freq)\n",
        "df_freq.head()"
      ]
    },
    {
      "cell_type": "code",
      "execution_count": null,
      "metadata": {
        "colab": {
          "base_uri": "https://localhost:8080/"
        },
        "outputId": "01766f9e-9866-4da5-bfb5-131a778fbb02",
        "id": "TMwkeUAO8ThR"
      },
      "outputs": [
        {
          "output_type": "stream",
          "name": "stdout",
          "text": [
            "(2236, 6)\n"
          ]
        }
      ],
      "source": [
        "# Use the get_dummies() method to one-hot encode the labels\n",
        "one_hot_labels = pd.get_dummies(df_freq)\n",
        "\n",
        "# Convert the DataFrame to a NumPy array\n",
        "one_hot_labels = one_hot_labels.to_numpy()\n",
        "\n",
        "print(one_hot_labels.shape)"
      ]
    },
    {
      "cell_type": "code",
      "execution_count": null,
      "metadata": {
        "colab": {
          "base_uri": "https://localhost:8080/"
        },
        "outputId": "f6f89b93-a5b4-46e3-cf7d-390dd01b0d32",
        "id": "3ibccV1A8ThR"
      },
      "outputs": [
        {
          "output_type": "execute_result",
          "data": {
            "text/plain": [
              "(2236, 6)"
            ]
          },
          "metadata": {},
          "execution_count": 52
        }
      ],
      "source": [
        "Y_freq = one_hot_labels\n",
        "Y_freq.shape"
      ]
    },
    {
      "cell_type": "code",
      "source": [
        "for i, array in enumerate(X_test_freq):\n",
        "    X_test_freq[i] = np.pad(array, ((0, 0), (0, 256 - array.shape[1])))\n",
        "X_test_freq = np.array(X_test_freq)\n",
        "print( X_test_freq.shape)\n",
        "#x_test = x_test.reshape((x_test.shape[0], x_test.shape[1], x_test.shape[2], 1))\n",
        "#X_test_freq = x_test.reshape(( X_test_freq.shape[0],  X_test_freq.shape[1], X_test_freq.shape[2], 1))\n",
        "print( X_test_freq.shape)"
      ],
      "metadata": {
        "colab": {
          "base_uri": "https://localhost:8080/"
        },
        "id": "-T_0WMYY_Rqd",
        "outputId": "051af8ea-56f8-4451-d44f-5e2dd1012c03"
      },
      "execution_count": null,
      "outputs": [
        {
          "output_type": "stream",
          "name": "stdout",
          "text": [
            "(2236, 64, 256)\n",
            "(2236, 64, 256)\n"
          ]
        }
      ]
    },
    {
      "cell_type": "code",
      "source": [
        "from sklearn.metrics import accuracy_score, f1_score, confusion_matrix\n",
        "# Evaluate the model on the test set\n",
        "y_pred = model.predict(X_test_freq)\n",
        "y_pred_classes = np.argmax(y_pred, axis=1)\n",
        "y_test_classes = np.argmax(Y_freq, axis=1)\n",
        "accuracy = accuracy_score(y_test_classes, y_pred_classes)\n",
        "f_score = f1_score(y_test_classes, y_pred_classes, average='weighted')\n",
        "print('Accuracy:', accuracy)\n",
        "print('F-score:', f_score)\n",
        "\n",
        "# Plot the confusion matrix\n",
        "cm = confusion_matrix(y_test_classes, y_pred_classes)\n",
        "plt.imshow(cm, cmap=plt.cm.Blues)\n",
        "plt.title('Confusion matrix')\n",
        "plt.colorbar()\n",
        "tick_marks = np.arange(6)\n",
        "plt.xticks(tick_marks, range(6))\n",
        "plt.yticks(tick_marks, range(6))\n",
        "plt.xlabel('Predicted label')\n",
        "plt.ylabel('True label')\n",
        "plt.show()\n",
        "\n",
        "# Find the most confusinglabels\n",
        "np.fill_diagonal(cm, 0)\n",
        "most_confused_classes = np.unravel_index(np.argmax(cm), cm.shape)\n",
        "print('Most confusing classes:', most_confused_classes)"
      ],
      "metadata": {
        "outputId": "689cf4cd-c76d-4822-a972-777f440dd7c7",
        "colab": {
          "base_uri": "https://localhost:8080/",
          "height": 541
        },
        "id": "sAlGiVpm8ThR"
      },
      "execution_count": null,
      "outputs": [
        {
          "output_type": "stream",
          "name": "stdout",
          "text": [
            "70/70 [==============================] - 1s 7ms/step\n",
            "Accuracy: 0.4991055456171735\n",
            "F-score: 0.4979877055081795\n"
          ]
        },
        {
          "output_type": "display_data",
          "data": {
            "text/plain": [
              "<Figure size 640x480 with 2 Axes>"
            ],
            "image/png": "[encoded data removed]"
          },
          "metadata": {}
        },
        {
          "output_type": "stream",
          "name": "stdout",
          "text": [
            "Most confusing classes: (2, 5)\n"
          ]
        }
      ]
    },
    {
      "cell_type": "code",
      "source": [],
      "metadata": {
        "id": "FgRUFoW6nPfW"
      },
      "execution_count": null,
      "outputs": []
    },
    {
      "cell_type": "code",
      "source": [],
      "metadata": {
        "id": "N4MwzLbNnPhg"
      },
      "execution_count": null,
      "outputs": []
    },
    {
      "cell_type": "code",
      "source": [],
      "metadata": {
        "id": "Z9QoXIUKnPjv"
      },
      "execution_count": null,
      "outputs": []
    },
    {
      "cell_type": "code",
      "source": [
        "def loadAudioFreqA(audio_files):\n",
        "  classes = [\"SAD\", \"ANG\", \"DIS\", \"FEA\", \"HAP\", \"NEU\"]\n",
        "  # for data augmentation\n",
        "  augmentations = Compose([\n",
        "    AddGaussianNoise(min_amplitude=0.001, max_amplitude=0.01, p=0.5),\n",
        "    TimeStretch(min_rate=0.8, max_rate=1.2, p=0.5),\n",
        "    PitchShift(min_semitones=-4, max_semitones=4, p=0.5)\n",
        "])\n",
        "  # max_length = getMaxLen(audio_files)\n",
        "  max_length = 200\n",
        "  D, Y = [], []\n",
        "  for audio_file in audio_files: \n",
        "    # load the audio file\n",
        "    audio, sr = lib.load(audio_file, sr=4444)\n",
        "    # extract mel spectrogram\n",
        "    mel_spec = melSpectrogram(audio, sr)\n",
        "    D.append(mel_spec)\n",
        "    for cls in classes:\n",
        "      if re.search(cls, audio_file): Y.append(cls)\n",
        "    # don't augment every example\n",
        "    if np.random.rand() >= 0.5:\n",
        "      augmented_audio = augmentations(samples=audio, sample_rate=sr)\n",
        "      mel_spec_aug = melSpectrogram(augmented_audio, sr)\n",
        "      D.append(mel_spec_aug)\n",
        "      for cls in classes:\n",
        "        if re.search(cls, audio_file): Y.append(cls)\n",
        "  return D, Y"
      ],
      "metadata": {
        "id": "1dxqL0gwMlFF"
      },
      "execution_count": null,
      "outputs": []
    },
    {
      "cell_type": "markdown",
      "source": [
        "## Time Domain Model With Augmentation"
      ],
      "metadata": {
        "id": "vlGm_gztMlFV"
      }
    },
    {
      "cell_type": "code",
      "source": [
        "def loadAudioTimeA(audio_files):\n",
        "  classes = [\"SAD\", \"ANG\", \"DIS\", \"FEA\", \"HAP\", \"NEU\"]\n",
        "  # for data augmentation\n",
        "  augmentations = Compose([\n",
        "    AddGaussianNoise(min_amplitude=0.001, max_amplitude=0.01, p=0.5),\n",
        "    TimeStretch(min_rate=0.8, max_rate=1.2, p=0.5),\n",
        "    PitchShift(min_semitones=-4, max_semitones=4, p=0.5)\n",
        "])\n",
        "  # max_length = getMaxLen(audio_files)\n",
        "  max_length = 200\n",
        "  D, Y = [], []\n",
        "  for audio_file in audio_files: \n",
        "    # load the audio file\n",
        "    audio, sr = lib.load(audio_file, sr=4444)\n",
        "    # extract zero crossing rate\n",
        "    zcr = zeroCrossingRate(audio)\n",
        "    # extract energy\n",
        "    rms = energy(audio)\n",
        "    # chroma stft\n",
        "    cs = chromaStft(audio, sr)\n",
        "    # mfcc\n",
        "    mfc = mfcc(audio, sr)\n",
        "    # extract mel spectrogram\n",
        "    mel_spec = melSpectrogram(audio, sr).mean()\n",
        "    combined_features = np.concatenate(([rms, cs, mfc, mel_spec], (np.pad(zcr[0], (0, 300 - len(zcr[0]))))))\n",
        "    D.append(combined_features)\n",
        "    for cls in classes:\n",
        "      if re.search(cls, audio_file): Y.append(cls)\n",
        "    # don't augment every example\n",
        "    if np.random.rand() >= 0.5:\n",
        "      augmented_audio = augmentations(samples=audio, sample_rate=sr)\n",
        "      # extract zero crossing rate\n",
        "      zcr = zeroCrossingRate(augmented_audio)\n",
        "      # extract energy\n",
        "      rms = energy(augmented_audio)\n",
        "      # chroma stft\n",
        "      cs = chromaStft(augmented_audio, sr)\n",
        "      # mfcc\n",
        "      mfc = mfcc(augmented_audio, sr)\n",
        "      # extract mel spectrogram\n",
        "      mel_spec = melSpectrogram(augmented_audio, sr).mean()\n",
        "      combined_features = np.concatenate(([rms, cs, mfc, mel_spec], (np.pad(zcr[0], (0, 300 - len(zcr[0]))))))\n",
        "      D.append(combined_features)\n",
        "      for cls in classes:\n",
        "        if re.search(cls, audio_file): Y.append(cls)\n",
        "  return D, Y"
      ],
      "metadata": {
        "id": "0dsuZz1OSnOD"
      },
      "execution_count": null,
      "outputs": []
    },
    {
      "cell_type": "code",
      "source": [
        "D_time, Y_time = loadAudioTimeA(D_train)"
      ],
      "metadata": {
        "colab": {
          "base_uri": "https://localhost:8080/"
        },
        "outputId": "074ac878-212e-480f-cf0b-ef02961b6cc7",
        "id": "GJ0TnLzyMlFV"
      },
      "execution_count": null,
      "outputs": [
        {
          "output_type": "stream",
          "name": "stderr",
          "text": [
            "/usr/local/lib/python3.10/dist-packages/librosa/util/decorators.py:88: UserWarning: Trying to estimate tuning from empty frequency set.\n",
            "  return f(*args, **kwargs)\n"
          ]
        }
      ]
    },
    {
      "cell_type": "code",
      "source": [
        "D_time = np.array(D_time)\n",
        "D_time.shape"
      ],
      "metadata": {
        "colab": {
          "base_uri": "https://localhost:8080/"
        },
        "outputId": "9ed89123-a68a-49a8-815b-230d13e4757e",
        "id": "x1BskWX5MlFV"
      },
      "execution_count": null,
      "outputs": [
        {
          "output_type": "execute_result",
          "data": {
            "text/plain": [
              "(7877, 304)"
            ]
          },
          "metadata": {},
          "execution_count": 58
        }
      ]
    },
    {
      "cell_type": "code",
      "source": [
        "unicheck = np.unique(Y_time, axis=0)\n",
        "print(f\"Check on time domain:\\n{unicheck}\")"
      ],
      "metadata": {
        "colab": {
          "base_uri": "https://localhost:8080/"
        },
        "outputId": "1444f6fd-f321-4340-b447-ea5e6e0c295c",
        "id": "79W4Q8J2MlFW"
      },
      "execution_count": null,
      "outputs": [
        {
          "output_type": "stream",
          "name": "stdout",
          "text": [
            "Check on time domain:\n",
            "['ANG' 'DIS' 'FEA' 'HAP' 'NEU' 'SAD']\n"
          ]
        }
      ]
    },
    {
      "cell_type": "code",
      "source": [
        "df_time = pd.DataFrame(Y_time)\n",
        "df_time.head()"
      ],
      "metadata": {
        "colab": {
          "base_uri": "https://localhost:8080/",
          "height": 206
        },
        "outputId": "3d477062-61c9-4030-d19b-02658a00749d",
        "id": "v5JYzdTpMlFW"
      },
      "execution_count": null,
      "outputs": [
        {
          "output_type": "execute_result",
          "data": {
            "text/plain": [
              "     0\n",
              "0  FEA\n",
              "1  FEA\n",
              "2  FEA\n",
              "3  HAP\n",
              "4  HAP"
            ],
            "text/html": [
              "\n",
              "  <div id=\"df-05b357e7-50fd-460a-a984-f258ba85bd00\">\n",
              "    <div class=\"colab-df-container\">\n",
              "      <div>\n",
              "<style scoped>\n",
              "    .dataframe tbody tr th:only-of-type {\n",
              "        vertical-align: middle;\n",
              "    }\n",
              "\n",
              "    .dataframe tbody tr th {\n",
              "        vertical-align: top;\n",
              "    }\n",
              "\n",
              "    .dataframe thead th {\n",
              "        text-align: right;\n",
              "    }\n",
              "</style>\n",
              "<table border=\"1\" class=\"dataframe\">\n",
              "  <thead>\n",
              "    <tr style=\"text-align: right;\">\n",
              "      <th></th>\n",
              "      <th>0</th>\n",
              "    </tr>\n",
              "  </thead>\n",
              "  <tbody>\n",
              "    <tr>\n",
              "      <th>0</th>\n",
              "      <td>FEA</td>\n",
              "    </tr>\n",
              "    <tr>\n",
              "      <th>1</th>\n",
              "      <td>FEA</td>\n",
              "    </tr>\n",
              "    <tr>\n",
              "      <th>2</th>\n",
              "      <td>FEA</td>\n",
              "    </tr>\n",
              "    <tr>\n",
              "      <th>3</th>\n",
              "      <td>HAP</td>\n",
              "    </tr>\n",
              "    <tr>\n",
              "      <th>4</th>\n",
              "      <td>HAP</td>\n",
              "    </tr>\n",
              "  </tbody>\n",
              "</table>\n",
              "</div>\n",
              "      <button class=\"colab-df-convert\" onclick=\"convertToInteractive('df-05b357e7-50fd-460a-a984-f258ba85bd00')\"\n",
              "              title=\"Convert this dataframe to an interactive table.\"\n",
              "              style=\"display:none;\">\n",
              "        \n",
              "  <svg xmlns=\"http://www.w3.org/2000/svg\" height=\"24px\"viewBox=\"0 0 24 24\"\n",
              "       width=\"24px\">\n",
              "    <path d=\"M0 0h24v24H0V0z\" fill=\"none\"/>\n",
              "    <path d=\"M18.56 5.44l.94 2.06.94-2.06 2.06-.94-2.06-.94-.94-2.06-.94 2.06-2.06.94zm-11 1L8.5 8.5l.94-2.06 2.06-.94-2.06-.94L8.5 2.5l-.94 2.06-2.06.94zm10 10l.94 2.06.94-2.06 2.06-.94-2.06-.94-.94-2.06-.94 2.06-2.06.94z\"/><path d=\"M17.41 7.96l-1.37-1.37c-.4-.4-.92-.59-1.43-.59-.52 0-1.04.2-1.43.59L10.3 9.45l-7.72 7.72c-.78.78-.78 2.05 0 2.83L4 21.41c.39.39.9.59 1.41.59.51 0 1.02-.2 1.41-.59l7.78-7.78 2.81-2.81c.8-.78.8-2.07 0-2.86zM5.41 20L4 18.59l7.72-7.72 1.47 1.35L5.41 20z\"/>\n",
              "  </svg>\n",
              "      </button>\n",
              "      \n",
              "  <style>\n",
              "    .colab-df-container {\n",
              "      display:flex;\n",
              "      flex-wrap:wrap;\n",
              "      gap: 12px;\n",
              "    }\n",
              "\n",
              "    .colab-df-convert {\n",
              "      background-color: #E8F0FE;\n",
              "      border: none;\n",
              "      border-radius: 50%;\n",
              "      cursor: pointer;\n",
              "      display: none;\n",
              "      fill: #1967D2;\n",
              "      height: 32px;\n",
              "      padding: 0 0 0 0;\n",
              "      width: 32px;\n",
              "    }\n",
              "\n",
              "    .colab-df-convert:hover {\n",
              "      background-color: #E2EBFA;\n",
              "      box-shadow: 0px 1px 2px rgba(60, 64, 67, 0.3), 0px 1px 3px 1px rgba(60, 64, 67, 0.15);\n",
              "      fill: #174EA6;\n",
              "    }\n",
              "\n",
              "    [theme=dark] .colab-df-convert {\n",
              "      background-color: #3B4455;\n",
              "      fill: #D2E3FC;\n",
              "    }\n",
              "\n",
              "    [theme=dark] .colab-df-convert:hover {\n",
              "      background-color: #434B5C;\n",
              "      box-shadow: 0px 1px 3px 1px rgba(0, 0, 0, 0.15);\n",
              "      filter: drop-shadow(0px 1px 2px rgba(0, 0, 0, 0.3));\n",
              "      fill: #FFFFFF;\n",
              "    }\n",
              "  </style>\n",
              "\n",
              "      <script>\n",
              "        const buttonEl =\n",
              "          document.querySelector('#df-05b357e7-50fd-460a-a984-f258ba85bd00 button.colab-df-convert');\n",
              "        buttonEl.style.display =\n",
              "          google.colab.kernel.accessAllowed ? 'block' : 'none';\n",
              "\n",
              "        async function convertToInteractive(key) {\n",
              "          const element = document.querySelector('#df-05b357e7-50fd-460a-a984-f258ba85bd00');\n",
              "          const dataTable =\n",
              "            await google.colab.kernel.invokeFunction('convertToInteractive',\n",
              "                                                     [key], {});\n",
              "          if (!dataTable) return;\n",
              "\n",
              "          const docLinkHtml = 'Like what you see? Visit the ' +\n",
              "            '<a target=\"_blank\" href=https://colab.research.google.com/notebooks/data_table.ipynb>data table notebook</a>'\n",
              "            + ' to learn more about interactive tables.';\n",
              "          element.innerHTML = '';\n",
              "          dataTable['output_type'] = 'display_data';\n",
              "          await google.colab.output.renderOutput(dataTable, element);\n",
              "          const docLink = document.createElement('div');\n",
              "          docLink.innerHTML = docLinkHtml;\n",
              "          element.appendChild(docLink);\n",
              "        }\n",
              "      </script>\n",
              "    </div>\n",
              "  </div>\n",
              "  "
            ]
          },
          "metadata": {},
          "execution_count": 60
        }
      ]
    },
    {
      "cell_type": "code",
      "source": [
        "# Use the get_dummies() method to one-hot encode the labels\n",
        "one_hot_labels = pd.get_dummies(df_time)\n",
        "\n",
        "# Convert the DataFrame to a NumPy array\n",
        "one_hot_labels = one_hot_labels.to_numpy()\n",
        "\n",
        "print(one_hot_labels.shape)"
      ],
      "metadata": {
        "colab": {
          "base_uri": "https://localhost:8080/"
        },
        "outputId": "08dfb247-e7e4-4a76-b531-786b207a2ff6",
        "id": "lLNa2wGeMlFW"
      },
      "execution_count": null,
      "outputs": [
        {
          "output_type": "stream",
          "name": "stdout",
          "text": [
            "(7877, 6)\n"
          ]
        }
      ]
    },
    {
      "cell_type": "code",
      "source": [
        "Y_time = one_hot_labels\n",
        "Y_time.shape"
      ],
      "metadata": {
        "colab": {
          "base_uri": "https://localhost:8080/"
        },
        "outputId": "ea294f0c-f72c-466c-b351-071b3646636e",
        "id": "RGZhc4cdMlFW"
      },
      "execution_count": null,
      "outputs": [
        {
          "output_type": "execute_result",
          "data": {
            "text/plain": [
              "(7877, 6)"
            ]
          },
          "metadata": {},
          "execution_count": 62
        }
      ]
    },
    {
      "cell_type": "code",
      "source": [
        "# Apply PCA to the data\n",
        "pca = PCA(n_components=200)\n",
        "D_pca = pca.fit_transform(D_time)"
      ],
      "metadata": {
        "id": "Z7k03R6cMlFX"
      },
      "execution_count": null,
      "outputs": []
    },
    {
      "cell_type": "code",
      "source": [
        "# Split the data into train and test sets\n",
        "x_train, x_test, y_train, y_test = train_test_split(np.array(D_pca), np.array(Y_time), test_size=0.05, random_state=69, shuffle=True, stratify=Y_time)\n",
        "print((x_train.shape, y_train.shape, x_test.shape, y_test.shape))\n",
        "\n",
        "x_train = x_train.reshape((x_train.shape[0], x_train.shape[1], 1))\n",
        "x_test = x_test.reshape((x_test.shape[0], x_test.shape[1], 1))\n",
        "\n",
        "model = Sequential()\n",
        "model.add(Conv1D(128, 3, input_shape=(x_train.shape[1], 1), kernel_regularizer=regularizers.l2(0.001)))\n",
        "model.add(BatchNormalization())\n",
        "model.add(Activation('relu'))\n",
        "model.add(MaxPooling1D(pool_size=2))\n",
        "\n",
        "model.add(Conv1D(256, 3, kernel_regularizer=regularizers.l2(0.001)))\n",
        "model.add(BatchNormalization())\n",
        "model.add(Activation('relu'))\n",
        "model.add(MaxPooling1D(pool_size=2))\n",
        "\n",
        "model.add(Conv1D(512, 3, kernel_regularizer=regularizers.l2(0.001)))\n",
        "model.add(BatchNormalization())\n",
        "model.add(Activation('relu'))\n",
        "model.add(MaxPooling1D(pool_size=2))\n",
        "\n",
        "model.add(Conv1D(1024, 3,  kernel_regularizer=regularizers.l2(0.001)))\n",
        "model.add(BatchNormalization())\n",
        "model.add(Activation('relu'))\n",
        "model.add(MaxPooling1D(pool_size=2))\n",
        "\n",
        "model.add(Flatten())\n",
        "model.add(Dense(512, kernel_regularizer=regularizers.l2(0.001)))\n",
        "model.add(BatchNormalization())\n",
        "model.add(Activation('relu'))\n",
        "model.add(Dropout(0.3))\n",
        "\n",
        "model.add(Dense(256, kernel_regularizer=regularizers.l2(0.001)))\n",
        "model.add(BatchNormalization())\n",
        "model.add(Activation('relu'))\n",
        "model.add(Dropout(0.2))\n",
        "\n",
        "model.add(Dense(128, kernel_regularizer=regularizers.l2(0.001)))\n",
        "model.add(BatchNormalization())\n",
        "model.add(Activation('relu'))\n",
        "model.add(Dropout(0.2))\n",
        "\n",
        "model.add(Dense(6, activation='softmax'))\n",
        "\n",
        "model.compile(loss='categorical_crossentropy',\n",
        "             optimizer=optimizers.Adam(lr=0.0005),\n",
        "             metrics=['accuracy'])\n",
        "\n",
        "# Specify thecallbacks for the model\n",
        "callbacks = [EarlyStopping(monitor='val_loss', patience=10)]\n",
        "\n",
        "model.summary()\n",
        "\n",
        "# Train the model with early stopping\n",
        "history = model.fit(x_train, y_train,\n",
        "                    validation_data=(x_train, y_train),\n",
        "                    epochs=50,\n",
        "                    batch_size=32,\n",
        "                    callbacks=callbacks)"
      ],
      "metadata": {
        "colab": {
          "base_uri": "https://localhost:8080/"
        },
        "outputId": "47968ac2-7485-4fa1-fc52-4dd37a6b1ab2",
        "id": "HGZllihGMlFX"
      },
      "execution_count": null,
      "outputs": [
        {
          "output_type": "stream",
          "name": "stdout",
          "text": [
            "((7483, 200), (7483, 6), (394, 200), (394, 6))\n",
            "Model: \"sequential_2\"\n",
            "_________________________________________________________________\n",
            " Layer (type)                Output Shape              Param #   \n",
            "=================================================================\n",
            " conv1d_4 (Conv1D)           (None, 198, 128)          512       \n",
            "                                                                 \n",
            " batch_normalization_7 (Batc  (None, 198, 128)         512       \n",
            " hNormalization)                                                 \n",
            "                                                                 \n",
            " activation_7 (Activation)   (None, 198, 128)          0         \n",
            "                                                                 \n",
            " max_pooling1d_4 (MaxPooling  (None, 99, 128)          0         \n",
            " 1D)                                                             \n",
            "                                                                 \n",
            " conv1d_5 (Conv1D)           (None, 97, 256)           98560     \n",
            "                                                                 \n",
            " batch_normalization_8 (Batc  (None, 97, 256)          1024      \n",
            " hNormalization)                                                 \n",
            "                                                                 \n",
            " activation_8 (Activation)   (None, 97, 256)           0         \n",
            "                                                                 \n",
            " max_pooling1d_5 (MaxPooling  (None, 48, 256)          0         \n",
            " 1D)                                                             \n",
            "                                                                 \n",
            " conv1d_6 (Conv1D)           (None, 46, 512)           393728    \n",
            "                                                                 \n",
            " batch_normalization_9 (Batc  (None, 46, 512)          2048      \n",
            " hNormalization)                                                 \n",
            "                                                                 \n",
            " activation_9 (Activation)   (None, 46, 512)           0         \n",
            "                                                                 \n",
            " max_pooling1d_6 (MaxPooling  (None, 23, 512)          0         \n",
            " 1D)                                                             \n",
            "                                                                 \n",
            " conv1d_7 (Conv1D)           (None, 21, 1024)          1573888   \n",
            "                                                                 \n",
            " batch_normalization_10 (Bat  (None, 21, 1024)         4096      \n",
            " chNormalization)                                                \n",
            "                                                                 \n",
            " activation_10 (Activation)  (None, 21, 1024)          0         \n",
            "                                                                 \n",
            " max_pooling1d_7 (MaxPooling  (None, 10, 1024)         0         \n",
            " 1D)                                                             \n",
            "                                                                 \n",
            " flatten_2 (Flatten)         (None, 10240)             0         \n",
            "                                                                 \n",
            " dense_7 (Dense)             (None, 512)               5243392   \n",
            "                                                                 \n",
            " batch_normalization_11 (Bat  (None, 512)              2048      \n",
            " chNormalization)                                                \n",
            "                                                                 \n",
            " activation_11 (Activation)  (None, 512)               0         \n",
            "                                                                 \n",
            " dropout_5 (Dropout)         (None, 512)               0         \n",
            "                                                                 \n",
            " dense_8 (Dense)             (None, 256)               131328    \n",
            "                                                                 \n",
            " batch_normalization_12 (Bat  (None, 256)              1024      \n",
            " chNormalization)                                                \n",
            "                                                                 \n",
            " activation_12 (Activation)  (None, 256)               0         \n",
            "                                                                 \n",
            " dropout_6 (Dropout)         (None, 256)               0         \n",
            "                                                                 \n",
            " dense_9 (Dense)             (None, 128)               32896     \n",
            "                                                                 \n",
            " batch_normalization_13 (Bat  (None, 128)              512       \n",
            " chNormalization)                                                \n",
            "                                                                 \n",
            " activation_13 (Activation)  (None, 128)               0         \n",
            "                                                                 \n",
            " dropout_7 (Dropout)         (None, 128)               0         \n",
            "                                                                 \n",
            " dense_10 (Dense)            (None, 6)                 774       \n",
            "                                                                 \n",
            "=================================================================\n",
            "Total params: 7,486,342\n",
            "Trainable params: 7,480,710\n",
            "Non-trainable params: 5,632\n",
            "_________________________________________________________________\n"
          ]
        },
        {
          "output_type": "stream",
          "name": "stderr",
          "text": [
            "/usr/local/lib/python3.10/dist-packages/keras/optimizers/legacy/adam.py:117: UserWarning: The `lr` argument is deprecated, use `learning_rate` instead.\n",
            "  super().__init__(name, **kwargs)\n"
          ]
        },
        {
          "output_type": "stream",
          "name": "stdout",
          "text": [
            "Epoch 1/50\n",
            "234/234 [==============================] - 9s 23ms/step - loss: 3.2763 - accuracy: 0.2983 - val_loss: 3.3933 - val_accuracy: 0.1433\n",
            "Epoch 2/50\n",
            "234/234 [==============================] - 5s 20ms/step - loss: 2.6442 - accuracy: 0.3350 - val_loss: 2.6381 - val_accuracy: 0.2527\n",
            "Epoch 3/50\n",
            "234/234 [==============================] - 5s 20ms/step - loss: 2.4370 - accuracy: 0.3523 - val_loss: 2.4055 - val_accuracy: 0.3249\n",
            "Epoch 4/50\n",
            "234/234 [==============================] - 5s 20ms/step - loss: 2.3020 - accuracy: 0.3671 - val_loss: 2.2626 - val_accuracy: 0.3635\n",
            "Epoch 5/50\n",
            "234/234 [==============================] - 4s 19ms/step - loss: 2.2028 - accuracy: 0.3751 - val_loss: 2.1980 - val_accuracy: 0.3676\n",
            "Epoch 6/50\n",
            "234/234 [==============================] - 5s 22ms/step - loss: 2.1218 - accuracy: 0.3830 - val_loss: 2.0443 - val_accuracy: 0.3917\n",
            "Epoch 7/50\n",
            "234/234 [==============================] - 4s 18ms/step - loss: 2.0317 - accuracy: 0.3826 - val_loss: 2.0686 - val_accuracy: 0.3388\n",
            "Epoch 8/50\n",
            "234/234 [==============================] - 4s 18ms/step - loss: 1.9737 - accuracy: 0.3909 - val_loss: 1.9795 - val_accuracy: 0.3757\n",
            "Epoch 9/50\n",
            "234/234 [==============================] - 5s 21ms/step - loss: 1.9115 - accuracy: 0.3945 - val_loss: 1.9207 - val_accuracy: 0.3679\n",
            "Epoch 10/50\n",
            "234/234 [==============================] - 4s 19ms/step - loss: 1.8678 - accuracy: 0.3891 - val_loss: 2.1761 - val_accuracy: 0.2602\n",
            "Epoch 11/50\n",
            "234/234 [==============================] - 4s 18ms/step - loss: 1.8214 - accuracy: 0.4026 - val_loss: 2.1945 - val_accuracy: 0.3136\n",
            "Epoch 12/50\n",
            "234/234 [==============================] - 5s 22ms/step - loss: 1.7793 - accuracy: 0.4071 - val_loss: 1.7867 - val_accuracy: 0.3948\n",
            "Epoch 13/50\n",
            "234/234 [==============================] - 5s 19ms/step - loss: 1.7465 - accuracy: 0.4119 - val_loss: 1.8128 - val_accuracy: 0.3579\n",
            "Epoch 14/50\n",
            "234/234 [==============================] - 4s 18ms/step - loss: 1.7194 - accuracy: 0.4047 - val_loss: 1.7377 - val_accuracy: 0.3707\n",
            "Epoch 15/50\n",
            "234/234 [==============================] - 5s 21ms/step - loss: 1.7021 - accuracy: 0.4200 - val_loss: 1.7571 - val_accuracy: 0.3635\n",
            "Epoch 16/50\n",
            "234/234 [==============================] - 4s 18ms/step - loss: 1.6877 - accuracy: 0.4165 - val_loss: 1.6967 - val_accuracy: 0.3961\n",
            "Epoch 17/50\n",
            "234/234 [==============================] - 4s 19ms/step - loss: 1.6593 - accuracy: 0.4203 - val_loss: 1.7006 - val_accuracy: 0.3924\n",
            "Epoch 18/50\n",
            "234/234 [==============================] - 5s 21ms/step - loss: 1.6490 - accuracy: 0.4215 - val_loss: 1.6615 - val_accuracy: 0.4149\n",
            "Epoch 19/50\n",
            "234/234 [==============================] - 4s 19ms/step - loss: 1.6321 - accuracy: 0.4228 - val_loss: 1.6883 - val_accuracy: 0.4024\n",
            "Epoch 20/50\n",
            "234/234 [==============================] - 4s 18ms/step - loss: 1.6161 - accuracy: 0.4255 - val_loss: 1.6788 - val_accuracy: 0.3420\n",
            "Epoch 21/50\n",
            "234/234 [==============================] - 5s 20ms/step - loss: 1.5927 - accuracy: 0.4315 - val_loss: 1.6195 - val_accuracy: 0.4149\n",
            "Epoch 22/50\n",
            "234/234 [==============================] - 5s 20ms/step - loss: 1.5948 - accuracy: 0.4302 - val_loss: 1.6581 - val_accuracy: 0.4121\n",
            "Epoch 23/50\n",
            "234/234 [==============================] - 5s 19ms/step - loss: 1.5860 - accuracy: 0.4398 - val_loss: 1.6458 - val_accuracy: 0.4196\n",
            "Epoch 24/50\n",
            "234/234 [==============================] - 5s 20ms/step - loss: 1.5687 - accuracy: 0.4430 - val_loss: 1.5895 - val_accuracy: 0.4355\n",
            "Epoch 25/50\n",
            "234/234 [==============================] - 5s 20ms/step - loss: 1.5568 - accuracy: 0.4501 - val_loss: 1.5833 - val_accuracy: 0.4127\n",
            "Epoch 26/50\n",
            "234/234 [==============================] - 4s 19ms/step - loss: 1.5470 - accuracy: 0.4525 - val_loss: 1.6091 - val_accuracy: 0.4258\n",
            "Epoch 27/50\n",
            "234/234 [==============================] - 5s 20ms/step - loss: 1.5411 - accuracy: 0.4510 - val_loss: 1.8371 - val_accuracy: 0.3324\n",
            "Epoch 28/50\n",
            "234/234 [==============================] - 5s 22ms/step - loss: 1.5405 - accuracy: 0.4549 - val_loss: 1.6195 - val_accuracy: 0.4240\n",
            "Epoch 29/50\n",
            "234/234 [==============================] - 4s 18ms/step - loss: 1.5173 - accuracy: 0.4614 - val_loss: 1.6191 - val_accuracy: 0.4079\n",
            "Epoch 30/50\n",
            "234/234 [==============================] - 5s 20ms/step - loss: 1.5115 - accuracy: 0.4667 - val_loss: 1.5554 - val_accuracy: 0.4470\n",
            "Epoch 31/50\n",
            "234/234 [==============================] - 5s 23ms/step - loss: 1.5019 - accuracy: 0.4661 - val_loss: 1.5275 - val_accuracy: 0.4537\n",
            "Epoch 32/50\n",
            "234/234 [==============================] - 4s 19ms/step - loss: 1.5022 - accuracy: 0.4696 - val_loss: 1.6026 - val_accuracy: 0.3938\n",
            "Epoch 33/50\n",
            "234/234 [==============================] - 5s 20ms/step - loss: 1.4816 - accuracy: 0.4773 - val_loss: 1.6397 - val_accuracy: 0.4012\n",
            "Epoch 34/50\n",
            "234/234 [==============================] - 5s 22ms/step - loss: 1.4728 - accuracy: 0.4836 - val_loss: 1.4843 - val_accuracy: 0.4618\n",
            "Epoch 35/50\n",
            "234/234 [==============================] - 4s 19ms/step - loss: 1.4619 - accuracy: 0.4871 - val_loss: 1.5155 - val_accuracy: 0.4693\n",
            "Epoch 36/50\n",
            "234/234 [==============================] - 4s 19ms/step - loss: 1.4540 - accuracy: 0.4915 - val_loss: 1.5991 - val_accuracy: 0.3696\n",
            "Epoch 37/50\n",
            "234/234 [==============================] - 5s 21ms/step - loss: 1.4398 - accuracy: 0.4880 - val_loss: 1.6704 - val_accuracy: 0.3891\n",
            "Epoch 38/50\n",
            "234/234 [==============================] - 5s 19ms/step - loss: 1.4347 - accuracy: 0.4991 - val_loss: 1.7047 - val_accuracy: 0.4067\n",
            "Epoch 39/50\n",
            "234/234 [==============================] - 4s 18ms/step - loss: 1.4229 - accuracy: 0.5077 - val_loss: 1.6919 - val_accuracy: 0.3916\n",
            "Epoch 40/50\n",
            "234/234 [==============================] - 5s 22ms/step - loss: 1.4084 - accuracy: 0.5053 - val_loss: 1.7335 - val_accuracy: 0.4097\n",
            "Epoch 41/50\n",
            "234/234 [==============================] - 4s 19ms/step - loss: 1.4017 - accuracy: 0.5164 - val_loss: 1.4899 - val_accuracy: 0.4773\n",
            "Epoch 42/50\n",
            "234/234 [==============================] - 5s 19ms/step - loss: 1.3851 - accuracy: 0.5157 - val_loss: 2.6573 - val_accuracy: 0.3135\n",
            "Epoch 43/50\n",
            "234/234 [==============================] - 5s 22ms/step - loss: 1.3732 - accuracy: 0.5333 - val_loss: 1.7413 - val_accuracy: 0.3962\n",
            "Epoch 44/50\n",
            "234/234 [==============================] - 4s 18ms/step - loss: 1.3488 - accuracy: 0.5403 - val_loss: 2.0854 - val_accuracy: 0.2900\n"
          ]
        }
      ]
    },
    {
      "cell_type": "code",
      "source": [
        "X_test_time,Y_test_time = loadAudioTimeA(D_test)\n",
        "D_test_pca = pca.transform(X_test_time)"
      ],
      "metadata": {
        "id": "jRz9xtsiMlFX"
      },
      "execution_count": null,
      "outputs": []
    },
    {
      "cell_type": "code",
      "source": [
        "unicheck = np.unique(Y_test_time, axis=0)\n",
        "print(f\"Check on freq domain:\\n{unicheck}\")"
      ],
      "metadata": {
        "colab": {
          "base_uri": "https://localhost:8080/"
        },
        "outputId": "d4ccc1b6-66a6-4895-cac5-fc1eec379c69",
        "id": "4crle4mWMlFX"
      },
      "execution_count": null,
      "outputs": [
        {
          "output_type": "stream",
          "name": "stdout",
          "text": [
            "Check on freq domain:\n",
            "['ANG' 'DIS' 'FEA' 'HAP' 'NEU' 'SAD']\n"
          ]
        }
      ]
    },
    {
      "cell_type": "code",
      "execution_count": null,
      "metadata": {
        "colab": {
          "base_uri": "https://localhost:8080/",
          "height": 206
        },
        "outputId": "53461781-3502-43b6-eecd-fe8c49879e9c",
        "id": "DPuAashCMlFX"
      },
      "outputs": [
        {
          "output_type": "execute_result",
          "data": {
            "text/plain": [
              "     0\n",
              "0  FEA\n",
              "1  FEA\n",
              "2  SAD\n",
              "3  SAD\n",
              "4  HAP"
            ],
            "text/html": [
              "\n",
              "  <div id=\"df-913ba0a5-be9e-4d99-b59a-a768102d22e9\">\n",
              "    <div class=\"colab-df-container\">\n",
              "      <div>\n",
              "<style scoped>\n",
              "    .dataframe tbody tr th:only-of-type {\n",
              "        vertical-align: middle;\n",
              "    }\n",
              "\n",
              "    .dataframe tbody tr th {\n",
              "        vertical-align: top;\n",
              "    }\n",
              "\n",
              "    .dataframe thead th {\n",
              "        text-align: right;\n",
              "    }\n",
              "</style>\n",
              "<table border=\"1\" class=\"dataframe\">\n",
              "  <thead>\n",
              "    <tr style=\"text-align: right;\">\n",
              "      <th></th>\n",
              "      <th>0</th>\n",
              "    </tr>\n",
              "  </thead>\n",
              "  <tbody>\n",
              "    <tr>\n",
              "      <th>0</th>\n",
              "      <td>FEA</td>\n",
              "    </tr>\n",
              "    <tr>\n",
              "      <th>1</th>\n",
              "      <td>FEA</td>\n",
              "    </tr>\n",
              "    <tr>\n",
              "      <th>2</th>\n",
              "      <td>SAD</td>\n",
              "    </tr>\n",
              "    <tr>\n",
              "      <th>3</th>\n",
              "      <td>SAD</td>\n",
              "    </tr>\n",
              "    <tr>\n",
              "      <th>4</th>\n",
              "      <td>HAP</td>\n",
              "    </tr>\n",
              "  </tbody>\n",
              "</table>\n",
              "</div>\n",
              "      <button class=\"colab-df-convert\" onclick=\"convertToInteractive('df-913ba0a5-be9e-4d99-b59a-a768102d22e9')\"\n",
              "              title=\"Convert this dataframe to an interactive table.\"\n",
              "              style=\"display:none;\">\n",
              "        \n",
              "  <svg xmlns=\"http://www.w3.org/2000/svg\" height=\"24px\"viewBox=\"0 0 24 24\"\n",
              "       width=\"24px\">\n",
              "    <path d=\"M0 0h24v24H0V0z\" fill=\"none\"/>\n",
              "    <path d=\"M18.56 5.44l.94 2.06.94-2.06 2.06-.94-2.06-.94-.94-2.06-.94 2.06-2.06.94zm-11 1L8.5 8.5l.94-2.06 2.06-.94-2.06-.94L8.5 2.5l-.94 2.06-2.06.94zm10 10l.94 2.06.94-2.06 2.06-.94-2.06-.94-.94-2.06-.94 2.06-2.06.94z\"/><path d=\"M17.41 7.96l-1.37-1.37c-.4-.4-.92-.59-1.43-.59-.52 0-1.04.2-1.43.59L10.3 9.45l-7.72 7.72c-.78.78-.78 2.05 0 2.83L4 21.41c.39.39.9.59 1.41.59.51 0 1.02-.2 1.41-.59l7.78-7.78 2.81-2.81c.8-.78.8-2.07 0-2.86zM5.41 20L4 18.59l7.72-7.72 1.47 1.35L5.41 20z\"/>\n",
              "  </svg>\n",
              "      </button>\n",
              "      \n",
              "  <style>\n",
              "    .colab-df-container {\n",
              "      display:flex;\n",
              "      flex-wrap:wrap;\n",
              "      gap: 12px;\n",
              "    }\n",
              "\n",
              "    .colab-df-convert {\n",
              "      background-color: #E8F0FE;\n",
              "      border: none;\n",
              "      border-radius: 50%;\n",
              "      cursor: pointer;\n",
              "      display: none;\n",
              "      fill: #1967D2;\n",
              "      height: 32px;\n",
              "      padding: 0 0 0 0;\n",
              "      width: 32px;\n",
              "    }\n",
              "\n",
              "    .colab-df-convert:hover {\n",
              "      background-color: #E2EBFA;\n",
              "      box-shadow: 0px 1px 2px rgba(60, 64, 67, 0.3), 0px 1px 3px 1px rgba(60, 64, 67, 0.15);\n",
              "      fill: #174EA6;\n",
              "    }\n",
              "\n",
              "    [theme=dark] .colab-df-convert {\n",
              "      background-color: #3B4455;\n",
              "      fill: #D2E3FC;\n",
              "    }\n",
              "\n",
              "    [theme=dark] .colab-df-convert:hover {\n",
              "      background-color: #434B5C;\n",
              "      box-shadow: 0px 1px 3px 1px rgba(0, 0, 0, 0.15);\n",
              "      filter: drop-shadow(0px 1px 2px rgba(0, 0, 0, 0.3));\n",
              "      fill: #FFFFFF;\n",
              "    }\n",
              "  </style>\n",
              "\n",
              "      <script>\n",
              "        const buttonEl =\n",
              "          document.querySelector('#df-913ba0a5-be9e-4d99-b59a-a768102d22e9 button.colab-df-convert');\n",
              "        buttonEl.style.display =\n",
              "          google.colab.kernel.accessAllowed ? 'block' : 'none';\n",
              "\n",
              "        async function convertToInteractive(key) {\n",
              "          const element = document.querySelector('#df-913ba0a5-be9e-4d99-b59a-a768102d22e9');\n",
              "          const dataTable =\n",
              "            await google.colab.kernel.invokeFunction('convertToInteractive',\n",
              "                                                     [key], {});\n",
              "          if (!dataTable) return;\n",
              "\n",
              "          const docLinkHtml = 'Like what you see? Visit the ' +\n",
              "            '<a target=\"_blank\" href=https://colab.research.google.com/notebooks/data_table.ipynb>data table notebook</a>'\n",
              "            + ' to learn more about interactive tables.';\n",
              "          element.innerHTML = '';\n",
              "          dataTable['output_type'] = 'display_data';\n",
              "          await google.colab.output.renderOutput(dataTable, element);\n",
              "          const docLink = document.createElement('div');\n",
              "          docLink.innerHTML = docLinkHtml;\n",
              "          element.appendChild(docLink);\n",
              "        }\n",
              "      </script>\n",
              "    </div>\n",
              "  </div>\n",
              "  "
            ]
          },
          "metadata": {},
          "execution_count": 67
        }
      ],
      "source": [
        "df_freq = pd.DataFrame(Y_test_time)\n",
        "df_freq.head()"
      ]
    },
    {
      "cell_type": "code",
      "execution_count": null,
      "metadata": {
        "colab": {
          "base_uri": "https://localhost:8080/"
        },
        "outputId": "0c74bd60-3e51-4a6e-a7b5-c4b948bd6905",
        "id": "9c-0idyyMlFY"
      },
      "outputs": [
        {
          "output_type": "stream",
          "name": "stdout",
          "text": [
            "(3333, 6)\n"
          ]
        }
      ],
      "source": [
        "# Use the get_dummies() method to one-hot encode the labels\n",
        "one_hot_labels = pd.get_dummies(df_freq)\n",
        "\n",
        "# Convert the DataFrame to a NumPy array\n",
        "one_hot_labels = one_hot_labels.to_numpy()\n",
        "\n",
        "print(one_hot_labels.shape)"
      ]
    },
    {
      "cell_type": "code",
      "execution_count": null,
      "metadata": {
        "colab": {
          "base_uri": "https://localhost:8080/"
        },
        "outputId": "f384c9f9-97c0-4412-c0d5-63ffd55059e7",
        "id": "0BJRJqJlMlFY"
      },
      "outputs": [
        {
          "output_type": "execute_result",
          "data": {
            "text/plain": [
              "(3333, 6)"
            ]
          },
          "metadata": {},
          "execution_count": 69
        }
      ],
      "source": [
        "Y_time = one_hot_labels\n",
        "Y_time.shape"
      ]
    },
    {
      "cell_type": "code",
      "source": [
        "from sklearn.metrics import accuracy_score, f1_score, confusion_matrix\n",
        "# Evaluate the model on the test set\n",
        "y_pred = model.predict(D_test_pca)\n",
        "y_pred_classes = np.argmax(y_pred, axis=1)\n",
        "y_test_classes = np.argmax(Y_time, axis=1)\n",
        "accuracy = accuracy_score(y_test_classes, y_pred_classes)\n",
        "f_score = f1_score(y_test_classes, y_pred_classes, average='weighted')\n",
        "print('Accuracy:', accuracy)\n",
        "print('F-score:', f_score)\n",
        "\n",
        "# Plot the confusion matrix\n",
        "cm = confusion_matrix(y_test_classes, y_pred_classes)\n",
        "plt.imshow(cm, cmap=plt.cm.Blues)\n",
        "plt.title('Confusion matrix')\n",
        "plt.colorbar()\n",
        "tick_marks = np.arange(6)\n",
        "plt.xticks(tick_marks, range(6))\n",
        "plt.yticks(tick_marks, range(6))\n",
        "plt.xlabel('Predicted label')\n",
        "plt.ylabel('True label')\n",
        "plt.show()\n",
        "\n",
        "# Find the most confusinglabels\n",
        "np.fill_diagonal(cm, 0)\n",
        "most_confused_classes = np.unravel_index(np.argmax(cm), cm.shape)\n",
        "print('Most confusing classes:', most_confused_classes)"
      ],
      "metadata": {
        "colab": {
          "base_uri": "https://localhost:8080/",
          "height": 541
        },
        "outputId": "c695b836-4a80-4f1f-fd1f-31687a133970",
        "id": "TC6hayOEMlFY"
      },
      "execution_count": null,
      "outputs": [
        {
          "output_type": "stream",
          "name": "stdout",
          "text": [
            "105/105 [==============================] - 1s 5ms/step\n",
            "Accuracy: 0.24332433243324333\n",
            "F-score: 0.19634165130098163\n"
          ]
        },
        {
          "output_type": "display_data",
          "data": {
            "text/plain": [
              "<Figure size 640x480 with 2 Axes>"
            ],
            "image/png": "[encoded data removed]"
          },
          "metadata": {}
        },
        {
          "output_type": "stream",
          "name": "stdout",
          "text": [
            "Most confusing classes: (3, 2)\n"
          ]
        }
      ]
    },
    {
      "cell_type": "code",
      "source": [],
      "metadata": {
        "id": "Zct2TdXQNpR9"
      },
      "execution_count": null,
      "outputs": []
    },
    {
      "cell_type": "markdown",
      "source": [
        "## Frequency Domain Model With Augmentation"
      ],
      "metadata": {
        "id": "1P1mYVDSNpj2"
      }
    },
    {
      "cell_type": "code",
      "source": [
        "def loadAudioFreqA(audio_files):\n",
        "  classes = [\"SAD\", \"ANG\", \"DIS\", \"FEA\", \"HAP\", \"NEU\"]\n",
        "  # for data augmentation\n",
        "  augmentations = Compose([\n",
        "    AddGaussianNoise(min_amplitude=0.001, max_amplitude=0.01, p=0.5),\n",
        "    TimeStretch(min_rate=0.8, max_rate=1.2, p=0.5),\n",
        "    PitchShift(min_semitones=-4, max_semitones=4, p=0.5)\n",
        "])\n",
        "  # max_length = getMaxLen(audio_files)\n",
        "  max_length = 200\n",
        "  D, Y = [], []\n",
        "  for audio_file in audio_files: \n",
        "    # load the audio file\n",
        "    audio, sr = lib.load(audio_file, sr=4444)\n",
        "    # extract mel spectrogram\n",
        "    mel_spec = melSpectrogram(audio, sr)\n",
        "    D.append(mel_spec)\n",
        "    for cls in classes:\n",
        "      if re.search(cls, audio_file): Y.append(cls)\n",
        "    # don't augment every example\n",
        "    if np.random.rand() >= 0.5:\n",
        "      augmented_audio = augmentations(samples=audio, sample_rate=sr)\n",
        "      mel_spec_aug = melSpectrogram(augmented_audio, sr)\n",
        "      D.append(mel_spec_aug)\n",
        "      for cls in classes:\n",
        "        if re.search(cls, audio_file): Y.append(cls)\n",
        "  return D, Y"
      ],
      "metadata": {
        "id": "jZPerHgCN6o6"
      },
      "execution_count": null,
      "outputs": []
    },
    {
      "cell_type": "code",
      "execution_count": null,
      "metadata": {
        "id": "X2fYgkP7MlFY"
      },
      "outputs": [],
      "source": [
        "D_freq, Y_freq = loadAudioFreqA(D_train)"
      ]
    },
    {
      "cell_type": "code",
      "source": [
        "unicheck = np.unique(Y_freq, axis=0)\n",
        "print(f\"Check on freq domain:\\n{unicheck}\")"
      ],
      "metadata": {
        "colab": {
          "base_uri": "https://localhost:8080/"
        },
        "outputId": "dd8ba784-e4cb-42c7-97c0-e28f0183a36b",
        "id": "4PRFvwKrMlFY"
      },
      "execution_count": null,
      "outputs": [
        {
          "output_type": "stream",
          "name": "stdout",
          "text": [
            "Check on freq domain:\n",
            "['ANG' 'DIS' 'FEA' 'HAP' 'NEU' 'SAD']\n"
          ]
        }
      ]
    },
    {
      "cell_type": "code",
      "execution_count": null,
      "metadata": {
        "colab": {
          "base_uri": "https://localhost:8080/",
          "height": 206
        },
        "outputId": "d6a73a50-aaea-45ad-8410-d224f6a528b4",
        "id": "yarx1QNfMlFZ"
      },
      "outputs": [
        {
          "output_type": "execute_result",
          "data": {
            "text/plain": [
              "     0\n",
              "0  FEA\n",
              "1  FEA\n",
              "2  HAP\n",
              "3  HAP\n",
              "4  HAP"
            ],
            "text/html": [
              "\n",
              "  <div id=\"df-57b0069c-8637-4b09-8ec7-98d1e2165033\">\n",
              "    <div class=\"colab-df-container\">\n",
              "      <div>\n",
              "<style scoped>\n",
              "    .dataframe tbody tr th:only-of-type {\n",
              "        vertical-align: middle;\n",
              "    }\n",
              "\n",
              "    .dataframe tbody tr th {\n",
              "        vertical-align: top;\n",
              "    }\n",
              "\n",
              "    .dataframe thead th {\n",
              "        text-align: right;\n",
              "    }\n",
              "</style>\n",
              "<table border=\"1\" class=\"dataframe\">\n",
              "  <thead>\n",
              "    <tr style=\"text-align: right;\">\n",
              "      <th></th>\n",
              "      <th>0</th>\n",
              "    </tr>\n",
              "  </thead>\n",
              "  <tbody>\n",
              "    <tr>\n",
              "      <th>0</th>\n",
              "      <td>FEA</td>\n",
              "    </tr>\n",
              "    <tr>\n",
              "      <th>1</th>\n",
              "      <td>FEA</td>\n",
              "    </tr>\n",
              "    <tr>\n",
              "      <th>2</th>\n",
              "      <td>HAP</td>\n",
              "    </tr>\n",
              "    <tr>\n",
              "      <th>3</th>\n",
              "      <td>HAP</td>\n",
              "    </tr>\n",
              "    <tr>\n",
              "      <th>4</th>\n",
              "      <td>HAP</td>\n",
              "    </tr>\n",
              "  </tbody>\n",
              "</table>\n",
              "</div>\n",
              "      <button class=\"colab-df-convert\" onclick=\"convertToInteractive('df-57b0069c-8637-4b09-8ec7-98d1e2165033')\"\n",
              "              title=\"Convert this dataframe to an interactive table.\"\n",
              "              style=\"display:none;\">\n",
              "        \n",
              "  <svg xmlns=\"http://www.w3.org/2000/svg\" height=\"24px\"viewBox=\"0 0 24 24\"\n",
              "       width=\"24px\">\n",
              "    <path d=\"M0 0h24v24H0V0z\" fill=\"none\"/>\n",
              "    <path d=\"M18.56 5.44l.94 2.06.94-2.06 2.06-.94-2.06-.94-.94-2.06-.94 2.06-2.06.94zm-11 1L8.5 8.5l.94-2.06 2.06-.94-2.06-.94L8.5 2.5l-.94 2.06-2.06.94zm10 10l.94 2.06.94-2.06 2.06-.94-2.06-.94-.94-2.06-.94 2.06-2.06.94z\"/><path d=\"M17.41 7.96l-1.37-1.37c-.4-.4-.92-.59-1.43-.59-.52 0-1.04.2-1.43.59L10.3 9.45l-7.72 7.72c-.78.78-.78 2.05 0 2.83L4 21.41c.39.39.9.59 1.41.59.51 0 1.02-.2 1.41-.59l7.78-7.78 2.81-2.81c.8-.78.8-2.07 0-2.86zM5.41 20L4 18.59l7.72-7.72 1.47 1.35L5.41 20z\"/>\n",
              "  </svg>\n",
              "      </button>\n",
              "      \n",
              "  <style>\n",
              "    .colab-df-container {\n",
              "      display:flex;\n",
              "      flex-wrap:wrap;\n",
              "      gap: 12px;\n",
              "    }\n",
              "\n",
              "    .colab-df-convert {\n",
              "      background-color: #E8F0FE;\n",
              "      border: none;\n",
              "      border-radius: 50%;\n",
              "      cursor: pointer;\n",
              "      display: none;\n",
              "      fill: #1967D2;\n",
              "      height: 32px;\n",
              "      padding: 0 0 0 0;\n",
              "      width: 32px;\n",
              "    }\n",
              "\n",
              "    .colab-df-convert:hover {\n",
              "      background-color: #E2EBFA;\n",
              "      box-shadow: 0px 1px 2px rgba(60, 64, 67, 0.3), 0px 1px 3px 1px rgba(60, 64, 67, 0.15);\n",
              "      fill: #174EA6;\n",
              "    }\n",
              "\n",
              "    [theme=dark] .colab-df-convert {\n",
              "      background-color: #3B4455;\n",
              "      fill: #D2E3FC;\n",
              "    }\n",
              "\n",
              "    [theme=dark] .colab-df-convert:hover {\n",
              "      background-color: #434B5C;\n",
              "      box-shadow: 0px 1px 3px 1px rgba(0, 0, 0, 0.15);\n",
              "      filter: drop-shadow(0px 1px 2px rgba(0, 0, 0, 0.3));\n",
              "      fill: #FFFFFF;\n",
              "    }\n",
              "  </style>\n",
              "\n",
              "      <script>\n",
              "        const buttonEl =\n",
              "          document.querySelector('#df-57b0069c-8637-4b09-8ec7-98d1e2165033 button.colab-df-convert');\n",
              "        buttonEl.style.display =\n",
              "          google.colab.kernel.accessAllowed ? 'block' : 'none';\n",
              "\n",
              "        async function convertToInteractive(key) {\n",
              "          const element = document.querySelector('#df-57b0069c-8637-4b09-8ec7-98d1e2165033');\n",
              "          const dataTable =\n",
              "            await google.colab.kernel.invokeFunction('convertToInteractive',\n",
              "                                                     [key], {});\n",
              "          if (!dataTable) return;\n",
              "\n",
              "          const docLinkHtml = 'Like what you see? Visit the ' +\n",
              "            '<a target=\"_blank\" href=https://colab.research.google.com/notebooks/data_table.ipynb>data table notebook</a>'\n",
              "            + ' to learn more about interactive tables.';\n",
              "          element.innerHTML = '';\n",
              "          dataTable['output_type'] = 'display_data';\n",
              "          await google.colab.output.renderOutput(dataTable, element);\n",
              "          const docLink = document.createElement('div');\n",
              "          docLink.innerHTML = docLinkHtml;\n",
              "          element.appendChild(docLink);\n",
              "        }\n",
              "      </script>\n",
              "    </div>\n",
              "  </div>\n",
              "  "
            ]
          },
          "metadata": {},
          "execution_count": 74
        }
      ],
      "source": [
        "df_freq = pd.DataFrame(Y_freq)\n",
        "df_freq.head()"
      ]
    },
    {
      "cell_type": "code",
      "execution_count": null,
      "metadata": {
        "colab": {
          "base_uri": "https://localhost:8080/"
        },
        "outputId": "ec7ed740-84c5-4914-9764-733ce63d870e",
        "id": "MPqOapZlMlFZ"
      },
      "outputs": [
        {
          "output_type": "stream",
          "name": "stdout",
          "text": [
            "(7865, 6)\n"
          ]
        }
      ],
      "source": [
        "# Use the get_dummies() method to one-hot encode the labels\n",
        "one_hot_labels = pd.get_dummies(df_freq)\n",
        "\n",
        "# Convert the DataFrame to a NumPy array\n",
        "one_hot_labels = one_hot_labels.to_numpy()\n",
        "\n",
        "print(one_hot_labels.shape)"
      ]
    },
    {
      "cell_type": "code",
      "execution_count": null,
      "metadata": {
        "colab": {
          "base_uri": "https://localhost:8080/"
        },
        "outputId": "8a76eaed-0a42-4b61-a9c5-a27363631beb",
        "id": "0UGKc4-fMlFZ"
      },
      "outputs": [
        {
          "output_type": "execute_result",
          "data": {
            "text/plain": [
              "(7865, 6)"
            ]
          },
          "metadata": {},
          "execution_count": 76
        }
      ],
      "source": [
        "Y_freq = one_hot_labels\n",
        "Y_freq.shape"
      ]
    },
    {
      "cell_type": "code",
      "source": [
        "for i, array in enumerate(D_freq):\n",
        "    D_freq[i] = np.pad(array, ((0, 0), (0, 256 - array.shape[1])))\n",
        "D_freq = np.array(D_freq)"
      ],
      "metadata": {
        "id": "5Yx-bTKaMlFZ"
      },
      "execution_count": null,
      "outputs": []
    },
    {
      "cell_type": "code",
      "source": [
        "D_freq.shape"
      ],
      "metadata": {
        "colab": {
          "base_uri": "https://localhost:8080/"
        },
        "outputId": "36503261-f002-486e-ad47-99034c31406f",
        "id": "k-NzLzHKMlFZ"
      },
      "execution_count": null,
      "outputs": [
        {
          "output_type": "execute_result",
          "data": {
            "text/plain": [
              "(7865, 64, 256)"
            ]
          },
          "metadata": {},
          "execution_count": 78
        }
      ]
    },
    {
      "cell_type": "code",
      "execution_count": null,
      "metadata": {
        "colab": {
          "base_uri": "https://localhost:8080/"
        },
        "outputId": "637536e7-1c58-41f8-efe9-3a65b9d8024f",
        "id": "lN4AshckMlFa"
      },
      "outputs": [
        {
          "output_type": "stream",
          "name": "stdout",
          "text": [
            "((7471, 64, 256), (7471, 6), (394, 64, 256), (394, 6))\n"
          ]
        }
      ],
      "source": [
        "x_train, x_test, y_train, y_test = train_test_split(np.array(D_freq), np.array(Y_freq), test_size=0.05)\n",
        "print((x_train.shape, y_train.shape, x_test.shape, y_test.shape))"
      ]
    },
    {
      "cell_type": "code",
      "execution_count": null,
      "metadata": {
        "colab": {
          "base_uri": "https://localhost:8080/"
        },
        "outputId": "5b712432-0b78-402b-9f42-a1071d02bcb0",
        "id": "bi64cRXgMlFa"
      },
      "outputs": [
        {
          "output_type": "stream",
          "name": "stdout",
          "text": [
            "(7471, 64, 256, 1) (394, 64, 256, 1)\n"
          ]
        }
      ],
      "source": [
        "x_train = x_train.reshape((x_train.shape[0], x_train.shape[1], x_train.shape[2], 1))\n",
        "x_test = x_test.reshape((x_test.shape[0], x_test.shape[1], x_test.shape[2], 1))\n",
        "print(x_train.shape, x_test.shape)"
      ]
    },
    {
      "cell_type": "code",
      "source": [
        "model = Sequential()\n",
        "\n",
        "# Layer 1: Convolutional Layer\n",
        "model.add(Conv2D(32, (3, 3), activation='relu', input_shape=(x_train.shape[1], x_train.shape[2], 1)))\n",
        "model.add(MaxPooling2D(pool_size=(2, 2)))\n",
        "\n",
        "# Layer 2: Convolutional Layer\n",
        "model.add(Conv2D(64, (3, 3), activation='relu'))\n",
        "model.add(MaxPooling2D(pool_size=(2, 2)))\n",
        "\n",
        "# Layer 3: Convolutional Layer\n",
        "model.add(Conv2D(128, (3, 3), activation='relu'))\n",
        "model.add(MaxPooling2D(pool_size=(2, 2)))\n",
        "\n",
        "# Layer 4: Flatten Layer\n",
        "model.add(Flatten())\n",
        "\n",
        "# Layer 5: Fully Connected Layer\n",
        "model.add(Dense(256, activation='relu'))\n",
        "model.add(Dropout(0.5))\n",
        "\n",
        "# Layer 6: Fully Connected Layer\n",
        "model.add(Dense(128, activation='relu'))\n",
        "model.add(Dropout(0.5))\n",
        "\n",
        "# Layer 7: Output Layer\n",
        "model.add(Dense(6, activation='sigmoid'))\n",
        "\n",
        "model.compile(loss='categorical_crossentropy',\n",
        "             optimizer=optimizers.Adam(lr=0.0005),\n",
        "             metrics=['accuracy'])\n",
        "\n",
        "model.summary()"
      ],
      "metadata": {
        "colab": {
          "base_uri": "https://localhost:8080/"
        },
        "outputId": "ebfd2aaf-594b-4e7c-ba58-7750f0396a9d",
        "id": "5KThasm-MlFa"
      },
      "execution_count": null,
      "outputs": [
        {
          "output_type": "stream",
          "name": "stdout",
          "text": [
            "Model: \"sequential_3\"\n",
            "_________________________________________________________________\n",
            " Layer (type)                Output Shape              Param #   \n",
            "=================================================================\n",
            " conv2d_3 (Conv2D)           (None, 62, 254, 32)       320       \n",
            "                                                                 \n",
            " max_pooling2d_3 (MaxPooling  (None, 31, 127, 32)      0         \n",
            " 2D)                                                             \n",
            "                                                                 \n",
            " conv2d_4 (Conv2D)           (None, 29, 125, 64)       18496     \n",
            "                                                                 \n",
            " max_pooling2d_4 (MaxPooling  (None, 14, 62, 64)       0         \n",
            " 2D)                                                             \n",
            "                                                                 \n",
            " conv2d_5 (Conv2D)           (None, 12, 60, 128)       73856     \n",
            "                                                                 \n",
            " max_pooling2d_5 (MaxPooling  (None, 6, 30, 128)       0         \n",
            " 2D)                                                             \n",
            "                                                                 \n",
            " flatten_3 (Flatten)         (None, 23040)             0         \n",
            "                                                                 \n",
            " dense_11 (Dense)            (None, 256)               5898496   \n",
            "                                                                 \n",
            " dropout_8 (Dropout)         (None, 256)               0         \n",
            "                                                                 \n",
            " dense_12 (Dense)            (None, 128)               32896     \n",
            "                                                                 \n",
            " dropout_9 (Dropout)         (None, 128)               0         \n",
            "                                                                 \n",
            " dense_13 (Dense)            (None, 6)                 774       \n",
            "                                                                 \n",
            "=================================================================\n",
            "Total params: 6,024,838\n",
            "Trainable params: 6,024,838\n",
            "Non-trainable params: 0\n",
            "_________________________________________________________________\n"
          ]
        },
        {
          "output_type": "stream",
          "name": "stderr",
          "text": [
            "/usr/local/lib/python3.10/dist-packages/keras/optimizers/legacy/adam.py:117: UserWarning: The `lr` argument is deprecated, use `learning_rate` instead.\n",
            "  super().__init__(name, **kwargs)\n"
          ]
        }
      ]
    },
    {
      "cell_type": "code",
      "execution_count": null,
      "metadata": {
        "colab": {
          "base_uri": "https://localhost:8080/"
        },
        "outputId": "7e615aaf-12b7-44cc-b237-55832c40bbde",
        "id": "HgjKHc0TMlFa"
      },
      "outputs": [
        {
          "output_type": "stream",
          "name": "stdout",
          "text": [
            "Epoch 1/50\n",
            "59/59 [==============================] - 5s 77ms/step - loss: 1.8375 - accuracy: 0.2198 - val_loss: 1.6859 - val_accuracy: 0.3173\n",
            "Epoch 2/50\n",
            "59/59 [==============================] - 3s 55ms/step - loss: 1.6414 - accuracy: 0.3077 - val_loss: 1.5879 - val_accuracy: 0.3426\n",
            "Epoch 3/50\n",
            "59/59 [==============================] - 3s 52ms/step - loss: 1.5776 - accuracy: 0.3436 - val_loss: 1.5598 - val_accuracy: 0.3426\n",
            "Epoch 4/50\n",
            "59/59 [==============================] - 3s 52ms/step - loss: 1.5448 - accuracy: 0.3578 - val_loss: 1.5260 - val_accuracy: 0.3477\n",
            "Epoch 5/50\n",
            "59/59 [==============================] - 3s 53ms/step - loss: 1.5123 - accuracy: 0.3744 - val_loss: 1.5302 - val_accuracy: 0.3706\n",
            "Epoch 6/50\n",
            "59/59 [==============================] - 3s 55ms/step - loss: 1.4854 - accuracy: 0.3950 - val_loss: 1.4899 - val_accuracy: 0.3807\n",
            "Epoch 7/50\n",
            "59/59 [==============================] - 3s 54ms/step - loss: 1.4730 - accuracy: 0.4009 - val_loss: 1.4944 - val_accuracy: 0.3883\n",
            "Epoch 8/50\n",
            "59/59 [==============================] - 3s 53ms/step - loss: 1.4286 - accuracy: 0.4204 - val_loss: 1.4541 - val_accuracy: 0.3883\n",
            "Epoch 9/50\n",
            "59/59 [==============================] - 3s 53ms/step - loss: 1.4098 - accuracy: 0.4251 - val_loss: 1.4366 - val_accuracy: 0.4010\n",
            "Epoch 10/50\n",
            "59/59 [==============================] - 3s 53ms/step - loss: 1.3858 - accuracy: 0.4418 - val_loss: 1.4276 - val_accuracy: 0.4112\n",
            "Epoch 11/50\n",
            "59/59 [==============================] - 3s 56ms/step - loss: 1.3562 - accuracy: 0.4608 - val_loss: 1.3987 - val_accuracy: 0.4239\n",
            "Epoch 12/50\n",
            "59/59 [==============================] - 3s 52ms/step - loss: 1.3155 - accuracy: 0.4765 - val_loss: 1.4191 - val_accuracy: 0.4340\n",
            "Epoch 13/50\n",
            "59/59 [==============================] - 3s 51ms/step - loss: 1.2941 - accuracy: 0.4833 - val_loss: 1.3671 - val_accuracy: 0.4695\n",
            "Epoch 14/50\n",
            "59/59 [==============================] - 3s 51ms/step - loss: 1.2542 - accuracy: 0.5062 - val_loss: 1.3592 - val_accuracy: 0.4695\n",
            "Epoch 15/50\n",
            "59/59 [==============================] - 3s 53ms/step - loss: 1.2344 - accuracy: 0.5037 - val_loss: 1.3938 - val_accuracy: 0.4518\n",
            "Epoch 16/50\n",
            "59/59 [==============================] - 3s 53ms/step - loss: 1.1709 - accuracy: 0.5432 - val_loss: 1.3947 - val_accuracy: 0.4746\n",
            "Epoch 17/50\n",
            "59/59 [==============================] - 3s 51ms/step - loss: 1.1441 - accuracy: 0.5548 - val_loss: 1.3817 - val_accuracy: 0.4721\n",
            "Epoch 18/50\n",
            "59/59 [==============================] - 3s 51ms/step - loss: 1.0943 - accuracy: 0.5772 - val_loss: 1.4003 - val_accuracy: 0.4873\n",
            "Epoch 19/50\n",
            "59/59 [==============================] - 3s 52ms/step - loss: 1.0562 - accuracy: 0.5998 - val_loss: 1.3930 - val_accuracy: 0.4822\n",
            "Epoch 20/50\n",
            "59/59 [==============================] - 3s 54ms/step - loss: 0.9907 - accuracy: 0.6165 - val_loss: 1.3902 - val_accuracy: 0.5000\n",
            "Epoch 21/50\n",
            "59/59 [==============================] - 3s 53ms/step - loss: 0.9683 - accuracy: 0.6241 - val_loss: 1.4995 - val_accuracy: 0.4721\n",
            "Epoch 22/50\n",
            "59/59 [==============================] - 3s 52ms/step - loss: 0.9228 - accuracy: 0.6452 - val_loss: 1.5136 - val_accuracy: 0.4721\n",
            "Epoch 23/50\n",
            "59/59 [==============================] - 3s 52ms/step - loss: 0.8855 - accuracy: 0.6652 - val_loss: 1.4694 - val_accuracy: 0.4492\n",
            "Epoch 24/50\n",
            "59/59 [==============================] - 3s 52ms/step - loss: 0.8347 - accuracy: 0.6818 - val_loss: 1.5433 - val_accuracy: 0.4797\n"
          ]
        }
      ],
      "source": [
        "# Specify thecallbacks for the model\n",
        "callbacks = [EarlyStopping(monitor='val_loss', patience=10)]\n",
        "\n",
        "history = model.fit(x_train, y_train,\n",
        "                    epochs=50,\n",
        "                    batch_size=128,\n",
        "                    validation_data=(x_test, y_test),\n",
        "                    callbacks=callbacks)"
      ]
    },
    {
      "cell_type": "code",
      "source": [
        "X_test_freq,Y_test_freq = loadAudioFreqA(D_test)\n"
      ],
      "metadata": {
        "id": "S51-ByqFMlFa"
      },
      "execution_count": null,
      "outputs": []
    },
    {
      "cell_type": "code",
      "source": [
        "unicheck = np.unique(Y_test_freq, axis=0)\n",
        "print(f\"Check on freq domain:\\n{unicheck}\")"
      ],
      "metadata": {
        "colab": {
          "base_uri": "https://localhost:8080/"
        },
        "outputId": "cc82aa3f-7aa9-49af-ddbb-cb75bc5055c9",
        "id": "AInR9J14MlFb"
      },
      "execution_count": null,
      "outputs": [
        {
          "output_type": "stream",
          "name": "stdout",
          "text": [
            "Check on freq domain:\n",
            "['ANG' 'DIS' 'FEA' 'HAP' 'NEU' 'SAD']\n"
          ]
        }
      ]
    },
    {
      "cell_type": "code",
      "execution_count": null,
      "metadata": {
        "colab": {
          "base_uri": "https://localhost:8080/",
          "height": 206
        },
        "outputId": "3b921b8f-85dc-4f1d-fe93-3b5d2a36f23f",
        "id": "XWv2PiJLMlFb"
      },
      "outputs": [
        {
          "output_type": "execute_result",
          "data": {
            "text/plain": [
              "     0\n",
              "0  FEA\n",
              "1  FEA\n",
              "2  SAD\n",
              "3  SAD\n",
              "4  HAP"
            ],
            "text/html": [
              "\n",
              "  <div id=\"df-a74234e1-d334-46a0-a246-3a8657224fa6\">\n",
              "    <div class=\"colab-df-container\">\n",
              "      <div>\n",
              "<style scoped>\n",
              "    .dataframe tbody tr th:only-of-type {\n",
              "        vertical-align: middle;\n",
              "    }\n",
              "\n",
              "    .dataframe tbody tr th {\n",
              "        vertical-align: top;\n",
              "    }\n",
              "\n",
              "    .dataframe thead th {\n",
              "        text-align: right;\n",
              "    }\n",
              "</style>\n",
              "<table border=\"1\" class=\"dataframe\">\n",
              "  <thead>\n",
              "    <tr style=\"text-align: right;\">\n",
              "      <th></th>\n",
              "      <th>0</th>\n",
              "    </tr>\n",
              "  </thead>\n",
              "  <tbody>\n",
              "    <tr>\n",
              "      <th>0</th>\n",
              "      <td>FEA</td>\n",
              "    </tr>\n",
              "    <tr>\n",
              "      <th>1</th>\n",
              "      <td>FEA</td>\n",
              "    </tr>\n",
              "    <tr>\n",
              "      <th>2</th>\n",
              "      <td>SAD</td>\n",
              "    </tr>\n",
              "    <tr>\n",
              "      <th>3</th>\n",
              "      <td>SAD</td>\n",
              "    </tr>\n",
              "    <tr>\n",
              "      <th>4</th>\n",
              "      <td>HAP</td>\n",
              "    </tr>\n",
              "  </tbody>\n",
              "</table>\n",
              "</div>\n",
              "      <button class=\"colab-df-convert\" onclick=\"convertToInteractive('df-a74234e1-d334-46a0-a246-3a8657224fa6')\"\n",
              "              title=\"Convert this dataframe to an interactive table.\"\n",
              "              style=\"display:none;\">\n",
              "        \n",
              "  <svg xmlns=\"http://www.w3.org/2000/svg\" height=\"24px\"viewBox=\"0 0 24 24\"\n",
              "       width=\"24px\">\n",
              "    <path d=\"M0 0h24v24H0V0z\" fill=\"none\"/>\n",
              "    <path d=\"M18.56 5.44l.94 2.06.94-2.06 2.06-.94-2.06-.94-.94-2.06-.94 2.06-2.06.94zm-11 1L8.5 8.5l.94-2.06 2.06-.94-2.06-.94L8.5 2.5l-.94 2.06-2.06.94zm10 10l.94 2.06.94-2.06 2.06-.94-2.06-.94-.94-2.06-.94 2.06-2.06.94z\"/><path d=\"M17.41 7.96l-1.37-1.37c-.4-.4-.92-.59-1.43-.59-.52 0-1.04.2-1.43.59L10.3 9.45l-7.72 7.72c-.78.78-.78 2.05 0 2.83L4 21.41c.39.39.9.59 1.41.59.51 0 1.02-.2 1.41-.59l7.78-7.78 2.81-2.81c.8-.78.8-2.07 0-2.86zM5.41 20L4 18.59l7.72-7.72 1.47 1.35L5.41 20z\"/>\n",
              "  </svg>\n",
              "      </button>\n",
              "      \n",
              "  <style>\n",
              "    .colab-df-container {\n",
              "      display:flex;\n",
              "      flex-wrap:wrap;\n",
              "      gap: 12px;\n",
              "    }\n",
              "\n",
              "    .colab-df-convert {\n",
              "      background-color: #E8F0FE;\n",
              "      border: none;\n",
              "      border-radius: 50%;\n",
              "      cursor: pointer;\n",
              "      display: none;\n",
              "      fill: #1967D2;\n",
              "      height: 32px;\n",
              "      padding: 0 0 0 0;\n",
              "      width: 32px;\n",
              "    }\n",
              "\n",
              "    .colab-df-convert:hover {\n",
              "      background-color: #E2EBFA;\n",
              "      box-shadow: 0px 1px 2px rgba(60, 64, 67, 0.3), 0px 1px 3px 1px rgba(60, 64, 67, 0.15);\n",
              "      fill: #174EA6;\n",
              "    }\n",
              "\n",
              "    [theme=dark] .colab-df-convert {\n",
              "      background-color: #3B4455;\n",
              "      fill: #D2E3FC;\n",
              "    }\n",
              "\n",
              "    [theme=dark] .colab-df-convert:hover {\n",
              "      background-color: #434B5C;\n",
              "      box-shadow: 0px 1px 3px 1px rgba(0, 0, 0, 0.15);\n",
              "      filter: drop-shadow(0px 1px 2px rgba(0, 0, 0, 0.3));\n",
              "      fill: #FFFFFF;\n",
              "    }\n",
              "  </style>\n",
              "\n",
              "      <script>\n",
              "        const buttonEl =\n",
              "          document.querySelector('#df-a74234e1-d334-46a0-a246-3a8657224fa6 button.colab-df-convert');\n",
              "        buttonEl.style.display =\n",
              "          google.colab.kernel.accessAllowed ? 'block' : 'none';\n",
              "\n",
              "        async function convertToInteractive(key) {\n",
              "          const element = document.querySelector('#df-a74234e1-d334-46a0-a246-3a8657224fa6');\n",
              "          const dataTable =\n",
              "            await google.colab.kernel.invokeFunction('convertToInteractive',\n",
              "                                                     [key], {});\n",
              "          if (!dataTable) return;\n",
              "\n",
              "          const docLinkHtml = 'Like what you see? Visit the ' +\n",
              "            '<a target=\"_blank\" href=https://colab.research.google.com/notebooks/data_table.ipynb>data table notebook</a>'\n",
              "            + ' to learn more about interactive tables.';\n",
              "          element.innerHTML = '';\n",
              "          dataTable['output_type'] = 'display_data';\n",
              "          await google.colab.output.renderOutput(dataTable, element);\n",
              "          const docLink = document.createElement('div');\n",
              "          docLink.innerHTML = docLinkHtml;\n",
              "          element.appendChild(docLink);\n",
              "        }\n",
              "      </script>\n",
              "    </div>\n",
              "  </div>\n",
              "  "
            ]
          },
          "metadata": {},
          "execution_count": 85
        }
      ],
      "source": [
        "df_freq = pd.DataFrame(Y_test_freq)\n",
        "df_freq.head()"
      ]
    },
    {
      "cell_type": "code",
      "execution_count": null,
      "metadata": {
        "colab": {
          "base_uri": "https://localhost:8080/"
        },
        "outputId": "5388dd35-53dc-43da-bc54-b6a99017718f",
        "id": "ks6tQy3UMlFb"
      },
      "outputs": [
        {
          "output_type": "stream",
          "name": "stdout",
          "text": [
            "(3351, 6)\n"
          ]
        }
      ],
      "source": [
        "# Use the get_dummies() method to one-hot encode the labels\n",
        "one_hot_labels = pd.get_dummies(df_freq)\n",
        "\n",
        "# Convert the DataFrame to a NumPy array\n",
        "one_hot_labels = one_hot_labels.to_numpy()\n",
        "\n",
        "print(one_hot_labels.shape)"
      ]
    },
    {
      "cell_type": "code",
      "execution_count": null,
      "metadata": {
        "colab": {
          "base_uri": "https://localhost:8080/"
        },
        "outputId": "55f0c1dd-ab28-4720-f602-a5538544e68a",
        "id": "JsZRJErpMlFb"
      },
      "outputs": [
        {
          "output_type": "execute_result",
          "data": {
            "text/plain": [
              "(3351, 6)"
            ]
          },
          "metadata": {},
          "execution_count": 87
        }
      ],
      "source": [
        "Y_freq = one_hot_labels\n",
        "Y_freq.shape"
      ]
    },
    {
      "cell_type": "code",
      "source": [
        "for i, array in enumerate(X_test_freq):\n",
        "    X_test_freq[i] = np.pad(array, ((0, 0), (0, 256 - array.shape[1])))\n",
        "X_test_freq = np.array(X_test_freq)\n",
        "print( X_test_freq.shape)\n",
        "#x_test = x_test.reshape((x_test.shape[0], x_test.shape[1], x_test.shape[2], 1))\n",
        "#X_test_freq = x_test.reshape(( X_test_freq.shape[0],  X_test_freq.shape[1], X_test_freq.shape[2], 1))\n",
        "print( X_test_freq.shape)"
      ],
      "metadata": {
        "colab": {
          "base_uri": "https://localhost:8080/"
        },
        "outputId": "a50b8bee-4370-4543-bb52-950bdb2419c4",
        "id": "9efHFwrCMlFb"
      },
      "execution_count": null,
      "outputs": [
        {
          "output_type": "stream",
          "name": "stdout",
          "text": [
            "(3351, 64, 256)\n",
            "(3351, 64, 256)\n"
          ]
        }
      ]
    },
    {
      "cell_type": "code",
      "source": [
        "from sklearn.metrics import accuracy_score, f1_score, confusion_matrix\n",
        "# Evaluate the model on the test set\n",
        "y_pred = model.predict(X_test_freq)\n",
        "y_pred_classes = np.argmax(y_pred, axis=1)\n",
        "y_test_classes = np.argmax(Y_freq, axis=1)\n",
        "accuracy = accuracy_score(y_test_classes, y_pred_classes)\n",
        "f_score = f1_score(y_test_classes, y_pred_classes, average='weighted')\n",
        "print('Accuracy:', accuracy)\n",
        "print('F-score:', f_score)\n",
        "\n",
        "# Plot the confusion matrix\n",
        "cm = confusion_matrix(y_test_classes, y_pred_classes)\n",
        "plt.imshow(cm, cmap=plt.cm.Blues)\n",
        "plt.title('Confusion matrix')\n",
        "plt.colorbar()\n",
        "tick_marks = np.arange(6)\n",
        "plt.xticks(tick_marks, range(6))\n",
        "plt.yticks(tick_marks, range(6))\n",
        "plt.xlabel('Predicted label')\n",
        "plt.ylabel('True label')\n",
        "plt.show()\n",
        "\n",
        "# Find the most confusinglabels\n",
        "np.fill_diagonal(cm, 0)\n",
        "most_confused_classes = np.unravel_index(np.argmax(cm), cm.shape)\n",
        "print('Most confusing classes:', most_confused_classes)"
      ],
      "metadata": {
        "outputId": "72949145-5ce1-428a-a25e-f0fc73eef774",
        "colab": {
          "base_uri": "https://localhost:8080/",
          "height": 541
        },
        "id": "hoq5R9I4MlFc"
      },
      "execution_count": null,
      "outputs": [
        {
          "output_type": "stream",
          "name": "stdout",
          "text": [
            "105/105 [==============================] - 1s 7ms/step\n",
            "Accuracy: 0.4923903312444047\n",
            "F-score: 0.4853821608203651\n"
          ]
        },
        {
          "output_type": "display_data",
          "data": {
            "text/plain": [
              "<Figure size 640x480 with 2 Axes>"
            ],
            "image/png": "[encoded data removed]"
          },
          "metadata": {}
        },
        {
          "output_type": "stream",
          "name": "stdout",
          "text": [
            "Most confusing classes: (2, 5)\n"
          ]
        }
      ]
    },
    {
      "cell_type": "markdown",
      "source": [
        "### VGG model implementation"
      ],
      "metadata": {
        "id": "tWZj9zNc8llc"
      }
    },
    {
      "cell_type": "code",
      "source": [
        "D_freq, Y_freq = loadAudioFreq(D_train)"
      ],
      "metadata": {
        "id": "6HZiB3WfHObB",
        "outputId": "6233d15b-62a3-445c-80a2-5bb221c8dd8c",
        "colab": {
          "base_uri": "https://localhost:8080/",
          "height": 287
        }
      },
      "execution_count": 71,
      "outputs": [
        {
          "output_type": "error",
          "ename": "KeyboardInterrupt",
          "evalue": "ignored",
          "traceback": [
            "\u001b[0;31m---------------------------------------------------------------------------\u001b[0m",
            "\u001b[0;31mKeyboardInterrupt\u001b[0m                         Traceback (most recent call last)",
            "\u001b[0;32m<ipython-input-71-2948377aa908>\u001b[0m in \u001b[0;36m<cell line: 1>\u001b[0;34m()\u001b[0m\n\u001b[0;32m----> 1\u001b[0;31m \u001b[0mD_freq\u001b[0m\u001b[0;34m,\u001b[0m \u001b[0mY_freq\u001b[0m \u001b[0;34m=\u001b[0m \u001b[0mloadAudioFreq\u001b[0m\u001b[0;34m(\u001b[0m\u001b[0mD_train\u001b[0m\u001b[0;34m)\u001b[0m\u001b[0;34m\u001b[0m\u001b[0;34m\u001b[0m\u001b[0m\n\u001b[0m",
            "\u001b[0;32m<ipython-input-20-da89cd57bf13>\u001b[0m in \u001b[0;36mloadAudioFreq\u001b[0;34m(audio_files)\u001b[0m\n\u001b[1;32m      7\u001b[0m   \u001b[0;32mfor\u001b[0m \u001b[0maudio_file\u001b[0m \u001b[0;32min\u001b[0m \u001b[0maudio_files\u001b[0m\u001b[0;34m:\u001b[0m\u001b[0;34m\u001b[0m\u001b[0;34m\u001b[0m\u001b[0m\n\u001b[1;32m      8\u001b[0m     \u001b[0;31m# load the audio file\u001b[0m\u001b[0;34m\u001b[0m\u001b[0;34m\u001b[0m\u001b[0m\n\u001b[0;32m----> 9\u001b[0;31m     \u001b[0maudio\u001b[0m\u001b[0;34m,\u001b[0m \u001b[0msr\u001b[0m \u001b[0;34m=\u001b[0m \u001b[0mlib\u001b[0m\u001b[0;34m.\u001b[0m\u001b[0mload\u001b[0m\u001b[0;34m(\u001b[0m\u001b[0maudio_file\u001b[0m\u001b[0;34m,\u001b[0m \u001b[0msr\u001b[0m\u001b[0;34m=\u001b[0m\u001b[0;36m4444\u001b[0m\u001b[0;34m)\u001b[0m\u001b[0;34m\u001b[0m\u001b[0;34m\u001b[0m\u001b[0m\n\u001b[0m\u001b[1;32m     10\u001b[0m     \u001b[0;31m# extract mel spectrogram\u001b[0m\u001b[0;34m\u001b[0m\u001b[0;34m\u001b[0m\u001b[0m\n\u001b[1;32m     11\u001b[0m     \u001b[0mmel_spec\u001b[0m \u001b[0;34m=\u001b[0m \u001b[0mmelSpectrogram\u001b[0m\u001b[0;34m(\u001b[0m\u001b[0maudio\u001b[0m\u001b[0;34m,\u001b[0m \u001b[0msr\u001b[0m\u001b[0;34m)\u001b[0m\u001b[0;34m\u001b[0m\u001b[0;34m\u001b[0m\u001b[0m\n",
            "\u001b[0;32m/usr/local/lib/python3.10/dist-packages/librosa/util/decorators.py\u001b[0m in \u001b[0;36minner_f\u001b[0;34m(*args, **kwargs)\u001b[0m\n\u001b[1;32m     86\u001b[0m             \u001b[0mextra_args\u001b[0m \u001b[0;34m=\u001b[0m \u001b[0mlen\u001b[0m\u001b[0;34m(\u001b[0m\u001b[0margs\u001b[0m\u001b[0;34m)\u001b[0m \u001b[0;34m-\u001b[0m \u001b[0mlen\u001b[0m\u001b[0;34m(\u001b[0m\u001b[0mall_args\u001b[0m\u001b[0;34m)\u001b[0m\u001b[0;34m\u001b[0m\u001b[0;34m\u001b[0m\u001b[0m\n\u001b[1;32m     87\u001b[0m             \u001b[0;32mif\u001b[0m \u001b[0mextra_args\u001b[0m \u001b[0;34m<=\u001b[0m \u001b[0;36m0\u001b[0m\u001b[0;34m:\u001b[0m\u001b[0;34m\u001b[0m\u001b[0;34m\u001b[0m\u001b[0m\n\u001b[0;32m---> 88\u001b[0;31m                 \u001b[0;32mreturn\u001b[0m \u001b[0mf\u001b[0m\u001b[0;34m(\u001b[0m\u001b[0;34m*\u001b[0m\u001b[0margs\u001b[0m\u001b[0;34m,\u001b[0m \u001b[0;34m**\u001b[0m\u001b[0mkwargs\u001b[0m\u001b[0;34m)\u001b[0m\u001b[0;34m\u001b[0m\u001b[0;34m\u001b[0m\u001b[0m\n\u001b[0m\u001b[1;32m     89\u001b[0m \u001b[0;34m\u001b[0m\u001b[0m\n\u001b[1;32m     90\u001b[0m             \u001b[0;31m# extra_args > 0\u001b[0m\u001b[0;34m\u001b[0m\u001b[0;34m\u001b[0m\u001b[0m\n",
            "\u001b[0;32m/usr/local/lib/python3.10/dist-packages/librosa/core/audio.py\u001b[0m in \u001b[0;36mload\u001b[0;34m(path, sr, mono, offset, duration, dtype, res_type)\u001b[0m\n\u001b[1;32m    177\u001b[0m \u001b[0;34m\u001b[0m\u001b[0m\n\u001b[1;32m    178\u001b[0m     \u001b[0;32mif\u001b[0m \u001b[0msr\u001b[0m \u001b[0;32mis\u001b[0m \u001b[0;32mnot\u001b[0m \u001b[0;32mNone\u001b[0m\u001b[0;34m:\u001b[0m\u001b[0;34m\u001b[0m\u001b[0;34m\u001b[0m\u001b[0m\n\u001b[0;32m--> 179\u001b[0;31m         \u001b[0my\u001b[0m \u001b[0;34m=\u001b[0m \u001b[0mresample\u001b[0m\u001b[0;34m(\u001b[0m\u001b[0my\u001b[0m\u001b[0;34m,\u001b[0m \u001b[0morig_sr\u001b[0m\u001b[0;34m=\u001b[0m\u001b[0msr_native\u001b[0m\u001b[0;34m,\u001b[0m \u001b[0mtarget_sr\u001b[0m\u001b[0;34m=\u001b[0m\u001b[0msr\u001b[0m\u001b[0;34m,\u001b[0m \u001b[0mres_type\u001b[0m\u001b[0;34m=\u001b[0m\u001b[0mres_type\u001b[0m\u001b[0;34m)\u001b[0m\u001b[0;34m\u001b[0m\u001b[0;34m\u001b[0m\u001b[0m\n\u001b[0m\u001b[1;32m    180\u001b[0m \u001b[0;34m\u001b[0m\u001b[0m\n\u001b[1;32m    181\u001b[0m     \u001b[0;32melse\u001b[0m\u001b[0;34m:\u001b[0m\u001b[0;34m\u001b[0m\u001b[0;34m\u001b[0m\u001b[0m\n",
            "\u001b[0;32m/usr/local/lib/python3.10/dist-packages/librosa/util/decorators.py\u001b[0m in \u001b[0;36minner_f\u001b[0;34m(*args, **kwargs)\u001b[0m\n\u001b[1;32m     86\u001b[0m             \u001b[0mextra_args\u001b[0m \u001b[0;34m=\u001b[0m \u001b[0mlen\u001b[0m\u001b[0;34m(\u001b[0m\u001b[0margs\u001b[0m\u001b[0;34m)\u001b[0m \u001b[0;34m-\u001b[0m \u001b[0mlen\u001b[0m\u001b[0;34m(\u001b[0m\u001b[0mall_args\u001b[0m\u001b[0;34m)\u001b[0m\u001b[0;34m\u001b[0m\u001b[0;34m\u001b[0m\u001b[0m\n\u001b[1;32m     87\u001b[0m             \u001b[0;32mif\u001b[0m \u001b[0mextra_args\u001b[0m \u001b[0;34m<=\u001b[0m \u001b[0;36m0\u001b[0m\u001b[0;34m:\u001b[0m\u001b[0;34m\u001b[0m\u001b[0;34m\u001b[0m\u001b[0m\n\u001b[0;32m---> 88\u001b[0;31m                 \u001b[0;32mreturn\u001b[0m \u001b[0mf\u001b[0m\u001b[0;34m(\u001b[0m\u001b[0;34m*\u001b[0m\u001b[0margs\u001b[0m\u001b[0;34m,\u001b[0m \u001b[0;34m**\u001b[0m\u001b[0mkwargs\u001b[0m\u001b[0;34m)\u001b[0m\u001b[0;34m\u001b[0m\u001b[0;34m\u001b[0m\u001b[0m\n\u001b[0m\u001b[1;32m     89\u001b[0m \u001b[0;34m\u001b[0m\u001b[0m\n\u001b[1;32m     90\u001b[0m             \u001b[0;31m# extra_args > 0\u001b[0m\u001b[0;34m\u001b[0m\u001b[0;34m\u001b[0m\u001b[0m\n",
            "\u001b[0;32m/usr/local/lib/python3.10/dist-packages/librosa/core/audio.py\u001b[0m in \u001b[0;36mresample\u001b[0;34m(y, orig_sr, target_sr, res_type, fix, scale, **kwargs)\u001b[0m\n\u001b[1;32m    645\u001b[0m         \u001b[0my_hat\u001b[0m \u001b[0;34m=\u001b[0m \u001b[0msoxr\u001b[0m\u001b[0;34m.\u001b[0m\u001b[0mresample\u001b[0m\u001b[0;34m(\u001b[0m\u001b[0my\u001b[0m\u001b[0;34m.\u001b[0m\u001b[0mT\u001b[0m\u001b[0;34m,\u001b[0m \u001b[0morig_sr\u001b[0m\u001b[0;34m,\u001b[0m \u001b[0mtarget_sr\u001b[0m\u001b[0;34m,\u001b[0m \u001b[0mquality\u001b[0m\u001b[0;34m=\u001b[0m\u001b[0mres_type\u001b[0m\u001b[0;34m)\u001b[0m\u001b[0;34m.\u001b[0m\u001b[0mT\u001b[0m\u001b[0;34m\u001b[0m\u001b[0;34m\u001b[0m\u001b[0m\n\u001b[1;32m    646\u001b[0m     \u001b[0;32melse\u001b[0m\u001b[0;34m:\u001b[0m\u001b[0;34m\u001b[0m\u001b[0;34m\u001b[0m\u001b[0m\n\u001b[0;32m--> 647\u001b[0;31m         \u001b[0my_hat\u001b[0m \u001b[0;34m=\u001b[0m \u001b[0mresampy\u001b[0m\u001b[0;34m.\u001b[0m\u001b[0mresample\u001b[0m\u001b[0;34m(\u001b[0m\u001b[0my\u001b[0m\u001b[0;34m,\u001b[0m \u001b[0morig_sr\u001b[0m\u001b[0;34m,\u001b[0m \u001b[0mtarget_sr\u001b[0m\u001b[0;34m,\u001b[0m \u001b[0mfilter\u001b[0m\u001b[0;34m=\u001b[0m\u001b[0mres_type\u001b[0m\u001b[0;34m,\u001b[0m \u001b[0maxis\u001b[0m\u001b[0;34m=\u001b[0m\u001b[0;34m-\u001b[0m\u001b[0;36m1\u001b[0m\u001b[0;34m)\u001b[0m\u001b[0;34m\u001b[0m\u001b[0;34m\u001b[0m\u001b[0m\n\u001b[0m\u001b[1;32m    648\u001b[0m \u001b[0;34m\u001b[0m\u001b[0m\n\u001b[1;32m    649\u001b[0m     \u001b[0;32mif\u001b[0m \u001b[0mfix\u001b[0m\u001b[0;34m:\u001b[0m\u001b[0;34m\u001b[0m\u001b[0;34m\u001b[0m\u001b[0m\n",
            "\u001b[0;32m/usr/local/lib/python3.10/dist-packages/resampy/core.py\u001b[0m in \u001b[0;36mresample\u001b[0;34m(x, sr_orig, sr_new, axis, filter, parallel, **kwargs)\u001b[0m\n\u001b[1;32m    166\u001b[0m             )\n\u001b[1;32m    167\u001b[0m     \u001b[0;32melse\u001b[0m\u001b[0;34m:\u001b[0m\u001b[0;34m\u001b[0m\u001b[0;34m\u001b[0m\u001b[0m\n\u001b[0;32m--> 168\u001b[0;31m         resample_f_s(\n\u001b[0m\u001b[1;32m    169\u001b[0m             \u001b[0mx\u001b[0m\u001b[0;34m.\u001b[0m\u001b[0mswapaxes\u001b[0m\u001b[0;34m(\u001b[0m\u001b[0;34m-\u001b[0m\u001b[0;36m1\u001b[0m\u001b[0;34m,\u001b[0m \u001b[0maxis\u001b[0m\u001b[0;34m)\u001b[0m\u001b[0;34m,\u001b[0m\u001b[0;34m\u001b[0m\u001b[0;34m\u001b[0m\u001b[0m\n\u001b[1;32m    170\u001b[0m             \u001b[0mt_out\u001b[0m\u001b[0;34m,\u001b[0m\u001b[0;34m\u001b[0m\u001b[0;34m\u001b[0m\u001b[0m\n",
            "\u001b[0;32m/usr/local/lib/python3.10/dist-packages/numba/np/ufunc/gufunc.py\u001b[0m in \u001b[0;36m__call__\u001b[0;34m(self, *args, **kwargs)\u001b[0m\n\u001b[1;32m    190\u001b[0m             \u001b[0mself\u001b[0m\u001b[0;34m.\u001b[0m\u001b[0madd\u001b[0m\u001b[0;34m(\u001b[0m\u001b[0msig\u001b[0m\u001b[0;34m)\u001b[0m\u001b[0;34m\u001b[0m\u001b[0;34m\u001b[0m\u001b[0m\n\u001b[1;32m    191\u001b[0m             \u001b[0mself\u001b[0m\u001b[0;34m.\u001b[0m\u001b[0mbuild_ufunc\u001b[0m\u001b[0;34m(\u001b[0m\u001b[0;34m)\u001b[0m\u001b[0;34m\u001b[0m\u001b[0;34m\u001b[0m\u001b[0m\n\u001b[0;32m--> 192\u001b[0;31m         \u001b[0;32mreturn\u001b[0m \u001b[0mself\u001b[0m\u001b[0;34m.\u001b[0m\u001b[0mufunc\u001b[0m\u001b[0;34m(\u001b[0m\u001b[0;34m*\u001b[0m\u001b[0margs\u001b[0m\u001b[0;34m,\u001b[0m \u001b[0;34m**\u001b[0m\u001b[0mkwargs\u001b[0m\u001b[0;34m)\u001b[0m\u001b[0;34m\u001b[0m\u001b[0;34m\u001b[0m\u001b[0m\n\u001b[0m",
            "\u001b[0;31mKeyboardInterrupt\u001b[0m: "
          ]
        }
      ]
    },
    {
      "cell_type": "code",
      "source": [
        "D_freq[0].shape[1]"
      ],
      "metadata": {
        "id": "AATsoIbYnPmU",
        "outputId": "9ce6c26a-ca44-4294-84f6-1d25a5b4e45e",
        "colab": {
          "base_uri": "https://localhost:8080/"
        }
      },
      "execution_count": 46,
      "outputs": [
        {
          "output_type": "execute_result",
          "data": {
            "text/plain": [
              "32"
            ]
          },
          "metadata": {},
          "execution_count": 46
        }
      ]
    },
    {
      "cell_type": "code",
      "source": [
        "# perform padding to make input as same shape as that used in VGG\n",
        "D_freq2 = []\n",
        "for i, array in enumerate(D_freq):\n",
        "  D_freq2.append(np.pad(array, ((0, 224 - array.shape[0]), (0, 224 - array.shape[1]))))\n",
        "D_freq2 = np.array(D_freq2)"
      ],
      "metadata": {
        "id": "p-_sbdpznPov"
      },
      "execution_count": 47,
      "outputs": []
    },
    {
      "cell_type": "code",
      "source": [
        "D_freq2[0].shape"
      ],
      "metadata": {
        "id": "WfiEUFUknPsE",
        "outputId": "69ed8055-9f3a-4cef-a781-a6653d3a9a91",
        "colab": {
          "base_uri": "https://localhost:8080/"
        }
      },
      "execution_count": 49,
      "outputs": [
        {
          "output_type": "execute_result",
          "data": {
            "text/plain": [
              "(224, 224)"
            ]
          },
          "metadata": {},
          "execution_count": 49
        }
      ]
    },
    {
      "cell_type": "code",
      "source": [
        "df_freq = pd.DataFrame(Y_freq)\n",
        "\n",
        "# Use the get_dummies() method to one-hot encode the labels\n",
        "one_hot_labels = pd.get_dummies(df_freq)\n",
        "\n",
        "# Convert the DataFrame to a NumPy array\n",
        "one_hot_labels = one_hot_labels.to_numpy()\n",
        "\n",
        "print(one_hot_labels.shape)\n",
        "Y_freq = one_hot_labels\n",
        "Y_freq.shape"
      ],
      "metadata": {
        "id": "x7v3gjDFbq1x",
        "outputId": "d8cdd344-f991-4bb8-a37c-5769dab1a49f",
        "colab": {
          "base_uri": "https://localhost:8080/"
        }
      },
      "execution_count": 52,
      "outputs": [
        {
          "output_type": "stream",
          "name": "stdout",
          "text": [
            "(2233, 6)\n"
          ]
        },
        {
          "output_type": "execute_result",
          "data": {
            "text/plain": [
              "(2233, 6)"
            ]
          },
          "metadata": {},
          "execution_count": 52
        }
      ]
    },
    {
      "cell_type": "code",
      "source": [
        "x_train, x_test, y_train, y_test = train_test_split(np.array(D_freq2), np.array(Y_freq), test_size=0.05)\n",
        "print(x_train.shape, y_train.shape, x_test.shape, y_test.shape)"
      ],
      "metadata": {
        "id": "YqjLmQyHbqnx",
        "outputId": "6ba34c98-f1a7-4907-bad1-eccb7f3053bf",
        "colab": {
          "base_uri": "https://localhost:8080/"
        }
      },
      "execution_count": 55,
      "outputs": [
        {
          "output_type": "stream",
          "name": "stdout",
          "text": [
            "(2121, 224, 224) (2121, 6) (112, 224, 224) (112, 6)\n"
          ]
        }
      ]
    },
    {
      "cell_type": "code",
      "source": [
        "x_train = x_train.reshape((x_train.shape[0], x_train.shape[1], x_train.shape[2], 1))\n",
        "x_test = x_test.reshape((x_test.shape[0], x_test.shape[1], x_test.shape[2], 1))\n",
        "print(x_train.shape, x_test.shape)"
      ],
      "metadata": {
        "id": "KgjuijPIbqQl",
        "outputId": "a4810bb6-7bb0-44a0-a88c-b8b035ddf766",
        "colab": {
          "base_uri": "https://localhost:8080/"
        }
      },
      "execution_count": 56,
      "outputs": [
        {
          "output_type": "stream",
          "name": "stdout",
          "text": [
            "(2121, 224, 224, 1) (112, 224, 224, 1)\n"
          ]
        }
      ]
    },
    {
      "cell_type": "code",
      "source": [
        "weight_decay = 0.0005\n",
        "model = Sequential()\n",
        "\n",
        "# Block 1\n",
        "model.add(Conv2D(64, (3, 3), activation='relu', padding='same', input_shape=(224, 224, 1), \n",
        "          kernel_regularizer=l2(weight_decay)))\n",
        "model.add(Conv2D(64, (3, 3), activation='relu', padding='same',\n",
        "          kernel_regularizer=l2(weight_decay)))\n",
        "model.add(MaxPooling2D((2, 2), strides=(2, 2)))\n",
        "\n",
        "# Block 2\n",
        "model.add(Conv2D(128, (3, 3), activation='relu', padding='same',\n",
        "          kernel_regularizer=l2(weight_decay)))\n",
        "model.add(Conv2D(128, (3, 3), activation='relu', padding='same',\n",
        "          kernel_regularizer=l2(weight_decay)))\n",
        "model.add(MaxPooling2D((2, 2), strides=(2, 2)))\n",
        "\n",
        "# Block 3\n",
        "model.add(Conv2D(256, (3, 3), activation='relu', padding='same',\n",
        "          kernel_regularizer=l2(weight_decay)))\n",
        "model.add(Conv2D(256, (3, 3), activation='relu', padding='same',\n",
        "          kernel_regularizer=l2(weight_decay)))\n",
        "model.add(Conv2D(256, (3, 3), activation='relu', padding='same',\n",
        "          kernel_regularizer=l2(weight_decay)))\n",
        "model.add(MaxPooling2D((2, 2), strides=(2, 2)))\n",
        "\n",
        "# Block 4\n",
        "model.add(Conv2D(512, (3, 3), activation='relu', padding='same',\n",
        "          kernel_regularizer=l2(weight_decay)))\n",
        "model.add(Conv2D(512, (3, 3), activation='relu', padding='same',\n",
        "          kernel_regularizer=l2(weight_decay)))\n",
        "model.add(Conv2D(512, (3, 3), activation='relu', padding='same',\n",
        "          kernel_regularizer=l2(weight_decay)))\n",
        "model.add(MaxPooling2D((2, 2), strides=(2, 2)))\n",
        "\n",
        "# Block 5\n",
        "model.add(Conv2D(512, (3, 3), activation='relu', padding='same',\n",
        "          kernel_regularizer=l2(weight_decay)))\n",
        "model.add(Conv2D(512, (3, 3), activation='relu', padding='same',\n",
        "          kernel_regularizer=l2(weight_decay)))\n",
        "model.add(Conv2D(512, (3, 3), activation='relu', padding='same',\n",
        "          kernel_regularizer=l2(weight_decay)))\n",
        "model.add(MaxPooling2D((2, 2), strides=(2, 2)))\n",
        "\n",
        "# Fully connected layers\n",
        "model.add(Flatten())\n",
        "model.add(Dense(4096, activation='relu', kernel_regularizer=l2(weight_decay)))\n",
        "# Dropout regularization with a dropout ratio of 0.5\n",
        "model.add(Dropout(0.5))\n",
        "model.add(Dense(4096, activation='relu', kernel_regularizer=l2(weight_decay)))\n",
        "model.add(Dropout(0.5))\n",
        "model.add(Dense(6, activation='softmax'))\n",
        "\n",
        "model.compile(loss='categorical_crossentropy',\n",
        "             optimizer=optimizers.SGD(lr=0.0005, momentum=0.9),\n",
        "             metrics=['accuracy'])\n",
        "\n",
        "# Print the model summary\n",
        "model.summary()"
      ],
      "metadata": {
        "id": "RS6u0IJEMlTf",
        "outputId": "6350a980-7209-4989-aec5-cd583e2542db",
        "colab": {
          "base_uri": "https://localhost:8080/"
        }
      },
      "execution_count": 68,
      "outputs": [
        {
          "output_type": "stream",
          "name": "stdout",
          "text": [
            "Model: \"sequential_7\"\n",
            "_________________________________________________________________\n",
            " Layer (type)                Output Shape              Param #   \n",
            "=================================================================\n",
            " conv2d_68 (Conv2D)          (None, 224, 224, 64)      640       \n",
            "                                                                 \n",
            " conv2d_69 (Conv2D)          (None, 224, 224, 64)      36928     \n",
            "                                                                 \n",
            " max_pooling2d_25 (MaxPoolin  (None, 112, 112, 64)     0         \n",
            " g2D)                                                            \n",
            "                                                                 \n",
            " conv2d_70 (Conv2D)          (None, 112, 112, 128)     73856     \n",
            "                                                                 \n",
            " conv2d_71 (Conv2D)          (None, 112, 112, 128)     147584    \n",
            "                                                                 \n",
            " max_pooling2d_26 (MaxPoolin  (None, 56, 56, 128)      0         \n",
            " g2D)                                                            \n",
            "                                                                 \n",
            " conv2d_72 (Conv2D)          (None, 56, 56, 256)       295168    \n",
            "                                                                 \n",
            " conv2d_73 (Conv2D)          (None, 56, 56, 256)       590080    \n",
            "                                                                 \n",
            " conv2d_74 (Conv2D)          (None, 56, 56, 256)       590080    \n",
            "                                                                 \n",
            " max_pooling2d_27 (MaxPoolin  (None, 28, 28, 256)      0         \n",
            " g2D)                                                            \n",
            "                                                                 \n",
            " conv2d_75 (Conv2D)          (None, 28, 28, 512)       1180160   \n",
            "                                                                 \n",
            " conv2d_76 (Conv2D)          (None, 28, 28, 512)       2359808   \n",
            "                                                                 \n",
            " conv2d_77 (Conv2D)          (None, 28, 28, 512)       2359808   \n",
            "                                                                 \n",
            " max_pooling2d_28 (MaxPoolin  (None, 14, 14, 512)      0         \n",
            " g2D)                                                            \n",
            "                                                                 \n",
            " conv2d_78 (Conv2D)          (None, 14, 14, 512)       2359808   \n",
            "                                                                 \n",
            " conv2d_79 (Conv2D)          (None, 14, 14, 512)       2359808   \n",
            "                                                                 \n",
            " conv2d_80 (Conv2D)          (None, 14, 14, 512)       2359808   \n",
            "                                                                 \n",
            " max_pooling2d_29 (MaxPoolin  (None, 7, 7, 512)        0         \n",
            " g2D)                                                            \n",
            "                                                                 \n",
            " flatten_5 (Flatten)         (None, 25088)             0         \n",
            "                                                                 \n",
            " dense_15 (Dense)            (None, 4096)              102764544 \n",
            "                                                                 \n",
            " dropout_2 (Dropout)         (None, 4096)              0         \n",
            "                                                                 \n",
            " dense_16 (Dense)            (None, 4096)              16781312  \n",
            "                                                                 \n",
            " dropout_3 (Dropout)         (None, 4096)              0         \n",
            "                                                                 \n",
            " dense_17 (Dense)            (None, 6)                 24582     \n",
            "                                                                 \n",
            "=================================================================\n",
            "Total params: 134,283,974\n",
            "Trainable params: 134,283,974\n",
            "Non-trainable params: 0\n",
            "_________________________________________________________________\n"
          ]
        }
      ]
    },
    {
      "cell_type": "code",
      "source": [
        "# Specify thecallbacks for the model\n",
        "callbacks = [EarlyStopping(monitor='val_loss', patience=10)]\n",
        "\n",
        "history = model.fit(x_train, y_train,\n",
        "                    epochs=74,\n",
        "                    # original model is 256, we use 64 to avoid memory error\n",
        "                    batch_size=64,\n",
        "                    validation_data=(x_test, y_test),\n",
        "                    callbacks=callbacks)"
      ],
      "metadata": {
        "id": "yBSSCIvhbOdo",
        "outputId": "bd06a7a7-95b2-4725-f0c9-ca313f5c6166",
        "colab": {
          "base_uri": "https://localhost:8080/",
          "height": 433
        }
      },
      "execution_count": 70,
      "outputs": [
        {
          "output_type": "stream",
          "name": "stdout",
          "text": [
            "Epoch 1/74\n",
            " 2/34 [>.............................] - ETA: 27s - loss: 9.2789 - accuracy: 0.2109"
          ]
        },
        {
          "output_type": "error",
          "ename": "KeyboardInterrupt",
          "evalue": "ignored",
          "traceback": [
            "\u001b[0;31m---------------------------------------------------------------------------\u001b[0m",
            "\u001b[0;31mKeyboardInterrupt\u001b[0m                         Traceback (most recent call last)",
            "\u001b[0;32m<ipython-input-70-9e417f1e6379>\u001b[0m in \u001b[0;36m<cell line: 4>\u001b[0;34m()\u001b[0m\n\u001b[1;32m      2\u001b[0m \u001b[0mcallbacks\u001b[0m \u001b[0;34m=\u001b[0m \u001b[0;34m[\u001b[0m\u001b[0mEarlyStopping\u001b[0m\u001b[0;34m(\u001b[0m\u001b[0mmonitor\u001b[0m\u001b[0;34m=\u001b[0m\u001b[0;34m'val_loss'\u001b[0m\u001b[0;34m,\u001b[0m \u001b[0mpatience\u001b[0m\u001b[0;34m=\u001b[0m\u001b[0;36m10\u001b[0m\u001b[0;34m)\u001b[0m\u001b[0;34m]\u001b[0m\u001b[0;34m\u001b[0m\u001b[0;34m\u001b[0m\u001b[0m\n\u001b[1;32m      3\u001b[0m \u001b[0;34m\u001b[0m\u001b[0m\n\u001b[0;32m----> 4\u001b[0;31m history = model.fit(x_train, y_train,\n\u001b[0m\u001b[1;32m      5\u001b[0m                     \u001b[0mepochs\u001b[0m\u001b[0;34m=\u001b[0m\u001b[0;36m74\u001b[0m\u001b[0;34m,\u001b[0m\u001b[0;34m\u001b[0m\u001b[0;34m\u001b[0m\u001b[0m\n\u001b[1;32m      6\u001b[0m                     \u001b[0;31m# original model is 256, we use 64 to avoid memory error\u001b[0m\u001b[0;34m\u001b[0m\u001b[0;34m\u001b[0m\u001b[0m\n",
            "\u001b[0;32m/usr/local/lib/python3.10/dist-packages/keras/utils/traceback_utils.py\u001b[0m in \u001b[0;36merror_handler\u001b[0;34m(*args, **kwargs)\u001b[0m\n\u001b[1;32m     63\u001b[0m         \u001b[0mfiltered_tb\u001b[0m \u001b[0;34m=\u001b[0m \u001b[0;32mNone\u001b[0m\u001b[0;34m\u001b[0m\u001b[0;34m\u001b[0m\u001b[0m\n\u001b[1;32m     64\u001b[0m         \u001b[0;32mtry\u001b[0m\u001b[0;34m:\u001b[0m\u001b[0;34m\u001b[0m\u001b[0;34m\u001b[0m\u001b[0m\n\u001b[0;32m---> 65\u001b[0;31m             \u001b[0;32mreturn\u001b[0m \u001b[0mfn\u001b[0m\u001b[0;34m(\u001b[0m\u001b[0;34m*\u001b[0m\u001b[0margs\u001b[0m\u001b[0;34m,\u001b[0m \u001b[0;34m**\u001b[0m\u001b[0mkwargs\u001b[0m\u001b[0;34m)\u001b[0m\u001b[0;34m\u001b[0m\u001b[0;34m\u001b[0m\u001b[0m\n\u001b[0m\u001b[1;32m     66\u001b[0m         \u001b[0;32mexcept\u001b[0m \u001b[0mException\u001b[0m \u001b[0;32mas\u001b[0m \u001b[0me\u001b[0m\u001b[0;34m:\u001b[0m\u001b[0;34m\u001b[0m\u001b[0;34m\u001b[0m\u001b[0m\n\u001b[1;32m     67\u001b[0m             \u001b[0mfiltered_tb\u001b[0m \u001b[0;34m=\u001b[0m \u001b[0m_process_traceback_frames\u001b[0m\u001b[0;34m(\u001b[0m\u001b[0me\u001b[0m\u001b[0;34m.\u001b[0m\u001b[0m__traceback__\u001b[0m\u001b[0;34m)\u001b[0m\u001b[0;34m\u001b[0m\u001b[0;34m\u001b[0m\u001b[0m\n",
            "\u001b[0;32m/usr/local/lib/python3.10/dist-packages/keras/engine/training.py\u001b[0m in \u001b[0;36mfit\u001b[0;34m(self, x, y, batch_size, epochs, verbose, callbacks, validation_split, validation_data, shuffle, class_weight, sample_weight, initial_epoch, steps_per_epoch, validation_steps, validation_batch_size, validation_freq, max_queue_size, workers, use_multiprocessing)\u001b[0m\n\u001b[1;32m   1689\u001b[0m                             \u001b[0mlogs\u001b[0m \u001b[0;34m=\u001b[0m \u001b[0mtmp_logs\u001b[0m\u001b[0;34m\u001b[0m\u001b[0;34m\u001b[0m\u001b[0m\n\u001b[1;32m   1690\u001b[0m                             \u001b[0mend_step\u001b[0m \u001b[0;34m=\u001b[0m \u001b[0mstep\u001b[0m \u001b[0;34m+\u001b[0m \u001b[0mdata_handler\u001b[0m\u001b[0;34m.\u001b[0m\u001b[0mstep_increment\u001b[0m\u001b[0;34m\u001b[0m\u001b[0;34m\u001b[0m\u001b[0m\n\u001b[0;32m-> 1691\u001b[0;31m                             \u001b[0mcallbacks\u001b[0m\u001b[0;34m.\u001b[0m\u001b[0mon_train_batch_end\u001b[0m\u001b[0;34m(\u001b[0m\u001b[0mend_step\u001b[0m\u001b[0;34m,\u001b[0m \u001b[0mlogs\u001b[0m\u001b[0;34m)\u001b[0m\u001b[0;34m\u001b[0m\u001b[0;34m\u001b[0m\u001b[0m\n\u001b[0m\u001b[1;32m   1692\u001b[0m                             \u001b[0;32mif\u001b[0m \u001b[0mself\u001b[0m\u001b[0;34m.\u001b[0m\u001b[0mstop_training\u001b[0m\u001b[0;34m:\u001b[0m\u001b[0;34m\u001b[0m\u001b[0;34m\u001b[0m\u001b[0m\n\u001b[1;32m   1693\u001b[0m                                 \u001b[0;32mbreak\u001b[0m\u001b[0;34m\u001b[0m\u001b[0;34m\u001b[0m\u001b[0m\n",
            "\u001b[0;32m/usr/local/lib/python3.10/dist-packages/keras/callbacks.py\u001b[0m in \u001b[0;36mon_train_batch_end\u001b[0;34m(self, batch, logs)\u001b[0m\n\u001b[1;32m    473\u001b[0m         \"\"\"\n\u001b[1;32m    474\u001b[0m         \u001b[0;32mif\u001b[0m \u001b[0mself\u001b[0m\u001b[0;34m.\u001b[0m\u001b[0m_should_call_train_batch_hooks\u001b[0m\u001b[0;34m:\u001b[0m\u001b[0;34m\u001b[0m\u001b[0;34m\u001b[0m\u001b[0m\n\u001b[0;32m--> 475\u001b[0;31m             \u001b[0mself\u001b[0m\u001b[0;34m.\u001b[0m\u001b[0m_call_batch_hook\u001b[0m\u001b[0;34m(\u001b[0m\u001b[0mModeKeys\u001b[0m\u001b[0;34m.\u001b[0m\u001b[0mTRAIN\u001b[0m\u001b[0;34m,\u001b[0m \u001b[0;34m\"end\"\u001b[0m\u001b[0;34m,\u001b[0m \u001b[0mbatch\u001b[0m\u001b[0;34m,\u001b[0m \u001b[0mlogs\u001b[0m\u001b[0;34m=\u001b[0m\u001b[0mlogs\u001b[0m\u001b[0;34m)\u001b[0m\u001b[0;34m\u001b[0m\u001b[0;34m\u001b[0m\u001b[0m\n\u001b[0m\u001b[1;32m    476\u001b[0m \u001b[0;34m\u001b[0m\u001b[0m\n\u001b[1;32m    477\u001b[0m     \u001b[0;32mdef\u001b[0m \u001b[0mon_test_batch_begin\u001b[0m\u001b[0;34m(\u001b[0m\u001b[0mself\u001b[0m\u001b[0;34m,\u001b[0m \u001b[0mbatch\u001b[0m\u001b[0;34m,\u001b[0m \u001b[0mlogs\u001b[0m\u001b[0;34m=\u001b[0m\u001b[0;32mNone\u001b[0m\u001b[0;34m)\u001b[0m\u001b[0;34m:\u001b[0m\u001b[0;34m\u001b[0m\u001b[0;34m\u001b[0m\u001b[0m\n",
            "\u001b[0;32m/usr/local/lib/python3.10/dist-packages/keras/callbacks.py\u001b[0m in \u001b[0;36m_call_batch_hook\u001b[0;34m(self, mode, hook, batch, logs)\u001b[0m\n\u001b[1;32m    320\u001b[0m             \u001b[0mself\u001b[0m\u001b[0;34m.\u001b[0m\u001b[0m_call_batch_begin_hook\u001b[0m\u001b[0;34m(\u001b[0m\u001b[0mmode\u001b[0m\u001b[0;34m,\u001b[0m \u001b[0mbatch\u001b[0m\u001b[0;34m,\u001b[0m \u001b[0mlogs\u001b[0m\u001b[0;34m)\u001b[0m\u001b[0;34m\u001b[0m\u001b[0;34m\u001b[0m\u001b[0m\n\u001b[1;32m    321\u001b[0m         \u001b[0;32melif\u001b[0m \u001b[0mhook\u001b[0m \u001b[0;34m==\u001b[0m \u001b[0;34m\"end\"\u001b[0m\u001b[0;34m:\u001b[0m\u001b[0;34m\u001b[0m\u001b[0;34m\u001b[0m\u001b[0m\n\u001b[0;32m--> 322\u001b[0;31m             \u001b[0mself\u001b[0m\u001b[0;34m.\u001b[0m\u001b[0m_call_batch_end_hook\u001b[0m\u001b[0;34m(\u001b[0m\u001b[0mmode\u001b[0m\u001b[0;34m,\u001b[0m \u001b[0mbatch\u001b[0m\u001b[0;34m,\u001b[0m \u001b[0mlogs\u001b[0m\u001b[0;34m)\u001b[0m\u001b[0;34m\u001b[0m\u001b[0;34m\u001b[0m\u001b[0m\n\u001b[0m\u001b[1;32m    323\u001b[0m         \u001b[0;32melse\u001b[0m\u001b[0;34m:\u001b[0m\u001b[0;34m\u001b[0m\u001b[0;34m\u001b[0m\u001b[0m\n\u001b[1;32m    324\u001b[0m             raise ValueError(\n",
            "\u001b[0;32m/usr/local/lib/python3.10/dist-packages/keras/callbacks.py\u001b[0m in \u001b[0;36m_call_batch_end_hook\u001b[0;34m(self, mode, batch, logs)\u001b[0m\n\u001b[1;32m    343\u001b[0m             \u001b[0mself\u001b[0m\u001b[0;34m.\u001b[0m\u001b[0m_batch_times\u001b[0m\u001b[0;34m.\u001b[0m\u001b[0mappend\u001b[0m\u001b[0;34m(\u001b[0m\u001b[0mbatch_time\u001b[0m\u001b[0;34m)\u001b[0m\u001b[0;34m\u001b[0m\u001b[0;34m\u001b[0m\u001b[0m\n\u001b[1;32m    344\u001b[0m \u001b[0;34m\u001b[0m\u001b[0m\n\u001b[0;32m--> 345\u001b[0;31m         \u001b[0mself\u001b[0m\u001b[0;34m.\u001b[0m\u001b[0m_call_batch_hook_helper\u001b[0m\u001b[0;34m(\u001b[0m\u001b[0mhook_name\u001b[0m\u001b[0;34m,\u001b[0m \u001b[0mbatch\u001b[0m\u001b[0;34m,\u001b[0m \u001b[0mlogs\u001b[0m\u001b[0;34m)\u001b[0m\u001b[0;34m\u001b[0m\u001b[0;34m\u001b[0m\u001b[0m\n\u001b[0m\u001b[1;32m    346\u001b[0m \u001b[0;34m\u001b[0m\u001b[0m\n\u001b[1;32m    347\u001b[0m         \u001b[0;32mif\u001b[0m \u001b[0mlen\u001b[0m\u001b[0;34m(\u001b[0m\u001b[0mself\u001b[0m\u001b[0;34m.\u001b[0m\u001b[0m_batch_times\u001b[0m\u001b[0;34m)\u001b[0m \u001b[0;34m>=\u001b[0m \u001b[0mself\u001b[0m\u001b[0;34m.\u001b[0m\u001b[0m_num_batches_for_timing_check\u001b[0m\u001b[0;34m:\u001b[0m\u001b[0;34m\u001b[0m\u001b[0;34m\u001b[0m\u001b[0m\n",
            "\u001b[0;32m/usr/local/lib/python3.10/dist-packages/keras/callbacks.py\u001b[0m in \u001b[0;36m_call_batch_hook_helper\u001b[0;34m(self, hook_name, batch, logs)\u001b[0m\n\u001b[1;32m    391\u001b[0m         \u001b[0;32mfor\u001b[0m \u001b[0mcallback\u001b[0m \u001b[0;32min\u001b[0m \u001b[0mself\u001b[0m\u001b[0;34m.\u001b[0m\u001b[0mcallbacks\u001b[0m\u001b[0;34m:\u001b[0m\u001b[0;34m\u001b[0m\u001b[0;34m\u001b[0m\u001b[0m\n\u001b[1;32m    392\u001b[0m             \u001b[0mhook\u001b[0m \u001b[0;34m=\u001b[0m \u001b[0mgetattr\u001b[0m\u001b[0;34m(\u001b[0m\u001b[0mcallback\u001b[0m\u001b[0;34m,\u001b[0m \u001b[0mhook_name\u001b[0m\u001b[0;34m)\u001b[0m\u001b[0;34m\u001b[0m\u001b[0;34m\u001b[0m\u001b[0m\n\u001b[0;32m--> 393\u001b[0;31m             \u001b[0mhook\u001b[0m\u001b[0;34m(\u001b[0m\u001b[0mbatch\u001b[0m\u001b[0;34m,\u001b[0m \u001b[0mlogs\u001b[0m\u001b[0;34m)\u001b[0m\u001b[0;34m\u001b[0m\u001b[0;34m\u001b[0m\u001b[0m\n\u001b[0m\u001b[1;32m    394\u001b[0m \u001b[0;34m\u001b[0m\u001b[0m\n\u001b[1;32m    395\u001b[0m         \u001b[0;32mif\u001b[0m \u001b[0mself\u001b[0m\u001b[0;34m.\u001b[0m\u001b[0m_check_timing\u001b[0m\u001b[0;34m:\u001b[0m\u001b[0;34m\u001b[0m\u001b[0;34m\u001b[0m\u001b[0m\n",
            "\u001b[0;32m/usr/local/lib/python3.10/dist-packages/keras/callbacks.py\u001b[0m in \u001b[0;36mon_train_batch_end\u001b[0;34m(self, batch, logs)\u001b[0m\n\u001b[1;32m   1091\u001b[0m \u001b[0;34m\u001b[0m\u001b[0m\n\u001b[1;32m   1092\u001b[0m     \u001b[0;32mdef\u001b[0m \u001b[0mon_train_batch_end\u001b[0m\u001b[0;34m(\u001b[0m\u001b[0mself\u001b[0m\u001b[0;34m,\u001b[0m \u001b[0mbatch\u001b[0m\u001b[0;34m,\u001b[0m \u001b[0mlogs\u001b[0m\u001b[0;34m=\u001b[0m\u001b[0;32mNone\u001b[0m\u001b[0;34m)\u001b[0m\u001b[0;34m:\u001b[0m\u001b[0;34m\u001b[0m\u001b[0;34m\u001b[0m\u001b[0m\n\u001b[0;32m-> 1093\u001b[0;31m         \u001b[0mself\u001b[0m\u001b[0;34m.\u001b[0m\u001b[0m_batch_update_progbar\u001b[0m\u001b[0;34m(\u001b[0m\u001b[0mbatch\u001b[0m\u001b[0;34m,\u001b[0m \u001b[0mlogs\u001b[0m\u001b[0;34m)\u001b[0m\u001b[0;34m\u001b[0m\u001b[0;34m\u001b[0m\u001b[0m\n\u001b[0m\u001b[1;32m   1094\u001b[0m \u001b[0;34m\u001b[0m\u001b[0m\n\u001b[1;32m   1095\u001b[0m     \u001b[0;32mdef\u001b[0m \u001b[0mon_test_batch_end\u001b[0m\u001b[0;34m(\u001b[0m\u001b[0mself\u001b[0m\u001b[0;34m,\u001b[0m \u001b[0mbatch\u001b[0m\u001b[0;34m,\u001b[0m \u001b[0mlogs\u001b[0m\u001b[0;34m=\u001b[0m\u001b[0;32mNone\u001b[0m\u001b[0;34m)\u001b[0m\u001b[0;34m:\u001b[0m\u001b[0;34m\u001b[0m\u001b[0;34m\u001b[0m\u001b[0m\n",
            "\u001b[0;32m/usr/local/lib/python3.10/dist-packages/keras/callbacks.py\u001b[0m in \u001b[0;36m_batch_update_progbar\u001b[0;34m(self, batch, logs)\u001b[0m\n\u001b[1;32m   1167\u001b[0m         \u001b[0;32mif\u001b[0m \u001b[0mself\u001b[0m\u001b[0;34m.\u001b[0m\u001b[0mverbose\u001b[0m \u001b[0;34m==\u001b[0m \u001b[0;36m1\u001b[0m\u001b[0;34m:\u001b[0m\u001b[0;34m\u001b[0m\u001b[0;34m\u001b[0m\u001b[0m\n\u001b[1;32m   1168\u001b[0m             \u001b[0;31m# Only block async when verbose = 1.\u001b[0m\u001b[0;34m\u001b[0m\u001b[0;34m\u001b[0m\u001b[0m\n\u001b[0;32m-> 1169\u001b[0;31m             \u001b[0mlogs\u001b[0m \u001b[0;34m=\u001b[0m \u001b[0mtf_utils\u001b[0m\u001b[0;34m.\u001b[0m\u001b[0msync_to_numpy_or_python_type\u001b[0m\u001b[0;34m(\u001b[0m\u001b[0mlogs\u001b[0m\u001b[0;34m)\u001b[0m\u001b[0;34m\u001b[0m\u001b[0;34m\u001b[0m\u001b[0m\n\u001b[0m\u001b[1;32m   1170\u001b[0m             \u001b[0mself\u001b[0m\u001b[0;34m.\u001b[0m\u001b[0mprogbar\u001b[0m\u001b[0;34m.\u001b[0m\u001b[0mupdate\u001b[0m\u001b[0;34m(\u001b[0m\u001b[0mself\u001b[0m\u001b[0;34m.\u001b[0m\u001b[0mseen\u001b[0m\u001b[0;34m,\u001b[0m \u001b[0mlist\u001b[0m\u001b[0;34m(\u001b[0m\u001b[0mlogs\u001b[0m\u001b[0;34m.\u001b[0m\u001b[0mitems\u001b[0m\u001b[0;34m(\u001b[0m\u001b[0;34m)\u001b[0m\u001b[0;34m)\u001b[0m\u001b[0;34m,\u001b[0m \u001b[0mfinalize\u001b[0m\u001b[0;34m=\u001b[0m\u001b[0;32mFalse\u001b[0m\u001b[0;34m)\u001b[0m\u001b[0;34m\u001b[0m\u001b[0;34m\u001b[0m\u001b[0m\n\u001b[1;32m   1171\u001b[0m \u001b[0;34m\u001b[0m\u001b[0m\n",
            "\u001b[0;32m/usr/local/lib/python3.10/dist-packages/keras/utils/tf_utils.py\u001b[0m in \u001b[0;36msync_to_numpy_or_python_type\u001b[0;34m(tensors)\u001b[0m\n\u001b[1;32m    678\u001b[0m         \u001b[0;32mreturn\u001b[0m \u001b[0mt\u001b[0m\u001b[0;34m.\u001b[0m\u001b[0mitem\u001b[0m\u001b[0;34m(\u001b[0m\u001b[0;34m)\u001b[0m \u001b[0;32mif\u001b[0m \u001b[0mnp\u001b[0m\u001b[0;34m.\u001b[0m\u001b[0mndim\u001b[0m\u001b[0;34m(\u001b[0m\u001b[0mt\u001b[0m\u001b[0;34m)\u001b[0m \u001b[0;34m==\u001b[0m \u001b[0;36m0\u001b[0m \u001b[0;32melse\u001b[0m \u001b[0mt\u001b[0m\u001b[0;34m\u001b[0m\u001b[0;34m\u001b[0m\u001b[0m\n\u001b[1;32m    679\u001b[0m \u001b[0;34m\u001b[0m\u001b[0m\n\u001b[0;32m--> 680\u001b[0;31m     \u001b[0;32mreturn\u001b[0m \u001b[0mtf\u001b[0m\u001b[0;34m.\u001b[0m\u001b[0mnest\u001b[0m\u001b[0;34m.\u001b[0m\u001b[0mmap_structure\u001b[0m\u001b[0;34m(\u001b[0m\u001b[0m_to_single_numpy_or_python_type\u001b[0m\u001b[0;34m,\u001b[0m \u001b[0mtensors\u001b[0m\u001b[0;34m)\u001b[0m\u001b[0;34m\u001b[0m\u001b[0;34m\u001b[0m\u001b[0m\n\u001b[0m\u001b[1;32m    681\u001b[0m \u001b[0;34m\u001b[0m\u001b[0m\n\u001b[1;32m    682\u001b[0m \u001b[0;34m\u001b[0m\u001b[0m\n",
            "\u001b[0;32m/usr/local/lib/python3.10/dist-packages/tensorflow/python/util/nest.py\u001b[0m in \u001b[0;36mmap_structure\u001b[0;34m(func, *structure, **kwargs)\u001b[0m\n\u001b[1;32m    915\u001b[0m \u001b[0;34m\u001b[0m\u001b[0m\n\u001b[1;32m    916\u001b[0m   return pack_sequence_as(\n\u001b[0;32m--> 917\u001b[0;31m       \u001b[0mstructure\u001b[0m\u001b[0;34m[\u001b[0m\u001b[0;36m0\u001b[0m\u001b[0;34m]\u001b[0m\u001b[0;34m,\u001b[0m \u001b[0;34m[\u001b[0m\u001b[0mfunc\u001b[0m\u001b[0;34m(\u001b[0m\u001b[0;34m*\u001b[0m\u001b[0mx\u001b[0m\u001b[0;34m)\u001b[0m \u001b[0;32mfor\u001b[0m \u001b[0mx\u001b[0m \u001b[0;32min\u001b[0m \u001b[0mentries\u001b[0m\u001b[0;34m]\u001b[0m\u001b[0;34m,\u001b[0m\u001b[0;34m\u001b[0m\u001b[0;34m\u001b[0m\u001b[0m\n\u001b[0m\u001b[1;32m    918\u001b[0m       expand_composites=expand_composites)\n\u001b[1;32m    919\u001b[0m \u001b[0;34m\u001b[0m\u001b[0m\n",
            "\u001b[0;32m/usr/local/lib/python3.10/dist-packages/tensorflow/python/util/nest.py\u001b[0m in \u001b[0;36m<listcomp>\u001b[0;34m(.0)\u001b[0m\n\u001b[1;32m    915\u001b[0m \u001b[0;34m\u001b[0m\u001b[0m\n\u001b[1;32m    916\u001b[0m   return pack_sequence_as(\n\u001b[0;32m--> 917\u001b[0;31m       \u001b[0mstructure\u001b[0m\u001b[0;34m[\u001b[0m\u001b[0;36m0\u001b[0m\u001b[0;34m]\u001b[0m\u001b[0;34m,\u001b[0m \u001b[0;34m[\u001b[0m\u001b[0mfunc\u001b[0m\u001b[0;34m(\u001b[0m\u001b[0;34m*\u001b[0m\u001b[0mx\u001b[0m\u001b[0;34m)\u001b[0m \u001b[0;32mfor\u001b[0m \u001b[0mx\u001b[0m \u001b[0;32min\u001b[0m \u001b[0mentries\u001b[0m\u001b[0;34m]\u001b[0m\u001b[0;34m,\u001b[0m\u001b[0;34m\u001b[0m\u001b[0;34m\u001b[0m\u001b[0m\n\u001b[0m\u001b[1;32m    918\u001b[0m       expand_composites=expand_composites)\n\u001b[1;32m    919\u001b[0m \u001b[0;34m\u001b[0m\u001b[0m\n",
            "\u001b[0;32m/usr/local/lib/python3.10/dist-packages/keras/utils/tf_utils.py\u001b[0m in \u001b[0;36m_to_single_numpy_or_python_type\u001b[0;34m(t)\u001b[0m\n\u001b[1;32m    671\u001b[0m         \u001b[0;31m# Don't turn ragged or sparse tensors to NumPy.\u001b[0m\u001b[0;34m\u001b[0m\u001b[0;34m\u001b[0m\u001b[0m\n\u001b[1;32m    672\u001b[0m         \u001b[0;32mif\u001b[0m \u001b[0misinstance\u001b[0m\u001b[0;34m(\u001b[0m\u001b[0mt\u001b[0m\u001b[0;34m,\u001b[0m \u001b[0mtf\u001b[0m\u001b[0;34m.\u001b[0m\u001b[0mTensor\u001b[0m\u001b[0;34m)\u001b[0m\u001b[0;34m:\u001b[0m\u001b[0;34m\u001b[0m\u001b[0;34m\u001b[0m\u001b[0m\n\u001b[0;32m--> 673\u001b[0;31m             \u001b[0mt\u001b[0m \u001b[0;34m=\u001b[0m \u001b[0mt\u001b[0m\u001b[0;34m.\u001b[0m\u001b[0mnumpy\u001b[0m\u001b[0;34m(\u001b[0m\u001b[0;34m)\u001b[0m\u001b[0;34m\u001b[0m\u001b[0;34m\u001b[0m\u001b[0m\n\u001b[0m\u001b[1;32m    674\u001b[0m         \u001b[0;31m# Strings, ragged and sparse tensors don't have .item(). Return them\u001b[0m\u001b[0;34m\u001b[0m\u001b[0;34m\u001b[0m\u001b[0m\n\u001b[1;32m    675\u001b[0m         \u001b[0;31m# as-is.\u001b[0m\u001b[0;34m\u001b[0m\u001b[0;34m\u001b[0m\u001b[0m\n",
            "\u001b[0;32m/usr/local/lib/python3.10/dist-packages/tensorflow/python/framework/ops.py\u001b[0m in \u001b[0;36mnumpy\u001b[0;34m(self)\u001b[0m\n\u001b[1;32m   1158\u001b[0m     \"\"\"\n\u001b[1;32m   1159\u001b[0m     \u001b[0;31m# TODO(slebedev): Consider avoiding a copy for non-CPU or remote tensors.\u001b[0m\u001b[0;34m\u001b[0m\u001b[0;34m\u001b[0m\u001b[0m\n\u001b[0;32m-> 1160\u001b[0;31m     \u001b[0mmaybe_arr\u001b[0m \u001b[0;34m=\u001b[0m \u001b[0mself\u001b[0m\u001b[0;34m.\u001b[0m\u001b[0m_numpy\u001b[0m\u001b[0;34m(\u001b[0m\u001b[0;34m)\u001b[0m  \u001b[0;31m# pylint: disable=protected-access\u001b[0m\u001b[0;34m\u001b[0m\u001b[0;34m\u001b[0m\u001b[0m\n\u001b[0m\u001b[1;32m   1161\u001b[0m     \u001b[0;32mreturn\u001b[0m \u001b[0mmaybe_arr\u001b[0m\u001b[0;34m.\u001b[0m\u001b[0mcopy\u001b[0m\u001b[0;34m(\u001b[0m\u001b[0;34m)\u001b[0m \u001b[0;32mif\u001b[0m \u001b[0misinstance\u001b[0m\u001b[0;34m(\u001b[0m\u001b[0mmaybe_arr\u001b[0m\u001b[0;34m,\u001b[0m \u001b[0mnp\u001b[0m\u001b[0;34m.\u001b[0m\u001b[0mndarray\u001b[0m\u001b[0;34m)\u001b[0m \u001b[0;32melse\u001b[0m \u001b[0mmaybe_arr\u001b[0m\u001b[0;34m\u001b[0m\u001b[0;34m\u001b[0m\u001b[0m\n\u001b[1;32m   1162\u001b[0m \u001b[0;34m\u001b[0m\u001b[0m\n",
            "\u001b[0;32m/usr/local/lib/python3.10/dist-packages/tensorflow/python/framework/ops.py\u001b[0m in \u001b[0;36m_numpy\u001b[0;34m(self)\u001b[0m\n\u001b[1;32m   1124\u001b[0m   \u001b[0;32mdef\u001b[0m \u001b[0m_numpy\u001b[0m\u001b[0;34m(\u001b[0m\u001b[0mself\u001b[0m\u001b[0;34m)\u001b[0m\u001b[0;34m:\u001b[0m\u001b[0;34m\u001b[0m\u001b[0;34m\u001b[0m\u001b[0m\n\u001b[1;32m   1125\u001b[0m     \u001b[0;32mtry\u001b[0m\u001b[0;34m:\u001b[0m\u001b[0;34m\u001b[0m\u001b[0;34m\u001b[0m\u001b[0m\n\u001b[0;32m-> 1126\u001b[0;31m       \u001b[0;32mreturn\u001b[0m \u001b[0mself\u001b[0m\u001b[0;34m.\u001b[0m\u001b[0m_numpy_internal\u001b[0m\u001b[0;34m(\u001b[0m\u001b[0;34m)\u001b[0m\u001b[0;34m\u001b[0m\u001b[0;34m\u001b[0m\u001b[0m\n\u001b[0m\u001b[1;32m   1127\u001b[0m     \u001b[0;32mexcept\u001b[0m \u001b[0mcore\u001b[0m\u001b[0;34m.\u001b[0m\u001b[0m_NotOkStatusException\u001b[0m \u001b[0;32mas\u001b[0m \u001b[0me\u001b[0m\u001b[0;34m:\u001b[0m  \u001b[0;31m# pylint: disable=protected-access\u001b[0m\u001b[0;34m\u001b[0m\u001b[0;34m\u001b[0m\u001b[0m\n\u001b[1;32m   1128\u001b[0m       \u001b[0;32mraise\u001b[0m \u001b[0mcore\u001b[0m\u001b[0;34m.\u001b[0m\u001b[0m_status_to_exception\u001b[0m\u001b[0;34m(\u001b[0m\u001b[0me\u001b[0m\u001b[0;34m)\u001b[0m \u001b[0;32mfrom\u001b[0m \u001b[0;32mNone\u001b[0m  \u001b[0;31m# pylint: disable=protected-access\u001b[0m\u001b[0;34m\u001b[0m\u001b[0;34m\u001b[0m\u001b[0m\n",
            "\u001b[0;31mKeyboardInterrupt\u001b[0m: "
          ]
        }
      ]
    },
    {
      "cell_type": "code",
      "source": [],
      "metadata": {
        "id": "kcpjBCv_ckBI"
      },
      "execution_count": null,
      "outputs": []
    }
  ],
  "metadata": {
    "accelerator": "GPU",
    "colab": {
      "provenance": [],
      "gpuType": "T4"
    },
    "gpuClass": "standard",
    "kernelspec": {
      "display_name": "Python 3",
      "name": "python3"
    },
    "language_info": {
      "name": "python"
    }
  },
  "nbformat": 4,
  "nbformat_minor": 0
}