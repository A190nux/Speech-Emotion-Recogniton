{
  "cells": [
    {
      "cell_type": "code",
      "source": [
        "!pip install audiomentations"
      ],
      "metadata": {
        "id": "ioEPduLUVoRG",
        "outputId": "4b59a9f5-408c-47e8-fe89-2696f28f9b52",
        "colab": {
          "base_uri": "https://localhost:8080/"
        }
      },
      "execution_count": 1,
      "outputs": [
        {
          "output_type": "stream",
          "name": "stdout",
          "text": [
            "Looking in indexes: https://pypi.org/simple, https://us-python.pkg.dev/colab-wheels/public/simple/\n",
            "Collecting audiomentations\n",
            "  Downloading audiomentations-0.30.0-py3-none-any.whl (68 kB)\n",
            "\u001b[2K     \u001b[90m━━━━━━━━━━━━━━━━━━━━━━━━━━━━━━━━━━━━━━━━\u001b[0m \u001b[32m68.8/68.8 kB\u001b[0m \u001b[31m2.7 MB/s\u001b[0m eta \u001b[36m0:00:00\u001b[0m\n",
            "\u001b[?25hRequirement already satisfied: numpy>=1.13.0 in /usr/local/lib/python3.10/dist-packages (from audiomentations) (1.22.4)\n",
            "Collecting librosa<0.10.0,>0.7.2 (from audiomentations)\n",
            "  Downloading librosa-0.9.2-py3-none-any.whl (214 kB)\n",
            "\u001b[2K     \u001b[90m━━━━━━━━━━━━━━━━━━━━━━━━━━━━━━━━━━━━━━\u001b[0m \u001b[32m214.3/214.3 kB\u001b[0m \u001b[31m13.4 MB/s\u001b[0m eta \u001b[36m0:00:00\u001b[0m\n",
            "\u001b[?25hRequirement already satisfied: scipy<2,>=1.0.0 in /usr/local/lib/python3.10/dist-packages (from audiomentations) (1.10.1)\n",
            "Requirement already satisfied: audioread>=2.1.9 in /usr/local/lib/python3.10/dist-packages (from librosa<0.10.0,>0.7.2->audiomentations) (3.0.0)\n",
            "Requirement already satisfied: scikit-learn>=0.19.1 in /usr/local/lib/python3.10/dist-packages (from librosa<0.10.0,>0.7.2->audiomentations) (1.2.2)\n",
            "Requirement already satisfied: joblib>=0.14 in /usr/local/lib/python3.10/dist-packages (from librosa<0.10.0,>0.7.2->audiomentations) (1.2.0)\n",
            "Requirement already satisfied: decorator>=4.0.10 in /usr/local/lib/python3.10/dist-packages (from librosa<0.10.0,>0.7.2->audiomentations) (4.4.2)\n",
            "Collecting resampy>=0.2.2 (from librosa<0.10.0,>0.7.2->audiomentations)\n",
            "  Downloading resampy-0.4.2-py3-none-any.whl (3.1 MB)\n",
            "\u001b[2K     \u001b[90m━━━━━━━━━━━━━━━━━━━━━━━━━━━━━━━━━━━━━━━━\u001b[0m \u001b[32m3.1/3.1 MB\u001b[0m \u001b[31m68.6 MB/s\u001b[0m eta \u001b[36m0:00:00\u001b[0m\n",
            "\u001b[?25hRequirement already satisfied: numba>=0.45.1 in /usr/local/lib/python3.10/dist-packages (from librosa<0.10.0,>0.7.2->audiomentations) (0.56.4)\n",
            "Requirement already satisfied: soundfile>=0.10.2 in /usr/local/lib/python3.10/dist-packages (from librosa<0.10.0,>0.7.2->audiomentations) (0.12.1)\n",
            "Requirement already satisfied: pooch>=1.0 in /usr/local/lib/python3.10/dist-packages (from librosa<0.10.0,>0.7.2->audiomentations) (1.6.0)\n",
            "Requirement already satisfied: packaging>=20.0 in /usr/local/lib/python3.10/dist-packages (from librosa<0.10.0,>0.7.2->audiomentations) (23.1)\n",
            "Requirement already satisfied: llvmlite<0.40,>=0.39.0dev0 in /usr/local/lib/python3.10/dist-packages (from numba>=0.45.1->librosa<0.10.0,>0.7.2->audiomentations) (0.39.1)\n",
            "Requirement already satisfied: setuptools in /usr/local/lib/python3.10/dist-packages (from numba>=0.45.1->librosa<0.10.0,>0.7.2->audiomentations) (67.7.2)\n",
            "Requirement already satisfied: appdirs>=1.3.0 in /usr/local/lib/python3.10/dist-packages (from pooch>=1.0->librosa<0.10.0,>0.7.2->audiomentations) (1.4.4)\n",
            "Requirement already satisfied: requests>=2.19.0 in /usr/local/lib/python3.10/dist-packages (from pooch>=1.0->librosa<0.10.0,>0.7.2->audiomentations) (2.27.1)\n",
            "Requirement already satisfied: threadpoolctl>=2.0.0 in /usr/local/lib/python3.10/dist-packages (from scikit-learn>=0.19.1->librosa<0.10.0,>0.7.2->audiomentations) (3.1.0)\n",
            "Requirement already satisfied: cffi>=1.0 in /usr/local/lib/python3.10/dist-packages (from soundfile>=0.10.2->librosa<0.10.0,>0.7.2->audiomentations) (1.15.1)\n",
            "Requirement already satisfied: pycparser in /usr/local/lib/python3.10/dist-packages (from cffi>=1.0->soundfile>=0.10.2->librosa<0.10.0,>0.7.2->audiomentations) (2.21)\n",
            "Requirement already satisfied: urllib3<1.27,>=1.21.1 in /usr/local/lib/python3.10/dist-packages (from requests>=2.19.0->pooch>=1.0->librosa<0.10.0,>0.7.2->audiomentations) (1.26.15)\n",
            "Requirement already satisfied: certifi>=2017.4.17 in /usr/local/lib/python3.10/dist-packages (from requests>=2.19.0->pooch>=1.0->librosa<0.10.0,>0.7.2->audiomentations) (2022.12.7)\n",
            "Requirement already satisfied: charset-normalizer~=2.0.0 in /usr/local/lib/python3.10/dist-packages (from requests>=2.19.0->pooch>=1.0->librosa<0.10.0,>0.7.2->audiomentations) (2.0.12)\n",
            "Requirement already satisfied: idna<4,>=2.5 in /usr/local/lib/python3.10/dist-packages (from requests>=2.19.0->pooch>=1.0->librosa<0.10.0,>0.7.2->audiomentations) (3.4)\n",
            "Installing collected packages: resampy, librosa, audiomentations\n",
            "  Attempting uninstall: librosa\n",
            "    Found existing installation: librosa 0.10.0.post2\n",
            "    Uninstalling librosa-0.10.0.post2:\n",
            "      Successfully uninstalled librosa-0.10.0.post2\n",
            "Successfully installed audiomentations-0.30.0 librosa-0.9.2 resampy-0.4.2\n"
          ]
        }
      ]
    },
    {
      "cell_type": "code",
      "execution_count": 3,
      "metadata": {
        "id": "z1LtRnT4W4mY"
      },
      "outputs": [],
      "source": [
        "import numpy as np\n",
        "import pandas as pd\n",
        "import matplotlib.pyplot as plt\n",
        "from pathlib import Path\n",
        "from scipy.io import wavfile\n",
        "import os.path\n",
        "import IPython.display\n",
        "import seaborn as sns\n",
        "import librosa\n",
        "import librosa.display\n",
        "import soundfile\n",
        "from audiomentations import Compose, AddGaussianNoise, TimeStretch, PitchShift\n",
        "\n",
        "from sklearn.model_selection import train_test_split\n",
        "from sklearn.preprocessing import StandardScaler, LabelEncoder\n",
        "from sklearn.metrics import confusion_matrix\n",
        "\n",
        "import tensorflow as tf\n",
        "from tensorflow.keras import utils\n",
        "from keras.models import Sequential\n",
        "from keras.layers import Dense, Dropout, Activation, Conv1D, MaxPooling1D, Flatten, BatchNormalization\n",
        "from tensorflow.keras.models import Sequential\n",
        "from tensorflow.keras.layers import Conv2D, MaxPooling2D, Flatten, Dense, Dropout\n",
        "from keras import optimizers\n",
        "\n",
        "from keras import optimizers,regularizers\n",
        "from tensorflow.python.keras.callbacks import ModelCheckpoint\n",
        "from tensorflow.keras.callbacks import ModelCheckpoint, EarlyStopping\n",
        "from sklearn.decomposition import PCA\n",
        "import warnings"
      ]
    },
    {
      "cell_type": "code",
      "execution_count": 2,
      "metadata": {
        "colab": {
          "base_uri": "https://localhost:8080/"
        },
        "id": "5GTtnPFfW87P",
        "outputId": "7d647bc2-5bd1-4041-c3b3-4d8eeaf53eed"
      },
      "outputs": [
        {
          "output_type": "stream",
          "name": "stdout",
          "text": [
            "Looking in indexes: https://pypi.org/simple, https://us-python.pkg.dev/colab-wheels/public/simple/\n",
            "Collecting pydub\n",
            "  Downloading pydub-0.25.1-py2.py3-none-any.whl (32 kB)\n",
            "Installing collected packages: pydub\n",
            "Successfully installed pydub-0.25.1\n",
            "Looking in indexes: https://pypi.org/simple, https://us-python.pkg.dev/colab-wheels/public/simple/\n",
            "Requirement already satisfied: audiomentations in /usr/local/lib/python3.10/dist-packages (0.30.0)\n",
            "Requirement already satisfied: numpy>=1.13.0 in /usr/local/lib/python3.10/dist-packages (from audiomentations) (1.22.4)\n",
            "Requirement already satisfied: librosa<0.10.0,>0.7.2 in /usr/local/lib/python3.10/dist-packages (from audiomentations) (0.9.2)\n",
            "Requirement already satisfied: scipy<2,>=1.0.0 in /usr/local/lib/python3.10/dist-packages (from audiomentations) (1.10.1)\n",
            "Requirement already satisfied: audioread>=2.1.9 in /usr/local/lib/python3.10/dist-packages (from librosa<0.10.0,>0.7.2->audiomentations) (3.0.0)\n",
            "Requirement already satisfied: scikit-learn>=0.19.1 in /usr/local/lib/python3.10/dist-packages (from librosa<0.10.0,>0.7.2->audiomentations) (1.2.2)\n",
            "Requirement already satisfied: joblib>=0.14 in /usr/local/lib/python3.10/dist-packages (from librosa<0.10.0,>0.7.2->audiomentations) (1.2.0)\n",
            "Requirement already satisfied: decorator>=4.0.10 in /usr/local/lib/python3.10/dist-packages (from librosa<0.10.0,>0.7.2->audiomentations) (4.4.2)\n",
            "Requirement already satisfied: resampy>=0.2.2 in /usr/local/lib/python3.10/dist-packages (from librosa<0.10.0,>0.7.2->audiomentations) (0.4.2)\n",
            "Requirement already satisfied: numba>=0.45.1 in /usr/local/lib/python3.10/dist-packages (from librosa<0.10.0,>0.7.2->audiomentations) (0.56.4)\n",
            "Requirement already satisfied: soundfile>=0.10.2 in /usr/local/lib/python3.10/dist-packages (from librosa<0.10.0,>0.7.2->audiomentations) (0.12.1)\n",
            "Requirement already satisfied: pooch>=1.0 in /usr/local/lib/python3.10/dist-packages (from librosa<0.10.0,>0.7.2->audiomentations) (1.6.0)\n",
            "Requirement already satisfied: packaging>=20.0 in /usr/local/lib/python3.10/dist-packages (from librosa<0.10.0,>0.7.2->audiomentations) (23.1)\n",
            "Requirement already satisfied: llvmlite<0.40,>=0.39.0dev0 in /usr/local/lib/python3.10/dist-packages (from numba>=0.45.1->librosa<0.10.0,>0.7.2->audiomentations) (0.39.1)\n",
            "Requirement already satisfied: setuptools in /usr/local/lib/python3.10/dist-packages (from numba>=0.45.1->librosa<0.10.0,>0.7.2->audiomentations) (67.7.2)\n",
            "Requirement already satisfied: appdirs>=1.3.0 in /usr/local/lib/python3.10/dist-packages (from pooch>=1.0->librosa<0.10.0,>0.7.2->audiomentations) (1.4.4)\n",
            "Requirement already satisfied: requests>=2.19.0 in /usr/local/lib/python3.10/dist-packages (from pooch>=1.0->librosa<0.10.0,>0.7.2->audiomentations) (2.27.1)\n",
            "Requirement already satisfied: threadpoolctl>=2.0.0 in /usr/local/lib/python3.10/dist-packages (from scikit-learn>=0.19.1->librosa<0.10.0,>0.7.2->audiomentations) (3.1.0)\n",
            "Requirement already satisfied: cffi>=1.0 in /usr/local/lib/python3.10/dist-packages (from soundfile>=0.10.2->librosa<0.10.0,>0.7.2->audiomentations) (1.15.1)\n",
            "Requirement already satisfied: pycparser in /usr/local/lib/python3.10/dist-packages (from cffi>=1.0->soundfile>=0.10.2->librosa<0.10.0,>0.7.2->audiomentations) (2.21)\n",
            "Requirement already satisfied: urllib3<1.27,>=1.21.1 in /usr/local/lib/python3.10/dist-packages (from requests>=2.19.0->pooch>=1.0->librosa<0.10.0,>0.7.2->audiomentations) (1.26.15)\n",
            "Requirement already satisfied: certifi>=2017.4.17 in /usr/local/lib/python3.10/dist-packages (from requests>=2.19.0->pooch>=1.0->librosa<0.10.0,>0.7.2->audiomentations) (2022.12.7)\n",
            "Requirement already satisfied: charset-normalizer~=2.0.0 in /usr/local/lib/python3.10/dist-packages (from requests>=2.19.0->pooch>=1.0->librosa<0.10.0,>0.7.2->audiomentations) (2.0.12)\n",
            "Requirement already satisfied: idna<4,>=2.5 in /usr/local/lib/python3.10/dist-packages (from requests>=2.19.0->pooch>=1.0->librosa<0.10.0,>0.7.2->audiomentations) (3.4)\n"
          ]
        }
      ],
      "source": [
        "!pip install pydub\n",
        "!pip install audiomentations"
      ]
    },
    {
      "cell_type": "code",
      "execution_count": 4,
      "metadata": {
        "colab": {
          "base_uri": "https://localhost:8080/"
        },
        "id": "1nQjexIlW-Su",
        "outputId": "24154fc9-5799-4256-c396-fef3ebcf5126"
      },
      "outputs": [
        {
          "output_type": "stream",
          "name": "stdout",
          "text": [
            "Mounted at /content/drive\n"
          ]
        }
      ],
      "source": [
        "import re\n",
        "import os\n",
        "import wave\n",
        "import glob\n",
        "import numpy as np\n",
        "import pandas as pd\n",
        "import matplotlib.pyplot as plt\n",
        "from pydub import AudioSegment\n",
        "from IPython.display import Audio, display\n",
        "import librosa as lib\n",
        "import librosa.display\n",
        "\n",
        "from google.colab import drive\n",
        "drive.mount('/content/drive')"
      ]
    },
    {
      "cell_type": "code",
      "execution_count": 5,
      "metadata": {
        "id": "Y2JiRL40XJSK"
      },
      "outputs": [],
      "source": [
        "PATH = \"/content/drive/MyDrive/Colab Notebooks/Crema\"\n",
        "AUDIO_PATH = \"/content/drive/MyDrive/Colab Notebooks/Crema/1001_DFA_ANG_XX.wav\""
      ]
    },
    {
      "cell_type": "code",
      "source": [
        "def zeroCrossingRate(audio):\n",
        "  return lib.feature.zero_crossing_rate(audio)"
      ],
      "metadata": {
        "id": "hZRUzrRHI3x4"
      },
      "execution_count": 6,
      "outputs": []
    },
    {
      "cell_type": "code",
      "source": [
        "def energy(audio):\n",
        "  # using a spectrogram will give a more accurate representation\n",
        "  # of energy over time because its frames can be windowed\n",
        "  S, phase = lib.magphase(lib.stft(audio))\n",
        "  return lib.feature.rms(S=S).mean()"
      ],
      "metadata": {
        "id": "YUj1b0stI8Jp"
      },
      "execution_count": 7,
      "outputs": []
    },
    {
      "cell_type": "code",
      "source": [
        "def chromaStft(audio, sr):\n",
        "  stft = np.abs(librosa.stft(audio))\n",
        "  return librosa.feature.chroma_stft(S=stft, sr=sr, n_fft=200).mean()"
      ],
      "metadata": {
        "id": "RFqdKI4dj-sx"
      },
      "execution_count": 8,
      "outputs": []
    },
    {
      "cell_type": "code",
      "source": [
        "def mfcc(data, sr):\n",
        "  return librosa.feature.mfcc(y=data, sr=sr, n_fft=200).mean()"
      ],
      "metadata": {
        "id": "bwJma-zak5ai"
      },
      "execution_count": 9,
      "outputs": []
    },
    {
      "cell_type": "code",
      "execution_count": 10,
      "metadata": {
        "id": "t03kfNaMJEUx"
      },
      "outputs": [],
      "source": [
        "def melSpectrogram(audio, sr):\n",
        "  mel_spectrogram = lib.feature.melspectrogram(y=audio, sr=sr, n_fft=200, n_mels=64)\n",
        "  log_mel_spectrogram = librosa.power_to_db(mel_spectrogram)\n",
        "  return log_mel_spectrogram"
      ]
    },
    {
      "cell_type": "code",
      "execution_count": 11,
      "metadata": {
        "id": "GZLRcaVEinfV"
      },
      "outputs": [],
      "source": [
        "def playAudio(audio_file):\n",
        "  audio = AudioSegment.from_wav(audio_file)\n",
        "  # Play the audio\n",
        "  audio.export('temp_audio.wav', format='wav')\n",
        "  audio_data = open('temp_audio.wav', 'rb').read()\n",
        "  display(Audio(audio_data))\n",
        "  # Delete the temporary audio file\n",
        "  os.remove('temp_audio.wav')"
      ]
    },
    {
      "cell_type": "code",
      "execution_count": 12,
      "metadata": {
        "id": "VErUAYc_mIzR"
      },
      "outputs": [],
      "source": [
        "def visualize_waveform(audio, sr):\n",
        "    plt.figure(figsize=(12, 4))\n",
        "    plt.plot(audio)\n",
        "    plt.xlabel('Time')\n",
        "    plt.ylabel('Amplitude')\n",
        "    plt.title('Waveform')\n",
        "    plt.show()"
      ]
    },
    {
      "cell_type": "code",
      "execution_count": 13,
      "metadata": {
        "id": "xrXZclbPVgB4"
      },
      "outputs": [],
      "source": [
        "def splitData(dataset_path):\n",
        "  audio_files = glob.glob(os.path.join(dataset_path, \"*.wav\"))\n",
        "  audio_train, audio_test = train_test_split(audio_files, test_size=0.3, random_state=42, shuffle=True)\n",
        "  return audio_train, audio_test"
      ]
    },
    {
      "cell_type": "code",
      "execution_count": 14,
      "metadata": {
        "id": "7EIOYeWGWM-f"
      },
      "outputs": [],
      "source": [
        "D_train, D_test = splitData(PATH)"
      ]
    },
    {
      "cell_type": "code",
      "execution_count": 15,
      "metadata": {
        "colab": {
          "base_uri": "https://localhost:8080/"
        },
        "id": "YpC8Jy1nWg0t",
        "outputId": "28016a1a-c1d3-46e6-9226-57c69081830e"
      },
      "outputs": [
        {
          "output_type": "stream",
          "name": "stdout",
          "text": [
            "5216 2236\n"
          ]
        }
      ],
      "source": [
        "print(len(D_train), len(D_test))"
      ]
    },
    {
      "cell_type": "code",
      "execution_count": 16,
      "metadata": {
        "colab": {
          "base_uri": "https://localhost:8080/",
          "height": 35
        },
        "id": "9RqTKlDHXq-f",
        "outputId": "98163077-873d-44fa-ce73-3a2b5be74551"
      },
      "outputs": [
        {
          "output_type": "execute_result",
          "data": {
            "text/plain": [
              "'/content/drive/MyDrive/Colab Notebooks/Crema/1017_IEO_SAD_HI.wav'"
            ],
            "application/vnd.google.colaboratory.intrinsic+json": {
              "type": "string"
            }
          },
          "metadata": {},
          "execution_count": 16
        }
      ],
      "source": [
        "D_test[0]"
      ]
    },
    {
      "cell_type": "code",
      "execution_count": 17,
      "metadata": {
        "id": "EgU38C-idTBu"
      },
      "outputs": [],
      "source": [
        "def getMaxLen(audio_files):\n",
        "  max_length = 0\n",
        "  for audio_file in audio_files:\n",
        "    audio, _ = librosa.load(audio_file)\n",
        "    length = len(audio)\n",
        "    max_length = max(max_length, length)\n",
        "  return max_length"
      ]
    },
    {
      "cell_type": "code",
      "source": [
        "def loadAudioTime(audio_files):\n",
        "  classes = [\"SAD\", \"ANG\", \"DIS\", \"FEA\", \"HAP\", \"NEU\"]\n",
        "  # for data augmentation\n",
        "  augmentations = Compose([\n",
        "    AddGaussianNoise(min_amplitude=0.001, max_amplitude=0.01, p=0.5),\n",
        "    TimeStretch(min_rate=0.8, max_rate=1.2, p=0.5),\n",
        "    PitchShift(min_semitones=-4, max_semitones=4, p=0.5)\n",
        "])\n",
        "  # max_length = getMaxLen(audio_files)\n",
        "  max_length = 200\n",
        "  D, Y = [], []\n",
        "  for audio_file in audio_files: \n",
        "    # load the audio file\n",
        "    audio, sr = lib.load(audio_file, sr=4444)\n",
        "    # extract zero crossing rate\n",
        "    zcr = zeroCrossingRate(audio)\n",
        "    # extract energy\n",
        "    rms = energy(audio)\n",
        "    # chroma stft\n",
        "    cs = chromaStft(audio, sr)\n",
        "    # mfcc\n",
        "    mfc = mfcc(audio, sr)\n",
        "    # extract mel spectrogram\n",
        "    mel_spec = melSpectrogram(audio, sr).mean()\n",
        "    combined_features = np.concatenate(([rms, cs, mfc, mel_spec], (np.pad(zcr[0], (0, 300 - len(zcr[0]))))))\n",
        "    D.append(combined_features)\n",
        "    for cls in classes:\n",
        "      if re.search(cls, audio_file): Y.append(cls)\n",
        "    # don't augment every example\n",
        "    if np.random.rand() >= 0.5:\n",
        "      augmented_audio = augmentations(samples=audio, sample_rate=sr)\n",
        "      # extract zero crossing rate\n",
        "      zcr = zeroCrossingRate(augmented_audio)\n",
        "      # extract energy\n",
        "      rms = energy(augmented_audio)\n",
        "      # chroma stft\n",
        "      cs = chromaStft(augmented_audio, sr)\n",
        "      # mfcc\n",
        "      mfc = mfcc(augmented_audio, sr)\n",
        "      # extract mel spectrogram\n",
        "      mel_spec = melSpectrogram(augmented_audio, sr).mean()\n",
        "      combined_features = np.concatenate(([rms, cs, mfc, mel_spec], (np.pad(zcr[0], (0, 300 - len(zcr[0]))))))\n",
        "      D.append(combined_features)\n",
        "      for cls in classes:\n",
        "        if re.search(cls, audio_file): Y.append(cls)\n",
        "  return D, Y"
      ],
      "metadata": {
        "id": "cbqGt6YB-xbJ"
      },
      "execution_count": 18,
      "outputs": []
    },
    {
      "cell_type": "code",
      "execution_count": 19,
      "metadata": {
        "id": "yMgXIyyNYSFb"
      },
      "outputs": [],
      "source": [
        "def loadAudioFreq(audio_files):\n",
        "  classes = [\"SAD\", \"ANG\", \"DIS\", \"FEA\", \"HAP\", \"NEU\"]\n",
        "  # for data augmentation\n",
        "  augmentations = Compose([\n",
        "    AddGaussianNoise(min_amplitude=0.001, max_amplitude=0.01, p=0.5),\n",
        "    TimeStretch(min_rate=0.8, max_rate=1.2, p=0.5),\n",
        "    PitchShift(min_semitones=-4, max_semitones=4, p=0.5)\n",
        "])\n",
        "  # max_length = getMaxLen(audio_files)\n",
        "  max_length = 200\n",
        "  D, Y = [], []\n",
        "  for audio_file in audio_files: \n",
        "    # load the audio file\n",
        "    audio, sr = lib.load(audio_file, sr=4444)\n",
        "    # extract mel spectrogram\n",
        "    mel_spec = melSpectrogram(audio, sr)\n",
        "    D.append(mel_spec)\n",
        "    for cls in classes:\n",
        "      if re.search(cls, audio_file): Y.append(cls)\n",
        "    # don't augment every example\n",
        "    if np.random.rand() >= 0.5:\n",
        "      augmented_audio = augmentations(samples=audio, sample_rate=sr)\n",
        "      mel_spec_aug = melSpectrogram(augmented_audio, sr)\n",
        "      D.append(mel_spec_aug)\n",
        "      for cls in classes:\n",
        "        if re.search(cls, audio_file): Y.append(cls)\n",
        "  return D, Y"
      ]
    },
    {
      "cell_type": "markdown",
      "source": [
        "## Time Domain Model"
      ],
      "metadata": {
        "id": "XwjLK8nELd6H"
      }
    },
    {
      "cell_type": "code",
      "source": [
        "D_time, Y_time = loadAudioTime(D_train)"
      ],
      "metadata": {
        "colab": {
          "base_uri": "https://localhost:8080/"
        },
        "id": "R1mGR_wWGc75",
        "outputId": "bf631d00-acc1-4308-f1ef-ce76835b3ffa"
      },
      "execution_count": 20,
      "outputs": [
        {
          "output_type": "stream",
          "name": "stderr",
          "text": [
            "/usr/local/lib/python3.10/dist-packages/librosa/util/decorators.py:88: UserWarning: Trying to estimate tuning from empty frequency set.\n",
            "  return f(*args, **kwargs)\n"
          ]
        }
      ]
    },
    {
      "cell_type": "code",
      "source": [
        "D_time = np.array(D_time)\n",
        "D_time.shape"
      ],
      "metadata": {
        "colab": {
          "base_uri": "https://localhost:8080/"
        },
        "id": "J7hz6ckbH3wL",
        "outputId": "90f2f949-c1a3-4d59-a8aa-55deffe4b3d7"
      },
      "execution_count": 21,
      "outputs": [
        {
          "output_type": "execute_result",
          "data": {
            "text/plain": [
              "(7808, 304)"
            ]
          },
          "metadata": {},
          "execution_count": 21
        }
      ]
    },
    {
      "cell_type": "code",
      "source": [
        "unicheck = np.unique(Y_time, axis=0)\n",
        "print(f\"Check on time domain:\\n{unicheck}\")"
      ],
      "metadata": {
        "colab": {
          "base_uri": "https://localhost:8080/"
        },
        "id": "GQ5AZ5vMGi4d",
        "outputId": "21f7859e-83c5-4a1d-d875-774f5a2fb5c5"
      },
      "execution_count": 22,
      "outputs": [
        {
          "output_type": "stream",
          "name": "stdout",
          "text": [
            "Check on time domain:\n",
            "['ANG' 'DIS' 'FEA' 'HAP' 'NEU' 'SAD']\n"
          ]
        }
      ]
    },
    {
      "cell_type": "code",
      "source": [
        "df_time = pd.DataFrame(Y_time)\n",
        "df_time.head()"
      ],
      "metadata": {
        "colab": {
          "base_uri": "https://localhost:8080/",
          "height": 206
        },
        "id": "2a8Cneh6GpQb",
        "outputId": "0f3e9668-4b62-44e3-9df1-b48044923990"
      },
      "execution_count": 23,
      "outputs": [
        {
          "output_type": "execute_result",
          "data": {
            "text/plain": [
              "     0\n",
              "0  SAD\n",
              "1  FEA\n",
              "2  SAD\n",
              "3  ANG\n",
              "4  SAD"
            ],
            "text/html": [
              "\n",
              "  <div id=\"df-6b87cdbe-7e35-4b0b-99e3-6808163b310c\">\n",
              "    <div class=\"colab-df-container\">\n",
              "      <div>\n",
              "<style scoped>\n",
              "    .dataframe tbody tr th:only-of-type {\n",
              "        vertical-align: middle;\n",
              "    }\n",
              "\n",
              "    .dataframe tbody tr th {\n",
              "        vertical-align: top;\n",
              "    }\n",
              "\n",
              "    .dataframe thead th {\n",
              "        text-align: right;\n",
              "    }\n",
              "</style>\n",
              "<table border=\"1\" class=\"dataframe\">\n",
              "  <thead>\n",
              "    <tr style=\"text-align: right;\">\n",
              "      <th></th>\n",
              "      <th>0</th>\n",
              "    </tr>\n",
              "  </thead>\n",
              "  <tbody>\n",
              "    <tr>\n",
              "      <th>0</th>\n",
              "      <td>SAD</td>\n",
              "    </tr>\n",
              "    <tr>\n",
              "      <th>1</th>\n",
              "      <td>FEA</td>\n",
              "    </tr>\n",
              "    <tr>\n",
              "      <th>2</th>\n",
              "      <td>SAD</td>\n",
              "    </tr>\n",
              "    <tr>\n",
              "      <th>3</th>\n",
              "      <td>ANG</td>\n",
              "    </tr>\n",
              "    <tr>\n",
              "      <th>4</th>\n",
              "      <td>SAD</td>\n",
              "    </tr>\n",
              "  </tbody>\n",
              "</table>\n",
              "</div>\n",
              "      <button class=\"colab-df-convert\" onclick=\"convertToInteractive('df-6b87cdbe-7e35-4b0b-99e3-6808163b310c')\"\n",
              "              title=\"Convert this dataframe to an interactive table.\"\n",
              "              style=\"display:none;\">\n",
              "        \n",
              "  <svg xmlns=\"http://www.w3.org/2000/svg\" height=\"24px\"viewBox=\"0 0 24 24\"\n",
              "       width=\"24px\">\n",
              "    <path d=\"M0 0h24v24H0V0z\" fill=\"none\"/>\n",
              "    <path d=\"M18.56 5.44l.94 2.06.94-2.06 2.06-.94-2.06-.94-.94-2.06-.94 2.06-2.06.94zm-11 1L8.5 8.5l.94-2.06 2.06-.94-2.06-.94L8.5 2.5l-.94 2.06-2.06.94zm10 10l.94 2.06.94-2.06 2.06-.94-2.06-.94-.94-2.06-.94 2.06-2.06.94z\"/><path d=\"M17.41 7.96l-1.37-1.37c-.4-.4-.92-.59-1.43-.59-.52 0-1.04.2-1.43.59L10.3 9.45l-7.72 7.72c-.78.78-.78 2.05 0 2.83L4 21.41c.39.39.9.59 1.41.59.51 0 1.02-.2 1.41-.59l7.78-7.78 2.81-2.81c.8-.78.8-2.07 0-2.86zM5.41 20L4 18.59l7.72-7.72 1.47 1.35L5.41 20z\"/>\n",
              "  </svg>\n",
              "      </button>\n",
              "      \n",
              "  <style>\n",
              "    .colab-df-container {\n",
              "      display:flex;\n",
              "      flex-wrap:wrap;\n",
              "      gap: 12px;\n",
              "    }\n",
              "\n",
              "    .colab-df-convert {\n",
              "      background-color: #E8F0FE;\n",
              "      border: none;\n",
              "      border-radius: 50%;\n",
              "      cursor: pointer;\n",
              "      display: none;\n",
              "      fill: #1967D2;\n",
              "      height: 32px;\n",
              "      padding: 0 0 0 0;\n",
              "      width: 32px;\n",
              "    }\n",
              "\n",
              "    .colab-df-convert:hover {\n",
              "      background-color: #E2EBFA;\n",
              "      box-shadow: 0px 1px 2px rgba(60, 64, 67, 0.3), 0px 1px 3px 1px rgba(60, 64, 67, 0.15);\n",
              "      fill: #174EA6;\n",
              "    }\n",
              "\n",
              "    [theme=dark] .colab-df-convert {\n",
              "      background-color: #3B4455;\n",
              "      fill: #D2E3FC;\n",
              "    }\n",
              "\n",
              "    [theme=dark] .colab-df-convert:hover {\n",
              "      background-color: #434B5C;\n",
              "      box-shadow: 0px 1px 3px 1px rgba(0, 0, 0, 0.15);\n",
              "      filter: drop-shadow(0px 1px 2px rgba(0, 0, 0, 0.3));\n",
              "      fill: #FFFFFF;\n",
              "    }\n",
              "  </style>\n",
              "\n",
              "      <script>\n",
              "        const buttonEl =\n",
              "          document.querySelector('#df-6b87cdbe-7e35-4b0b-99e3-6808163b310c button.colab-df-convert');\n",
              "        buttonEl.style.display =\n",
              "          google.colab.kernel.accessAllowed ? 'block' : 'none';\n",
              "\n",
              "        async function convertToInteractive(key) {\n",
              "          const element = document.querySelector('#df-6b87cdbe-7e35-4b0b-99e3-6808163b310c');\n",
              "          const dataTable =\n",
              "            await google.colab.kernel.invokeFunction('convertToInteractive',\n",
              "                                                     [key], {});\n",
              "          if (!dataTable) return;\n",
              "\n",
              "          const docLinkHtml = 'Like what you see? Visit the ' +\n",
              "            '<a target=\"_blank\" href=https://colab.research.google.com/notebooks/data_table.ipynb>data table notebook</a>'\n",
              "            + ' to learn more about interactive tables.';\n",
              "          element.innerHTML = '';\n",
              "          dataTable['output_type'] = 'display_data';\n",
              "          await google.colab.output.renderOutput(dataTable, element);\n",
              "          const docLink = document.createElement('div');\n",
              "          docLink.innerHTML = docLinkHtml;\n",
              "          element.appendChild(docLink);\n",
              "        }\n",
              "      </script>\n",
              "    </div>\n",
              "  </div>\n",
              "  "
            ]
          },
          "metadata": {},
          "execution_count": 23
        }
      ]
    },
    {
      "cell_type": "code",
      "source": [
        "# Use the get_dummies() method to one-hot encode the labels\n",
        "one_hot_labels = pd.get_dummies(df_time)\n",
        "\n",
        "# Convert the DataFrame to a NumPy array\n",
        "one_hot_labels = one_hot_labels.to_numpy()\n",
        "\n",
        "print(one_hot_labels.shape)"
      ],
      "metadata": {
        "colab": {
          "base_uri": "https://localhost:8080/"
        },
        "id": "P1HVgqTsGwmK",
        "outputId": "619efbd8-c94d-433f-cef7-fdc56c9dc94e"
      },
      "execution_count": 24,
      "outputs": [
        {
          "output_type": "stream",
          "name": "stdout",
          "text": [
            "(7808, 6)\n"
          ]
        }
      ]
    },
    {
      "cell_type": "code",
      "source": [
        "Y_time = one_hot_labels\n",
        "Y_time.shape"
      ],
      "metadata": {
        "colab": {
          "base_uri": "https://localhost:8080/"
        },
        "id": "scQpn-TuG-JM",
        "outputId": "1a86607a-632a-4dcc-f831-598c3ad97c33"
      },
      "execution_count": 25,
      "outputs": [
        {
          "output_type": "execute_result",
          "data": {
            "text/plain": [
              "(7808, 6)"
            ]
          },
          "metadata": {},
          "execution_count": 25
        }
      ]
    },
    {
      "cell_type": "code",
      "source": [
        "# Apply PCA to the data\n",
        "pca = PCA(n_components=200)\n",
        "D_pca = pca.fit_transform(D_time)"
      ],
      "metadata": {
        "id": "0ttXRBH6JztP"
      },
      "execution_count": 26,
      "outputs": []
    },
    {
      "cell_type": "code",
      "source": [
        "# Split the data into train and test sets\n",
        "x_train, x_test, y_train, y_test = train_test_split(np.array(D_pca), np.array(Y_time), test_size=0.05, random_state=69, shuffle=True, stratify=Y_time)\n",
        "print((x_train.shape, y_train.shape, x_test.shape, y_test.shape))\n",
        "\n",
        "x_train = x_train.reshape((x_train.shape[0], x_train.shape[1], 1))\n",
        "x_test = x_test.reshape((x_test.shape[0], x_test.shape[1], 1))\n",
        "\n",
        "model = Sequential()\n",
        "model.add(Conv1D(128, 3, input_shape=(x_train.shape[1], 1), kernel_regularizer=regularizers.l2(0.001)))\n",
        "model.add(BatchNormalization())\n",
        "model.add(Activation('relu'))\n",
        "model.add(MaxPooling1D(pool_size=2))\n",
        "\n",
        "model.add(Conv1D(256, 3, kernel_regularizer=regularizers.l2(0.001)))\n",
        "model.add(BatchNormalization())\n",
        "model.add(Activation('relu'))\n",
        "model.add(MaxPooling1D(pool_size=2))\n",
        "\n",
        "model.add(Conv1D(512, 3, kernel_regularizer=regularizers.l2(0.001)))\n",
        "model.add(BatchNormalization())\n",
        "model.add(Activation('relu'))\n",
        "model.add(MaxPooling1D(pool_size=2))\n",
        "\n",
        "model.add(Conv1D(1024, 3,  kernel_regularizer=regularizers.l2(0.001)))\n",
        "model.add(BatchNormalization())\n",
        "model.add(Activation('relu'))\n",
        "model.add(MaxPooling1D(pool_size=2))\n",
        "\n",
        "model.add(Flatten())\n",
        "model.add(Dense(512, kernel_regularizer=regularizers.l2(0.001)))\n",
        "model.add(BatchNormalization())\n",
        "model.add(Activation('relu'))\n",
        "model.add(Dropout(0.3))\n",
        "\n",
        "model.add(Dense(256, kernel_regularizer=regularizers.l2(0.001)))\n",
        "model.add(BatchNormalization())\n",
        "model.add(Activation('relu'))\n",
        "model.add(Dropout(0.2))\n",
        "\n",
        "model.add(Dense(128, kernel_regularizer=regularizers.l2(0.001)))\n",
        "model.add(BatchNormalization())\n",
        "model.add(Activation('relu'))\n",
        "model.add(Dropout(0.2))\n",
        "\n",
        "model.add(Dense(6, activation='softmax'))\n",
        "\n",
        "model.compile(loss='categorical_crossentropy',\n",
        "             optimizer=optimizers.Adam(lr=0.0005),\n",
        "             metrics=['accuracy'])\n",
        "\n",
        "# Specify thecallbacks for the model\n",
        "callbacks = [EarlyStopping(monitor='val_loss', patience=10)]\n",
        "\n",
        "model.summary()\n",
        "\n",
        "# Train the model with early stopping\n",
        "history = model.fit(x_train, y_train,\n",
        "                    validation_data=(x_train, y_train),\n",
        "                    epochs=50,\n",
        "                    batch_size=32,\n",
        "                    callbacks=callbacks)"
      ],
      "metadata": {
        "colab": {
          "base_uri": "https://localhost:8080/"
        },
        "id": "l_VY7sLdJTAj",
        "outputId": "54f6595d-850d-4e31-dc15-65c5537647ec"
      },
      "execution_count": 27,
      "outputs": [
        {
          "output_type": "stream",
          "name": "stdout",
          "text": [
            "((7417, 200), (7417, 6), (391, 200), (391, 6))\n",
            "Model: \"sequential\"\n",
            "_________________________________________________________________\n",
            " Layer (type)                Output Shape              Param #   \n",
            "=================================================================\n",
            " conv1d (Conv1D)             (None, 198, 128)          512       \n",
            "                                                                 \n",
            " batch_normalization (BatchN  (None, 198, 128)         512       \n",
            " ormalization)                                                   \n",
            "                                                                 \n",
            " activation (Activation)     (None, 198, 128)          0         \n",
            "                                                                 \n",
            " max_pooling1d (MaxPooling1D  (None, 99, 128)          0         \n",
            " )                                                               \n",
            "                                                                 \n",
            " conv1d_1 (Conv1D)           (None, 97, 256)           98560     \n",
            "                                                                 \n",
            " batch_normalization_1 (Batc  (None, 97, 256)          1024      \n",
            " hNormalization)                                                 \n",
            "                                                                 \n",
            " activation_1 (Activation)   (None, 97, 256)           0         \n",
            "                                                                 \n",
            " max_pooling1d_1 (MaxPooling  (None, 48, 256)          0         \n",
            " 1D)                                                             \n",
            "                                                                 \n",
            " conv1d_2 (Conv1D)           (None, 46, 512)           393728    \n",
            "                                                                 \n",
            " batch_normalization_2 (Batc  (None, 46, 512)          2048      \n",
            " hNormalization)                                                 \n",
            "                                                                 \n",
            " activation_2 (Activation)   (None, 46, 512)           0         \n",
            "                                                                 \n",
            " max_pooling1d_2 (MaxPooling  (None, 23, 512)          0         \n",
            " 1D)                                                             \n",
            "                                                                 \n",
            " conv1d_3 (Conv1D)           (None, 21, 1024)          1573888   \n",
            "                                                                 \n",
            " batch_normalization_3 (Batc  (None, 21, 1024)         4096      \n",
            " hNormalization)                                                 \n",
            "                                                                 \n",
            " activation_3 (Activation)   (None, 21, 1024)          0         \n",
            "                                                                 \n",
            " max_pooling1d_3 (MaxPooling  (None, 10, 1024)         0         \n",
            " 1D)                                                             \n",
            "                                                                 \n",
            " flatten (Flatten)           (None, 10240)             0         \n",
            "                                                                 \n",
            " dense (Dense)               (None, 512)               5243392   \n",
            "                                                                 \n",
            " batch_normalization_4 (Batc  (None, 512)              2048      \n",
            " hNormalization)                                                 \n",
            "                                                                 \n",
            " activation_4 (Activation)   (None, 512)               0         \n",
            "                                                                 \n",
            " dropout (Dropout)           (None, 512)               0         \n",
            "                                                                 \n",
            " dense_1 (Dense)             (None, 256)               131328    \n",
            "                                                                 \n",
            " batch_normalization_5 (Batc  (None, 256)              1024      \n",
            " hNormalization)                                                 \n",
            "                                                                 \n",
            " activation_5 (Activation)   (None, 256)               0         \n",
            "                                                                 \n",
            " dropout_1 (Dropout)         (None, 256)               0         \n",
            "                                                                 \n",
            " dense_2 (Dense)             (None, 128)               32896     \n",
            "                                                                 \n",
            " batch_normalization_6 (Batc  (None, 128)              512       \n",
            " hNormalization)                                                 \n",
            "                                                                 \n",
            " activation_6 (Activation)   (None, 128)               0         \n",
            "                                                                 \n",
            " dropout_2 (Dropout)         (None, 128)               0         \n",
            "                                                                 \n",
            " dense_3 (Dense)             (None, 6)                 774       \n",
            "                                                                 \n",
            "=================================================================\n",
            "Total params: 7,486,342\n",
            "Trainable params: 7,480,710\n",
            "Non-trainable params: 5,632\n",
            "_________________________________________________________________\n"
          ]
        },
        {
          "output_type": "stream",
          "name": "stderr",
          "text": [
            "/usr/local/lib/python3.10/dist-packages/keras/optimizers/legacy/adam.py:117: UserWarning: The `lr` argument is deprecated, use `learning_rate` instead.\n",
            "  super().__init__(name, **kwargs)\n"
          ]
        },
        {
          "output_type": "stream",
          "name": "stdout",
          "text": [
            "Epoch 1/50\n",
            "232/232 [==============================] - 16s 24ms/step - loss: 3.2911 - accuracy: 0.2916 - val_loss: 3.3941 - val_accuracy: 0.1480\n",
            "Epoch 2/50\n",
            "232/232 [==============================] - 5s 21ms/step - loss: 2.6746 - accuracy: 0.3311 - val_loss: 2.8992 - val_accuracy: 0.1545\n",
            "Epoch 3/50\n",
            "232/232 [==============================] - 4s 19ms/step - loss: 2.4486 - accuracy: 0.3457 - val_loss: 2.4969 - val_accuracy: 0.3114\n",
            "Epoch 4/50\n",
            "232/232 [==============================] - 4s 18ms/step - loss: 2.3190 - accuracy: 0.3545 - val_loss: 2.2743 - val_accuracy: 0.3384\n",
            "Epoch 5/50\n",
            "232/232 [==============================] - 5s 21ms/step - loss: 2.2200 - accuracy: 0.3628 - val_loss: 2.1614 - val_accuracy: 0.3609\n",
            "Epoch 6/50\n",
            "232/232 [==============================] - 4s 18ms/step - loss: 2.1300 - accuracy: 0.3783 - val_loss: 2.2591 - val_accuracy: 0.3166\n",
            "Epoch 7/50\n",
            "232/232 [==============================] - 4s 19ms/step - loss: 2.0588 - accuracy: 0.3843 - val_loss: 2.0014 - val_accuracy: 0.4043\n",
            "Epoch 8/50\n",
            "232/232 [==============================] - 5s 22ms/step - loss: 1.9805 - accuracy: 0.3857 - val_loss: 1.9252 - val_accuracy: 0.3932\n",
            "Epoch 9/50\n",
            "232/232 [==============================] - 4s 19ms/step - loss: 1.9317 - accuracy: 0.3849 - val_loss: 2.0569 - val_accuracy: 0.3387\n",
            "Epoch 10/50\n",
            "232/232 [==============================] - 4s 18ms/step - loss: 1.8747 - accuracy: 0.3905 - val_loss: 1.8517 - val_accuracy: 0.3759\n",
            "Epoch 11/50\n",
            "232/232 [==============================] - 5s 21ms/step - loss: 1.8253 - accuracy: 0.4041 - val_loss: 1.8266 - val_accuracy: 0.3813\n",
            "Epoch 12/50\n",
            "232/232 [==============================] - 4s 18ms/step - loss: 1.7988 - accuracy: 0.4033 - val_loss: 1.7513 - val_accuracy: 0.4154\n",
            "Epoch 13/50\n",
            "232/232 [==============================] - 4s 18ms/step - loss: 1.7703 - accuracy: 0.4003 - val_loss: 1.8059 - val_accuracy: 0.3476\n",
            "Epoch 14/50\n",
            "232/232 [==============================] - 5s 22ms/step - loss: 1.7336 - accuracy: 0.4143 - val_loss: 1.8049 - val_accuracy: 0.3578\n",
            "Epoch 15/50\n",
            "232/232 [==============================] - 4s 18ms/step - loss: 1.7178 - accuracy: 0.4092 - val_loss: 1.7760 - val_accuracy: 0.4011\n",
            "Epoch 16/50\n",
            "232/232 [==============================] - 4s 18ms/step - loss: 1.6946 - accuracy: 0.4154 - val_loss: 1.8575 - val_accuracy: 0.2734\n",
            "Epoch 17/50\n",
            "232/232 [==============================] - 5s 22ms/step - loss: 1.6586 - accuracy: 0.4220 - val_loss: 1.7283 - val_accuracy: 0.3636\n",
            "Epoch 18/50\n",
            "232/232 [==============================] - 5s 20ms/step - loss: 1.6521 - accuracy: 0.4213 - val_loss: 1.6762 - val_accuracy: 0.4184\n",
            "Epoch 19/50\n",
            "232/232 [==============================] - 5s 20ms/step - loss: 1.6332 - accuracy: 0.4246 - val_loss: 1.8943 - val_accuracy: 0.3421\n",
            "Epoch 20/50\n",
            "232/232 [==============================] - 5s 22ms/step - loss: 1.6307 - accuracy: 0.4314 - val_loss: 1.7255 - val_accuracy: 0.3692\n",
            "Epoch 21/50\n",
            "232/232 [==============================] - 5s 20ms/step - loss: 1.6185 - accuracy: 0.4262 - val_loss: 1.7092 - val_accuracy: 0.3349\n",
            "Epoch 22/50\n",
            "232/232 [==============================] - 5s 20ms/step - loss: 1.6018 - accuracy: 0.4362 - val_loss: 1.6702 - val_accuracy: 0.3771\n",
            "Epoch 23/50\n",
            "232/232 [==============================] - 5s 22ms/step - loss: 1.6018 - accuracy: 0.4393 - val_loss: 1.6562 - val_accuracy: 0.4115\n",
            "Epoch 24/50\n",
            "232/232 [==============================] - 5s 20ms/step - loss: 1.5838 - accuracy: 0.4332 - val_loss: 1.8413 - val_accuracy: 0.3241\n",
            "Epoch 25/50\n",
            "232/232 [==============================] - 4s 18ms/step - loss: 1.5779 - accuracy: 0.4417 - val_loss: 1.7515 - val_accuracy: 0.3185\n",
            "Epoch 26/50\n",
            "232/232 [==============================] - 5s 22ms/step - loss: 1.5591 - accuracy: 0.4505 - val_loss: 1.7159 - val_accuracy: 0.3576\n",
            "Epoch 27/50\n",
            "232/232 [==============================] - 5s 20ms/step - loss: 1.5596 - accuracy: 0.4411 - val_loss: 1.6511 - val_accuracy: 0.3936\n",
            "Epoch 28/50\n",
            "232/232 [==============================] - 4s 18ms/step - loss: 1.5523 - accuracy: 0.4541 - val_loss: 1.6072 - val_accuracy: 0.4047\n",
            "Epoch 29/50\n",
            "232/232 [==============================] - 5s 22ms/step - loss: 1.5362 - accuracy: 0.4596 - val_loss: 1.5035 - val_accuracy: 0.4589\n",
            "Epoch 30/50\n",
            "232/232 [==============================] - 4s 18ms/step - loss: 1.5229 - accuracy: 0.4649 - val_loss: 1.6310 - val_accuracy: 0.3766\n",
            "Epoch 31/50\n",
            "232/232 [==============================] - 4s 18ms/step - loss: 1.5218 - accuracy: 0.4673 - val_loss: 1.5974 - val_accuracy: 0.4325\n",
            "Epoch 32/50\n",
            "232/232 [==============================] - 5s 22ms/step - loss: 1.5060 - accuracy: 0.4696 - val_loss: 1.5898 - val_accuracy: 0.4290\n",
            "Epoch 33/50\n",
            "232/232 [==============================] - 4s 18ms/step - loss: 1.5005 - accuracy: 0.4709 - val_loss: 1.5417 - val_accuracy: 0.4484\n",
            "Epoch 34/50\n",
            "232/232 [==============================] - 4s 18ms/step - loss: 1.4781 - accuracy: 0.4827 - val_loss: 2.4875 - val_accuracy: 0.2417\n",
            "Epoch 35/50\n",
            "232/232 [==============================] - 5s 22ms/step - loss: 1.4801 - accuracy: 0.4850 - val_loss: 1.4602 - val_accuracy: 0.4789\n",
            "Epoch 36/50\n",
            "232/232 [==============================] - 5s 19ms/step - loss: 1.4722 - accuracy: 0.4817 - val_loss: 1.6135 - val_accuracy: 0.4025\n",
            "Epoch 37/50\n",
            "232/232 [==============================] - 4s 18ms/step - loss: 1.4516 - accuracy: 0.4978 - val_loss: 1.5407 - val_accuracy: 0.4540\n",
            "Epoch 38/50\n",
            "232/232 [==============================] - 5s 22ms/step - loss: 1.4450 - accuracy: 0.4963 - val_loss: 1.4197 - val_accuracy: 0.5029\n",
            "Epoch 39/50\n",
            "232/232 [==============================] - 4s 18ms/step - loss: 1.4311 - accuracy: 0.4995 - val_loss: 1.4919 - val_accuracy: 0.4483\n",
            "Epoch 40/50\n",
            "232/232 [==============================] - 4s 18ms/step - loss: 1.4139 - accuracy: 0.5069 - val_loss: 1.4177 - val_accuracy: 0.5115\n",
            "Epoch 41/50\n",
            "232/232 [==============================] - 5s 22ms/step - loss: 1.4002 - accuracy: 0.5154 - val_loss: 1.4330 - val_accuracy: 0.5094\n",
            "Epoch 42/50\n",
            "232/232 [==============================] - 5s 19ms/step - loss: 1.4000 - accuracy: 0.5145 - val_loss: 1.3954 - val_accuracy: 0.5073\n",
            "Epoch 43/50\n",
            "232/232 [==============================] - 5s 20ms/step - loss: 1.3768 - accuracy: 0.5316 - val_loss: 1.7295 - val_accuracy: 0.3855\n",
            "Epoch 44/50\n",
            "232/232 [==============================] - 5s 22ms/step - loss: 1.3766 - accuracy: 0.5265 - val_loss: 1.5942 - val_accuracy: 0.4371\n",
            "Epoch 45/50\n",
            "232/232 [==============================] - 4s 18ms/step - loss: 1.3492 - accuracy: 0.5390 - val_loss: 1.6878 - val_accuracy: 0.3518\n",
            "Epoch 46/50\n",
            "232/232 [==============================] - 5s 19ms/step - loss: 1.3445 - accuracy: 0.5481 - val_loss: 1.8319 - val_accuracy: 0.3619\n",
            "Epoch 47/50\n",
            "232/232 [==============================] - 5s 22ms/step - loss: 1.3467 - accuracy: 0.5408 - val_loss: 1.4031 - val_accuracy: 0.4979\n",
            "Epoch 48/50\n",
            "232/232 [==============================] - 4s 18ms/step - loss: 1.3335 - accuracy: 0.5436 - val_loss: 1.3807 - val_accuracy: 0.5107\n",
            "Epoch 49/50\n",
            "232/232 [==============================] - 4s 18ms/step - loss: 1.3086 - accuracy: 0.5586 - val_loss: 1.3716 - val_accuracy: 0.5323\n",
            "Epoch 50/50\n",
            "232/232 [==============================] - 5s 22ms/step - loss: 1.2872 - accuracy: 0.5704 - val_loss: 1.3767 - val_accuracy: 0.5224\n"
          ]
        }
      ]
    },
    {
      "cell_type": "markdown",
      "source": [
        "## Frequency Domain Model"
      ],
      "metadata": {
        "id": "8SCoKeoWL2eM"
      }
    },
    {
      "cell_type": "code",
      "execution_count": 28,
      "metadata": {
        "id": "xtwZaAPLZ7xt"
      },
      "outputs": [],
      "source": [
        "D_freq, Y_freq = loadAudioFreq(D_train)"
      ]
    },
    {
      "cell_type": "code",
      "source": [
        "unicheck = np.unique(Y_freq, axis=0)\n",
        "print(f\"Check on freq domain:\\n{unicheck}\")"
      ],
      "metadata": {
        "id": "OrMPj3gPjhQd",
        "colab": {
          "base_uri": "https://localhost:8080/"
        },
        "outputId": "f7895e0c-a0f4-4b96-a2d5-bf8321d2a7c7"
      },
      "execution_count": 29,
      "outputs": [
        {
          "output_type": "stream",
          "name": "stdout",
          "text": [
            "Check on freq domain:\n",
            "['ANG' 'DIS' 'FEA' 'HAP' 'NEU' 'SAD']\n"
          ]
        }
      ]
    },
    {
      "cell_type": "code",
      "execution_count": 30,
      "metadata": {
        "id": "GUgk6mioee_h",
        "colab": {
          "base_uri": "https://localhost:8080/",
          "height": 206
        },
        "outputId": "5dd15f1e-8f1f-421f-9b0e-e23db4aed31e"
      },
      "outputs": [
        {
          "output_type": "execute_result",
          "data": {
            "text/plain": [
              "     0\n",
              "0  SAD\n",
              "1  SAD\n",
              "2  FEA\n",
              "3  FEA\n",
              "4  SAD"
            ],
            "text/html": [
              "\n",
              "  <div id=\"df-8633c895-d319-4e48-9ea5-d517a1980021\">\n",
              "    <div class=\"colab-df-container\">\n",
              "      <div>\n",
              "<style scoped>\n",
              "    .dataframe tbody tr th:only-of-type {\n",
              "        vertical-align: middle;\n",
              "    }\n",
              "\n",
              "    .dataframe tbody tr th {\n",
              "        vertical-align: top;\n",
              "    }\n",
              "\n",
              "    .dataframe thead th {\n",
              "        text-align: right;\n",
              "    }\n",
              "</style>\n",
              "<table border=\"1\" class=\"dataframe\">\n",
              "  <thead>\n",
              "    <tr style=\"text-align: right;\">\n",
              "      <th></th>\n",
              "      <th>0</th>\n",
              "    </tr>\n",
              "  </thead>\n",
              "  <tbody>\n",
              "    <tr>\n",
              "      <th>0</th>\n",
              "      <td>SAD</td>\n",
              "    </tr>\n",
              "    <tr>\n",
              "      <th>1</th>\n",
              "      <td>SAD</td>\n",
              "    </tr>\n",
              "    <tr>\n",
              "      <th>2</th>\n",
              "      <td>FEA</td>\n",
              "    </tr>\n",
              "    <tr>\n",
              "      <th>3</th>\n",
              "      <td>FEA</td>\n",
              "    </tr>\n",
              "    <tr>\n",
              "      <th>4</th>\n",
              "      <td>SAD</td>\n",
              "    </tr>\n",
              "  </tbody>\n",
              "</table>\n",
              "</div>\n",
              "      <button class=\"colab-df-convert\" onclick=\"convertToInteractive('df-8633c895-d319-4e48-9ea5-d517a1980021')\"\n",
              "              title=\"Convert this dataframe to an interactive table.\"\n",
              "              style=\"display:none;\">\n",
              "        \n",
              "  <svg xmlns=\"http://www.w3.org/2000/svg\" height=\"24px\"viewBox=\"0 0 24 24\"\n",
              "       width=\"24px\">\n",
              "    <path d=\"M0 0h24v24H0V0z\" fill=\"none\"/>\n",
              "    <path d=\"M18.56 5.44l.94 2.06.94-2.06 2.06-.94-2.06-.94-.94-2.06-.94 2.06-2.06.94zm-11 1L8.5 8.5l.94-2.06 2.06-.94-2.06-.94L8.5 2.5l-.94 2.06-2.06.94zm10 10l.94 2.06.94-2.06 2.06-.94-2.06-.94-.94-2.06-.94 2.06-2.06.94z\"/><path d=\"M17.41 7.96l-1.37-1.37c-.4-.4-.92-.59-1.43-.59-.52 0-1.04.2-1.43.59L10.3 9.45l-7.72 7.72c-.78.78-.78 2.05 0 2.83L4 21.41c.39.39.9.59 1.41.59.51 0 1.02-.2 1.41-.59l7.78-7.78 2.81-2.81c.8-.78.8-2.07 0-2.86zM5.41 20L4 18.59l7.72-7.72 1.47 1.35L5.41 20z\"/>\n",
              "  </svg>\n",
              "      </button>\n",
              "      \n",
              "  <style>\n",
              "    .colab-df-container {\n",
              "      display:flex;\n",
              "      flex-wrap:wrap;\n",
              "      gap: 12px;\n",
              "    }\n",
              "\n",
              "    .colab-df-convert {\n",
              "      background-color: #E8F0FE;\n",
              "      border: none;\n",
              "      border-radius: 50%;\n",
              "      cursor: pointer;\n",
              "      display: none;\n",
              "      fill: #1967D2;\n",
              "      height: 32px;\n",
              "      padding: 0 0 0 0;\n",
              "      width: 32px;\n",
              "    }\n",
              "\n",
              "    .colab-df-convert:hover {\n",
              "      background-color: #E2EBFA;\n",
              "      box-shadow: 0px 1px 2px rgba(60, 64, 67, 0.3), 0px 1px 3px 1px rgba(60, 64, 67, 0.15);\n",
              "      fill: #174EA6;\n",
              "    }\n",
              "\n",
              "    [theme=dark] .colab-df-convert {\n",
              "      background-color: #3B4455;\n",
              "      fill: #D2E3FC;\n",
              "    }\n",
              "\n",
              "    [theme=dark] .colab-df-convert:hover {\n",
              "      background-color: #434B5C;\n",
              "      box-shadow: 0px 1px 3px 1px rgba(0, 0, 0, 0.15);\n",
              "      filter: drop-shadow(0px 1px 2px rgba(0, 0, 0, 0.3));\n",
              "      fill: #FFFFFF;\n",
              "    }\n",
              "  </style>\n",
              "\n",
              "      <script>\n",
              "        const buttonEl =\n",
              "          document.querySelector('#df-8633c895-d319-4e48-9ea5-d517a1980021 button.colab-df-convert');\n",
              "        buttonEl.style.display =\n",
              "          google.colab.kernel.accessAllowed ? 'block' : 'none';\n",
              "\n",
              "        async function convertToInteractive(key) {\n",
              "          const element = document.querySelector('#df-8633c895-d319-4e48-9ea5-d517a1980021');\n",
              "          const dataTable =\n",
              "            await google.colab.kernel.invokeFunction('convertToInteractive',\n",
              "                                                     [key], {});\n",
              "          if (!dataTable) return;\n",
              "\n",
              "          const docLinkHtml = 'Like what you see? Visit the ' +\n",
              "            '<a target=\"_blank\" href=https://colab.research.google.com/notebooks/data_table.ipynb>data table notebook</a>'\n",
              "            + ' to learn more about interactive tables.';\n",
              "          element.innerHTML = '';\n",
              "          dataTable['output_type'] = 'display_data';\n",
              "          await google.colab.output.renderOutput(dataTable, element);\n",
              "          const docLink = document.createElement('div');\n",
              "          docLink.innerHTML = docLinkHtml;\n",
              "          element.appendChild(docLink);\n",
              "        }\n",
              "      </script>\n",
              "    </div>\n",
              "  </div>\n",
              "  "
            ]
          },
          "metadata": {},
          "execution_count": 30
        }
      ],
      "source": [
        "df_freq = pd.DataFrame(Y_freq)\n",
        "df_freq.head()"
      ]
    },
    {
      "cell_type": "code",
      "execution_count": 31,
      "metadata": {
        "id": "zsGHDz33gla3",
        "colab": {
          "base_uri": "https://localhost:8080/"
        },
        "outputId": "f567e60c-a1b9-4b90-a2e0-c63ad0ad032a"
      },
      "outputs": [
        {
          "output_type": "stream",
          "name": "stdout",
          "text": [
            "(7783, 6)\n"
          ]
        }
      ],
      "source": [
        "# Use the get_dummies() method to one-hot encode the labels\n",
        "one_hot_labels = pd.get_dummies(df_freq)\n",
        "\n",
        "# Convert the DataFrame to a NumPy array\n",
        "one_hot_labels = one_hot_labels.to_numpy()\n",
        "\n",
        "print(one_hot_labels.shape)"
      ]
    },
    {
      "cell_type": "code",
      "execution_count": 32,
      "metadata": {
        "id": "tC97UHgRgopX",
        "colab": {
          "base_uri": "https://localhost:8080/"
        },
        "outputId": "6e10f245-5a0e-4f39-8161-ae18399eed81"
      },
      "outputs": [
        {
          "output_type": "execute_result",
          "data": {
            "text/plain": [
              "(7783, 6)"
            ]
          },
          "metadata": {},
          "execution_count": 32
        }
      ],
      "source": [
        "Y_freq = one_hot_labels\n",
        "Y_freq.shape"
      ]
    },
    {
      "cell_type": "code",
      "source": [
        "for i, array in enumerate(D_freq):\n",
        "    D_freq[i] = np.pad(array, ((0, 0), (0, 256 - array.shape[1])))\n",
        "D_freq = np.array(D_freq)"
      ],
      "metadata": {
        "id": "9rGP0HoHwFn2"
      },
      "execution_count": 33,
      "outputs": []
    },
    {
      "cell_type": "code",
      "source": [
        "D_freq.shape"
      ],
      "metadata": {
        "id": "0WQI9jQzwHtK",
        "colab": {
          "base_uri": "https://localhost:8080/"
        },
        "outputId": "3404dda3-fcc0-44f8-85c4-c2eb61db04c7"
      },
      "execution_count": 34,
      "outputs": [
        {
          "output_type": "execute_result",
          "data": {
            "text/plain": [
              "(7783, 64, 256)"
            ]
          },
          "metadata": {},
          "execution_count": 34
        }
      ]
    },
    {
      "cell_type": "code",
      "execution_count": 35,
      "metadata": {
        "id": "iy502zPqgrjs",
        "colab": {
          "base_uri": "https://localhost:8080/"
        },
        "outputId": "954a1680-8b59-42d5-c48e-1f7c86de7bbd"
      },
      "outputs": [
        {
          "output_type": "stream",
          "name": "stdout",
          "text": [
            "((7393, 64, 256), (7393, 6), (390, 64, 256), (390, 6))\n"
          ]
        }
      ],
      "source": [
        "x_train, x_test, y_train, y_test = train_test_split(np.array(D_freq), np.array(Y_freq), test_size=0.05)\n",
        "print((x_train.shape, y_train.shape, x_test.shape, y_test.shape))"
      ]
    },
    {
      "cell_type": "code",
      "execution_count": 36,
      "metadata": {
        "id": "85miHU54hlCc",
        "colab": {
          "base_uri": "https://localhost:8080/"
        },
        "outputId": "fbd14b6f-cff2-449d-a923-5ae6d4c42c54"
      },
      "outputs": [
        {
          "output_type": "stream",
          "name": "stdout",
          "text": [
            "(7393, 64, 256, 1) (390, 64, 256, 1)\n"
          ]
        }
      ],
      "source": [
        "x_train = x_train.reshape((x_train.shape[0], x_train.shape[1], x_train.shape[2], 1))\n",
        "x_test = x_test.reshape((x_test.shape[0], x_test.shape[1], x_test.shape[2], 1))\n",
        "print(x_train.shape, x_test.shape)"
      ]
    },
    {
      "cell_type": "code",
      "source": [
        "model = Sequential()\n",
        "\n",
        "# Layer 1: Convolutional Layer\n",
        "model.add(Conv2D(32, (3, 3), activation='relu', input_shape=(x_train.shape[1], x_train.shape[2], 1)))\n",
        "model.add(MaxPooling2D(pool_size=(2, 2)))\n",
        "\n",
        "# Layer 2: Convolutional Layer\n",
        "model.add(Conv2D(64, (3, 3), activation='relu'))\n",
        "model.add(MaxPooling2D(pool_size=(2, 2)))\n",
        "\n",
        "# Layer 3: Convolutional Layer\n",
        "model.add(Conv2D(128, (3, 3), activation='relu'))\n",
        "model.add(MaxPooling2D(pool_size=(2, 2)))\n",
        "\n",
        "# Layer 4: Flatten Layer\n",
        "model.add(Flatten())\n",
        "\n",
        "# Layer 5: Fully Connected Layer\n",
        "model.add(Dense(256, activation='relu'))\n",
        "model.add(Dropout(0.5))\n",
        "\n",
        "# Layer 6: Fully Connected Layer\n",
        "model.add(Dense(128, activation='relu'))\n",
        "model.add(Dropout(0.5))\n",
        "\n",
        "# Layer 7: Output Layer\n",
        "model.add(Dense(6, activation='sigmoid'))\n",
        "\n",
        "model.compile(loss='categorical_crossentropy',\n",
        "             optimizer=optimizers.Adam(lr=0.0005),\n",
        "             metrics=['accuracy'])\n",
        "\n",
        "model.summary()"
      ],
      "metadata": {
        "id": "_Qb69EaZ4cZj",
        "colab": {
          "base_uri": "https://localhost:8080/"
        },
        "outputId": "d8204a06-e31d-4578-9f7f-4bd8026dcba7"
      },
      "execution_count": 37,
      "outputs": [
        {
          "output_type": "stream",
          "name": "stdout",
          "text": [
            "Model: \"sequential_1\"\n",
            "_________________________________________________________________\n",
            " Layer (type)                Output Shape              Param #   \n",
            "=================================================================\n",
            " conv2d (Conv2D)             (None, 62, 254, 32)       320       \n",
            "                                                                 \n",
            " max_pooling2d (MaxPooling2D  (None, 31, 127, 32)      0         \n",
            " )                                                               \n",
            "                                                                 \n",
            " conv2d_1 (Conv2D)           (None, 29, 125, 64)       18496     \n",
            "                                                                 \n",
            " max_pooling2d_1 (MaxPooling  (None, 14, 62, 64)       0         \n",
            " 2D)                                                             \n",
            "                                                                 \n",
            " conv2d_2 (Conv2D)           (None, 12, 60, 128)       73856     \n",
            "                                                                 \n",
            " max_pooling2d_2 (MaxPooling  (None, 6, 30, 128)       0         \n",
            " 2D)                                                             \n",
            "                                                                 \n",
            " flatten_1 (Flatten)         (None, 23040)             0         \n",
            "                                                                 \n",
            " dense_4 (Dense)             (None, 256)               5898496   \n",
            "                                                                 \n",
            " dropout_3 (Dropout)         (None, 256)               0         \n",
            "                                                                 \n",
            " dense_5 (Dense)             (None, 128)               32896     \n",
            "                                                                 \n",
            " dropout_4 (Dropout)         (None, 128)               0         \n",
            "                                                                 \n",
            " dense_6 (Dense)             (None, 6)                 774       \n",
            "                                                                 \n",
            "=================================================================\n",
            "Total params: 6,024,838\n",
            "Trainable params: 6,024,838\n",
            "Non-trainable params: 0\n",
            "_________________________________________________________________\n"
          ]
        },
        {
          "output_type": "stream",
          "name": "stderr",
          "text": [
            "/usr/local/lib/python3.10/dist-packages/keras/optimizers/legacy/adam.py:117: UserWarning: The `lr` argument is deprecated, use `learning_rate` instead.\n",
            "  super().__init__(name, **kwargs)\n"
          ]
        }
      ]
    },
    {
      "cell_type": "code",
      "execution_count": 38,
      "metadata": {
        "id": "gl590_cHhr3p",
        "colab": {
          "base_uri": "https://localhost:8080/"
        },
        "outputId": "d3f52806-e277-41e2-e451-cbbb96163619"
      },
      "outputs": [
        {
          "output_type": "stream",
          "name": "stdout",
          "text": [
            "Epoch 1/50\n",
            "58/58 [==============================] - 7s 86ms/step - loss: 1.8537 - accuracy: 0.2262 - val_loss: 1.6629 - val_accuracy: 0.3077\n",
            "Epoch 2/50\n",
            "58/58 [==============================] - 3s 51ms/step - loss: 1.6407 - accuracy: 0.3099 - val_loss: 1.5287 - val_accuracy: 0.3513\n",
            "Epoch 3/50\n",
            "58/58 [==============================] - 3s 50ms/step - loss: 1.5627 - accuracy: 0.3507 - val_loss: 1.5019 - val_accuracy: 0.3308\n",
            "Epoch 4/50\n",
            "58/58 [==============================] - 3s 52ms/step - loss: 1.5377 - accuracy: 0.3528 - val_loss: 1.4941 - val_accuracy: 0.3846\n",
            "Epoch 5/50\n",
            "58/58 [==============================] - 3s 51ms/step - loss: 1.5065 - accuracy: 0.3764 - val_loss: 1.4397 - val_accuracy: 0.3795\n",
            "Epoch 6/50\n",
            "58/58 [==============================] - 3s 53ms/step - loss: 1.4941 - accuracy: 0.3827 - val_loss: 1.4399 - val_accuracy: 0.3872\n",
            "Epoch 7/50\n",
            "58/58 [==============================] - 3s 50ms/step - loss: 1.4731 - accuracy: 0.3983 - val_loss: 1.4213 - val_accuracy: 0.3974\n",
            "Epoch 8/50\n",
            "58/58 [==============================] - 3s 51ms/step - loss: 1.4472 - accuracy: 0.4134 - val_loss: 1.4030 - val_accuracy: 0.4000\n",
            "Epoch 9/50\n",
            "58/58 [==============================] - 3s 51ms/step - loss: 1.4296 - accuracy: 0.4254 - val_loss: 1.3764 - val_accuracy: 0.4282\n",
            "Epoch 10/50\n",
            "58/58 [==============================] - 3s 55ms/step - loss: 1.4020 - accuracy: 0.4341 - val_loss: 1.3542 - val_accuracy: 0.4513\n",
            "Epoch 11/50\n",
            "58/58 [==============================] - 3s 52ms/step - loss: 1.3781 - accuracy: 0.4533 - val_loss: 1.3239 - val_accuracy: 0.4513\n",
            "Epoch 12/50\n",
            "58/58 [==============================] - 3s 51ms/step - loss: 1.3532 - accuracy: 0.4561 - val_loss: 1.3483 - val_accuracy: 0.4359\n",
            "Epoch 13/50\n",
            "58/58 [==============================] - 3s 52ms/step - loss: 1.3260 - accuracy: 0.4722 - val_loss: 1.3068 - val_accuracy: 0.4718\n",
            "Epoch 14/50\n",
            "58/58 [==============================] - 3s 52ms/step - loss: 1.2933 - accuracy: 0.4848 - val_loss: 1.2979 - val_accuracy: 0.4974\n",
            "Epoch 15/50\n",
            "58/58 [==============================] - 3s 54ms/step - loss: 1.2756 - accuracy: 0.4964 - val_loss: 1.2670 - val_accuracy: 0.4821\n",
            "Epoch 16/50\n",
            "58/58 [==============================] - 3s 53ms/step - loss: 1.2402 - accuracy: 0.5101 - val_loss: 1.2815 - val_accuracy: 0.5026\n",
            "Epoch 17/50\n",
            "58/58 [==============================] - 3s 59ms/step - loss: 1.2193 - accuracy: 0.5250 - val_loss: 1.2696 - val_accuracy: 0.5051\n",
            "Epoch 18/50\n",
            "58/58 [==============================] - 3s 57ms/step - loss: 1.1848 - accuracy: 0.5355 - val_loss: 1.2772 - val_accuracy: 0.4949\n",
            "Epoch 19/50\n",
            "58/58 [==============================] - 3s 60ms/step - loss: 1.1594 - accuracy: 0.5438 - val_loss: 1.2669 - val_accuracy: 0.5077\n",
            "Epoch 20/50\n",
            "58/58 [==============================] - 3s 51ms/step - loss: 1.1450 - accuracy: 0.5576 - val_loss: 1.2684 - val_accuracy: 0.5282\n",
            "Epoch 21/50\n",
            "58/58 [==============================] - 3s 50ms/step - loss: 1.0939 - accuracy: 0.5707 - val_loss: 1.3192 - val_accuracy: 0.4897\n",
            "Epoch 22/50\n",
            "58/58 [==============================] - 3s 51ms/step - loss: 1.0528 - accuracy: 0.5851 - val_loss: 1.2614 - val_accuracy: 0.5128\n",
            "Epoch 23/50\n",
            "58/58 [==============================] - 3s 51ms/step - loss: 1.0464 - accuracy: 0.5950 - val_loss: 1.2109 - val_accuracy: 0.5359\n",
            "Epoch 24/50\n",
            "58/58 [==============================] - 3s 53ms/step - loss: 0.9913 - accuracy: 0.6218 - val_loss: 1.2533 - val_accuracy: 0.5282\n",
            "Epoch 25/50\n",
            "58/58 [==============================] - 3s 50ms/step - loss: 0.9620 - accuracy: 0.6255 - val_loss: 1.3456 - val_accuracy: 0.5385\n",
            "Epoch 26/50\n",
            "58/58 [==============================] - 3s 50ms/step - loss: 0.9333 - accuracy: 0.6476 - val_loss: 1.3236 - val_accuracy: 0.5231\n",
            "Epoch 27/50\n",
            "58/58 [==============================] - 3s 50ms/step - loss: 0.9093 - accuracy: 0.6499 - val_loss: 1.2618 - val_accuracy: 0.5410\n",
            "Epoch 28/50\n",
            "58/58 [==============================] - 3s 52ms/step - loss: 0.8670 - accuracy: 0.6620 - val_loss: 1.3248 - val_accuracy: 0.5256\n",
            "Epoch 29/50\n",
            "58/58 [==============================] - 3s 52ms/step - loss: 0.8260 - accuracy: 0.6806 - val_loss: 1.2869 - val_accuracy: 0.5615\n",
            "Epoch 30/50\n",
            "58/58 [==============================] - 3s 50ms/step - loss: 0.7850 - accuracy: 0.7026 - val_loss: 1.3407 - val_accuracy: 0.5308\n",
            "Epoch 31/50\n",
            "58/58 [==============================] - 3s 50ms/step - loss: 0.7387 - accuracy: 0.7151 - val_loss: 1.3906 - val_accuracy: 0.5538\n",
            "Epoch 32/50\n",
            "58/58 [==============================] - 3s 50ms/step - loss: 0.7141 - accuracy: 0.7292 - val_loss: 1.3701 - val_accuracy: 0.5282\n",
            "Epoch 33/50\n",
            "58/58 [==============================] - 3s 53ms/step - loss: 0.6936 - accuracy: 0.7431 - val_loss: 1.4478 - val_accuracy: 0.5359\n"
          ]
        }
      ],
      "source": [
        "# Specify thecallbacks for the model\n",
        "callbacks = [EarlyStopping(monitor='val_loss', patience=10)]\n",
        "\n",
        "history = model.fit(x_train, y_train,\n",
        "                    epochs=50,\n",
        "                    batch_size=128,\n",
        "                    validation_data=(x_test, y_test),\n",
        "                    callbacks=callbacks)"
      ]
    },
    {
      "cell_type": "code",
      "source": [],
      "metadata": {
        "id": "iaGFCAqQm826"
      },
      "execution_count": null,
      "outputs": []
    },
    {
      "cell_type": "code",
      "source": [
        "def loadAudioTime(audio_files):\n",
        "  classes = [\"SAD\", \"ANG\", \"DIS\", \"FEA\", \"HAP\", \"NEU\"]\n",
        "  # for data augmentation\n",
        "  augmentations = Compose([\n",
        "    AddGaussianNoise(min_amplitude=0.001, max_amplitude=0.01, p=0.5),\n",
        "    TimeStretch(min_rate=0.8, max_rate=1.2, p=0.5),\n",
        "    PitchShift(min_semitones=-4, max_semitones=4, p=0.5)\n",
        "])\n",
        "  # max_length = getMaxLen(audio_files)\n",
        "  max_length = 200\n",
        "  D, Y = [], []\n",
        "  for audio_file in audio_files: \n",
        "    # load the audio file\n",
        "    audio, sr = lib.load(audio_file, sr=4444)\n",
        "    # extract zero crossing rate\n",
        "    zcr = zeroCrossingRate(audio)\n",
        "    # extract energy\n",
        "    rms = energy(audio)\n",
        "    # chroma stft\n",
        "    cs = chromaStft(audio, sr)\n",
        "    # mfcc\n",
        "    mfc = mfcc(audio, sr)\n",
        "    # extract mel spectrogram\n",
        "    #mel_spec = melSpectrogram(audio, sr).mean()\n",
        "    combined_features = np.concatenate(([rms, cs, mfc], (np.pad(zcr[0], (0, 300 - len(zcr[0]))))))\n",
        "    D.append(combined_features)\n",
        "    for cls in classes:\n",
        "      if re.search(cls, audio_file): Y.append(cls)\n",
        "    # don't augment every example\n",
        "    if np.random.rand() >= 0.5:\n",
        "      augmented_audio = augmentations(samples=audio, sample_rate=sr)\n",
        "      # extract zero crossing rate\n",
        "      zcr = zeroCrossingRate(augmented_audio)\n",
        "      # extract energy\n",
        "      rms = energy(augmented_audio)\n",
        "      # chroma stft\n",
        "      cs = chromaStft(augmented_audio, sr)\n",
        "      # mfcc\n",
        "      mfc = mfcc(augmented_audio, sr)\n",
        "      # extract mel spectrogram\n",
        "      #mel_spec = melSpectrogram(augmented_audio, sr).mean()\n",
        "      combined_features = np.concatenate(([rms, cs, mfc], (np.pad(zcr[0], (0, 300 - len(zcr[0]))))))\n",
        "      D.append(combined_features)\n",
        "      for cls in classes:\n",
        "        if re.search(cls, audio_file): Y.append(cls)\n",
        "  return D, Y"
      ],
      "metadata": {
        "id": "Xw1nOp5k2ByS"
      },
      "execution_count": 39,
      "outputs": []
    },
    {
      "cell_type": "code",
      "source": [
        "D_time, Y_time = loadAudioTime(D_train)"
      ],
      "metadata": {
        "colab": {
          "base_uri": "https://localhost:8080/"
        },
        "id": "cIAVoPb92dzF",
        "outputId": "5418d29a-2d0e-4bd7-b0c8-81c223c8adea"
      },
      "execution_count": 40,
      "outputs": [
        {
          "output_type": "stream",
          "name": "stderr",
          "text": [
            "/usr/local/lib/python3.10/dist-packages/librosa/util/decorators.py:88: UserWarning: Trying to estimate tuning from empty frequency set.\n",
            "  return f(*args, **kwargs)\n"
          ]
        }
      ]
    },
    {
      "cell_type": "code",
      "source": [
        "D_time = np.array(D_time)\n",
        "D_time.shape"
      ],
      "metadata": {
        "colab": {
          "base_uri": "https://localhost:8080/"
        },
        "outputId": "418b13d5-320a-4dde-f2c4-add2d006babb",
        "id": "8la9AYEN2096"
      },
      "execution_count": 41,
      "outputs": [
        {
          "output_type": "execute_result",
          "data": {
            "text/plain": [
              "(7835, 303)"
            ]
          },
          "metadata": {},
          "execution_count": 41
        }
      ]
    },
    {
      "cell_type": "code",
      "source": [
        "unicheck = np.unique(Y_time, axis=0)\n",
        "print(f\"Check on time domain:\\n{unicheck}\")"
      ],
      "metadata": {
        "colab": {
          "base_uri": "https://localhost:8080/"
        },
        "outputId": "70e4c146-809b-409d-af14-7f743370ca04",
        "id": "9YKmTur_20-Y"
      },
      "execution_count": 42,
      "outputs": [
        {
          "output_type": "stream",
          "name": "stdout",
          "text": [
            "Check on time domain:\n",
            "['ANG' 'DIS' 'FEA' 'HAP' 'NEU' 'SAD']\n"
          ]
        }
      ]
    },
    {
      "cell_type": "code",
      "source": [
        "df_time = pd.DataFrame(Y_time)\n",
        "df_time.head()"
      ],
      "metadata": {
        "colab": {
          "base_uri": "https://localhost:8080/",
          "height": 206
        },
        "outputId": "ed3f0d28-d76f-4db2-feed-f521a2c74e2e",
        "id": "Y9P505Fz20-Y"
      },
      "execution_count": 43,
      "outputs": [
        {
          "output_type": "execute_result",
          "data": {
            "text/plain": [
              "     0\n",
              "0  SAD\n",
              "1  FEA\n",
              "2  SAD\n",
              "3  SAD\n",
              "4  ANG"
            ],
            "text/html": [
              "\n",
              "  <div id=\"df-31e7b3da-c128-4585-adf4-1d9e7333b3d1\">\n",
              "    <div class=\"colab-df-container\">\n",
              "      <div>\n",
              "<style scoped>\n",
              "    .dataframe tbody tr th:only-of-type {\n",
              "        vertical-align: middle;\n",
              "    }\n",
              "\n",
              "    .dataframe tbody tr th {\n",
              "        vertical-align: top;\n",
              "    }\n",
              "\n",
              "    .dataframe thead th {\n",
              "        text-align: right;\n",
              "    }\n",
              "</style>\n",
              "<table border=\"1\" class=\"dataframe\">\n",
              "  <thead>\n",
              "    <tr style=\"text-align: right;\">\n",
              "      <th></th>\n",
              "      <th>0</th>\n",
              "    </tr>\n",
              "  </thead>\n",
              "  <tbody>\n",
              "    <tr>\n",
              "      <th>0</th>\n",
              "      <td>SAD</td>\n",
              "    </tr>\n",
              "    <tr>\n",
              "      <th>1</th>\n",
              "      <td>FEA</td>\n",
              "    </tr>\n",
              "    <tr>\n",
              "      <th>2</th>\n",
              "      <td>SAD</td>\n",
              "    </tr>\n",
              "    <tr>\n",
              "      <th>3</th>\n",
              "      <td>SAD</td>\n",
              "    </tr>\n",
              "    <tr>\n",
              "      <th>4</th>\n",
              "      <td>ANG</td>\n",
              "    </tr>\n",
              "  </tbody>\n",
              "</table>\n",
              "</div>\n",
              "      <button class=\"colab-df-convert\" onclick=\"convertToInteractive('df-31e7b3da-c128-4585-adf4-1d9e7333b3d1')\"\n",
              "              title=\"Convert this dataframe to an interactive table.\"\n",
              "              style=\"display:none;\">\n",
              "        \n",
              "  <svg xmlns=\"http://www.w3.org/2000/svg\" height=\"24px\"viewBox=\"0 0 24 24\"\n",
              "       width=\"24px\">\n",
              "    <path d=\"M0 0h24v24H0V0z\" fill=\"none\"/>\n",
              "    <path d=\"M18.56 5.44l.94 2.06.94-2.06 2.06-.94-2.06-.94-.94-2.06-.94 2.06-2.06.94zm-11 1L8.5 8.5l.94-2.06 2.06-.94-2.06-.94L8.5 2.5l-.94 2.06-2.06.94zm10 10l.94 2.06.94-2.06 2.06-.94-2.06-.94-.94-2.06-.94 2.06-2.06.94z\"/><path d=\"M17.41 7.96l-1.37-1.37c-.4-.4-.92-.59-1.43-.59-.52 0-1.04.2-1.43.59L10.3 9.45l-7.72 7.72c-.78.78-.78 2.05 0 2.83L4 21.41c.39.39.9.59 1.41.59.51 0 1.02-.2 1.41-.59l7.78-7.78 2.81-2.81c.8-.78.8-2.07 0-2.86zM5.41 20L4 18.59l7.72-7.72 1.47 1.35L5.41 20z\"/>\n",
              "  </svg>\n",
              "      </button>\n",
              "      \n",
              "  <style>\n",
              "    .colab-df-container {\n",
              "      display:flex;\n",
              "      flex-wrap:wrap;\n",
              "      gap: 12px;\n",
              "    }\n",
              "\n",
              "    .colab-df-convert {\n",
              "      background-color: #E8F0FE;\n",
              "      border: none;\n",
              "      border-radius: 50%;\n",
              "      cursor: pointer;\n",
              "      display: none;\n",
              "      fill: #1967D2;\n",
              "      height: 32px;\n",
              "      padding: 0 0 0 0;\n",
              "      width: 32px;\n",
              "    }\n",
              "\n",
              "    .colab-df-convert:hover {\n",
              "      background-color: #E2EBFA;\n",
              "      box-shadow: 0px 1px 2px rgba(60, 64, 67, 0.3), 0px 1px 3px 1px rgba(60, 64, 67, 0.15);\n",
              "      fill: #174EA6;\n",
              "    }\n",
              "\n",
              "    [theme=dark] .colab-df-convert {\n",
              "      background-color: #3B4455;\n",
              "      fill: #D2E3FC;\n",
              "    }\n",
              "\n",
              "    [theme=dark] .colab-df-convert:hover {\n",
              "      background-color: #434B5C;\n",
              "      box-shadow: 0px 1px 3px 1px rgba(0, 0, 0, 0.15);\n",
              "      filter: drop-shadow(0px 1px 2px rgba(0, 0, 0, 0.3));\n",
              "      fill: #FFFFFF;\n",
              "    }\n",
              "  </style>\n",
              "\n",
              "      <script>\n",
              "        const buttonEl =\n",
              "          document.querySelector('#df-31e7b3da-c128-4585-adf4-1d9e7333b3d1 button.colab-df-convert');\n",
              "        buttonEl.style.display =\n",
              "          google.colab.kernel.accessAllowed ? 'block' : 'none';\n",
              "\n",
              "        async function convertToInteractive(key) {\n",
              "          const element = document.querySelector('#df-31e7b3da-c128-4585-adf4-1d9e7333b3d1');\n",
              "          const dataTable =\n",
              "            await google.colab.kernel.invokeFunction('convertToInteractive',\n",
              "                                                     [key], {});\n",
              "          if (!dataTable) return;\n",
              "\n",
              "          const docLinkHtml = 'Like what you see? Visit the ' +\n",
              "            '<a target=\"_blank\" href=https://colab.research.google.com/notebooks/data_table.ipynb>data table notebook</a>'\n",
              "            + ' to learn more about interactive tables.';\n",
              "          element.innerHTML = '';\n",
              "          dataTable['output_type'] = 'display_data';\n",
              "          await google.colab.output.renderOutput(dataTable, element);\n",
              "          const docLink = document.createElement('div');\n",
              "          docLink.innerHTML = docLinkHtml;\n",
              "          element.appendChild(docLink);\n",
              "        }\n",
              "      </script>\n",
              "    </div>\n",
              "  </div>\n",
              "  "
            ]
          },
          "metadata": {},
          "execution_count": 43
        }
      ]
    },
    {
      "cell_type": "code",
      "source": [
        "# Use the get_dummies() method to one-hot encode the labels\n",
        "one_hot_labels = pd.get_dummies(df_time)\n",
        "\n",
        "# Convert the DataFrame to a NumPy array\n",
        "one_hot_labels = one_hot_labels.to_numpy()\n",
        "\n",
        "print(one_hot_labels.shape)"
      ],
      "metadata": {
        "colab": {
          "base_uri": "https://localhost:8080/"
        },
        "outputId": "6b28961c-951d-4ecc-ea1f-8093270410be",
        "id": "_sU4euKF20-Z"
      },
      "execution_count": 44,
      "outputs": [
        {
          "output_type": "stream",
          "name": "stdout",
          "text": [
            "(7835, 6)\n"
          ]
        }
      ]
    },
    {
      "cell_type": "code",
      "source": [
        "Y_time = one_hot_labels\n",
        "Y_time.shape"
      ],
      "metadata": {
        "colab": {
          "base_uri": "https://localhost:8080/"
        },
        "outputId": "68a9c793-096a-415d-abd5-75d7aa24b2b0",
        "id": "5tdQ79ZM20-Z"
      },
      "execution_count": 45,
      "outputs": [
        {
          "output_type": "execute_result",
          "data": {
            "text/plain": [
              "(7835, 6)"
            ]
          },
          "metadata": {},
          "execution_count": 45
        }
      ]
    },
    {
      "cell_type": "code",
      "source": [
        "# Apply PCA to the data\n",
        "pca = PCA(n_components=200)\n",
        "D_pca = pca.fit_transform(D_time)"
      ],
      "metadata": {
        "id": "gK4Y8Y_A20-Z"
      },
      "execution_count": 46,
      "outputs": []
    },
    {
      "cell_type": "code",
      "source": [
        "# Split the data into train and test sets\n",
        "x_train, x_test, y_train, y_test = train_test_split(np.array(D_pca), np.array(Y_time), test_size=0.05, random_state=69, shuffle=True, stratify=Y_time)\n",
        "print((x_train.shape, y_train.shape, x_test.shape, y_test.shape))\n",
        "\n",
        "x_train = x_train.reshape((x_train.shape[0], x_train.shape[1], 1))\n",
        "x_test = x_test.reshape((x_test.shape[0], x_test.shape[1], 1))\n",
        "\n",
        "model = Sequential()\n",
        "model.add(Conv1D(128, 3, input_shape=(x_train.shape[1], 1), kernel_regularizer=regularizers.l2(0.001)))\n",
        "model.add(BatchNormalization())\n",
        "model.add(Activation('relu'))\n",
        "model.add(MaxPooling1D(pool_size=2))\n",
        "\n",
        "model.add(Conv1D(256, 3, kernel_regularizer=regularizers.l2(0.001)))\n",
        "model.add(BatchNormalization())\n",
        "model.add(Activation('relu'))\n",
        "model.add(MaxPooling1D(pool_size=2))\n",
        "\n",
        "model.add(Conv1D(512, 3, kernel_regularizer=regularizers.l2(0.001)))\n",
        "model.add(BatchNormalization())\n",
        "model.add(Activation('relu'))\n",
        "model.add(MaxPooling1D(pool_size=2))\n",
        "\n",
        "model.add(Conv1D(1024, 3,  kernel_regularizer=regularizers.l2(0.001)))\n",
        "model.add(BatchNormalization())\n",
        "model.add(Activation('relu'))\n",
        "model.add(MaxPooling1D(pool_size=2))\n",
        "\n",
        "model.add(Flatten())\n",
        "model.add(Dense(512, kernel_regularizer=regularizers.l2(0.001)))\n",
        "model.add(BatchNormalization())\n",
        "model.add(Activation('relu'))\n",
        "model.add(Dropout(0.3))\n",
        "\n",
        "model.add(Dense(256, kernel_regularizer=regularizers.l2(0.001)))\n",
        "model.add(BatchNormalization())\n",
        "model.add(Activation('relu'))\n",
        "model.add(Dropout(0.2))\n",
        "\n",
        "model.add(Dense(128, kernel_regularizer=regularizers.l2(0.001)))\n",
        "model.add(BatchNormalization())\n",
        "model.add(Activation('relu'))\n",
        "model.add(Dropout(0.2))\n",
        "\n",
        "model.add(Dense(6, activation='softmax'))\n",
        "\n",
        "model.compile(loss='categorical_crossentropy',\n",
        "             optimizer=optimizers.Adam(lr=0.0005),\n",
        "             metrics=['accuracy'])\n",
        "\n",
        "# Specify thecallbacks for the model\n",
        "callbacks = [EarlyStopping(monitor='val_loss', patience=10)]\n",
        "\n",
        "model.summary()\n",
        "\n",
        "# Train the model with early stopping\n",
        "history = model.fit(x_train, y_train,\n",
        "                    validation_data=(x_train, y_train),\n",
        "                    epochs=50,\n",
        "                    batch_size=32,\n",
        "                    callbacks=callbacks)"
      ],
      "metadata": {
        "colab": {
          "base_uri": "https://localhost:8080/"
        },
        "outputId": "114ec0a5-84f1-4f8d-994d-fa9d447bcd83",
        "id": "R7iI8VgA20-a"
      },
      "execution_count": 47,
      "outputs": [
        {
          "output_type": "stream",
          "name": "stdout",
          "text": [
            "((7443, 200), (7443, 6), (392, 200), (392, 6))\n",
            "Model: \"sequential_2\"\n",
            "_________________________________________________________________\n",
            " Layer (type)                Output Shape              Param #   \n",
            "=================================================================\n",
            " conv1d_4 (Conv1D)           (None, 198, 128)          512       \n",
            "                                                                 \n",
            " batch_normalization_7 (Batc  (None, 198, 128)         512       \n",
            " hNormalization)                                                 \n",
            "                                                                 \n",
            " activation_7 (Activation)   (None, 198, 128)          0         \n",
            "                                                                 \n",
            " max_pooling1d_4 (MaxPooling  (None, 99, 128)          0         \n",
            " 1D)                                                             \n",
            "                                                                 \n",
            " conv1d_5 (Conv1D)           (None, 97, 256)           98560     \n",
            "                                                                 \n",
            " batch_normalization_8 (Batc  (None, 97, 256)          1024      \n",
            " hNormalization)                                                 \n",
            "                                                                 \n",
            " activation_8 (Activation)   (None, 97, 256)           0         \n",
            "                                                                 \n",
            " max_pooling1d_5 (MaxPooling  (None, 48, 256)          0         \n",
            " 1D)                                                             \n",
            "                                                                 \n",
            " conv1d_6 (Conv1D)           (None, 46, 512)           393728    \n",
            "                                                                 \n",
            " batch_normalization_9 (Batc  (None, 46, 512)          2048      \n",
            " hNormalization)                                                 \n",
            "                                                                 \n",
            " activation_9 (Activation)   (None, 46, 512)           0         \n",
            "                                                                 \n",
            " max_pooling1d_6 (MaxPooling  (None, 23, 512)          0         \n",
            " 1D)                                                             \n",
            "                                                                 \n",
            " conv1d_7 (Conv1D)           (None, 21, 1024)          1573888   \n",
            "                                                                 \n",
            " batch_normalization_10 (Bat  (None, 21, 1024)         4096      \n",
            " chNormalization)                                                \n",
            "                                                                 \n",
            " activation_10 (Activation)  (None, 21, 1024)          0         \n",
            "                                                                 \n",
            " max_pooling1d_7 (MaxPooling  (None, 10, 1024)         0         \n",
            " 1D)                                                             \n",
            "                                                                 \n",
            " flatten_2 (Flatten)         (None, 10240)             0         \n",
            "                                                                 \n",
            " dense_7 (Dense)             (None, 512)               5243392   \n",
            "                                                                 \n",
            " batch_normalization_11 (Bat  (None, 512)              2048      \n",
            " chNormalization)                                                \n",
            "                                                                 \n",
            " activation_11 (Activation)  (None, 512)               0         \n",
            "                                                                 \n",
            " dropout_5 (Dropout)         (None, 512)               0         \n",
            "                                                                 \n",
            " dense_8 (Dense)             (None, 256)               131328    \n",
            "                                                                 \n",
            " batch_normalization_12 (Bat  (None, 256)              1024      \n",
            " chNormalization)                                                \n",
            "                                                                 \n",
            " activation_12 (Activation)  (None, 256)               0         \n",
            "                                                                 \n",
            " dropout_6 (Dropout)         (None, 256)               0         \n",
            "                                                                 \n",
            " dense_9 (Dense)             (None, 128)               32896     \n",
            "                                                                 \n",
            " batch_normalization_13 (Bat  (None, 128)              512       \n",
            " chNormalization)                                                \n",
            "                                                                 \n",
            " activation_13 (Activation)  (None, 128)               0         \n",
            "                                                                 \n",
            " dropout_7 (Dropout)         (None, 128)               0         \n",
            "                                                                 \n",
            " dense_10 (Dense)            (None, 6)                 774       \n",
            "                                                                 \n",
            "=================================================================\n",
            "Total params: 7,486,342\n",
            "Trainable params: 7,480,710\n",
            "Non-trainable params: 5,632\n",
            "_________________________________________________________________\n"
          ]
        },
        {
          "output_type": "stream",
          "name": "stderr",
          "text": [
            "/usr/local/lib/python3.10/dist-packages/keras/optimizers/legacy/adam.py:117: UserWarning: The `lr` argument is deprecated, use `learning_rate` instead.\n",
            "  super().__init__(name, **kwargs)\n"
          ]
        },
        {
          "output_type": "stream",
          "name": "stdout",
          "text": [
            "Epoch 1/50\n",
            "233/233 [==============================] - 8s 23ms/step - loss: 3.4641 - accuracy: 0.2769 - val_loss: 3.5970 - val_accuracy: 0.1464\n",
            "Epoch 2/50\n",
            "233/233 [==============================] - 4s 18ms/step - loss: 2.8334 - accuracy: 0.3184 - val_loss: 3.0989 - val_accuracy: 0.1493\n",
            "Epoch 3/50\n",
            "233/233 [==============================] - 5s 22ms/step - loss: 2.5740 - accuracy: 0.3364 - val_loss: 2.4826 - val_accuracy: 0.3419\n",
            "Epoch 4/50\n",
            "233/233 [==============================] - 5s 19ms/step - loss: 2.4003 - accuracy: 0.3614 - val_loss: 2.3931 - val_accuracy: 0.3345\n",
            "Epoch 5/50\n",
            "233/233 [==============================] - 4s 18ms/step - loss: 2.2647 - accuracy: 0.3800 - val_loss: 2.5308 - val_accuracy: 0.2851\n",
            "Epoch 6/50\n",
            "233/233 [==============================] - 5s 21ms/step - loss: 2.1824 - accuracy: 0.3740 - val_loss: 2.3478 - val_accuracy: 0.2699\n",
            "Epoch 7/50\n",
            "233/233 [==============================] - 4s 18ms/step - loss: 2.0951 - accuracy: 0.3910 - val_loss: 2.1000 - val_accuracy: 0.3787\n",
            "Epoch 8/50\n",
            "233/233 [==============================] - 5s 20ms/step - loss: 2.0204 - accuracy: 0.3943 - val_loss: 2.0476 - val_accuracy: 0.3628\n",
            "Epoch 9/50\n",
            "233/233 [==============================] - 5s 21ms/step - loss: 1.9465 - accuracy: 0.4051 - val_loss: 2.0422 - val_accuracy: 0.3368\n",
            "Epoch 10/50\n",
            "233/233 [==============================] - 4s 18ms/step - loss: 1.9005 - accuracy: 0.4126 - val_loss: 2.2241 - val_accuracy: 0.2753\n",
            "Epoch 11/50\n",
            "233/233 [==============================] - 4s 18ms/step - loss: 1.8436 - accuracy: 0.4182 - val_loss: 1.9487 - val_accuracy: 0.3618\n",
            "Epoch 12/50\n",
            "233/233 [==============================] - 5s 22ms/step - loss: 1.8102 - accuracy: 0.4197 - val_loss: 1.9930 - val_accuracy: 0.3190\n",
            "Epoch 13/50\n",
            "233/233 [==============================] - 4s 18ms/step - loss: 1.7787 - accuracy: 0.4191 - val_loss: 1.8466 - val_accuracy: 0.3444\n",
            "Epoch 14/50\n",
            "233/233 [==============================] - 4s 18ms/step - loss: 1.7303 - accuracy: 0.4334 - val_loss: 2.2103 - val_accuracy: 0.2782\n",
            "Epoch 15/50\n",
            "233/233 [==============================] - 5s 21ms/step - loss: 1.7160 - accuracy: 0.4270 - val_loss: 1.9278 - val_accuracy: 0.3281\n",
            "Epoch 16/50\n",
            "233/233 [==============================] - 5s 20ms/step - loss: 1.6783 - accuracy: 0.4350 - val_loss: 1.9742 - val_accuracy: 0.2670\n",
            "Epoch 17/50\n",
            "233/233 [==============================] - 5s 19ms/step - loss: 1.6570 - accuracy: 0.4396 - val_loss: 2.1436 - val_accuracy: 0.2766\n",
            "Epoch 18/50\n",
            "233/233 [==============================] - 5s 22ms/step - loss: 1.6420 - accuracy: 0.4400 - val_loss: 1.7529 - val_accuracy: 0.3890\n",
            "Epoch 19/50\n",
            "233/233 [==============================] - 4s 18ms/step - loss: 1.6174 - accuracy: 0.4454 - val_loss: 1.9588 - val_accuracy: 0.3112\n",
            "Epoch 20/50\n",
            "233/233 [==============================] - 4s 18ms/step - loss: 1.6072 - accuracy: 0.4573 - val_loss: 2.1183 - val_accuracy: 0.3132\n",
            "Epoch 21/50\n",
            "233/233 [==============================] - 5s 21ms/step - loss: 1.5939 - accuracy: 0.4529 - val_loss: 1.7213 - val_accuracy: 0.3462\n",
            "Epoch 22/50\n",
            "233/233 [==============================] - 4s 19ms/step - loss: 1.5816 - accuracy: 0.4615 - val_loss: 1.9106 - val_accuracy: 0.2855\n",
            "Epoch 23/50\n",
            "233/233 [==============================] - 4s 18ms/step - loss: 1.5734 - accuracy: 0.4619 - val_loss: 1.9954 - val_accuracy: 0.2949\n",
            "Epoch 24/50\n",
            "233/233 [==============================] - 5s 21ms/step - loss: 1.5573 - accuracy: 0.4709 - val_loss: 1.8151 - val_accuracy: 0.3284\n",
            "Epoch 25/50\n",
            "233/233 [==============================] - 5s 20ms/step - loss: 1.5470 - accuracy: 0.4728 - val_loss: 1.7557 - val_accuracy: 0.3779\n",
            "Epoch 26/50\n",
            "233/233 [==============================] - 5s 20ms/step - loss: 1.5193 - accuracy: 0.4784 - val_loss: 1.6352 - val_accuracy: 0.4211\n",
            "Epoch 27/50\n",
            "233/233 [==============================] - 5s 21ms/step - loss: 1.4958 - accuracy: 0.4951 - val_loss: 1.5533 - val_accuracy: 0.4696\n",
            "Epoch 28/50\n",
            "233/233 [==============================] - 5s 20ms/step - loss: 1.4797 - accuracy: 0.4976 - val_loss: 1.9216 - val_accuracy: 0.3950\n",
            "Epoch 29/50\n",
            "233/233 [==============================] - 4s 18ms/step - loss: 1.4771 - accuracy: 0.5024 - val_loss: 1.9456 - val_accuracy: 0.3482\n",
            "Epoch 30/50\n",
            "233/233 [==============================] - 5s 21ms/step - loss: 1.4564 - accuracy: 0.5143 - val_loss: 2.0177 - val_accuracy: 0.3482\n",
            "Epoch 31/50\n",
            "233/233 [==============================] - 5s 20ms/step - loss: 1.4309 - accuracy: 0.5198 - val_loss: 2.2193 - val_accuracy: 0.2640\n",
            "Epoch 32/50\n",
            "233/233 [==============================] - 5s 19ms/step - loss: 1.4158 - accuracy: 0.5304 - val_loss: 1.9371 - val_accuracy: 0.3448\n",
            "Epoch 33/50\n",
            "233/233 [==============================] - 5s 22ms/step - loss: 1.4193 - accuracy: 0.5288 - val_loss: 1.9266 - val_accuracy: 0.3251\n",
            "Epoch 34/50\n",
            "233/233 [==============================] - 4s 19ms/step - loss: 1.3926 - accuracy: 0.5435 - val_loss: 1.5623 - val_accuracy: 0.4686\n",
            "Epoch 35/50\n",
            "233/233 [==============================] - 4s 19ms/step - loss: 1.3675 - accuracy: 0.5541 - val_loss: 1.6481 - val_accuracy: 0.4138\n",
            "Epoch 36/50\n",
            "233/233 [==============================] - 5s 22ms/step - loss: 1.3472 - accuracy: 0.5604 - val_loss: 1.4375 - val_accuracy: 0.5327\n",
            "Epoch 37/50\n",
            "233/233 [==============================] - 5s 20ms/step - loss: 1.3337 - accuracy: 0.5691 - val_loss: 1.6482 - val_accuracy: 0.4489\n",
            "Epoch 38/50\n",
            "233/233 [==============================] - 5s 20ms/step - loss: 1.3125 - accuracy: 0.5854 - val_loss: 1.8844 - val_accuracy: 0.3864\n",
            "Epoch 39/50\n",
            "233/233 [==============================] - 5s 22ms/step - loss: 1.2871 - accuracy: 0.5941 - val_loss: 2.1835 - val_accuracy: 0.3372\n",
            "Epoch 40/50\n",
            "233/233 [==============================] - 4s 18ms/step - loss: 1.2508 - accuracy: 0.6089 - val_loss: 1.6908 - val_accuracy: 0.4633\n",
            "Epoch 41/50\n",
            "233/233 [==============================] - 4s 18ms/step - loss: 1.2442 - accuracy: 0.6155 - val_loss: 1.4940 - val_accuracy: 0.4775\n",
            "Epoch 42/50\n",
            "233/233 [==============================] - 5s 22ms/step - loss: 1.2179 - accuracy: 0.6284 - val_loss: 1.3883 - val_accuracy: 0.5474\n",
            "Epoch 43/50\n",
            "233/233 [==============================] - 5s 19ms/step - loss: 1.1839 - accuracy: 0.6461 - val_loss: 2.1688 - val_accuracy: 0.3431\n",
            "Epoch 44/50\n",
            "233/233 [==============================] - 4s 18ms/step - loss: 1.1752 - accuracy: 0.6458 - val_loss: 3.8242 - val_accuracy: 0.2174\n",
            "Epoch 45/50\n",
            "233/233 [==============================] - 5s 22ms/step - loss: 1.1443 - accuracy: 0.6598 - val_loss: 1.4314 - val_accuracy: 0.5338\n",
            "Epoch 46/50\n",
            "233/233 [==============================] - 4s 18ms/step - loss: 1.1274 - accuracy: 0.6675 - val_loss: 1.5479 - val_accuracy: 0.4533\n",
            "Epoch 47/50\n",
            "233/233 [==============================] - 4s 18ms/step - loss: 1.1149 - accuracy: 0.6786 - val_loss: 3.9568 - val_accuracy: 0.2707\n",
            "Epoch 48/50\n",
            "233/233 [==============================] - 5s 22ms/step - loss: 1.0672 - accuracy: 0.6937 - val_loss: 1.2827 - val_accuracy: 0.5834\n",
            "Epoch 49/50\n",
            "233/233 [==============================] - 5s 20ms/step - loss: 1.0531 - accuracy: 0.7056 - val_loss: 1.2539 - val_accuracy: 0.6171\n",
            "Epoch 50/50\n",
            "233/233 [==============================] - 5s 20ms/step - loss: 1.0257 - accuracy: 0.7060 - val_loss: 1.8974 - val_accuracy: 0.4200\n"
          ]
        }
      ]
    },
    {
      "cell_type": "markdown",
      "source": [
        "**Without Augmentation**"
      ],
      "metadata": {
        "id": "td_eFRqo9Rzx"
      }
    },
    {
      "cell_type": "code",
      "execution_count": 48,
      "metadata": {
        "id": "KZf_P4CF6IoY"
      },
      "outputs": [],
      "source": [
        "def getMaxLen(audio_files):\n",
        "  max_length = 0\n",
        "  for audio_file in audio_files:\n",
        "    audio, _ = librosa.load(audio_file)\n",
        "    length = len(audio)\n",
        "    max_length = max(max_length, length)\n",
        "  return max_length"
      ]
    },
    {
      "cell_type": "code",
      "source": [
        "def loadAudioTime(audio_files):\n",
        "  classes = [\"SAD\", \"ANG\", \"DIS\", \"FEA\", \"HAP\", \"NEU\"]\n",
        "  #1D WITHOUT MEL\n",
        "  # max_length = getMaxLen(audio_files)\n",
        "  max_length = 200\n",
        "  D, Y = [], []\n",
        "  for audio_file in audio_files: \n",
        "    # load the audio file\n",
        "    audio, sr = lib.load(audio_file, sr=4444)\n",
        "    # extract zero crossing rate\n",
        "    zcr = zeroCrossingRate(audio)\n",
        "    # extract energy\n",
        "    rms = energy(audio)\n",
        "    # chroma stft\n",
        "    cs = chromaStft(audio, sr)\n",
        "    # mfcc\n",
        "    mfc = mfcc(audio, sr)\n",
        "    # extract mel spectrogram\n",
        "    #mel_spec = melSpectrogram(audio, sr).mean()\n",
        "    combined_features = np.concatenate(([rms, cs, mfc], (np.pad(zcr[0], (0, 300 - len(zcr[0]))))))\n",
        "    D.append(combined_features)\n",
        "    for cls in classes:\n",
        "      if re.search(cls, audio_file): Y.append(cls)\n",
        "  return D,Y\n",
        "  "
      ],
      "metadata": {
        "id": "1zNbQDDB6Ion"
      },
      "execution_count": 75,
      "outputs": []
    },
    {
      "cell_type": "code",
      "execution_count": 55,
      "metadata": {
        "id": "YET6vVv16Ion"
      },
      "outputs": [],
      "source": [
        "def loadAudioFreq(audio_files):\n",
        "  classes = [\"SAD\", \"ANG\", \"DIS\", \"FEA\", \"HAP\", \"NEU\"]\n",
        "  \n",
        "  # max_length = getMaxLen(audio_files)\n",
        "  max_length = 200\n",
        "  D, Y = [], []\n",
        "  for audio_file in audio_files: \n",
        "    # load the audio file\n",
        "    audio, sr = lib.load(audio_file, sr=4444)\n",
        "    # extract mel spectrogram\n",
        "    mel_spec = melSpectrogram(audio, sr)\n",
        "    D.append(mel_spec)\n",
        "    for cls in classes:\n",
        "      if re.search(cls, audio_file): Y.append(cls)\n",
        "    \n",
        "  return D, Y"
      ]
    },
    {
      "cell_type": "code",
      "source": [
        "D_time, Y_time = loadAudioTime(D_train)"
      ],
      "metadata": {
        "colab": {
          "base_uri": "https://localhost:8080/"
        },
        "outputId": "3650e8d4-7187-4999-c9d7-ab1dd9f850c1",
        "id": "8s3l7aas6Ioo"
      },
      "execution_count": 56,
      "outputs": [
        {
          "output_type": "stream",
          "name": "stderr",
          "text": [
            "/usr/local/lib/python3.10/dist-packages/librosa/util/decorators.py:88: UserWarning: Trying to estimate tuning from empty frequency set.\n",
            "  return f(*args, **kwargs)\n"
          ]
        }
      ]
    },
    {
      "cell_type": "code",
      "source": [
        "D_time = np.array(D_time)\n",
        "D_time.shape"
      ],
      "metadata": {
        "colab": {
          "base_uri": "https://localhost:8080/"
        },
        "outputId": "14fbe60a-373c-446b-9187-e99baec92528",
        "id": "DztAzXHb6Ioo"
      },
      "execution_count": 57,
      "outputs": [
        {
          "output_type": "execute_result",
          "data": {
            "text/plain": [
              "(5216, 303)"
            ]
          },
          "metadata": {},
          "execution_count": 57
        }
      ]
    },
    {
      "cell_type": "code",
      "source": [
        "unicheck = np.unique(Y_time, axis=0)\n",
        "print(f\"Check on time domain:\\n{unicheck}\")"
      ],
      "metadata": {
        "colab": {
          "base_uri": "https://localhost:8080/"
        },
        "outputId": "da73239d-d298-4e9e-b5a9-b0880c561f8b",
        "id": "3Y110ce56Ioo"
      },
      "execution_count": 58,
      "outputs": [
        {
          "output_type": "stream",
          "name": "stdout",
          "text": [
            "Check on time domain:\n",
            "['ANG' 'DIS' 'FEA' 'HAP' 'NEU' 'SAD']\n"
          ]
        }
      ]
    },
    {
      "cell_type": "code",
      "source": [
        "df_time = pd.DataFrame(Y_time)\n",
        "df_time.head()"
      ],
      "metadata": {
        "colab": {
          "base_uri": "https://localhost:8080/",
          "height": 206
        },
        "outputId": "98c0fb1d-f923-430f-dab8-01610adf2cac",
        "id": "HCxTTbIk6Iop"
      },
      "execution_count": 59,
      "outputs": [
        {
          "output_type": "execute_result",
          "data": {
            "text/plain": [
              "     0\n",
              "0  SAD\n",
              "1  FEA\n",
              "2  SAD\n",
              "3  ANG\n",
              "4  SAD"
            ],
            "text/html": [
              "\n",
              "  <div id=\"df-f94fa2ee-6a28-495e-9a3c-20869037ec41\">\n",
              "    <div class=\"colab-df-container\">\n",
              "      <div>\n",
              "<style scoped>\n",
              "    .dataframe tbody tr th:only-of-type {\n",
              "        vertical-align: middle;\n",
              "    }\n",
              "\n",
              "    .dataframe tbody tr th {\n",
              "        vertical-align: top;\n",
              "    }\n",
              "\n",
              "    .dataframe thead th {\n",
              "        text-align: right;\n",
              "    }\n",
              "</style>\n",
              "<table border=\"1\" class=\"dataframe\">\n",
              "  <thead>\n",
              "    <tr style=\"text-align: right;\">\n",
              "      <th></th>\n",
              "      <th>0</th>\n",
              "    </tr>\n",
              "  </thead>\n",
              "  <tbody>\n",
              "    <tr>\n",
              "      <th>0</th>\n",
              "      <td>SAD</td>\n",
              "    </tr>\n",
              "    <tr>\n",
              "      <th>1</th>\n",
              "      <td>FEA</td>\n",
              "    </tr>\n",
              "    <tr>\n",
              "      <th>2</th>\n",
              "      <td>SAD</td>\n",
              "    </tr>\n",
              "    <tr>\n",
              "      <th>3</th>\n",
              "      <td>ANG</td>\n",
              "    </tr>\n",
              "    <tr>\n",
              "      <th>4</th>\n",
              "      <td>SAD</td>\n",
              "    </tr>\n",
              "  </tbody>\n",
              "</table>\n",
              "</div>\n",
              "      <button class=\"colab-df-convert\" onclick=\"convertToInteractive('df-f94fa2ee-6a28-495e-9a3c-20869037ec41')\"\n",
              "              title=\"Convert this dataframe to an interactive table.\"\n",
              "              style=\"display:none;\">\n",
              "        \n",
              "  <svg xmlns=\"http://www.w3.org/2000/svg\" height=\"24px\"viewBox=\"0 0 24 24\"\n",
              "       width=\"24px\">\n",
              "    <path d=\"M0 0h24v24H0V0z\" fill=\"none\"/>\n",
              "    <path d=\"M18.56 5.44l.94 2.06.94-2.06 2.06-.94-2.06-.94-.94-2.06-.94 2.06-2.06.94zm-11 1L8.5 8.5l.94-2.06 2.06-.94-2.06-.94L8.5 2.5l-.94 2.06-2.06.94zm10 10l.94 2.06.94-2.06 2.06-.94-2.06-.94-.94-2.06-.94 2.06-2.06.94z\"/><path d=\"M17.41 7.96l-1.37-1.37c-.4-.4-.92-.59-1.43-.59-.52 0-1.04.2-1.43.59L10.3 9.45l-7.72 7.72c-.78.78-.78 2.05 0 2.83L4 21.41c.39.39.9.59 1.41.59.51 0 1.02-.2 1.41-.59l7.78-7.78 2.81-2.81c.8-.78.8-2.07 0-2.86zM5.41 20L4 18.59l7.72-7.72 1.47 1.35L5.41 20z\"/>\n",
              "  </svg>\n",
              "      </button>\n",
              "      \n",
              "  <style>\n",
              "    .colab-df-container {\n",
              "      display:flex;\n",
              "      flex-wrap:wrap;\n",
              "      gap: 12px;\n",
              "    }\n",
              "\n",
              "    .colab-df-convert {\n",
              "      background-color: #E8F0FE;\n",
              "      border: none;\n",
              "      border-radius: 50%;\n",
              "      cursor: pointer;\n",
              "      display: none;\n",
              "      fill: #1967D2;\n",
              "      height: 32px;\n",
              "      padding: 0 0 0 0;\n",
              "      width: 32px;\n",
              "    }\n",
              "\n",
              "    .colab-df-convert:hover {\n",
              "      background-color: #E2EBFA;\n",
              "      box-shadow: 0px 1px 2px rgba(60, 64, 67, 0.3), 0px 1px 3px 1px rgba(60, 64, 67, 0.15);\n",
              "      fill: #174EA6;\n",
              "    }\n",
              "\n",
              "    [theme=dark] .colab-df-convert {\n",
              "      background-color: #3B4455;\n",
              "      fill: #D2E3FC;\n",
              "    }\n",
              "\n",
              "    [theme=dark] .colab-df-convert:hover {\n",
              "      background-color: #434B5C;\n",
              "      box-shadow: 0px 1px 3px 1px rgba(0, 0, 0, 0.15);\n",
              "      filter: drop-shadow(0px 1px 2px rgba(0, 0, 0, 0.3));\n",
              "      fill: #FFFFFF;\n",
              "    }\n",
              "  </style>\n",
              "\n",
              "      <script>\n",
              "        const buttonEl =\n",
              "          document.querySelector('#df-f94fa2ee-6a28-495e-9a3c-20869037ec41 button.colab-df-convert');\n",
              "        buttonEl.style.display =\n",
              "          google.colab.kernel.accessAllowed ? 'block' : 'none';\n",
              "\n",
              "        async function convertToInteractive(key) {\n",
              "          const element = document.querySelector('#df-f94fa2ee-6a28-495e-9a3c-20869037ec41');\n",
              "          const dataTable =\n",
              "            await google.colab.kernel.invokeFunction('convertToInteractive',\n",
              "                                                     [key], {});\n",
              "          if (!dataTable) return;\n",
              "\n",
              "          const docLinkHtml = 'Like what you see? Visit the ' +\n",
              "            '<a target=\"_blank\" href=https://colab.research.google.com/notebooks/data_table.ipynb>data table notebook</a>'\n",
              "            + ' to learn more about interactive tables.';\n",
              "          element.innerHTML = '';\n",
              "          dataTable['output_type'] = 'display_data';\n",
              "          await google.colab.output.renderOutput(dataTable, element);\n",
              "          const docLink = document.createElement('div');\n",
              "          docLink.innerHTML = docLinkHtml;\n",
              "          element.appendChild(docLink);\n",
              "        }\n",
              "      </script>\n",
              "    </div>\n",
              "  </div>\n",
              "  "
            ]
          },
          "metadata": {},
          "execution_count": 59
        }
      ]
    },
    {
      "cell_type": "code",
      "source": [
        "# Use the get_dummies() method to one-hot encode the labels\n",
        "one_hot_labels = pd.get_dummies(df_time)\n",
        "\n",
        "# Convert the DataFrame to a NumPy array\n",
        "one_hot_labels = one_hot_labels.to_numpy()\n",
        "\n",
        "print(one_hot_labels.shape)"
      ],
      "metadata": {
        "colab": {
          "base_uri": "https://localhost:8080/"
        },
        "outputId": "f05cde55-e796-4f92-d386-4411d8140c22",
        "id": "BdLj2OyB6Iop"
      },
      "execution_count": 60,
      "outputs": [
        {
          "output_type": "stream",
          "name": "stdout",
          "text": [
            "(5216, 6)\n"
          ]
        }
      ]
    },
    {
      "cell_type": "code",
      "source": [
        "Y_time = one_hot_labels\n",
        "Y_time.shape"
      ],
      "metadata": {
        "colab": {
          "base_uri": "https://localhost:8080/"
        },
        "outputId": "8f42d8c7-425e-4204-ce93-3b42510431fa",
        "id": "hf20_Bqn6Iop"
      },
      "execution_count": 61,
      "outputs": [
        {
          "output_type": "execute_result",
          "data": {
            "text/plain": [
              "(5216, 6)"
            ]
          },
          "metadata": {},
          "execution_count": 61
        }
      ]
    },
    {
      "cell_type": "code",
      "source": [
        "# Apply PCA to the data\n",
        "pca = PCA(n_components=200)\n",
        "D_pca = pca.fit_transform(D_time)"
      ],
      "metadata": {
        "id": "CHNqhN5M6Iop"
      },
      "execution_count": 62,
      "outputs": []
    },
    {
      "cell_type": "code",
      "source": [
        "# Split the data into train and test sets\n",
        "x_train, x_test, y_train, y_test = train_test_split(np.array(D_pca), np.array(Y_time), test_size=0.05, random_state=69, shuffle=True, stratify=Y_time)\n",
        "print((x_train.shape, y_train.shape, x_test.shape, y_test.shape))\n",
        "\n",
        "x_train = x_train.reshape((x_train.shape[0], x_train.shape[1], 1))\n",
        "x_test = x_test.reshape((x_test.shape[0], x_test.shape[1], 1))\n",
        "\n",
        "model = Sequential()\n",
        "model.add(Conv1D(128, 3, input_shape=(x_train.shape[1], 1), kernel_regularizer=regularizers.l2(0.001)))\n",
        "model.add(BatchNormalization())\n",
        "model.add(Activation('relu'))\n",
        "model.add(MaxPooling1D(pool_size=2))\n",
        "\n",
        "model.add(Conv1D(256, 3, kernel_regularizer=regularizers.l2(0.001)))\n",
        "model.add(BatchNormalization())\n",
        "model.add(Activation('relu'))\n",
        "model.add(MaxPooling1D(pool_size=2))\n",
        "\n",
        "model.add(Conv1D(512, 3, kernel_regularizer=regularizers.l2(0.001)))\n",
        "model.add(BatchNormalization())\n",
        "model.add(Activation('relu'))\n",
        "model.add(MaxPooling1D(pool_size=2))\n",
        "\n",
        "model.add(Conv1D(1024, 3,  kernel_regularizer=regularizers.l2(0.001)))\n",
        "model.add(BatchNormalization())\n",
        "model.add(Activation('relu'))\n",
        "model.add(MaxPooling1D(pool_size=2))\n",
        "\n",
        "model.add(Flatten())\n",
        "model.add(Dense(512, kernel_regularizer=regularizers.l2(0.001)))\n",
        "model.add(BatchNormalization())\n",
        "model.add(Activation('relu'))\n",
        "model.add(Dropout(0.3))\n",
        "\n",
        "model.add(Dense(256, kernel_regularizer=regularizers.l2(0.001)))\n",
        "model.add(BatchNormalization())\n",
        "model.add(Activation('relu'))\n",
        "model.add(Dropout(0.2))\n",
        "\n",
        "model.add(Dense(128, kernel_regularizer=regularizers.l2(0.001)))\n",
        "model.add(BatchNormalization())\n",
        "model.add(Activation('relu'))\n",
        "model.add(Dropout(0.2))\n",
        "\n",
        "model.add(Dense(6, activation='softmax'))\n",
        "\n",
        "model.compile(loss='categorical_crossentropy',\n",
        "             optimizer=optimizers.Adam(lr=0.0005),\n",
        "             metrics=['accuracy'])\n",
        "\n",
        "# Specify thecallbacks for the model\n",
        "callbacks = [EarlyStopping(monitor='val_loss', patience=10)]\n",
        "\n",
        "model.summary()\n",
        "\n",
        "# Train the model with early stopping\n",
        "history = model.fit(x_train, y_train,\n",
        "                    validation_data=(x_train, y_train),\n",
        "                    epochs=50,\n",
        "                    batch_size=32,\n",
        "                    callbacks=callbacks)"
      ],
      "metadata": {
        "colab": {
          "base_uri": "https://localhost:8080/"
        },
        "outputId": "36e8fb24-56ea-4b2d-feff-25c16251d5c9",
        "id": "O4bJ2wOo6Ioq"
      },
      "execution_count": 63,
      "outputs": [
        {
          "output_type": "stream",
          "name": "stdout",
          "text": [
            "((4955, 200), (4955, 6), (261, 200), (261, 6))\n",
            "Model: \"sequential_3\"\n",
            "_________________________________________________________________\n",
            " Layer (type)                Output Shape              Param #   \n",
            "=================================================================\n",
            " conv1d_8 (Conv1D)           (None, 198, 128)          512       \n",
            "                                                                 \n",
            " batch_normalization_14 (Bat  (None, 198, 128)         512       \n",
            " chNormalization)                                                \n",
            "                                                                 \n",
            " activation_14 (Activation)  (None, 198, 128)          0         \n",
            "                                                                 \n",
            " max_pooling1d_8 (MaxPooling  (None, 99, 128)          0         \n",
            " 1D)                                                             \n",
            "                                                                 \n",
            " conv1d_9 (Conv1D)           (None, 97, 256)           98560     \n",
            "                                                                 \n",
            " batch_normalization_15 (Bat  (None, 97, 256)          1024      \n",
            " chNormalization)                                                \n",
            "                                                                 \n",
            " activation_15 (Activation)  (None, 97, 256)           0         \n",
            "                                                                 \n",
            " max_pooling1d_9 (MaxPooling  (None, 48, 256)          0         \n",
            " 1D)                                                             \n",
            "                                                                 \n",
            " conv1d_10 (Conv1D)          (None, 46, 512)           393728    \n",
            "                                                                 \n",
            " batch_normalization_16 (Bat  (None, 46, 512)          2048      \n",
            " chNormalization)                                                \n",
            "                                                                 \n",
            " activation_16 (Activation)  (None, 46, 512)           0         \n",
            "                                                                 \n",
            " max_pooling1d_10 (MaxPoolin  (None, 23, 512)          0         \n",
            " g1D)                                                            \n",
            "                                                                 \n",
            " conv1d_11 (Conv1D)          (None, 21, 1024)          1573888   \n",
            "                                                                 \n",
            " batch_normalization_17 (Bat  (None, 21, 1024)         4096      \n",
            " chNormalization)                                                \n",
            "                                                                 \n",
            " activation_17 (Activation)  (None, 21, 1024)          0         \n",
            "                                                                 \n",
            " max_pooling1d_11 (MaxPoolin  (None, 10, 1024)         0         \n",
            " g1D)                                                            \n",
            "                                                                 \n",
            " flatten_3 (Flatten)         (None, 10240)             0         \n",
            "                                                                 \n",
            " dense_11 (Dense)            (None, 512)               5243392   \n",
            "                                                                 \n",
            " batch_normalization_18 (Bat  (None, 512)              2048      \n",
            " chNormalization)                                                \n",
            "                                                                 \n",
            " activation_18 (Activation)  (None, 512)               0         \n",
            "                                                                 \n",
            " dropout_8 (Dropout)         (None, 512)               0         \n",
            "                                                                 \n",
            " dense_12 (Dense)            (None, 256)               131328    \n",
            "                                                                 \n",
            " batch_normalization_19 (Bat  (None, 256)              1024      \n",
            " chNormalization)                                                \n",
            "                                                                 \n",
            " activation_19 (Activation)  (None, 256)               0         \n",
            "                                                                 \n",
            " dropout_9 (Dropout)         (None, 256)               0         \n",
            "                                                                 \n",
            " dense_13 (Dense)            (None, 128)               32896     \n",
            "                                                                 \n",
            " batch_normalization_20 (Bat  (None, 128)              512       \n",
            " chNormalization)                                                \n",
            "                                                                 \n",
            " activation_20 (Activation)  (None, 128)               0         \n",
            "                                                                 \n",
            " dropout_10 (Dropout)        (None, 128)               0         \n",
            "                                                                 \n",
            " dense_14 (Dense)            (None, 6)                 774       \n",
            "                                                                 \n",
            "=================================================================\n",
            "Total params: 7,486,342\n",
            "Trainable params: 7,480,710\n",
            "Non-trainable params: 5,632\n",
            "_________________________________________________________________\n"
          ]
        },
        {
          "output_type": "stream",
          "name": "stderr",
          "text": [
            "/usr/local/lib/python3.10/dist-packages/keras/optimizers/legacy/adam.py:117: UserWarning: The `lr` argument is deprecated, use `learning_rate` instead.\n",
            "  super().__init__(name, **kwargs)\n"
          ]
        },
        {
          "output_type": "stream",
          "name": "stdout",
          "text": [
            "Epoch 1/50\n",
            "155/155 [==============================] - 8s 32ms/step - loss: 3.5517 - accuracy: 0.3017 - val_loss: 3.8160 - val_accuracy: 0.1487\n",
            "Epoch 2/50\n",
            "155/155 [==============================] - 4s 27ms/step - loss: 2.9751 - accuracy: 0.3453 - val_loss: 3.9389 - val_accuracy: 0.1485\n",
            "Epoch 3/50\n",
            "155/155 [==============================] - 4s 23ms/step - loss: 2.7073 - accuracy: 0.3556 - val_loss: 3.1230 - val_accuracy: 0.1713\n",
            "Epoch 4/50\n",
            "155/155 [==============================] - 4s 24ms/step - loss: 2.5311 - accuracy: 0.3713 - val_loss: 2.7442 - val_accuracy: 0.2367\n",
            "Epoch 5/50\n",
            "155/155 [==============================] - 4s 26ms/step - loss: 2.4056 - accuracy: 0.3816 - val_loss: 2.6156 - val_accuracy: 0.2767\n",
            "Epoch 6/50\n",
            "155/155 [==============================] - 3s 22ms/step - loss: 2.3046 - accuracy: 0.4014 - val_loss: 2.2470 - val_accuracy: 0.4113\n",
            "Epoch 7/50\n",
            "155/155 [==============================] - 3s 22ms/step - loss: 2.2187 - accuracy: 0.4061 - val_loss: 2.4193 - val_accuracy: 0.3407\n",
            "Epoch 8/50\n",
            "155/155 [==============================] - 3s 18ms/step - loss: 2.1580 - accuracy: 0.4048 - val_loss: 2.1403 - val_accuracy: 0.4200\n",
            "Epoch 9/50\n",
            "155/155 [==============================] - 3s 18ms/step - loss: 2.1049 - accuracy: 0.4095 - val_loss: 2.1573 - val_accuracy: 0.3728\n",
            "Epoch 10/50\n",
            "155/155 [==============================] - 3s 22ms/step - loss: 2.0282 - accuracy: 0.4297 - val_loss: 2.1677 - val_accuracy: 0.3372\n",
            "Epoch 11/50\n",
            "155/155 [==============================] - 4s 26ms/step - loss: 1.9860 - accuracy: 0.4289 - val_loss: 1.9323 - val_accuracy: 0.4287\n",
            "Epoch 12/50\n",
            "155/155 [==============================] - 3s 22ms/step - loss: 1.9401 - accuracy: 0.4361 - val_loss: 2.0980 - val_accuracy: 0.3639\n",
            "Epoch 13/50\n",
            "155/155 [==============================] - 3s 18ms/step - loss: 1.8905 - accuracy: 0.4377 - val_loss: 2.0268 - val_accuracy: 0.3594\n",
            "Epoch 14/50\n",
            "155/155 [==============================] - 3s 18ms/step - loss: 1.8366 - accuracy: 0.4607 - val_loss: 1.9609 - val_accuracy: 0.3790\n",
            "Epoch 15/50\n",
            "155/155 [==============================] - 4s 26ms/step - loss: 1.8079 - accuracy: 0.4488 - val_loss: 1.7813 - val_accuracy: 0.4678\n",
            "Epoch 16/50\n",
            "155/155 [==============================] - 3s 22ms/step - loss: 1.7733 - accuracy: 0.4664 - val_loss: 2.1132 - val_accuracy: 0.3316\n",
            "Epoch 17/50\n",
            "155/155 [==============================] - 3s 18ms/step - loss: 1.7518 - accuracy: 0.4767 - val_loss: 1.8964 - val_accuracy: 0.4176\n",
            "Epoch 18/50\n",
            "155/155 [==============================] - 3s 18ms/step - loss: 1.7072 - accuracy: 0.4817 - val_loss: 1.8346 - val_accuracy: 0.4192\n",
            "Epoch 19/50\n",
            "155/155 [==============================] - 4s 25ms/step - loss: 1.6868 - accuracy: 0.4759 - val_loss: 1.8562 - val_accuracy: 0.3841\n",
            "Epoch 20/50\n",
            "155/155 [==============================] - 3s 19ms/step - loss: 1.6673 - accuracy: 0.4864 - val_loss: 1.7497 - val_accuracy: 0.4466\n",
            "Epoch 21/50\n",
            "155/155 [==============================] - 3s 18ms/step - loss: 1.6361 - accuracy: 0.4967 - val_loss: 1.6869 - val_accuracy: 0.4684\n",
            "Epoch 22/50\n",
            "155/155 [==============================] - 3s 22ms/step - loss: 1.6164 - accuracy: 0.5005 - val_loss: 1.7639 - val_accuracy: 0.4442\n",
            "Epoch 23/50\n",
            "155/155 [==============================] - 4s 24ms/step - loss: 1.5793 - accuracy: 0.5082 - val_loss: 1.6181 - val_accuracy: 0.4735\n",
            "Epoch 24/50\n",
            "155/155 [==============================] - 3s 19ms/step - loss: 1.5528 - accuracy: 0.5203 - val_loss: 2.0322 - val_accuracy: 0.3879\n",
            "Epoch 25/50\n",
            "155/155 [==============================] - 3s 18ms/step - loss: 1.5302 - accuracy: 0.5326 - val_loss: 1.8066 - val_accuracy: 0.4200\n",
            "Epoch 26/50\n",
            "155/155 [==============================] - 3s 18ms/step - loss: 1.4969 - accuracy: 0.5463 - val_loss: 1.7651 - val_accuracy: 0.4236\n",
            "Epoch 27/50\n",
            "155/155 [==============================] - 3s 22ms/step - loss: 1.4805 - accuracy: 0.5479 - val_loss: 1.5723 - val_accuracy: 0.5017\n",
            "Epoch 28/50\n",
            "155/155 [==============================] - 3s 22ms/step - loss: 1.4578 - accuracy: 0.5633 - val_loss: 1.9534 - val_accuracy: 0.3352\n",
            "Epoch 29/50\n",
            "155/155 [==============================] - 3s 18ms/step - loss: 1.4131 - accuracy: 0.5790 - val_loss: 1.6537 - val_accuracy: 0.4936\n",
            "Epoch 30/50\n",
            "155/155 [==============================] - 3s 22ms/step - loss: 1.3842 - accuracy: 0.5895 - val_loss: 1.6590 - val_accuracy: 0.4706\n",
            "Epoch 31/50\n",
            "155/155 [==============================] - 3s 22ms/step - loss: 1.3558 - accuracy: 0.6010 - val_loss: 1.4272 - val_accuracy: 0.5909\n",
            "Epoch 32/50\n",
            "155/155 [==============================] - 3s 22ms/step - loss: 1.3422 - accuracy: 0.6135 - val_loss: 1.5458 - val_accuracy: 0.5277\n",
            "Epoch 33/50\n",
            "155/155 [==============================] - 3s 18ms/step - loss: 1.3067 - accuracy: 0.6321 - val_loss: 1.7798 - val_accuracy: 0.4174\n",
            "Epoch 34/50\n",
            "155/155 [==============================] - 3s 18ms/step - loss: 1.2795 - accuracy: 0.6448 - val_loss: 1.7253 - val_accuracy: 0.4321\n",
            "Epoch 35/50\n",
            "155/155 [==============================] - 3s 22ms/step - loss: 1.2385 - accuracy: 0.6632 - val_loss: 2.3907 - val_accuracy: 0.3181\n",
            "Epoch 36/50\n",
            "155/155 [==============================] - 4s 23ms/step - loss: 1.2339 - accuracy: 0.6591 - val_loss: 1.6418 - val_accuracy: 0.4896\n",
            "Epoch 37/50\n",
            "155/155 [==============================] - 3s 19ms/step - loss: 1.1529 - accuracy: 0.6906 - val_loss: 1.5776 - val_accuracy: 0.5175\n",
            "Epoch 38/50\n",
            "155/155 [==============================] - 3s 18ms/step - loss: 1.1380 - accuracy: 0.6965 - val_loss: 1.7614 - val_accuracy: 0.4163\n",
            "Epoch 39/50\n",
            "155/155 [==============================] - 3s 18ms/step - loss: 1.1113 - accuracy: 0.7122 - val_loss: 1.3098 - val_accuracy: 0.6444\n",
            "Epoch 40/50\n",
            "155/155 [==============================] - 3s 23ms/step - loss: 1.1136 - accuracy: 0.7122 - val_loss: 1.4117 - val_accuracy: 0.6125\n",
            "Epoch 41/50\n",
            "155/155 [==============================] - 3s 21ms/step - loss: 1.0797 - accuracy: 0.7275 - val_loss: 2.2630 - val_accuracy: 0.3316\n",
            "Epoch 42/50\n",
            "155/155 [==============================] - 3s 18ms/step - loss: 1.0119 - accuracy: 0.7582 - val_loss: 2.0906 - val_accuracy: 0.4404\n",
            "Epoch 43/50\n",
            "155/155 [==============================] - 3s 22ms/step - loss: 0.9999 - accuracy: 0.7608 - val_loss: 2.1273 - val_accuracy: 0.3637\n",
            "Epoch 44/50\n",
            "155/155 [==============================] - 3s 19ms/step - loss: 0.9605 - accuracy: 0.7701 - val_loss: 1.4480 - val_accuracy: 0.6016\n",
            "Epoch 45/50\n",
            "155/155 [==============================] - 4s 23ms/step - loss: 0.9490 - accuracy: 0.7859 - val_loss: 1.4396 - val_accuracy: 0.5946\n",
            "Epoch 46/50\n",
            "155/155 [==============================] - 3s 18ms/step - loss: 0.9288 - accuracy: 0.7895 - val_loss: 1.5184 - val_accuracy: 0.5768\n",
            "Epoch 47/50\n",
            "155/155 [==============================] - 3s 18ms/step - loss: 0.9123 - accuracy: 0.7998 - val_loss: 2.1998 - val_accuracy: 0.4307\n",
            "Epoch 48/50\n",
            "155/155 [==============================] - 3s 18ms/step - loss: 0.8902 - accuracy: 0.8093 - val_loss: 1.5888 - val_accuracy: 0.5421\n",
            "Epoch 49/50\n",
            "155/155 [==============================] - 3s 21ms/step - loss: 0.8684 - accuracy: 0.8210 - val_loss: 1.6504 - val_accuracy: 0.5602\n"
          ]
        }
      ]
    },
    {
      "cell_type": "code",
      "execution_count": 64,
      "metadata": {
        "id": "CIu3nLHO8p4K"
      },
      "outputs": [],
      "source": [
        "D_freq, Y_freq = loadAudioFreq(D_train)"
      ]
    },
    {
      "cell_type": "code",
      "source": [
        "unicheck = np.unique(Y_freq, axis=0)\n",
        "print(f\"Check on freq domain:\\n{unicheck}\")"
      ],
      "metadata": {
        "colab": {
          "base_uri": "https://localhost:8080/"
        },
        "outputId": "eb89615d-47e1-4719-cb68-2f4531b14f1c",
        "id": "Ypr0iN938p4U"
      },
      "execution_count": 65,
      "outputs": [
        {
          "output_type": "stream",
          "name": "stdout",
          "text": [
            "Check on freq domain:\n",
            "['ANG' 'DIS' 'FEA' 'HAP' 'NEU' 'SAD']\n"
          ]
        }
      ]
    },
    {
      "cell_type": "code",
      "execution_count": 66,
      "metadata": {
        "colab": {
          "base_uri": "https://localhost:8080/",
          "height": 206
        },
        "outputId": "8b825da5-8d6b-4f80-df8f-138d93f6af59",
        "id": "jmGiBzMH8p4U"
      },
      "outputs": [
        {
          "output_type": "execute_result",
          "data": {
            "text/plain": [
              "     0\n",
              "0  SAD\n",
              "1  FEA\n",
              "2  SAD\n",
              "3  ANG\n",
              "4  SAD"
            ],
            "text/html": [
              "\n",
              "  <div id=\"df-a32d3b1f-7d67-43a3-8230-a7c8f0e89d94\">\n",
              "    <div class=\"colab-df-container\">\n",
              "      <div>\n",
              "<style scoped>\n",
              "    .dataframe tbody tr th:only-of-type {\n",
              "        vertical-align: middle;\n",
              "    }\n",
              "\n",
              "    .dataframe tbody tr th {\n",
              "        vertical-align: top;\n",
              "    }\n",
              "\n",
              "    .dataframe thead th {\n",
              "        text-align: right;\n",
              "    }\n",
              "</style>\n",
              "<table border=\"1\" class=\"dataframe\">\n",
              "  <thead>\n",
              "    <tr style=\"text-align: right;\">\n",
              "      <th></th>\n",
              "      <th>0</th>\n",
              "    </tr>\n",
              "  </thead>\n",
              "  <tbody>\n",
              "    <tr>\n",
              "      <th>0</th>\n",
              "      <td>SAD</td>\n",
              "    </tr>\n",
              "    <tr>\n",
              "      <th>1</th>\n",
              "      <td>FEA</td>\n",
              "    </tr>\n",
              "    <tr>\n",
              "      <th>2</th>\n",
              "      <td>SAD</td>\n",
              "    </tr>\n",
              "    <tr>\n",
              "      <th>3</th>\n",
              "      <td>ANG</td>\n",
              "    </tr>\n",
              "    <tr>\n",
              "      <th>4</th>\n",
              "      <td>SAD</td>\n",
              "    </tr>\n",
              "  </tbody>\n",
              "</table>\n",
              "</div>\n",
              "      <button class=\"colab-df-convert\" onclick=\"convertToInteractive('df-a32d3b1f-7d67-43a3-8230-a7c8f0e89d94')\"\n",
              "              title=\"Convert this dataframe to an interactive table.\"\n",
              "              style=\"display:none;\">\n",
              "        \n",
              "  <svg xmlns=\"http://www.w3.org/2000/svg\" height=\"24px\"viewBox=\"0 0 24 24\"\n",
              "       width=\"24px\">\n",
              "    <path d=\"M0 0h24v24H0V0z\" fill=\"none\"/>\n",
              "    <path d=\"M18.56 5.44l.94 2.06.94-2.06 2.06-.94-2.06-.94-.94-2.06-.94 2.06-2.06.94zm-11 1L8.5 8.5l.94-2.06 2.06-.94-2.06-.94L8.5 2.5l-.94 2.06-2.06.94zm10 10l.94 2.06.94-2.06 2.06-.94-2.06-.94-.94-2.06-.94 2.06-2.06.94z\"/><path d=\"M17.41 7.96l-1.37-1.37c-.4-.4-.92-.59-1.43-.59-.52 0-1.04.2-1.43.59L10.3 9.45l-7.72 7.72c-.78.78-.78 2.05 0 2.83L4 21.41c.39.39.9.59 1.41.59.51 0 1.02-.2 1.41-.59l7.78-7.78 2.81-2.81c.8-.78.8-2.07 0-2.86zM5.41 20L4 18.59l7.72-7.72 1.47 1.35L5.41 20z\"/>\n",
              "  </svg>\n",
              "      </button>\n",
              "      \n",
              "  <style>\n",
              "    .colab-df-container {\n",
              "      display:flex;\n",
              "      flex-wrap:wrap;\n",
              "      gap: 12px;\n",
              "    }\n",
              "\n",
              "    .colab-df-convert {\n",
              "      background-color: #E8F0FE;\n",
              "      border: none;\n",
              "      border-radius: 50%;\n",
              "      cursor: pointer;\n",
              "      display: none;\n",
              "      fill: #1967D2;\n",
              "      height: 32px;\n",
              "      padding: 0 0 0 0;\n",
              "      width: 32px;\n",
              "    }\n",
              "\n",
              "    .colab-df-convert:hover {\n",
              "      background-color: #E2EBFA;\n",
              "      box-shadow: 0px 1px 2px rgba(60, 64, 67, 0.3), 0px 1px 3px 1px rgba(60, 64, 67, 0.15);\n",
              "      fill: #174EA6;\n",
              "    }\n",
              "\n",
              "    [theme=dark] .colab-df-convert {\n",
              "      background-color: #3B4455;\n",
              "      fill: #D2E3FC;\n",
              "    }\n",
              "\n",
              "    [theme=dark] .colab-df-convert:hover {\n",
              "      background-color: #434B5C;\n",
              "      box-shadow: 0px 1px 3px 1px rgba(0, 0, 0, 0.15);\n",
              "      filter: drop-shadow(0px 1px 2px rgba(0, 0, 0, 0.3));\n",
              "      fill: #FFFFFF;\n",
              "    }\n",
              "  </style>\n",
              "\n",
              "      <script>\n",
              "        const buttonEl =\n",
              "          document.querySelector('#df-a32d3b1f-7d67-43a3-8230-a7c8f0e89d94 button.colab-df-convert');\n",
              "        buttonEl.style.display =\n",
              "          google.colab.kernel.accessAllowed ? 'block' : 'none';\n",
              "\n",
              "        async function convertToInteractive(key) {\n",
              "          const element = document.querySelector('#df-a32d3b1f-7d67-43a3-8230-a7c8f0e89d94');\n",
              "          const dataTable =\n",
              "            await google.colab.kernel.invokeFunction('convertToInteractive',\n",
              "                                                     [key], {});\n",
              "          if (!dataTable) return;\n",
              "\n",
              "          const docLinkHtml = 'Like what you see? Visit the ' +\n",
              "            '<a target=\"_blank\" href=https://colab.research.google.com/notebooks/data_table.ipynb>data table notebook</a>'\n",
              "            + ' to learn more about interactive tables.';\n",
              "          element.innerHTML = '';\n",
              "          dataTable['output_type'] = 'display_data';\n",
              "          await google.colab.output.renderOutput(dataTable, element);\n",
              "          const docLink = document.createElement('div');\n",
              "          docLink.innerHTML = docLinkHtml;\n",
              "          element.appendChild(docLink);\n",
              "        }\n",
              "      </script>\n",
              "    </div>\n",
              "  </div>\n",
              "  "
            ]
          },
          "metadata": {},
          "execution_count": 66
        }
      ],
      "source": [
        "df_freq = pd.DataFrame(Y_freq)\n",
        "df_freq.head()"
      ]
    },
    {
      "cell_type": "code",
      "execution_count": 67,
      "metadata": {
        "colab": {
          "base_uri": "https://localhost:8080/"
        },
        "outputId": "46c90dca-de84-4002-9841-459420e1762c",
        "id": "T1KWaTGn8p4V"
      },
      "outputs": [
        {
          "output_type": "stream",
          "name": "stdout",
          "text": [
            "(5216, 6)\n"
          ]
        }
      ],
      "source": [
        "# Use the get_dummies() method to one-hot encode the labels\n",
        "one_hot_labels = pd.get_dummies(df_freq)\n",
        "\n",
        "# Convert the DataFrame to a NumPy array\n",
        "one_hot_labels = one_hot_labels.to_numpy()\n",
        "\n",
        "print(one_hot_labels.shape)"
      ]
    },
    {
      "cell_type": "code",
      "execution_count": 68,
      "metadata": {
        "colab": {
          "base_uri": "https://localhost:8080/"
        },
        "outputId": "9f90d436-809f-47f3-a785-3b38fab5e91f",
        "id": "LewtePj-8p4V"
      },
      "outputs": [
        {
          "output_type": "execute_result",
          "data": {
            "text/plain": [
              "(5216, 6)"
            ]
          },
          "metadata": {},
          "execution_count": 68
        }
      ],
      "source": [
        "Y_freq = one_hot_labels\n",
        "Y_freq.shape"
      ]
    },
    {
      "cell_type": "code",
      "source": [
        "for i, array in enumerate(D_freq):\n",
        "    D_freq[i] = np.pad(array, ((0, 0), (0, 256 - array.shape[1])))\n",
        "D_freq = np.array(D_freq)"
      ],
      "metadata": {
        "id": "6JgyykNi8p4V"
      },
      "execution_count": 69,
      "outputs": []
    },
    {
      "cell_type": "code",
      "source": [
        "D_freq.shape"
      ],
      "metadata": {
        "colab": {
          "base_uri": "https://localhost:8080/"
        },
        "outputId": "4eae750f-fba8-4425-fddf-4c574d0b5975",
        "id": "i2XIxaET8p4V"
      },
      "execution_count": 70,
      "outputs": [
        {
          "output_type": "execute_result",
          "data": {
            "text/plain": [
              "(5216, 64, 256)"
            ]
          },
          "metadata": {},
          "execution_count": 70
        }
      ]
    },
    {
      "cell_type": "code",
      "execution_count": 71,
      "metadata": {
        "colab": {
          "base_uri": "https://localhost:8080/"
        },
        "outputId": "b7e646af-8480-4559-8d39-d6169a6f2276",
        "id": "0jXwVKS18p4V"
      },
      "outputs": [
        {
          "output_type": "stream",
          "name": "stdout",
          "text": [
            "((4955, 64, 256), (4955, 6), (261, 64, 256), (261, 6))\n"
          ]
        }
      ],
      "source": [
        "x_train, x_test, y_train, y_test = train_test_split(np.array(D_freq), np.array(Y_freq), test_size=0.05)\n",
        "print((x_train.shape, y_train.shape, x_test.shape, y_test.shape))"
      ]
    },
    {
      "cell_type": "code",
      "execution_count": 72,
      "metadata": {
        "colab": {
          "base_uri": "https://localhost:8080/"
        },
        "outputId": "c657b93a-3f93-4665-f5ed-099ef0c06a8c",
        "id": "OMh7Uzrp8p4V"
      },
      "outputs": [
        {
          "output_type": "stream",
          "name": "stdout",
          "text": [
            "(4955, 64, 256, 1) (261, 64, 256, 1)\n"
          ]
        }
      ],
      "source": [
        "x_train = x_train.reshape((x_train.shape[0], x_train.shape[1], x_train.shape[2], 1))\n",
        "x_test = x_test.reshape((x_test.shape[0], x_test.shape[1], x_test.shape[2], 1))\n",
        "print(x_train.shape, x_test.shape)"
      ]
    },
    {
      "cell_type": "code",
      "source": [
        "model = Sequential()\n",
        "\n",
        "# Layer 1: Convolutional Layer\n",
        "model.add(Conv2D(32, (3, 3), activation='relu', input_shape=(x_train.shape[1], x_train.shape[2], 1)))\n",
        "model.add(MaxPooling2D(pool_size=(2, 2)))\n",
        "\n",
        "# Layer 2: Convolutional Layer\n",
        "model.add(Conv2D(64, (3, 3), activation='relu'))\n",
        "model.add(MaxPooling2D(pool_size=(2, 2)))\n",
        "\n",
        "# Layer 3: Convolutional Layer\n",
        "model.add(Conv2D(128, (3, 3), activation='relu'))\n",
        "model.add(MaxPooling2D(pool_size=(2, 2)))\n",
        "\n",
        "# Layer 4: Flatten Layer\n",
        "model.add(Flatten())\n",
        "\n",
        "# Layer 5: Fully Connected Layer\n",
        "model.add(Dense(256, activation='relu'))\n",
        "model.add(Dropout(0.5))\n",
        "\n",
        "# Layer 6: Fully Connected Layer\n",
        "model.add(Dense(128, activation='relu'))\n",
        "model.add(Dropout(0.5))\n",
        "\n",
        "# Layer 7: Output Layer\n",
        "model.add(Dense(6, activation='sigmoid'))\n",
        "\n",
        "model.compile(loss='categorical_crossentropy',\n",
        "             optimizer=optimizers.Adam(lr=0.0005),\n",
        "             metrics=['accuracy'])\n",
        "\n",
        "model.summary()"
      ],
      "metadata": {
        "colab": {
          "base_uri": "https://localhost:8080/"
        },
        "outputId": "f5211273-985c-42ae-8f9c-0402d0269196",
        "id": "wOshA-Nh8p4W"
      },
      "execution_count": 73,
      "outputs": [
        {
          "output_type": "stream",
          "name": "stdout",
          "text": [
            "Model: \"sequential_4\"\n",
            "_________________________________________________________________\n",
            " Layer (type)                Output Shape              Param #   \n",
            "=================================================================\n",
            " conv2d_3 (Conv2D)           (None, 62, 254, 32)       320       \n",
            "                                                                 \n",
            " max_pooling2d_3 (MaxPooling  (None, 31, 127, 32)      0         \n",
            " 2D)                                                             \n",
            "                                                                 \n",
            " conv2d_4 (Conv2D)           (None, 29, 125, 64)       18496     \n",
            "                                                                 \n",
            " max_pooling2d_4 (MaxPooling  (None, 14, 62, 64)       0         \n",
            " 2D)                                                             \n",
            "                                                                 \n",
            " conv2d_5 (Conv2D)           (None, 12, 60, 128)       73856     \n",
            "                                                                 \n",
            " max_pooling2d_5 (MaxPooling  (None, 6, 30, 128)       0         \n",
            " 2D)                                                             \n",
            "                                                                 \n",
            " flatten_4 (Flatten)         (None, 23040)             0         \n",
            "                                                                 \n",
            " dense_15 (Dense)            (None, 256)               5898496   \n",
            "                                                                 \n",
            " dropout_11 (Dropout)        (None, 256)               0         \n",
            "                                                                 \n",
            " dense_16 (Dense)            (None, 128)               32896     \n",
            "                                                                 \n",
            " dropout_12 (Dropout)        (None, 128)               0         \n",
            "                                                                 \n",
            " dense_17 (Dense)            (None, 6)                 774       \n",
            "                                                                 \n",
            "=================================================================\n",
            "Total params: 6,024,838\n",
            "Trainable params: 6,024,838\n",
            "Non-trainable params: 0\n",
            "_________________________________________________________________\n"
          ]
        },
        {
          "output_type": "stream",
          "name": "stderr",
          "text": [
            "/usr/local/lib/python3.10/dist-packages/keras/optimizers/legacy/adam.py:117: UserWarning: The `lr` argument is deprecated, use `learning_rate` instead.\n",
            "  super().__init__(name, **kwargs)\n"
          ]
        }
      ]
    },
    {
      "cell_type": "code",
      "execution_count": 74,
      "metadata": {
        "colab": {
          "base_uri": "https://localhost:8080/"
        },
        "outputId": "1cbb89fe-b6f3-4c02-9fa9-e6118aded705",
        "id": "OlBJLFDb8p4W"
      },
      "outputs": [
        {
          "output_type": "stream",
          "name": "stdout",
          "text": [
            "Epoch 1/50\n",
            "39/39 [==============================] - 4s 90ms/step - loss: 1.9025 - accuracy: 0.2194 - val_loss: 1.5908 - val_accuracy: 0.4061\n",
            "Epoch 2/50\n",
            "39/39 [==============================] - 2s 50ms/step - loss: 1.6561 - accuracy: 0.3021 - val_loss: 1.5124 - val_accuracy: 0.4253\n",
            "Epoch 3/50\n",
            "39/39 [==============================] - 2s 53ms/step - loss: 1.5916 - accuracy: 0.3330 - val_loss: 1.4681 - val_accuracy: 0.3946\n",
            "Epoch 4/50\n",
            "39/39 [==============================] - 2s 53ms/step - loss: 1.5523 - accuracy: 0.3514 - val_loss: 1.4942 - val_accuracy: 0.3640\n",
            "Epoch 5/50\n",
            "39/39 [==============================] - 2s 51ms/step - loss: 1.5189 - accuracy: 0.3756 - val_loss: 1.4540 - val_accuracy: 0.4061\n",
            "Epoch 6/50\n",
            "39/39 [==============================] - 2s 51ms/step - loss: 1.4986 - accuracy: 0.3796 - val_loss: 1.4173 - val_accuracy: 0.4406\n",
            "Epoch 7/50\n",
            "39/39 [==============================] - 2s 51ms/step - loss: 1.4694 - accuracy: 0.3964 - val_loss: 1.4275 - val_accuracy: 0.4330\n",
            "Epoch 8/50\n",
            "39/39 [==============================] - 2s 51ms/step - loss: 1.4605 - accuracy: 0.4004 - val_loss: 1.4155 - val_accuracy: 0.4406\n",
            "Epoch 9/50\n",
            "39/39 [==============================] - 2s 52ms/step - loss: 1.4387 - accuracy: 0.4165 - val_loss: 1.3848 - val_accuracy: 0.4406\n",
            "Epoch 10/50\n",
            "39/39 [==============================] - 2s 54ms/step - loss: 1.3983 - accuracy: 0.4323 - val_loss: 1.4057 - val_accuracy: 0.4598\n",
            "Epoch 11/50\n",
            "39/39 [==============================] - 2s 53ms/step - loss: 1.3896 - accuracy: 0.4456 - val_loss: 1.3683 - val_accuracy: 0.4521\n",
            "Epoch 12/50\n",
            "39/39 [==============================] - 2s 50ms/step - loss: 1.3432 - accuracy: 0.4579 - val_loss: 1.3896 - val_accuracy: 0.4866\n",
            "Epoch 13/50\n",
            "39/39 [==============================] - 2s 50ms/step - loss: 1.3299 - accuracy: 0.4718 - val_loss: 1.3720 - val_accuracy: 0.4789\n",
            "Epoch 14/50\n",
            "39/39 [==============================] - 2s 52ms/step - loss: 1.2869 - accuracy: 0.4916 - val_loss: 1.3871 - val_accuracy: 0.4866\n",
            "Epoch 15/50\n",
            "39/39 [==============================] - 2s 50ms/step - loss: 1.2579 - accuracy: 0.5136 - val_loss: 1.3203 - val_accuracy: 0.5172\n",
            "Epoch 16/50\n",
            "39/39 [==============================] - 2s 50ms/step - loss: 1.2543 - accuracy: 0.5058 - val_loss: 1.3610 - val_accuracy: 0.5172\n",
            "Epoch 17/50\n",
            "39/39 [==============================] - 2s 54ms/step - loss: 1.1824 - accuracy: 0.5366 - val_loss: 1.3749 - val_accuracy: 0.5019\n",
            "Epoch 18/50\n",
            "39/39 [==============================] - 2s 55ms/step - loss: 1.1631 - accuracy: 0.5475 - val_loss: 1.3627 - val_accuracy: 0.4943\n",
            "Epoch 19/50\n",
            "39/39 [==============================] - 2s 50ms/step - loss: 1.1256 - accuracy: 0.5641 - val_loss: 1.3683 - val_accuracy: 0.4981\n",
            "Epoch 20/50\n",
            "39/39 [==============================] - 2s 51ms/step - loss: 1.0740 - accuracy: 0.5837 - val_loss: 1.3338 - val_accuracy: 0.5211\n",
            "Epoch 21/50\n",
            "39/39 [==============================] - 2s 50ms/step - loss: 1.0317 - accuracy: 0.6099 - val_loss: 1.4135 - val_accuracy: 0.5211\n",
            "Epoch 22/50\n",
            "39/39 [==============================] - 2s 50ms/step - loss: 0.9905 - accuracy: 0.6289 - val_loss: 1.4480 - val_accuracy: 0.5172\n",
            "Epoch 23/50\n",
            "39/39 [==============================] - 2s 50ms/step - loss: 0.9392 - accuracy: 0.6450 - val_loss: 1.4363 - val_accuracy: 0.5057\n",
            "Epoch 24/50\n",
            "39/39 [==============================] - 2s 55ms/step - loss: 0.8852 - accuracy: 0.6634 - val_loss: 1.5174 - val_accuracy: 0.4981\n",
            "Epoch 25/50\n",
            "39/39 [==============================] - 2s 52ms/step - loss: 0.8337 - accuracy: 0.6900 - val_loss: 1.6166 - val_accuracy: 0.4943\n"
          ]
        }
      ],
      "source": [
        "# Specify thecallbacks for the model\n",
        "callbacks = [EarlyStopping(monitor='val_loss', patience=10)]\n",
        "\n",
        "history = model.fit(x_train, y_train,\n",
        "                    epochs=50,\n",
        "                    batch_size=128,\n",
        "                    validation_data=(x_test, y_test),\n",
        "                    callbacks=callbacks)"
      ]
    }
  ],
  "metadata": {
    "accelerator": "GPU",
    "colab": {
      "provenance": [],
      "gpuType": "T4"
    },
    "gpuClass": "standard",
    "kernelspec": {
      "display_name": "Python 3",
      "name": "python3"
    },
    "language_info": {
      "name": "python"
    }
  },
  "nbformat": 4,
  "nbformat_minor": 0
}