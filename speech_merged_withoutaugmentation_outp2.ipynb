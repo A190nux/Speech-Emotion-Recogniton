{
  "cells": [
    {
      "cell_type": "code",
      "source": [
        "!pip install audiomentations"
      ],
      "metadata": {
        "id": "ioEPduLUVoRG",
        "outputId": "ab4c8516-eb2f-43ba-aef2-5e8c75f6f529",
        "colab": {
          "base_uri": "https://localhost:8080/"
        }
      },
      "execution_count": 76,
      "outputs": [
        {
          "output_type": "stream",
          "name": "stdout",
          "text": [
            "Looking in indexes: https://pypi.org/simple, https://us-python.pkg.dev/colab-wheels/public/simple/\n",
            "Requirement already satisfied: audiomentations in /usr/local/lib/python3.10/dist-packages (0.30.0)\n",
            "Requirement already satisfied: numpy>=1.13.0 in /usr/local/lib/python3.10/dist-packages (from audiomentations) (1.22.4)\n",
            "Requirement already satisfied: librosa<0.10.0,>0.7.2 in /usr/local/lib/python3.10/dist-packages (from audiomentations) (0.9.2)\n",
            "Requirement already satisfied: scipy<2,>=1.0.0 in /usr/local/lib/python3.10/dist-packages (from audiomentations) (1.10.1)\n",
            "Requirement already satisfied: audioread>=2.1.9 in /usr/local/lib/python3.10/dist-packages (from librosa<0.10.0,>0.7.2->audiomentations) (3.0.0)\n",
            "Requirement already satisfied: scikit-learn>=0.19.1 in /usr/local/lib/python3.10/dist-packages (from librosa<0.10.0,>0.7.2->audiomentations) (1.2.2)\n",
            "Requirement already satisfied: joblib>=0.14 in /usr/local/lib/python3.10/dist-packages (from librosa<0.10.0,>0.7.2->audiomentations) (1.2.0)\n",
            "Requirement already satisfied: decorator>=4.0.10 in /usr/local/lib/python3.10/dist-packages (from librosa<0.10.0,>0.7.2->audiomentations) (4.4.2)\n",
            "Requirement already satisfied: resampy>=0.2.2 in /usr/local/lib/python3.10/dist-packages (from librosa<0.10.0,>0.7.2->audiomentations) (0.4.2)\n",
            "Requirement already satisfied: numba>=0.45.1 in /usr/local/lib/python3.10/dist-packages (from librosa<0.10.0,>0.7.2->audiomentations) (0.56.4)\n",
            "Requirement already satisfied: soundfile>=0.10.2 in /usr/local/lib/python3.10/dist-packages (from librosa<0.10.0,>0.7.2->audiomentations) (0.12.1)\n",
            "Requirement already satisfied: pooch>=1.0 in /usr/local/lib/python3.10/dist-packages (from librosa<0.10.0,>0.7.2->audiomentations) (1.6.0)\n",
            "Requirement already satisfied: packaging>=20.0 in /usr/local/lib/python3.10/dist-packages (from librosa<0.10.0,>0.7.2->audiomentations) (23.1)\n",
            "Requirement already satisfied: llvmlite<0.40,>=0.39.0dev0 in /usr/local/lib/python3.10/dist-packages (from numba>=0.45.1->librosa<0.10.0,>0.7.2->audiomentations) (0.39.1)\n",
            "Requirement already satisfied: setuptools in /usr/local/lib/python3.10/dist-packages (from numba>=0.45.1->librosa<0.10.0,>0.7.2->audiomentations) (67.7.2)\n",
            "Requirement already satisfied: appdirs>=1.3.0 in /usr/local/lib/python3.10/dist-packages (from pooch>=1.0->librosa<0.10.0,>0.7.2->audiomentations) (1.4.4)\n",
            "Requirement already satisfied: requests>=2.19.0 in /usr/local/lib/python3.10/dist-packages (from pooch>=1.0->librosa<0.10.0,>0.7.2->audiomentations) (2.27.1)\n",
            "Requirement already satisfied: threadpoolctl>=2.0.0 in /usr/local/lib/python3.10/dist-packages (from scikit-learn>=0.19.1->librosa<0.10.0,>0.7.2->audiomentations) (3.1.0)\n",
            "Requirement already satisfied: cffi>=1.0 in /usr/local/lib/python3.10/dist-packages (from soundfile>=0.10.2->librosa<0.10.0,>0.7.2->audiomentations) (1.15.1)\n",
            "Requirement already satisfied: pycparser in /usr/local/lib/python3.10/dist-packages (from cffi>=1.0->soundfile>=0.10.2->librosa<0.10.0,>0.7.2->audiomentations) (2.21)\n",
            "Requirement already satisfied: urllib3<1.27,>=1.21.1 in /usr/local/lib/python3.10/dist-packages (from requests>=2.19.0->pooch>=1.0->librosa<0.10.0,>0.7.2->audiomentations) (1.26.15)\n",
            "Requirement already satisfied: certifi>=2017.4.17 in /usr/local/lib/python3.10/dist-packages (from requests>=2.19.0->pooch>=1.0->librosa<0.10.0,>0.7.2->audiomentations) (2022.12.7)\n",
            "Requirement already satisfied: charset-normalizer~=2.0.0 in /usr/local/lib/python3.10/dist-packages (from requests>=2.19.0->pooch>=1.0->librosa<0.10.0,>0.7.2->audiomentations) (2.0.12)\n",
            "Requirement already satisfied: idna<4,>=2.5 in /usr/local/lib/python3.10/dist-packages (from requests>=2.19.0->pooch>=1.0->librosa<0.10.0,>0.7.2->audiomentations) (3.4)\n"
          ]
        }
      ]
    },
    {
      "cell_type": "code",
      "execution_count": 77,
      "metadata": {
        "id": "z1LtRnT4W4mY"
      },
      "outputs": [],
      "source": [
        "import numpy as np\n",
        "import pandas as pd\n",
        "import matplotlib.pyplot as plt\n",
        "from pathlib import Path\n",
        "from scipy.io import wavfile\n",
        "import os.path\n",
        "import IPython.display\n",
        "import seaborn as sns\n",
        "import librosa\n",
        "import librosa.display\n",
        "import soundfile\n",
        "from audiomentations import Compose, AddGaussianNoise, TimeStretch, PitchShift\n",
        "\n",
        "from sklearn.model_selection import train_test_split\n",
        "from sklearn.preprocessing import StandardScaler, LabelEncoder\n",
        "from sklearn.metrics import confusion_matrix\n",
        "\n",
        "import tensorflow as tf\n",
        "from tensorflow.keras import utils\n",
        "from keras.models import Sequential\n",
        "from keras.layers import Dense, Dropout, Activation, Conv1D, MaxPooling1D, Flatten, BatchNormalization\n",
        "from tensorflow.keras.models import Sequential\n",
        "from tensorflow.keras.layers import Conv2D, MaxPooling2D, Flatten, Dense, Dropout\n",
        "from keras import optimizers\n",
        "\n",
        "from keras import optimizers,regularizers\n",
        "from tensorflow.python.keras.callbacks import ModelCheckpoint\n",
        "from tensorflow.keras.callbacks import ModelCheckpoint, EarlyStopping\n",
        "from sklearn.decomposition import PCA\n",
        "import warnings"
      ]
    },
    {
      "cell_type": "code",
      "execution_count": 2,
      "metadata": {
        "colab": {
          "base_uri": "https://localhost:8080/"
        },
        "id": "5GTtnPFfW87P",
        "outputId": "7d647bc2-5bd1-4041-c3b3-4d8eeaf53eed"
      },
      "outputs": [
        {
          "output_type": "stream",
          "name": "stdout",
          "text": [
            "Looking in indexes: https://pypi.org/simple, https://us-python.pkg.dev/colab-wheels/public/simple/\n",
            "Collecting pydub\n",
            "  Downloading pydub-0.25.1-py2.py3-none-any.whl (32 kB)\n",
            "Installing collected packages: pydub\n",
            "Successfully installed pydub-0.25.1\n",
            "Looking in indexes: https://pypi.org/simple, https://us-python.pkg.dev/colab-wheels/public/simple/\n",
            "Requirement already satisfied: audiomentations in /usr/local/lib/python3.10/dist-packages (0.30.0)\n",
            "Requirement already satisfied: numpy>=1.13.0 in /usr/local/lib/python3.10/dist-packages (from audiomentations) (1.22.4)\n",
            "Requirement already satisfied: librosa<0.10.0,>0.7.2 in /usr/local/lib/python3.10/dist-packages (from audiomentations) (0.9.2)\n",
            "Requirement already satisfied: scipy<2,>=1.0.0 in /usr/local/lib/python3.10/dist-packages (from audiomentations) (1.10.1)\n",
            "Requirement already satisfied: audioread>=2.1.9 in /usr/local/lib/python3.10/dist-packages (from librosa<0.10.0,>0.7.2->audiomentations) (3.0.0)\n",
            "Requirement already satisfied: scikit-learn>=0.19.1 in /usr/local/lib/python3.10/dist-packages (from librosa<0.10.0,>0.7.2->audiomentations) (1.2.2)\n",
            "Requirement already satisfied: joblib>=0.14 in /usr/local/lib/python3.10/dist-packages (from librosa<0.10.0,>0.7.2->audiomentations) (1.2.0)\n",
            "Requirement already satisfied: decorator>=4.0.10 in /usr/local/lib/python3.10/dist-packages (from librosa<0.10.0,>0.7.2->audiomentations) (4.4.2)\n",
            "Requirement already satisfied: resampy>=0.2.2 in /usr/local/lib/python3.10/dist-packages (from librosa<0.10.0,>0.7.2->audiomentations) (0.4.2)\n",
            "Requirement already satisfied: numba>=0.45.1 in /usr/local/lib/python3.10/dist-packages (from librosa<0.10.0,>0.7.2->audiomentations) (0.56.4)\n",
            "Requirement already satisfied: soundfile>=0.10.2 in /usr/local/lib/python3.10/dist-packages (from librosa<0.10.0,>0.7.2->audiomentations) (0.12.1)\n",
            "Requirement already satisfied: pooch>=1.0 in /usr/local/lib/python3.10/dist-packages (from librosa<0.10.0,>0.7.2->audiomentations) (1.6.0)\n",
            "Requirement already satisfied: packaging>=20.0 in /usr/local/lib/python3.10/dist-packages (from librosa<0.10.0,>0.7.2->audiomentations) (23.1)\n",
            "Requirement already satisfied: llvmlite<0.40,>=0.39.0dev0 in /usr/local/lib/python3.10/dist-packages (from numba>=0.45.1->librosa<0.10.0,>0.7.2->audiomentations) (0.39.1)\n",
            "Requirement already satisfied: setuptools in /usr/local/lib/python3.10/dist-packages (from numba>=0.45.1->librosa<0.10.0,>0.7.2->audiomentations) (67.7.2)\n",
            "Requirement already satisfied: appdirs>=1.3.0 in /usr/local/lib/python3.10/dist-packages (from pooch>=1.0->librosa<0.10.0,>0.7.2->audiomentations) (1.4.4)\n",
            "Requirement already satisfied: requests>=2.19.0 in /usr/local/lib/python3.10/dist-packages (from pooch>=1.0->librosa<0.10.0,>0.7.2->audiomentations) (2.27.1)\n",
            "Requirement already satisfied: threadpoolctl>=2.0.0 in /usr/local/lib/python3.10/dist-packages (from scikit-learn>=0.19.1->librosa<0.10.0,>0.7.2->audiomentations) (3.1.0)\n",
            "Requirement already satisfied: cffi>=1.0 in /usr/local/lib/python3.10/dist-packages (from soundfile>=0.10.2->librosa<0.10.0,>0.7.2->audiomentations) (1.15.1)\n",
            "Requirement already satisfied: pycparser in /usr/local/lib/python3.10/dist-packages (from cffi>=1.0->soundfile>=0.10.2->librosa<0.10.0,>0.7.2->audiomentations) (2.21)\n",
            "Requirement already satisfied: urllib3<1.27,>=1.21.1 in /usr/local/lib/python3.10/dist-packages (from requests>=2.19.0->pooch>=1.0->librosa<0.10.0,>0.7.2->audiomentations) (1.26.15)\n",
            "Requirement already satisfied: certifi>=2017.4.17 in /usr/local/lib/python3.10/dist-packages (from requests>=2.19.0->pooch>=1.0->librosa<0.10.0,>0.7.2->audiomentations) (2022.12.7)\n",
            "Requirement already satisfied: charset-normalizer~=2.0.0 in /usr/local/lib/python3.10/dist-packages (from requests>=2.19.0->pooch>=1.0->librosa<0.10.0,>0.7.2->audiomentations) (2.0.12)\n",
            "Requirement already satisfied: idna<4,>=2.5 in /usr/local/lib/python3.10/dist-packages (from requests>=2.19.0->pooch>=1.0->librosa<0.10.0,>0.7.2->audiomentations) (3.4)\n"
          ]
        }
      ],
      "source": [
        "!pip install pydub\n",
        "!pip install audiomentations"
      ]
    },
    {
      "cell_type": "code",
      "execution_count": 78,
      "metadata": {
        "colab": {
          "base_uri": "https://localhost:8080/"
        },
        "id": "1nQjexIlW-Su",
        "outputId": "bd0e5b54-664f-4989-c46e-3e84545bed06"
      },
      "outputs": [
        {
          "output_type": "stream",
          "name": "stdout",
          "text": [
            "Drive already mounted at /content/drive; to attempt to forcibly remount, call drive.mount(\"/content/drive\", force_remount=True).\n"
          ]
        }
      ],
      "source": [
        "import re\n",
        "import os\n",
        "import wave\n",
        "import glob\n",
        "import numpy as np\n",
        "import pandas as pd\n",
        "import matplotlib.pyplot as plt\n",
        "from pydub import AudioSegment\n",
        "from IPython.display import Audio, display\n",
        "import librosa as lib\n",
        "import librosa.display\n",
        "\n",
        "from google.colab import drive\n",
        "drive.mount('/content/drive')"
      ]
    },
    {
      "cell_type": "code",
      "execution_count": 79,
      "metadata": {
        "id": "Y2JiRL40XJSK"
      },
      "outputs": [],
      "source": [
        "PATH = \"/content/drive/MyDrive/Colab Notebooks/Crema\"\n",
        "AUDIO_PATH = \"/content/drive/MyDrive/Colab Notebooks/Crema/1001_DFA_ANG_XX.wav\""
      ]
    },
    {
      "cell_type": "code",
      "source": [
        "def zeroCrossingRate(audio):\n",
        "  return lib.feature.zero_crossing_rate(audio)"
      ],
      "metadata": {
        "id": "hZRUzrRHI3x4"
      },
      "execution_count": 80,
      "outputs": []
    },
    {
      "cell_type": "code",
      "source": [
        "def energy(audio):\n",
        "  # using a spectrogram will give a more accurate representation\n",
        "  # of energy over time because its frames can be windowed\n",
        "  S, phase = lib.magphase(lib.stft(audio))\n",
        "  return lib.feature.rms(S=S).mean()"
      ],
      "metadata": {
        "id": "YUj1b0stI8Jp"
      },
      "execution_count": 81,
      "outputs": []
    },
    {
      "cell_type": "code",
      "source": [
        "def chromaStft(audio, sr):\n",
        "  stft = np.abs(librosa.stft(audio))\n",
        "  return librosa.feature.chroma_stft(S=stft, sr=sr, n_fft=200).mean()"
      ],
      "metadata": {
        "id": "RFqdKI4dj-sx"
      },
      "execution_count": 8,
      "outputs": []
    },
    {
      "cell_type": "code",
      "source": [
        "def mfcc(data, sr):\n",
        "  return librosa.feature.mfcc(y=data, sr=sr, n_fft=200).mean()"
      ],
      "metadata": {
        "id": "bwJma-zak5ai"
      },
      "execution_count": 9,
      "outputs": []
    },
    {
      "cell_type": "code",
      "execution_count": 10,
      "metadata": {
        "id": "t03kfNaMJEUx"
      },
      "outputs": [],
      "source": [
        "def melSpectrogram(audio, sr):\n",
        "  mel_spectrogram = lib.feature.melspectrogram(y=audio, sr=sr, n_fft=200, n_mels=64)\n",
        "  log_mel_spectrogram = librosa.power_to_db(mel_spectrogram)\n",
        "  return log_mel_spectrogram"
      ]
    },
    {
      "cell_type": "code",
      "execution_count": 11,
      "metadata": {
        "id": "GZLRcaVEinfV"
      },
      "outputs": [],
      "source": [
        "def playAudio(audio_file):\n",
        "  audio = AudioSegment.from_wav(audio_file)\n",
        "  # Play the audio\n",
        "  audio.export('temp_audio.wav', format='wav')\n",
        "  audio_data = open('temp_audio.wav', 'rb').read()\n",
        "  display(Audio(audio_data))\n",
        "  # Delete the temporary audio file\n",
        "  os.remove('temp_audio.wav')"
      ]
    },
    {
      "cell_type": "code",
      "execution_count": 12,
      "metadata": {
        "id": "VErUAYc_mIzR"
      },
      "outputs": [],
      "source": [
        "def visualize_waveform(audio, sr):\n",
        "    plt.figure(figsize=(12, 4))\n",
        "    plt.plot(audio)\n",
        "    plt.xlabel('Time')\n",
        "    plt.ylabel('Amplitude')\n",
        "    plt.title('Waveform')\n",
        "    plt.show()"
      ]
    },
    {
      "cell_type": "code",
      "execution_count": 82,
      "metadata": {
        "id": "xrXZclbPVgB4"
      },
      "outputs": [],
      "source": [
        "def splitData(dataset_path):\n",
        "  audio_files = glob.glob(os.path.join(dataset_path, \"*.wav\"))\n",
        "  audio_train, audio_test = train_test_split(audio_files, test_size=0.3, random_state=42, shuffle=True)\n",
        "  return audio_train, audio_test"
      ]
    },
    {
      "cell_type": "code",
      "execution_count": 83,
      "metadata": {
        "id": "7EIOYeWGWM-f"
      },
      "outputs": [],
      "source": [
        "D_train, D_test = splitData(PATH)"
      ]
    },
    {
      "cell_type": "code",
      "execution_count": 84,
      "metadata": {
        "colab": {
          "base_uri": "https://localhost:8080/"
        },
        "id": "YpC8Jy1nWg0t",
        "outputId": "58f26fe2-39a4-4aca-8bb1-80f126179e11"
      },
      "outputs": [
        {
          "output_type": "stream",
          "name": "stdout",
          "text": [
            "5216 2236\n"
          ]
        }
      ],
      "source": [
        "print(len(D_train), len(D_test))"
      ]
    },
    {
      "cell_type": "code",
      "execution_count": 85,
      "metadata": {
        "colab": {
          "base_uri": "https://localhost:8080/",
          "height": 35
        },
        "id": "9RqTKlDHXq-f",
        "outputId": "15808431-1b38-4b76-8c66-a6b1d3cd64d9"
      },
      "outputs": [
        {
          "output_type": "execute_result",
          "data": {
            "text/plain": [
              "'/content/drive/MyDrive/Colab Notebooks/Crema/1017_IEO_SAD_HI.wav'"
            ],
            "application/vnd.google.colaboratory.intrinsic+json": {
              "type": "string"
            }
          },
          "metadata": {},
          "execution_count": 85
        }
      ],
      "source": [
        "D_test[0]"
      ]
    },
    {
      "cell_type": "code",
      "execution_count": 86,
      "metadata": {
        "id": "EgU38C-idTBu"
      },
      "outputs": [],
      "source": [
        "def getMaxLen(audio_files):\n",
        "  max_length = 0\n",
        "  for audio_file in audio_files:\n",
        "    audio, _ = librosa.load(audio_file)\n",
        "    length = len(audio)\n",
        "    max_length = max(max_length, length)\n",
        "  return max_length"
      ]
    },
    {
      "cell_type": "code",
      "source": [
        "def loadAudioTime(audio_files):\n",
        "  classes = [\"SAD\", \"ANG\", \"DIS\", \"FEA\", \"HAP\", \"NEU\"]\n",
        "  \n",
        "  # max_length = getMaxLen(audio_files)\n",
        "  max_length = 200\n",
        "  D, Y = [], []\n",
        "  for audio_file in audio_files: \n",
        "    # load the audio file\n",
        "    audio, sr = lib.load(audio_file, sr=4444)\n",
        "    # extract zero crossing rate\n",
        "    zcr = zeroCrossingRate(audio)\n",
        "    # extract energy\n",
        "    rms = energy(audio)\n",
        "    # chroma stft\n",
        "    cs = chromaStft(audio, sr)\n",
        "    # mfcc\n",
        "    mfc = mfcc(audio, sr)\n",
        "    # extract mel spectrogram\n",
        "    #mel_spec = melSpectrogram(audio, sr).mean()\n",
        "    combined_features = np.concatenate(([rms, cs, mfc], (np.pad(zcr[0], (0, 300 - len(zcr[0]))))))\n",
        "    D.append(combined_features)\n",
        "    for cls in classes:\n",
        "      if re.search(cls, audio_file): Y.append(cls)\n",
        "    \n",
        "  return D, Y"
      ],
      "metadata": {
        "id": "cbqGt6YB-xbJ"
      },
      "execution_count": 97,
      "outputs": []
    },
    {
      "cell_type": "code",
      "execution_count": 96,
      "metadata": {
        "id": "yMgXIyyNYSFb"
      },
      "outputs": [],
      "source": [
        "def loadAudioFreq(audio_files):\n",
        "  classes = [\"SAD\", \"ANG\", \"DIS\", \"FEA\", \"HAP\", \"NEU\"]\n",
        " \n",
        "  # max_length = getMaxLen(audio_files)\n",
        "  max_length = 200\n",
        "  D, Y = [], []\n",
        "  for audio_file in audio_files: \n",
        "    # load the audio file\n",
        "    audio, sr = lib.load(audio_file, sr=4444)\n",
        "    # extract mel spectrogram\n",
        "    mel_spec = melSpectrogram(audio, sr)\n",
        "    D.append(mel_spec)\n",
        "    for cls in classes:\n",
        "      if re.search(cls, audio_file): Y.append(cls)\n",
        "   \n",
        "  return D, Y"
      ]
    },
    {
      "cell_type": "markdown",
      "source": [
        "## Time Domain Model"
      ],
      "metadata": {
        "id": "XwjLK8nELd6H"
      }
    },
    {
      "cell_type": "code",
      "source": [
        "D_time, Y_time = loadAudioTime(D_train)"
      ],
      "metadata": {
        "id": "R1mGR_wWGc75"
      },
      "execution_count": 98,
      "outputs": []
    },
    {
      "cell_type": "code",
      "source": [
        "D_time = np.array(D_time)\n",
        "D_time.shape"
      ],
      "metadata": {
        "colab": {
          "base_uri": "https://localhost:8080/"
        },
        "id": "J7hz6ckbH3wL",
        "outputId": "a0e205da-81d8-45ab-d0a6-331eef1520ba"
      },
      "execution_count": 99,
      "outputs": [
        {
          "output_type": "execute_result",
          "data": {
            "text/plain": [
              "(5216, 303)"
            ]
          },
          "metadata": {},
          "execution_count": 99
        }
      ]
    },
    {
      "cell_type": "code",
      "source": [
        "unicheck = np.unique(Y_time, axis=0)\n",
        "print(f\"Check on time domain:\\n{unicheck}\")"
      ],
      "metadata": {
        "colab": {
          "base_uri": "https://localhost:8080/"
        },
        "id": "GQ5AZ5vMGi4d",
        "outputId": "d41c8d71-43b4-4e24-fd5d-d38b42f677f5"
      },
      "execution_count": 100,
      "outputs": [
        {
          "output_type": "stream",
          "name": "stdout",
          "text": [
            "Check on time domain:\n",
            "['ANG' 'DIS' 'FEA' 'HAP' 'NEU' 'SAD']\n"
          ]
        }
      ]
    },
    {
      "cell_type": "code",
      "source": [
        "df_time = pd.DataFrame(Y_time)\n",
        "df_time.head()"
      ],
      "metadata": {
        "colab": {
          "base_uri": "https://localhost:8080/",
          "height": 206
        },
        "id": "2a8Cneh6GpQb",
        "outputId": "334cccd3-e543-4842-d11b-5386d6cc6df4"
      },
      "execution_count": 101,
      "outputs": [
        {
          "output_type": "execute_result",
          "data": {
            "text/plain": [
              "     0\n",
              "0  SAD\n",
              "1  FEA\n",
              "2  SAD\n",
              "3  ANG\n",
              "4  SAD"
            ],
            "text/html": [
              "\n",
              "  <div id=\"df-224dfbf5-1984-47a4-be84-35d4c4fa2831\">\n",
              "    <div class=\"colab-df-container\">\n",
              "      <div>\n",
              "<style scoped>\n",
              "    .dataframe tbody tr th:only-of-type {\n",
              "        vertical-align: middle;\n",
              "    }\n",
              "\n",
              "    .dataframe tbody tr th {\n",
              "        vertical-align: top;\n",
              "    }\n",
              "\n",
              "    .dataframe thead th {\n",
              "        text-align: right;\n",
              "    }\n",
              "</style>\n",
              "<table border=\"1\" class=\"dataframe\">\n",
              "  <thead>\n",
              "    <tr style=\"text-align: right;\">\n",
              "      <th></th>\n",
              "      <th>0</th>\n",
              "    </tr>\n",
              "  </thead>\n",
              "  <tbody>\n",
              "    <tr>\n",
              "      <th>0</th>\n",
              "      <td>SAD</td>\n",
              "    </tr>\n",
              "    <tr>\n",
              "      <th>1</th>\n",
              "      <td>FEA</td>\n",
              "    </tr>\n",
              "    <tr>\n",
              "      <th>2</th>\n",
              "      <td>SAD</td>\n",
              "    </tr>\n",
              "    <tr>\n",
              "      <th>3</th>\n",
              "      <td>ANG</td>\n",
              "    </tr>\n",
              "    <tr>\n",
              "      <th>4</th>\n",
              "      <td>SAD</td>\n",
              "    </tr>\n",
              "  </tbody>\n",
              "</table>\n",
              "</div>\n",
              "      <button class=\"colab-df-convert\" onclick=\"convertToInteractive('df-224dfbf5-1984-47a4-be84-35d4c4fa2831')\"\n",
              "              title=\"Convert this dataframe to an interactive table.\"\n",
              "              style=\"display:none;\">\n",
              "        \n",
              "  <svg xmlns=\"http://www.w3.org/2000/svg\" height=\"24px\"viewBox=\"0 0 24 24\"\n",
              "       width=\"24px\">\n",
              "    <path d=\"M0 0h24v24H0V0z\" fill=\"none\"/>\n",
              "    <path d=\"M18.56 5.44l.94 2.06.94-2.06 2.06-.94-2.06-.94-.94-2.06-.94 2.06-2.06.94zm-11 1L8.5 8.5l.94-2.06 2.06-.94-2.06-.94L8.5 2.5l-.94 2.06-2.06.94zm10 10l.94 2.06.94-2.06 2.06-.94-2.06-.94-.94-2.06-.94 2.06-2.06.94z\"/><path d=\"M17.41 7.96l-1.37-1.37c-.4-.4-.92-.59-1.43-.59-.52 0-1.04.2-1.43.59L10.3 9.45l-7.72 7.72c-.78.78-.78 2.05 0 2.83L4 21.41c.39.39.9.59 1.41.59.51 0 1.02-.2 1.41-.59l7.78-7.78 2.81-2.81c.8-.78.8-2.07 0-2.86zM5.41 20L4 18.59l7.72-7.72 1.47 1.35L5.41 20z\"/>\n",
              "  </svg>\n",
              "      </button>\n",
              "      \n",
              "  <style>\n",
              "    .colab-df-container {\n",
              "      display:flex;\n",
              "      flex-wrap:wrap;\n",
              "      gap: 12px;\n",
              "    }\n",
              "\n",
              "    .colab-df-convert {\n",
              "      background-color: #E8F0FE;\n",
              "      border: none;\n",
              "      border-radius: 50%;\n",
              "      cursor: pointer;\n",
              "      display: none;\n",
              "      fill: #1967D2;\n",
              "      height: 32px;\n",
              "      padding: 0 0 0 0;\n",
              "      width: 32px;\n",
              "    }\n",
              "\n",
              "    .colab-df-convert:hover {\n",
              "      background-color: #E2EBFA;\n",
              "      box-shadow: 0px 1px 2px rgba(60, 64, 67, 0.3), 0px 1px 3px 1px rgba(60, 64, 67, 0.15);\n",
              "      fill: #174EA6;\n",
              "    }\n",
              "\n",
              "    [theme=dark] .colab-df-convert {\n",
              "      background-color: #3B4455;\n",
              "      fill: #D2E3FC;\n",
              "    }\n",
              "\n",
              "    [theme=dark] .colab-df-convert:hover {\n",
              "      background-color: #434B5C;\n",
              "      box-shadow: 0px 1px 3px 1px rgba(0, 0, 0, 0.15);\n",
              "      filter: drop-shadow(0px 1px 2px rgba(0, 0, 0, 0.3));\n",
              "      fill: #FFFFFF;\n",
              "    }\n",
              "  </style>\n",
              "\n",
              "      <script>\n",
              "        const buttonEl =\n",
              "          document.querySelector('#df-224dfbf5-1984-47a4-be84-35d4c4fa2831 button.colab-df-convert');\n",
              "        buttonEl.style.display =\n",
              "          google.colab.kernel.accessAllowed ? 'block' : 'none';\n",
              "\n",
              "        async function convertToInteractive(key) {\n",
              "          const element = document.querySelector('#df-224dfbf5-1984-47a4-be84-35d4c4fa2831');\n",
              "          const dataTable =\n",
              "            await google.colab.kernel.invokeFunction('convertToInteractive',\n",
              "                                                     [key], {});\n",
              "          if (!dataTable) return;\n",
              "\n",
              "          const docLinkHtml = 'Like what you see? Visit the ' +\n",
              "            '<a target=\"_blank\" href=https://colab.research.google.com/notebooks/data_table.ipynb>data table notebook</a>'\n",
              "            + ' to learn more about interactive tables.';\n",
              "          element.innerHTML = '';\n",
              "          dataTable['output_type'] = 'display_data';\n",
              "          await google.colab.output.renderOutput(dataTable, element);\n",
              "          const docLink = document.createElement('div');\n",
              "          docLink.innerHTML = docLinkHtml;\n",
              "          element.appendChild(docLink);\n",
              "        }\n",
              "      </script>\n",
              "    </div>\n",
              "  </div>\n",
              "  "
            ]
          },
          "metadata": {},
          "execution_count": 101
        }
      ]
    },
    {
      "cell_type": "code",
      "source": [
        "# Use the get_dummies() method to one-hot encode the labels\n",
        "one_hot_labels = pd.get_dummies(df_time)\n",
        "\n",
        "# Convert the DataFrame to a NumPy array\n",
        "one_hot_labels = one_hot_labels.to_numpy()\n",
        "\n",
        "print(one_hot_labels.shape)"
      ],
      "metadata": {
        "colab": {
          "base_uri": "https://localhost:8080/"
        },
        "id": "P1HVgqTsGwmK",
        "outputId": "92ae654f-8307-44e8-ebee-2aa97a69e185"
      },
      "execution_count": 102,
      "outputs": [
        {
          "output_type": "stream",
          "name": "stdout",
          "text": [
            "(5216, 6)\n"
          ]
        }
      ]
    },
    {
      "cell_type": "code",
      "source": [
        "Y_time = one_hot_labels\n",
        "Y_time.shape"
      ],
      "metadata": {
        "colab": {
          "base_uri": "https://localhost:8080/"
        },
        "id": "scQpn-TuG-JM",
        "outputId": "94ca18db-fb20-403d-9ccd-56fe1a04365c"
      },
      "execution_count": 103,
      "outputs": [
        {
          "output_type": "execute_result",
          "data": {
            "text/plain": [
              "(5216, 6)"
            ]
          },
          "metadata": {},
          "execution_count": 103
        }
      ]
    },
    {
      "cell_type": "code",
      "source": [
        "# Apply PCA to the data\n",
        "pca = PCA(n_components=100)\n",
        "D_pca = pca.fit_transform(D_time)"
      ],
      "metadata": {
        "id": "0ttXRBH6JztP"
      },
      "execution_count": 104,
      "outputs": []
    },
    {
      "cell_type": "code",
      "source": [
        "# Split the data into train and test sets\n",
        "x_train, x_test, y_train, y_test = train_test_split(np.array(D_pca), np.array(Y_time), test_size=0.05, random_state=69, shuffle=True, stratify=Y_time)\n",
        "print((x_train.shape, y_train.shape, x_test.shape, y_test.shape))\n",
        "\n",
        "x_train = x_train.reshape((x_train.shape[0], x_train.shape[1], 1))\n",
        "x_test = x_test.reshape((x_test.shape[0], x_test.shape[1], 1))\n",
        "\n",
        "model = Sequential()\n",
        "model.add(Conv1D(128, 3, input_shape=(x_train.shape[1], 1), kernel_regularizer=regularizers.l2(0.001)))\n",
        "model.add(BatchNormalization())\n",
        "model.add(Activation('relu'))\n",
        "model.add(MaxPooling1D(pool_size=2))\n",
        "\n",
        "model.add(Conv1D(256, 3, kernel_regularizer=regularizers.l2(0.001)))\n",
        "model.add(BatchNormalization())\n",
        "model.add(Activation('relu'))\n",
        "model.add(MaxPooling1D(pool_size=2))\n",
        "\n",
        "model.add(Conv1D(512, 3, kernel_regularizer=regularizers.l2(0.001)))\n",
        "model.add(BatchNormalization())\n",
        "model.add(Activation('relu'))\n",
        "model.add(MaxPooling1D(pool_size=2))\n",
        "\n",
        "model.add(Conv1D(1024, 3,  kernel_regularizer=regularizers.l2(0.001)))\n",
        "model.add(BatchNormalization())\n",
        "model.add(Activation('relu'))\n",
        "model.add(MaxPooling1D(pool_size=2))\n",
        "\n",
        "model.add(Flatten())\n",
        "model.add(Dense(512, kernel_regularizer=regularizers.l2(0.001)))\n",
        "model.add(BatchNormalization())\n",
        "model.add(Activation('relu'))\n",
        "model.add(Dropout(0.3))\n",
        "\n",
        "model.add(Dense(256, kernel_regularizer=regularizers.l2(0.001)))\n",
        "model.add(BatchNormalization())\n",
        "model.add(Activation('relu'))\n",
        "model.add(Dropout(0.2))\n",
        "\n",
        "model.add(Dense(128, kernel_regularizer=regularizers.l2(0.001)))\n",
        "model.add(BatchNormalization())\n",
        "model.add(Activation('relu'))\n",
        "model.add(Dropout(0.2))\n",
        "\n",
        "model.add(Dense(6, activation='softmax'))\n",
        "\n",
        "model.compile(loss='categorical_crossentropy',\n",
        "             optimizer=optimizers.Adam(lr=0.0005),\n",
        "             metrics=['accuracy'])\n",
        "\n",
        "# Specify thecallbacks for the model\n",
        "callbacks = [EarlyStopping(monitor='val_loss', patience=10)]\n",
        "\n",
        "model.summary()\n",
        "\n",
        "# Train the model with early stopping\n",
        "history = model.fit(x_train, y_train,\n",
        "                    validation_data=(x_train, y_train),\n",
        "                    epochs=50,\n",
        "                    batch_size=32,\n",
        "                    callbacks=callbacks)"
      ],
      "metadata": {
        "colab": {
          "base_uri": "https://localhost:8080/"
        },
        "id": "l_VY7sLdJTAj",
        "outputId": "320d319d-76da-44f0-d5c6-6bef930c951a"
      },
      "execution_count": 105,
      "outputs": [
        {
          "output_type": "stream",
          "name": "stdout",
          "text": [
            "((4955, 100), (4955, 6), (261, 100), (261, 6))\n",
            "Model: \"sequential_5\"\n",
            "_________________________________________________________________\n",
            " Layer (type)                Output Shape              Param #   \n",
            "=================================================================\n",
            " conv1d_12 (Conv1D)          (None, 98, 128)           512       \n",
            "                                                                 \n",
            " batch_normalization_21 (Bat  (None, 98, 128)          512       \n",
            " chNormalization)                                                \n",
            "                                                                 \n",
            " activation_21 (Activation)  (None, 98, 128)           0         \n",
            "                                                                 \n",
            " max_pooling1d_12 (MaxPoolin  (None, 49, 128)          0         \n",
            " g1D)                                                            \n",
            "                                                                 \n",
            " conv1d_13 (Conv1D)          (None, 47, 256)           98560     \n",
            "                                                                 \n",
            " batch_normalization_22 (Bat  (None, 47, 256)          1024      \n",
            " chNormalization)                                                \n",
            "                                                                 \n",
            " activation_22 (Activation)  (None, 47, 256)           0         \n",
            "                                                                 \n",
            " max_pooling1d_13 (MaxPoolin  (None, 23, 256)          0         \n",
            " g1D)                                                            \n",
            "                                                                 \n",
            " conv1d_14 (Conv1D)          (None, 21, 512)           393728    \n",
            "                                                                 \n",
            " batch_normalization_23 (Bat  (None, 21, 512)          2048      \n",
            " chNormalization)                                                \n",
            "                                                                 \n",
            " activation_23 (Activation)  (None, 21, 512)           0         \n",
            "                                                                 \n",
            " max_pooling1d_14 (MaxPoolin  (None, 10, 512)          0         \n",
            " g1D)                                                            \n",
            "                                                                 \n",
            " conv1d_15 (Conv1D)          (None, 8, 1024)           1573888   \n",
            "                                                                 \n",
            " batch_normalization_24 (Bat  (None, 8, 1024)          4096      \n",
            " chNormalization)                                                \n",
            "                                                                 \n",
            " activation_24 (Activation)  (None, 8, 1024)           0         \n",
            "                                                                 \n",
            " max_pooling1d_15 (MaxPoolin  (None, 4, 1024)          0         \n",
            " g1D)                                                            \n",
            "                                                                 \n",
            " flatten_5 (Flatten)         (None, 4096)              0         \n",
            "                                                                 \n",
            " dense_18 (Dense)            (None, 512)               2097664   \n",
            "                                                                 \n",
            " batch_normalization_25 (Bat  (None, 512)              2048      \n",
            " chNormalization)                                                \n",
            "                                                                 \n",
            " activation_25 (Activation)  (None, 512)               0         \n",
            "                                                                 \n",
            " dropout_13 (Dropout)        (None, 512)               0         \n",
            "                                                                 \n",
            " dense_19 (Dense)            (None, 256)               131328    \n",
            "                                                                 \n",
            " batch_normalization_26 (Bat  (None, 256)              1024      \n",
            " chNormalization)                                                \n",
            "                                                                 \n",
            " activation_26 (Activation)  (None, 256)               0         \n",
            "                                                                 \n",
            " dropout_14 (Dropout)        (None, 256)               0         \n",
            "                                                                 \n",
            " dense_20 (Dense)            (None, 128)               32896     \n",
            "                                                                 \n",
            " batch_normalization_27 (Bat  (None, 128)              512       \n",
            " chNormalization)                                                \n",
            "                                                                 \n",
            " activation_27 (Activation)  (None, 128)               0         \n",
            "                                                                 \n",
            " dropout_15 (Dropout)        (None, 128)               0         \n",
            "                                                                 \n",
            " dense_21 (Dense)            (None, 6)                 774       \n",
            "                                                                 \n",
            "=================================================================\n",
            "Total params: 4,340,614\n",
            "Trainable params: 4,334,982\n",
            "Non-trainable params: 5,632\n",
            "_________________________________________________________________\n"
          ]
        },
        {
          "output_type": "stream",
          "name": "stderr",
          "text": [
            "/usr/local/lib/python3.10/dist-packages/keras/optimizers/legacy/adam.py:117: UserWarning: The `lr` argument is deprecated, use `learning_rate` instead.\n",
            "  super().__init__(name, **kwargs)\n"
          ]
        },
        {
          "output_type": "stream",
          "name": "stdout",
          "text": [
            "Epoch 1/50\n",
            "155/155 [==============================] - 5s 18ms/step - loss: 3.7800 - accuracy: 0.3005 - val_loss: 3.8594 - val_accuracy: 0.1483\n",
            "Epoch 2/50\n",
            "155/155 [==============================] - 2s 14ms/step - loss: 3.1293 - accuracy: 0.3395 - val_loss: 3.5364 - val_accuracy: 0.1483\n",
            "Epoch 3/50\n",
            "155/155 [==============================] - 2s 15ms/step - loss: 2.8142 - accuracy: 0.3703 - val_loss: 3.1361 - val_accuracy: 0.1546\n",
            "Epoch 4/50\n",
            "155/155 [==============================] - 3s 23ms/step - loss: 2.6385 - accuracy: 0.3707 - val_loss: 2.5732 - val_accuracy: 0.3443\n",
            "Epoch 5/50\n",
            "155/155 [==============================] - 2s 15ms/step - loss: 2.4932 - accuracy: 0.3980 - val_loss: 2.5006 - val_accuracy: 0.3631\n",
            "Epoch 6/50\n",
            "155/155 [==============================] - 2s 14ms/step - loss: 2.3657 - accuracy: 0.4117 - val_loss: 2.3715 - val_accuracy: 0.4117\n",
            "Epoch 7/50\n",
            "155/155 [==============================] - 2s 14ms/step - loss: 2.2999 - accuracy: 0.4085 - val_loss: 2.3271 - val_accuracy: 0.3778\n",
            "Epoch 8/50\n",
            "155/155 [==============================] - 2s 14ms/step - loss: 2.2061 - accuracy: 0.4192 - val_loss: 2.1529 - val_accuracy: 0.4274\n",
            "Epoch 9/50\n",
            "155/155 [==============================] - 3s 19ms/step - loss: 2.1398 - accuracy: 0.4218 - val_loss: 2.2247 - val_accuracy: 0.3610\n",
            "Epoch 10/50\n",
            "155/155 [==============================] - 3s 17ms/step - loss: 2.0682 - accuracy: 0.4222 - val_loss: 2.2705 - val_accuracy: 0.3491\n",
            "Epoch 11/50\n",
            "155/155 [==============================] - 2s 15ms/step - loss: 2.0163 - accuracy: 0.4458 - val_loss: 2.1648 - val_accuracy: 0.3336\n",
            "Epoch 12/50\n",
            "155/155 [==============================] - 2s 14ms/step - loss: 1.9610 - accuracy: 0.4452 - val_loss: 2.3082 - val_accuracy: 0.3534\n",
            "Epoch 13/50\n",
            "155/155 [==============================] - 2s 14ms/step - loss: 1.9022 - accuracy: 0.4525 - val_loss: 2.1561 - val_accuracy: 0.3324\n",
            "Epoch 14/50\n",
            "155/155 [==============================] - 2s 14ms/step - loss: 1.8620 - accuracy: 0.4541 - val_loss: 1.9037 - val_accuracy: 0.4252\n",
            "Epoch 15/50\n",
            "155/155 [==============================] - 3s 22ms/step - loss: 1.8299 - accuracy: 0.4591 - val_loss: 1.7803 - val_accuracy: 0.4763\n",
            "Epoch 16/50\n",
            "155/155 [==============================] - 3s 18ms/step - loss: 1.7930 - accuracy: 0.4628 - val_loss: 1.9896 - val_accuracy: 0.4099\n",
            "Epoch 17/50\n",
            "155/155 [==============================] - 2s 14ms/step - loss: 1.7399 - accuracy: 0.4741 - val_loss: 1.6967 - val_accuracy: 0.5017\n",
            "Epoch 18/50\n",
            "155/155 [==============================] - 2s 14ms/step - loss: 1.6995 - accuracy: 0.4878 - val_loss: 1.6803 - val_accuracy: 0.5021\n",
            "Epoch 19/50\n",
            "155/155 [==============================] - 2s 15ms/step - loss: 1.6774 - accuracy: 0.4916 - val_loss: 1.8314 - val_accuracy: 0.4444\n",
            "Epoch 20/50\n",
            "155/155 [==============================] - 3s 21ms/step - loss: 1.6382 - accuracy: 0.5025 - val_loss: 1.8611 - val_accuracy: 0.4095\n",
            "Epoch 21/50\n",
            "155/155 [==============================] - 3s 17ms/step - loss: 1.6323 - accuracy: 0.4989 - val_loss: 1.6950 - val_accuracy: 0.4365\n",
            "Epoch 22/50\n",
            "155/155 [==============================] - 2s 14ms/step - loss: 1.5944 - accuracy: 0.5175 - val_loss: 2.0296 - val_accuracy: 0.4155\n",
            "Epoch 23/50\n",
            "155/155 [==============================] - 2s 14ms/step - loss: 1.5637 - accuracy: 0.5263 - val_loss: 1.9115 - val_accuracy: 0.3651\n",
            "Epoch 24/50\n",
            "155/155 [==============================] - 2s 14ms/step - loss: 1.5405 - accuracy: 0.5318 - val_loss: 1.6574 - val_accuracy: 0.4579\n",
            "Epoch 25/50\n",
            "155/155 [==============================] - 3s 19ms/step - loss: 1.5176 - accuracy: 0.5465 - val_loss: 2.0445 - val_accuracy: 0.3645\n",
            "Epoch 26/50\n",
            "155/155 [==============================] - 3s 18ms/step - loss: 1.4731 - accuracy: 0.5645 - val_loss: 1.9302 - val_accuracy: 0.3332\n",
            "Epoch 27/50\n",
            "155/155 [==============================] - 2s 14ms/step - loss: 1.4555 - accuracy: 0.5643 - val_loss: 1.7972 - val_accuracy: 0.4309\n",
            "Epoch 28/50\n",
            "155/155 [==============================] - 2s 14ms/step - loss: 1.4309 - accuracy: 0.5802 - val_loss: 1.7769 - val_accuracy: 0.4345\n",
            "Epoch 29/50\n",
            "155/155 [==============================] - 2s 14ms/step - loss: 1.3966 - accuracy: 0.5966 - val_loss: 1.6536 - val_accuracy: 0.4125\n",
            "Epoch 30/50\n",
            "155/155 [==============================] - 2s 14ms/step - loss: 1.3671 - accuracy: 0.6137 - val_loss: 1.6168 - val_accuracy: 0.5106\n",
            "Epoch 31/50\n",
            "155/155 [==============================] - 3s 21ms/step - loss: 1.3440 - accuracy: 0.6161 - val_loss: 1.4848 - val_accuracy: 0.5647\n",
            "Epoch 32/50\n",
            "155/155 [==============================] - 3s 17ms/step - loss: 1.3028 - accuracy: 0.6414 - val_loss: 1.6540 - val_accuracy: 0.4854\n",
            "Epoch 33/50\n",
            "155/155 [==============================] - 2s 14ms/step - loss: 1.2729 - accuracy: 0.6533 - val_loss: 1.8491 - val_accuracy: 0.4777\n",
            "Epoch 34/50\n",
            "155/155 [==============================] - 2s 15ms/step - loss: 1.2546 - accuracy: 0.6688 - val_loss: 2.0104 - val_accuracy: 0.4077\n",
            "Epoch 35/50\n",
            "155/155 [==============================] - 2s 15ms/step - loss: 1.1860 - accuracy: 0.6894 - val_loss: 1.5253 - val_accuracy: 0.5429\n",
            "Epoch 36/50\n",
            "155/155 [==============================] - 3s 19ms/step - loss: 1.1700 - accuracy: 0.7033 - val_loss: 1.8232 - val_accuracy: 0.4513\n",
            "Epoch 37/50\n",
            "155/155 [==============================] - 3s 18ms/step - loss: 1.1200 - accuracy: 0.7223 - val_loss: 1.4096 - val_accuracy: 0.5935\n",
            "Epoch 38/50\n",
            "155/155 [==============================] - 2s 15ms/step - loss: 1.1060 - accuracy: 0.7316 - val_loss: 1.7080 - val_accuracy: 0.4908\n",
            "Epoch 39/50\n",
            "155/155 [==============================] - 2s 14ms/step - loss: 1.0608 - accuracy: 0.7510 - val_loss: 1.7158 - val_accuracy: 0.5263\n",
            "Epoch 40/50\n",
            "155/155 [==============================] - 2s 14ms/step - loss: 1.0292 - accuracy: 0.7633 - val_loss: 1.3635 - val_accuracy: 0.6266\n",
            "Epoch 41/50\n",
            "155/155 [==============================] - 2s 15ms/step - loss: 1.0129 - accuracy: 0.7713 - val_loss: 1.3216 - val_accuracy: 0.6394\n",
            "Epoch 42/50\n",
            "155/155 [==============================] - 3s 17ms/step - loss: 1.0005 - accuracy: 0.7790 - val_loss: 2.1519 - val_accuracy: 0.4438\n",
            "Epoch 43/50\n",
            "155/155 [==============================] - 3s 17ms/step - loss: 0.9457 - accuracy: 0.8054 - val_loss: 2.2360 - val_accuracy: 0.4476\n",
            "Epoch 44/50\n",
            "155/155 [==============================] - 2s 14ms/step - loss: 0.9459 - accuracy: 0.8046 - val_loss: 1.8451 - val_accuracy: 0.4585\n",
            "Epoch 45/50\n",
            "155/155 [==============================] - 2s 15ms/step - loss: 0.8845 - accuracy: 0.8303 - val_loss: 2.5310 - val_accuracy: 0.4716\n",
            "Epoch 46/50\n",
            "155/155 [==============================] - 2s 14ms/step - loss: 0.8790 - accuracy: 0.8276 - val_loss: 1.2122 - val_accuracy: 0.6904\n",
            "Epoch 47/50\n",
            "155/155 [==============================] - 2s 14ms/step - loss: 0.8506 - accuracy: 0.8367 - val_loss: 1.7664 - val_accuracy: 0.5891\n",
            "Epoch 48/50\n",
            "155/155 [==============================] - 3s 22ms/step - loss: 0.8243 - accuracy: 0.8517 - val_loss: 1.8873 - val_accuracy: 0.5558\n",
            "Epoch 49/50\n",
            "155/155 [==============================] - 2s 15ms/step - loss: 0.8046 - accuracy: 0.8539 - val_loss: 1.8563 - val_accuracy: 0.5766\n",
            "Epoch 50/50\n",
            "155/155 [==============================] - 2s 14ms/step - loss: 0.7956 - accuracy: 0.8575 - val_loss: 1.9705 - val_accuracy: 0.5326\n"
          ]
        }
      ]
    },
    {
      "cell_type": "markdown",
      "source": [
        "## Frequency Domain Model"
      ],
      "metadata": {
        "id": "8SCoKeoWL2eM"
      }
    },
    {
      "cell_type": "code",
      "execution_count": 106,
      "metadata": {
        "id": "xtwZaAPLZ7xt"
      },
      "outputs": [],
      "source": [
        "D_freq, Y_freq = loadAudioFreq(D_train)"
      ]
    },
    {
      "cell_type": "code",
      "source": [
        "unicheck = np.unique(Y_freq, axis=0)\n",
        "print(f\"Check on freq domain:\\n{unicheck}\")"
      ],
      "metadata": {
        "id": "OrMPj3gPjhQd",
        "colab": {
          "base_uri": "https://localhost:8080/"
        },
        "outputId": "995523fa-53f0-4818-e040-f9a6b76fb0aa"
      },
      "execution_count": 107,
      "outputs": [
        {
          "output_type": "stream",
          "name": "stdout",
          "text": [
            "Check on freq domain:\n",
            "['ANG' 'DIS' 'FEA' 'HAP' 'NEU' 'SAD']\n"
          ]
        }
      ]
    },
    {
      "cell_type": "code",
      "execution_count": 108,
      "metadata": {
        "id": "GUgk6mioee_h",
        "colab": {
          "base_uri": "https://localhost:8080/",
          "height": 206
        },
        "outputId": "4e4ee6aa-8365-4241-d0d5-e24bdf258363"
      },
      "outputs": [
        {
          "output_type": "execute_result",
          "data": {
            "text/plain": [
              "     0\n",
              "0  SAD\n",
              "1  FEA\n",
              "2  SAD\n",
              "3  ANG\n",
              "4  SAD"
            ],
            "text/html": [
              "\n",
              "  <div id=\"df-82fce663-019a-462d-8a0c-9ac81f2fc02a\">\n",
              "    <div class=\"colab-df-container\">\n",
              "      <div>\n",
              "<style scoped>\n",
              "    .dataframe tbody tr th:only-of-type {\n",
              "        vertical-align: middle;\n",
              "    }\n",
              "\n",
              "    .dataframe tbody tr th {\n",
              "        vertical-align: top;\n",
              "    }\n",
              "\n",
              "    .dataframe thead th {\n",
              "        text-align: right;\n",
              "    }\n",
              "</style>\n",
              "<table border=\"1\" class=\"dataframe\">\n",
              "  <thead>\n",
              "    <tr style=\"text-align: right;\">\n",
              "      <th></th>\n",
              "      <th>0</th>\n",
              "    </tr>\n",
              "  </thead>\n",
              "  <tbody>\n",
              "    <tr>\n",
              "      <th>0</th>\n",
              "      <td>SAD</td>\n",
              "    </tr>\n",
              "    <tr>\n",
              "      <th>1</th>\n",
              "      <td>FEA</td>\n",
              "    </tr>\n",
              "    <tr>\n",
              "      <th>2</th>\n",
              "      <td>SAD</td>\n",
              "    </tr>\n",
              "    <tr>\n",
              "      <th>3</th>\n",
              "      <td>ANG</td>\n",
              "    </tr>\n",
              "    <tr>\n",
              "      <th>4</th>\n",
              "      <td>SAD</td>\n",
              "    </tr>\n",
              "  </tbody>\n",
              "</table>\n",
              "</div>\n",
              "      <button class=\"colab-df-convert\" onclick=\"convertToInteractive('df-82fce663-019a-462d-8a0c-9ac81f2fc02a')\"\n",
              "              title=\"Convert this dataframe to an interactive table.\"\n",
              "              style=\"display:none;\">\n",
              "        \n",
              "  <svg xmlns=\"http://www.w3.org/2000/svg\" height=\"24px\"viewBox=\"0 0 24 24\"\n",
              "       width=\"24px\">\n",
              "    <path d=\"M0 0h24v24H0V0z\" fill=\"none\"/>\n",
              "    <path d=\"M18.56 5.44l.94 2.06.94-2.06 2.06-.94-2.06-.94-.94-2.06-.94 2.06-2.06.94zm-11 1L8.5 8.5l.94-2.06 2.06-.94-2.06-.94L8.5 2.5l-.94 2.06-2.06.94zm10 10l.94 2.06.94-2.06 2.06-.94-2.06-.94-.94-2.06-.94 2.06-2.06.94z\"/><path d=\"M17.41 7.96l-1.37-1.37c-.4-.4-.92-.59-1.43-.59-.52 0-1.04.2-1.43.59L10.3 9.45l-7.72 7.72c-.78.78-.78 2.05 0 2.83L4 21.41c.39.39.9.59 1.41.59.51 0 1.02-.2 1.41-.59l7.78-7.78 2.81-2.81c.8-.78.8-2.07 0-2.86zM5.41 20L4 18.59l7.72-7.72 1.47 1.35L5.41 20z\"/>\n",
              "  </svg>\n",
              "      </button>\n",
              "      \n",
              "  <style>\n",
              "    .colab-df-container {\n",
              "      display:flex;\n",
              "      flex-wrap:wrap;\n",
              "      gap: 12px;\n",
              "    }\n",
              "\n",
              "    .colab-df-convert {\n",
              "      background-color: #E8F0FE;\n",
              "      border: none;\n",
              "      border-radius: 50%;\n",
              "      cursor: pointer;\n",
              "      display: none;\n",
              "      fill: #1967D2;\n",
              "      height: 32px;\n",
              "      padding: 0 0 0 0;\n",
              "      width: 32px;\n",
              "    }\n",
              "\n",
              "    .colab-df-convert:hover {\n",
              "      background-color: #E2EBFA;\n",
              "      box-shadow: 0px 1px 2px rgba(60, 64, 67, 0.3), 0px 1px 3px 1px rgba(60, 64, 67, 0.15);\n",
              "      fill: #174EA6;\n",
              "    }\n",
              "\n",
              "    [theme=dark] .colab-df-convert {\n",
              "      background-color: #3B4455;\n",
              "      fill: #D2E3FC;\n",
              "    }\n",
              "\n",
              "    [theme=dark] .colab-df-convert:hover {\n",
              "      background-color: #434B5C;\n",
              "      box-shadow: 0px 1px 3px 1px rgba(0, 0, 0, 0.15);\n",
              "      filter: drop-shadow(0px 1px 2px rgba(0, 0, 0, 0.3));\n",
              "      fill: #FFFFFF;\n",
              "    }\n",
              "  </style>\n",
              "\n",
              "      <script>\n",
              "        const buttonEl =\n",
              "          document.querySelector('#df-82fce663-019a-462d-8a0c-9ac81f2fc02a button.colab-df-convert');\n",
              "        buttonEl.style.display =\n",
              "          google.colab.kernel.accessAllowed ? 'block' : 'none';\n",
              "\n",
              "        async function convertToInteractive(key) {\n",
              "          const element = document.querySelector('#df-82fce663-019a-462d-8a0c-9ac81f2fc02a');\n",
              "          const dataTable =\n",
              "            await google.colab.kernel.invokeFunction('convertToInteractive',\n",
              "                                                     [key], {});\n",
              "          if (!dataTable) return;\n",
              "\n",
              "          const docLinkHtml = 'Like what you see? Visit the ' +\n",
              "            '<a target=\"_blank\" href=https://colab.research.google.com/notebooks/data_table.ipynb>data table notebook</a>'\n",
              "            + ' to learn more about interactive tables.';\n",
              "          element.innerHTML = '';\n",
              "          dataTable['output_type'] = 'display_data';\n",
              "          await google.colab.output.renderOutput(dataTable, element);\n",
              "          const docLink = document.createElement('div');\n",
              "          docLink.innerHTML = docLinkHtml;\n",
              "          element.appendChild(docLink);\n",
              "        }\n",
              "      </script>\n",
              "    </div>\n",
              "  </div>\n",
              "  "
            ]
          },
          "metadata": {},
          "execution_count": 108
        }
      ],
      "source": [
        "df_freq = pd.DataFrame(Y_freq)\n",
        "df_freq.head()"
      ]
    },
    {
      "cell_type": "code",
      "execution_count": 109,
      "metadata": {
        "id": "zsGHDz33gla3",
        "colab": {
          "base_uri": "https://localhost:8080/"
        },
        "outputId": "3e1d8172-0ff8-4845-bc0d-f3a206fd3495"
      },
      "outputs": [
        {
          "output_type": "stream",
          "name": "stdout",
          "text": [
            "(5216, 6)\n"
          ]
        }
      ],
      "source": [
        "# Use the get_dummies() method to one-hot encode the labels\n",
        "one_hot_labels = pd.get_dummies(df_freq)\n",
        "\n",
        "# Convert the DataFrame to a NumPy array\n",
        "one_hot_labels = one_hot_labels.to_numpy()\n",
        "\n",
        "print(one_hot_labels.shape)"
      ]
    },
    {
      "cell_type": "code",
      "execution_count": 110,
      "metadata": {
        "id": "tC97UHgRgopX",
        "colab": {
          "base_uri": "https://localhost:8080/"
        },
        "outputId": "1898163e-6d57-4e21-dda5-f4699f308993"
      },
      "outputs": [
        {
          "output_type": "execute_result",
          "data": {
            "text/plain": [
              "(5216, 6)"
            ]
          },
          "metadata": {},
          "execution_count": 110
        }
      ],
      "source": [
        "Y_freq = one_hot_labels\n",
        "Y_freq.shape"
      ]
    },
    {
      "cell_type": "code",
      "source": [
        "for i, array in enumerate(D_freq):\n",
        "    D_freq[i] = np.pad(array, ((0, 0), (0, 256 - array.shape[1])))\n",
        "D_freq = np.array(D_freq)"
      ],
      "metadata": {
        "id": "9rGP0HoHwFn2"
      },
      "execution_count": 111,
      "outputs": []
    },
    {
      "cell_type": "code",
      "source": [
        "D_freq.shape"
      ],
      "metadata": {
        "id": "0WQI9jQzwHtK",
        "colab": {
          "base_uri": "https://localhost:8080/"
        },
        "outputId": "65a4666a-bf26-47d1-91a2-0fc0e96942f3"
      },
      "execution_count": 112,
      "outputs": [
        {
          "output_type": "execute_result",
          "data": {
            "text/plain": [
              "(5216, 64, 256)"
            ]
          },
          "metadata": {},
          "execution_count": 112
        }
      ]
    },
    {
      "cell_type": "code",
      "execution_count": 113,
      "metadata": {
        "id": "iy502zPqgrjs",
        "colab": {
          "base_uri": "https://localhost:8080/"
        },
        "outputId": "09255edc-6979-4379-d743-3f6d6bd3f2ac"
      },
      "outputs": [
        {
          "output_type": "stream",
          "name": "stdout",
          "text": [
            "((4955, 64, 256), (4955, 6), (261, 64, 256), (261, 6))\n"
          ]
        }
      ],
      "source": [
        "x_train, x_test, y_train, y_test = train_test_split(np.array(D_freq), np.array(Y_freq), test_size=0.05)\n",
        "print((x_train.shape, y_train.shape, x_test.shape, y_test.shape))"
      ]
    },
    {
      "cell_type": "code",
      "execution_count": 114,
      "metadata": {
        "id": "85miHU54hlCc",
        "colab": {
          "base_uri": "https://localhost:8080/"
        },
        "outputId": "058ea24d-e08d-4200-eb60-f158427506a8"
      },
      "outputs": [
        {
          "output_type": "stream",
          "name": "stdout",
          "text": [
            "(4955, 64, 256, 1) (261, 64, 256, 1)\n"
          ]
        }
      ],
      "source": [
        "x_train = x_train.reshape((x_train.shape[0], x_train.shape[1], x_train.shape[2], 1))\n",
        "x_test = x_test.reshape((x_test.shape[0], x_test.shape[1], x_test.shape[2], 1))\n",
        "print(x_train.shape, x_test.shape)"
      ]
    },
    {
      "cell_type": "code",
      "source": [
        "model = Sequential()\n",
        "\n",
        "# Layer 1: Convolutional Layer\n",
        "model.add(Conv2D(32, (3, 3), activation='relu', input_shape=(x_train.shape[1], x_train.shape[2], 1)))\n",
        "model.add(MaxPooling2D(pool_size=(2, 2)))\n",
        "\n",
        "# Layer 2: Convolutional Layer\n",
        "model.add(Conv2D(64, (3, 3), activation='relu'))\n",
        "model.add(MaxPooling2D(pool_size=(2, 2)))\n",
        "\n",
        "# Layer 3: Convolutional Layer\n",
        "model.add(Conv2D(128, (3, 3), activation='relu'))\n",
        "model.add(MaxPooling2D(pool_size=(2, 2)))\n",
        "\n",
        "# Layer 4: Flatten Layer\n",
        "model.add(Flatten())\n",
        "\n",
        "# Layer 5: Fully Connected Layer\n",
        "model.add(Dense(256, activation='relu'))\n",
        "model.add(Dropout(0.5))\n",
        "\n",
        "# Layer 6: Fully Connected Layer\n",
        "model.add(Dense(128, activation='relu'))\n",
        "model.add(Dropout(0.5))\n",
        "\n",
        "# Layer 7: Output Layer\n",
        "model.add(Dense(6, activation='sigmoid'))\n",
        "\n",
        "model.compile(loss='categorical_crossentropy',\n",
        "             optimizer=optimizers.Adam(lr=0.0005),\n",
        "             metrics=['accuracy'])\n",
        "\n",
        "model.summary()"
      ],
      "metadata": {
        "id": "_Qb69EaZ4cZj",
        "colab": {
          "base_uri": "https://localhost:8080/"
        },
        "outputId": "8dd63d88-3903-449b-bbc9-6ddd4abf70d0"
      },
      "execution_count": 115,
      "outputs": [
        {
          "output_type": "stream",
          "name": "stdout",
          "text": [
            "Model: \"sequential_6\"\n",
            "_________________________________________________________________\n",
            " Layer (type)                Output Shape              Param #   \n",
            "=================================================================\n",
            " conv2d_6 (Conv2D)           (None, 62, 254, 32)       320       \n",
            "                                                                 \n",
            " max_pooling2d_6 (MaxPooling  (None, 31, 127, 32)      0         \n",
            " 2D)                                                             \n",
            "                                                                 \n",
            " conv2d_7 (Conv2D)           (None, 29, 125, 64)       18496     \n",
            "                                                                 \n",
            " max_pooling2d_7 (MaxPooling  (None, 14, 62, 64)       0         \n",
            " 2D)                                                             \n",
            "                                                                 \n",
            " conv2d_8 (Conv2D)           (None, 12, 60, 128)       73856     \n",
            "                                                                 \n",
            " max_pooling2d_8 (MaxPooling  (None, 6, 30, 128)       0         \n",
            " 2D)                                                             \n",
            "                                                                 \n",
            " flatten_6 (Flatten)         (None, 23040)             0         \n",
            "                                                                 \n",
            " dense_22 (Dense)            (None, 256)               5898496   \n",
            "                                                                 \n",
            " dropout_16 (Dropout)        (None, 256)               0         \n",
            "                                                                 \n",
            " dense_23 (Dense)            (None, 128)               32896     \n",
            "                                                                 \n",
            " dropout_17 (Dropout)        (None, 128)               0         \n",
            "                                                                 \n",
            " dense_24 (Dense)            (None, 6)                 774       \n",
            "                                                                 \n",
            "=================================================================\n",
            "Total params: 6,024,838\n",
            "Trainable params: 6,024,838\n",
            "Non-trainable params: 0\n",
            "_________________________________________________________________\n"
          ]
        },
        {
          "output_type": "stream",
          "name": "stderr",
          "text": [
            "/usr/local/lib/python3.10/dist-packages/keras/optimizers/legacy/adam.py:117: UserWarning: The `lr` argument is deprecated, use `learning_rate` instead.\n",
            "  super().__init__(name, **kwargs)\n"
          ]
        }
      ]
    },
    {
      "cell_type": "code",
      "execution_count": 116,
      "metadata": {
        "id": "gl590_cHhr3p",
        "colab": {
          "base_uri": "https://localhost:8080/"
        },
        "outputId": "7ed27007-e84f-4d5e-d5de-a68380c675be"
      },
      "outputs": [
        {
          "output_type": "stream",
          "name": "stdout",
          "text": [
            "Epoch 1/50\n",
            "39/39 [==============================] - 3s 62ms/step - loss: 1.9521 - accuracy: 0.1909 - val_loss: 1.7365 - val_accuracy: 0.2950\n",
            "Epoch 2/50\n",
            "39/39 [==============================] - 2s 50ms/step - loss: 1.6991 - accuracy: 0.2700 - val_loss: 1.5977 - val_accuracy: 0.3295\n",
            "Epoch 3/50\n",
            "39/39 [==============================] - 2s 50ms/step - loss: 1.6058 - accuracy: 0.3150 - val_loss: 1.5118 - val_accuracy: 0.3755\n",
            "Epoch 4/50\n",
            "39/39 [==============================] - 2s 50ms/step - loss: 1.5678 - accuracy: 0.3310 - val_loss: 1.4767 - val_accuracy: 0.3563\n",
            "Epoch 5/50\n",
            "39/39 [==============================] - 2s 50ms/step - loss: 1.5304 - accuracy: 0.3623 - val_loss: 1.4488 - val_accuracy: 0.3870\n",
            "Epoch 6/50\n",
            "39/39 [==============================] - 2s 50ms/step - loss: 1.5156 - accuracy: 0.3752 - val_loss: 1.4339 - val_accuracy: 0.3908\n",
            "Epoch 7/50\n",
            "39/39 [==============================] - 2s 53ms/step - loss: 1.4981 - accuracy: 0.3776 - val_loss: 1.4381 - val_accuracy: 0.4061\n",
            "Epoch 8/50\n",
            "39/39 [==============================] - 2s 54ms/step - loss: 1.4868 - accuracy: 0.3939 - val_loss: 1.4094 - val_accuracy: 0.4176\n",
            "Epoch 9/50\n",
            "39/39 [==============================] - 2s 51ms/step - loss: 1.4632 - accuracy: 0.3996 - val_loss: 1.4311 - val_accuracy: 0.3985\n",
            "Epoch 10/50\n",
            "39/39 [==============================] - 2s 50ms/step - loss: 1.4536 - accuracy: 0.4052 - val_loss: 1.4069 - val_accuracy: 0.4061\n",
            "Epoch 11/50\n",
            "39/39 [==============================] - 2s 50ms/step - loss: 1.4366 - accuracy: 0.4103 - val_loss: 1.4001 - val_accuracy: 0.4176\n",
            "Epoch 12/50\n",
            "39/39 [==============================] - 2s 51ms/step - loss: 1.4331 - accuracy: 0.4226 - val_loss: 1.4245 - val_accuracy: 0.4023\n",
            "Epoch 13/50\n",
            "39/39 [==============================] - 2s 52ms/step - loss: 1.4101 - accuracy: 0.4301 - val_loss: 1.3669 - val_accuracy: 0.4253\n",
            "Epoch 14/50\n",
            "39/39 [==============================] - 2s 54ms/step - loss: 1.3944 - accuracy: 0.4448 - val_loss: 1.3685 - val_accuracy: 0.4176\n",
            "Epoch 15/50\n",
            "39/39 [==============================] - 2s 52ms/step - loss: 1.3817 - accuracy: 0.4367 - val_loss: 1.3401 - val_accuracy: 0.4253\n",
            "Epoch 16/50\n",
            "39/39 [==============================] - 2s 50ms/step - loss: 1.3595 - accuracy: 0.4456 - val_loss: 1.3376 - val_accuracy: 0.4023\n",
            "Epoch 17/50\n",
            "39/39 [==============================] - 2s 51ms/step - loss: 1.3273 - accuracy: 0.4704 - val_loss: 1.3345 - val_accuracy: 0.4521\n",
            "Epoch 18/50\n",
            "39/39 [==============================] - 2s 52ms/step - loss: 1.3251 - accuracy: 0.4725 - val_loss: 1.3073 - val_accuracy: 0.4713\n",
            "Epoch 19/50\n",
            "39/39 [==============================] - 2s 49ms/step - loss: 1.3048 - accuracy: 0.4965 - val_loss: 1.3079 - val_accuracy: 0.4789\n",
            "Epoch 20/50\n",
            "39/39 [==============================] - 2s 51ms/step - loss: 1.3091 - accuracy: 0.4821 - val_loss: 1.2862 - val_accuracy: 0.4559\n",
            "Epoch 21/50\n",
            "39/39 [==============================] - 2s 53ms/step - loss: 1.2588 - accuracy: 0.4938 - val_loss: 1.3142 - val_accuracy: 0.4521\n",
            "Epoch 22/50\n",
            "39/39 [==============================] - 2s 51ms/step - loss: 1.2460 - accuracy: 0.5177 - val_loss: 1.2909 - val_accuracy: 0.4789\n",
            "Epoch 23/50\n",
            "39/39 [==============================] - 2s 49ms/step - loss: 1.2219 - accuracy: 0.5239 - val_loss: 1.3137 - val_accuracy: 0.4904\n",
            "Epoch 24/50\n",
            "39/39 [==============================] - 2s 49ms/step - loss: 1.2191 - accuracy: 0.5199 - val_loss: 1.2905 - val_accuracy: 0.4828\n",
            "Epoch 25/50\n",
            "39/39 [==============================] - 2s 49ms/step - loss: 1.1823 - accuracy: 0.5340 - val_loss: 1.2991 - val_accuracy: 0.4866\n",
            "Epoch 26/50\n",
            "39/39 [==============================] - 2s 50ms/step - loss: 1.1593 - accuracy: 0.5437 - val_loss: 1.2894 - val_accuracy: 0.4828\n",
            "Epoch 27/50\n",
            "39/39 [==============================] - 2s 51ms/step - loss: 1.1189 - accuracy: 0.5629 - val_loss: 1.2894 - val_accuracy: 0.5134\n",
            "Epoch 28/50\n",
            "39/39 [==============================] - 2s 54ms/step - loss: 1.1119 - accuracy: 0.5582 - val_loss: 1.3471 - val_accuracy: 0.4713\n",
            "Epoch 29/50\n",
            "39/39 [==============================] - 2s 51ms/step - loss: 1.0707 - accuracy: 0.5877 - val_loss: 1.3002 - val_accuracy: 0.4789\n",
            "Epoch 30/50\n",
            "39/39 [==============================] - 2s 50ms/step - loss: 1.0625 - accuracy: 0.5889 - val_loss: 1.4331 - val_accuracy: 0.4674\n"
          ]
        }
      ],
      "source": [
        "# Specify thecallbacks for the model\n",
        "callbacks = [EarlyStopping(monitor='val_loss', patience=10)]\n",
        "\n",
        "history = model.fit(x_train, y_train,\n",
        "                    epochs=50,\n",
        "                    batch_size=128,\n",
        "                    validation_data=(x_test, y_test),\n",
        "                    callbacks=callbacks)"
      ]
    },
    {
      "cell_type": "code",
      "source": [],
      "metadata": {
        "id": "iaGFCAqQm826"
      },
      "execution_count": null,
      "outputs": []
    },
    {
      "cell_type": "code",
      "source": [
        "def loadAudioTime(audio_files):\n",
        "  classes = [\"SAD\", \"ANG\", \"DIS\", \"FEA\", \"HAP\", \"NEU\"]\n",
        " \n",
        "  # max_length = getMaxLen(audio_files)\n",
        "  max_length = 200\n",
        "  D, Y = [], []\n",
        "  for audio_file in audio_files: \n",
        "    # load the audio file\n",
        "    audio, sr = lib.load(audio_file, sr=4444)\n",
        "    # extract zero crossing rate\n",
        "    zcr = zeroCrossingRate(audio)\n",
        "    # extract energy\n",
        "    rms = energy(audio)\n",
        "    # chroma stft\n",
        "    cs = chromaStft(audio, sr)\n",
        "    # mfcc\n",
        "    mfc = mfcc(audio, sr)\n",
        "    # extract mel spectrogram\n",
        "    #mel_spec = melSpectrogram(audio, sr).mean()\n",
        "    combined_features = np.concatenate(([rms, cs, mfc], (np.pad(zcr[0], (0, 300 - len(zcr[0]))))))\n",
        "    D.append(combined_features)\n",
        "    for cls in classes:\n",
        "      if re.search(cls, audio_file): Y.append(cls)\n",
        "\n",
        "  return D, Y"
      ],
      "metadata": {
        "id": "Xw1nOp5k2ByS"
      },
      "execution_count": 117,
      "outputs": []
    },
    {
      "cell_type": "code",
      "source": [
        "D_time, Y_time = loadAudioTime(D_train)"
      ],
      "metadata": {
        "colab": {
          "base_uri": "https://localhost:8080/"
        },
        "id": "cIAVoPb92dzF",
        "outputId": "7117bae9-eb01-4423-be91-8628b8e923b0"
      },
      "execution_count": 118,
      "outputs": [
        {
          "output_type": "stream",
          "name": "stderr",
          "text": [
            "/usr/local/lib/python3.10/dist-packages/librosa/util/decorators.py:88: UserWarning: Trying to estimate tuning from empty frequency set.\n",
            "  return f(*args, **kwargs)\n"
          ]
        }
      ]
    },
    {
      "cell_type": "code",
      "source": [
        "D_time = np.array(D_time)\n",
        "D_time.shape"
      ],
      "metadata": {
        "colab": {
          "base_uri": "https://localhost:8080/"
        },
        "outputId": "f5dc75d4-c880-4800-fb04-cad89bf21107",
        "id": "8la9AYEN2096"
      },
      "execution_count": 119,
      "outputs": [
        {
          "output_type": "execute_result",
          "data": {
            "text/plain": [
              "(5216, 303)"
            ]
          },
          "metadata": {},
          "execution_count": 119
        }
      ]
    },
    {
      "cell_type": "code",
      "source": [
        "unicheck = np.unique(Y_time, axis=0)\n",
        "print(f\"Check on time domain:\\n{unicheck}\")"
      ],
      "metadata": {
        "colab": {
          "base_uri": "https://localhost:8080/"
        },
        "outputId": "07bbe609-ce6f-419f-dde5-510f149322bb",
        "id": "9YKmTur_20-Y"
      },
      "execution_count": 120,
      "outputs": [
        {
          "output_type": "stream",
          "name": "stdout",
          "text": [
            "Check on time domain:\n",
            "['ANG' 'DIS' 'FEA' 'HAP' 'NEU' 'SAD']\n"
          ]
        }
      ]
    },
    {
      "cell_type": "code",
      "source": [
        "df_time = pd.DataFrame(Y_time)\n",
        "df_time.head()"
      ],
      "metadata": {
        "colab": {
          "base_uri": "https://localhost:8080/",
          "height": 206
        },
        "outputId": "9754e215-5073-43c6-f862-f45c63bd1979",
        "id": "Y9P505Fz20-Y"
      },
      "execution_count": 121,
      "outputs": [
        {
          "output_type": "execute_result",
          "data": {
            "text/plain": [
              "     0\n",
              "0  SAD\n",
              "1  FEA\n",
              "2  SAD\n",
              "3  ANG\n",
              "4  SAD"
            ],
            "text/html": [
              "\n",
              "  <div id=\"df-82f58917-5ffe-41b9-adf7-af81d8f4bdba\">\n",
              "    <div class=\"colab-df-container\">\n",
              "      <div>\n",
              "<style scoped>\n",
              "    .dataframe tbody tr th:only-of-type {\n",
              "        vertical-align: middle;\n",
              "    }\n",
              "\n",
              "    .dataframe tbody tr th {\n",
              "        vertical-align: top;\n",
              "    }\n",
              "\n",
              "    .dataframe thead th {\n",
              "        text-align: right;\n",
              "    }\n",
              "</style>\n",
              "<table border=\"1\" class=\"dataframe\">\n",
              "  <thead>\n",
              "    <tr style=\"text-align: right;\">\n",
              "      <th></th>\n",
              "      <th>0</th>\n",
              "    </tr>\n",
              "  </thead>\n",
              "  <tbody>\n",
              "    <tr>\n",
              "      <th>0</th>\n",
              "      <td>SAD</td>\n",
              "    </tr>\n",
              "    <tr>\n",
              "      <th>1</th>\n",
              "      <td>FEA</td>\n",
              "    </tr>\n",
              "    <tr>\n",
              "      <th>2</th>\n",
              "      <td>SAD</td>\n",
              "    </tr>\n",
              "    <tr>\n",
              "      <th>3</th>\n",
              "      <td>ANG</td>\n",
              "    </tr>\n",
              "    <tr>\n",
              "      <th>4</th>\n",
              "      <td>SAD</td>\n",
              "    </tr>\n",
              "  </tbody>\n",
              "</table>\n",
              "</div>\n",
              "      <button class=\"colab-df-convert\" onclick=\"convertToInteractive('df-82f58917-5ffe-41b9-adf7-af81d8f4bdba')\"\n",
              "              title=\"Convert this dataframe to an interactive table.\"\n",
              "              style=\"display:none;\">\n",
              "        \n",
              "  <svg xmlns=\"http://www.w3.org/2000/svg\" height=\"24px\"viewBox=\"0 0 24 24\"\n",
              "       width=\"24px\">\n",
              "    <path d=\"M0 0h24v24H0V0z\" fill=\"none\"/>\n",
              "    <path d=\"M18.56 5.44l.94 2.06.94-2.06 2.06-.94-2.06-.94-.94-2.06-.94 2.06-2.06.94zm-11 1L8.5 8.5l.94-2.06 2.06-.94-2.06-.94L8.5 2.5l-.94 2.06-2.06.94zm10 10l.94 2.06.94-2.06 2.06-.94-2.06-.94-.94-2.06-.94 2.06-2.06.94z\"/><path d=\"M17.41 7.96l-1.37-1.37c-.4-.4-.92-.59-1.43-.59-.52 0-1.04.2-1.43.59L10.3 9.45l-7.72 7.72c-.78.78-.78 2.05 0 2.83L4 21.41c.39.39.9.59 1.41.59.51 0 1.02-.2 1.41-.59l7.78-7.78 2.81-2.81c.8-.78.8-2.07 0-2.86zM5.41 20L4 18.59l7.72-7.72 1.47 1.35L5.41 20z\"/>\n",
              "  </svg>\n",
              "      </button>\n",
              "      \n",
              "  <style>\n",
              "    .colab-df-container {\n",
              "      display:flex;\n",
              "      flex-wrap:wrap;\n",
              "      gap: 12px;\n",
              "    }\n",
              "\n",
              "    .colab-df-convert {\n",
              "      background-color: #E8F0FE;\n",
              "      border: none;\n",
              "      border-radius: 50%;\n",
              "      cursor: pointer;\n",
              "      display: none;\n",
              "      fill: #1967D2;\n",
              "      height: 32px;\n",
              "      padding: 0 0 0 0;\n",
              "      width: 32px;\n",
              "    }\n",
              "\n",
              "    .colab-df-convert:hover {\n",
              "      background-color: #E2EBFA;\n",
              "      box-shadow: 0px 1px 2px rgba(60, 64, 67, 0.3), 0px 1px 3px 1px rgba(60, 64, 67, 0.15);\n",
              "      fill: #174EA6;\n",
              "    }\n",
              "\n",
              "    [theme=dark] .colab-df-convert {\n",
              "      background-color: #3B4455;\n",
              "      fill: #D2E3FC;\n",
              "    }\n",
              "\n",
              "    [theme=dark] .colab-df-convert:hover {\n",
              "      background-color: #434B5C;\n",
              "      box-shadow: 0px 1px 3px 1px rgba(0, 0, 0, 0.15);\n",
              "      filter: drop-shadow(0px 1px 2px rgba(0, 0, 0, 0.3));\n",
              "      fill: #FFFFFF;\n",
              "    }\n",
              "  </style>\n",
              "\n",
              "      <script>\n",
              "        const buttonEl =\n",
              "          document.querySelector('#df-82f58917-5ffe-41b9-adf7-af81d8f4bdba button.colab-df-convert');\n",
              "        buttonEl.style.display =\n",
              "          google.colab.kernel.accessAllowed ? 'block' : 'none';\n",
              "\n",
              "        async function convertToInteractive(key) {\n",
              "          const element = document.querySelector('#df-82f58917-5ffe-41b9-adf7-af81d8f4bdba');\n",
              "          const dataTable =\n",
              "            await google.colab.kernel.invokeFunction('convertToInteractive',\n",
              "                                                     [key], {});\n",
              "          if (!dataTable) return;\n",
              "\n",
              "          const docLinkHtml = 'Like what you see? Visit the ' +\n",
              "            '<a target=\"_blank\" href=https://colab.research.google.com/notebooks/data_table.ipynb>data table notebook</a>'\n",
              "            + ' to learn more about interactive tables.';\n",
              "          element.innerHTML = '';\n",
              "          dataTable['output_type'] = 'display_data';\n",
              "          await google.colab.output.renderOutput(dataTable, element);\n",
              "          const docLink = document.createElement('div');\n",
              "          docLink.innerHTML = docLinkHtml;\n",
              "          element.appendChild(docLink);\n",
              "        }\n",
              "      </script>\n",
              "    </div>\n",
              "  </div>\n",
              "  "
            ]
          },
          "metadata": {},
          "execution_count": 121
        }
      ]
    },
    {
      "cell_type": "code",
      "source": [
        "# Use the get_dummies() method to one-hot encode the labels\n",
        "one_hot_labels = pd.get_dummies(df_time)\n",
        "\n",
        "# Convert the DataFrame to a NumPy array\n",
        "one_hot_labels = one_hot_labels.to_numpy()\n",
        "\n",
        "print(one_hot_labels.shape)"
      ],
      "metadata": {
        "colab": {
          "base_uri": "https://localhost:8080/"
        },
        "outputId": "1faa88e3-4170-4b67-f2ce-381a37c1256a",
        "id": "_sU4euKF20-Z"
      },
      "execution_count": 122,
      "outputs": [
        {
          "output_type": "stream",
          "name": "stdout",
          "text": [
            "(5216, 6)\n"
          ]
        }
      ]
    },
    {
      "cell_type": "code",
      "source": [
        "Y_time = one_hot_labels\n",
        "Y_time.shape"
      ],
      "metadata": {
        "colab": {
          "base_uri": "https://localhost:8080/"
        },
        "outputId": "9801d08e-939d-4b49-d406-7cce673738c4",
        "id": "5tdQ79ZM20-Z"
      },
      "execution_count": 123,
      "outputs": [
        {
          "output_type": "execute_result",
          "data": {
            "text/plain": [
              "(5216, 6)"
            ]
          },
          "metadata": {},
          "execution_count": 123
        }
      ]
    },
    {
      "cell_type": "code",
      "source": [
        "# Apply PCA to the data\n",
        "pca = PCA(n_components=100)\n",
        "D_pca = pca.fit_transform(D_time)"
      ],
      "metadata": {
        "id": "gK4Y8Y_A20-Z"
      },
      "execution_count": 124,
      "outputs": []
    },
    {
      "cell_type": "code",
      "source": [
        "# Split the data into train and test sets\n",
        "x_train, x_test, y_train, y_test = train_test_split(np.array(D_pca), np.array(Y_time), test_size=0.05, random_state=69, shuffle=True, stratify=Y_time)\n",
        "print((x_train.shape, y_train.shape, x_test.shape, y_test.shape))\n",
        "\n",
        "x_train = x_train.reshape((x_train.shape[0], x_train.shape[1], 1))\n",
        "x_test = x_test.reshape((x_test.shape[0], x_test.shape[1], 1))\n",
        "\n",
        "model = Sequential()\n",
        "model.add(Conv1D(128, 3, input_shape=(x_train.shape[1], 1), kernel_regularizer=regularizers.l2(0.001)))\n",
        "model.add(BatchNormalization())\n",
        "model.add(Activation('relu'))\n",
        "model.add(MaxPooling1D(pool_size=2))\n",
        "\n",
        "model.add(Conv1D(256, 3, kernel_regularizer=regularizers.l2(0.001)))\n",
        "model.add(BatchNormalization())\n",
        "model.add(Activation('relu'))\n",
        "model.add(MaxPooling1D(pool_size=2))\n",
        "\n",
        "model.add(Conv1D(512, 3, kernel_regularizer=regularizers.l2(0.001)))\n",
        "model.add(BatchNormalization())\n",
        "model.add(Activation('relu'))\n",
        "model.add(MaxPooling1D(pool_size=2))\n",
        "\n",
        "model.add(Conv1D(1024, 3,  kernel_regularizer=regularizers.l2(0.001)))\n",
        "model.add(BatchNormalization())\n",
        "model.add(Activation('relu'))\n",
        "model.add(MaxPooling1D(pool_size=2))\n",
        "\n",
        "model.add(Flatten())\n",
        "model.add(Dense(512, kernel_regularizer=regularizers.l2(0.001)))\n",
        "model.add(BatchNormalization())\n",
        "model.add(Activation('relu'))\n",
        "model.add(Dropout(0.3))\n",
        "\n",
        "model.add(Dense(256, kernel_regularizer=regularizers.l2(0.001)))\n",
        "model.add(BatchNormalization())\n",
        "model.add(Activation('relu'))\n",
        "model.add(Dropout(0.2))\n",
        "\n",
        "model.add(Dense(128, kernel_regularizer=regularizers.l2(0.001)))\n",
        "model.add(BatchNormalization())\n",
        "model.add(Activation('relu'))\n",
        "model.add(Dropout(0.2))\n",
        "\n",
        "model.add(Dense(6, activation='softmax'))\n",
        "\n",
        "model.compile(loss='categorical_crossentropy',\n",
        "             optimizer=optimizers.Adam(lr=0.0005),\n",
        "             metrics=['accuracy'])\n",
        "\n",
        "# Specify thecallbacks for the model\n",
        "callbacks = [EarlyStopping(monitor='val_loss', patience=10)]\n",
        "\n",
        "model.summary()\n",
        "\n",
        "# Train the model with early stopping\n",
        "history = model.fit(x_train, y_train,\n",
        "                    validation_data=(x_train, y_train),\n",
        "                    epochs=50,\n",
        "                    batch_size=32,\n",
        "                    callbacks=callbacks)"
      ],
      "metadata": {
        "colab": {
          "base_uri": "https://localhost:8080/"
        },
        "outputId": "fdebc512-c59b-4436-dcc3-e05084de72ce",
        "id": "R7iI8VgA20-a"
      },
      "execution_count": 125,
      "outputs": [
        {
          "output_type": "stream",
          "name": "stdout",
          "text": [
            "((4955, 100), (4955, 6), (261, 100), (261, 6))\n",
            "Model: \"sequential_7\"\n",
            "_________________________________________________________________\n",
            " Layer (type)                Output Shape              Param #   \n",
            "=================================================================\n",
            " conv1d_16 (Conv1D)          (None, 98, 128)           512       \n",
            "                                                                 \n",
            " batch_normalization_28 (Bat  (None, 98, 128)          512       \n",
            " chNormalization)                                                \n",
            "                                                                 \n",
            " activation_28 (Activation)  (None, 98, 128)           0         \n",
            "                                                                 \n",
            " max_pooling1d_16 (MaxPoolin  (None, 49, 128)          0         \n",
            " g1D)                                                            \n",
            "                                                                 \n",
            " conv1d_17 (Conv1D)          (None, 47, 256)           98560     \n",
            "                                                                 \n",
            " batch_normalization_29 (Bat  (None, 47, 256)          1024      \n",
            " chNormalization)                                                \n",
            "                                                                 \n",
            " activation_29 (Activation)  (None, 47, 256)           0         \n",
            "                                                                 \n",
            " max_pooling1d_17 (MaxPoolin  (None, 23, 256)          0         \n",
            " g1D)                                                            \n",
            "                                                                 \n",
            " conv1d_18 (Conv1D)          (None, 21, 512)           393728    \n",
            "                                                                 \n",
            " batch_normalization_30 (Bat  (None, 21, 512)          2048      \n",
            " chNormalization)                                                \n",
            "                                                                 \n",
            " activation_30 (Activation)  (None, 21, 512)           0         \n",
            "                                                                 \n",
            " max_pooling1d_18 (MaxPoolin  (None, 10, 512)          0         \n",
            " g1D)                                                            \n",
            "                                                                 \n",
            " conv1d_19 (Conv1D)          (None, 8, 1024)           1573888   \n",
            "                                                                 \n",
            " batch_normalization_31 (Bat  (None, 8, 1024)          4096      \n",
            " chNormalization)                                                \n",
            "                                                                 \n",
            " activation_31 (Activation)  (None, 8, 1024)           0         \n",
            "                                                                 \n",
            " max_pooling1d_19 (MaxPoolin  (None, 4, 1024)          0         \n",
            " g1D)                                                            \n",
            "                                                                 \n",
            " flatten_7 (Flatten)         (None, 4096)              0         \n",
            "                                                                 \n",
            " dense_25 (Dense)            (None, 512)               2097664   \n",
            "                                                                 \n",
            " batch_normalization_32 (Bat  (None, 512)              2048      \n",
            " chNormalization)                                                \n",
            "                                                                 \n",
            " activation_32 (Activation)  (None, 512)               0         \n",
            "                                                                 \n",
            " dropout_18 (Dropout)        (None, 512)               0         \n",
            "                                                                 \n",
            " dense_26 (Dense)            (None, 256)               131328    \n",
            "                                                                 \n",
            " batch_normalization_33 (Bat  (None, 256)              1024      \n",
            " chNormalization)                                                \n",
            "                                                                 \n",
            " activation_33 (Activation)  (None, 256)               0         \n",
            "                                                                 \n",
            " dropout_19 (Dropout)        (None, 256)               0         \n",
            "                                                                 \n",
            " dense_27 (Dense)            (None, 128)               32896     \n",
            "                                                                 \n",
            " batch_normalization_34 (Bat  (None, 128)              512       \n",
            " chNormalization)                                                \n",
            "                                                                 \n",
            " activation_34 (Activation)  (None, 128)               0         \n",
            "                                                                 \n",
            " dropout_20 (Dropout)        (None, 128)               0         \n",
            "                                                                 \n",
            " dense_28 (Dense)            (None, 6)                 774       \n",
            "                                                                 \n",
            "=================================================================\n",
            "Total params: 4,340,614\n",
            "Trainable params: 4,334,982\n",
            "Non-trainable params: 5,632\n",
            "_________________________________________________________________\n"
          ]
        },
        {
          "output_type": "stream",
          "name": "stderr",
          "text": [
            "/usr/local/lib/python3.10/dist-packages/keras/optimizers/legacy/adam.py:117: UserWarning: The `lr` argument is deprecated, use `learning_rate` instead.\n",
            "  super().__init__(name, **kwargs)\n"
          ]
        },
        {
          "output_type": "stream",
          "name": "stdout",
          "text": [
            "Epoch 1/50\n",
            "155/155 [==============================] - 5s 16ms/step - loss: 3.8052 - accuracy: 0.2993 - val_loss: 4.0004 - val_accuracy: 0.1485\n",
            "Epoch 2/50\n",
            "155/155 [==============================] - 2s 14ms/step - loss: 3.1712 - accuracy: 0.3393 - val_loss: 3.5646 - val_accuracy: 0.1574\n",
            "Epoch 3/50\n",
            "155/155 [==============================] - 3s 19ms/step - loss: 2.8701 - accuracy: 0.3540 - val_loss: 3.2397 - val_accuracy: 0.1679\n",
            "Epoch 4/50\n",
            "155/155 [==============================] - 3s 18ms/step - loss: 2.6665 - accuracy: 0.3721 - val_loss: 2.6759 - val_accuracy: 0.3243\n",
            "Epoch 5/50\n",
            "155/155 [==============================] - 2s 14ms/step - loss: 2.5222 - accuracy: 0.3851 - val_loss: 2.4630 - val_accuracy: 0.3715\n",
            "Epoch 6/50\n",
            "155/155 [==============================] - 2s 14ms/step - loss: 2.3881 - accuracy: 0.3984 - val_loss: 2.3954 - val_accuracy: 0.3764\n",
            "Epoch 7/50\n",
            "155/155 [==============================] - 2s 15ms/step - loss: 2.2922 - accuracy: 0.4065 - val_loss: 2.2504 - val_accuracy: 0.4109\n",
            "Epoch 8/50\n",
            "155/155 [==============================] - 2s 14ms/step - loss: 2.2085 - accuracy: 0.4141 - val_loss: 2.2472 - val_accuracy: 0.3724\n",
            "Epoch 9/50\n",
            "155/155 [==============================] - 3s 18ms/step - loss: 2.1502 - accuracy: 0.4111 - val_loss: 2.0856 - val_accuracy: 0.4246\n",
            "Epoch 10/50\n",
            "155/155 [==============================] - 2s 16ms/step - loss: 2.0727 - accuracy: 0.4353 - val_loss: 2.0400 - val_accuracy: 0.4319\n",
            "Epoch 11/50\n",
            "155/155 [==============================] - 2s 15ms/step - loss: 2.0261 - accuracy: 0.4228 - val_loss: 2.0764 - val_accuracy: 0.3943\n",
            "Epoch 12/50\n",
            "155/155 [==============================] - 2s 14ms/step - loss: 1.9598 - accuracy: 0.4367 - val_loss: 1.9898 - val_accuracy: 0.4226\n",
            "Epoch 13/50\n",
            "155/155 [==============================] - 2s 14ms/step - loss: 1.9250 - accuracy: 0.4339 - val_loss: 1.8861 - val_accuracy: 0.4482\n",
            "Epoch 14/50\n",
            "155/155 [==============================] - 2s 14ms/step - loss: 1.8627 - accuracy: 0.4605 - val_loss: 1.9351 - val_accuracy: 0.4091\n",
            "Epoch 15/50\n",
            "155/155 [==============================] - 3s 22ms/step - loss: 1.8344 - accuracy: 0.4525 - val_loss: 2.0530 - val_accuracy: 0.3413\n",
            "Epoch 16/50\n",
            "155/155 [==============================] - 2s 15ms/step - loss: 1.7942 - accuracy: 0.4593 - val_loss: 1.8639 - val_accuracy: 0.4299\n",
            "Epoch 17/50\n",
            "155/155 [==============================] - 2s 15ms/step - loss: 1.7604 - accuracy: 0.4642 - val_loss: 1.7743 - val_accuracy: 0.4486\n",
            "Epoch 18/50\n",
            "155/155 [==============================] - 2s 14ms/step - loss: 1.7150 - accuracy: 0.4757 - val_loss: 1.7797 - val_accuracy: 0.4313\n",
            "Epoch 19/50\n",
            "155/155 [==============================] - 2s 14ms/step - loss: 1.6905 - accuracy: 0.4747 - val_loss: 1.7562 - val_accuracy: 0.4174\n",
            "Epoch 20/50\n",
            "155/155 [==============================] - 2s 16ms/step - loss: 1.6827 - accuracy: 0.4803 - val_loss: 1.7001 - val_accuracy: 0.4858\n",
            "Epoch 21/50\n",
            "155/155 [==============================] - 3s 19ms/step - loss: 1.6475 - accuracy: 0.4894 - val_loss: 1.6866 - val_accuracy: 0.4636\n",
            "Epoch 22/50\n",
            "155/155 [==============================] - 2s 14ms/step - loss: 1.5997 - accuracy: 0.5126 - val_loss: 1.8715 - val_accuracy: 0.3990\n",
            "Epoch 23/50\n",
            "155/155 [==============================] - 2s 14ms/step - loss: 1.5872 - accuracy: 0.5138 - val_loss: 2.1653 - val_accuracy: 0.3526\n",
            "Epoch 24/50\n",
            "155/155 [==============================] - 2s 15ms/step - loss: 1.5729 - accuracy: 0.5179 - val_loss: 1.7048 - val_accuracy: 0.4628\n",
            "Epoch 25/50\n",
            "155/155 [==============================] - 2s 14ms/step - loss: 1.5296 - accuracy: 0.5368 - val_loss: 2.0593 - val_accuracy: 0.4028\n",
            "Epoch 26/50\n",
            "155/155 [==============================] - 3s 16ms/step - loss: 1.5125 - accuracy: 0.5475 - val_loss: 1.5760 - val_accuracy: 0.4965\n",
            "Epoch 27/50\n",
            "155/155 [==============================] - 3s 18ms/step - loss: 1.4794 - accuracy: 0.5669 - val_loss: 1.4522 - val_accuracy: 0.5701\n",
            "Epoch 28/50\n",
            "155/155 [==============================] - 2s 15ms/step - loss: 1.4390 - accuracy: 0.5736 - val_loss: 1.7142 - val_accuracy: 0.4698\n",
            "Epoch 29/50\n",
            "155/155 [==============================] - 2s 14ms/step - loss: 1.4301 - accuracy: 0.5719 - val_loss: 1.6143 - val_accuracy: 0.5370\n",
            "Epoch 30/50\n",
            "155/155 [==============================] - 2s 14ms/step - loss: 1.3976 - accuracy: 0.5992 - val_loss: 1.5481 - val_accuracy: 0.5114\n",
            "Epoch 31/50\n",
            "155/155 [==============================] - 2s 14ms/step - loss: 1.3448 - accuracy: 0.6153 - val_loss: 1.8277 - val_accuracy: 0.4032\n",
            "Epoch 32/50\n",
            "155/155 [==============================] - 3s 20ms/step - loss: 1.3189 - accuracy: 0.6321 - val_loss: 1.8497 - val_accuracy: 0.4523\n",
            "Epoch 33/50\n",
            "155/155 [==============================] - 3s 16ms/step - loss: 1.2946 - accuracy: 0.6383 - val_loss: 1.4578 - val_accuracy: 0.5740\n",
            "Epoch 34/50\n",
            "155/155 [==============================] - 2s 15ms/step - loss: 1.2725 - accuracy: 0.6567 - val_loss: 1.5832 - val_accuracy: 0.5023\n",
            "Epoch 35/50\n",
            "155/155 [==============================] - 2s 14ms/step - loss: 1.2336 - accuracy: 0.6672 - val_loss: 2.0551 - val_accuracy: 0.4172\n",
            "Epoch 36/50\n",
            "155/155 [==============================] - 2s 15ms/step - loss: 1.1854 - accuracy: 0.6827 - val_loss: 1.3090 - val_accuracy: 0.6496\n",
            "Epoch 37/50\n",
            "155/155 [==============================] - 2s 15ms/step - loss: 1.1528 - accuracy: 0.7043 - val_loss: 1.7075 - val_accuracy: 0.4815\n",
            "Epoch 38/50\n",
            "155/155 [==============================] - 3s 22ms/step - loss: 1.1343 - accuracy: 0.7104 - val_loss: 1.4254 - val_accuracy: 0.5887\n",
            "Epoch 39/50\n",
            "155/155 [==============================] - 2s 15ms/step - loss: 1.0972 - accuracy: 0.7312 - val_loss: 1.4202 - val_accuracy: 0.6234\n",
            "Epoch 40/50\n",
            "155/155 [==============================] - 2s 15ms/step - loss: 1.0690 - accuracy: 0.7449 - val_loss: 1.3906 - val_accuracy: 0.6297\n",
            "Epoch 41/50\n",
            "155/155 [==============================] - 2s 14ms/step - loss: 1.0352 - accuracy: 0.7643 - val_loss: 1.6443 - val_accuracy: 0.5290\n",
            "Epoch 42/50\n",
            "155/155 [==============================] - 2s 14ms/step - loss: 0.9951 - accuracy: 0.7721 - val_loss: 1.7489 - val_accuracy: 0.4888\n",
            "Epoch 43/50\n",
            "155/155 [==============================] - 3s 17ms/step - loss: 0.9474 - accuracy: 0.7956 - val_loss: 1.7084 - val_accuracy: 0.4880\n",
            "Epoch 44/50\n",
            "155/155 [==============================] - 3s 18ms/step - loss: 0.9526 - accuracy: 0.7960 - val_loss: 2.4770 - val_accuracy: 0.3239\n",
            "Epoch 45/50\n",
            "155/155 [==============================] - 2s 14ms/step - loss: 0.9389 - accuracy: 0.7996 - val_loss: 3.2745 - val_accuracy: 0.3756\n",
            "Epoch 46/50\n",
            "155/155 [==============================] - 2s 14ms/step - loss: 0.9050 - accuracy: 0.8155 - val_loss: 1.6287 - val_accuracy: 0.5984\n"
          ]
        }
      ]
    },
    {
      "cell_type": "markdown",
      "source": [
        "**Without Augmentation**"
      ],
      "metadata": {
        "id": "td_eFRqo9Rzx"
      }
    },
    {
      "cell_type": "code",
      "execution_count": 126,
      "metadata": {
        "id": "KZf_P4CF6IoY"
      },
      "outputs": [],
      "source": [
        "def getMaxLen(audio_files):\n",
        "  max_length = 0\n",
        "  for audio_file in audio_files:\n",
        "    audio, _ = librosa.load(audio_file)\n",
        "    length = len(audio)\n",
        "    max_length = max(max_length, length)\n",
        "  return max_length"
      ]
    },
    {
      "cell_type": "code",
      "source": [
        "def loadAudioTime(audio_files):\n",
        "  classes = [\"SAD\", \"ANG\", \"DIS\", \"FEA\", \"HAP\", \"NEU\"]\n",
        "  #1D WITHOUT MEL\n",
        "  # max_length = getMaxLen(audio_files)\n",
        "  max_length = 200\n",
        "  D, Y = [], []\n",
        "  for audio_file in audio_files: \n",
        "    # load the audio file\n",
        "    audio, sr = lib.load(audio_file, sr=4444)\n",
        "    # extract zero crossing rate\n",
        "    zcr = zeroCrossingRate(audio)\n",
        "    # extract energy\n",
        "    rms = energy(audio)\n",
        "    # chroma stft\n",
        "    cs = chromaStft(audio, sr)\n",
        "    # mfcc\n",
        "    mfc = mfcc(audio, sr)\n",
        "    # extract mel spectrogram\n",
        "    #mel_spec = melSpectrogram(audio, sr).mean()\n",
        "    combined_features = np.concatenate(([rms, cs, mfc], (np.pad(zcr[0], (0, 300 - len(zcr[0]))))))\n",
        "    D.append(combined_features)\n",
        "    for cls in classes:\n",
        "      if re.search(cls, audio_file): Y.append(cls)\n",
        "  return D,Y\n",
        "  "
      ],
      "metadata": {
        "id": "1zNbQDDB6Ion"
      },
      "execution_count": 127,
      "outputs": []
    },
    {
      "cell_type": "code",
      "execution_count": 128,
      "metadata": {
        "id": "YET6vVv16Ion"
      },
      "outputs": [],
      "source": [
        "def loadAudioFreq(audio_files):\n",
        "  classes = [\"SAD\", \"ANG\", \"DIS\", \"FEA\", \"HAP\", \"NEU\"]\n",
        "  \n",
        "  # max_length = getMaxLen(audio_files)\n",
        "  max_length = 200\n",
        "  D, Y = [], []\n",
        "  for audio_file in audio_files: \n",
        "    # load the audio file\n",
        "    audio, sr = lib.load(audio_file, sr=4444)\n",
        "    # extract mel spectrogram\n",
        "    mel_spec = melSpectrogram(audio, sr)\n",
        "    D.append(mel_spec)\n",
        "    for cls in classes:\n",
        "      if re.search(cls, audio_file): Y.append(cls)\n",
        "    \n",
        "  return D, Y"
      ]
    },
    {
      "cell_type": "code",
      "source": [
        "D_time, Y_time = loadAudioTime(D_train)"
      ],
      "metadata": {
        "colab": {
          "base_uri": "https://localhost:8080/"
        },
        "outputId": "70846ba2-7be7-44fa-8ece-e71dbacc5079",
        "id": "8s3l7aas6Ioo"
      },
      "execution_count": 129,
      "outputs": [
        {
          "output_type": "stream",
          "name": "stderr",
          "text": [
            "/usr/local/lib/python3.10/dist-packages/librosa/util/decorators.py:88: UserWarning: Trying to estimate tuning from empty frequency set.\n",
            "  return f(*args, **kwargs)\n"
          ]
        }
      ]
    },
    {
      "cell_type": "code",
      "source": [
        "D_time = np.array(D_time)\n",
        "D_time.shape"
      ],
      "metadata": {
        "colab": {
          "base_uri": "https://localhost:8080/"
        },
        "outputId": "98f13e8b-ac63-4bb2-84d4-6af9cdd69099",
        "id": "DztAzXHb6Ioo"
      },
      "execution_count": 130,
      "outputs": [
        {
          "output_type": "execute_result",
          "data": {
            "text/plain": [
              "(5216, 303)"
            ]
          },
          "metadata": {},
          "execution_count": 130
        }
      ]
    },
    {
      "cell_type": "code",
      "source": [
        "unicheck = np.unique(Y_time, axis=0)\n",
        "print(f\"Check on time domain:\\n{unicheck}\")"
      ],
      "metadata": {
        "colab": {
          "base_uri": "https://localhost:8080/"
        },
        "outputId": "f92b296b-2cc0-485f-fe1b-4a5257115c77",
        "id": "3Y110ce56Ioo"
      },
      "execution_count": 131,
      "outputs": [
        {
          "output_type": "stream",
          "name": "stdout",
          "text": [
            "Check on time domain:\n",
            "['ANG' 'DIS' 'FEA' 'HAP' 'NEU' 'SAD']\n"
          ]
        }
      ]
    },
    {
      "cell_type": "code",
      "source": [
        "df_time = pd.DataFrame(Y_time)\n",
        "df_time.head()"
      ],
      "metadata": {
        "colab": {
          "base_uri": "https://localhost:8080/",
          "height": 206
        },
        "outputId": "4a12a8a1-f177-448d-d116-450608994cf8",
        "id": "HCxTTbIk6Iop"
      },
      "execution_count": 132,
      "outputs": [
        {
          "output_type": "execute_result",
          "data": {
            "text/plain": [
              "     0\n",
              "0  SAD\n",
              "1  FEA\n",
              "2  SAD\n",
              "3  ANG\n",
              "4  SAD"
            ],
            "text/html": [
              "\n",
              "  <div id=\"df-c9946948-f3c4-4d6e-a76a-82e8e2091781\">\n",
              "    <div class=\"colab-df-container\">\n",
              "      <div>\n",
              "<style scoped>\n",
              "    .dataframe tbody tr th:only-of-type {\n",
              "        vertical-align: middle;\n",
              "    }\n",
              "\n",
              "    .dataframe tbody tr th {\n",
              "        vertical-align: top;\n",
              "    }\n",
              "\n",
              "    .dataframe thead th {\n",
              "        text-align: right;\n",
              "    }\n",
              "</style>\n",
              "<table border=\"1\" class=\"dataframe\">\n",
              "  <thead>\n",
              "    <tr style=\"text-align: right;\">\n",
              "      <th></th>\n",
              "      <th>0</th>\n",
              "    </tr>\n",
              "  </thead>\n",
              "  <tbody>\n",
              "    <tr>\n",
              "      <th>0</th>\n",
              "      <td>SAD</td>\n",
              "    </tr>\n",
              "    <tr>\n",
              "      <th>1</th>\n",
              "      <td>FEA</td>\n",
              "    </tr>\n",
              "    <tr>\n",
              "      <th>2</th>\n",
              "      <td>SAD</td>\n",
              "    </tr>\n",
              "    <tr>\n",
              "      <th>3</th>\n",
              "      <td>ANG</td>\n",
              "    </tr>\n",
              "    <tr>\n",
              "      <th>4</th>\n",
              "      <td>SAD</td>\n",
              "    </tr>\n",
              "  </tbody>\n",
              "</table>\n",
              "</div>\n",
              "      <button class=\"colab-df-convert\" onclick=\"convertToInteractive('df-c9946948-f3c4-4d6e-a76a-82e8e2091781')\"\n",
              "              title=\"Convert this dataframe to an interactive table.\"\n",
              "              style=\"display:none;\">\n",
              "        \n",
              "  <svg xmlns=\"http://www.w3.org/2000/svg\" height=\"24px\"viewBox=\"0 0 24 24\"\n",
              "       width=\"24px\">\n",
              "    <path d=\"M0 0h24v24H0V0z\" fill=\"none\"/>\n",
              "    <path d=\"M18.56 5.44l.94 2.06.94-2.06 2.06-.94-2.06-.94-.94-2.06-.94 2.06-2.06.94zm-11 1L8.5 8.5l.94-2.06 2.06-.94-2.06-.94L8.5 2.5l-.94 2.06-2.06.94zm10 10l.94 2.06.94-2.06 2.06-.94-2.06-.94-.94-2.06-.94 2.06-2.06.94z\"/><path d=\"M17.41 7.96l-1.37-1.37c-.4-.4-.92-.59-1.43-.59-.52 0-1.04.2-1.43.59L10.3 9.45l-7.72 7.72c-.78.78-.78 2.05 0 2.83L4 21.41c.39.39.9.59 1.41.59.51 0 1.02-.2 1.41-.59l7.78-7.78 2.81-2.81c.8-.78.8-2.07 0-2.86zM5.41 20L4 18.59l7.72-7.72 1.47 1.35L5.41 20z\"/>\n",
              "  </svg>\n",
              "      </button>\n",
              "      \n",
              "  <style>\n",
              "    .colab-df-container {\n",
              "      display:flex;\n",
              "      flex-wrap:wrap;\n",
              "      gap: 12px;\n",
              "    }\n",
              "\n",
              "    .colab-df-convert {\n",
              "      background-color: #E8F0FE;\n",
              "      border: none;\n",
              "      border-radius: 50%;\n",
              "      cursor: pointer;\n",
              "      display: none;\n",
              "      fill: #1967D2;\n",
              "      height: 32px;\n",
              "      padding: 0 0 0 0;\n",
              "      width: 32px;\n",
              "    }\n",
              "\n",
              "    .colab-df-convert:hover {\n",
              "      background-color: #E2EBFA;\n",
              "      box-shadow: 0px 1px 2px rgba(60, 64, 67, 0.3), 0px 1px 3px 1px rgba(60, 64, 67, 0.15);\n",
              "      fill: #174EA6;\n",
              "    }\n",
              "\n",
              "    [theme=dark] .colab-df-convert {\n",
              "      background-color: #3B4455;\n",
              "      fill: #D2E3FC;\n",
              "    }\n",
              "\n",
              "    [theme=dark] .colab-df-convert:hover {\n",
              "      background-color: #434B5C;\n",
              "      box-shadow: 0px 1px 3px 1px rgba(0, 0, 0, 0.15);\n",
              "      filter: drop-shadow(0px 1px 2px rgba(0, 0, 0, 0.3));\n",
              "      fill: #FFFFFF;\n",
              "    }\n",
              "  </style>\n",
              "\n",
              "      <script>\n",
              "        const buttonEl =\n",
              "          document.querySelector('#df-c9946948-f3c4-4d6e-a76a-82e8e2091781 button.colab-df-convert');\n",
              "        buttonEl.style.display =\n",
              "          google.colab.kernel.accessAllowed ? 'block' : 'none';\n",
              "\n",
              "        async function convertToInteractive(key) {\n",
              "          const element = document.querySelector('#df-c9946948-f3c4-4d6e-a76a-82e8e2091781');\n",
              "          const dataTable =\n",
              "            await google.colab.kernel.invokeFunction('convertToInteractive',\n",
              "                                                     [key], {});\n",
              "          if (!dataTable) return;\n",
              "\n",
              "          const docLinkHtml = 'Like what you see? Visit the ' +\n",
              "            '<a target=\"_blank\" href=https://colab.research.google.com/notebooks/data_table.ipynb>data table notebook</a>'\n",
              "            + ' to learn more about interactive tables.';\n",
              "          element.innerHTML = '';\n",
              "          dataTable['output_type'] = 'display_data';\n",
              "          await google.colab.output.renderOutput(dataTable, element);\n",
              "          const docLink = document.createElement('div');\n",
              "          docLink.innerHTML = docLinkHtml;\n",
              "          element.appendChild(docLink);\n",
              "        }\n",
              "      </script>\n",
              "    </div>\n",
              "  </div>\n",
              "  "
            ]
          },
          "metadata": {},
          "execution_count": 132
        }
      ]
    },
    {
      "cell_type": "code",
      "source": [
        "# Use the get_dummies() method to one-hot encode the labels\n",
        "one_hot_labels = pd.get_dummies(df_time)\n",
        "\n",
        "# Convert the DataFrame to a NumPy array\n",
        "one_hot_labels = one_hot_labels.to_numpy()\n",
        "\n",
        "print(one_hot_labels.shape)"
      ],
      "metadata": {
        "colab": {
          "base_uri": "https://localhost:8080/"
        },
        "outputId": "9fe787ca-7365-4cbb-e5c7-3c9f6c0ce956",
        "id": "BdLj2OyB6Iop"
      },
      "execution_count": 133,
      "outputs": [
        {
          "output_type": "stream",
          "name": "stdout",
          "text": [
            "(5216, 6)\n"
          ]
        }
      ]
    },
    {
      "cell_type": "code",
      "source": [
        "Y_time = one_hot_labels\n",
        "Y_time.shape"
      ],
      "metadata": {
        "colab": {
          "base_uri": "https://localhost:8080/"
        },
        "outputId": "172decdd-9fad-4235-89a8-6a276a0f9283",
        "id": "hf20_Bqn6Iop"
      },
      "execution_count": 134,
      "outputs": [
        {
          "output_type": "execute_result",
          "data": {
            "text/plain": [
              "(5216, 6)"
            ]
          },
          "metadata": {},
          "execution_count": 134
        }
      ]
    },
    {
      "cell_type": "code",
      "source": [
        "# Apply PCA to the data\n",
        "pca = PCA(n_components=150)\n",
        "D_pca = pca.fit_transform(D_time)"
      ],
      "metadata": {
        "id": "CHNqhN5M6Iop"
      },
      "execution_count": 135,
      "outputs": []
    },
    {
      "cell_type": "code",
      "source": [
        "# Split the data into train and test sets\n",
        "x_train, x_test, y_train, y_test = train_test_split(np.array(D_pca), np.array(Y_time), test_size=0.05, random_state=69, shuffle=True, stratify=Y_time)\n",
        "print((x_train.shape, y_train.shape, x_test.shape, y_test.shape))\n",
        "\n",
        "x_train = x_train.reshape((x_train.shape[0], x_train.shape[1], 1))\n",
        "x_test = x_test.reshape((x_test.shape[0], x_test.shape[1], 1))\n",
        "\n",
        "model = Sequential()\n",
        "model.add(Conv1D(128, 3, input_shape=(x_train.shape[1], 1), kernel_regularizer=regularizers.l2(0.001)))\n",
        "model.add(BatchNormalization())\n",
        "model.add(Activation('relu'))\n",
        "model.add(MaxPooling1D(pool_size=2))\n",
        "\n",
        "model.add(Conv1D(256, 3, kernel_regularizer=regularizers.l2(0.001)))\n",
        "model.add(BatchNormalization())\n",
        "model.add(Activation('relu'))\n",
        "model.add(MaxPooling1D(pool_size=2))\n",
        "\n",
        "model.add(Conv1D(512, 3, kernel_regularizer=regularizers.l2(0.001)))\n",
        "model.add(BatchNormalization())\n",
        "model.add(Activation('relu'))\n",
        "model.add(MaxPooling1D(pool_size=2))\n",
        "\n",
        "model.add(Conv1D(1024, 3,  kernel_regularizer=regularizers.l2(0.001)))\n",
        "model.add(BatchNormalization())\n",
        "model.add(Activation('relu'))\n",
        "model.add(MaxPooling1D(pool_size=2))\n",
        "\n",
        "model.add(Flatten())\n",
        "model.add(Dense(512, kernel_regularizer=regularizers.l2(0.001)))\n",
        "model.add(BatchNormalization())\n",
        "model.add(Activation('relu'))\n",
        "model.add(Dropout(0.3))\n",
        "\n",
        "model.add(Dense(256, kernel_regularizer=regularizers.l2(0.001)))\n",
        "model.add(BatchNormalization())\n",
        "model.add(Activation('relu'))\n",
        "model.add(Dropout(0.2))\n",
        "\n",
        "model.add(Dense(128, kernel_regularizer=regularizers.l2(0.001)))\n",
        "model.add(BatchNormalization())\n",
        "model.add(Activation('relu'))\n",
        "model.add(Dropout(0.2))\n",
        "\n",
        "model.add(Dense(6, activation='softmax'))\n",
        "\n",
        "model.compile(loss='categorical_crossentropy',\n",
        "             optimizer=optimizers.Adam(lr=0.0005),\n",
        "             metrics=['accuracy'])\n",
        "\n",
        "# Specify thecallbacks for the model\n",
        "callbacks = [EarlyStopping(monitor='val_loss', patience=10)]\n",
        "\n",
        "model.summary()\n",
        "\n",
        "# Train the model with early stopping\n",
        "history = model.fit(x_train, y_train,\n",
        "                    validation_data=(x_train, y_train),\n",
        "                    epochs=50,\n",
        "                    batch_size=32,\n",
        "                    callbacks=callbacks)"
      ],
      "metadata": {
        "colab": {
          "base_uri": "https://localhost:8080/"
        },
        "outputId": "e0b65572-7bbf-4f1f-d3a8-8d2f26920f48",
        "id": "O4bJ2wOo6Ioq"
      },
      "execution_count": 136,
      "outputs": [
        {
          "output_type": "stream",
          "name": "stdout",
          "text": [
            "((4955, 150), (4955, 6), (261, 150), (261, 6))\n",
            "Model: \"sequential_8\"\n",
            "_________________________________________________________________\n",
            " Layer (type)                Output Shape              Param #   \n",
            "=================================================================\n",
            " conv1d_20 (Conv1D)          (None, 148, 128)          512       \n",
            "                                                                 \n",
            " batch_normalization_35 (Bat  (None, 148, 128)         512       \n",
            " chNormalization)                                                \n",
            "                                                                 \n",
            " activation_35 (Activation)  (None, 148, 128)          0         \n",
            "                                                                 \n",
            " max_pooling1d_20 (MaxPoolin  (None, 74, 128)          0         \n",
            " g1D)                                                            \n",
            "                                                                 \n",
            " conv1d_21 (Conv1D)          (None, 72, 256)           98560     \n",
            "                                                                 \n",
            " batch_normalization_36 (Bat  (None, 72, 256)          1024      \n",
            " chNormalization)                                                \n",
            "                                                                 \n",
            " activation_36 (Activation)  (None, 72, 256)           0         \n",
            "                                                                 \n",
            " max_pooling1d_21 (MaxPoolin  (None, 36, 256)          0         \n",
            " g1D)                                                            \n",
            "                                                                 \n",
            " conv1d_22 (Conv1D)          (None, 34, 512)           393728    \n",
            "                                                                 \n",
            " batch_normalization_37 (Bat  (None, 34, 512)          2048      \n",
            " chNormalization)                                                \n",
            "                                                                 \n",
            " activation_37 (Activation)  (None, 34, 512)           0         \n",
            "                                                                 \n",
            " max_pooling1d_22 (MaxPoolin  (None, 17, 512)          0         \n",
            " g1D)                                                            \n",
            "                                                                 \n",
            " conv1d_23 (Conv1D)          (None, 15, 1024)          1573888   \n",
            "                                                                 \n",
            " batch_normalization_38 (Bat  (None, 15, 1024)         4096      \n",
            " chNormalization)                                                \n",
            "                                                                 \n",
            " activation_38 (Activation)  (None, 15, 1024)          0         \n",
            "                                                                 \n",
            " max_pooling1d_23 (MaxPoolin  (None, 7, 1024)          0         \n",
            " g1D)                                                            \n",
            "                                                                 \n",
            " flatten_8 (Flatten)         (None, 7168)              0         \n",
            "                                                                 \n",
            " dense_29 (Dense)            (None, 512)               3670528   \n",
            "                                                                 \n",
            " batch_normalization_39 (Bat  (None, 512)              2048      \n",
            " chNormalization)                                                \n",
            "                                                                 \n",
            " activation_39 (Activation)  (None, 512)               0         \n",
            "                                                                 \n",
            " dropout_21 (Dropout)        (None, 512)               0         \n",
            "                                                                 \n",
            " dense_30 (Dense)            (None, 256)               131328    \n",
            "                                                                 \n",
            " batch_normalization_40 (Bat  (None, 256)              1024      \n",
            " chNormalization)                                                \n",
            "                                                                 \n",
            " activation_40 (Activation)  (None, 256)               0         \n",
            "                                                                 \n",
            " dropout_22 (Dropout)        (None, 256)               0         \n",
            "                                                                 \n",
            " dense_31 (Dense)            (None, 128)               32896     \n",
            "                                                                 \n",
            " batch_normalization_41 (Bat  (None, 128)              512       \n",
            " chNormalization)                                                \n",
            "                                                                 \n",
            " activation_41 (Activation)  (None, 128)               0         \n",
            "                                                                 \n",
            " dropout_23 (Dropout)        (None, 128)               0         \n",
            "                                                                 \n",
            " dense_32 (Dense)            (None, 6)                 774       \n",
            "                                                                 \n",
            "=================================================================\n",
            "Total params: 5,913,478\n",
            "Trainable params: 5,907,846\n",
            "Non-trainable params: 5,632\n",
            "_________________________________________________________________\n"
          ]
        },
        {
          "output_type": "stream",
          "name": "stderr",
          "text": [
            "/usr/local/lib/python3.10/dist-packages/keras/optimizers/legacy/adam.py:117: UserWarning: The `lr` argument is deprecated, use `learning_rate` instead.\n",
            "  super().__init__(name, **kwargs)\n"
          ]
        },
        {
          "output_type": "stream",
          "name": "stdout",
          "text": [
            "Epoch 1/50\n",
            "155/155 [==============================] - 7s 24ms/step - loss: 3.5932 - accuracy: 0.2971 - val_loss: 3.7270 - val_accuracy: 0.1647\n",
            "Epoch 2/50\n",
            "155/155 [==============================] - 2s 15ms/step - loss: 2.9795 - accuracy: 0.3439 - val_loss: 3.5653 - val_accuracy: 0.1485\n",
            "Epoch 3/50\n",
            "155/155 [==============================] - 2s 16ms/step - loss: 2.6992 - accuracy: 0.3572 - val_loss: 2.9821 - val_accuracy: 0.1639\n",
            "Epoch 4/50\n",
            "155/155 [==============================] - 3s 19ms/step - loss: 2.5389 - accuracy: 0.3631 - val_loss: 2.5671 - val_accuracy: 0.3082\n",
            "Epoch 5/50\n",
            "155/155 [==============================] - 3s 18ms/step - loss: 2.4151 - accuracy: 0.3707 - val_loss: 2.3263 - val_accuracy: 0.3933\n",
            "Epoch 6/50\n",
            "155/155 [==============================] - 2s 16ms/step - loss: 2.3115 - accuracy: 0.3901 - val_loss: 2.2436 - val_accuracy: 0.3974\n",
            "Epoch 7/50\n",
            "155/155 [==============================] - 2s 16ms/step - loss: 2.2428 - accuracy: 0.3937 - val_loss: 2.3812 - val_accuracy: 0.3384\n",
            "Epoch 8/50\n",
            "155/155 [==============================] - 2s 16ms/step - loss: 2.1657 - accuracy: 0.3925 - val_loss: 2.1160 - val_accuracy: 0.4075\n",
            "Epoch 9/50\n",
            "155/155 [==============================] - 3s 21ms/step - loss: 2.0865 - accuracy: 0.4147 - val_loss: 2.0742 - val_accuracy: 0.4040\n",
            "Epoch 10/50\n",
            "155/155 [==============================] - 3s 17ms/step - loss: 2.0292 - accuracy: 0.4153 - val_loss: 2.0732 - val_accuracy: 0.3719\n",
            "Epoch 11/50\n",
            "155/155 [==============================] - 2s 16ms/step - loss: 1.9917 - accuracy: 0.4206 - val_loss: 2.0557 - val_accuracy: 0.3931\n",
            "Epoch 12/50\n",
            "155/155 [==============================] - 2s 16ms/step - loss: 1.9277 - accuracy: 0.4313 - val_loss: 1.8643 - val_accuracy: 0.4523\n",
            "Epoch 13/50\n",
            "155/155 [==============================] - 2s 16ms/step - loss: 1.8830 - accuracy: 0.4317 - val_loss: 1.9087 - val_accuracy: 0.4071\n",
            "Epoch 14/50\n",
            "155/155 [==============================] - 3s 17ms/step - loss: 1.8357 - accuracy: 0.4478 - val_loss: 1.8113 - val_accuracy: 0.4341\n",
            "Epoch 15/50\n",
            "155/155 [==============================] - 3s 19ms/step - loss: 1.8111 - accuracy: 0.4379 - val_loss: 1.9021 - val_accuracy: 0.3889\n",
            "Epoch 16/50\n",
            "155/155 [==============================] - 2s 16ms/step - loss: 1.7736 - accuracy: 0.4527 - val_loss: 1.8661 - val_accuracy: 0.3982\n",
            "Epoch 17/50\n",
            "155/155 [==============================] - 2s 16ms/step - loss: 1.7318 - accuracy: 0.4557 - val_loss: 1.8045 - val_accuracy: 0.4262\n",
            "Epoch 18/50\n",
            "155/155 [==============================] - 2s 15ms/step - loss: 1.7106 - accuracy: 0.4597 - val_loss: 1.7716 - val_accuracy: 0.4186\n",
            "Epoch 19/50\n",
            "155/155 [==============================] - 2s 16ms/step - loss: 1.6934 - accuracy: 0.4551 - val_loss: 1.8351 - val_accuracy: 0.4061\n",
            "Epoch 20/50\n",
            "155/155 [==============================] - 4s 24ms/step - loss: 1.6459 - accuracy: 0.4807 - val_loss: 1.6784 - val_accuracy: 0.4664\n",
            "Epoch 21/50\n",
            "155/155 [==============================] - 2s 15ms/step - loss: 1.6370 - accuracy: 0.4676 - val_loss: 1.8878 - val_accuracy: 0.3871\n",
            "Epoch 22/50\n",
            "155/155 [==============================] - 2s 15ms/step - loss: 1.6165 - accuracy: 0.4827 - val_loss: 1.6871 - val_accuracy: 0.4553\n",
            "Epoch 23/50\n",
            "155/155 [==============================] - 2s 15ms/step - loss: 1.5788 - accuracy: 0.4951 - val_loss: 2.0742 - val_accuracy: 0.3391\n",
            "Epoch 24/50\n",
            "155/155 [==============================] - 2s 16ms/step - loss: 1.5562 - accuracy: 0.4985 - val_loss: 1.6466 - val_accuracy: 0.4579\n",
            "Epoch 25/50\n",
            "155/155 [==============================] - 3s 20ms/step - loss: 1.5464 - accuracy: 0.5138 - val_loss: 1.5412 - val_accuracy: 0.5098\n",
            "Epoch 26/50\n",
            "155/155 [==============================] - 3s 16ms/step - loss: 1.5238 - accuracy: 0.5160 - val_loss: 1.7294 - val_accuracy: 0.4365\n",
            "Epoch 27/50\n",
            "155/155 [==============================] - 2s 16ms/step - loss: 1.4895 - accuracy: 0.5253 - val_loss: 2.2069 - val_accuracy: 0.3239\n",
            "Epoch 28/50\n",
            "155/155 [==============================] - 2s 16ms/step - loss: 1.4596 - accuracy: 0.5372 - val_loss: 1.8423 - val_accuracy: 0.3792\n",
            "Epoch 29/50\n",
            "155/155 [==============================] - 2s 15ms/step - loss: 1.4444 - accuracy: 0.5524 - val_loss: 1.4767 - val_accuracy: 0.5316\n",
            "Epoch 30/50\n",
            "155/155 [==============================] - 3s 22ms/step - loss: 1.4210 - accuracy: 0.5568 - val_loss: 2.1344 - val_accuracy: 0.3665\n",
            "Epoch 31/50\n",
            "155/155 [==============================] - 3s 17ms/step - loss: 1.4004 - accuracy: 0.5711 - val_loss: 1.4770 - val_accuracy: 0.5251\n",
            "Epoch 32/50\n",
            "155/155 [==============================] - 2s 16ms/step - loss: 1.3632 - accuracy: 0.5901 - val_loss: 1.4617 - val_accuracy: 0.5160\n",
            "Epoch 33/50\n",
            "155/155 [==============================] - 2s 16ms/step - loss: 1.3434 - accuracy: 0.5960 - val_loss: 1.4765 - val_accuracy: 0.5491\n",
            "Epoch 34/50\n",
            "155/155 [==============================] - 2s 15ms/step - loss: 1.3199 - accuracy: 0.6067 - val_loss: 1.3491 - val_accuracy: 0.5812\n",
            "Epoch 35/50\n",
            "155/155 [==============================] - 3s 22ms/step - loss: 1.2858 - accuracy: 0.6236 - val_loss: 1.4019 - val_accuracy: 0.5812\n",
            "Epoch 36/50\n",
            "155/155 [==============================] - 3s 17ms/step - loss: 1.2544 - accuracy: 0.6339 - val_loss: 1.6952 - val_accuracy: 0.3788\n",
            "Epoch 37/50\n",
            "155/155 [==============================] - 2s 16ms/step - loss: 1.2273 - accuracy: 0.6521 - val_loss: 1.6208 - val_accuracy: 0.4991\n",
            "Epoch 38/50\n",
            "155/155 [==============================] - 2s 16ms/step - loss: 1.2104 - accuracy: 0.6650 - val_loss: 1.9149 - val_accuracy: 0.4444\n",
            "Epoch 39/50\n",
            "155/155 [==============================] - 2s 16ms/step - loss: 1.1791 - accuracy: 0.6793 - val_loss: 1.6351 - val_accuracy: 0.5346\n",
            "Epoch 40/50\n",
            "155/155 [==============================] - 3s 22ms/step - loss: 1.1572 - accuracy: 0.6959 - val_loss: 1.5088 - val_accuracy: 0.5372\n",
            "Epoch 41/50\n",
            "155/155 [==============================] - 3s 17ms/step - loss: 1.1090 - accuracy: 0.7066 - val_loss: 1.8371 - val_accuracy: 0.4684\n",
            "Epoch 42/50\n",
            "155/155 [==============================] - 2s 16ms/step - loss: 1.0598 - accuracy: 0.7310 - val_loss: 1.2190 - val_accuracy: 0.6547\n",
            "Epoch 43/50\n",
            "155/155 [==============================] - 2s 16ms/step - loss: 1.0350 - accuracy: 0.7318 - val_loss: 2.6217 - val_accuracy: 0.3502\n",
            "Epoch 44/50\n",
            "155/155 [==============================] - 2s 15ms/step - loss: 1.0189 - accuracy: 0.7407 - val_loss: 1.4475 - val_accuracy: 0.6048\n",
            "Epoch 45/50\n",
            "155/155 [==============================] - 3s 21ms/step - loss: 0.9821 - accuracy: 0.7538 - val_loss: 2.4241 - val_accuracy: 0.3933\n",
            "Epoch 46/50\n",
            "155/155 [==============================] - 3s 18ms/step - loss: 0.9729 - accuracy: 0.7643 - val_loss: 1.6199 - val_accuracy: 0.5076\n",
            "Epoch 47/50\n",
            "155/155 [==============================] - 3s 16ms/step - loss: 0.9193 - accuracy: 0.7903 - val_loss: 2.7027 - val_accuracy: 0.3790\n",
            "Epoch 48/50\n",
            "155/155 [==============================] - 2s 15ms/step - loss: 0.8906 - accuracy: 0.8016 - val_loss: 1.7178 - val_accuracy: 0.5282\n",
            "Epoch 49/50\n",
            "155/155 [==============================] - 2s 15ms/step - loss: 0.8815 - accuracy: 0.8008 - val_loss: 2.8120 - val_accuracy: 0.4137\n",
            "Epoch 50/50\n",
            "155/155 [==============================] - 3s 17ms/step - loss: 0.8521 - accuracy: 0.8093 - val_loss: 1.7116 - val_accuracy: 0.5324\n"
          ]
        }
      ]
    },
    {
      "cell_type": "code",
      "execution_count": 137,
      "metadata": {
        "id": "CIu3nLHO8p4K"
      },
      "outputs": [],
      "source": [
        "D_freq, Y_freq = loadAudioFreq(D_train)"
      ]
    },
    {
      "cell_type": "code",
      "source": [
        "unicheck = np.unique(Y_freq, axis=0)\n",
        "print(f\"Check on freq domain:\\n{unicheck}\")"
      ],
      "metadata": {
        "colab": {
          "base_uri": "https://localhost:8080/"
        },
        "outputId": "bbfe835d-4bfe-4746-bf5a-80b43310d8f2",
        "id": "Ypr0iN938p4U"
      },
      "execution_count": 138,
      "outputs": [
        {
          "output_type": "stream",
          "name": "stdout",
          "text": [
            "Check on freq domain:\n",
            "['ANG' 'DIS' 'FEA' 'HAP' 'NEU' 'SAD']\n"
          ]
        }
      ]
    },
    {
      "cell_type": "code",
      "execution_count": 139,
      "metadata": {
        "colab": {
          "base_uri": "https://localhost:8080/",
          "height": 206
        },
        "outputId": "fb09a91a-b77d-410f-d8a6-a76c4eea769d",
        "id": "jmGiBzMH8p4U"
      },
      "outputs": [
        {
          "output_type": "execute_result",
          "data": {
            "text/plain": [
              "     0\n",
              "0  SAD\n",
              "1  FEA\n",
              "2  SAD\n",
              "3  ANG\n",
              "4  SAD"
            ],
            "text/html": [
              "\n",
              "  <div id=\"df-02de61fa-b708-4b77-997f-39f6af9e03d2\">\n",
              "    <div class=\"colab-df-container\">\n",
              "      <div>\n",
              "<style scoped>\n",
              "    .dataframe tbody tr th:only-of-type {\n",
              "        vertical-align: middle;\n",
              "    }\n",
              "\n",
              "    .dataframe tbody tr th {\n",
              "        vertical-align: top;\n",
              "    }\n",
              "\n",
              "    .dataframe thead th {\n",
              "        text-align: right;\n",
              "    }\n",
              "</style>\n",
              "<table border=\"1\" class=\"dataframe\">\n",
              "  <thead>\n",
              "    <tr style=\"text-align: right;\">\n",
              "      <th></th>\n",
              "      <th>0</th>\n",
              "    </tr>\n",
              "  </thead>\n",
              "  <tbody>\n",
              "    <tr>\n",
              "      <th>0</th>\n",
              "      <td>SAD</td>\n",
              "    </tr>\n",
              "    <tr>\n",
              "      <th>1</th>\n",
              "      <td>FEA</td>\n",
              "    </tr>\n",
              "    <tr>\n",
              "      <th>2</th>\n",
              "      <td>SAD</td>\n",
              "    </tr>\n",
              "    <tr>\n",
              "      <th>3</th>\n",
              "      <td>ANG</td>\n",
              "    </tr>\n",
              "    <tr>\n",
              "      <th>4</th>\n",
              "      <td>SAD</td>\n",
              "    </tr>\n",
              "  </tbody>\n",
              "</table>\n",
              "</div>\n",
              "      <button class=\"colab-df-convert\" onclick=\"convertToInteractive('df-02de61fa-b708-4b77-997f-39f6af9e03d2')\"\n",
              "              title=\"Convert this dataframe to an interactive table.\"\n",
              "              style=\"display:none;\">\n",
              "        \n",
              "  <svg xmlns=\"http://www.w3.org/2000/svg\" height=\"24px\"viewBox=\"0 0 24 24\"\n",
              "       width=\"24px\">\n",
              "    <path d=\"M0 0h24v24H0V0z\" fill=\"none\"/>\n",
              "    <path d=\"M18.56 5.44l.94 2.06.94-2.06 2.06-.94-2.06-.94-.94-2.06-.94 2.06-2.06.94zm-11 1L8.5 8.5l.94-2.06 2.06-.94-2.06-.94L8.5 2.5l-.94 2.06-2.06.94zm10 10l.94 2.06.94-2.06 2.06-.94-2.06-.94-.94-2.06-.94 2.06-2.06.94z\"/><path d=\"M17.41 7.96l-1.37-1.37c-.4-.4-.92-.59-1.43-.59-.52 0-1.04.2-1.43.59L10.3 9.45l-7.72 7.72c-.78.78-.78 2.05 0 2.83L4 21.41c.39.39.9.59 1.41.59.51 0 1.02-.2 1.41-.59l7.78-7.78 2.81-2.81c.8-.78.8-2.07 0-2.86zM5.41 20L4 18.59l7.72-7.72 1.47 1.35L5.41 20z\"/>\n",
              "  </svg>\n",
              "      </button>\n",
              "      \n",
              "  <style>\n",
              "    .colab-df-container {\n",
              "      display:flex;\n",
              "      flex-wrap:wrap;\n",
              "      gap: 12px;\n",
              "    }\n",
              "\n",
              "    .colab-df-convert {\n",
              "      background-color: #E8F0FE;\n",
              "      border: none;\n",
              "      border-radius: 50%;\n",
              "      cursor: pointer;\n",
              "      display: none;\n",
              "      fill: #1967D2;\n",
              "      height: 32px;\n",
              "      padding: 0 0 0 0;\n",
              "      width: 32px;\n",
              "    }\n",
              "\n",
              "    .colab-df-convert:hover {\n",
              "      background-color: #E2EBFA;\n",
              "      box-shadow: 0px 1px 2px rgba(60, 64, 67, 0.3), 0px 1px 3px 1px rgba(60, 64, 67, 0.15);\n",
              "      fill: #174EA6;\n",
              "    }\n",
              "\n",
              "    [theme=dark] .colab-df-convert {\n",
              "      background-color: #3B4455;\n",
              "      fill: #D2E3FC;\n",
              "    }\n",
              "\n",
              "    [theme=dark] .colab-df-convert:hover {\n",
              "      background-color: #434B5C;\n",
              "      box-shadow: 0px 1px 3px 1px rgba(0, 0, 0, 0.15);\n",
              "      filter: drop-shadow(0px 1px 2px rgba(0, 0, 0, 0.3));\n",
              "      fill: #FFFFFF;\n",
              "    }\n",
              "  </style>\n",
              "\n",
              "      <script>\n",
              "        const buttonEl =\n",
              "          document.querySelector('#df-02de61fa-b708-4b77-997f-39f6af9e03d2 button.colab-df-convert');\n",
              "        buttonEl.style.display =\n",
              "          google.colab.kernel.accessAllowed ? 'block' : 'none';\n",
              "\n",
              "        async function convertToInteractive(key) {\n",
              "          const element = document.querySelector('#df-02de61fa-b708-4b77-997f-39f6af9e03d2');\n",
              "          const dataTable =\n",
              "            await google.colab.kernel.invokeFunction('convertToInteractive',\n",
              "                                                     [key], {});\n",
              "          if (!dataTable) return;\n",
              "\n",
              "          const docLinkHtml = 'Like what you see? Visit the ' +\n",
              "            '<a target=\"_blank\" href=https://colab.research.google.com/notebooks/data_table.ipynb>data table notebook</a>'\n",
              "            + ' to learn more about interactive tables.';\n",
              "          element.innerHTML = '';\n",
              "          dataTable['output_type'] = 'display_data';\n",
              "          await google.colab.output.renderOutput(dataTable, element);\n",
              "          const docLink = document.createElement('div');\n",
              "          docLink.innerHTML = docLinkHtml;\n",
              "          element.appendChild(docLink);\n",
              "        }\n",
              "      </script>\n",
              "    </div>\n",
              "  </div>\n",
              "  "
            ]
          },
          "metadata": {},
          "execution_count": 139
        }
      ],
      "source": [
        "df_freq = pd.DataFrame(Y_freq)\n",
        "df_freq.head()"
      ]
    },
    {
      "cell_type": "code",
      "execution_count": 140,
      "metadata": {
        "colab": {
          "base_uri": "https://localhost:8080/"
        },
        "outputId": "a4dd01bb-a121-403c-8987-6ee715e262a1",
        "id": "T1KWaTGn8p4V"
      },
      "outputs": [
        {
          "output_type": "stream",
          "name": "stdout",
          "text": [
            "(5216, 6)\n"
          ]
        }
      ],
      "source": [
        "# Use the get_dummies() method to one-hot encode the labels\n",
        "one_hot_labels = pd.get_dummies(df_freq)\n",
        "\n",
        "# Convert the DataFrame to a NumPy array\n",
        "one_hot_labels = one_hot_labels.to_numpy()\n",
        "\n",
        "print(one_hot_labels.shape)"
      ]
    },
    {
      "cell_type": "code",
      "execution_count": 141,
      "metadata": {
        "colab": {
          "base_uri": "https://localhost:8080/"
        },
        "outputId": "9cf17527-f4ee-4cd4-c285-2a3f690ad06d",
        "id": "LewtePj-8p4V"
      },
      "outputs": [
        {
          "output_type": "execute_result",
          "data": {
            "text/plain": [
              "(5216, 6)"
            ]
          },
          "metadata": {},
          "execution_count": 141
        }
      ],
      "source": [
        "Y_freq = one_hot_labels\n",
        "Y_freq.shape"
      ]
    },
    {
      "cell_type": "code",
      "source": [
        "for i, array in enumerate(D_freq):\n",
        "    D_freq[i] = np.pad(array, ((0, 0), (0, 256 - array.shape[1])))\n",
        "D_freq = np.array(D_freq)"
      ],
      "metadata": {
        "id": "6JgyykNi8p4V"
      },
      "execution_count": 142,
      "outputs": []
    },
    {
      "cell_type": "code",
      "source": [
        "D_freq.shape"
      ],
      "metadata": {
        "colab": {
          "base_uri": "https://localhost:8080/"
        },
        "outputId": "91257257-659d-4ccd-e80a-15dd5d83f5eb",
        "id": "i2XIxaET8p4V"
      },
      "execution_count": 143,
      "outputs": [
        {
          "output_type": "execute_result",
          "data": {
            "text/plain": [
              "(5216, 64, 256)"
            ]
          },
          "metadata": {},
          "execution_count": 143
        }
      ]
    },
    {
      "cell_type": "code",
      "execution_count": 144,
      "metadata": {
        "colab": {
          "base_uri": "https://localhost:8080/"
        },
        "outputId": "0fd179a5-a565-4d58-a406-a53f055d6af5",
        "id": "0jXwVKS18p4V"
      },
      "outputs": [
        {
          "output_type": "stream",
          "name": "stdout",
          "text": [
            "((4955, 64, 256), (4955, 6), (261, 64, 256), (261, 6))\n"
          ]
        }
      ],
      "source": [
        "x_train, x_test, y_train, y_test = train_test_split(np.array(D_freq), np.array(Y_freq), test_size=0.05)\n",
        "print((x_train.shape, y_train.shape, x_test.shape, y_test.shape))"
      ]
    },
    {
      "cell_type": "code",
      "execution_count": 145,
      "metadata": {
        "colab": {
          "base_uri": "https://localhost:8080/"
        },
        "outputId": "4ecd9752-2f67-4d96-d111-7ceda1fc31ac",
        "id": "OMh7Uzrp8p4V"
      },
      "outputs": [
        {
          "output_type": "stream",
          "name": "stdout",
          "text": [
            "(4955, 64, 256, 1) (261, 64, 256, 1)\n"
          ]
        }
      ],
      "source": [
        "x_train = x_train.reshape((x_train.shape[0], x_train.shape[1], x_train.shape[2], 1))\n",
        "x_test = x_test.reshape((x_test.shape[0], x_test.shape[1], x_test.shape[2], 1))\n",
        "print(x_train.shape, x_test.shape)"
      ]
    },
    {
      "cell_type": "code",
      "source": [
        "model = Sequential()\n",
        "\n",
        "# Layer 1: Convolutional Layer\n",
        "model.add(Conv2D(32, (3, 3), activation='relu', input_shape=(x_train.shape[1], x_train.shape[2], 1)))\n",
        "model.add(MaxPooling2D(pool_size=(2, 2)))\n",
        "\n",
        "# Layer 2: Convolutional Layer\n",
        "model.add(Conv2D(64, (3, 3), activation='relu'))\n",
        "model.add(MaxPooling2D(pool_size=(2, 2)))\n",
        "\n",
        "# Layer 3: Convolutional Layer\n",
        "model.add(Conv2D(128, (3, 3), activation='relu'))\n",
        "model.add(MaxPooling2D(pool_size=(2, 2)))\n",
        "\n",
        "# Layer 4: Flatten Layer\n",
        "model.add(Flatten())\n",
        "\n",
        "# Layer 5: Fully Connected Layer\n",
        "model.add(Dense(256, activation='relu'))\n",
        "model.add(Dropout(0.5))\n",
        "\n",
        "# Layer 6: Fully Connected Layer\n",
        "model.add(Dense(128, activation='relu'))\n",
        "model.add(Dropout(0.5))\n",
        "\n",
        "# Layer 7: Output Layer\n",
        "model.add(Dense(6, activation='sigmoid'))\n",
        "\n",
        "model.compile(loss='categorical_crossentropy',\n",
        "             optimizer=optimizers.Adam(lr=0.0005),\n",
        "             metrics=['accuracy'])\n",
        "\n",
        "model.summary()"
      ],
      "metadata": {
        "colab": {
          "base_uri": "https://localhost:8080/"
        },
        "outputId": "ebdf8869-ab12-43c2-f8b6-bebaef0756df",
        "id": "wOshA-Nh8p4W"
      },
      "execution_count": 146,
      "outputs": [
        {
          "output_type": "stream",
          "name": "stdout",
          "text": [
            "Model: \"sequential_9\"\n",
            "_________________________________________________________________\n",
            " Layer (type)                Output Shape              Param #   \n",
            "=================================================================\n",
            " conv2d_9 (Conv2D)           (None, 62, 254, 32)       320       \n",
            "                                                                 \n",
            " max_pooling2d_9 (MaxPooling  (None, 31, 127, 32)      0         \n",
            " 2D)                                                             \n",
            "                                                                 \n",
            " conv2d_10 (Conv2D)          (None, 29, 125, 64)       18496     \n",
            "                                                                 \n",
            " max_pooling2d_10 (MaxPoolin  (None, 14, 62, 64)       0         \n",
            " g2D)                                                            \n",
            "                                                                 \n",
            " conv2d_11 (Conv2D)          (None, 12, 60, 128)       73856     \n",
            "                                                                 \n",
            " max_pooling2d_11 (MaxPoolin  (None, 6, 30, 128)       0         \n",
            " g2D)                                                            \n",
            "                                                                 \n",
            " flatten_9 (Flatten)         (None, 23040)             0         \n",
            "                                                                 \n",
            " dense_33 (Dense)            (None, 256)               5898496   \n",
            "                                                                 \n",
            " dropout_24 (Dropout)        (None, 256)               0         \n",
            "                                                                 \n",
            " dense_34 (Dense)            (None, 128)               32896     \n",
            "                                                                 \n",
            " dropout_25 (Dropout)        (None, 128)               0         \n",
            "                                                                 \n",
            " dense_35 (Dense)            (None, 6)                 774       \n",
            "                                                                 \n",
            "=================================================================\n",
            "Total params: 6,024,838\n",
            "Trainable params: 6,024,838\n",
            "Non-trainable params: 0\n",
            "_________________________________________________________________\n"
          ]
        },
        {
          "output_type": "stream",
          "name": "stderr",
          "text": [
            "/usr/local/lib/python3.10/dist-packages/keras/optimizers/legacy/adam.py:117: UserWarning: The `lr` argument is deprecated, use `learning_rate` instead.\n",
            "  super().__init__(name, **kwargs)\n"
          ]
        }
      ]
    },
    {
      "cell_type": "code",
      "execution_count": 147,
      "metadata": {
        "colab": {
          "base_uri": "https://localhost:8080/"
        },
        "outputId": "5162cf18-71b4-41d2-d378-838b16b05638",
        "id": "OlBJLFDb8p4W"
      },
      "outputs": [
        {
          "output_type": "stream",
          "name": "stdout",
          "text": [
            "Epoch 1/50\n",
            "39/39 [==============================] - 3s 57ms/step - loss: 1.8736 - accuracy: 0.2085 - val_loss: 1.6491 - val_accuracy: 0.3525\n",
            "Epoch 2/50\n",
            "39/39 [==============================] - 2s 51ms/step - loss: 1.6492 - accuracy: 0.3092 - val_loss: 1.5099 - val_accuracy: 0.3946\n",
            "Epoch 3/50\n",
            "39/39 [==============================] - 2s 54ms/step - loss: 1.5781 - accuracy: 0.3362 - val_loss: 1.4900 - val_accuracy: 0.3985\n",
            "Epoch 4/50\n",
            "39/39 [==============================] - 2s 51ms/step - loss: 1.5458 - accuracy: 0.3485 - val_loss: 1.4563 - val_accuracy: 0.3908\n",
            "Epoch 5/50\n",
            "39/39 [==============================] - 2s 50ms/step - loss: 1.5265 - accuracy: 0.3588 - val_loss: 1.4571 - val_accuracy: 0.4291\n",
            "Epoch 6/50\n",
            "39/39 [==============================] - 2s 52ms/step - loss: 1.5121 - accuracy: 0.3711 - val_loss: 1.4143 - val_accuracy: 0.4100\n",
            "Epoch 7/50\n",
            "39/39 [==============================] - 2s 51ms/step - loss: 1.4836 - accuracy: 0.3867 - val_loss: 1.4414 - val_accuracy: 0.4176\n",
            "Epoch 8/50\n",
            "39/39 [==============================] - 2s 51ms/step - loss: 1.4681 - accuracy: 0.3992 - val_loss: 1.3746 - val_accuracy: 0.4444\n",
            "Epoch 9/50\n",
            "39/39 [==============================] - 2s 51ms/step - loss: 1.4662 - accuracy: 0.3994 - val_loss: 1.3921 - val_accuracy: 0.4521\n",
            "Epoch 10/50\n",
            "39/39 [==============================] - 2s 55ms/step - loss: 1.4532 - accuracy: 0.4065 - val_loss: 1.3939 - val_accuracy: 0.4444\n",
            "Epoch 11/50\n",
            "39/39 [==============================] - 2s 51ms/step - loss: 1.4319 - accuracy: 0.4137 - val_loss: 1.3415 - val_accuracy: 0.4598\n",
            "Epoch 12/50\n",
            "39/39 [==============================] - 2s 52ms/step - loss: 1.4074 - accuracy: 0.4270 - val_loss: 1.3332 - val_accuracy: 0.4674\n",
            "Epoch 13/50\n",
            "39/39 [==============================] - 2s 51ms/step - loss: 1.4024 - accuracy: 0.4291 - val_loss: 1.3254 - val_accuracy: 0.4636\n",
            "Epoch 14/50\n",
            "39/39 [==============================] - 2s 51ms/step - loss: 1.3663 - accuracy: 0.4531 - val_loss: 1.3262 - val_accuracy: 0.4751\n",
            "Epoch 15/50\n",
            "39/39 [==============================] - 2s 51ms/step - loss: 1.3525 - accuracy: 0.4626 - val_loss: 1.3510 - val_accuracy: 0.4215\n",
            "Epoch 16/50\n",
            "39/39 [==============================] - 2s 53ms/step - loss: 1.3482 - accuracy: 0.4620 - val_loss: 1.2942 - val_accuracy: 0.4866\n",
            "Epoch 17/50\n",
            "39/39 [==============================] - 2s 52ms/step - loss: 1.3307 - accuracy: 0.4731 - val_loss: 1.3301 - val_accuracy: 0.4253\n",
            "Epoch 18/50\n",
            "39/39 [==============================] - 2s 51ms/step - loss: 1.2909 - accuracy: 0.4993 - val_loss: 1.2772 - val_accuracy: 0.4866\n",
            "Epoch 19/50\n",
            "39/39 [==============================] - 2s 50ms/step - loss: 1.2461 - accuracy: 0.5166 - val_loss: 1.2539 - val_accuracy: 0.5096\n",
            "Epoch 20/50\n",
            "39/39 [==============================] - 2s 49ms/step - loss: 1.2154 - accuracy: 0.5267 - val_loss: 1.2737 - val_accuracy: 0.4751\n",
            "Epoch 21/50\n",
            "39/39 [==============================] - 2s 50ms/step - loss: 1.1944 - accuracy: 0.5479 - val_loss: 1.2856 - val_accuracy: 0.4828\n",
            "Epoch 22/50\n",
            "39/39 [==============================] - 2s 50ms/step - loss: 1.1775 - accuracy: 0.5469 - val_loss: 1.2344 - val_accuracy: 0.5249\n",
            "Epoch 23/50\n",
            "39/39 [==============================] - 2s 52ms/step - loss: 1.1125 - accuracy: 0.5800 - val_loss: 1.2386 - val_accuracy: 0.4943\n",
            "Epoch 24/50\n",
            "39/39 [==============================] - 2s 53ms/step - loss: 1.0831 - accuracy: 0.5837 - val_loss: 1.2750 - val_accuracy: 0.4866\n",
            "Epoch 25/50\n",
            "39/39 [==============================] - 2s 50ms/step - loss: 1.0632 - accuracy: 0.5972 - val_loss: 1.3395 - val_accuracy: 0.4751\n",
            "Epoch 26/50\n",
            "39/39 [==============================] - 2s 51ms/step - loss: 1.0421 - accuracy: 0.6095 - val_loss: 1.2524 - val_accuracy: 0.5287\n",
            "Epoch 27/50\n",
            "39/39 [==============================] - 2s 51ms/step - loss: 0.9782 - accuracy: 0.6281 - val_loss: 1.3103 - val_accuracy: 0.5172\n",
            "Epoch 28/50\n",
            "39/39 [==============================] - 2s 50ms/step - loss: 0.9425 - accuracy: 0.6418 - val_loss: 1.2910 - val_accuracy: 0.4904\n",
            "Epoch 29/50\n",
            "39/39 [==============================] - 2s 50ms/step - loss: 0.8984 - accuracy: 0.6636 - val_loss: 1.4062 - val_accuracy: 0.4789\n",
            "Epoch 30/50\n",
            "39/39 [==============================] - 2s 53ms/step - loss: 0.8766 - accuracy: 0.6640 - val_loss: 1.3037 - val_accuracy: 0.5211\n",
            "Epoch 31/50\n",
            "39/39 [==============================] - 2s 54ms/step - loss: 0.8423 - accuracy: 0.6840 - val_loss: 1.3765 - val_accuracy: 0.5096\n",
            "Epoch 32/50\n",
            "39/39 [==============================] - 2s 50ms/step - loss: 0.8014 - accuracy: 0.6936 - val_loss: 1.3503 - val_accuracy: 0.5057\n"
          ]
        }
      ],
      "source": [
        "# Specify thecallbacks for the model\n",
        "callbacks = [EarlyStopping(monitor='val_loss', patience=10)]\n",
        "\n",
        "history = model.fit(x_train, y_train,\n",
        "                    epochs=50,\n",
        "                    batch_size=128,\n",
        "                    validation_data=(x_test, y_test),\n",
        "                    callbacks=callbacks)"
      ]
    }
  ],
  "metadata": {
    "accelerator": "GPU",
    "colab": {
      "provenance": [],
      "gpuType": "T4"
    },
    "gpuClass": "standard",
    "kernelspec": {
      "display_name": "Python 3",
      "name": "python3"
    },
    "language_info": {
      "name": "python"
    }
  },
  "nbformat": 4,
  "nbformat_minor": 0
}